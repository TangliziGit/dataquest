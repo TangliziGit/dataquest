{
 "cells": [
  {
   "cell_type": "code",
   "execution_count": 1,
   "metadata": {
    "collapsed": true
   },
   "outputs": [],
   "source": [
    "from __future__ import print_function"
   ]
  },
  {
   "cell_type": "markdown",
   "metadata": {},
   "source": [
    "#Data Analysis with Pandas"
   ]
  },
  {
   "cell_type": "markdown",
   "metadata": {},
   "source": [
    "##Pandas Internals: DataFrames"
   ]
  },
  {
   "cell_type": "markdown",
   "metadata": {},
   "source": [
    "###1: Shared index"
   ]
  },
  {
   "cell_type": "markdown",
   "metadata": {},
   "source": [
    "DataFrame objects were designed to easily query and interact with many columns, each of which is represented as a Series object. We discussed how Series objects work in the previous mission and in this mission we'll learn about how DataFrames build on Series objects to provide a powerful data analysis toolkit. \n",
    "\n",
    "Series objects maintain data alignment between the index labels and the data values. Since DataFrame objects are, at the core, a collection of columns where each column is a Series, they also maintain alignment along both the columns and the rows. Pandas DataFrames utilize a shared row index across columns, which is an integer index by default. By default, Pandas enforces this shared row index by throwing an error if you read in a CSV where the columns don't contain exactly the same number of elements.\n",
    "\n",
    "Whenever you call a method that returns or prints a DataFrame, the left-most column contains the values for the index. You can use the index attribute to access the values in the index directly as well. For this mission, we're going to continue working with the dataset containing average user and critic ratings from the major film review sites. FiveThirtyEight has compiled the dataset and made it available on their <a href = \"https://github.com/fivethirtyeight/data/tree/master/fandango\">Github repo</a>."
   ]
  },
  {
   "cell_type": "markdown",
   "metadata": {},
   "source": [
    "####Instructions"
   ]
  },
  {
   "cell_type": "markdown",
   "metadata": {},
   "source": [
    "Read in fandango_score_comparison.csv into a DataFrame object named fandango. Then print the first 2 rows of the dataset using the head() method. Finally, print the index of the DataFrame use the index attribute."
   ]
  },
  {
   "cell_type": "code",
   "execution_count": 2,
   "metadata": {
    "collapsed": false
   },
   "outputs": [
    {
     "data": {
      "text/html": [
       "<div>\n",
       "<table border=\"1\" class=\"dataframe\">\n",
       "  <thead>\n",
       "    <tr style=\"text-align: right;\">\n",
       "      <th></th>\n",
       "      <th>FILM</th>\n",
       "      <th>RottenTomatoes</th>\n",
       "      <th>RottenTomatoes_User</th>\n",
       "      <th>Metacritic</th>\n",
       "      <th>Metacritic_User</th>\n",
       "      <th>IMDB</th>\n",
       "      <th>Fandango_Stars</th>\n",
       "      <th>Fandango_Ratingvalue</th>\n",
       "      <th>RT_norm</th>\n",
       "      <th>RT_user_norm</th>\n",
       "      <th>...</th>\n",
       "      <th>IMDB_norm</th>\n",
       "      <th>RT_norm_round</th>\n",
       "      <th>RT_user_norm_round</th>\n",
       "      <th>Metacritic_norm_round</th>\n",
       "      <th>Metacritic_user_norm_round</th>\n",
       "      <th>IMDB_norm_round</th>\n",
       "      <th>Metacritic_user_vote_count</th>\n",
       "      <th>IMDB_user_vote_count</th>\n",
       "      <th>Fandango_votes</th>\n",
       "      <th>Fandango_Difference</th>\n",
       "    </tr>\n",
       "  </thead>\n",
       "  <tbody>\n",
       "    <tr>\n",
       "      <th>0</th>\n",
       "      <td>Avengers: Age of Ultron (2015)</td>\n",
       "      <td>74</td>\n",
       "      <td>86</td>\n",
       "      <td>66</td>\n",
       "      <td>7.1</td>\n",
       "      <td>7.8</td>\n",
       "      <td>5</td>\n",
       "      <td>4.5</td>\n",
       "      <td>3.70</td>\n",
       "      <td>4.3</td>\n",
       "      <td>...</td>\n",
       "      <td>3.90</td>\n",
       "      <td>3.5</td>\n",
       "      <td>4.5</td>\n",
       "      <td>3.5</td>\n",
       "      <td>3.5</td>\n",
       "      <td>4.0</td>\n",
       "      <td>1330</td>\n",
       "      <td>271107</td>\n",
       "      <td>14846</td>\n",
       "      <td>0.5</td>\n",
       "    </tr>\n",
       "    <tr>\n",
       "      <th>1</th>\n",
       "      <td>Cinderella (2015)</td>\n",
       "      <td>85</td>\n",
       "      <td>80</td>\n",
       "      <td>67</td>\n",
       "      <td>7.5</td>\n",
       "      <td>7.1</td>\n",
       "      <td>5</td>\n",
       "      <td>4.5</td>\n",
       "      <td>4.25</td>\n",
       "      <td>4.0</td>\n",
       "      <td>...</td>\n",
       "      <td>3.55</td>\n",
       "      <td>4.5</td>\n",
       "      <td>4.0</td>\n",
       "      <td>3.5</td>\n",
       "      <td>4.0</td>\n",
       "      <td>3.5</td>\n",
       "      <td>249</td>\n",
       "      <td>65709</td>\n",
       "      <td>12640</td>\n",
       "      <td>0.5</td>\n",
       "    </tr>\n",
       "  </tbody>\n",
       "</table>\n",
       "<p>2 rows × 22 columns</p>\n",
       "</div>"
      ],
      "text/plain": [
       "                             FILM  RottenTomatoes  RottenTomatoes_User  \\\n",
       "0  Avengers: Age of Ultron (2015)              74                   86   \n",
       "1               Cinderella (2015)              85                   80   \n",
       "\n",
       "   Metacritic  Metacritic_User  IMDB  Fandango_Stars  Fandango_Ratingvalue  \\\n",
       "0          66              7.1   7.8               5                   4.5   \n",
       "1          67              7.5   7.1               5                   4.5   \n",
       "\n",
       "   RT_norm  RT_user_norm         ...           IMDB_norm  RT_norm_round  \\\n",
       "0     3.70           4.3         ...                3.90            3.5   \n",
       "1     4.25           4.0         ...                3.55            4.5   \n",
       "\n",
       "   RT_user_norm_round  Metacritic_norm_round  Metacritic_user_norm_round  \\\n",
       "0                 4.5                    3.5                         3.5   \n",
       "1                 4.0                    3.5                         4.0   \n",
       "\n",
       "   IMDB_norm_round  Metacritic_user_vote_count  IMDB_user_vote_count  \\\n",
       "0              4.0                        1330                271107   \n",
       "1              3.5                         249                 65709   \n",
       "\n",
       "   Fandango_votes  Fandango_Difference  \n",
       "0           14846                  0.5  \n",
       "1           12640                  0.5  \n",
       "\n",
       "[2 rows x 22 columns]"
      ]
     },
     "execution_count": 2,
     "metadata": {},
     "output_type": "execute_result"
    }
   ],
   "source": [
    "import pandas as pd\n",
    "fandango = pd.read_csv('data/fandango_score_comparison.csv')\n",
    "\n",
    "fandango.head(2)"
   ]
  },
  {
   "cell_type": "code",
   "execution_count": 3,
   "metadata": {
    "collapsed": false
   },
   "outputs": [
    {
     "name": "stdout",
     "output_type": "stream",
     "text": [
      "fandango.index:\n",
      " Int64Index([  0,   1,   2,   3,   4,   5,   6,   7,   8,   9, \n",
      "            ...\n",
      "            136, 137, 138, 139, 140, 141, 142, 143, 144, 145],\n",
      "           dtype='int64', length=146)\n"
     ]
    }
   ],
   "source": [
    "print(\"fandango.index:\\n\", fandango.index)"
   ]
  },
  {
   "cell_type": "markdown",
   "metadata": {},
   "source": [
    "###2: Selecting using integer index"
   ]
  },
  {
   "cell_type": "markdown",
   "metadata": {},
   "source": [
    "In the previous cell, we observed the default integer index that Pandas uses for the DataFrame. In Series, each unique index value refers to a data value but in DataFrames, each index refers to an entire row. We can use the integer index to select rows a few different ways:\n",
    "\n",
    "    # First 5 rows\n",
    "    fandango[0:5]\n",
    "    # From row at 140 and higher\n",
    "    fandango[140:]\n",
    "    # Just row at index 150\n",
    "    fandango.iloc[50]\n",
    "    # Just row at index 45 and 90\n",
    "    fandango.iloc[[45,90]]\n",
    "\n",
    "\n",
    "To select a slice, or a continuous sequence, of rows, use bracket notation, similar to when working with lists. To select an individual row, however, you need to use the <a href = \"http://pandas.pydata.org/pandas-docs/version/0.17.0/generated/pandas.DataFrame.iloc.html\">iloc[] method</a>. The iloc[] method accepts a few different objects for selection:\n",
    "\n",
    "- an integer\n",
    "- list of integers\n",
    "- slice object\n",
    "- Boolean array\n",
    "\n",
    "When selecting an individual row, Pandas will return a Series object but when selecting multiple rows, a DataFrame, representing a subset of the original DataFrame, will be returned."
   ]
  },
  {
   "cell_type": "markdown",
   "metadata": {},
   "source": [
    "####Instructions"
   ]
  },
  {
   "cell_type": "markdown",
   "metadata": {},
   "source": [
    "Return a DataFrame containing just the first and the last row and assign to first_last."
   ]
  },
  {
   "cell_type": "code",
   "execution_count": 4,
   "metadata": {
    "collapsed": false
   },
   "outputs": [
    {
     "data": {
      "text/html": [
       "<div>\n",
       "<table border=\"1\" class=\"dataframe\">\n",
       "  <thead>\n",
       "    <tr style=\"text-align: right;\">\n",
       "      <th></th>\n",
       "      <th>FILM</th>\n",
       "      <th>RottenTomatoes</th>\n",
       "      <th>RottenTomatoes_User</th>\n",
       "      <th>Metacritic</th>\n",
       "      <th>Metacritic_User</th>\n",
       "      <th>IMDB</th>\n",
       "      <th>Fandango_Stars</th>\n",
       "      <th>Fandango_Ratingvalue</th>\n",
       "      <th>RT_norm</th>\n",
       "      <th>RT_user_norm</th>\n",
       "      <th>...</th>\n",
       "      <th>IMDB_norm</th>\n",
       "      <th>RT_norm_round</th>\n",
       "      <th>RT_user_norm_round</th>\n",
       "      <th>Metacritic_norm_round</th>\n",
       "      <th>Metacritic_user_norm_round</th>\n",
       "      <th>IMDB_norm_round</th>\n",
       "      <th>Metacritic_user_vote_count</th>\n",
       "      <th>IMDB_user_vote_count</th>\n",
       "      <th>Fandango_votes</th>\n",
       "      <th>Fandango_Difference</th>\n",
       "    </tr>\n",
       "  </thead>\n",
       "  <tbody>\n",
       "    <tr>\n",
       "      <th>0</th>\n",
       "      <td>Avengers: Age of Ultron (2015)</td>\n",
       "      <td>74</td>\n",
       "      <td>86</td>\n",
       "      <td>66</td>\n",
       "      <td>7.1</td>\n",
       "      <td>7.8</td>\n",
       "      <td>5.0</td>\n",
       "      <td>4.5</td>\n",
       "      <td>3.70</td>\n",
       "      <td>4.30</td>\n",
       "      <td>...</td>\n",
       "      <td>3.90</td>\n",
       "      <td>3.5</td>\n",
       "      <td>4.5</td>\n",
       "      <td>3.5</td>\n",
       "      <td>3.5</td>\n",
       "      <td>4.0</td>\n",
       "      <td>1330</td>\n",
       "      <td>271107</td>\n",
       "      <td>14846</td>\n",
       "      <td>0.5</td>\n",
       "    </tr>\n",
       "    <tr>\n",
       "      <th>145</th>\n",
       "      <td>Kumiko, The Treasure Hunter (2015)</td>\n",
       "      <td>87</td>\n",
       "      <td>63</td>\n",
       "      <td>68</td>\n",
       "      <td>6.4</td>\n",
       "      <td>6.7</td>\n",
       "      <td>3.5</td>\n",
       "      <td>3.5</td>\n",
       "      <td>4.35</td>\n",
       "      <td>3.15</td>\n",
       "      <td>...</td>\n",
       "      <td>3.35</td>\n",
       "      <td>4.5</td>\n",
       "      <td>3.0</td>\n",
       "      <td>3.5</td>\n",
       "      <td>3.0</td>\n",
       "      <td>3.5</td>\n",
       "      <td>19</td>\n",
       "      <td>5289</td>\n",
       "      <td>41</td>\n",
       "      <td>0.0</td>\n",
       "    </tr>\n",
       "  </tbody>\n",
       "</table>\n",
       "<p>2 rows × 22 columns</p>\n",
       "</div>"
      ],
      "text/plain": [
       "                                   FILM  RottenTomatoes  RottenTomatoes_User  \\\n",
       "0        Avengers: Age of Ultron (2015)              74                   86   \n",
       "145  Kumiko, The Treasure Hunter (2015)              87                   63   \n",
       "\n",
       "     Metacritic  Metacritic_User  IMDB  Fandango_Stars  Fandango_Ratingvalue  \\\n",
       "0            66              7.1   7.8             5.0                   4.5   \n",
       "145          68              6.4   6.7             3.5                   3.5   \n",
       "\n",
       "     RT_norm  RT_user_norm         ...           IMDB_norm  RT_norm_round  \\\n",
       "0       3.70          4.30         ...                3.90            3.5   \n",
       "145     4.35          3.15         ...                3.35            4.5   \n",
       "\n",
       "     RT_user_norm_round  Metacritic_norm_round  Metacritic_user_norm_round  \\\n",
       "0                   4.5                    3.5                         3.5   \n",
       "145                 3.0                    3.5                         3.0   \n",
       "\n",
       "     IMDB_norm_round  Metacritic_user_vote_count  IMDB_user_vote_count  \\\n",
       "0                4.0                        1330                271107   \n",
       "145              3.5                          19                  5289   \n",
       "\n",
       "     Fandango_votes  Fandango_Difference  \n",
       "0             14846                  0.5  \n",
       "145              41                  0.0  \n",
       "\n",
       "[2 rows x 22 columns]"
      ]
     },
     "execution_count": 4,
     "metadata": {},
     "output_type": "execute_result"
    }
   ],
   "source": [
    "first_row = 0\n",
    "last_row = fandango.shape[0] - 1\n",
    "\n",
    "first_last = fandango.iloc[[first_row, last_row]]\n",
    "first_last"
   ]
  },
  {
   "cell_type": "markdown",
   "metadata": {},
   "source": [
    "###3: Custom Index"
   ]
  },
  {
   "cell_type": "markdown",
   "metadata": {},
   "source": [
    "The DataFrame object contains a set_index() method that allow you to pass in the column name you'd like Pandas to use as the index for the DataFrame. Pandas by default will return a new DataFrame with the custom index and will drop the specified column from the DataFrame, but the set_index() method contains a few parameters to tweak this behavior:\n",
    "\n",
    "- inplace: if set to True, will set the index to the current DataFrame instead of returning a new one\n",
    "- drop: if set to False, will keep the column you specified for the index in the DataFrame"
   ]
  },
  {
   "cell_type": "markdown",
   "metadata": {
    "collapsed": true
   },
   "source": [
    "####Instructions"
   ]
  },
  {
   "cell_type": "markdown",
   "metadata": {},
   "source": [
    "Use the Pandas DataFrame method set_index to assign the FILM column as the custom index for the DataFrame without the FILM column dropped from the DataFrame. We want to keep the original DataFrame so assign the new DataFrame to fandango_films. \n",
    "\n",
    "Then print the index of fandango_films, which you access using the index attribute."
   ]
  },
  {
   "cell_type": "code",
   "execution_count": 5,
   "metadata": {
    "collapsed": false
   },
   "outputs": [
    {
     "name": "stdout",
     "output_type": "stream",
     "text": [
      "fandango_films.index:\n",
      " Index(['Avengers: Age of Ultron (2015)', 'Cinderella (2015)', 'Ant-Man (2015)',\n",
      "       'Do You Believe? (2015)', 'Hot Tub Time Machine 2 (2015)',\n",
      "       'The Water Diviner (2015)', 'Irrational Man (2015)', 'Top Five (2014)',\n",
      "       'Shaun the Sheep Movie (2015)', 'Love & Mercy (2015)', \n",
      "       ...\n",
      "       'The Woman In Black 2 Angel of Death (2015)', 'Danny Collins (2015)',\n",
      "       'Spare Parts (2015)', 'Serena (2015)', 'Inside Out (2015)',\n",
      "       'Mr. Holmes (2015)', ''71 (2015)', 'Two Days, One Night (2014)',\n",
      "       'Gett: The Trial of Viviane Amsalem (2015)',\n",
      "       'Kumiko, The Treasure Hunter (2015)'],\n",
      "      dtype='object', name='FILM', length=146)\n"
     ]
    }
   ],
   "source": [
    "fandango = pd.read_csv(\"data/fandango_score_comparison.csv\")\n",
    "fandango_films = fandango.set_index('FILM', drop=False)\n",
    "print(\"fandango_films.index:\\n\", fandango_films.index)"
   ]
  },
  {
   "cell_type": "markdown",
   "metadata": {},
   "source": [
    "###4: Selection using custom index"
   ]
  },
  {
   "cell_type": "markdown",
   "metadata": {},
   "source": [
    "Now that we have a custom index, we can select rows using film names instead of by the row number (integer index). To select rows using the custom index, you can use the loc[] method, which mirrors the iloc[] method in usage, or slice using bracket notation:\n",
    "\n",
    "    # Slice using either bracket notation or loc[]\n",
    "    fandango_films[\"Avengers: Age of Ultron (2015)\":\"Hot Tub Time Machine 2 (2015)\"]\n",
    "    fandango_films.loc[\"Avengers: Age of Ultron (2015)\":\"Hot Tub Time Machine 2 (2015)\"]\n",
    "\n",
    "    # Specific movie\n",
    "    fandango_films.loc['Kumiko, The Treasure Hunter (2015)']\n",
    "\n",
    "    # Selecting list of movies\n",
    "    movies = ['Kumiko, The Treasure Hunter (2015)', 'Do You Believe? (2015)', 'Ant-Man (2015)']\n",
    "    fandango_films.loc[movies]\n",
    "\n",
    "When selecting multiple rows, a DataFrame is returned, but when selecting an individual row, a Series object is returned instead. Similar to with Series objects, Pandas will maintain the original integer index even if you specify a custom index so you can still take advantage of selection by row number."
   ]
  },
  {
   "cell_type": "markdown",
   "metadata": {},
   "source": [
    "####Instructions"
   ]
  },
  {
   "cell_type": "markdown",
   "metadata": {},
   "source": [
    "Select just these movies in the following order from fandango_films:\n",
    "\n",
    "- \"The Lazarus Effect (2015)\"\n",
    "- \"Gett: The Trial of Viviane Amsalem (2015)\"\n",
    "- \"Mr. Holmes (2015)\"\n",
    "\n",
    "and assign to best_movies_ever."
   ]
  },
  {
   "cell_type": "code",
   "execution_count": 6,
   "metadata": {
    "collapsed": false
   },
   "outputs": [
    {
     "data": {
      "text/html": [
       "<div>\n",
       "<table border=\"1\" class=\"dataframe\">\n",
       "  <thead>\n",
       "    <tr style=\"text-align: right;\">\n",
       "      <th></th>\n",
       "      <th>FILM</th>\n",
       "      <th>RottenTomatoes</th>\n",
       "      <th>RottenTomatoes_User</th>\n",
       "      <th>Metacritic</th>\n",
       "      <th>Metacritic_User</th>\n",
       "      <th>IMDB</th>\n",
       "      <th>Fandango_Stars</th>\n",
       "      <th>Fandango_Ratingvalue</th>\n",
       "      <th>RT_norm</th>\n",
       "      <th>RT_user_norm</th>\n",
       "      <th>...</th>\n",
       "      <th>IMDB_norm</th>\n",
       "      <th>RT_norm_round</th>\n",
       "      <th>RT_user_norm_round</th>\n",
       "      <th>Metacritic_norm_round</th>\n",
       "      <th>Metacritic_user_norm_round</th>\n",
       "      <th>IMDB_norm_round</th>\n",
       "      <th>Metacritic_user_vote_count</th>\n",
       "      <th>IMDB_user_vote_count</th>\n",
       "      <th>Fandango_votes</th>\n",
       "      <th>Fandango_Difference</th>\n",
       "    </tr>\n",
       "    <tr>\n",
       "      <th>FILM</th>\n",
       "      <th></th>\n",
       "      <th></th>\n",
       "      <th></th>\n",
       "      <th></th>\n",
       "      <th></th>\n",
       "      <th></th>\n",
       "      <th></th>\n",
       "      <th></th>\n",
       "      <th></th>\n",
       "      <th></th>\n",
       "      <th></th>\n",
       "      <th></th>\n",
       "      <th></th>\n",
       "      <th></th>\n",
       "      <th></th>\n",
       "      <th></th>\n",
       "      <th></th>\n",
       "      <th></th>\n",
       "      <th></th>\n",
       "      <th></th>\n",
       "      <th></th>\n",
       "    </tr>\n",
       "  </thead>\n",
       "  <tbody>\n",
       "    <tr>\n",
       "      <th>The Lazarus Effect (2015)</th>\n",
       "      <td>The Lazarus Effect (2015)</td>\n",
       "      <td>14</td>\n",
       "      <td>23</td>\n",
       "      <td>31</td>\n",
       "      <td>4.9</td>\n",
       "      <td>5.2</td>\n",
       "      <td>3.0</td>\n",
       "      <td>3.0</td>\n",
       "      <td>0.70</td>\n",
       "      <td>1.15</td>\n",
       "      <td>...</td>\n",
       "      <td>2.6</td>\n",
       "      <td>0.5</td>\n",
       "      <td>1</td>\n",
       "      <td>1.5</td>\n",
       "      <td>2.5</td>\n",
       "      <td>2.5</td>\n",
       "      <td>62</td>\n",
       "      <td>17691</td>\n",
       "      <td>1651</td>\n",
       "      <td>0</td>\n",
       "    </tr>\n",
       "    <tr>\n",
       "      <th>Gett: The Trial of Viviane Amsalem (2015)</th>\n",
       "      <td>Gett: The Trial of Viviane Amsalem (2015)</td>\n",
       "      <td>100</td>\n",
       "      <td>81</td>\n",
       "      <td>90</td>\n",
       "      <td>7.3</td>\n",
       "      <td>7.8</td>\n",
       "      <td>3.5</td>\n",
       "      <td>3.5</td>\n",
       "      <td>5.00</td>\n",
       "      <td>4.05</td>\n",
       "      <td>...</td>\n",
       "      <td>3.9</td>\n",
       "      <td>5.0</td>\n",
       "      <td>4</td>\n",
       "      <td>4.5</td>\n",
       "      <td>3.5</td>\n",
       "      <td>4.0</td>\n",
       "      <td>19</td>\n",
       "      <td>1955</td>\n",
       "      <td>59</td>\n",
       "      <td>0</td>\n",
       "    </tr>\n",
       "    <tr>\n",
       "      <th>Mr. Holmes (2015)</th>\n",
       "      <td>Mr. Holmes (2015)</td>\n",
       "      <td>87</td>\n",
       "      <td>78</td>\n",
       "      <td>67</td>\n",
       "      <td>7.9</td>\n",
       "      <td>7.4</td>\n",
       "      <td>4.0</td>\n",
       "      <td>4.0</td>\n",
       "      <td>4.35</td>\n",
       "      <td>3.90</td>\n",
       "      <td>...</td>\n",
       "      <td>3.7</td>\n",
       "      <td>4.5</td>\n",
       "      <td>4</td>\n",
       "      <td>3.5</td>\n",
       "      <td>4.0</td>\n",
       "      <td>3.5</td>\n",
       "      <td>33</td>\n",
       "      <td>7367</td>\n",
       "      <td>1348</td>\n",
       "      <td>0</td>\n",
       "    </tr>\n",
       "  </tbody>\n",
       "</table>\n",
       "<p>3 rows × 22 columns</p>\n",
       "</div>"
      ],
      "text/plain": [
       "                                                                                FILM  \\\n",
       "FILM                                                                                   \n",
       "The Lazarus Effect (2015)                                  The Lazarus Effect (2015)   \n",
       "Gett: The Trial of Viviane Amsalem (2015)  Gett: The Trial of Viviane Amsalem (2015)   \n",
       "Mr. Holmes (2015)                                                  Mr. Holmes (2015)   \n",
       "\n",
       "                                           RottenTomatoes  \\\n",
       "FILM                                                        \n",
       "The Lazarus Effect (2015)                              14   \n",
       "Gett: The Trial of Viviane Amsalem (2015)             100   \n",
       "Mr. Holmes (2015)                                      87   \n",
       "\n",
       "                                           RottenTomatoes_User  Metacritic  \\\n",
       "FILM                                                                         \n",
       "The Lazarus Effect (2015)                                   23          31   \n",
       "Gett: The Trial of Viviane Amsalem (2015)                   81          90   \n",
       "Mr. Holmes (2015)                                           78          67   \n",
       "\n",
       "                                           Metacritic_User  IMDB  \\\n",
       "FILM                                                               \n",
       "The Lazarus Effect (2015)                              4.9   5.2   \n",
       "Gett: The Trial of Viviane Amsalem (2015)              7.3   7.8   \n",
       "Mr. Holmes (2015)                                      7.9   7.4   \n",
       "\n",
       "                                           Fandango_Stars  \\\n",
       "FILM                                                        \n",
       "The Lazarus Effect (2015)                             3.0   \n",
       "Gett: The Trial of Viviane Amsalem (2015)             3.5   \n",
       "Mr. Holmes (2015)                                     4.0   \n",
       "\n",
       "                                           Fandango_Ratingvalue  RT_norm  \\\n",
       "FILM                                                                       \n",
       "The Lazarus Effect (2015)                                   3.0     0.70   \n",
       "Gett: The Trial of Viviane Amsalem (2015)                   3.5     5.00   \n",
       "Mr. Holmes (2015)                                           4.0     4.35   \n",
       "\n",
       "                                           RT_user_norm         ...           \\\n",
       "FILM                                                            ...            \n",
       "The Lazarus Effect (2015)                          1.15         ...            \n",
       "Gett: The Trial of Viviane Amsalem (2015)          4.05         ...            \n",
       "Mr. Holmes (2015)                                  3.90         ...            \n",
       "\n",
       "                                           IMDB_norm  RT_norm_round  \\\n",
       "FILM                                                                  \n",
       "The Lazarus Effect (2015)                        2.6            0.5   \n",
       "Gett: The Trial of Viviane Amsalem (2015)        3.9            5.0   \n",
       "Mr. Holmes (2015)                                3.7            4.5   \n",
       "\n",
       "                                           RT_user_norm_round  \\\n",
       "FILM                                                            \n",
       "The Lazarus Effect (2015)                                   1   \n",
       "Gett: The Trial of Viviane Amsalem (2015)                   4   \n",
       "Mr. Holmes (2015)                                           4   \n",
       "\n",
       "                                           Metacritic_norm_round  \\\n",
       "FILM                                                               \n",
       "The Lazarus Effect (2015)                                    1.5   \n",
       "Gett: The Trial of Viviane Amsalem (2015)                    4.5   \n",
       "Mr. Holmes (2015)                                            3.5   \n",
       "\n",
       "                                           Metacritic_user_norm_round  \\\n",
       "FILM                                                                    \n",
       "The Lazarus Effect (2015)                                         2.5   \n",
       "Gett: The Trial of Viviane Amsalem (2015)                         3.5   \n",
       "Mr. Holmes (2015)                                                 4.0   \n",
       "\n",
       "                                           IMDB_norm_round  \\\n",
       "FILM                                                         \n",
       "The Lazarus Effect (2015)                              2.5   \n",
       "Gett: The Trial of Viviane Amsalem (2015)              4.0   \n",
       "Mr. Holmes (2015)                                      3.5   \n",
       "\n",
       "                                           Metacritic_user_vote_count  \\\n",
       "FILM                                                                    \n",
       "The Lazarus Effect (2015)                                          62   \n",
       "Gett: The Trial of Viviane Amsalem (2015)                          19   \n",
       "Mr. Holmes (2015)                                                  33   \n",
       "\n",
       "                                           IMDB_user_vote_count  \\\n",
       "FILM                                                              \n",
       "The Lazarus Effect (2015)                                 17691   \n",
       "Gett: The Trial of Viviane Amsalem (2015)                  1955   \n",
       "Mr. Holmes (2015)                                          7367   \n",
       "\n",
       "                                           Fandango_votes  Fandango_Difference  \n",
       "FILM                                                                            \n",
       "The Lazarus Effect (2015)                            1651                    0  \n",
       "Gett: The Trial of Viviane Amsalem (2015)              59                    0  \n",
       "Mr. Holmes (2015)                                    1348                    0  \n",
       "\n",
       "[3 rows x 22 columns]"
      ]
     },
     "execution_count": 6,
     "metadata": {},
     "output_type": "execute_result"
    }
   ],
   "source": [
    "movies = [\"The Lazarus Effect (2015)\", \"Gett: The Trial of Viviane Amsalem (2015)\", \"Mr. Holmes (2015)\"]\n",
    "\n",
    "best_movies_ever = fandango_films.loc[movies]\n",
    "best_movies_ever"
   ]
  },
  {
   "cell_type": "markdown",
   "metadata": {},
   "source": [
    "###5: Apply() over columns"
   ]
  },
  {
   "cell_type": "markdown",
   "metadata": {},
   "source": [
    "The apply() method in Pandas allows us to specify Python logic that we want evaluated over Series objects in a DataFrame. Recall that rows and columns are both represented as Series objects in a DataFrame. Here are some of the things we can accomplish using the apply() method:\n",
    "\n",
    "- calculate the standard deviations for each numeric column\n",
    "- lower-case all film names in the FILM column\n",
    "\n",
    "The apply() method requires you to pass in a vectorized operation that can be applied over each Series object. By default, the method runs over the DataFrame's columns but you can use the axis parameter to change this (which we'll dive into later). If the vectorized operation usually returns a single value (e.g. the NumPy std() function), a Series object will be returned containing the computed value for each column. If it instead usually returns a value for each element (e.g. multiplying or dividing by 2), a DataFrame will be returned instead with the transformation made over all the values.\n",
    "\n",
    "In the following code cell, we filter to just the float columns and use the the apply() method calculate the standard deviation using the <a href = \"http://docs.scipy.org/doc/numpy/reference/generated/numpy.std.html\">NumPy std() function</a>. Under the hood, Pandas takes advantage of Series objects' vectorized operations to apply the NumPy function for each iteration of the apply() method and return a final Series object."
   ]
  },
  {
   "cell_type": "code",
   "execution_count": 7,
   "metadata": {
    "collapsed": false
   },
   "outputs": [
    {
     "name": "stdout",
     "output_type": "stream",
     "text": [
      "deviations:\n",
      " Metacritic_User               1.505529\n",
      "IMDB                          0.955447\n",
      "Fandango_Stars                0.538532\n",
      "Fandango_Ratingvalue          0.501106\n",
      "RT_norm                       1.503265\n",
      "RT_user_norm                  0.997787\n",
      "Metacritic_norm               0.972522\n",
      "Metacritic_user_nom           0.752765\n",
      "IMDB_norm                     0.477723\n",
      "RT_norm_round                 1.509404\n",
      "RT_user_norm_round            1.003559\n",
      "Metacritic_norm_round         0.987561\n",
      "Metacritic_user_norm_round    0.785412\n",
      "IMDB_norm_round               0.501043\n",
      "Fandango_Difference           0.152141\n",
      "dtype: float64\n"
     ]
    }
   ],
   "source": [
    "import numpy as np\n",
    "\n",
    "# returns the data types as a Series\n",
    "types = fandango_films.dtypes\n",
    "# filter data types to just floats, index attributes returns just column names\n",
    "float_columns = types[types.values == 'float64'].index\n",
    "# use bracket notation to filter columns to just float columns\n",
    "float_df = fandango_films[float_columns]\n",
    "\n",
    "# `x` is a Series object representing a column\n",
    "deviations = float_df.apply(lambda x: np.std(x))\n",
    "\n",
    "print(\"deviations:\\n\", deviations)"
   ]
  },
  {
   "cell_type": "markdown",
   "metadata": {},
   "source": [
    "###6: Apply() over columns, practice"
   ]
  },
  {
   "cell_type": "markdown",
   "metadata": {},
   "source": [
    "Since the NumPy std() method returns a single computed value when applied over a Series, in the previous code cell, the apply() method returned a single value for each column. If you instead used a NumPy function that returns a value for each element in a list (instead of just a single computed value), you can transform all of the values in each column and return a DataFrame with the new values instead. The following code will double all of the values in the float columns:\n",
    "\n",
    "    float_df.apply(lambda x: x*2)\n",
    "\n",
    "This will return a new DataFrame, with each of the values in the float columns doubled, instead of modifying the object inplace."
   ]
  },
  {
   "cell_type": "markdown",
   "metadata": {},
   "source": [
    "####Instructions"
   ]
  },
  {
   "cell_type": "markdown",
   "metadata": {},
   "source": [
    "Transform float_df using the apply() method to halve each value and assign to halved_df. Then print the first row."
   ]
  },
  {
   "cell_type": "code",
   "execution_count": 8,
   "metadata": {
    "collapsed": false
   },
   "outputs": [
    {
     "data": {
      "text/html": [
       "<div>\n",
       "<table border=\"1\" class=\"dataframe\">\n",
       "  <thead>\n",
       "    <tr style=\"text-align: right;\">\n",
       "      <th></th>\n",
       "      <th>Metacritic_User</th>\n",
       "      <th>IMDB</th>\n",
       "      <th>Fandango_Stars</th>\n",
       "      <th>Fandango_Ratingvalue</th>\n",
       "      <th>RT_norm</th>\n",
       "      <th>RT_user_norm</th>\n",
       "      <th>Metacritic_norm</th>\n",
       "      <th>Metacritic_user_nom</th>\n",
       "      <th>IMDB_norm</th>\n",
       "      <th>RT_norm_round</th>\n",
       "      <th>RT_user_norm_round</th>\n",
       "      <th>Metacritic_norm_round</th>\n",
       "      <th>Metacritic_user_norm_round</th>\n",
       "      <th>IMDB_norm_round</th>\n",
       "      <th>Fandango_Difference</th>\n",
       "    </tr>\n",
       "    <tr>\n",
       "      <th>FILM</th>\n",
       "      <th></th>\n",
       "      <th></th>\n",
       "      <th></th>\n",
       "      <th></th>\n",
       "      <th></th>\n",
       "      <th></th>\n",
       "      <th></th>\n",
       "      <th></th>\n",
       "      <th></th>\n",
       "      <th></th>\n",
       "      <th></th>\n",
       "      <th></th>\n",
       "      <th></th>\n",
       "      <th></th>\n",
       "      <th></th>\n",
       "    </tr>\n",
       "  </thead>\n",
       "  <tbody>\n",
       "    <tr>\n",
       "      <th>Avengers: Age of Ultron (2015)</th>\n",
       "      <td>14.2</td>\n",
       "      <td>15.6</td>\n",
       "      <td>10</td>\n",
       "      <td>9</td>\n",
       "      <td>7.4</td>\n",
       "      <td>8.6</td>\n",
       "      <td>6.6</td>\n",
       "      <td>7.1</td>\n",
       "      <td>7.8</td>\n",
       "      <td>7</td>\n",
       "      <td>9</td>\n",
       "      <td>7</td>\n",
       "      <td>7</td>\n",
       "      <td>8</td>\n",
       "      <td>1</td>\n",
       "    </tr>\n",
       "  </tbody>\n",
       "</table>\n",
       "</div>"
      ],
      "text/plain": [
       "                                Metacritic_User  IMDB  Fandango_Stars  \\\n",
       "FILM                                                                    \n",
       "Avengers: Age of Ultron (2015)             14.2  15.6              10   \n",
       "\n",
       "                                Fandango_Ratingvalue  RT_norm  RT_user_norm  \\\n",
       "FILM                                                                          \n",
       "Avengers: Age of Ultron (2015)                     9      7.4           8.6   \n",
       "\n",
       "                                Metacritic_norm  Metacritic_user_nom  \\\n",
       "FILM                                                                   \n",
       "Avengers: Age of Ultron (2015)              6.6                  7.1   \n",
       "\n",
       "                                IMDB_norm  RT_norm_round  RT_user_norm_round  \\\n",
       "FILM                                                                           \n",
       "Avengers: Age of Ultron (2015)        7.8              7                   9   \n",
       "\n",
       "                                Metacritic_norm_round  \\\n",
       "FILM                                                    \n",
       "Avengers: Age of Ultron (2015)                      7   \n",
       "\n",
       "                                Metacritic_user_norm_round  IMDB_norm_round  \\\n",
       "FILM                                                                          \n",
       "Avengers: Age of Ultron (2015)                           7                8   \n",
       "\n",
       "                                Fandango_Difference  \n",
       "FILM                                                 \n",
       "Avengers: Age of Ultron (2015)                    1  "
      ]
     },
     "execution_count": 8,
     "metadata": {},
     "output_type": "execute_result"
    }
   ],
   "source": [
    "double_df = float_df.apply(lambda x: x*2)\n",
    "double_df.head(1)"
   ]
  },
  {
   "cell_type": "code",
   "execution_count": 9,
   "metadata": {
    "collapsed": false
   },
   "outputs": [
    {
     "data": {
      "text/html": [
       "<div>\n",
       "<table border=\"1\" class=\"dataframe\">\n",
       "  <thead>\n",
       "    <tr style=\"text-align: right;\">\n",
       "      <th></th>\n",
       "      <th>Metacritic_User</th>\n",
       "      <th>IMDB</th>\n",
       "      <th>Fandango_Stars</th>\n",
       "      <th>Fandango_Ratingvalue</th>\n",
       "      <th>RT_norm</th>\n",
       "      <th>RT_user_norm</th>\n",
       "      <th>Metacritic_norm</th>\n",
       "      <th>Metacritic_user_nom</th>\n",
       "      <th>IMDB_norm</th>\n",
       "      <th>RT_norm_round</th>\n",
       "      <th>RT_user_norm_round</th>\n",
       "      <th>Metacritic_norm_round</th>\n",
       "      <th>Metacritic_user_norm_round</th>\n",
       "      <th>IMDB_norm_round</th>\n",
       "      <th>Fandango_Difference</th>\n",
       "    </tr>\n",
       "    <tr>\n",
       "      <th>FILM</th>\n",
       "      <th></th>\n",
       "      <th></th>\n",
       "      <th></th>\n",
       "      <th></th>\n",
       "      <th></th>\n",
       "      <th></th>\n",
       "      <th></th>\n",
       "      <th></th>\n",
       "      <th></th>\n",
       "      <th></th>\n",
       "      <th></th>\n",
       "      <th></th>\n",
       "      <th></th>\n",
       "      <th></th>\n",
       "      <th></th>\n",
       "    </tr>\n",
       "  </thead>\n",
       "  <tbody>\n",
       "    <tr>\n",
       "      <th>Avengers: Age of Ultron (2015)</th>\n",
       "      <td>3.55</td>\n",
       "      <td>3.9</td>\n",
       "      <td>2.5</td>\n",
       "      <td>2.25</td>\n",
       "      <td>1.85</td>\n",
       "      <td>2.15</td>\n",
       "      <td>1.65</td>\n",
       "      <td>1.775</td>\n",
       "      <td>1.95</td>\n",
       "      <td>1.75</td>\n",
       "      <td>2.25</td>\n",
       "      <td>1.75</td>\n",
       "      <td>1.75</td>\n",
       "      <td>2</td>\n",
       "      <td>0.25</td>\n",
       "    </tr>\n",
       "  </tbody>\n",
       "</table>\n",
       "</div>"
      ],
      "text/plain": [
       "                                Metacritic_User  IMDB  Fandango_Stars  \\\n",
       "FILM                                                                    \n",
       "Avengers: Age of Ultron (2015)             3.55   3.9             2.5   \n",
       "\n",
       "                                Fandango_Ratingvalue  RT_norm  RT_user_norm  \\\n",
       "FILM                                                                          \n",
       "Avengers: Age of Ultron (2015)                  2.25     1.85          2.15   \n",
       "\n",
       "                                Metacritic_norm  Metacritic_user_nom  \\\n",
       "FILM                                                                   \n",
       "Avengers: Age of Ultron (2015)             1.65                1.775   \n",
       "\n",
       "                                IMDB_norm  RT_norm_round  RT_user_norm_round  \\\n",
       "FILM                                                                           \n",
       "Avengers: Age of Ultron (2015)       1.95           1.75                2.25   \n",
       "\n",
       "                                Metacritic_norm_round  \\\n",
       "FILM                                                    \n",
       "Avengers: Age of Ultron (2015)                   1.75   \n",
       "\n",
       "                                Metacritic_user_norm_round  IMDB_norm_round  \\\n",
       "FILM                                                                          \n",
       "Avengers: Age of Ultron (2015)                        1.75                2   \n",
       "\n",
       "                                Fandango_Difference  \n",
       "FILM                                                 \n",
       "Avengers: Age of Ultron (2015)                 0.25  "
      ]
     },
     "execution_count": 9,
     "metadata": {},
     "output_type": "execute_result"
    }
   ],
   "source": [
    "halved_df = float_df.apply(lambda x: x/2)\n",
    "halved_df.head(1)"
   ]
  },
  {
   "cell_type": "markdown",
   "metadata": {},
   "source": [
    "###7: Apply() over rows"
   ]
  },
  {
   "cell_type": "markdown",
   "metadata": {},
   "source": [
    "So far we've used the default behavior of the apply() method, which operates over the columns in a DataFrame. To apply a function the rows (each row will be treated as a Series object) in a DataFrame, we need to set the axis parameter to 1 after we specify the function we want applied. Applying over the rows allows us to, for example, calculate the standard deviation of multiple column values for each movie:\n",
    "\n",
    "- rt_mt_user = float_df[['RT_user_norm', 'Metacritic_user_nom']]\n",
    "- rt_mt_user.apply(lambda x: np.std(x), axis=1)\n",
    "\n",
    "This code filters the DataFrame to the two we want and then returns a Series object (since std() returns a value for each iteration) containing the standard deviation of each movie's values for RT_user_norm and Metacritic_user_norm."
   ]
  },
  {
   "cell_type": "markdown",
   "metadata": {},
   "source": [
    "####Instructions"
   ]
  },
  {
   "cell_type": "markdown",
   "metadata": {},
   "source": [
    "Use the apply() method to calculate the average of each movie's values for RT_user_norm and Metacritic_user_norm and assign to the variable rt_mt_means. Then print the first 5 values."
   ]
  },
  {
   "cell_type": "code",
   "execution_count": 10,
   "metadata": {
    "collapsed": false
   },
   "outputs": [
    {
     "name": "stdout",
     "output_type": "stream",
     "text": [
      "rt_mt_means[0:5]:\n",
      " FILM\n",
      "Avengers: Age of Ultron (2015)    3.925\n",
      "Cinderella (2015)                 3.875\n",
      "Ant-Man (2015)                    4.275\n",
      "Do You Believe? (2015)            3.275\n",
      "Hot Tub Time Machine 2 (2015)     1.550\n",
      "dtype: float64\n"
     ]
    }
   ],
   "source": [
    "rt_mt_user = float_df[['RT_user_norm', 'Metacritic_user_nom']]\n",
    "rt_mt_means = rt_mt_user.apply(lambda x: np.mean(x), axis=1)\n",
    "print(\"rt_mt_means[0:5]:\\n\", rt_mt_means[0:5])"
   ]
  }
 ],
 "metadata": {
  "kernelspec": {
   "display_name": "Python 3",
   "language": "python",
   "name": "python3"
  },
  "language_info": {
   "codemirror_mode": {
    "name": "ipython",
    "version": 3
   },
   "file_extension": ".py",
   "mimetype": "text/x-python",
   "name": "python",
   "nbconvert_exporter": "python",
   "pygments_lexer": "ipython3",
   "version": "3.4.3"
  }
 },
 "nbformat": 4,
 "nbformat_minor": 0
}
