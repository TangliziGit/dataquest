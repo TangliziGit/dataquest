{
 "cells": [
  {
   "cell_type": "code",
   "execution_count": 1,
   "metadata": {
    "collapsed": true
   },
   "outputs": [],
   "source": [
    "from __future__ import print_function"
   ]
  },
  {
   "cell_type": "markdown",
   "metadata": {},
   "source": [
    "#Data Analysis with Pandas"
   ]
  },
  {
   "cell_type": "markdown",
   "metadata": {},
   "source": [
    "##Pandas Internals: Series"
   ]
  },
  {
   "cell_type": "markdown",
   "metadata": {},
   "source": [
    "###1: Data structures"
   ]
  },
  {
   "cell_type": "markdown",
   "metadata": {},
   "source": [
    "In this mission and the next, we're going to dive into some of Pandas' internals to better understand how Pandas does things under the hood.\n",
    "\n",
    "The three key data structures in Pandas are:\n",
    "\n",
    "- Series (collection of values)\n",
    "- DataFrame (collection of Series objects)\n",
    "- Panel (collection of DataFrame objects)\n",
    "\n",
    "and we'll be focusing on the Series object in this mission.\n",
    "\n",
    "Series objects use NumPy arrays for fast computation but build on them by adding features valuable for analyzing data. For example, while NumPy arrays utilize an integer index, Series objects can utilize other index types, like a string index. Series objects also allow for mixed data types and utilize the NaN Python value for handling missing values.\n",
    "\n",
    "A Series object can hold many data types, including:\n",
    "\n",
    "- float - for representing float values\n",
    "- int - for representing integer values\n",
    "- bool - for representing Boolean values\n",
    "- datetime64[ns] - for representing date & time, without time-zone\n",
    "- datetime64[ns, tz] - for representing date & time, with time-zone\n",
    "- timedelta[ns] - for representing differences in dates & times (seconds, minutes, etc.)\n",
    "- category - for representing categorical values\n",
    "- object - for representing String values\n",
    "\n",
    "Before we dive further, let's introduce the dataset we'll be working with. The FiveThirtyEight team recently released a dataset containing the critics scores for all movies that have substantive user and critic reviews from IMDB, Rotten Tomatoes, Metacritic, and Fandango. We'll be working with the file fandango_score_comparison.csv, which you can download from their <a href = \"https://github.com/fivethirtyeight/data/tree/master/fandango\">Github repo</a>. Here are some of the columns in the dataset:\n",
    "\n",
    "- FILM - film name\n",
    "- RottenTomatoes - Rotten Tomatoes critics average score\n",
    "- RottenTomatoes_User - Rotten Tomatoes user average score\n",
    "- RT_norm - Rotten Tomatoes critics average score (normalized to a 0 to 5 point system)\n",
    "- RT_user-norm - Rotten Tomatoes user average score (normalized to a 0 to 5 point system)\n",
    "- Metacritic - Metacritic critics average score\n",
    "- Metacritic_User - Metacritic user average score\n",
    "\n",
    "The full column list and descriptions are available on the <a href = \"https://github.com/fivethirtyeight/data/tree/master/fandango\">Github repo</a>."
   ]
  },
  {
   "cell_type": "markdown",
   "metadata": {},
   "source": [
    "####Instructions"
   ]
  },
  {
   "cell_type": "markdown",
   "metadata": {},
   "source": [
    "Use the read_csv() function to read in fandango_score_comparison.csv into a DataFrame object called fandango. Then use the head() function to print the first 2 rows."
   ]
  },
  {
   "cell_type": "code",
   "execution_count": 2,
   "metadata": {
    "collapsed": false
   },
   "outputs": [
    {
     "data": {
      "text/html": [
       "<div>\n",
       "<table border=\"1\" class=\"dataframe\">\n",
       "  <thead>\n",
       "    <tr style=\"text-align: right;\">\n",
       "      <th></th>\n",
       "      <th>FILM</th>\n",
       "      <th>RottenTomatoes</th>\n",
       "      <th>RottenTomatoes_User</th>\n",
       "      <th>Metacritic</th>\n",
       "      <th>Metacritic_User</th>\n",
       "      <th>IMDB</th>\n",
       "      <th>Fandango_Stars</th>\n",
       "      <th>Fandango_Ratingvalue</th>\n",
       "      <th>RT_norm</th>\n",
       "      <th>RT_user_norm</th>\n",
       "      <th>...</th>\n",
       "      <th>IMDB_norm</th>\n",
       "      <th>RT_norm_round</th>\n",
       "      <th>RT_user_norm_round</th>\n",
       "      <th>Metacritic_norm_round</th>\n",
       "      <th>Metacritic_user_norm_round</th>\n",
       "      <th>IMDB_norm_round</th>\n",
       "      <th>Metacritic_user_vote_count</th>\n",
       "      <th>IMDB_user_vote_count</th>\n",
       "      <th>Fandango_votes</th>\n",
       "      <th>Fandango_Difference</th>\n",
       "    </tr>\n",
       "  </thead>\n",
       "  <tbody>\n",
       "    <tr>\n",
       "      <th>0</th>\n",
       "      <td>Avengers: Age of Ultron (2015)</td>\n",
       "      <td>74</td>\n",
       "      <td>86</td>\n",
       "      <td>66</td>\n",
       "      <td>7.1</td>\n",
       "      <td>7.8</td>\n",
       "      <td>5</td>\n",
       "      <td>4.5</td>\n",
       "      <td>3.70</td>\n",
       "      <td>4.3</td>\n",
       "      <td>...</td>\n",
       "      <td>3.90</td>\n",
       "      <td>3.5</td>\n",
       "      <td>4.5</td>\n",
       "      <td>3.5</td>\n",
       "      <td>3.5</td>\n",
       "      <td>4.0</td>\n",
       "      <td>1330</td>\n",
       "      <td>271107</td>\n",
       "      <td>14846</td>\n",
       "      <td>0.5</td>\n",
       "    </tr>\n",
       "    <tr>\n",
       "      <th>1</th>\n",
       "      <td>Cinderella (2015)</td>\n",
       "      <td>85</td>\n",
       "      <td>80</td>\n",
       "      <td>67</td>\n",
       "      <td>7.5</td>\n",
       "      <td>7.1</td>\n",
       "      <td>5</td>\n",
       "      <td>4.5</td>\n",
       "      <td>4.25</td>\n",
       "      <td>4.0</td>\n",
       "      <td>...</td>\n",
       "      <td>3.55</td>\n",
       "      <td>4.5</td>\n",
       "      <td>4.0</td>\n",
       "      <td>3.5</td>\n",
       "      <td>4.0</td>\n",
       "      <td>3.5</td>\n",
       "      <td>249</td>\n",
       "      <td>65709</td>\n",
       "      <td>12640</td>\n",
       "      <td>0.5</td>\n",
       "    </tr>\n",
       "  </tbody>\n",
       "</table>\n",
       "<p>2 rows × 22 columns</p>\n",
       "</div>"
      ],
      "text/plain": [
       "                             FILM  RottenTomatoes  RottenTomatoes_User  \\\n",
       "0  Avengers: Age of Ultron (2015)              74                   86   \n",
       "1               Cinderella (2015)              85                   80   \n",
       "\n",
       "   Metacritic  Metacritic_User  IMDB  Fandango_Stars  Fandango_Ratingvalue  \\\n",
       "0          66              7.1   7.8               5                   4.5   \n",
       "1          67              7.5   7.1               5                   4.5   \n",
       "\n",
       "   RT_norm  RT_user_norm         ...           IMDB_norm  RT_norm_round  \\\n",
       "0     3.70           4.3         ...                3.90            3.5   \n",
       "1     4.25           4.0         ...                3.55            4.5   \n",
       "\n",
       "   RT_user_norm_round  Metacritic_norm_round  Metacritic_user_norm_round  \\\n",
       "0                 4.5                    3.5                         3.5   \n",
       "1                 4.0                    3.5                         4.0   \n",
       "\n",
       "   IMDB_norm_round  Metacritic_user_vote_count  IMDB_user_vote_count  \\\n",
       "0              4.0                        1330                271107   \n",
       "1              3.5                         249                 65709   \n",
       "\n",
       "   Fandango_votes  Fandango_Difference  \n",
       "0           14846                  0.5  \n",
       "1           12640                  0.5  \n",
       "\n",
       "[2 rows x 22 columns]"
      ]
     },
     "execution_count": 2,
     "metadata": {},
     "output_type": "execute_result"
    }
   ],
   "source": [
    "import pandas as pd\n",
    "\n",
    "fandango = pd.read_csv('data/fandango_score_comparison.csv')\n",
    "fandango.head(2)"
   ]
  },
  {
   "cell_type": "markdown",
   "metadata": {},
   "source": [
    "###2: Integer index"
   ]
  },
  {
   "cell_type": "markdown",
   "metadata": {},
   "source": [
    "DataFrames use Series objects to represent the columns in the data. When you select a single column from a DataFrame, Pandas will return the Series object representing that column. Each individual Series object in a DataFrame is indexed using the integer data type by default. Each value in the Series has a unique integer index, or position. The integer index is 0-indexed, like most Python data structures, and ranges from 0 to n-1, where n is the number of rows. With an integer index, you can select an individual value in the Series if you know it's position as well as select multiple values by passing in a list of index values (similar to a NumPy array). \n",
    "\n",
    "For both NumPy arrays and Series objects, you can utilize integer index by using bracket notation to slice and select values. Where Series objects diverge from NumPy arrays, however, is the abillity to specify a custom index for the values.\n",
    "\n",
    "To explore this idea further, let's use two Series objects representing the film names and Rotten Tomatoes scores."
   ]
  },
  {
   "cell_type": "markdown",
   "metadata": {},
   "source": [
    "####Instructions"
   ]
  },
  {
   "cell_type": "markdown",
   "metadata": {},
   "source": [
    "Select the FILM column, assign to the variable series_film, and print the first 5 values. Then select the RottenTomatoes column, assign to the variable series_rt, and print the first 5 values."
   ]
  },
  {
   "cell_type": "code",
   "execution_count": 3,
   "metadata": {
    "collapsed": false
   },
   "outputs": [
    {
     "name": "stdout",
     "output_type": "stream",
     "text": [
      "series_film[0:5]:\n",
      " 0    Avengers: Age of Ultron (2015)\n",
      "1                 Cinderella (2015)\n",
      "2                    Ant-Man (2015)\n",
      "3            Do You Believe? (2015)\n",
      "4     Hot Tub Time Machine 2 (2015)\n",
      "Name: FILM, dtype: object\n",
      "series_rt[0:5]:\n",
      " 0    74\n",
      "1    85\n",
      "2    80\n",
      "3    18\n",
      "4    14\n",
      "Name: RottenTomatoes, dtype: int64\n"
     ]
    }
   ],
   "source": [
    "import pandas as pd\n",
    "\n",
    "fandango = pd.read_csv('data/fandango_score_comparison.csv')\n",
    "series_film = fandango['FILM']\n",
    "print(\"series_film[0:5]:\\n\", series_film[0:5])\n",
    "\n",
    "series_rt = fandango['RottenTomatoes']\n",
    "print(\"series_rt[0:5]:\\n\", series_rt[0:5])"
   ]
  },
  {
   "cell_type": "markdown",
   "metadata": {
    "collapsed": true
   },
   "source": [
    "###3: Custom index"
   ]
  },
  {
   "cell_type": "markdown",
   "metadata": {},
   "source": [
    "Both these Series objects are use the same integer index, which means that the value at index 5, for example, would describe the same film in both Series objects (The Water Diviner (2015)). If we had a movie in mind, we need the integer index corresponding to that movie to look up information about it.\n",
    "\n",
    "If we were given just these two Series objects and we wanted to look up the Rotten Tomatoes score for Minions (2015) and Leviathan (2014), we'd have to:\n",
    "- find the integer index corresponding to Minions (2015) in series_film\n",
    "- look up the value at that integer index from series_rt\n",
    "- find the integer index corresponding to Leviathan (2014) in series_film\n",
    "- look up the value at that integer index from series_rt\n",
    "\n",
    "This becomes especially cumbersome as we scale up the problem to looking up information for a larger number of movies. What we really want is a way to look up the Rotten Tomatoes scores for many movies at a time using just one command (and one Series object). To accomplish this, we need to find a way to move away from using an integer index corresponding to the row number and instead use a string index corresponding to the film name. Then we can utilize bracket notation to just pass in a list of strings matching the film names and get back the Rotten Tomatoes scores:\n",
    "\n",
    "    series_custom[['Minions (2015)', 'Leviathan (2014)']]"
   ]
  },
  {
   "cell_type": "markdown",
   "metadata": {},
   "source": [
    "####Instructions"
   ]
  },
  {
   "cell_type": "markdown",
   "metadata": {},
   "source": [
    "Create a new Series object, series_custom, that has a string index (the values from film_names) and contains all of the Rotten Tomatoes scores from series_rt.\n",
    "\n",
    "To create a new Series object:\n",
    "- import Series from pandas\n",
    "- instantiate a new Series object, which takes in a data parameter and an index parameter (<a href = \"http://pandas.pydata.org/pandas-docs/stable/generated/pandas.Series.html#pandas.Series\">documentation</a>)\n",
    "- both of these parameters need to be lists\n",
    "\n",
    "To return a list representation of the values in a Series object, use the <a href = \"http://pandas.pydata.org/pandas-docs/version/0.17.0/generated/pandas.Series.values.html\">values attribute</a> available to Series objects."
   ]
  },
  {
   "cell_type": "code",
   "execution_count": 4,
   "metadata": {
    "collapsed": false
   },
   "outputs": [
    {
     "data": {
      "text/plain": [
       "Minions (2015)      54\n",
       "Leviathan (2014)    99\n",
       "dtype: int64"
      ]
     },
     "execution_count": 4,
     "metadata": {},
     "output_type": "execute_result"
    }
   ],
   "source": [
    "# Import the Series object from pandas\n",
    "from pandas import Series\n",
    "\n",
    "film_names = series_film.values\n",
    "rt_scores = series_rt.values\n",
    "film_names = series_film.values\n",
    "rt_scores = series_rt.values\n",
    "\n",
    "series_custom = Series(rt_scores , index=film_names)\n",
    "series_custom[['Minions (2015)', 'Leviathan (2014)']]"
   ]
  },
  {
   "cell_type": "markdown",
   "metadata": {},
   "source": [
    "###4: Integer index preserved"
   ]
  },
  {
   "cell_type": "markdown",
   "metadata": {},
   "source": [
    "Even though we specified that the Series object use a custom, string index, the object still maintains an internal integer index that we can use for selection. In this way, Series objects act both like a dictionary and a list since we can access values using our custom index (like the keys in a dictionary) or the integer index (like the index in a list)."
   ]
  },
  {
   "cell_type": "markdown",
   "metadata": {},
   "source": [
    "####Instructions"
   ]
  },
  {
   "cell_type": "markdown",
   "metadata": {},
   "source": [
    "Assign the values from index 5 to index 10 to the variable fiveten then print fiveten to verify that you can still utilize integer values for selecting."
   ]
  },
  {
   "cell_type": "code",
   "execution_count": 5,
   "metadata": {
    "collapsed": false
   },
   "outputs": [
    {
     "name": "stdout",
     "output_type": "stream",
     "text": [
      "The Water Diviner (2015)        63\n",
      "Irrational Man (2015)           42\n",
      "Top Five (2014)                 86\n",
      "Shaun the Sheep Movie (2015)    99\n",
      "Love & Mercy (2015)             89\n",
      "dtype: int64\n"
     ]
    }
   ],
   "source": [
    "fiveten = series_custom[5:10]\n",
    "print(fiveten)"
   ]
  },
  {
   "cell_type": "markdown",
   "metadata": {},
   "source": [
    "###5: Reindexing"
   ]
  },
  {
   "cell_type": "markdown",
   "metadata": {},
   "source": [
    "Reindexing is the Pandas way of modifying the alignment between labels (index) and the data (values). The <a href = \"http://pandas.pydata.org/pandas-docs/version/0.17.0/generated/pandas.Series.reindex.html\">reindex() method</a> allows you to specify an alternate ordering of the labels (index) for a Series object. This method takes in a list of strings corresponding to the order of labels you'd like for that Series object. \n",
    "\n",
    "We can use the reindex() method to sort series_custom in alphabetical order by film. To accomplish this, we need to:\n",
    "\n",
    "- return a list representation of the current index using tolist()\n",
    "- sort the index using sorted()\n",
    "- use reindex() to set the new ordered index\n",
    "\n",
    "The following code cell contains the logic to accomplish the first task and we'll leave it upto you to finish the rest."
   ]
  },
  {
   "cell_type": "markdown",
   "metadata": {},
   "source": [
    "####Instructions"
   ]
  },
  {
   "cell_type": "markdown",
   "metadata": {},
   "source": [
    "The list original_index contains the original index. Sort this index using the Python 3 core method sorted() and then pass in the sorted index to the Series method reindex()."
   ]
  },
  {
   "cell_type": "code",
   "execution_count": 6,
   "metadata": {
    "collapsed": true
   },
   "outputs": [],
   "source": [
    "original_index = series_custom.index.tolist()\n",
    "sorted_index = sorted(original_index)\n",
    "sorted_by_index = series_custom.reindex(sorted_index)"
   ]
  },
  {
   "cell_type": "markdown",
   "metadata": {},
   "source": [
    "###6: Sorting"
   ]
  },
  {
   "cell_type": "markdown",
   "metadata": {},
   "source": [
    "We learned how to sort a Series object by the index using the reindex() method in this mission. Sorting by reindexing can be cumbersome if we want to order by the rating (the values in the Series) instead of by film name or for quick exploratory data analysis. To make sorting easier, Pandas comes with a <a href = \"http://pandas.pydata.org/pandas-docs/version/0.17.0/generated/pandas.Series.sort_index.html\">sort_index() method</a>, which returns a Series sorted by the index, and a <a href = \"http://pandas.pydata.org/pandas-docs/version/0.17.0/generated/pandas.Series.sort_values.html\">sort_values() method</a> method, which returns a Series sorted by the values. Since the values representing the Rotten Tomatoes scores are integers, sorting by values will sort in numerically ascending order (low to high) in our case.\n",
    "\n",
    "In both cases, the link between each element's index (film name) and value (score) is preserved. This is known as data alignment and is a key tenet of Pandas that is incredibly important when analyzing data. Unless we specifically change a value or an index, Pandas allows us to assume the linking will be preserved."
   ]
  },
  {
   "cell_type": "markdown",
   "metadata": {},
   "source": [
    "####Instructions"
   ]
  },
  {
   "cell_type": "markdown",
   "metadata": {},
   "source": [
    "Sort series_custom by index using sort_index() and assign to the variable sc2. Sort series_custom by values and assign to the variable sc3. Then print the first 10 values in sc2 and the first 10 values in sc3."
   ]
  },
  {
   "cell_type": "code",
   "execution_count": 8,
   "metadata": {
    "collapsed": false
   },
   "outputs": [
    {
     "name": "stdout",
     "output_type": "stream",
     "text": [
      "sc2[0:10]:\n",
      " '71 (2015)                    97\n",
      "5 Flights Up (2015)           52\n",
      "A Little Chaos (2015)         40\n",
      "A Most Violent Year (2014)    90\n",
      "About Elly (2015)             97\n",
      "Aloha (2015)                  19\n",
      "American Sniper (2015)        72\n",
      "American Ultra (2015)         46\n",
      "Amy (2015)                    97\n",
      "Annie (2014)                  27\n",
      "dtype: int64\n"
     ]
    }
   ],
   "source": [
    "sc2 = series_custom.sort_index()\n",
    "#sc3 = series_custom.sort_values()\n",
    "\n",
    "print(\"sc2[0:10]:\\n\", sc2[0:10])\n",
    "#print(\"sc3[0:10]:\\n\", sc3[0:10])"
   ]
  },
  {
   "cell_type": "markdown",
   "metadata": {},
   "source": [
    "###7: Vectorized operations"
   ]
  },
  {
   "cell_type": "markdown",
   "metadata": {},
   "source": [
    "There are many cases where you want to transform an entire column in a dataset, since a column is really a vector of values. Series objects have powerful support for vectorized operations, which enable you to run computations over an entire column incredibly quickly. Since Pandas builds on top of NumPy, it takes advantage of NumPy's vectorizaton capabilities which generates incredibly optimized, low level C code to loop over the values instead. Using a for loop to iterate over the values in a Series object to run itemwise computations is much slower, especially for larger datasets.\n",
    "\n",
    "You can use any of the standard Python arithmetic operators (+, -, *, and /) to transform every value in a Series object. For example, if we wanted to transform the Rotten Tomatoes scores from a 0 to 100 point scale to a 0 to 10 scale, we can use the Python / division operator to divide the Series by 10:\n",
    "\n",
    "    series_custom/10\n",
    "\n",
    "\n",
    "and we'll get back a new Series object with each value divided by 10. We can even use NumPy functions to transform and run calculations over Series objects:\n",
    "\n",
    "    # Add each value with each other\n",
    "    np.add(series_custom, series_custom)\n",
    "    # Apply sine function to each value\n",
    "    np.sin(series_custom)\n",
    "    # Return the highest value (will return a single value not a Series)\n",
    "    np.max(series_custom)\n",
    "\n",
    "\n",
    "The values in a Series object are treated as an ndarray, the core data type in NumPy. Applying some NumPy functions will return a new Series object while others will return just a single value. <a href = \"http://docs.scipy.org/doc/numpy/reference/generated/numpy.sin.html#numpy.sin\">NumPy's documentation</a> gives you a good sense of the return value for each function. Whenever a NumPy function returns an ndarray usually, when applying a NumPy function over a Series a Series object is returned instead."
   ]
  },
  {
   "cell_type": "markdown",
   "metadata": {},
   "source": [
    "####Instructions"
   ]
  },
  {
   "cell_type": "markdown",
   "metadata": {},
   "source": [
    "The original DataFrame contains the column RT_norm, which represents a normalized score (from 0 to 5) of the Rotten Tomatoes average critics score. Use vectorized operations to normalize series_custom (currently on a 0 to 100 point scale) to a 0 to 5 point scale and assign the new normalized Series object to series_normalized."
   ]
  },
  {
   "cell_type": "code",
   "execution_count": 9,
   "metadata": {
    "collapsed": false
   },
   "outputs": [
    {
     "data": {
      "text/plain": [
       "Avengers: Age of Ultron (2015)    37.0\n",
       "Cinderella (2015)                 42.5\n",
       "Ant-Man (2015)                    40.0\n",
       "Do You Believe? (2015)             9.0\n",
       "Hot Tub Time Machine 2 (2015)      7.0\n",
       "dtype: float64"
      ]
     },
     "execution_count": 9,
     "metadata": {},
     "output_type": "execute_result"
    }
   ],
   "source": [
    "series_normalized = (series_custom/10)*5\n",
    "series_normalized[:5]"
   ]
  },
  {
   "cell_type": "markdown",
   "metadata": {},
   "source": [
    "###8: Comparing and filtering"
   ]
  },
  {
   "cell_type": "markdown",
   "metadata": {},
   "source": [
    "Pandas utilizes vectorized operations everywhere, including when filtering values within a single Series object or comparing 2 different Series objects. For example, to find all films that had above a 50 Rotten Tomatoes average critics rating, running:\n",
    "\n",
    "    series_custom > 50\n",
    "\n",
    "will actually return a Series object with a Boolean value for each film. This is because the filter (> 50) is applied to each value in the Series object. To retrieve the actual films a Series object containing just the films with a rating greater than 50, we need to pass in this Boolean series into the original Series object.\n",
    "\n",
    "To help make it easy to separate complex comparison and filtering logic into modular pieces, Pandas returns Boolean Series objects as the intermediate representation of the logic. We can specify filtering criteria in different variables and chain them together using the & operator, which represents and, as well as the | operator, representing or. Finally, we can utilize a Series object's bracket notation to pass in an expression representing a Boolean Series object to get back the filtered dataset."
   ]
  },
  {
   "cell_type": "markdown",
   "metadata": {},
   "source": [
    "####Instructions"
   ]
  },
  {
   "cell_type": "markdown",
   "metadata": {},
   "source": [
    "In the following code cell, we've written 2 statements, criteria_one and criteria_two, that return Boolean Series objects. Return a filtered Series object that only contains the values where both criteria are true named both_criteria."
   ]
  },
  {
   "cell_type": "code",
   "execution_count": 10,
   "metadata": {
    "collapsed": false
   },
   "outputs": [
    {
     "data": {
      "text/plain": [
       "Avengers: Age of Ultron (2015)    74\n",
       "The Water Diviner (2015)          63\n",
       "Unbroken (2014)                   51\n",
       "Southpaw (2015)                   59\n",
       "Insidious: Chapter 3 (2015)       59\n",
       "dtype: int64"
      ]
     },
     "execution_count": 10,
     "metadata": {},
     "output_type": "execute_result"
    }
   ],
   "source": [
    "# Display\n",
    "criteria_one = series_custom > 50\n",
    "criteria_two = series_custom < 75\n",
    "\n",
    "both_criteria = series_custom[criteria_one & criteria_two]\n",
    "both_criteria[:5]"
   ]
  },
  {
   "cell_type": "markdown",
   "metadata": {},
   "source": [
    "###9: Alignment"
   ]
  },
  {
   "cell_type": "markdown",
   "metadata": {},
   "source": [
    "One of the core tenets of Pandas is data alignment. A Series objects align along indices and DataFrame objects align along both indices and columns. This means that for Series objects, the link between the index labels and the actual values is implicitly preserved across operations and transformations unless we explicitly break the link. For DataFrame objects, the values are linked to the index labels and the column labels and area also preserved unless we explicitly break the link (by reassigning or editing a column or index label, for example).\n",
    "\n",
    "This core tenet allows us to use Pandas well when working with data and is a big advantages over just using NumPy objects. For Series objects in particular, this means we can use the standard Python arithmetic operators (+, -, *, and /) to add, subtract, multiple, and divide the values at each index label for 2 different Series objects.\n",
    "\n",
    "We can take advantage of this functionality to calculate the mean of the Rotten Tomatoes' critics average rating and the Rotten Tomatoes' average user rating."
   ]
  },
  {
   "cell_type": "markdown",
   "metadata": {},
   "source": [
    "####Instructions"
   ]
  },
  {
   "cell_type": "markdown",
   "metadata": {},
   "source": [
    "rt_critics and rt_users are Series objects, that contain the critics average rating and the users average rating for each film. Both Series objects use the same custom string index with the film names. Use the Python arithmetic operators to return a new Series object, named rt_mean, containing the mean of the critics and users rating for each film."
   ]
  },
  {
   "cell_type": "code",
   "execution_count": 11,
   "metadata": {
    "collapsed": false
   },
   "outputs": [
    {
     "data": {
      "text/plain": [
       "FILM\n",
       "Avengers: Age of Ultron (2015)    80.0\n",
       "Cinderella (2015)                 82.5\n",
       "Ant-Man (2015)                    85.0\n",
       "Do You Believe? (2015)            51.0\n",
       "Hot Tub Time Machine 2 (2015)     21.0\n",
       "dtype: float64"
      ]
     },
     "execution_count": 11,
     "metadata": {},
     "output_type": "execute_result"
    }
   ],
   "source": [
    "rt_critics = Series(fandango['RottenTomatoes'].values, index=fandango['FILM'])\n",
    "rt_users = Series(fandango['RottenTomatoes_User'].values, index=fandango['FILM'])\n",
    "\n",
    "rt_mean = (rt_critics + rt_users)/2\n",
    "rt_mean[:5]"
   ]
  }
 ],
 "metadata": {
  "kernelspec": {
   "display_name": "Python 3",
   "language": "python",
   "name": "python3"
  },
  "language_info": {
   "codemirror_mode": {
    "name": "ipython",
    "version": 3
   },
   "file_extension": ".py",
   "mimetype": "text/x-python",
   "name": "python",
   "nbconvert_exporter": "python",
   "pygments_lexer": "ipython3",
   "version": "3.4.3"
  }
 },
 "nbformat": 4,
 "nbformat_minor": 0
}
