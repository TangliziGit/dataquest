{
 "cells": [
  {
   "cell_type": "code",
   "execution_count": 1,
   "metadata": {
    "collapsed": true
   },
   "outputs": [],
   "source": [
    "from __future__ import print_function"
   ]
  },
  {
   "cell_type": "markdown",
   "metadata": {},
   "source": [
    "#Data Analysis with Pandas"
   ]
  },
  {
   "cell_type": "markdown",
   "metadata": {},
   "source": [
    "##Dataframe Basics"
   ]
  },
  {
   "cell_type": "markdown",
   "metadata": {},
   "source": [
    "###1: Read in a CSV file"
   ]
  },
  {
   "cell_type": "markdown",
   "metadata": {
    "collapsed": true
   },
   "source": [
    "The first step, as always, is reading in a csv file.\n",
    "\n",
    "With pandas, we'll need to use the read_csv method.\n",
    "\n",
    "With pandas, the equivalent of a two-dimensional numpy array, or matrix, is called a dataframe."
   ]
  },
  {
   "cell_type": "markdown",
   "metadata": {},
   "source": [
    "####Instructions"
   ]
  },
  {
   "cell_type": "markdown",
   "metadata": {},
   "source": [
    "Read \"food_info.csv\" info food_info."
   ]
  },
  {
   "cell_type": "code",
   "execution_count": 2,
   "metadata": {
    "collapsed": false
   },
   "outputs": [
    {
     "data": {
      "text/html": [
       "<div>\n",
       "<table border=\"1\" class=\"dataframe\">\n",
       "  <thead>\n",
       "    <tr style=\"text-align: right;\">\n",
       "      <th></th>\n",
       "      <th>NDB_No</th>\n",
       "      <th>Shrt_Desc</th>\n",
       "      <th>Water_(g)</th>\n",
       "      <th>Energ_Kcal</th>\n",
       "      <th>Protein_(g)</th>\n",
       "      <th>Lipid_Tot_(g)</th>\n",
       "      <th>Ash_(g)</th>\n",
       "      <th>Carbohydrt_(g)</th>\n",
       "      <th>Fiber_TD_(g)</th>\n",
       "      <th>Sugar_Tot_(g)</th>\n",
       "      <th>...</th>\n",
       "      <th>Vit_K_(µg)</th>\n",
       "      <th>FA_Sat_(g)</th>\n",
       "      <th>FA_Mono_(g)</th>\n",
       "      <th>FA_Poly_(g)</th>\n",
       "      <th>Cholestrl_(mg)</th>\n",
       "      <th>GmWt_1</th>\n",
       "      <th>GmWt_Desc1</th>\n",
       "      <th>GmWt_2</th>\n",
       "      <th>GmWt_Desc2</th>\n",
       "      <th>Refuse_Pct</th>\n",
       "    </tr>\n",
       "  </thead>\n",
       "  <tbody>\n",
       "    <tr>\n",
       "      <th>0</th>\n",
       "      <td>1001</td>\n",
       "      <td>BUTTER,WITH SALT</td>\n",
       "      <td>15.87</td>\n",
       "      <td>717</td>\n",
       "      <td>0.85</td>\n",
       "      <td>81.11</td>\n",
       "      <td>2.11</td>\n",
       "      <td>0.06</td>\n",
       "      <td>0</td>\n",
       "      <td>0.06</td>\n",
       "      <td>...</td>\n",
       "      <td>7.0</td>\n",
       "      <td>51.368</td>\n",
       "      <td>21.021</td>\n",
       "      <td>3.043</td>\n",
       "      <td>215</td>\n",
       "      <td>5.00</td>\n",
       "      <td>1 pat,  (1\" sq, 1/3\" high)</td>\n",
       "      <td>14.2</td>\n",
       "      <td>1 tbsp</td>\n",
       "      <td>0</td>\n",
       "    </tr>\n",
       "    <tr>\n",
       "      <th>1</th>\n",
       "      <td>1002</td>\n",
       "      <td>BUTTER,WHIPPED,W/ SALT</td>\n",
       "      <td>16.72</td>\n",
       "      <td>718</td>\n",
       "      <td>0.49</td>\n",
       "      <td>78.30</td>\n",
       "      <td>1.62</td>\n",
       "      <td>2.87</td>\n",
       "      <td>0</td>\n",
       "      <td>0.06</td>\n",
       "      <td>...</td>\n",
       "      <td>4.6</td>\n",
       "      <td>45.390</td>\n",
       "      <td>19.874</td>\n",
       "      <td>3.331</td>\n",
       "      <td>225</td>\n",
       "      <td>3.80</td>\n",
       "      <td>1 pat,  (1\" sq, 1/3\" high)</td>\n",
       "      <td>9.4</td>\n",
       "      <td>1 tbsp</td>\n",
       "      <td>0</td>\n",
       "    </tr>\n",
       "    <tr>\n",
       "      <th>2</th>\n",
       "      <td>1003</td>\n",
       "      <td>BUTTER OIL,ANHYDROUS</td>\n",
       "      <td>0.24</td>\n",
       "      <td>876</td>\n",
       "      <td>0.28</td>\n",
       "      <td>99.48</td>\n",
       "      <td>0.00</td>\n",
       "      <td>0.00</td>\n",
       "      <td>0</td>\n",
       "      <td>0.00</td>\n",
       "      <td>...</td>\n",
       "      <td>8.6</td>\n",
       "      <td>61.924</td>\n",
       "      <td>28.732</td>\n",
       "      <td>3.694</td>\n",
       "      <td>256</td>\n",
       "      <td>12.80</td>\n",
       "      <td>1 tbsp</td>\n",
       "      <td>205.0</td>\n",
       "      <td>1 cup</td>\n",
       "      <td>0</td>\n",
       "    </tr>\n",
       "    <tr>\n",
       "      <th>3</th>\n",
       "      <td>1004</td>\n",
       "      <td>CHEESE,BLUE</td>\n",
       "      <td>42.41</td>\n",
       "      <td>353</td>\n",
       "      <td>21.40</td>\n",
       "      <td>28.74</td>\n",
       "      <td>5.11</td>\n",
       "      <td>2.34</td>\n",
       "      <td>0</td>\n",
       "      <td>0.50</td>\n",
       "      <td>...</td>\n",
       "      <td>2.4</td>\n",
       "      <td>18.669</td>\n",
       "      <td>7.778</td>\n",
       "      <td>0.800</td>\n",
       "      <td>75</td>\n",
       "      <td>28.35</td>\n",
       "      <td>1 oz</td>\n",
       "      <td>17.0</td>\n",
       "      <td>1 cubic inch</td>\n",
       "      <td>0</td>\n",
       "    </tr>\n",
       "    <tr>\n",
       "      <th>4</th>\n",
       "      <td>1005</td>\n",
       "      <td>CHEESE,BRICK</td>\n",
       "      <td>41.11</td>\n",
       "      <td>371</td>\n",
       "      <td>23.24</td>\n",
       "      <td>29.68</td>\n",
       "      <td>3.18</td>\n",
       "      <td>2.79</td>\n",
       "      <td>0</td>\n",
       "      <td>0.51</td>\n",
       "      <td>...</td>\n",
       "      <td>2.5</td>\n",
       "      <td>18.764</td>\n",
       "      <td>8.598</td>\n",
       "      <td>0.784</td>\n",
       "      <td>94</td>\n",
       "      <td>132.00</td>\n",
       "      <td>1 cup, diced</td>\n",
       "      <td>113.0</td>\n",
       "      <td>1 cup, shredded</td>\n",
       "      <td>0</td>\n",
       "    </tr>\n",
       "  </tbody>\n",
       "</table>\n",
       "<p>5 rows × 53 columns</p>\n",
       "</div>"
      ],
      "text/plain": [
       "   NDB_No               Shrt_Desc  Water_(g)  Energ_Kcal  Protein_(g)  \\\n",
       "0    1001        BUTTER,WITH SALT      15.87         717         0.85   \n",
       "1    1002  BUTTER,WHIPPED,W/ SALT      16.72         718         0.49   \n",
       "2    1003    BUTTER OIL,ANHYDROUS       0.24         876         0.28   \n",
       "3    1004             CHEESE,BLUE      42.41         353        21.40   \n",
       "4    1005            CHEESE,BRICK      41.11         371        23.24   \n",
       "\n",
       "   Lipid_Tot_(g)  Ash_(g)  Carbohydrt_(g)  Fiber_TD_(g)  Sugar_Tot_(g)  \\\n",
       "0          81.11     2.11            0.06             0           0.06   \n",
       "1          78.30     1.62            2.87             0           0.06   \n",
       "2          99.48     0.00            0.00             0           0.00   \n",
       "3          28.74     5.11            2.34             0           0.50   \n",
       "4          29.68     3.18            2.79             0           0.51   \n",
       "\n",
       "      ...      Vit_K_(µg)  FA_Sat_(g)  FA_Mono_(g)  FA_Poly_(g)  \\\n",
       "0     ...             7.0      51.368       21.021        3.043   \n",
       "1     ...             4.6      45.390       19.874        3.331   \n",
       "2     ...             8.6      61.924       28.732        3.694   \n",
       "3     ...             2.4      18.669        7.778        0.800   \n",
       "4     ...             2.5      18.764        8.598        0.784   \n",
       "\n",
       "   Cholestrl_(mg)  GmWt_1                  GmWt_Desc1  GmWt_2  \\\n",
       "0             215    5.00  1 pat,  (1\" sq, 1/3\" high)    14.2   \n",
       "1             225    3.80  1 pat,  (1\" sq, 1/3\" high)     9.4   \n",
       "2             256   12.80                      1 tbsp   205.0   \n",
       "3              75   28.35                        1 oz    17.0   \n",
       "4              94  132.00                1 cup, diced   113.0   \n",
       "\n",
       "        GmWt_Desc2  Refuse_Pct  \n",
       "0           1 tbsp           0  \n",
       "1           1 tbsp           0  \n",
       "2            1 cup           0  \n",
       "3     1 cubic inch           0  \n",
       "4  1 cup, shredded           0  \n",
       "\n",
       "[5 rows x 53 columns]"
      ]
     },
     "execution_count": 2,
     "metadata": {},
     "output_type": "execute_result"
    }
   ],
   "source": [
    "import pandas\n",
    "\n",
    "food_info = pandas.read_csv(\"data/food_info.csv\", encoding = \"latin-1\")\n",
    "food_info[:5]"
   ]
  },
  {
   "cell_type": "markdown",
   "metadata": {},
   "source": [
    "###2: Indexing data with pandas"
   ]
  },
  {
   "cell_type": "markdown",
   "metadata": {},
   "source": [
    "Indexing in pandas is slightly different from in numpy.\n",
    "\n",
    "We need to use the .iloc[] method (note how it uses square brackets instead of parentheses).\n",
    "\n",
    "- numpy_array[0,0]\n",
    "- numpy_array[:,0]\n",
    "- numpy_array[0,:]\n",
    "\n",
    "The above lines of code will get the first element of the first row, the whole first column, and the whole first row from a numpy array, respectively.\n",
    "\n",
    "- pandas_dataframe.iloc[0,0]\n",
    "- pandas_dataframe.iloc[:,0]\n",
    "- pandas_dataframe.iloc[0,:]  \n",
    "\n",
    "The above is the equivalent indexing in a pandas dataframe."
   ]
  },
  {
   "cell_type": "markdown",
   "metadata": {},
   "source": [
    "####Instructions"
   ]
  },
  {
   "cell_type": "markdown",
   "metadata": {},
   "source": [
    "Assign the second row of food_info to the variable second_row.\n",
    "\n",
    "Assign the tenth row of food_info to the variable tenth_row."
   ]
  },
  {
   "cell_type": "code",
   "execution_count": 3,
   "metadata": {
    "collapsed": false
   },
   "outputs": [
    {
     "name": "stdout",
     "output_type": "stream",
     "text": [
      "food_info.iloc[0,:10]:\n",
      " NDB_No                        1001\n",
      "Shrt_Desc         BUTTER,WITH SALT\n",
      "Water_(g)                    15.87\n",
      "Energ_Kcal                     717\n",
      "Protein_(g)                   0.85\n",
      "Lipid_Tot_(g)                81.11\n",
      "Ash_(g)                       2.11\n",
      "Carbohydrt_(g)                0.06\n",
      "Fiber_TD_(g)                     0\n",
      "Sugar_Tot_(g)                 0.06\n",
      "Name: 0, dtype: object\n"
     ]
    }
   ],
   "source": [
    "# Print first row of data.\n",
    "print(\"food_info.iloc[0,:10]:\\n\", food_info.iloc[0,:10])\n",
    "\n",
    "# Assign second row.\n",
    "second_row = food_info.iloc[1,:]\n",
    "\n",
    "# Assign tenth row.\n",
    "tenth_row = food_info.iloc[9,:]"
   ]
  },
  {
   "cell_type": "markdown",
   "metadata": {},
   "source": [
    "###3: Index a series"
   ]
  },
  {
   "cell_type": "markdown",
   "metadata": {},
   "source": [
    "What we call a vector or a one-dimensional array is called a series in pandas.\n",
    "\n",
    "We index a series without using .iloc[]."
   ]
  },
  {
   "cell_type": "markdown",
   "metadata": {},
   "source": [
    "####Instructions"
   ]
  },
  {
   "cell_type": "markdown",
   "metadata": {},
   "source": [
    "Assign the first 20 items in the second row to first_20_items_in_second_row.\n",
    "\n",
    "Assign the first 10 items in the first column to first_10_items_in_first_column."
   ]
  },
  {
   "cell_type": "code",
   "execution_count": 4,
   "metadata": {
    "collapsed": false
   },
   "outputs": [],
   "source": [
    "# Assin a series.\n",
    "first_row = food_info.iloc[0,:]\n",
    "\n",
    "# Assign first 10 items from first row.\n",
    "first_ten_items_in_first_row = first_row[0:10]\n",
    "first_ten_items_in_first_row = food_info.iloc[0,:][0:10]\n",
    "\n",
    "# Assign first 20 items from second row.\n",
    "first_20_items_in_second_row = food_info.iloc[1,:][0:20]\n",
    "\n",
    "# Assign first 10 items from first column.\n",
    "first_10_items_in_first_column = food_info.iloc[:,0][0:10]"
   ]
  },
  {
   "cell_type": "markdown",
   "metadata": {},
   "source": [
    "###4: Get column by name"
   ]
  },
  {
   "cell_type": "markdown",
   "metadata": {},
   "source": [
    "One cool thing about pandas is that we can get columns with their names, instead of only by number."
   ]
  },
  {
   "cell_type": "markdown",
   "metadata": {},
   "source": [
    "####Instructions"
   ]
  },
  {
   "cell_type": "markdown",
   "metadata": {},
   "source": [
    "Assign the FA_Sat_(g) column to the variable saturated_fat.\n",
    "\n",
    "Assign the Cholestrl_(mg) to the variable cholesterol."
   ]
  },
  {
   "cell_type": "code",
   "execution_count": 5,
   "metadata": {
    "collapsed": false
   },
   "outputs": [
    {
     "name": "stdout",
     "output_type": "stream",
     "text": [
      "list(food_info.columns.values):\n",
      " ['NDB_No', 'Shrt_Desc', 'Water_(g)', 'Energ_Kcal', 'Protein_(g)', 'Lipid_Tot_(g)', 'Ash_(g)', 'Carbohydrt_(g)', 'Fiber_TD_(g)', 'Sugar_Tot_(g)', 'Calcium_(mg)', 'Iron_(mg)', 'Magnesium_(mg)', 'Phosphorus_(mg)', 'Potassium_(mg)', 'Sodium_(mg)', 'Zinc_(mg)', 'Copper_mg)', 'Manganese_(mg)', 'Selenium_(µg)', 'Vit_C_(mg)', 'Thiamin_(mg)', 'Riboflavin_(mg)', 'Niacin_(mg)', 'Panto_Acid_mg)', 'Vit_B6_(mg)', 'Folate_Tot_(µg)', 'Folic_Acid_(µg)', 'Food_Folate_(µg)', 'Folate_DFE_(µg)', 'Choline_Tot_ (mg)', 'Vit_B12_(µg)', 'Vit_A_IU', 'Vit_A_RAE', 'Retinol_(µg)', 'Alpha_Carot_(µg)', 'Beta_Carot_(µg)', 'Beta_Crypt_(µg)', 'Lycopene_(µg)', 'Lut+Zea_ (µg)', 'Vit_E_(mg)', 'Vit_D_µg', 'Vit_D_IU', 'Vit_K_(µg)', 'FA_Sat_(g)', 'FA_Mono_(g)', 'FA_Poly_(g)', 'Cholestrl_(mg)', 'GmWt_1', 'GmWt_Desc1', 'GmWt_2', 'GmWt_Desc2', 'Refuse_Pct']\n",
      "food_info['Protein_(g)'][0:10]:\n",
      " 0     0.85\n",
      "1     0.49\n",
      "2     0.28\n",
      "3    21.40\n",
      "4    23.24\n",
      "5    20.75\n",
      "6    19.80\n",
      "7    25.18\n",
      "8    22.87\n",
      "9    23.37\n",
      "Name: Protein_(g), dtype: float64\n"
     ]
    }
   ],
   "source": [
    "# Print names of all the columns (in order).\n",
    "print(\"list(food_info.columns.values):\\n\", list(food_info.columns.values))\n",
    "\n",
    "# Print a particular column.\n",
    "print(\"food_info['Protein_(g)'][0:10]:\\n\", food_info[\"Protein_(g)\"][0:10])\n",
    "\n",
    "# Assign particular columns.\n",
    "sodium_column = food_info[\"Sodium_(mg)\"]\n",
    "saturated_fat = food_info[\"FA_Sat_(g)\"]\n",
    "cholesterol = food_info[\"Cholestrl_(mg)\"]"
   ]
  },
  {
   "cell_type": "markdown",
   "metadata": {},
   "source": [
    "###5: Getting multiple columns by name"
   ]
  },
  {
   "cell_type": "markdown",
   "metadata": {},
   "source": [
    "We can get a single column by passing in a name, but we can also get multiple columns by passing in a list of names."
   ]
  },
  {
   "cell_type": "markdown",
   "metadata": {},
   "source": [
    "####Instructions"
   ]
  },
  {
   "cell_type": "markdown",
   "metadata": {},
   "source": [
    "Assign the 'Zinc_(mg)' and 'Copper_(mg)' columns to zinc_and_copper.\n",
    "\n",
    "Assign the 'Selenium_(mcg)' and 'Thiamin_(mg)' columns to selenium_and_thiamin.\n",
    "\n",
    "Make sure that you get the columns in order (zinc and selenium come first)."
   ]
  },
  {
   "cell_type": "code",
   "execution_count": 6,
   "metadata": {
    "collapsed": false
   },
   "outputs": [],
   "source": [
    "#print(food_info.columns.values)\n",
    "\n",
    "# Rename copper and selenium columns.\n",
    "food_info = food_info.rename(columns={'Copper_mg)': 'Copper_(mg)'})\n",
    "food_info = food_info.rename(columns={'Selenium_(\\xb5g)': 'Selenium_(mcg)'})\n",
    "\n",
    "# Assign fiber and suger columns.\n",
    "column_list = ['Fiber_TD_(g)', 'Sugar_Tot_(g)']\n",
    "fiber_and_sugar = food_info[column_list]\n",
    "\n",
    "# Assign zinc and copper columns.\n",
    "zinc_and_copper = food_info[['Zinc_(mg)', 'Copper_(mg)']]\n",
    "\n",
    "# Assign selenium and thiamin columns.\n",
    "selenium_and_thiamin = food_info[['Selenium_(mcg)', 'Thiamin_(mg)']]"
   ]
  },
  {
   "cell_type": "markdown",
   "metadata": {},
   "source": [
    "###6: Math with columns"
   ]
  },
  {
   "cell_type": "markdown",
   "metadata": {},
   "source": [
    "We can do math with vectors (or, as we are more familiar with them as, columns).\n",
    "\n",
    "Adding two columns will go through and add each value at each position to the corresponding value in the same position.\n",
    "\n",
    "First, the values at index 0 will be added, then the values at index 1, and so on.\n",
    "\n",
    "At the end, you'll have a new vector with all of the sums.\n",
    "\n",
    "In order to do this kind of math, the vectors all need to be the same length (have the same number of elements)."
   ]
  },
  {
   "cell_type": "markdown",
   "metadata": {},
   "source": [
    "####Instructions"
   ]
  },
  {
   "cell_type": "markdown",
   "metadata": {},
   "source": [
    "Assign the number of grams of protein per gram of water (\"Protein_(g)\" column divided by \"Water_(g)\" column) to grams_of_protein_per_gram_of_water.\n",
    "\n",
    "Assign the total amount of calcium and iron(\"Calcium_(mg)\" column plus \"Iron_(mg)\" column) to milligrams_of_calcium_and_iron."
   ]
  },
  {
   "cell_type": "code",
   "execution_count": 7,
   "metadata": {
    "collapsed": false
   },
   "outputs": [],
   "source": [
    "# Sum fat columns.\n",
    "total_fat = food_info[\"FA_Sat_(g)\"] + food_info[\"FA_Mono_(g)\"] + food_info[\"FA_Poly_(g)\"]\n",
    "\n",
    "# Protein per calorie.\n",
    "grams_of_protein_per_calorie = food_info[\"Protein_(g)\"] / food_info[\"Energ_Kcal\"]\n",
    "\n",
    "# Protein squared.\n",
    "grams_of_protein_squared = food_info[\"Protein_(g)\"] * food_info[\"Protein_(g)\"]\n",
    "\n",
    "# Non-sugar carbohydrates.\n",
    "non_sugar_carbs = food_info[\"Carbohydrt_(g)\"] - food_info[\"Sugar_Tot_(g)\"]\n",
    "\n",
    "# Protein per water.\n",
    "grams_of_protein_per_gram_of_water = food_info[\"Protein_(g)\"] / food_info[\"Water_(g)\"]\n",
    "\n",
    "# Sum calcium and iron.\n",
    "milligrams_of_calcium_and_iron = food_info[\"Calcium_(mg)\"] + food_info[\"Iron_(mg)\"]"
   ]
  },
  {
   "cell_type": "markdown",
   "metadata": {},
   "source": [
    "###7: Math with scalars"
   ]
  },
  {
   "cell_type": "markdown",
   "metadata": {},
   "source": [
    "We can also do math with a vector (column) and a scalar (single numbers).\n",
    "\n",
    "food_info[\"Iron_(mg)\"] / 1000  \n",
    "\n",
    "The statement above will divide each item in the \"Iron_(mg)\" column by 1000, converting the values from milligrams to grams.\n",
    "\n",
    "Multiplying by scalars can be a good way to manipulate values in columns."
   ]
  },
  {
   "cell_type": "markdown",
   "metadata": {},
   "source": [
    "####Instructions"
   ]
  },
  {
   "cell_type": "markdown",
   "metadata": {},
   "source": [
    "Assign the number of grams of \"Sodium_(mg)\" to the variable sodium_grams (divide the column by 1000).\n",
    "\n",
    "Assign the number of milligrams of \"Sugar_Tot_(g)\" to the variable sugar_milligrams (multiply the column by 1000)."
   ]
  },
  {
   "cell_type": "code",
   "execution_count": 8,
   "metadata": {
    "collapsed": false
   },
   "outputs": [],
   "source": [
    "# Divide the protein column by a scalar to get kilograms.\n",
    "protein_kilograms = food_info[\"Protein_(g)\"] / 1000\n",
    "\n",
    "# Subtract 5 grams from carbohydrates.\n",
    "lowered_carbs = food_info[\"Carbohydrt_(g)\"] - 5\n",
    "\n",
    "# Assign the number of grams of \"Sodium_(mg)\" to the variable sodium_grams.\n",
    "sodium_grams = food_info[\"Sodium_(mg)\"] / 1000\n",
    "\n",
    "# Assign the number of milligrams of \"Sugar_Tot_(g)\" to the variable sugar_milligrams.\n",
    "sugar_milligrams = food_info[\"Sugar_Tot_(g)\"] * 1000"
   ]
  },
  {
   "cell_type": "markdown",
   "metadata": {},
   "source": [
    "###8: Sorting columns"
   ]
  },
  {
   "cell_type": "markdown",
   "metadata": {},
   "source": [
    "We can also sort the dataframe by the values in a column.\n",
    "\n",
    "To do this, we use the .sort method, which returns a new dataframe sorted according to the specified criteria."
   ]
  },
  {
   "cell_type": "markdown",
   "metadata": {},
   "source": [
    "####Instructions"
   ]
  },
  {
   "cell_type": "markdown",
   "metadata": {},
   "source": [
    "Sort by the amount of \"Sodium_(mg)\", with the largest value on top (descending sort). Assign the result to descending_sodium.\n",
    "\n",
    "Sort by the amount of \"Vit_C_(mg)\", with the smallest value on top (ascending sort). Assign the result to ascending_vitamin_c."
   ]
  },
  {
   "cell_type": "code",
   "execution_count": 9,
   "metadata": {
    "collapsed": false
   },
   "outputs": [
    {
     "name": "stdout",
     "output_type": "stream",
     "text": [
      "ascending_vitamin_c.iloc[0,:10]:\n",
      " NDB_No                        1001\n",
      "Shrt_Desc         BUTTER,WITH SALT\n",
      "Water_(g)                    15.87\n",
      "Energ_Kcal                     717\n",
      "Protein_(g)                   0.85\n",
      "Lipid_Tot_(g)                81.11\n",
      "Ash_(g)                       2.11\n",
      "Carbohydrt_(g)                0.06\n",
      "Fiber_TD_(g)                     0\n",
      "Sugar_Tot_(g)                 0.06\n",
      "Name: 0, dtype: object\n"
     ]
    }
   ],
   "source": [
    "# Sort foods by amount of fat.\n",
    "descending_fat = food_info.sort([\"Lipid_Tot_(g)\"], ascending=[False])\n",
    "\n",
    "# Print the most fatty food in the data.\n",
    "#print(descending_fat.iloc[0,:])\n",
    "\n",
    "# Reverse the sort order.\n",
    "ascending_fat = food_info.sort([\"Lipid_Tot_(g)\"], ascending=[True])\n",
    "\n",
    "# The least fatty food has no fat at all.\n",
    "#print(ascending_fat.iloc[0,:])\n",
    "\n",
    "# Sort by the amount of sodium.\n",
    "descending_sodium = food_info.sort([\"Sodium_(mg)\"], ascending=[False])\n",
    "\n",
    "# Sort by the amount of vitamin C.\n",
    "ascending_vitamin_c = food_info.sort([\"Vit_C_(mg)\"], ascending=[True])\n",
    "\n",
    "print(\"ascending_vitamin_c.iloc[0,:10]:\\n\", ascending_vitamin_c.iloc[0,:10])"
   ]
  },
  {
   "cell_type": "markdown",
   "metadata": {},
   "source": [
    "###9: Multicolumn sort"
   ]
  },
  {
   "cell_type": "markdown",
   "metadata": {},
   "source": [
    "We only sorted on the value of a single column before, but we can also sort based on multiple columns.\n",
    "\n",
    "The first column in the list will be sorted on first. Any rows that have the same value for the first column will be sorted based on the second column, and so on until all of the given columns are used.\n",
    "\n",
    "We can specify different sort orders for each column using the ascending argument."
   ]
  },
  {
   "cell_type": "markdown",
   "metadata": {},
   "source": [
    "####Instructions"
   ]
  },
  {
   "cell_type": "markdown",
   "metadata": {},
   "source": [
    "Perform a multicolumn sort on food_info, with the first column being \"Sugar_Tot_(g)\" ascending, and the second being \"Zinc_(mg)\" descending. Assign the result to ascending_sugar_then_descending_zinc.\n",
    "\n",
    "Perform a multicolumn sort on food_info, with the first column being \"Cholestrl_(mg)\" descending, and the second being \"Protein_(g)\" ascending. Assign the result to descending_cholesterol_then_ascending_protein."
   ]
  },
  {
   "cell_type": "code",
   "execution_count": 10,
   "metadata": {
    "collapsed": false
   },
   "outputs": [
    {
     "name": "stdout",
     "output_type": "stream",
     "text": [
      "descending_cholesterol_then_ascending_protein.iloc[0,:10]:\n",
      " NDB_No                                                17189\n",
      "Shrt_Desc         VEAL,VAR MEATS&BY-PRODUCTS,BRAIN,CKD,BRSD\n",
      "Water_(g)                                             76.89\n",
      "Energ_Kcal                                              136\n",
      "Protein_(g)                                           11.48\n",
      "Lipid_Tot_(g)                                          9.63\n",
      "Ash_(g)                                                 1.4\n",
      "Carbohydrt_(g)                                            0\n",
      "Fiber_TD_(g)                                              0\n",
      "Sugar_Tot_(g)                                           NaN\n",
      "Name: 5287, dtype: object\n"
     ]
    }
   ],
   "source": [
    "# Perform a multicolumn sort, with first column \"Lipid_Tot_(g)\" ascending, and the second \"Sodium_(mg)\" ascending\n",
    "ascending_fat_then_ascending_sodium = food_info.sort([\"Lipid_Tot_(g)\", \"Sodium_(mg)\"], ascending=[True, True])\n",
    "\n",
    "# Print the multicolumn sort\n",
    "#print ascending_fat_then_ascending_sodium.iloc[0,:]\n",
    "\n",
    "# Perform a multicolumn sort, with first column \"Lipid_Tot_(g)\" ascending, and the second \"Sodium_(mg)\" descending\n",
    "ascending_fat_then_descending_sodium = food_info.sort([\"Lipid_Tot_(g)\", \"Sodium_(mg)\"], ascending=[True, False])\n",
    "\n",
    "# Print the multicolumn sort\n",
    "#print(ascending_fat_then_descending_sodium.iloc[0,:])\n",
    "\n",
    "# Perform a multicolumn sort, with first column \"Sugar_Tot_(g)\" ascending, and the second \"Zinc_(mg)\" descending\n",
    "ascending_sugar_then_descending_zinc = food_info.sort([\"Sugar_Tot_(g)\", \"Zinc_(mg)\"], ascending=[True, False])\n",
    "\n",
    "# Perform a multicolumn sort, with first column \"Cholestrl_(mg)\" descending, and the second \"Protein_(g)\" ascending\n",
    "descending_cholesterol_then_ascending_protein = food_info.sort([\"Cholestrl_(mg)\", \"Protein_(g)\"], ascending=[False, True])\n",
    "\n",
    "print(\"descending_cholesterol_then_ascending_protein.iloc[0,:10]:\\n\", descending_cholesterol_then_ascending_protein.iloc[0,:10])"
   ]
  },
  {
   "cell_type": "markdown",
   "metadata": {},
   "source": [
    "###10: Creating a rating"
   ]
  },
  {
   "cell_type": "markdown",
   "metadata": {
    "collapsed": false
   },
   "source": [
    "Let's say that we have a friend, Superman, who's trying to gain muscle, and so he wants to eat foods that have a lot of protein.\n",
    "\n",
    "But he's also very health conscious, so he wants to avoid fat.\n",
    "\n",
    "We could sort based on those two columns and give him an answer, but what if he cares more about a food having a lot of protein than it being too fatty?\n",
    "\n",
    "What we need to do is construct a rating for each food based on Superman's criteria.\n",
    "\n",
    "Then we can recommend the food that scores the highest."
   ]
  },
  {
   "cell_type": "markdown",
   "metadata": {},
   "source": [
    "####Instructions"
   ]
  },
  {
   "cell_type": "markdown",
   "metadata": {},
   "source": [
    "Let's say Superman now decides that the food having a lot of protein is only twice as important as the food not being too fatty.\n",
    "\n",
    "Construct the new rating, and assign it to new_rating"
   ]
  },
  {
   "cell_type": "code",
   "execution_count": 11,
   "metadata": {
    "collapsed": false
   },
   "outputs": [
    {
     "name": "stdout",
     "output_type": "stream",
     "text": [
      "descending_new_rating.iloc[0,:10]:\n",
      " NDB_No                              16422\n",
      "Shrt_Desc         SOY PROT ISOLATE,K TYPE\n",
      "Water_(g)                            4.98\n",
      "Energ_Kcal                            321\n",
      "Protein_(g)                         88.32\n",
      "Lipid_Tot_(g)                        0.53\n",
      "Ash_(g)                              3.58\n",
      "Carbohydrt_(g)                       2.59\n",
      "Fiber_TD_(g)                            0\n",
      "Sugar_Tot_(g)                           0\n",
      "Name: 5009, dtype: object\n"
     ]
    }
   ],
   "source": [
    "# Calculate the weighted value for protein.\n",
    "weighted_protein = food_info[\"Protein_(g)\"] * 3\n",
    "\n",
    "# Calculate the weighted value for fat.\n",
    "weighted_fat = -1 * food_info[\"Lipid_Tot_(g)\"]\n",
    "\n",
    "# Construct the final rating by adding the weighted values.\n",
    "initial_rating = weighted_protein + weighted_fat\n",
    "new_rating = (food_info[\"Protein_(g)\"] * 2) - food_info[\"Lipid_Tot_(g)\"]\n",
    "food_info[\"new_rating\"] = new_rating\n",
    "\n",
    "# Sort by the new rating.\n",
    "descending_new_rating = food_info.sort([\"new_rating\"], ascending=[False])\n",
    "\n",
    "print(\"descending_new_rating.iloc[0,:10]:\\n\", descending_new_rating.iloc[0,:10])"
   ]
  },
  {
   "cell_type": "markdown",
   "metadata": {},
   "source": [
    "###11: Normalizing columns"
   ]
  },
  {
   "cell_type": "markdown",
   "metadata": {},
   "source": [
    "One of the simplest ways to normalize a column is to divide all of the values by the maximum value in the column.\n",
    "\n",
    "It will change all of the values to be between 0 and 1.\n",
    "\n",
    "It doesn't work so well with negative values, but we don't have any (you can't have negative amounts of protein, fat, etc).\n",
    "\n",
    "This isn't necessarily the best way to normalize, and we'll learn some better methods soon."
   ]
  },
  {
   "cell_type": "markdown",
   "metadata": {},
   "source": [
    "####Instructions"
   ]
  },
  {
   "cell_type": "markdown",
   "metadata": {},
   "source": [
    "Normalize the values in the \"Vit_C_(mg)\" column, and assign the result to normalized_vitamin_c\n",
    "\n",
    "Normalize the values in the \"Zinc_(mg)\" column, and assign the result to normalized_zinc"
   ]
  },
  {
   "cell_type": "code",
   "execution_count": 12,
   "metadata": {
    "collapsed": false
   },
   "outputs": [
    {
     "name": "stdout",
     "output_type": "stream",
     "text": [
      "descending_normalized_vitamin_c.iloc[0,:10]:\n",
      " NDB_No                                                         3022\n",
      "Shrt_Desc         BABYFOOD,GERBER,2ND FOODS,APPL,CARROT & SQUASH...\n",
      "Water_(g)                                                     83.83\n",
      "Energ_Kcal                                                       64\n",
      "Protein_(g)                                                     1.1\n",
      "Lipid_Tot_(g)                                                     0\n",
      "Ash_(g)                                                        0.26\n",
      "Carbohydrt_(g)                                                14.82\n",
      "Fiber_TD_(g)                                                    1.2\n",
      "Sugar_Tot_(g)                                                  9.09\n",
      "Name: 332, dtype: object\n"
     ]
    }
   ],
   "source": [
    "# Use the max() method to find the maximum value in a column.\n",
    "max_protein = food_info[\"Protein_(g)\"].max()\n",
    "\n",
    "# Divide the column by the scalar.\n",
    "normalized_protein = food_info[\"Protein_(g)\"] / max_protein\n",
    "\n",
    "# Print normalized protein values.\n",
    "#print(normalized_protein[0:20])\n",
    "\n",
    "# Create normalized vitamin C value.\n",
    "normalized_vitamin_c = food_info[\"Vit_C_(mg)\"] / food_info[\"Vit_C_(mg)\"].max()\n",
    "food_info[\"normalized_vitamin_c\"] = normalized_vitamin_c\n",
    "\n",
    "# Sort by normalized vitamin C values.\n",
    "descending_normalized_vitamin_c = food_info.sort([\"normalized_vitamin_c\"], ascending=[False])\n",
    "print(\"descending_normalized_vitamin_c.iloc[0,:10]:\\n\", descending_normalized_vitamin_c.iloc[0,:10])\n",
    "\n",
    "# Create normalized zinc value.\n",
    "normalized_zinc = food_info[\"Zinc_(mg)\"] / food_info[\"Zinc_(mg)\"].max()"
   ]
  },
  {
   "cell_type": "markdown",
   "metadata": {},
   "source": [
    "###12: Making a better rating"
   ]
  },
  {
   "cell_type": "markdown",
   "metadata": {
    "collapsed": true
   },
   "source": [
    "We now know enough to construct a better rating for our friend Superman.\n",
    "\n",
    "We just have to normalize the columns that we are interested in before we create the rating."
   ]
  },
  {
   "cell_type": "markdown",
   "metadata": {},
   "source": [
    "####Instructions"
   ]
  },
  {
   "cell_type": "markdown",
   "metadata": {},
   "source": [
    "Superman is twice as interested in a food having a lot of protein than he is in it having too much fat.\n",
    "\n",
    "Construct a rating with these new criteria, and assign it to better_protein_rating.\n",
    "\n",
    "Make sure to normalize the protein (\"Protein_(g)\") and fat (\"Lipid_Tot_(g)\") columns first."
   ]
  },
  {
   "cell_type": "code",
   "execution_count": 13,
   "metadata": {
    "collapsed": false
   },
   "outputs": [
    {
     "name": "stdout",
     "output_type": "stream",
     "text": [
      "descending_better_protein_rating.iloc[0,:10]:\n",
      " NDB_No                              16422\n",
      "Shrt_Desc         SOY PROT ISOLATE,K TYPE\n",
      "Water_(g)                            4.98\n",
      "Energ_Kcal                            321\n",
      "Protein_(g)                         88.32\n",
      "Lipid_Tot_(g)                        0.53\n",
      "Ash_(g)                              3.58\n",
      "Carbohydrt_(g)                       2.59\n",
      "Fiber_TD_(g)                            0\n",
      "Sugar_Tot_(g)                           0\n",
      "Name: 5009, dtype: object\n"
     ]
    }
   ],
   "source": [
    "# Create better protein rating.\n",
    "better_protein_rating = None\n",
    "\n",
    "# Create normalized protein values.\n",
    "normalized_protein = food_info[\"Protein_(g)\"] / food_info[\"Protein_(g)\"].max()\n",
    "\n",
    "# Create normalized fat values.\n",
    "normalized_fat = food_info[\"Lipid_Tot_(g)\"] / food_info[\"Lipid_Tot_(g)\"].max()\n",
    "\n",
    "# Create new protein rating.\n",
    "better_protein_rating = (normalized_protein * 2) - normalized_fat\n",
    "food_info[\"better_protein_rating\"] = better_protein_rating\n",
    "\n",
    "# Sort by new protein rating.\n",
    "descending_better_protein_rating = food_info.sort([\"better_protein_rating\"], ascending=[False])\n",
    "print(\"descending_better_protein_rating.iloc[0,:10]:\\n\", descending_better_protein_rating.iloc[0,:10])"
   ]
  },
  {
   "cell_type": "markdown",
   "metadata": {},
   "source": [
    "###13: Normalizing multiple columns"
   ]
  },
  {
   "cell_type": "markdown",
   "metadata": {},
   "source": [
    "Now, let's say we want to construct a total nutrition rating that takes all the columns into account.\n",
    "\n",
    "In order to do this, we would have to normalize each of the columns, which is a huge pain.\n",
    "\n",
    "An easier way is to use a for loop to normalize each column.\n",
    "\n",
    "The \"NDB_No\" and \"Shrt_Desc\" columns (first two) can't be normalized, because they aren't nutritional values. The first one is the ID number of the food, and the second is the name."
   ]
  },
  {
   "cell_type": "markdown",
   "metadata": {},
   "source": [
    "####Instructions"
   ]
  },
  {
   "cell_type": "markdown",
   "metadata": {},
   "source": [
    "Remove the \"NDB_No\" and \"Shrt_Desc\" columns from all_columns\n",
    "\n",
    "Then, use a for loop to normalize all the other columns."
   ]
  },
  {
   "cell_type": "code",
   "execution_count": 14,
   "metadata": {
    "collapsed": false
   },
   "outputs": [
    {
     "name": "stdout",
     "output_type": "stream",
     "text": [
      "all_columns: ['Water_(g)', 'Energ_Kcal', 'Protein_(g)', 'Lipid_Tot_(g)', 'Ash_(g)', 'Carbohydrt_(g)', 'Fiber_TD_(g)', 'Sugar_Tot_(g)', 'Calcium_(mg)', 'Iron_(mg)', 'Magnesium_(mg)', 'Phosphorus_(mg)', 'Potassium_(mg)', 'Sodium_(mg)', 'Zinc_(mg)', 'Copper_(mg)', 'Manganese_(mg)', 'Selenium_(mcg)', 'Vit_C_(mg)', 'Thiamin_(mg)', 'Riboflavin_(mg)', 'Niacin_(mg)', 'Panto_Acid_mg)', 'Vit_B6_(mg)', 'Folate_Tot_(µg)', 'Folic_Acid_(µg)', 'Food_Folate_(µg)', 'Folate_DFE_(µg)', 'Choline_Tot_ (mg)', 'Vit_B12_(µg)', 'Vit_A_IU', 'Vit_A_RAE', 'Retinol_(µg)', 'Alpha_Carot_(µg)', 'Beta_Carot_(µg)', 'Beta_Crypt_(µg)', 'Lycopene_(µg)', 'Lut+Zea_ (µg)', 'Vit_E_(mg)', 'Vit_D_µg', 'Vit_D_IU', 'Vit_K_(µg)', 'FA_Sat_(g)', 'FA_Mono_(g)', 'FA_Poly_(g)', 'Cholestrl_(mg)', 'GmWt_1', 'GmWt_Desc1', 'GmWt_2', 'GmWt_Desc2', 'Refuse_Pct', 'new_rating', 'normalized_vitamin_c', 'better_protein_rating']\n"
     ]
    }
   ],
   "source": [
    "column_list = [\"Energ_Kcal\", \"Protein_(g)\"]\n",
    "\n",
    "# Loop through column_list, and normalize each of the columns in it.\n",
    "for column in column_list:\n",
    "    food_info[column] = food_info[column] / food_info[column].max()\n",
    "\n",
    "# All columns is a list of all the columns in the food_info dataframe.\n",
    "all_columns = list(food_info.columns.values)\n",
    "#print \"All columns: \", all_columns\n",
    "\n",
    "column_count = len(all_columns)\n",
    "all_columns = all_columns[2:column_count]\n",
    "print(\"all_columns:\", all_columns)"
   ]
  },
  {
   "cell_type": "markdown",
   "metadata": {},
   "source": [
    "###14: Finding the amount of vitamins"
   ]
  },
  {
   "cell_type": "markdown",
   "metadata": {},
   "source": [
    "Now that we normalized all of the columns, we're well on our way to making a nutritional rating.\n",
    "\n",
    "In order to get there, let's create a sum of all the vitamin columns.\n",
    "\n",
    "Most methods on pandas dataframes can operate on series, or on dataframes.\n",
    "\n",
    "Let's take the .sum() method as an example.\n",
    "\n",
    "On a series, it gives you the total of all the values in the series.\n",
    "\n",
    "When used on a dataframe, it takes the optional axis keyword argument.\n",
    "\n",
    "When axis is 0, it gives you a new series with the sums of all of the columns in the dataframe.\n",
    "\n",
    "When axis is 1, it gives you a new series with sums of all of the rows in the dataframe."
   ]
  },
  {
   "cell_type": "markdown",
   "metadata": {},
   "source": [
    "####Instructions"
   ]
  },
  {
   "cell_type": "markdown",
   "metadata": {},
   "source": [
    "Sum up the amount of vitamins in each food (using the vitamin_columns list to get columns from the dataframe), and assign the result to vitamin_totals.\n",
    "\n",
    "You'll need to sum the total in each row."
   ]
  },
  {
   "cell_type": "code",
   "execution_count": 15,
   "metadata": {
    "collapsed": false
   },
   "outputs": [
    {
     "name": "stdout",
     "output_type": "stream",
     "text": [
      "vitamin_totals.head(10):\n",
      " 0    3910.684\n",
      "1    3829.252\n",
      "2    3934.431\n",
      "3    3303.482\n",
      "4    3261.634\n",
      "5    1982.328\n",
      "6    2885.552\n",
      "7    3312.130\n",
      "8    3554.729\n",
      "9    3159.877\n",
      "dtype: float64\n"
     ]
    }
   ],
   "source": [
    "column_list = [\"Fiber_TD_(g)\", \"Sugar_Tot_(g)\"]\n",
    "\n",
    "# Sum the amount of fiber and sugar in each of the foods.\n",
    "row_total = food_info[column_list].sum(axis=1)\n",
    "#print(row_total)\n",
    "\n",
    "# Sum the total amount of fiber and sugar across all the foods.\n",
    "column_total = food_info[column_list].sum(axis=0)\n",
    "#print(column_total)\n",
    "\n",
    "# Rename 'Vit_B12_(mcg)', 'Vit_D_mcg', 'Vit_K_(mcg)' columns.\n",
    "food_info = food_info.rename(columns={\"Vit_B12_(\\xb5g)\": \"Vit_B12_(mcg)\"})\n",
    "food_info = food_info.rename(columns={\"Vit_D_\\xb5g\": \"Vit_D_mcg\"})\n",
    "food_info = food_info.rename(columns={\"Vit_K_(\\xb5g)\": \"Vit_K_(mcg)\"})\n",
    "\n",
    "# Sum the total amount of vitamins in each foods.\n",
    "vitamin_columns = [\"Calcium_(mg)\", \"Iron_(mg)\", \"Magnesium_(mg)\", \"Phosphorus_(mg)\", \n",
    "                   \"Potassium_(mg)\", \"Sodium_(mg)\", \"Zinc_(mg)\", \"Copper_(mg)\", \n",
    "                   \"Manganese_(mg)\", \"Selenium_(mcg)\", \"Vit_C_(mg)\", \"Thiamin_(mg)\", \n",
    "                   \"Riboflavin_(mg)\", \"Niacin_(mg)\", \"Vit_B6_(mg)\", \"Vit_B12_(mcg)\", \n",
    "                   \"Vit_A_IU\", \"Vit_A_RAE\", \"Vit_E_(mg)\", \"Vit_D_mcg\", \"Vit_D_IU\", \n",
    "                   \"Vit_K_(mcg)\"]\n",
    "vitamins = food_info[vitamin_columns]\n",
    "vitamin_totals = vitamins.sum(axis=1)\n",
    "print(\"vitamin_totals.head(10):\\n\", vitamin_totals.head(10))"
   ]
  },
  {
   "cell_type": "markdown",
   "metadata": {},
   "source": [
    "###15: Adding a new column"
   ]
  },
  {
   "cell_type": "markdown",
   "metadata": {},
   "source": [
    "We can add a column to a dataframe by assigning to it.\n",
    "\n",
    "food_info[\"double_fat\"] = food_info[\"Lipid_Tot_(g)\"] * 2  \n",
    "\n",
    "The above code assigns double the amount of lipids to the \"double_fat\" column in food_info."
   ]
  },
  {
   "cell_type": "markdown",
   "metadata": {},
   "source": [
    "####Instructions"
   ]
  },
  {
   "cell_type": "markdown",
   "metadata": {},
   "source": [
    "We've read the vitamin_totals variable from the last screen in.\n",
    "\n",
    "Assign vitamin_totals to the \"vitamin_totals\" column in food_info."
   ]
  },
  {
   "cell_type": "code",
   "execution_count": 16,
   "metadata": {
    "collapsed": true
   },
   "outputs": [],
   "source": [
    "# Assign double protein values.\n",
    "food_info[\"double_protein\"] = food_info[\"Protein_(g)\"] * 2\n",
    "\n",
    "# Assign vitamin totals.\n",
    "food_info[\"vitamin_totals\"] = vitamin_totals"
   ]
  },
  {
   "cell_type": "markdown",
   "metadata": {},
   "source": [
    "###16: Making a nutritional index"
   ]
  },
  {
   "cell_type": "markdown",
   "metadata": {},
   "source": [
    "We've normalized the values in vitamin_totals, and assigned it to the \"vitamin_totals\" column in food_info.\n",
    "\n",
    "Let's construct a nutritional rating using the amount of vitamins, fats, protein, sugar, fiber, and cholesterol."
   ]
  },
  {
   "cell_type": "markdown",
   "metadata": {},
   "source": [
    "####Instructions"
   ]
  },
  {
   "cell_type": "markdown",
   "metadata": {},
   "source": [
    "Give the \"vitamin_totals\" column a weight of 3, the \"Lipid_Tot_(g)\" column a weight of -2, the \"Protein_(g)\" column a weight of 3, the \"Sugar_Tot_(g)\" column a weight of -1, the \"Fiber_TD_(g)\" a weight of 1, and the \"Cholestrl_(mg)\" column a weight of -2.\n",
    "\n",
    "Construct a rating using the above weights, and assign it to nutritional_rating."
   ]
  },
  {
   "cell_type": "code",
   "execution_count": 17,
   "metadata": {
    "collapsed": false
   },
   "outputs": [
    {
     "name": "stdout",
     "output_type": "stream",
     "text": [
      "nutritional_rating.head(10):\n",
      " 0    11139.800872\n",
      "1    10881.112644\n",
      "2    11092.342511\n",
      "3     9703.192902\n",
      "4     9537.821402\n",
      "5     5691.878823\n",
      "6     8464.348554\n",
      "7             NaN\n",
      "8    10399.863834\n",
      "9             NaN\n",
      "dtype: float64\n"
     ]
    }
   ],
   "source": [
    "# Assign nutritional rating.\n",
    "nutritional_rating = None\n",
    "nutritional_rating = 3 * food_info[\"vitamin_totals\"] + -2 * food_info[\"Lipid_Tot_(g)\"] + 3 * food_info[\"Protein_(g)\"] + -1 * food_info[\"Sugar_Tot_(g)\"] + 1 * food_info[\"Fiber_TD_(g)\"] + -2 * food_info[\"Cholestrl_(mg)\"]\n",
    "food_info[\"nutritional_rating\"] = nutritional_rating\n",
    "\n",
    "print(\"nutritional_rating.head(10):\\n\", nutritional_rating.head(10))"
   ]
  },
  {
   "cell_type": "markdown",
   "metadata": {},
   "source": [
    "###17: Finding the most nutritious foods"
   ]
  },
  {
   "cell_type": "markdown",
   "metadata": {},
   "source": [
    "We've read the nutritional rating series from the last screen to the \"nutritional_rating\" column in food_info.\n",
    "\n",
    "Now, lets see if we can use it to find the most nutritious foods."
   ]
  },
  {
   "cell_type": "markdown",
   "metadata": {},
   "source": [
    "####Instructions"
   ]
  },
  {
   "cell_type": "markdown",
   "metadata": {},
   "source": [
    "Find the three most nutritious foods by sorting food_info using the \"nutritional_rating\" column.\n",
    "\n",
    "Get the name of those foods (the \"Shrt_Desc\" column), and assign the names to most_nutritious_foods.\n",
    "\n",
    "If most_nutritious_foods isn't a list at the end, use the list() function to turn it into one."
   ]
  },
  {
   "cell_type": "code",
   "execution_count": 18,
   "metadata": {
    "collapsed": false
   },
   "outputs": [
    {
     "name": "stdout",
     "output_type": "stream",
     "text": [
      "most_nutritious_foods: ['BEEF,NZ,IMP,VAR MEATS & BY-PRODUCTS,LIVER,RAW', 'VEAL,VAR MEATS&BY-PRODUCTS,LIVER,CKD,BRSD', 'BEEF,NZ,IMP,VAR MEATS & BY-PRODUCTS LIVER,CKD,BLD']\n"
     ]
    }
   ],
   "source": [
    "# Assign most nutritional foods.\n",
    "most_nutritious_foods = []\n",
    "sorted_food_info = food_info.sort([\"nutritional_rating\"], ascending=[False])\n",
    "most_nutritious_foods = sorted_food_info[\"Shrt_Desc\"].iloc[0:3]\n",
    "most_nutritious_foods = list(most_nutritious_foods)\n",
    "\n",
    "print(\"most_nutritious_foods:\", most_nutritious_foods)"
   ]
  },
  {
   "cell_type": "markdown",
   "metadata": {},
   "source": [
    "###18: Finding the least nutritious foods"
   ]
  },
  {
   "cell_type": "markdown",
   "metadata": {},
   "source": [
    "Let's do the same as in the last screen, but find the least nutritious foods."
   ]
  },
  {
   "cell_type": "markdown",
   "metadata": {},
   "source": [
    "####Instructions"
   ]
  },
  {
   "cell_type": "markdown",
   "metadata": {},
   "source": [
    "Find the three least nutritious foods by sorting food_info using the \"nutritional_rating\" column.\n",
    "\n",
    "Get the name of those foods (the \"Shrt_Desc\" column), and assign the names to least_nutritious_foods.\n",
    "\n",
    "If least_nutritious_foods isn't a list at the end, use the list() function to turn it into one."
   ]
  },
  {
   "cell_type": "code",
   "execution_count": 19,
   "metadata": {
    "collapsed": false
   },
   "outputs": [
    {
     "name": "stdout",
     "output_type": "stream",
     "text": [
      "least_nutritious_foods: ['BEEF,VAR MEATS&BY-PRODUCTS,BRAIN,CKD,SIMMRD', 'BEEF,VAR MEATS&BY-PRODUCTS,BRAIN,RAW', 'LAMB,NZ,IMP,BRAINS,CKD,SOAKED & FRIED']\n"
     ]
    }
   ],
   "source": [
    "# Assign least nutritional foods.\n",
    "least_nutritious_foods = []\n",
    "sorted_food_info = food_info.sort([\"nutritional_rating\"], ascending=[True])\n",
    "least_nutritious_foods = sorted_food_info[\"Shrt_Desc\"].iloc[0:3]\n",
    "least_nutritious_foods = list(least_nutritious_foods)\n",
    "\n",
    "print(\"least_nutritious_foods:\", least_nutritious_foods)"
   ]
  }
 ],
 "metadata": {
  "kernelspec": {
   "display_name": "Python 3",
   "language": "python",
   "name": "python3"
  },
  "language_info": {
   "codemirror_mode": {
    "name": "ipython",
    "version": 3
   },
   "file_extension": ".py",
   "mimetype": "text/x-python",
   "name": "python",
   "nbconvert_exporter": "python",
   "pygments_lexer": "ipython3",
   "version": "3.4.3"
  }
 },
 "nbformat": 4,
 "nbformat_minor": 0
}
