{
 "cells": [
  {
   "cell_type": "code",
   "execution_count": 1,
   "metadata": {
    "collapsed": true
   },
   "outputs": [],
   "source": [
    "from __future__ import print_function"
   ]
  },
  {
   "cell_type": "markdown",
   "metadata": {},
   "source": [
    "#Data Analysis with Pandas"
   ]
  },
  {
   "cell_type": "markdown",
   "metadata": {},
   "source": [
    "##Working with Missing Data"
   ]
  },
  {
   "cell_type": "markdown",
   "metadata": {},
   "source": [
    "###1: Finding the missing data"
   ]
  },
  {
   "cell_type": "markdown",
   "metadata": {
    "collapsed": true
   },
   "source": [
    "Missing data can be presented a few different ways.\n",
    "\n",
    "In python, we have the None keyword and type, which indicates no value.\n",
    "\n",
    "pandas uses NaN, which stands for \"not a number\", to indicate a missing value.\n",
    "\n",
    "We can also call NaN a null value."
   ]
  },
  {
   "cell_type": "markdown",
   "metadata": {},
   "source": [
    "####Instructions"
   ]
  },
  {
   "cell_type": "markdown",
   "metadata": {},
   "source": [
    "Count the number of null values in the \"Age\" column.\n",
    "\n",
    "Assign the result to age_null_count."
   ]
  },
  {
   "cell_type": "code",
   "execution_count": 2,
   "metadata": {
    "collapsed": false
   },
   "outputs": [
    {
     "data": {
      "text/html": [
       "<div>\n",
       "<table border=\"1\" class=\"dataframe\">\n",
       "  <thead>\n",
       "    <tr style=\"text-align: right;\">\n",
       "      <th></th>\n",
       "      <th>pclass</th>\n",
       "      <th>survived</th>\n",
       "      <th>name</th>\n",
       "      <th>sex</th>\n",
       "      <th>age</th>\n",
       "      <th>sibsp</th>\n",
       "      <th>parch</th>\n",
       "      <th>ticket</th>\n",
       "      <th>fare</th>\n",
       "      <th>cabin</th>\n",
       "      <th>embarked</th>\n",
       "      <th>boat</th>\n",
       "      <th>body</th>\n",
       "      <th>home.dest</th>\n",
       "    </tr>\n",
       "  </thead>\n",
       "  <tbody>\n",
       "    <tr>\n",
       "      <th>0</th>\n",
       "      <td>3</td>\n",
       "      <td>0</td>\n",
       "      <td>Abbing, Mr. Anthony</td>\n",
       "      <td>male</td>\n",
       "      <td>42</td>\n",
       "      <td>0</td>\n",
       "      <td>0</td>\n",
       "      <td>C.A. 5547</td>\n",
       "      <td>7.55</td>\n",
       "      <td>NaN</td>\n",
       "      <td>S</td>\n",
       "      <td>NaN</td>\n",
       "      <td>NaN</td>\n",
       "      <td>NaN</td>\n",
       "    </tr>\n",
       "    <tr>\n",
       "      <th>1</th>\n",
       "      <td>3</td>\n",
       "      <td>0</td>\n",
       "      <td>Abbott, Master. Eugene Joseph</td>\n",
       "      <td>male</td>\n",
       "      <td>13</td>\n",
       "      <td>0</td>\n",
       "      <td>2</td>\n",
       "      <td>C.A. 2673</td>\n",
       "      <td>20.25</td>\n",
       "      <td>NaN</td>\n",
       "      <td>S</td>\n",
       "      <td>NaN</td>\n",
       "      <td>NaN</td>\n",
       "      <td>East Providence, RI</td>\n",
       "    </tr>\n",
       "    <tr>\n",
       "      <th>2</th>\n",
       "      <td>3</td>\n",
       "      <td>0</td>\n",
       "      <td>Abbott, Mr. Rossmore Edward</td>\n",
       "      <td>male</td>\n",
       "      <td>16</td>\n",
       "      <td>1</td>\n",
       "      <td>1</td>\n",
       "      <td>C.A. 2673</td>\n",
       "      <td>20.25</td>\n",
       "      <td>NaN</td>\n",
       "      <td>S</td>\n",
       "      <td>NaN</td>\n",
       "      <td>190</td>\n",
       "      <td>East Providence, RI</td>\n",
       "    </tr>\n",
       "    <tr>\n",
       "      <th>3</th>\n",
       "      <td>3</td>\n",
       "      <td>1</td>\n",
       "      <td>Abbott, Mrs. Stanton (Rosa Hunt)</td>\n",
       "      <td>female</td>\n",
       "      <td>35</td>\n",
       "      <td>1</td>\n",
       "      <td>1</td>\n",
       "      <td>C.A. 2673</td>\n",
       "      <td>20.25</td>\n",
       "      <td>NaN</td>\n",
       "      <td>S</td>\n",
       "      <td>A</td>\n",
       "      <td>NaN</td>\n",
       "      <td>East Providence, RI</td>\n",
       "    </tr>\n",
       "    <tr>\n",
       "      <th>4</th>\n",
       "      <td>3</td>\n",
       "      <td>1</td>\n",
       "      <td>Abelseth, Miss. Karen Marie</td>\n",
       "      <td>female</td>\n",
       "      <td>16</td>\n",
       "      <td>0</td>\n",
       "      <td>0</td>\n",
       "      <td>348125</td>\n",
       "      <td>7.65</td>\n",
       "      <td>NaN</td>\n",
       "      <td>S</td>\n",
       "      <td>16</td>\n",
       "      <td>NaN</td>\n",
       "      <td>Norway Los Angeles, CA</td>\n",
       "    </tr>\n",
       "  </tbody>\n",
       "</table>\n",
       "</div>"
      ],
      "text/plain": [
       "   pclass  survived                              name     sex  age  sibsp  \\\n",
       "0       3         0               Abbing, Mr. Anthony    male   42      0   \n",
       "1       3         0     Abbott, Master. Eugene Joseph    male   13      0   \n",
       "2       3         0       Abbott, Mr. Rossmore Edward    male   16      1   \n",
       "3       3         1  Abbott, Mrs. Stanton (Rosa Hunt)  female   35      1   \n",
       "4       3         1       Abelseth, Miss. Karen Marie  female   16      0   \n",
       "\n",
       "   parch     ticket   fare cabin embarked boat  body               home.dest  \n",
       "0      0  C.A. 5547   7.55   NaN        S  NaN   NaN                     NaN  \n",
       "1      2  C.A. 2673  20.25   NaN        S  NaN   NaN     East Providence, RI  \n",
       "2      1  C.A. 2673  20.25   NaN        S  NaN   190     East Providence, RI  \n",
       "3      1  C.A. 2673  20.25   NaN        S    A   NaN     East Providence, RI  \n",
       "4      0     348125   7.65   NaN        S   16   NaN  Norway Los Angeles, CA  "
      ]
     },
     "execution_count": 2,
     "metadata": {},
     "output_type": "execute_result"
    }
   ],
   "source": [
    "import pandas as pd\n",
    "\n",
    "f = \"data/titanic.csv\"\n",
    "titanic_survival = pd.read_csv(f)\n",
    "\n",
    "titanic_survival.head(5)"
   ]
  },
  {
   "cell_type": "code",
   "execution_count": 3,
   "metadata": {
    "collapsed": false
   },
   "outputs": [
    {
     "name": "stdout",
     "output_type": "stream",
     "text": [
      "age_null_count: 263\n"
     ]
    }
   ],
   "source": [
    "# Print age column.\n",
    "#print titanic_survival[\"age\"]\n",
    "\n",
    "# Use the isnull function to find which values in a column are missing\n",
    "age_null = pd.isnull(titanic_survival[\"age\"])\n",
    "\n",
    "age_null_true = age_null[age_null == True]\n",
    "age_null_count = len(age_null_true)\n",
    "print(\"age_null_count:\", age_null_count)"
   ]
  },
  {
   "cell_type": "markdown",
   "metadata": {},
   "source": [
    "###2: Whats the big deal with missing data?"
   ]
  },
  {
   "cell_type": "markdown",
   "metadata": {},
   "source": [
    "So, we know that quite a few values are missing in the \"age\" column, and other columns are missing data, too, but why is this a problem?\n",
    "\n",
    "Let's try to compute the average age of passengers on the Titanic."
   ]
  },
  {
   "cell_type": "markdown",
   "metadata": {},
   "source": [
    "####Instructions"
   ]
  },
  {
   "cell_type": "markdown",
   "metadata": {},
   "source": [
    "Use age_null to create a vector that only contains values from the \"age\" column that aren't \"NaN\".\n",
    "\n",
    "Compute the mean of the new vector, and assign the result to correct_mean_age."
   ]
  },
  {
   "cell_type": "code",
   "execution_count": 4,
   "metadata": {
    "collapsed": false
   },
   "outputs": [
    {
     "name": "stdout",
     "output_type": "stream",
     "text": [
      "mean_age: nan\n",
      "correct_mean_age: 29.8811345124\n"
     ]
    }
   ],
   "source": [
    "import pandas as pd\n",
    "\n",
    "mean_age = sum(titanic_survival[\"age\"]) / len(titanic_survival[\"age\"])\n",
    "\n",
    "# 'mean_age' is NaN.  This is because any calculations we do with a null value also result in a null value.\n",
    "print(\"mean_age:\", mean_age)\n",
    "\n",
    "# Filter the missing values out before we compute the mean.\n",
    "age_null = pd.isnull(titanic_survival[\"age\"])\n",
    "good_ages = titanic_survival[\"age\"][age_null == False]\n",
    "correct_mean_age = sum(good_ages) / len(good_ages)\n",
    "\n",
    "print(\"correct_mean_age:\", correct_mean_age)"
   ]
  },
  {
   "cell_type": "markdown",
   "metadata": {},
   "source": [
    "###3: Easier ways to do math"
   ]
  },
  {
   "cell_type": "markdown",
   "metadata": {},
   "source": [
    "Luckily, missing data is so common that pandas automatically filters for it with some methods.\n",
    "\n",
    "We can use the .mean() method to compute the mean, and it will automatically remove missing values."
   ]
  },
  {
   "cell_type": "markdown",
   "metadata": {},
   "source": [
    "####Instructions"
   ]
  },
  {
   "cell_type": "markdown",
   "metadata": {},
   "source": [
    "Assign the mean of the \"fare\" column to 'correct_mean_fare'."
   ]
  },
  {
   "cell_type": "code",
   "execution_count": 5,
   "metadata": {
    "collapsed": false
   },
   "outputs": [
    {
     "name": "stdout",
     "output_type": "stream",
     "text": [
      "correct_mean_age: 29.8811345124283\n",
      "correct_mean_fare: 33.29547928134565\n"
     ]
    }
   ],
   "source": [
    "import pandas as pd\n",
    "\n",
    "# This is the same value that we computed in the last screen, but it's much simpler.\n",
    "correct_mean_age = titanic_survival[\"age\"].mean()\n",
    "print(\"correct_mean_age:\", correct_mean_age)\n",
    "\n",
    "correct_mean_fare = titanic_survival[\"fare\"].mean()\n",
    "print(\"correct_mean_fare:\", correct_mean_fare)"
   ]
  },
  {
   "cell_type": "markdown",
   "metadata": {},
   "source": [
    "###4: Computing summary statistics"
   ]
  },
  {
   "cell_type": "markdown",
   "metadata": {},
   "source": [
    "Let's compute some more advanced statistics about the data."
   ]
  },
  {
   "cell_type": "markdown",
   "metadata": {},
   "source": [
    "####Instructions"
   ]
  },
  {
   "cell_type": "markdown",
   "metadata": {},
   "source": [
    "Fill in the missing code to compute fare_for_class for the given pclass.\n",
    "\n",
    "When the loop is done, fares_by_class should have 1, 2, and 3 as keys, with the average fares as the corresponding values."
   ]
  },
  {
   "cell_type": "code",
   "execution_count": 6,
   "metadata": {
    "collapsed": false
   },
   "outputs": [
    {
     "name": "stdout",
     "output_type": "stream",
     "text": [
      "fares_by_class[1]: 87.50899164086687\n",
      "fares_by_class[2]: 21.1791963898917\n",
      "fares_by_class[3]: 13.302888700564957\n"
     ]
    }
   ],
   "source": [
    "# Passengers are divided into classes based on the \"pclass\" column\n",
    "passenger_classes = [1, 2, 3]\n",
    "\n",
    "# Create dictionary.\n",
    "fares_by_class = {}\n",
    "for pclass in passenger_classes:\n",
    "    # Return fares for pclass.\n",
    "    pclass_fares = titanic_survival[\"fare\"][titanic_survival[\"pclass\"] == pclass]\n",
    "    # Calculate pclass mean fare.\n",
    "    fare_for_class = pclass_fares.mean()\n",
    "    # Store in 'fares_by_class' dictionary.\n",
    "    fares_by_class[pclass] = fare_for_class\n",
    "\n",
    "print(\"fares_by_class[1]:\", fares_by_class[1])\n",
    "print(\"fares_by_class[2]:\", fares_by_class[2])\n",
    "print(\"fares_by_class[3]:\", fares_by_class[3])"
   ]
  },
  {
   "cell_type": "markdown",
   "metadata": {},
   "source": [
    "###5: Making pivot tables"
   ]
  },
  {
   "cell_type": "markdown",
   "metadata": {},
   "source": [
    "Let's compute the survival probability for each passenger class in the Titanic.\n",
    "\n",
    "In order to help us out, we'll use the pivot_table method on dataframes -- it makes doing analysis like what we did in the last screen much simpler.\n",
    "\n",
    "If you're familiar with pivot tables in excel, this will look familiar."
   ]
  },
  {
   "cell_type": "markdown",
   "metadata": {},
   "source": [
    "####Instructions"
   ]
  },
  {
   "cell_type": "markdown",
   "metadata": {},
   "source": [
    "Use the pivot_table method to compute the mean \"age\" for each passenger class (\"pclass\").\n",
    "\n",
    "Assign the result to passenger_age."
   ]
  },
  {
   "cell_type": "code",
   "execution_count": 7,
   "metadata": {
    "collapsed": false
   },
   "outputs": [
    {
     "name": "stdout",
     "output_type": "stream",
     "text": [
      "passenger_survival: pclass\n",
      "1    0.619195\n",
      "2    0.429603\n",
      "3    0.255289\n",
      "Name: survived, dtype: float64\n",
      "passenger_age pclass\n",
      "1    39.159918\n",
      "2    29.506705\n",
      "3    24.816367\n",
      "Name: age, dtype: float64\n",
      "passenger_fare: pclass\n",
      "1    87.508992\n",
      "2    21.179196\n",
      "3    13.302889\n",
      "Name: fare, dtype: float64\n"
     ]
    }
   ],
   "source": [
    "import pandas as pd\n",
    "import numpy as np\n",
    "\n",
    "# index specifies which column to subset data based on \n",
    "# values specifies which column to subset based on the index\n",
    "# The aggfunc specifies what to do with the subsets\n",
    "# In this case, we split survived into 3 vectors, one for each passenger class, and take the mean of each\n",
    "passenger_survival = titanic_survival.pivot_table(index=\"pclass\", values=\"survived\", aggfunc=np.mean)\n",
    "print(\"passenger_survival:\", passenger_survival)\n",
    "\n",
    "passenger_age = titanic_survival.pivot_table(index=\"pclass\", values=\"age\", aggfunc=np.mean)\n",
    "print(\"passenger_age\", passenger_age)\n",
    "\n",
    "passenger_fare = titanic_survival.pivot_table(index=\"pclass\", values=\"fare\", aggfunc=np.mean)\n",
    "print(\"passenger_fare:\", passenger_fare)"
   ]
  },
  {
   "cell_type": "markdown",
   "metadata": {},
   "source": [
    "###6: More complex pivot tables"
   ]
  },
  {
   "cell_type": "markdown",
   "metadata": {},
   "source": [
    "We can use the pivot_table method to do more advanced things than we just did.\n",
    "\n",
    "For starters, we can make more complex pivot tables that show multiple values at once."
   ]
  },
  {
   "cell_type": "markdown",
   "metadata": {},
   "source": [
    "####Instructions"
   ]
  },
  {
   "cell_type": "markdown",
   "metadata": {},
   "source": [
    "Make a pivot table that computes the mean \"age\", survival chance(\"survived\"), and \"fare\" for each embarkation port (\"embarked\").\n",
    "\n",
    "Assign the result to 'port_stats'.\n",
    "\n",
    "Make sure to put the values list in the same order that the columns are given here."
   ]
  },
  {
   "cell_type": "code",
   "execution_count": 8,
   "metadata": {
    "collapsed": false
   },
   "outputs": [
    {
     "name": "stdout",
     "output_type": "stream",
     "text": [
      "passenger_survival:\n",
      "               age  survived\n",
      "pclass                     \n",
      "1       39.159918  0.619195\n",
      "2       29.506705  0.429603\n",
      "3       24.816367  0.255289\n",
      "port_stats:\n",
      "                 age       fare  survived\n",
      "embarked                                \n",
      "C         32.332154  62.336267  0.555556\n",
      "Q         28.630000  12.409012  0.357724\n",
      "S         29.245205  27.418824  0.332604\n"
     ]
    }
   ],
   "source": [
    "import numpy as np\n",
    "\n",
    "# Compute the mean survival chance and the mean age for each passenger class.\n",
    "passenger_survival = titanic_survival.pivot_table(index=\"pclass\", values=[\"age\", \"survived\"], aggfunc=np.mean)\n",
    "print(\"passenger_survival:\\n\", passenger_survival)\n",
    "\n",
    "port_stats = titanic_survival.pivot_table(index=\"embarked\", values=[\"age\", \"survived\", \"fare\"], aggfunc=np.mean)\n",
    "print(\"port_stats:\\n\", port_stats)"
   ]
  },
  {
   "cell_type": "markdown",
   "metadata": {},
   "source": [
    "###7: Drop missing values"
   ]
  },
  {
   "cell_type": "markdown",
   "metadata": {},
   "source": [
    "We looked at how to remove missing values in a vector of data, but how about in a matrix?\n",
    "\n",
    "We can use the dropna method on pandas dataframes to do this.\n",
    "\n",
    "Using the method will drop any rows that contain missing values."
   ]
  },
  {
   "cell_type": "markdown",
   "metadata": {},
   "source": [
    "####Instructions"
   ]
  },
  {
   "cell_type": "markdown",
   "metadata": {},
   "source": [
    "Drop all rows in titanic_survival where the columns \"age\", \"body\", or \"home.dest\" have missing values.\n",
    "\n",
    "Assign the result to new_titanic_survival."
   ]
  },
  {
   "cell_type": "code",
   "execution_count": 9,
   "metadata": {
    "collapsed": false
   },
   "outputs": [
    {
     "data": {
      "text/html": [
       "<div>\n",
       "<table border=\"1\" class=\"dataframe\">\n",
       "  <thead>\n",
       "    <tr style=\"text-align: right;\">\n",
       "      <th></th>\n",
       "      <th>pclass</th>\n",
       "      <th>survived</th>\n",
       "      <th>name</th>\n",
       "      <th>sex</th>\n",
       "      <th>age</th>\n",
       "      <th>sibsp</th>\n",
       "      <th>parch</th>\n",
       "      <th>ticket</th>\n",
       "      <th>fare</th>\n",
       "      <th>cabin</th>\n",
       "      <th>embarked</th>\n",
       "      <th>boat</th>\n",
       "      <th>body</th>\n",
       "      <th>home.dest</th>\n",
       "    </tr>\n",
       "  </thead>\n",
       "  <tbody>\n",
       "    <tr>\n",
       "      <th>2</th>\n",
       "      <td>3</td>\n",
       "      <td>0</td>\n",
       "      <td>Abbott, Mr. Rossmore Edward</td>\n",
       "      <td>male</td>\n",
       "      <td>16</td>\n",
       "      <td>1</td>\n",
       "      <td>1</td>\n",
       "      <td>C.A. 2673</td>\n",
       "      <td>20.25</td>\n",
       "      <td>NaN</td>\n",
       "      <td>S</td>\n",
       "      <td>NaN</td>\n",
       "      <td>190</td>\n",
       "      <td>East Providence, RI</td>\n",
       "    </tr>\n",
       "    <tr>\n",
       "      <th>10</th>\n",
       "      <td>3</td>\n",
       "      <td>0</td>\n",
       "      <td>Adahl, Mr. Mauritz Nils Martin</td>\n",
       "      <td>male</td>\n",
       "      <td>30</td>\n",
       "      <td>0</td>\n",
       "      <td>0</td>\n",
       "      <td>C 7076</td>\n",
       "      <td>7.25</td>\n",
       "      <td>NaN</td>\n",
       "      <td>S</td>\n",
       "      <td>NaN</td>\n",
       "      <td>72</td>\n",
       "      <td>Asarum, Sweden Brooklyn, NY</td>\n",
       "    </tr>\n",
       "    <tr>\n",
       "      <th>11</th>\n",
       "      <td>3</td>\n",
       "      <td>0</td>\n",
       "      <td>Adams, Mr. John</td>\n",
       "      <td>male</td>\n",
       "      <td>26</td>\n",
       "      <td>0</td>\n",
       "      <td>0</td>\n",
       "      <td>341826</td>\n",
       "      <td>8.05</td>\n",
       "      <td>NaN</td>\n",
       "      <td>S</td>\n",
       "      <td>NaN</td>\n",
       "      <td>103</td>\n",
       "      <td>Bournemouth, England</td>\n",
       "    </tr>\n",
       "    <tr>\n",
       "      <th>20</th>\n",
       "      <td>3</td>\n",
       "      <td>0</td>\n",
       "      <td>Ali, Mr. William</td>\n",
       "      <td>male</td>\n",
       "      <td>25</td>\n",
       "      <td>0</td>\n",
       "      <td>0</td>\n",
       "      <td>SOTON/O.Q. 3101312</td>\n",
       "      <td>7.05</td>\n",
       "      <td>NaN</td>\n",
       "      <td>S</td>\n",
       "      <td>NaN</td>\n",
       "      <td>79</td>\n",
       "      <td>Argentina</td>\n",
       "    </tr>\n",
       "    <tr>\n",
       "      <th>25</th>\n",
       "      <td>1</td>\n",
       "      <td>0</td>\n",
       "      <td>Allison, Mr. Hudson Joshua Creighton</td>\n",
       "      <td>male</td>\n",
       "      <td>30</td>\n",
       "      <td>1</td>\n",
       "      <td>2</td>\n",
       "      <td>113781</td>\n",
       "      <td>151.55</td>\n",
       "      <td>C22 C26</td>\n",
       "      <td>S</td>\n",
       "      <td>NaN</td>\n",
       "      <td>135</td>\n",
       "      <td>Montreal, PQ / Chesterville, ON</td>\n",
       "    </tr>\n",
       "  </tbody>\n",
       "</table>\n",
       "</div>"
      ],
      "text/plain": [
       "    pclass  survived                                  name   sex  age  sibsp  \\\n",
       "2        3         0           Abbott, Mr. Rossmore Edward  male   16      1   \n",
       "10       3         0        Adahl, Mr. Mauritz Nils Martin  male   30      0   \n",
       "11       3         0                       Adams, Mr. John  male   26      0   \n",
       "20       3         0                      Ali, Mr. William  male   25      0   \n",
       "25       1         0  Allison, Mr. Hudson Joshua Creighton  male   30      1   \n",
       "\n",
       "    parch              ticket    fare    cabin embarked boat  body  \\\n",
       "2       1           C.A. 2673   20.25      NaN        S  NaN   190   \n",
       "10      0              C 7076    7.25      NaN        S  NaN    72   \n",
       "11      0              341826    8.05      NaN        S  NaN   103   \n",
       "20      0  SOTON/O.Q. 3101312    7.05      NaN        S  NaN    79   \n",
       "25      2              113781  151.55  C22 C26        S  NaN   135   \n",
       "\n",
       "                          home.dest  \n",
       "2               East Providence, RI  \n",
       "10      Asarum, Sweden Brooklyn, NY  \n",
       "11             Bournemouth, England  \n",
       "20                        Argentina  \n",
       "25  Montreal, PQ / Chesterville, ON  "
      ]
     },
     "execution_count": 9,
     "metadata": {},
     "output_type": "execute_result"
    }
   ],
   "source": [
    "import pandas as pd\n",
    "\n",
    "# Drop all rows that have missing values.\n",
    "new_titanic_survival = titanic_survival.dropna()\n",
    "\n",
    "# We have an empty dataframe now because every row has at least one missing value.\n",
    "#print(new_titanic_survival)\n",
    "\n",
    "# We can also use the axis argument to drop columns that have missing values\n",
    "new_titanic_survival = titanic_survival.dropna(axis=1)\n",
    "#print(new_titanic_survival)\n",
    "\n",
    "# We can use the subset argument to only drop rows if certain columns have missing values.\n",
    "# This drops all rows where \"age\" or \"sex\" is missing.\n",
    "new_titanic_survival = titanic_survival.dropna(subset=[\"age\", \"sex\"])\n",
    "#print(new_titanic_survival)\n",
    "\n",
    "new_titanic_survival = titanic_survival.dropna(subset=[\"age\", \"body\", \"home.dest\"])\n",
    "new_titanic_survival.head(5)"
   ]
  },
  {
   "cell_type": "markdown",
   "metadata": {},
   "source": [
    "###8: Row indices"
   ]
  },
  {
   "cell_type": "markdown",
   "metadata": {},
   "source": [
    "In pandas, dataframes and series have row indexes.\n",
    "\n",
    "These work just like column indexes, and can take values like numbers, characters, and strings."
   ]
  },
  {
   "cell_type": "markdown",
   "metadata": {},
   "source": [
    "####Instructions"
   ]
  },
  {
   "cell_type": "markdown",
   "metadata": {},
   "source": [
    "Assign the row with index 25 to row_index_25.\n",
    "\n",
    "Assign the fifth row to row_position_fifth."
   ]
  },
  {
   "cell_type": "code",
   "execution_count": 10,
   "metadata": {
    "collapsed": false
   },
   "outputs": [
    {
     "name": "stdout",
     "output_type": "stream",
     "text": [
      "row_index_4:\n",
      " pclass                                          1\n",
      "survived                                        0\n",
      "name         Allison, Mr. Hudson Joshua Creighton\n",
      "sex                                          male\n",
      "age                                            30\n",
      "sibsp                                           1\n",
      "parch                                           2\n",
      "ticket                                     113781\n",
      "fare                                       151.55\n",
      "cabin                                     C22 C26\n",
      "embarked                                        S\n",
      "boat                                          NaN\n",
      "body                                          135\n",
      "home.dest         Montreal, PQ / Chesterville, ON\n",
      "Name: 25, dtype: object\n",
      "row_index_25:\n",
      " pclass                                          1\n",
      "survived                                        0\n",
      "name         Allison, Mr. Hudson Joshua Creighton\n",
      "sex                                          male\n",
      "age                                            30\n",
      "sibsp                                           1\n",
      "parch                                           2\n",
      "ticket                                     113781\n",
      "fare                                       151.55\n",
      "cabin                                     C22 C26\n",
      "embarked                                        S\n",
      "boat                                          NaN\n",
      "body                                          135\n",
      "home.dest         Montreal, PQ / Chesterville, ON\n",
      "Name: 25, dtype: object\n",
      "row_position_fifth:\n",
      " pclass                                          1\n",
      "survived                                        0\n",
      "name         Allison, Mr. Hudson Joshua Creighton\n",
      "sex                                          male\n",
      "age                                            30\n",
      "sibsp                                           1\n",
      "parch                                           2\n",
      "ticket                                     113781\n",
      "fare                                       151.55\n",
      "cabin                                     C22 C26\n",
      "embarked                                        S\n",
      "boat                                          NaN\n",
      "body                                          135\n",
      "home.dest         Montreal, PQ / Chesterville, ON\n",
      "Name: 25, dtype: object\n"
     ]
    }
   ],
   "source": [
    "# Print out the first 5 rows in 'titanic_survival'.\n",
    "#print(titanic_survival.iloc[:5,:])\n",
    "\n",
    "new_titanic_survival = titanic_survival.dropna(subset=[\"body\"])\n",
    "\n",
    "# Print out the first 5 rows in 'new_titanic_survival'.\n",
    "#print(new_titanic_survival.iloc[:5,:])\n",
    "\n",
    "# Print out 4th row in 'new_titanic_survival'.\n",
    "row_index_4 = new_titanic_survival.iloc[4,:]\n",
    "print(\"row_index_4:\\n\", row_index_4)\n",
    "\n",
    "# .loc instead addresses rows and columns by index, not position\n",
    "# This actually prints the first row, because it has index 3\n",
    "#print(new_titanic_survival.loc[3,:])\n",
    "\n",
    "row_index_25 = new_titanic_survival.loc[25,:]\n",
    "print(\"row_index_25:\\n\", row_index_25)\n",
    "\n",
    "row_position_fifth = new_titanic_survival.iloc[4,:]\n",
    "print(\"row_position_fifth:\\n\", row_position_fifth)"
   ]
  },
  {
   "cell_type": "markdown",
   "metadata": {},
   "source": [
    "###9: Column indices"
   ]
  },
  {
   "cell_type": "markdown",
   "metadata": {},
   "source": [
    "We can also index columns using the .loc[] method."
   ]
  },
  {
   "cell_type": "markdown",
   "metadata": {},
   "source": [
    "####Instructions"
   ]
  },
  {
   "cell_type": "markdown",
   "metadata": {},
   "source": [
    "Assign the value at row index 1100, column index \"age\" to row_1100_age.\n",
    "\n",
    "Assign the value at row index 25, column index \"survived\" to row_25_survived."
   ]
  },
  {
   "cell_type": "code",
   "execution_count": 11,
   "metadata": {
    "collapsed": false
   },
   "outputs": [
    {
     "name": "stdout",
     "output_type": "stream",
     "text": [
      "new_titanic_survival[:5]:\n",
      "     pclass  survived                                  name   sex  age  sibsp  \\\n",
      "2        3         0           Abbott, Mr. Rossmore Edward  male   16      1   \n",
      "10       3         0        Adahl, Mr. Mauritz Nils Martin  male   30      0   \n",
      "11       3         0                       Adams, Mr. John  male   26      0   \n",
      "20       3         0                      Ali, Mr. William  male   25      0   \n",
      "25       1         0  Allison, Mr. Hudson Joshua Creighton  male   30      1   \n",
      "\n",
      "    parch              ticket    fare    cabin embarked boat  body  \\\n",
      "2       1           C.A. 2673   20.25      NaN        S  NaN   190   \n",
      "10      0              C 7076    7.25      NaN        S  NaN    72   \n",
      "11      0              341826    8.05      NaN        S  NaN   103   \n",
      "20      0  SOTON/O.Q. 3101312    7.05      NaN        S  NaN    79   \n",
      "25      2              113781  151.55  C22 C26        S  NaN   135   \n",
      "\n",
      "                          home.dest  \n",
      "2               East Providence, RI  \n",
      "10      Asarum, Sweden Brooklyn, NY  \n",
      "11             Bournemouth, England  \n",
      "20                        Argentina  \n",
      "25  Montreal, PQ / Chesterville, ON  \n"
     ]
    }
   ],
   "source": [
    "new_titanic_survival = titanic_survival.dropna(subset=[\"body\"])\n",
    "print(\"new_titanic_survival[:5]:\\n\", new_titanic_survival[:5])\n",
    "\n",
    "# Print the value in the first column of the first row.\n",
    "#print(new_titanic_survival.iloc[0,0])\n",
    "\n",
    "# Prints the value at row index 3 and column \"pclass\".\n",
    "#print(new_titanic_survival.loc[3,\"pclass\"])\n",
    "\n",
    "#row_1100_age = new_titanic_survival.loc[1100, \"age\"]\n",
    "row_25_survived = new_titanic_survival.loc[25, \"survived\"]\n",
    "\n",
    "#print(row_25_survived)"
   ]
  },
  {
   "cell_type": "markdown",
   "metadata": {},
   "source": [
    "###10: Reindex rows"
   ]
  },
  {
   "cell_type": "markdown",
   "metadata": {
    "collapsed": false
   },
   "source": [
    "Remember how new_titanic_survival didn't have sequential row indexes?\n",
    "\n",
    "Each row retained its original index from titanic_survival.\n",
    "\n",
    "Sometimes it is useful to reindex, and make new indexes starting from 0.\n",
    "\n",
    "To do this, we can use the reset_index() method."
   ]
  },
  {
   "cell_type": "markdown",
   "metadata": {},
   "source": [
    "####Instructions"
   ]
  },
  {
   "cell_type": "markdown",
   "metadata": {},
   "source": [
    "Use the dropna method to remove rows that have missing values in the \"age\" or \"boat\" columns.\n",
    "\n",
    "Then, reindex the resulting dataframe so the row indexes start from 0.\n",
    "\n",
    "Assign the final result to titanic_reindexed."
   ]
  },
  {
   "cell_type": "code",
   "execution_count": 12,
   "metadata": {
    "collapsed": false
   },
   "outputs": [
    {
     "name": "stdout",
     "output_type": "stream",
     "text": [
      "new_titanic_survival[:5]:\n",
      "    pclass  survived                                  name   sex  age  sibsp  \\\n",
      "0       3         0           Abbott, Mr. Rossmore Edward  male   16      1   \n",
      "1       3         0        Adahl, Mr. Mauritz Nils Martin  male   30      0   \n",
      "2       3         0                       Adams, Mr. John  male   26      0   \n",
      "3       3         0                      Ali, Mr. William  male   25      0   \n",
      "4       1         0  Allison, Mr. Hudson Joshua Creighton  male   30      1   \n",
      "\n",
      "   parch              ticket    fare    cabin embarked boat  body  \\\n",
      "0      1           C.A. 2673   20.25      NaN        S  NaN   190   \n",
      "1      0              C 7076    7.25      NaN        S  NaN    72   \n",
      "2      0              341826    8.05      NaN        S  NaN   103   \n",
      "3      0  SOTON/O.Q. 3101312    7.05      NaN        S  NaN    79   \n",
      "4      2              113781  151.55  C22 C26        S  NaN   135   \n",
      "\n",
      "                         home.dest  \n",
      "0              East Providence, RI  \n",
      "1      Asarum, Sweden Brooklyn, NY  \n",
      "2             Bournemouth, England  \n",
      "3                        Argentina  \n",
      "4  Montreal, PQ / Chesterville, ON  \n"
     ]
    }
   ],
   "source": [
    "new_titanic_survival = new_titanic_survival.reset_index(drop=True)\n",
    "print(\"new_titanic_survival[:5]:\\n\", new_titanic_survival[:5])\n",
    "\n",
    "new_titanic_survival = titanic_survival.dropna(subset=[\"age\", \"boat\"])\n",
    "titanic_reindexed = new_titanic_survival.reset_index(drop=True)"
   ]
  },
  {
   "cell_type": "markdown",
   "metadata": {},
   "source": [
    "###11: Use the apply function"
   ]
  },
  {
   "cell_type": "markdown",
   "metadata": {},
   "source": [
    "The first step we need to take to figure out the age breakdown is to learn about the .apply() method.\n",
    "\n",
    "By default, .apply() will iterate through each column in a dataframe, and perform a function on it.\n",
    "\n",
    "The column will be passed into the function.\n",
    "\n",
    "The result from the function will be combined with all of the other results, and placed into a new series.\n",
    "\n",
    "The function results will have the same position as the column they were generated from."
   ]
  },
  {
   "cell_type": "markdown",
   "metadata": {},
   "source": [
    "####Instructions"
   ]
  },
  {
   "cell_type": "markdown",
   "metadata": {},
   "source": [
    "Write a function to count up the number of non-null elements in a series.\n",
    "\n",
    "Use the .apply() method, along with your function, to run across all the columns in titanic_survival.\n",
    "\n",
    "Assign the result to column_not_null_count."
   ]
  },
  {
   "cell_type": "code",
   "execution_count": 13,
   "metadata": {
    "collapsed": false
   },
   "outputs": [
    {
     "name": "stdout",
     "output_type": "stream",
     "text": [
      "column_null_count:\n",
      " pclass          0\n",
      "survived        0\n",
      "name            0\n",
      "sex             0\n",
      "age           263\n",
      "sibsp           0\n",
      "parch           0\n",
      "ticket          0\n",
      "fare            1\n",
      "cabin        1014\n",
      "embarked        2\n",
      "boat          823\n",
      "body         1188\n",
      "home.dest     563\n",
      "dtype: int64\n"
     ]
    }
   ],
   "source": [
    "import pandas as pd\n",
    "\n",
    "# Function counts the number of null values in a series.\n",
    "def null_count(column):\n",
    "    # Make a vector that contains True if null, False if not.\n",
    "    column_null = pd.isnull(column)\n",
    "    # Create a new vector with only values where the series is null.\n",
    "    null = column[column_null == True]\n",
    "    # Return the count of null values.\n",
    "    return len(null)\n",
    "\n",
    "# Compute null counts for each column.\n",
    "column_null_count = titanic_survival.apply(null_count)\n",
    "print(\"column_null_count:\\n\", column_null_count)\n",
    "\n",
    "def not_null_count(column):\n",
    "    column_null = pd.isnull(column)\n",
    "    null = column[column_null == False]\n",
    "    return len(null)\n",
    "\n",
    "column_not_null_count = titanic_survival.apply(not_null_count)"
   ]
  },
  {
   "cell_type": "markdown",
   "metadata": {},
   "source": [
    "###12: Applying a function to a row"
   ]
  },
  {
   "cell_type": "markdown",
   "metadata": {
    "collapsed": true
   },
   "source": [
    "By passing in the axis argument, we can use the .apply() method to iterate over rows, not columns."
   ]
  },
  {
   "cell_type": "markdown",
   "metadata": {},
   "source": [
    "####Instructions"
   ]
  },
  {
   "cell_type": "markdown",
   "metadata": {},
   "source": [
    "If someone is under 18, they are a \"minor\". If they are over 18, they are an \"adult\". If their age is missing (is null), their age is \"unknown\".\n",
    "\n",
    "Make a function that returns the string \"minor\" if someone is under 18, \"adult\" if they are over 18, and \"unknown\" if their age is null.\n",
    "\n",
    "Then, use the function along with .apply() to find the right label for everyone.\n",
    "\n",
    "Assign the result to age_labels.\n",
    "\n",
    "You can use isnull to check if a value is null or not."
   ]
  },
  {
   "cell_type": "code",
   "execution_count": 14,
   "metadata": {
    "collapsed": false
   },
   "outputs": [
    {
     "name": "stdout",
     "output_type": "stream",
     "text": [
      "age_labels[:5]:\n",
      " 0    adult\n",
      "1    minor\n",
      "2    minor\n",
      "3    adult\n",
      "4    minor\n",
      "dtype: object\n"
     ]
    }
   ],
   "source": [
    "import pandas as pd\n",
    "\n",
    "# Function will check if a row is an entry for a minor (under 18), or not.\n",
    "def is_minor(row):\n",
    "    if row[\"age\"] < 18:\n",
    "        return True\n",
    "    else:\n",
    "        return False\n",
    "\n",
    "# This is a boolean series with the same length as the number of rows in titanic_survival\n",
    "# Each entry is True if the row at the same position is a record for a minor\n",
    "# The axis of 1 specifies that it will iterate over rows, not columns\n",
    "minors = titanic_survival.apply(is_minor, axis=1)\n",
    "\n",
    "def generate_age_label(row):\n",
    "    age = row[\"age\"]\n",
    "    if pd.isnull(age):\n",
    "        return \"unknown\"\n",
    "    elif age < 18:\n",
    "        return \"minor\"\n",
    "    else:\n",
    "        return \"adult\"\n",
    "\n",
    "age_labels = titanic_survival.apply(generate_age_label, axis=1)\n",
    "\n",
    "print(\"age_labels[:5]:\\n\", age_labels[:5])"
   ]
  },
  {
   "cell_type": "markdown",
   "metadata": {},
   "source": [
    "###13: Computing survival percentage by age group"
   ]
  },
  {
   "cell_type": "markdown",
   "metadata": {},
   "source": [
    "Now that we have age labels for everyone, let's make a pivot table to find survival chance by age group."
   ]
  },
  {
   "cell_type": "markdown",
   "metadata": {},
   "source": [
    "####Instructions"
   ]
  },
  {
   "cell_type": "markdown",
   "metadata": {},
   "source": [
    "Make a pivot table that computes the mean survival chance(\"survived\"), for each age group (\"age_labels\").\n",
    "\n",
    "Assign the result to age_group_survival."
   ]
  },
  {
   "cell_type": "code",
   "execution_count": 15,
   "metadata": {
    "collapsed": false
   },
   "outputs": [],
   "source": [
    "import numpy as np\n",
    "\n",
    "#age_group_survival = titanic_survival.pivot_table(index=\"age_labels\", values=[\"survived\"], aggfunc=np.mean)"
   ]
  }
 ],
 "metadata": {
  "kernelspec": {
   "display_name": "Python 3",
   "language": "python",
   "name": "python3"
  },
  "language_info": {
   "codemirror_mode": {
    "name": "ipython",
    "version": 3
   },
   "file_extension": ".py",
   "mimetype": "text/x-python",
   "name": "python",
   "nbconvert_exporter": "python",
   "pygments_lexer": "ipython3",
   "version": "3.4.3"
  }
 },
 "nbformat": 4,
 "nbformat_minor": 0
}
