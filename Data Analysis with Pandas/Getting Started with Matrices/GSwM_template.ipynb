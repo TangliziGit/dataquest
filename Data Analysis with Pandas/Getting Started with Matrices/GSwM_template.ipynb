{
 "cells": [
  {
   "cell_type": "code",
   "execution_count": 1,
   "metadata": {
    "collapsed": true
   },
   "outputs": [],
   "source": [
    "from __future__ import print_function"
   ]
  },
  {
   "cell_type": "markdown",
   "metadata": {},
   "source": [
    "#Data Analysis with Pandas"
   ]
  },
  {
   "cell_type": "markdown",
   "metadata": {},
   "source": [
    "##Getting Started with Matrices"
   ]
  },
  {
   "cell_type": "markdown",
   "metadata": {},
   "source": [
    "###1: Reading data into NumPy"
   ]
  },
  {
   "cell_type": "markdown",
   "metadata": {
    "collapsed": true
   },
   "source": [
    "NumPy is a Python module that has a lot of functions for working with data.\n",
    "\n",
    "If you want to do serious work with data in Python, you'll be using a lot of NumPy.\n",
    "\n",
    "We'll work through importing NumPy and loading in a csv file."
   ]
  },
  {
   "cell_type": "markdown",
   "metadata": {},
   "source": [
    "####Instructions"
   ]
  },
  {
   "cell_type": "markdown",
   "metadata": {},
   "source": [
    "Import the data in \"world_alcohol.csv\" into the variable world_alcohol."
   ]
  },
  {
   "cell_type": "code",
   "execution_count": 2,
   "metadata": {
    "collapsed": false
   },
   "outputs": [
    {
     "name": "stdout",
     "output_type": "stream",
     "text": [
      "world_alcohol:\n",
      " [[  1.98600000e+03              nan              nan              nan\n",
      "    0.00000000e+00]\n",
      " [  1.98600000e+03              nan              nan              nan\n",
      "    5.00000000e-01]\n",
      " [  1.98500000e+03              nan              nan              nan\n",
      "    1.62000000e+00]\n",
      " ..., \n",
      " [  1.98600000e+03              nan              nan              nan\n",
      "    2.54000000e+00]\n",
      " [  1.98700000e+03              nan              nan              nan\n",
      "    0.00000000e+00]\n",
      " [  1.98600000e+03              nan              nan              nan\n",
      "    5.15000000e+00]]\n"
     ]
    }
   ],
   "source": [
    "import numpy\n",
    "\n",
    "f = \"data/world_alcohol.csv\"\n",
    "world_alcohol = numpy.genfromtxt(f, delimiter=\",\")\n",
    "print(\"world_alcohol:\\n\", world_alcohol)"
   ]
  },
  {
   "cell_type": "markdown",
   "metadata": {},
   "source": [
    "###3: Fixing the data types"
   ]
  },
  {
   "cell_type": "markdown",
   "metadata": {},
   "source": [
    "If you looked at the data you read in last screen, you may have noticed that it looked very strange.\n",
    "\n",
    "This is because genfromtxt reads the data into a NumPy array.\n",
    "\n",
    "Every element in an array has to be the same data type.\n",
    "\n",
    "So everything is a string, or everything is an integer, and so on.\n",
    "\n",
    "NumPy tried to convert all of our data to floats, which caused the values to become strange.\n",
    "\n",
    "We'll need to specify the data type when we read our data in so we can avoid that."
   ]
  },
  {
   "cell_type": "markdown",
   "metadata": {},
   "source": [
    "####Instructions"
   ]
  },
  {
   "cell_type": "markdown",
   "metadata": {},
   "source": [
    "Read in the \"world_alcohol.csv\" data to world_alcohol, using the str datatype.\n",
    "\n",
    "Be sure to skip the header row."
   ]
  },
  {
   "cell_type": "code",
   "execution_count": 3,
   "metadata": {
    "collapsed": false
   },
   "outputs": [
    {
     "name": "stdout",
     "output_type": "stream",
     "text": [
      "world_alcohol:\n",
      " [['1986' 'Western Pacific' 'Viet Nam' 'Wine' '0']\n",
      " ['1986' 'Americas' 'Uruguay' 'Other' '0.5']\n",
      " ['1985' 'Africa' \"Cte d'Ivoire\" 'Wine' '1.62']\n",
      " ..., \n",
      " ['1986' 'Europe' 'Switzerland' 'Spirits' '2.54']\n",
      " ['1987' 'Western Pacific' 'Papua New Guinea' 'Other' '0']\n",
      " ['1986' 'Africa' 'Swaziland' 'Other' '5.15']]\n"
     ]
    }
   ],
   "source": [
    "import numpy\n",
    "\n",
    "# Using the dtype keyword argument with the str type tells numpy that everything we are reading in is a string.\n",
    "# \"U75\" tells numpy to load the file as strings.\n",
    "# The \"U\" refers to unicode (a type of string), and the 75 is the maximum length of a string element in the data.\n",
    "# While we're at it, let's also skip the header.\n",
    "# We can add the optional skip_header keyword argument, and set it equal to the number of header rows to skip (1).\n",
    "f = \"data/world_alcohol.csv\"\n",
    "world_alcohol = numpy.genfromtxt(f, delimiter=\",\", dtype=\"U75\", skip_header=0)\n",
    "print(\"world_alcohol:\\n\", world_alcohol)"
   ]
  },
  {
   "cell_type": "markdown",
   "metadata": {},
   "source": [
    "###3: Indexing the data"
   ]
  },
  {
   "cell_type": "markdown",
   "metadata": {},
   "source": [
    "Now that we know how to read in a file, let's start pulling values out.\n",
    "\n",
    "Remember how all elements in a matrix have an index?\n",
    "\n",
    "We can print the item at row 1, column 2, by typing print world_alcohol[0,1]"
   ]
  },
  {
   "cell_type": "markdown",
   "metadata": {},
   "source": [
    "####Instructions"
   ]
  },
  {
   "cell_type": "markdown",
   "metadata": {},
   "source": [
    "Assign the amount of alcohol Uruguayans drank in other beverages per capita in 1986 to uruguay_other_1986. This is the second row in the data.\n",
    "\n",
    "Assign the whole fourth row to row_four.\n",
    "\n",
    "Assign the whole year column to years."
   ]
  },
  {
   "cell_type": "code",
   "execution_count": 4,
   "metadata": {
    "collapsed": false
   },
   "outputs": [
    {
     "name": "stdout",
     "output_type": "stream",
     "text": [
      "world_alcohol[0,4]: 0\n",
      "world_alcohol[0,:]: ['1986' 'Western Pacific' 'Viet Nam' 'Wine' '0']\n",
      "countries: ['Viet Nam' 'Uruguay' \"Cte d'Ivoire\" ..., 'Switzerland' 'Papua New Guinea'\n",
      " 'Swaziland']\n",
      "uruguay_other_1986: 0.5\n",
      "row_four: ['1986' 'Americas' 'Colombia' 'Beer' '4.27']\n",
      "years: ['1986' '1986' '1985' ..., '1986' '1987' '1986']\n"
     ]
    }
   ],
   "source": [
    "# The columns are Year, Region, Country, Beverage type, and Number of liters of pure alcohol drunk per person\n",
    "# The print function below prints the number of liters of pure alcohol vietnamese drank in wine in 1986.\n",
    "print(\"world_alcohol[0,4]:\", world_alcohol[0,4])\n",
    "\n",
    "# The Beverage type can take the values \"Beer\", \"Wine\", \"Spirits\", and \"Other\".\n",
    "\n",
    "# If we want to grab a whole row, we replace the column number with a colon, which means \"get all of the columns\".\n",
    "print(\"world_alcohol[0,:]:\", world_alcohol[0,:])\n",
    "\n",
    "# If we want to grab a whole column, we do the same thing with the row number.\n",
    "countries = world_alcohol[:,2]\n",
    "print(\"countries:\", countries)\n",
    "\n",
    "uruguay_other_1986 = world_alcohol[1,4]\n",
    "print(\"uruguay_other_1986:\", uruguay_other_1986)\n",
    "\n",
    "row_four = world_alcohol[3,:]\n",
    "print(\"row_four:\", row_four)\n",
    "\n",
    "years = world_alcohol[:,0]\n",
    "print(\"years:\", years)"
   ]
  },
  {
   "cell_type": "markdown",
   "metadata": {},
   "source": [
    "###4: Vectors"
   ]
  },
  {
   "cell_type": "markdown",
   "metadata": {},
   "source": [
    "When we grab a whole row or column from the matrix, we actually end up with a vector.\n",
    "\n",
    "Just like a matrix is a 2-dimensional array because it has rows and columns, a vector is a 1-dimensional array.\n",
    "\n",
    "Vectors are similar to Python lists in that they can be indexed with only one number.\n",
    "\n",
    "Think of a vector as just a single row, or a single column."
   ]
  },
  {
   "cell_type": "markdown",
   "metadata": {},
   "source": [
    "####Instructions"
   ]
  },
  {
   "cell_type": "markdown",
   "metadata": {},
   "source": [
    "Assign index 30 in the years column to years_30.\n",
    "\n",
    "Assign from index 80 to index 200, inclusive, in the years columns to years_80_200.\n",
    "\n",
    "Assign from index 100 to index 103, inclusive, in the years columns to years_100_103."
   ]
  },
  {
   "cell_type": "code",
   "execution_count": 5,
   "metadata": {
    "collapsed": false
   },
   "outputs": [
    {
     "name": "stdout",
     "output_type": "stream",
     "text": [
      "countries[0]: Viet Nam\n",
      "countries[10]: Botswana\n",
      "countries[1:10]: ['Uruguay' \"Cte d'Ivoire\" 'Colombia' 'Saint Kitts and Nevis' 'Guatemala'\n",
      " 'Mauritius' 'Angola' 'Antigua and Barbuda' 'Nigeria']\n",
      "countries[50:70]: ['Switzerland' 'Finland' 'Saudi Arabia' 'Kuwait' 'El Salvador' 'Suriname'\n",
      " 'Viet Nam' 'Croatia' 'Somalia' 'Syrian Arab Republic'\n",
      " 'Iran (Islamic Republic of)' 'Papua New Guinea' 'Suriname' 'Libya'\n",
      " 'Bolivia (Plurinational State of)' 'Somalia' 'Iraq' 'Namibia' 'Uganda'\n",
      " 'Togo']\n"
     ]
    }
   ],
   "source": [
    "# Countries is a vector.\n",
    "countries = world_alcohol[:,2]\n",
    "\n",
    "# We can index a vector with only one number.\n",
    "print(\"countries[0]:\", countries[0])\n",
    "print(\"countries[10]:\", countries[10])\n",
    "\n",
    "# We can also slice vectors to get some of the values in the vector.\n",
    "# The result is a new, smaller, vector.\n",
    "# Slicing gets values from the first index up to but not including the second index.\n",
    "print(\"countries[1:10]:\", countries[1:10])\n",
    "print(\"countries[50:70]:\", countries[50:70])\n",
    "\n",
    "years = world_alcohol[:,0]\n",
    "years_30 = years[30]\n",
    "years_80_200 = years[80:201]\n",
    "years_100_103 = years[100:104]"
   ]
  },
  {
   "cell_type": "markdown",
   "metadata": {},
   "source": [
    "###5: Array shape"
   ]
  },
  {
   "cell_type": "markdown",
   "metadata": {},
   "source": [
    "All arrays, whether they are 1-dimensional (vectors), two dimensional (matrices), or even larger, have a number of elements in each dimension.\n",
    "\n",
    "For example, a matrix may have 200 rows and 10 columns.\n",
    "\n",
    "We can use the shape method to find these dimensions."
   ]
  },
  {
   "cell_type": "markdown",
   "metadata": {},
   "source": [
    "####Instructions"
   ]
  },
  {
   "cell_type": "markdown",
   "metadata": {},
   "source": [
    "Assign the shape of the first column in world_alcohol to column_one_shape. The first column has index 0.\n",
    "\n",
    "Assign the shape of the tenth row in world_alcohol to row_ten_shape. The tenth row has index 9."
   ]
  },
  {
   "cell_type": "code",
   "execution_count": 6,
   "metadata": {
    "collapsed": false
   },
   "outputs": [
    {
     "name": "stdout",
     "output_type": "stream",
     "text": [
      "world_alcohol.shape: (3257, 5)\n",
      "world_alcohol[1,:].shape: (5,)\n"
     ]
    }
   ],
   "source": [
    "# Print the shape of the world alcohol matrix.\n",
    "# The first number is the number of rows, and the second is the number of columns.\n",
    "print(\"world_alcohol.shape:\", world_alcohol.shape)\n",
    "\n",
    "# We can do the same with a vector, but they only have one dimension, so only one number is printed.\n",
    "print(\"world_alcohol[1,:].shape:\", world_alcohol[1,:].shape)\n",
    "column_one_shape = world_alcohol[:,0].shape\n",
    "row_ten_shape = world_alcohol[9,:].shape"
   ]
  },
  {
   "cell_type": "markdown",
   "metadata": {},
   "source": [
    "###6: Boolean elements"
   ]
  },
  {
   "cell_type": "markdown",
   "metadata": {},
   "source": [
    "We can also use boolean statements on arrays to get truth values.\n",
    "\n",
    "The interesting part about this is that the booleans are computed elementwise.\n",
    "\n",
    "    world_alcohol[:,3] == \"Beer\"\n",
    "\n",
    "The above code will actually compare each element of the fourth column of world_alcohol, check if it equals \"Beer\", and create a new vector with the True/False values."
   ]
  },
  {
   "cell_type": "markdown",
   "metadata": {},
   "source": [
    "####Instructions"
   ]
  },
  {
   "cell_type": "markdown",
   "metadata": {},
   "source": [
    "Create a vector that checks if the values in column one equal \"1984\". Assign the vector to years_1984.\n",
    "\n",
    "Create a vector that checks if the values in column three equal \"Canada\". Assign the vector to countries_canada."
   ]
  },
  {
   "cell_type": "code",
   "execution_count": 7,
   "metadata": {
    "collapsed": false
   },
   "outputs": [
    {
     "name": "stdout",
     "output_type": "stream",
     "text": [
      "selected_types == 'Beer': [False False False  True  True False False False False False]\n"
     ]
    }
   ],
   "source": [
    "# This will get the first 10 items in the fourth column of world alcohol.\n",
    "# This is the type column.\n",
    "selected_types = world_alcohol[:,3][0:10]\n",
    "\n",
    "# This will create a vector that contains True if the item at that position equal \"Beer\", and False if not.\n",
    "# The vector is then printed.\n",
    "# Note how the first three values are False, because the element in the position does not equal \"Beer\".\n",
    "# The fourth and fifth are \"True\".\n",
    "print(\"selected_types == 'Beer':\", selected_types == \"Beer\")\n",
    "years_1984 = world_alcohol[:,0] == \"1984\"\n",
    "countries_canada = world_alcohol[:,2] == \"Canada\""
   ]
  },
  {
   "cell_type": "markdown",
   "metadata": {},
   "source": [
    "###7: Subsets of vectors"
   ]
  },
  {
   "cell_type": "markdown",
   "metadata": {},
   "source": [
    "We can subset vectors based on boolean vectors like the ones we generated in the last screen.\n",
    "\n",
    "    beer = world_alcohol[:,3] == \"Beer\"\n",
    "    print world_alcohol[:,3][beer]\n",
    "\n",
    "The code above will select and print only the elements in the fourth column whose value is \"Beer\".\n",
    "\n",
    "world_alcohol[:,3][beer] goes through each position in the fourth column vector (from 0 to the last index), and checks if the beer vector is True at the same position. If the beer vector is True, it assigns the element of the fourth column at that position to the subset. If the beer vector is False, the element is skipped."
   ]
  },
  {
   "cell_type": "markdown",
   "metadata": {},
   "source": [
    "####Instructions"
   ]
  },
  {
   "cell_type": "markdown",
   "metadata": {},
   "source": [
    "Subset the third column of world_alcohol on whether the value is \"Algeria\". Assign the result to country_algeria.\n",
    "\n",
    "Subset the first column of world_alcohol on whether the value is \"1987\". Assign the result to year_1987."
   ]
  },
  {
   "cell_type": "code",
   "execution_count": 8,
   "metadata": {
    "collapsed": false
   },
   "outputs": [
    {
     "name": "stdout",
     "output_type": "stream",
     "text": [
      "types: ['Wine' 'Other' 'Wine' 'Beer' 'Beer' 'Other' 'Wine' 'Spirits' 'Spirits'\n",
      " 'Other']\n",
      "beer_boolean: [False False False  True  True False False False False False]\n",
      "types[beer_boolean]: ['Beer' 'Beer']\n"
     ]
    }
   ],
   "source": [
    "# Select the first 10 values in the \"type\" column\n",
    "types = world_alcohol[:,3][0:10]\n",
    "print(\"types:\", types)\n",
    "\n",
    "# Create a boolean vector that contains True or False indicating whether each element in types == \"Beer\"\n",
    "beer_boolean = types == \"Beer\"\n",
    "print(\"beer_boolean:\", beer_boolean)\n",
    "\n",
    "# Subset the types vector using the beer_boolean\n",
    "# We end up with only two entries, corresponding to the entries in the types vector that have the \"Beer\" value\n",
    "print(\"types[beer_boolean]:\", types[beer_boolean])\n",
    "country_algeria = world_alcohol[:,2][world_alcohol[:,2] == \"Algeria\"]\n",
    "year_1987 = world_alcohol[:,0][world_alcohol[:,0] == \"1987\"]"
   ]
  },
  {
   "cell_type": "markdown",
   "metadata": {},
   "source": [
    "###8: Subsets of matrices"
   ]
  },
  {
   "cell_type": "markdown",
   "metadata": {},
   "source": [
    "We can subset a matrix in the same way that we can subset a vector.\n",
    "\n",
    "    beer = world_alcohol[:,3] == \"Beer\"\n",
    "    print world_alcohol[beer,:]\n",
    "\n",
    "The above code will print all of the rows in world_alcohol where the \"Type\" column equals \"Beer\"\n",
    "\n",
    "Note how because matrices are indexed using two numbers, we are substituting the boolean vector beer for the first number.\n",
    "\n",
    "We can alter the second number to select different columns.\n",
    "\n",
    "    beer = world_alcohol[:,3] == \"Beer\"\n",
    "    print world_alcohol[beer,1]\n",
    "\n",
    "The above code would select the second column where the \"Type\" column equals \"Beer\""
   ]
  },
  {
   "cell_type": "markdown",
   "metadata": {},
   "source": [
    "####Instructions"
   ]
  },
  {
   "cell_type": "markdown",
   "metadata": {},
   "source": [
    "Assign all of the rows where the country equals \"Turkey\" to turkey_rows.\n",
    "\n",
    "Assign the first 10 rows where the year equals \"1985\" to rows_1985.\n",
    "\n",
    "Note that variable names in Python can't start with numbers, so we can't start our name with 1985."
   ]
  },
  {
   "cell_type": "code",
   "execution_count": 9,
   "metadata": {
    "collapsed": false
   },
   "outputs": [
    {
     "name": "stdout",
     "output_type": "stream",
     "text": [
      "wine_rows[0:10,:]: [['1986' 'Western Pacific' 'Viet Nam' 'Wine' '0']\n",
      " ['1985' 'Africa' \"Cte d'Ivoire\" 'Wine' '1.62']\n",
      " ['1987' 'Africa' 'Mauritius' 'Wine' '0.13']\n",
      " ['1987' 'Africa' 'Botswana' 'Wine' '0.2']\n",
      " ['1987' 'Africa' 'Guinea-Bissau' 'Wine' '0.07']\n",
      " ['1984' 'Americas' 'Costa Rica' 'Wine' '0.06']\n",
      " ['1986' 'South-East Asia' 'Myanmar' 'Wine' '0']\n",
      " ['1985' 'Europe' 'United Kingdom of Great Britain and Northern Ireland'\n",
      "  'Wine' '1.36']\n",
      " ['1986' 'Western Pacific' 'Micronesia (Federated States of)' 'Wine' '0']\n",
      " ['1986' 'Europe' 'Russian Federation' 'Wine' '0.8']]\n"
     ]
    }
   ],
   "source": [
    "# wine_rows now contains only rows where the beverage type is wine.\n",
    "wine = world_alcohol[:,3] == \"Wine\"\n",
    "wine_rows = world_alcohol[wine,:]\n",
    "\n",
    "# wine_rows is still a matrix, so we can index it as such.\n",
    "# Just like we can slice vectors, we can slice matrix rows or columns.\n",
    "# In the below statement, we print all of the columns in the first 10 rows of wine_rows.\n",
    "print(\"wine_rows[0:10,:]:\", wine_rows[0:10,:])\n",
    "turkey = world_alcohol[:,2] == \"Turkey\"\n",
    "turkey_rows = world_alcohol[turkey,:]\n",
    "\n",
    "year_1985 = world_alcohol[:,0] == \"1985\"\n",
    "rows_1985 = world_alcohol[year_1985,:][0:10,:]"
   ]
  },
  {
   "cell_type": "markdown",
   "metadata": {},
   "source": [
    "###9: Subsets with multiple conditions"
   ]
  },
  {
   "cell_type": "markdown",
   "metadata": {},
   "source": [
    "So now we can find all of the rows that correspond to \"Algeria\", for example.\n",
    "\n",
    "But what if what we really want is to find all the rows for \"Algeria\" in \"1985\"?\n",
    "\n",
    "We'll have to use multiple conditions to generate our vector.\n",
    "\n",
    "    algeria_1985_boolean = (world_alcohol[:,2] == \"Algeria\") & (world_alcohol[:,0] == \"1985\")\n",
    "\n",
    "The code above will generate a boolean that uses multiple conditions.\n",
    "\n",
    "How it works is that the parentheses specify that the two component vectors should be generated first. (order of operations)\n",
    "\n",
    "Then the two vectors will be compared index by index. If both vectors are True at index 1, then the resulting vector will be True at index 1.\n",
    "\n",
    "If either vector is False at index 1, the result will be False at index 1.\n",
    "\n",
    "Here's an expanded example:\n",
    "\n",
    "    boolean_1985 = world_alcohol[:,0] == \"1985\"\n",
    "    algeria_boolean = world_alcohol[:,2] == \"Algeria\"\n",
    "    algeria_1985_boolean = boolean_1985 & algeria_boolean\n",
    "\n",
    "We can add more than 2 conditions if we want -- we just have to put an & symbol between each one.\n",
    "\n",
    "The resulting vector will contain True in the position corresponding to rows where all conditions are True, and False for rows where any condition is False."
   ]
  },
  {
   "cell_type": "markdown",
   "metadata": {},
   "source": [
    "####Instructions"
   ]
  },
  {
   "cell_type": "markdown",
   "metadata": {},
   "source": [
    "Assign all rows where the country is \"Yemen\" and the year is \"1987\" to yemen_1987.\n",
    "\n",
    "Assign all rows where the country is \"Latvia\", the year is \"1989\", and the type of alcohol is \"Wine\" to latvia_1989_wine."
   ]
  },
  {
   "cell_type": "code",
   "execution_count": 10,
   "metadata": {
    "collapsed": false
   },
   "outputs": [
    {
     "name": "stdout",
     "output_type": "stream",
     "text": [
      "world_alcohol[canada_1986,:]: [['1986' 'Americas' 'Canada' 'Other' '']\n",
      " ['1986' 'Americas' 'Canada' 'Spirits' '3.11']\n",
      " ['1986' 'Americas' 'Canada' 'Beer' '4.87']\n",
      " ['1986' 'Americas' 'Canada' 'Wine' '1.33']]\n"
     ]
    }
   ],
   "source": [
    "# Boolean vector corresponding to Canada and 1986.\n",
    "canada_1986 = (world_alcohol[:,2] == \"Canada\") & (world_alcohol[:,0] == \"1986\")\n",
    "\n",
    "# We can then use canada_1986 to subset a matrix -- it's just a normal boolean vector\n",
    "print(\"world_alcohol[canada_1986,:]:\", world_alcohol[canada_1986,:])\n",
    "yemen_1987_boolean = (world_alcohol[:,2] == \"Yemen\") & (world_alcohol[:,0] == \"1987\")\n",
    "yemen_1987 = world_alcohol[yemen_1987_boolean,:]\n",
    "\n",
    "latvia_1989_wine_boolean = (world_alcohol[:,2] == \"Latvia\") & (world_alcohol[:,0] == \"1989\") & (world_alcohol[:,3] == \"Wine\")\n",
    "latvia_1989_wine = world_alcohol[latvia_1989_wine_boolean,:]"
   ]
  },
  {
   "cell_type": "markdown",
   "metadata": {},
   "source": [
    "###10: Convert a column to floats"
   ]
  },
  {
   "cell_type": "markdown",
   "metadata": {
    "collapsed": false
   },
   "source": [
    "We now know almost everything we need to compute how much alcohol the people in a country drank in a given year!\n",
    "\n",
    "But there are a couple of things we need to work through first.\n",
    "\n",
    "First, we need to convert the \"Liters of alcohol drunk\" column (the fifth one) to floats.\n",
    "\n",
    "We need to do this because they are strings now, and we can't take the sum of strings.\n",
    "\n",
    "Because they aren't numeric, their sum wouldn't make much sense.\n",
    "\n",
    "We can use the astype method on the array to do this."
   ]
  },
  {
   "cell_type": "code",
   "execution_count": 11,
   "metadata": {
    "collapsed": false
   },
   "outputs": [],
   "source": [
    "# Let's convert the column to floats.\n",
    "#alcohol_numbers = world_alcohol[:,4].astype(float)\n",
    "\n",
    "# Hmm, but the above code fails with an error!\n",
    "# It looks like some of the values in the column can't be converted to floats.\n",
    "# We'll find out how we can figure out if values are failing in the next screen."
   ]
  },
  {
   "cell_type": "markdown",
   "metadata": {},
   "source": [
    "###11: Replace values in an array"
   ]
  },
  {
   "cell_type": "markdown",
   "metadata": {},
   "source": [
    "There are values in our alcohol consumption column that are preventing us from converting the column from floats to strings.\n",
    "\n",
    "In order to fix this, we first have to learn how to replace values.\n",
    "\n",
    "We can replace values in a NumPy array by just assigning to them with the equals sign.\n",
    "\n",
    "    world_alcohol[:,4][world_alcohol[:,4]=='0'] = '10'\n",
    "\n",
    "The code above will replace any item in the alcohol consumption column that contains '0' (remember that the world alcohol matrix is all string values) with '10'."
   ]
  },
  {
   "cell_type": "markdown",
   "metadata": {},
   "source": [
    "####Instructions"
   ]
  },
  {
   "cell_type": "markdown",
   "metadata": {},
   "source": [
    "Replace all instances of '1986' in the year column (column 1) with '2014'.\n",
    "\n",
    "Replace all the values in the type column (column 4) with 'Grog' (pirates have taken over the world)."
   ]
  },
  {
   "cell_type": "code",
   "execution_count": 12,
   "metadata": {
    "collapsed": false
   },
   "outputs": [
    {
     "name": "stdout",
     "output_type": "stream",
     "text": [
      "world_alcohol[:,2][0:10]: ['Trinidad and Tobago' 'Trinidad and Tobago' 'Trinidad and Tobago'\n",
      " 'Trinidad and Tobago' 'Trinidad and Tobago' 'Trinidad and Tobago'\n",
      " 'Trinidad and Tobago' 'Trinidad and Tobago' 'Trinidad and Tobago'\n",
      " 'Trinidad and Tobago']\n"
     ]
    }
   ],
   "source": [
    "# Let's say the US invades Canada (not that they should)\n",
    "# This will replace all instances of \"Canada\" in the country column with \"United States of America\"\n",
    "world_alcohol[:,2][world_alcohol[:,2] == \"Canada\"] = \"United States of America\"\n",
    "\n",
    "# We don't have to subset before we replace\n",
    "# Trinidad and Tobago can invade the whole world, and replace all countries\n",
    "world_alcohol[:,2] = \"Trinidad and Tobago\"\n",
    "print(\"world_alcohol[:,2][0:10]:\", world_alcohol[:,2][0:10])\n",
    "\n",
    "world_alcohol[:,0][world_alcohol[:,0] == \"1986\"] = \"2014\"\n",
    "world_alcohol[:,3] = \"Grog\"\n",
    "\n",
    "f = \"data/world_alcohol.csv\"\n",
    "world_alcohol = numpy.genfromtxt(f, delimiter=\",\", dtype=\"U75\", skip_header=0)"
   ]
  },
  {
   "cell_type": "markdown",
   "metadata": {},
   "source": [
    "###12: Convert the alcohol consumption column to floats"
   ]
  },
  {
   "cell_type": "markdown",
   "metadata": {
    "collapsed": true
   },
   "source": [
    "Now that you know what the bad value is, we can replace it and then convert the column to floats.m"
   ]
  },
  {
   "cell_type": "markdown",
   "metadata": {},
   "source": [
    "####Instructions"
   ]
  },
  {
   "cell_type": "markdown",
   "metadata": {},
   "source": [
    "Replace all the values in the alcohol consumption column (column 5) that equal bad_value with '0'.\n",
    "\n",
    "Then convert all of the values in the column to floats, and assign the result to alcohol_consumption_float_column.\n",
    "\n",
    "At the end, alcohol_consumption_float_column should contain a column of floats."
   ]
  },
  {
   "cell_type": "code",
   "execution_count": 13,
   "metadata": {
    "collapsed": false
   },
   "outputs": [],
   "source": [
    "bad_value = \"\"\n",
    "alcohol_consumption_float_column = None\n",
    "alcohol_consumption = world_alcohol[:,4]\n",
    "alcohol_consumption[alcohol_consumption == bad_value] = \"0\"\n",
    "alcohol_consumption_float_column = alcohol_consumption.astype(float)"
   ]
  },
  {
   "cell_type": "markdown",
   "metadata": {},
   "source": [
    "###13: Compute the total alcohol consumption"
   ]
  },
  {
   "cell_type": "markdown",
   "metadata": {},
   "source": [
    "We can compute the total value of a column using the sum method."
   ]
  },
  {
   "cell_type": "markdown",
   "metadata": {},
   "source": [
    "####Instructions"
   ]
  },
  {
   "cell_type": "markdown",
   "metadata": {},
   "source": [
    "Use the sum method to store the sum of the alcohol consumption column into the total_alcohol column."
   ]
  },
  {
   "cell_type": "code",
   "execution_count": 14,
   "metadata": {
    "collapsed": false
   },
   "outputs": [
    {
     "name": "stdout",
     "output_type": "stream",
     "text": [
      "total_alcohol: 3908.96\n"
     ]
    }
   ],
   "source": [
    "# We've read the alcohol consumption column (converted to floats) into the alcohol_consumption variable.\n",
    "total_alcohol = 0\n",
    "total_alcohol = alcohol_consumption_float_column.sum()\n",
    "\n",
    "print(\"total_alcohol:\", total_alcohol)"
   ]
  },
  {
   "cell_type": "markdown",
   "metadata": {},
   "source": [
    "###14: Finding how much alcohol a person in a country drank in a year"
   ]
  },
  {
   "cell_type": "markdown",
   "metadata": {},
   "source": [
    "We can subset a vector with another vector, as we learned earlier.\n",
    "\n",
    "This means that we can find the total alcohol consumed by any given country in any given year now."
   ]
  },
  {
   "cell_type": "markdown",
   "metadata": {},
   "source": [
    "####Instructions"
   ]
  },
  {
   "cell_type": "markdown",
   "metadata": {},
   "source": [
    "Assign the total amount of alcohol an average person in \"Canada\" drank in \"1986\" to canada_1986_alcohol.\n",
    "\n",
    "Assign the total amount of alcohol an average person in \"Trinidad and Tobago\" drank in \"1987\" to trinidad_1987_alcohol."
   ]
  },
  {
   "cell_type": "code",
   "execution_count": 15,
   "metadata": {
    "collapsed": false
   },
   "outputs": [
    {
     "name": "stdout",
     "output_type": "stream",
     "text": [
      "algeria_1985: [False False False ..., False False False]\n",
      "algeria_1985_alcohol: 0.31\n",
      "canada_1986_alcohol: 9.31\n",
      "trinidad_1987_alcohol: 4.35\n"
     ]
    }
   ],
   "source": [
    "# Create a boolean vector that contains True where year is 1985 and the country is Algeria.\n",
    "algeria_1985 = (world_alcohol[:,2] == \"Algeria\") & (world_alcohol[:,0] == '1985')\n",
    "print(\"algeria_1985:\", algeria_1985)\n",
    "\n",
    "# Subset the alcohol consumption vector with our boolean, and get the sum.\n",
    "# The sum is the total amount of alcohol and average Algerian drank in 1985.\n",
    "algeria_1985_alcohol = alcohol_consumption_float_column[algeria_1985].sum()\n",
    "print(\"algeria_1985_alcohol:\", algeria_1985_alcohol)\n",
    "\n",
    "canada_1986 = (world_alcohol[:,2] == \"Canada\") & (world_alcohol[:,0] == '1986')\n",
    "canada_1986_alcohol = alcohol_consumption_float_column[canada_1986].sum()\n",
    "print(\"canada_1986_alcohol:\", canada_1986_alcohol)\n",
    "\n",
    "trinidad_1987 = (world_alcohol[:,2] == \"Trinidad and Tobago\") & (world_alcohol[:,0] == '1987')\n",
    "trinidad_1987_alcohol = alcohol_consumption_float_column[trinidad_1987].sum()\n",
    "print(\"trinidad_1987_alcohol:\", trinidad_1987_alcohol)"
   ]
  },
  {
   "cell_type": "markdown",
   "metadata": {},
   "source": [
    "###15: A function to sum yearly alcohol consumption"
   ]
  },
  {
   "cell_type": "markdown",
   "metadata": {},
   "source": [
    "Now that we know how to find the total alcohol consumption of the average person in a country in a given year, we can make a function out of it.\n",
    "\n",
    "A function will make it easier for us to calculate the alcohol consumption for all countries."
   ]
  },
  {
   "cell_type": "markdown",
   "metadata": {},
   "source": [
    "####Instructions"
   ]
  },
  {
   "cell_type": "markdown",
   "metadata": {},
   "source": [
    "Fill in the rest of the calculate_consumption function.\n",
    "\n",
    "Then use the function to calculate how much alcohol people in \"India\" drank in \"1989\" on average, and store the result in india_1989_alcohol."
   ]
  },
  {
   "cell_type": "code",
   "execution_count": 16,
   "metadata": {
    "collapsed": false
   },
   "outputs": [
    {
     "name": "stdout",
     "output_type": "stream",
     "text": [
      "india_1989_alcohol: 1.66\n"
     ]
    }
   ],
   "source": [
    "def calculate_consumption(country, year):\n",
    "    country_year = (world_alcohol[:,2] == country) & (world_alcohol[:,0] == year)\n",
    "    country_year_alcohol = alcohol_consumption_float_column[country_year].sum()\n",
    "    return country_year_alcohol\n",
    "\n",
    "india_1989_alcohol = calculate_consumption(\"India\", \"1989\")\n",
    "print(\"india_1989_alcohol:\", india_1989_alcohol)"
   ]
  },
  {
   "cell_type": "markdown",
   "metadata": {},
   "source": [
    "###17: Finding the country that drinks the least"
   ]
  },
  {
   "cell_type": "markdown",
   "metadata": {},
   "source": [
    "We can now loop over our dictionary keys to find the country with the lowest amount of alcohol consumed per person in 1989."
   ]
  },
  {
   "cell_type": "markdown",
   "metadata": {},
   "source": [
    "####Instructions"
   ]
  },
  {
   "cell_type": "markdown",
   "metadata": {},
   "source": [
    "Loop over the keys in country_consumption_1989 and find the country where the average person drank the least in 1989.\n",
    "\n",
    "To do this, you'll need to use a for loop, and keep track of the lowest value and country.\n",
    "\n",
    "Assign the lowest value to lowest_consumption, and the country with the lowest value to lowest_country.\n",
    "\n",
    "Check the hint if you need help."
   ]
  },
  {
   "cell_type": "code",
   "execution_count": 17,
   "metadata": {
    "collapsed": false
   },
   "outputs": [
    {
     "name": "stdout",
     "output_type": "stream",
     "text": [
      "lowest_country: Syrian Arab Republic\n",
      "lowest_consumption: 0.0\n"
     ]
    }
   ],
   "source": [
    "country_consumption_1989 = world_alcohol[:][world_alcohol[:,0] == \"1989\"]\n",
    "#print(country_consumption_1989)\n",
    "\n",
    "# country_consumption_1989 has been loaded in for you.\n",
    "lowest_country = None\n",
    "lowest_consumption = None\n",
    "for country in country_consumption_1989:\n",
    "    consumption = float(country[4])\n",
    "    if lowest_consumption is None or lowest_consumption > consumption:\n",
    "        lowest_consumption = consumption\n",
    "        lowest_country = country[2]\n",
    "        \n",
    "print(\"lowest_country:\", lowest_country)\n",
    "print(\"lowest_consumption:\", lowest_consumption)"
   ]
  },
  {
   "cell_type": "markdown",
   "metadata": {},
   "source": [
    "###17: Finding the country that drinks the most"
   ]
  },
  {
   "cell_type": "markdown",
   "metadata": {},
   "source": [
    "Now we can find the country that drinks the most."
   ]
  },
  {
   "cell_type": "markdown",
   "metadata": {},
   "source": [
    "####Instructions"
   ]
  },
  {
   "cell_type": "markdown",
   "metadata": {},
   "source": [
    "Loop over the keys in country_consumption_1989 and find the country where the average person drank the most in 1989.\n",
    "\n",
    "To do this, you'll need to use a for loop, and keep track of the highest value and country.\n",
    "\n",
    "Assign the highest value to highest_consumption, and the country with the highest value to highest_country."
   ]
  },
  {
   "cell_type": "code",
   "execution_count": 18,
   "metadata": {
    "collapsed": false
   },
   "outputs": [
    {
     "name": "stdout",
     "output_type": "stream",
     "text": [
      "highest_country: France\n",
      "highest_consumption: 10.24\n"
     ]
    }
   ],
   "source": [
    "country_consumption_1989 = world_alcohol[:][world_alcohol[:,0] == \"1989\"]\n",
    "#print(country_consumption_1989)\n",
    "\n",
    "highest_country = None\n",
    "highest_consumption = None\n",
    "for country in country_consumption_1989:\n",
    "    consumption = float(country[4])\n",
    "    if highest_consumption is None or highest_consumption < consumption:\n",
    "        highest_consumption = consumption\n",
    "        highest_country = country[2]\n",
    "        \n",
    "print(\"highest_country:\", highest_country)\n",
    "print(\"highest_consumption:\", highest_consumption)"
   ]
  }
 ],
 "metadata": {
  "kernelspec": {
   "display_name": "Python 3",
   "language": "python",
   "name": "python3"
  },
  "language_info": {
   "codemirror_mode": {
    "name": "ipython",
    "version": 3
   },
   "file_extension": ".py",
   "mimetype": "text/x-python",
   "name": "python",
   "nbconvert_exporter": "python",
   "pygments_lexer": "ipython3",
   "version": "3.5.1"
  }
 },
 "nbformat": 4,
 "nbformat_minor": 0
}
