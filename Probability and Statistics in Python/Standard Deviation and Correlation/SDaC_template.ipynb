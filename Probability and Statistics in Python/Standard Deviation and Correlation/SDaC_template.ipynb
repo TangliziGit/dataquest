{
 "cells": [
  {
   "cell_type": "code",
   "execution_count": 1,
   "metadata": {
    "collapsed": true
   },
   "outputs": [],
   "source": [
    "from __future__ import print_function"
   ]
  },
  {
   "cell_type": "markdown",
   "metadata": {},
   "source": [
    "#Probability and Statistics in Python"
   ]
  },
  {
   "cell_type": "markdown",
   "metadata": {},
   "source": [
    "##Standard Deviation and Correlation"
   ]
  },
  {
   "cell_type": "markdown",
   "metadata": {},
   "source": [
    "###1: The mean as the center"
   ]
  },
  {
   "cell_type": "markdown",
   "metadata": {},
   "source": [
    "We have looked briefly at the mean before, but it has an interesting property.\n",
    "\n",
    "If we subtract the mean of a set of numbers from each of the numbers, the differences will always add up to zero.\n",
    "\n",
    "This is because the mean is the \"center\" of the data. All of the differences that are negative will always cancel out all of the differences that are positive.\n",
    "\n",
    "Let's look at some examples to verify this.\n",
    "\n",
    "Let's also get familiar with the mathematical symbol for the mean \\mathbf{\\bar{x}} this symbol means \"the average of all the values in x\". The fact that x is lowercase but bold means that it is a vector. The bar over top means \"the average of\"."
   ]
  },
  {
   "cell_type": "markdown",
   "metadata": {},
   "source": [
    "####Instructions"
   ]
  },
  {
   "cell_type": "markdown",
   "metadata": {},
   "source": [
    "Find the median of the values list. Assign the result to values_median.\n",
    "\n",
    "Subtract the median from each element in values. Sum up all of the differences, and assign the result to median_difference_sum."
   ]
  },
  {
   "cell_type": "code",
   "execution_count": 2,
   "metadata": {
    "collapsed": false
   },
   "outputs": [
    {
     "name": "stdout",
     "output_type": "stream",
     "text": [
      "sum(differences): 0.0\n",
      "median_difference_sum: 1.0\n"
     ]
    }
   ],
   "source": [
    "from numpy import median\n",
    "\n",
    "# Make a list of values.\n",
    "values = [2, 4, 5, -1, 0, 10, 8, 9]\n",
    "# Compute the mean of the values.\n",
    "values_mean = sum(values) / len(values)\n",
    "# Find the difference between each of the values and the mean by subtracting the mean from each value.\n",
    "differences = [i - values_mean for i in values]\n",
    "# This equals 0.  Try changing the values around and verifying that it equals 0 if you want.\n",
    "print(\"sum(differences):\", sum(differences))\n",
    "\n",
    "# We can use the median function from numpy to find the median.\n",
    "# The median is the \"middle\" value in a set of values -- if you sort the values in order, it's the one in the center (or the average of the two in the center if there are an even number of items in the set).\n",
    "# You'll see that the differences from the median don't always add to 0.  You might want to play around with this and think about why that is.\n",
    "values_median = median(values)\n",
    "differences = [i - values_median for i in values]\n",
    "median_difference_sum = sum(differences)\n",
    "\n",
    "print(\"median_difference_sum:\", median_difference_sum)"
   ]
  },
  {
   "cell_type": "markdown",
   "metadata": {},
   "source": [
    "###2: Finding variance"
   ]
  },
  {
   "cell_type": "markdown",
   "metadata": {},
   "source": [
    "Let's look at variance in the data.\n",
    "\n",
    "Variance tells us how \"spread out\" the data is around the mean.\n",
    "\n",
    "We looked at kurtosis earlier, which measures the shape of a distribution.\n",
    "\n",
    "Variance directly measures how far from the mean the average element in the data is.\n",
    "\n",
    "We calculate variance by subtracting every value from the mean, squaring the results, and averaging them.\n",
    "\n",
    "Mathemically, this looks like $\\sigma^2 = \\frac{\\displaystyle\\sum_{i=1}^{n}(x_i - \\mathbf{\\bar{x}})^2} {n}$, where, $\\sigma^2$ is variance, $\\sum_{i=1}^{n}$ means \"the sum from 1 to n\", where n is the number of elements in a vector. The formula does the exact same thing we just described, but is the most common way to show it.\n",
    "\n",
    "The \"pf\" column in the data is the total number of personal fouls each player had called on them in the season -- let's look at its variance."
   ]
  },
  {
   "cell_type": "markdown",
   "metadata": {},
   "source": [
    "####Instructions"
   ]
  },
  {
   "cell_type": "markdown",
   "metadata": {},
   "source": [
    "Compute the variance of the \"pts\" column in the data -- this it total points scored.\n",
    "\n",
    "Assign the result to point_variance."
   ]
  },
  {
   "cell_type": "code",
   "execution_count": 3,
   "metadata": {
    "collapsed": false
   },
   "outputs": [
    {
     "name": "stdout",
     "output_type": "stream",
     "text": [
      "point_variance: 220836.99585496247\n"
     ]
    }
   ],
   "source": [
    "import csv\n",
    "import pandas as pd\n",
    "import matplotlib.pyplot as plt\n",
    "\n",
    "nba_stats = pd.read_csv('data/nba_2013.csv')\n",
    "\n",
    "# The nba data is loaded into the nba_stats variable.\n",
    "# Find the mean value of the column.\n",
    "pf_mean = nba_stats[\"pf\"].mean()\n",
    "\n",
    "# Initialize variance at zero.\n",
    "variance = 0\n",
    "# Loop through each item in the \"pf\" column.\n",
    "for p in nba_stats[\"pf\"]:\n",
    "    # Calculate the difference between the mean and the value.\n",
    "    difference = p - pf_mean\n",
    "    # Square the difference -- this ensures that the result isn't negative.\n",
    "    # If we didn't square the difference, the total variance would be zero.\n",
    "    # ** in python means \"raise whatever comes before this to the power of whatever number is after this\".\n",
    "    square_difference = difference ** 2\n",
    "    # Add the difference to the total.\n",
    "    variance += square_difference\n",
    "    \n",
    "# Average the total to find the final variance.\n",
    "variance = float(variance) / len(nba_stats[\"pf\"])\n",
    "point_mean = nba_stats[\"pts\"].mean()\n",
    "\n",
    "point_variance = 0\n",
    "for p in nba_stats[\"pts\"]:\n",
    "    difference = p - point_mean\n",
    "    square_difference = difference ** 2\n",
    "    point_variance += square_difference\n",
    "    \n",
    "point_variance = float(point_variance) / len(nba_stats[\"pts\"])\n",
    "print(\"point_variance:\", point_variance)"
   ]
  },
  {
   "cell_type": "markdown",
   "metadata": {},
   "source": [
    "###3: Order of operations"
   ]
  },
  {
   "cell_type": "markdown",
   "metadata": {},
   "source": [
    "We've been multiplying and dividing values, but we haven't really discussed order of operations yet.\n",
    "\n",
    "Order of operations define which mathematical operations occur in which sequence.\n",
    "\n",
    "Think about 2 * 5 - 1 -- depending on whether we do the multiplication first, or the subtraction first, the result will change.\n",
    "\n",
    "If we multiply first, we get 10 - 1, which equals 9.\n",
    "\n",
    "If we subtract first, we get 2 * 4, which equals 8.\n",
    "\n",
    "We definitely want the results of these operations to be consistent -- we don't want to sometimes get 8, and sometimes get 9.\n",
    "\n",
    "Because of this, we have an order of operations.\n",
    "\n",
    "At the top is raising something to a power (x ** y), then multiplication (x * y) and division (x / y) are equal, and then addition (x + y) and subtraction (x - y) are equal.\n",
    "\n",
    "So raising something to a power will always happen first, then any multiplication/division, and last any addition/subtraction.\n",
    "\n",
    "We'll play around with this to get a better feel for it."
   ]
  },
  {
   "cell_type": "markdown",
   "metadata": {},
   "source": [
    "####Instructions"
   ]
  },
  {
   "cell_type": "markdown",
   "metadata": {},
   "source": [
    "Change the mathematical operations around so that c equals 25, and d equals .5."
   ]
  },
  {
   "cell_type": "code",
   "execution_count": 4,
   "metadata": {
    "collapsed": false
   },
   "outputs": [
    {
     "name": "stdout",
     "output_type": "stream",
     "text": [
      "a_mul_first == a_div_first: True\n",
      "b_sub_first == b_add_first: True\n"
     ]
    }
   ],
   "source": [
    "# You might be wondering why multiplication and division are on the same level.\n",
    "# It doesn't matter whether we do the multiplication first, or the division first -- the answer here will always be the same.\n",
    "# In this case, we need to think of division as multiplication by a fraction -- otherwise, we'll be dividing more than we want to.\n",
    "# Create a formula.\n",
    "a = 5 * 5 / 2\n",
    "\n",
    "# Multiply by 1/2 instead of dividing by 2 -- the result is the same (2/2 == 2 * 1/2).\n",
    "a_subbed = 5 * 5 * 1/2\n",
    "a_mul_first = 25 * 1/2\n",
    "a_div_first = 5 * 2.5\n",
    "print(\"a_mul_first == a_div_first:\", a_mul_first == a_div_first)\n",
    "\n",
    "# The same thing is true for subtraction and addition.\n",
    "# In this case, we need to convert subtraction into adding a negative number -- if we don't we'll end up subtracting more than we expect.\n",
    "b = 10 - 8 + 5\n",
    "# Add -8 instead of subtracting 8.\n",
    "b_subbed = 10 + -8 + 5\n",
    "b_sub_first = 2 + 5\n",
    "b_add_first = 10 + -3\n",
    "print(\"b_sub_first == b_add_first:\", b_sub_first == b_add_first)\n",
    "\n",
    "c = 10 / 2 + 5\n",
    "d = 3 - 1 / 2 * 2\n",
    "c = 10 / 2 * 5\n",
    "d = 3 - 1 / 2 - 2"
   ]
  },
  {
   "cell_type": "markdown",
   "metadata": {},
   "source": [
    "###4: Using parentheses"
   ]
  },
  {
   "cell_type": "markdown",
   "metadata": {},
   "source": [
    "Parentheses can be used to \"override\" the order of operations and make something happen first.\n",
    "\n",
    "For example 10 - 2 / 2 will equal 9, because the division happens before the subtraction.\n",
    "\n",
    "If we write (10 - 2) / 2, the parentheses \"force\" the part inside to happen first, so we end up with 8/2."
   ]
  },
  {
   "cell_type": "markdown",
   "metadata": {},
   "source": [
    "####Instructions"
   ]
  },
  {
   "cell_type": "markdown",
   "metadata": {},
   "source": [
    "Use parentheses to make b equal 1100.\n",
    "\n",
    "Use parentheses to make c equal 200."
   ]
  },
  {
   "cell_type": "code",
   "execution_count": 5,
   "metadata": {
    "collapsed": false
   },
   "outputs": [],
   "source": [
    "a = 50 * 50 - 10 / 5\n",
    "a_paren = 50 * (50 - 10) / 5\n",
    "# If we put multiple operations inside parentheses, the order of operations is used inside to determine the order.\n",
    "a_paren = 50 * (50 - 10 / 5)\n",
    "\n",
    "b = 10 * 10 + 100\n",
    "c = 8 - 6 * 100\n",
    "b = 10 * (10 + 100)\n",
    "c = (8 - 6) * 100"
   ]
  },
  {
   "cell_type": "markdown",
   "metadata": {},
   "source": [
    "###5: Fractional powers"
   ]
  },
  {
   "cell_type": "markdown",
   "metadata": {},
   "source": [
    "Before we explore variance a little more, let's take a quick look at exponents.\n",
    "\n",
    "We did difference ** 2 in the last screen, which squared the difference -- this is equal to difference * difference.\n",
    "\n",
    "We could cube the difference by doing difference ** 3 -- this is equal to difference * difference * difference.\n",
    "\n",
    "This same pattern holds true as we raise to higher powers, like 4, 5, and so on.\n",
    "\n",
    "We can also take roots of numbers with the same syntax.\n",
    "\n",
    "difference ** (1/2) will take the square root -- we need to put the fraction in parentheses because raising a value to a power always happens first normally.\n",
    "\n",
    "difference ** (1/3) will take the cube root. And so on with smaller fractions."
   ]
  },
  {
   "cell_type": "markdown",
   "metadata": {},
   "source": [
    "####Instructions"
   ]
  },
  {
   "cell_type": "markdown",
   "metadata": {},
   "source": [
    "Raise 11 to the fifth power. Assign the result to e.\n",
    "\n",
    "Take the fourth root of 10000. Assign the result to f."
   ]
  },
  {
   "cell_type": "code",
   "execution_count": 6,
   "metadata": {
    "collapsed": false
   },
   "outputs": [],
   "source": [
    "a = 5 ** 2\n",
    "\n",
    "# Raise to the fourth power.\n",
    "b = 10 ** 4\n",
    "\n",
    "# Take the square root ( 3 * 3 == 9, so the answer is 3).\n",
    "c = 9 ** (1/2)\n",
    "\n",
    "# Take the cube root (4 * 4 * 4 == 64, so 4 is the cube root).\n",
    "d = 64 ** (1/3)\n",
    "e = 11 ** 5\n",
    "f = 10000 ** (1/4)"
   ]
  },
  {
   "cell_type": "markdown",
   "metadata": {},
   "source": [
    "###6: Calculating standard deviation"
   ]
  },
  {
   "cell_type": "markdown",
   "metadata": {},
   "source": [
    "A commonly used way to refer to how far data points are from the mean is called standard deviation.\n",
    "\n",
    "It is typical to measure what percentage of the data is within 1 standard deviation of the mean, or two standard deviations of the mean.\n",
    "\n",
    "Standard deviation is a very useful concept, and is a great way to measure how spread out data is.\n",
    "\n",
    "Luckily for us, standard deviation is just the square root of the variance.\n",
    "\n",
    "Here's the mathematical formula for standard deviation $\\sigma = \\sqrt{\\frac{\\displaystyle\\sum_{i=1}^{n}(x_i - \\mathbf{\\bar{x}})^2} {n}}$."
   ]
  },
  {
   "cell_type": "markdown",
   "metadata": {},
   "source": [
    "####Instructions"
   ]
  },
  {
   "cell_type": "markdown",
   "metadata": {},
   "source": [
    "Make a function that calculates the standard deviation of a given column in the nba_stats data.\n",
    "\n",
    "Use the function to calculate the standard deviation for the minutes played column (\"mp\"). Assign the results to mp_dev.\n",
    "\n",
    "Use the function to calculate the standard deviation for the assists column (\"ast\"). Assign the results to ast_dev."
   ]
  },
  {
   "cell_type": "code",
   "execution_count": 7,
   "metadata": {
    "collapsed": false
   },
   "outputs": [
    {
     "name": "stdout",
     "output_type": "stream",
     "text": [
      "mp_dev: 896.32565278\n",
      "ast_dev : 130.883290708\n"
     ]
    }
   ],
   "source": [
    "# The nba stats are loaded into the nba_stats variable.\n",
    "def calc_column_deviation(column):\n",
    "    mean = column.mean()\n",
    "    variance = 0\n",
    "    for p in column:\n",
    "        difference = p - mean\n",
    "        square_difference = difference ** 2\n",
    "        variance += square_difference\n",
    "    variance = variance / len(column)\n",
    "    return variance ** (float(1)/2)\n",
    "\n",
    "mp_dev = calc_column_deviation(nba_stats[\"mp\"])\n",
    "print(\"mp_dev:\", mp_dev)\n",
    "\n",
    "ast_dev = calc_column_deviation(nba_stats[\"ast\"])\n",
    "print(\"ast_dev :\", ast_dev)"
   ]
  },
  {
   "cell_type": "markdown",
   "metadata": {},
   "source": [
    "###7: Find standard deviation distance"
   ]
  },
  {
   "cell_type": "markdown",
   "metadata": {},
   "source": [
    "The standard deviation is very useful because it lets us compare points in a distribution to the mean.\n",
    "\n",
    "We can say that a certain point is \"two standard deviations away from the mean\".\n",
    "\n",
    "This gives us a way to compare how spread out values are across different charts."
   ]
  },
  {
   "cell_type": "markdown",
   "metadata": {},
   "source": [
    "####Instructions"
   ]
  },
  {
   "cell_type": "markdown",
   "metadata": {},
   "source": [
    "Find how many standard deviations away from the mean point_10 is. Assign the result to point_10_std.\n",
    "\n",
    "Find how many standard deviations away from the mean point_100 is. Assign the result to point_100_std."
   ]
  },
  {
   "cell_type": "code",
   "execution_count": 8,
   "metadata": {
    "collapsed": false
   },
   "outputs": [
    {
     "data": {
      "image/png": "[encoded data removed]",
      "text/plain": [
       "<matplotlib.figure.Figure at 0xb46eac8>"
      ]
     },
     "metadata": {},
     "output_type": "display_data"
    }
   ],
   "source": [
    "import matplotlib.pyplot as plt\n",
    "%matplotlib inline\n",
    "\n",
    "plt.hist(nba_stats[\"pf\"])\n",
    "mean = nba_stats[\"pf\"].mean()\n",
    "plt.axvline(mean, color=\"r\")\n",
    "# We can calculate standard deviation by using the std() method on a pandas series.\n",
    "std_dev = nba_stats[\"pf\"].std()\n",
    "# Plot a line one standard deviation below the mean\n",
    "plt.axvline(mean - std_dev, color=\"g\")\n",
    "# Plot a line one standard deviation above the mean\n",
    "plt.axvline(mean + std_dev, color=\"g\")\n",
    "\n",
    "# We can see how much of the data points fall within 1 standard deviation of the mean\n",
    "# The more that falls into this range, the less spread out the data is\n",
    "plt.show()\n",
    "\n",
    "# We can calculate how many standard deviations a data point is from the mean by doing some subtraction and division\n",
    "# First, we find the total distance by subtracting the mean\n",
    "total_distance = nba_stats[\"pf\"][0] - mean\n",
    "# Then we divide by standard deviation to find how many standard deviations away the point is.\n",
    "standard_deviation_distance = total_distance / std_dev\n",
    "\n",
    "point_10 = nba_stats[\"pf\"][9]\n",
    "point_100 = nba_stats[\"pf\"][99]\n",
    "point_10_std = (float(point_10) - mean) / std_dev\n",
    "point_100_std = (float(point_100) - mean) / std_dev"
   ]
  },
  {
   "cell_type": "markdown",
   "metadata": {},
   "source": [
    "###8: Working with the normal distribution"
   ]
  },
  {
   "cell_type": "markdown",
   "metadata": {},
   "source": [
    "The normal distribution is a special kind of distribution.\n",
    "\n",
    "You might recognize it more commonly as a bell curve.\n",
    "\n",
    "The normal distribution is found in a variety of natural phenomena. For example, if you made a histogram of the heights of all humans, it would be more or less a normal distribution.\n",
    "\n",
    "We can generate a normal distribution by using a probability density function."
   ]
  },
  {
   "cell_type": "markdown",
   "metadata": {},
   "source": [
    "####Instructions"
   ]
  },
  {
   "cell_type": "markdown",
   "metadata": {},
   "source": [
    "Make a normal distribution across the range that starts at -10, ends at 10, and has the step .1.\n",
    "\n",
    "The distribution should have mean 0 and standard deviation of 2."
   ]
  },
  {
   "cell_type": "code",
   "execution_count": 9,
   "metadata": {
    "collapsed": false
   },
   "outputs": [
    {
     "data": {
      "image/png": "[encoded data removed]",
      "text/plain": [
       "<matplotlib.figure.Figure at 0x7fa58d0>"
      ]
     },
     "metadata": {},
     "output_type": "display_data"
    },
    {
     "data": {
      "image/png": "[encoded data removed]",
      "text/plain": [
       "<matplotlib.figure.Figure at 0x7fa5be0>"
      ]
     },
     "metadata": {},
     "output_type": "display_data"
    }
   ],
   "source": [
    "import numpy as np\n",
    "import matplotlib.pyplot as plt\n",
    "%matplotlib inline\n",
    "\n",
    "# The norm module has a pdf function (pdf stands for probability density function).\n",
    "from scipy.stats import norm\n",
    "\n",
    "# The arange function generates a numpy vector.\n",
    "# The vector below will start at -1, and go up to, but not including 1.\n",
    "# It will proceed in \"steps\" of .01.  So the first element will be -1, the second -.99, the third -.98, all the way up to .99.\n",
    "points = np.arange(-1, 1, 0.01)\n",
    "\n",
    "# The norm.pdf function will take points vector and turn it into a probability vector.\n",
    "# Each element in the vector will correspond to the normal distribution (earlier elements and later element smaller, peak in the center).\n",
    "# The distribution will be centered on 0, and will have a standard devation of .3\n",
    "probabilities = norm.pdf(points, 0, .3)\n",
    "\n",
    "# Plot the points values on the x axis and the corresponding probabilities on the y axis.\n",
    "# See the bell curve?\n",
    "plt.plot(points, probabilities)\n",
    "plt.show()\n",
    "\n",
    "points = np.arange(-10, 10, 0.1)\n",
    "probabilities = norm.pdf(points, 0, 2)\n",
    "plt.plot(points, probabilities)\n",
    "plt.show()"
   ]
  },
  {
   "cell_type": "markdown",
   "metadata": {},
   "source": [
    "###9: Normal distribution deviation"
   ]
  },
  {
   "cell_type": "markdown",
   "metadata": {},
   "source": [
    "One cool thing about normal distributions is that for every single one, the same percentage of the data is within 1 standard deviation of the mean, the same percentage is within 2 standard deviations of the mean, and so on.\n",
    "\n",
    "About 68% of the data is within 1 standard deviation of the mean, about 95% is within 2 standard deviations of the mean, and about 99% is within 3 standard deviations of the mean.\n",
    "\n",
    "This helps us to quickly understand where values fall and how unusual they are."
   ]
  },
  {
   "cell_type": "markdown",
   "metadata": {},
   "source": [
    "####Instructions"
   ]
  },
  {
   "cell_type": "markdown",
   "metadata": {},
   "source": [
    "For each point in wing_lengths, calculate the number of standard deviations away from the mean the point is.\n",
    "\n",
    "Once you have done this, compute what percentage of the data is within 1 standard deviation of the mean. Assign the result to within_one_percentage.\n",
    "\n",
    "Compute what percentage of the data is within 2 standard deviations of the mean. Assign the result to within_two_percentage.\n",
    "\n",
    "Once you have done this, compute what percentage of the data is within 3 standard deviations of the mean. Assign the result to within_three_percentage."
   ]
  },
  {
   "cell_type": "code",
   "execution_count": 10,
   "metadata": {
    "collapsed": false
   },
   "outputs": [
    {
     "name": "stdout",
     "output_type": "stream",
     "text": [
      "within_one_percentage: 0.68\n",
      "within_two_percentage: 0.96\n",
      "within_three_percentage: 1.0\n"
     ]
    }
   ],
   "source": [
    "# Housefly wing lengths in millimeters.\n",
    "wing_lengths = [36, 37, 38, 38, 39, 39, 40, 40, 40, 40, 41, 41, 41, 41, 41, 41, 42, 42, 42, 42, 42, 42, 42, 43, 43, \n",
    "                43, 43, 43, 43, 43, 43, 44, 44, 44, 44, 44, 44, 44, 44, 44, 45, 45, 45, 45, 45, 45, 45, 45, 45, 45, \n",
    "                46, 46, 46, 46, 46, 46, 46, 46, 46, 46, 47, 47, 47, 47, 47, 47, 47, 47, 47, 48, 48, 48, 48, 48, 48, \n",
    "                48, 48, 49, 49, 49, 49, 49, 49, 49, 50, 50, 50, 50, 50, 50, 51, 51, 51, 51, 52, 52, 53, 53, 54, 55]\n",
    "\n",
    "mean = float(sum(wing_lengths)) / len(wing_lengths)\n",
    "variances = [(i - mean) ** 2 for i in wing_lengths]\n",
    "variance = float(sum(variances))/ len(variances)\n",
    "standard_deviation = variance ** (float(1)/2)\n",
    "standard_deviations = [float(i - mean) / standard_deviation for i in wing_lengths]\n",
    "\n",
    "def within_percentage(deviations, count):\n",
    "    within = [i for i in deviations if i <= count and i >= -count]\n",
    "    count = len(within)\n",
    "    return float(count) / len(deviations)\n",
    "\n",
    "within_one_percentage = within_percentage(standard_deviations, 1)\n",
    "print(\"within_one_percentage:\", within_one_percentage)\n",
    "\n",
    "within_two_percentage = within_percentage(standard_deviations, 2)\n",
    "print(\"within_two_percentage:\", within_two_percentage)\n",
    "\n",
    "within_three_percentage = within_percentage(standard_deviations, 3)\n",
    "print(\"within_three_percentage:\", within_three_percentage)"
   ]
  },
  {
   "cell_type": "markdown",
   "metadata": {},
   "source": [
    "###10: Plotting correlations"
   ]
  },
  {
   "cell_type": "markdown",
   "metadata": {},
   "source": [
    "We've spent a lot of time looking at single variables and how their distributions look.\n",
    "\n",
    "While distributions are interesting on their own, it's also interesting to look at how two variables correlate with each other.\n",
    "\n",
    "A lot of statistics is about analyzing how variables impact each other, and the the first step is to graph them out with a scatterplot.\n",
    "\n",
    "While graphing them out, we can look at correlation.\n",
    "\n",
    "If two variables both change together (ie, when one goes up, the other goes up), we know that they are correlated."
   ]
  },
  {
   "cell_type": "markdown",
   "metadata": {},
   "source": [
    "####Instructions"
   ]
  },
  {
   "cell_type": "markdown",
   "metadata": {},
   "source": [
    "Make a scatterplot of the \"fta\" (free throws attempted) column against the \"pts\" column.\n",
    "\n",
    "Make a scatterplot of the \"stl\" (steals) column against the \"pf\" column."
   ]
  },
  {
   "cell_type": "code",
   "execution_count": 11,
   "metadata": {
    "collapsed": false
   },
   "outputs": [
    {
     "data": {
      "image/png": "[encoded data removed]",
      "text/plain": [
       "<matplotlib.figure.Figure at 0xc1562b0>"
      ]
     },
     "metadata": {},
     "output_type": "display_data"
    },
    {
     "data": {
      "image/png": "[encoded data removed]",
      "text/plain": [
       "<matplotlib.figure.Figure at 0xd1f5a90>"
      ]
     },
     "metadata": {},
     "output_type": "display_data"
    },
    {
     "data": {
      "image/png": "[encoded data removed]",
      "text/plain": [
       "<matplotlib.figure.Figure at 0xd24cf98>"
      ]
     },
     "metadata": {},
     "output_type": "display_data"
    },
    {
     "data": {
      "image/png": "[encoded data removed]",
      "text/plain": [
       "<matplotlib.figure.Figure at 0xd1c4c50>"
      ]
     },
     "metadata": {},
     "output_type": "display_data"
    },
    {
     "data": {
      "image/png": "[encoded data removed]",
      "text/plain": [
       "<matplotlib.figure.Figure at 0xb12d898>"
      ]
     },
     "metadata": {},
     "output_type": "display_data"
    }
   ],
   "source": [
    "import matplotlib.pyplot as plt\n",
    "%matplotlib inline\n",
    "\n",
    "# This is plotting field goals attempted (number of shots someone takes in a season) vs point scored in a season\n",
    "# Field goals attempted is on the x-axis, and points is on the y-axis\n",
    "# As you can tell, they are very strongly correlated -- the plot is close to a straight line.\n",
    "# The plot also slopes upward, which means that as field goal attempts go up, so do points.\n",
    "# That means that the plot is positively correlated.\n",
    "plt.scatter(nba_stats[\"fga\"], nba_stats[\"pts\"])\n",
    "plt.show()\n",
    "\n",
    "# If we make points negative (so the people who scored the most points now score the least, because 3000 becomes -3000), we can change the direction of the correlation\n",
    "# Field goals are negatively correlated with our new \"negative\" points column -- the more free throws you attempt, the less negative points you score.\n",
    "# We can see this because the correlation line slopes downward.\n",
    "plt.scatter(nba_stats[\"fga\"], -nba_stats[\"pts\"])\n",
    "plt.show()\n",
    "\n",
    "# Now, we can plot total rebounds (number of times someone got the ball back for their team after someone shot) vs total assists (number of times someone helped another person score)\n",
    "# These are uncorrelated, so you don't see the same nice line as you see with the plot above.\n",
    "plt.scatter(nba_stats[\"trb\"], nba_stats[\"ast\"])\n",
    "plt.show()\n",
    "\n",
    "plt.scatter(nba_stats[\"fta\"], nba_stats[\"pts\"])\n",
    "plt.show()\n",
    "\n",
    "plt.scatter(nba_stats[\"stl\"], nba_stats[\"pf\"])\n",
    "plt.show()"
   ]
  },
  {
   "cell_type": "markdown",
   "metadata": {},
   "source": [
    "###11: Measuring correlation"
   ]
  },
  {
   "cell_type": "markdown",
   "metadata": {},
   "source": [
    "One thing that can help us a lot when we need to analyze a lot of variables is to measure correlation -- this means that we don't need to eyeball everything.\n",
    "\n",
    "The most common way to measure correlation is to use pearson's r, also called an r-value.\n",
    "\n",
    "We'll go through how the calculations for it work, but for now, we'll focus on the values.\n",
    "\n",
    "An r-value ranges from -1 to 1, and indicates how strongly two variables are correlated.\n",
    "\n",
    "A 1 means perfect positive correlation -- this would show as a straight, upward sloping, line on our plots.\n",
    "\n",
    "A 0 means no correlation -- you'll see a scatterplot with points placed randomly.\n",
    "\n",
    "A -1 means perfect negative correlation -- this would show as a straight, downward sloping line.\n",
    "\n",
    "Anything between -1 and 0, and 0 and 1 will show up as a scattering of points. The closer the value is to 0, the more random the points will look. The closer to -1 or 1, the more like a line the points will look.\n",
    "\n",
    "We can use a function from scipy to calculate pearson's r for the moment."
   ]
  },
  {
   "cell_type": "markdown",
   "metadata": {},
   "source": [
    "####Instructions"
   ]
  },
  {
   "cell_type": "markdown",
   "metadata": {},
   "source": [
    "Find the correlation between the \"fta\" column and the \"pts\" column. Assign the result to r_fta_pts.\n",
    "\n",
    "Find the correlation between the \"stl\" column and the \"pf\" column. Assign the result to r_stl_pf."
   ]
  },
  {
   "cell_type": "code",
   "execution_count": 12,
   "metadata": {
    "collapsed": false
   },
   "outputs": [
    {
     "name": "stdout",
     "output_type": "stream",
     "text": [
      "r: 0.989211400652\n",
      "r: 0.369861731248\n"
     ]
    }
   ],
   "source": [
    "from scipy.stats.stats import pearsonr\n",
    "\n",
    "# The pearsonr function will find the correlation between two columns of data.\n",
    "# It returns the r value and the p value.  We'll learn more about p values later on.\n",
    "r, p_value = pearsonr(nba_stats[\"fga\"], nba_stats[\"pts\"])\n",
    "# As we can see, this is a very high positive r value -- close to 1.\n",
    "print(\"r:\", r)\n",
    "\n",
    "# These two columns are much less correlated.\n",
    "r, p_value = pearsonr(nba_stats[\"trb\"], nba_stats[\"ast\"])\n",
    "# We get a much lower, but still positive, r value.\n",
    "print(\"r:\", r)\n",
    "\n",
    "r_fta_pts, p_value = pearsonr(nba_stats[\"fta\"], nba_stats[\"pts\"])\n",
    "r_stl_pf, p_value = pearsonr(nba_stats[\"stl\"], nba_stats[\"pf\"])"
   ]
  },
  {
   "cell_type": "markdown",
   "metadata": {},
   "source": [
    "###12: Calculate covariance"
   ]
  },
  {
   "cell_type": "markdown",
   "metadata": {},
   "source": [
    "We looked at calculating the correlation coefficient with a function, but let's briefly look under the hood to see how we can do it ourselves.\n",
    "\n",
    "Another way to think of correlation is variance.\n",
    "\n",
    "Two variables are correlated when they both individually vary in similar ways.\n",
    "\n",
    "For example, correlation occurs when if one variable goes up, another variable also goes up.\n",
    "\n",
    "This is called covariance. Covariance is how things vary together.\n",
    "\n",
    "There is a maximum amount to how much two variables can co-vary.\n",
    "\n",
    "This is because of how each variable is individually distributed. Each individual distribution has its own variance. These variances set a maximum theoretical limit on covariance between two variables -- you can't co-vary more from the mean than the two variables individually vary from the mean.\n",
    "\n",
    "As you may have guessed at this point, the r-value is a ratio between the actual covariance, and the maximum possible positive covariance.\n",
    "\n",
    "The maximum possible covariance occurs when two variables vary perfectly (ie, you see a straight line on the plot).\n",
    "\n",
    "Let's look at actual covariance first. Mathematically speaking, covariance between two variables looks like this: $cov(\\mathbf{x},\\mathbf{y})=\n",
    "\\frac{\\sum_{i=1}^{n}(x_i-\\bar{x})(y_i-\\bar{y})}{n}$. For each element in the vectors x and y, you take the value at each position from 1 to the length of the vectors. Subtract the mean of the vector from that value. Then multiply them together at each position, and all all of the resulting values together."
   ]
  },
  {
   "cell_type": "markdown",
   "metadata": {},
   "source": [
    "####Instructions"
   ]
  },
  {
   "cell_type": "markdown",
   "metadata": {},
   "source": [
    "Make a function to compute covariance.\n",
    "\n",
    "Use the function to compute the covariance of the \"stl\" and \"pf\" columns. Assign the result to cov_stl_pf.\n",
    "\n",
    "Use the function to compute the covariance of the \"fta\" and \"pts\" columns. Assign the result to cov_fta_pts."
   ]
  },
  {
   "cell_type": "code",
   "execution_count": 13,
   "metadata": {
    "collapsed": false
   },
   "outputs": [
    {
     "name": "stdout",
     "output_type": "stream",
     "text": [
      "cov_stl_pf: 1823.3548480513116\n",
      "cov_fta_pts: 56618.41398074862\n"
     ]
    }
   ],
   "source": [
    "# The nba_stats variable has been loaded.\n",
    "def covariance(x, y):\n",
    "    x_mean = float(sum(x)) / len(x)\n",
    "    y_mean = float(sum(y)) / len(y)\n",
    "    x_diffs = [i - x_mean for i in x]\n",
    "    y_diffs = [i - y_mean for i in y]\n",
    "    codeviates = [x_diffs[i] * y_diffs[i] for i in range(len(x))]\n",
    "    return float(sum(codeviates)) / len(codeviates)\n",
    "\n",
    "cov_stl_pf = covariance(nba_stats[\"stl\"], nba_stats[\"pf\"])\n",
    "print(\"cov_stl_pf:\", cov_stl_pf)\n",
    "\n",
    "cov_fta_pts = covariance(nba_stats[\"fta\"], nba_stats[\"pts\"])\n",
    "print(\"cov_fta_pts:\", cov_fta_pts)"
   ]
  },
  {
   "cell_type": "markdown",
   "metadata": {},
   "source": [
    "###13: Calculate correlation"
   ]
  },
  {
   "cell_type": "markdown",
   "metadata": {},
   "source": [
    "Now that we know how to calculate covariance, we can finish calculating correlation.\n",
    "\n",
    "Here's the full formula for correlation: $\\frac{cov(\\mathbf{x},\\mathbf{y})}{\\sqrt{\\sigma_{2}^{x}\\sigma_{2}^{y}}}$.\n",
    "\n",
    "To get the denominator, we just have to find the variance for x and y, multiply them together, and take the square root. This is the maximum possible positive covariance -- it's just both the total variances multiplied.\n",
    "\n",
    "If we divide our actual covariance by this, we get our r-value.\n",
    "\n",
    "You can use the var method on any pandas dataframe or series to find variance. nba_stats[\"pf\"].var() will give you the variance of that column.\n",
    "\n",
    "You can use the cov function from numpy to compute covariance. It returns a 2x2 matrix, though. cov(nba_stats[\"pf\"], nba_stats[\"stl\"])[0,1] will give the covariance between the \"pf\" and \"stl\" columns."
   ]
  },
  {
   "cell_type": "markdown",
   "metadata": {},
   "source": [
    "####Instructions"
   ]
  },
  {
   "cell_type": "markdown",
   "metadata": {},
   "source": [
    "Using the above covariance function, and the var method, compute the correlation coefficient for the \"fta\" and \"blk\" columns. Assign the result to r_fta_blk.\n",
    "\n",
    "Compute the correlation coefficient for the \"ast\" and \"stl\" columns. Assign the result to r_ast_stl."
   ]
  },
  {
   "cell_type": "code",
   "execution_count": 14,
   "metadata": {
    "collapsed": false
   },
   "outputs": [
    {
     "name": "stdout",
     "output_type": "stream",
     "text": [
      "r_fta_blk: 0.456062822144\n",
      "r_ast_stl: 0.770427979468\n"
     ]
    }
   ],
   "source": [
    "from numpy import cov\n",
    "\n",
    "r_fta_blk = cov(nba_stats[\"fta\"], nba_stats[\"blk\"])[0,1] / ((nba_stats[\"fta\"].var() * nba_stats[\"blk\"].var())** (float(1)/2))\n",
    "print(\"r_fta_blk:\", r_fta_blk)\n",
    "\n",
    "r_ast_stl = cov(nba_stats[\"ast\"], nba_stats[\"stl\"])[0,1] / ((nba_stats[\"ast\"].var() * nba_stats[\"stl\"].var())** (float(1)/2))\n",
    "print(\"r_ast_stl:\", r_ast_stl)"
   ]
  }
 ],
 "metadata": {
  "kernelspec": {
   "display_name": "Python 3",
   "language": "python",
   "name": "python3"
  },
  "language_info": {
   "codemirror_mode": {
    "name": "ipython",
    "version": 3
   },
   "file_extension": ".py",
   "mimetype": "text/x-python",
   "name": "python",
   "nbconvert_exporter": "python",
   "pygments_lexer": "ipython3",
   "version": "3.4.3"
  }
 },
 "nbformat": 4,
 "nbformat_minor": 0
}
