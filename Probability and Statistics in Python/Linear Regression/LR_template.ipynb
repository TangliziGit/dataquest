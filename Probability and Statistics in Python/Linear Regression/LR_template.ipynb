{
 "cells": [
  {
   "cell_type": "code",
   "execution_count": 1,
   "metadata": {
    "collapsed": true
   },
   "outputs": [],
   "source": [
    "from __future__ import print_function"
   ]
  },
  {
   "cell_type": "markdown",
   "metadata": {},
   "source": [
    "#Probability and Statistics in Python"
   ]
  },
  {
   "cell_type": "markdown",
   "metadata": {},
   "source": [
    "##Linear Regression"
   ]
  },
  {
   "cell_type": "markdown",
   "metadata": {},
   "source": [
    "###1: Drawing lines"
   ]
  },
  {
   "cell_type": "markdown",
   "metadata": {},
   "source": [
    "Before we get started with linear regression, let's take a look at how to draw lines.\n",
    "\n",
    "The simplest possible line is y=x . This means that the value of a point on the y-axis is the same as the corresponding value on the x-axis."
   ]
  },
  {
   "cell_type": "markdown",
   "metadata": {},
   "source": [
    "####Instructions"
   ]
  },
  {
   "cell_type": "markdown",
   "metadata": {},
   "source": [
    "Plot the equation y=x−1, using the existing x variable.\n",
    "\n",
    "Plot the equation y=x+10, using the existing x variable."
   ]
  },
  {
   "cell_type": "code",
   "execution_count": 2,
   "metadata": {
    "collapsed": false
   },
   "outputs": [
    {
     "data": {
      "image/png": "[encoded data removed]",
      "text/plain": [
       "<matplotlib.figure.Figure at 0x98080f0>"
      ]
     },
     "metadata": {},
     "output_type": "display_data"
    },
    {
     "name": "stdout",
     "output_type": "stream",
     "text": [
      "y: [1 2 3 4 5 6]\n"
     ]
    },
    {
     "data": {
      "image/png": "[encoded data removed]",
      "text/plain": [
       "<matplotlib.figure.Figure at 0x9b5f2e8>"
      ]
     },
     "metadata": {},
     "output_type": "display_data"
    },
    {
     "data": {
      "image/png": "[encoded data removed]",
      "text/plain": [
       "<matplotlib.figure.Figure at 0x9dbe320>"
      ]
     },
     "metadata": {},
     "output_type": "display_data"
    },
    {
     "data": {
      "image/png": "[encoded data removed]",
      "text/plain": [
       "<matplotlib.figure.Figure at 0x9e6aac8>"
      ]
     },
     "metadata": {},
     "output_type": "display_data"
    }
   ],
   "source": [
    "import numpy as np\n",
    "import matplotlib.pyplot as plt\n",
    "%matplotlib inline\n",
    "\n",
    "x = [0, 1, 2, 3, 4, 5]\n",
    "# Going by our formula, every y value at a position is the same as the x-value in the same position.\n",
    "# We could write y = x, but let's write them all out to make this more clear.\n",
    "y = [0, 1, 2, 3, 4, 5]\n",
    "\n",
    "# As you can see, this is a straight line that passes through the points (0,0), (1,1), (2,2), and so on.\n",
    "plt.plot(x, y)\n",
    "plt.show()\n",
    "\n",
    "# Let's try a slightly more ambitious line.\n",
    "# What if we did y = x + 1?\n",
    "# We'll make x an array now, so we can add 1 to every element more easily.\n",
    "x = np.asarray([0, 1, 2, 3, 4, 5])\n",
    "y = x + 1\n",
    "\n",
    "# y is the same as x, but every element has 1 added to it.\n",
    "print(\"y:\", y)\n",
    "\n",
    "# This plot passes through (0,1), (1,2), and so on.\n",
    "# It's the same line as before, but shifted up 1 on the y-axis.\n",
    "plt.plot(x, y)\n",
    "plt.show()\n",
    "\n",
    "# By adding 1 to the line, we moved what's called the y-intercept -- where the line intersects with the y-axis.\n",
    "# Moving the intercept can shift the whole line up (or down when we subtract).\n",
    "y = x - 1\n",
    "plt.plot(x, y)\n",
    "plt.show()\n",
    "\n",
    "y = x + 10\n",
    "plt.plot(x, y)\n",
    "plt.show()"
   ]
  },
  {
   "cell_type": "markdown",
   "metadata": {},
   "source": [
    "###2: Working with slope"
   ]
  },
  {
   "cell_type": "markdown",
   "metadata": {},
   "source": [
    "Now that we have a way to move the line up and down, what about the steepness of the line?\n",
    "\n",
    "This was unchanged earlier -- the values on the line always went up 1 on the y-axis every time they went up 1 on the x-axis.\n",
    "\n",
    "What if we want to make a line that goes up 2 numbers on the y-axis every time it goes up 1 on the x-axis?\n",
    "\n",
    "This is where slope comes in. The slope is multiplied by the x-value to get the new y value.\n",
    "\n",
    "It looks like this: y=mx . If we set the slope, m , equal to 2, we'll get what we want."
   ]
  },
  {
   "cell_type": "markdown",
   "metadata": {},
   "source": [
    "####Instructions"
   ]
  },
  {
   "cell_type": "markdown",
   "metadata": {},
   "source": [
    "Plot the equation y=4x , using the existing x variable.\n",
    "\n",
    "Plot the equation y=.5x , using the existing x variable.\n",
    "\n",
    "Plot the equation y=−2x , using the existing x variable."
   ]
  },
  {
   "cell_type": "code",
   "execution_count": 3,
   "metadata": {
    "collapsed": false
   },
   "outputs": [
    {
     "data": {
      "image/png": "[encoded data removed]",
      "text/plain": [
       "<matplotlib.figure.Figure at 0x7b20780>"
      ]
     },
     "metadata": {},
     "output_type": "display_data"
    },
    {
     "data": {
      "image/png": "[encoded data removed]",
      "text/plain": [
       "<matplotlib.figure.Figure at 0x9eb8fd0>"
      ]
     },
     "metadata": {},
     "output_type": "display_data"
    },
    {
     "data": {
      "image/png": "[encoded data removed]",
      "text/plain": [
       "<matplotlib.figure.Figure at 0x9f72a20>"
      ]
     },
     "metadata": {},
     "output_type": "display_data"
    },
    {
     "data": {
      "image/png": "[encoded data removed]",
      "text/plain": [
       "<matplotlib.figure.Figure at 0x9f636a0>"
      ]
     },
     "metadata": {},
     "output_type": "display_data"
    }
   ],
   "source": [
    "import matplotlib.pyplot as plt\n",
    "import numpy as np\n",
    "\n",
    "x = np.asarray([0, 1, 2, 3, 4, 5])\n",
    "\n",
    "# Let's set the slope of the line to 2.\n",
    "y = 2 * x\n",
    "\n",
    "# See how this line is \"steeper\" than before?  The larger the slope is, the steeper the line becomes.\n",
    "# On the flipside, fractional slopes will create a \"shallower\" line.\n",
    "# Negative slopes will create a line where y values decrease as x values increase.\n",
    "plt.plot(x, y)\n",
    "plt.show()\n",
    "\n",
    "y = 4 * x\n",
    "plt.plot(x, y)\n",
    "plt.show()\n",
    "\n",
    "y = .5 * x\n",
    "plt.plot(x, y)\n",
    "plt.show()\n",
    "\n",
    "y = -2 * x\n",
    "plt.plot(x, y)\n",
    "plt.show()"
   ]
  },
  {
   "cell_type": "markdown",
   "metadata": {},
   "source": [
    "###3: Starting out with linear regression"
   ]
  },
  {
   "cell_type": "markdown",
   "metadata": {},
   "source": [
    "The r-value indicates how correlated two variables are. This can range from no correlation to a negative correlation to a positive correlation.\n",
    "\n",
    "The more correlated two variables are, the easier it becomes to use one to predict the other. For instance, if I know that how much I pay for my steak is highly positively correlated to the size of the steak (in ounces), I can create a formula that helps me predict how much I would be paying for my steak.\n",
    "\n",
    "The way we do this is with linear regression. Linear regression gives us a formula, where if we plug in the value for one variable, we get the value for the other variable.\n",
    "\n",
    "The equation to create the formula takes the form $y = mx + b$.\n",
    "\n",
    "You might recognize pieces of this equation from the past two screens -- we're just adding the intercept and slope into one equation.\n",
    "\n",
    "This equation is saying \"the predicted value of the second variable (y) is equal to the value of the first variable (x) times slope plus the intercept\".\n",
    "\n",
    "We have to calculate values for m  and b  before we can use our formula.\n",
    "\n",
    "We'll calculate slope first -- the formula is $\\frac{cov(x,y)}{\\sigma_{2}^{x}}$, which is just the covariance of x and y divided by the variance of x.\n",
    "\n",
    "We can use the cov function to calculate covariance, and the .var() method on pandas series to calculate variance."
   ]
  },
  {
   "cell_type": "code",
   "execution_count": 4,
   "metadata": {
    "collapsed": false
   },
   "outputs": [
    {
     "data": {
      "text/html": [
       "<div>\n",
       "<table border=\"1\" class=\"dataframe\">\n",
       "  <thead>\n",
       "    <tr style=\"text-align: right;\">\n",
       "      <th></th>\n",
       "      <th>Unnamed: 0</th>\n",
       "      <th>fixed.acidity</th>\n",
       "      <th>volatile.acidity</th>\n",
       "      <th>citric.acid</th>\n",
       "      <th>residual.sugar</th>\n",
       "      <th>chlorides</th>\n",
       "      <th>free.sulfur.dioxide</th>\n",
       "      <th>total.sulfur.dioxide</th>\n",
       "      <th>density</th>\n",
       "      <th>pH</th>\n",
       "      <th>sulphates</th>\n",
       "      <th>alcohol</th>\n",
       "      <th>quality</th>\n",
       "    </tr>\n",
       "  </thead>\n",
       "  <tbody>\n",
       "    <tr>\n",
       "      <th>0</th>\n",
       "      <td>1</td>\n",
       "      <td>7.0</td>\n",
       "      <td>0.27</td>\n",
       "      <td>0.36</td>\n",
       "      <td>20.7</td>\n",
       "      <td>0.045</td>\n",
       "      <td>45</td>\n",
       "      <td>170</td>\n",
       "      <td>1.0010</td>\n",
       "      <td>3.00</td>\n",
       "      <td>0.45</td>\n",
       "      <td>8.8</td>\n",
       "      <td>6</td>\n",
       "    </tr>\n",
       "    <tr>\n",
       "      <th>1</th>\n",
       "      <td>2</td>\n",
       "      <td>6.3</td>\n",
       "      <td>0.30</td>\n",
       "      <td>0.34</td>\n",
       "      <td>1.6</td>\n",
       "      <td>0.049</td>\n",
       "      <td>14</td>\n",
       "      <td>132</td>\n",
       "      <td>0.9940</td>\n",
       "      <td>3.30</td>\n",
       "      <td>0.49</td>\n",
       "      <td>9.5</td>\n",
       "      <td>6</td>\n",
       "    </tr>\n",
       "    <tr>\n",
       "      <th>2</th>\n",
       "      <td>3</td>\n",
       "      <td>8.1</td>\n",
       "      <td>0.28</td>\n",
       "      <td>0.40</td>\n",
       "      <td>6.9</td>\n",
       "      <td>0.050</td>\n",
       "      <td>30</td>\n",
       "      <td>97</td>\n",
       "      <td>0.9951</td>\n",
       "      <td>3.26</td>\n",
       "      <td>0.44</td>\n",
       "      <td>10.1</td>\n",
       "      <td>6</td>\n",
       "    </tr>\n",
       "    <tr>\n",
       "      <th>3</th>\n",
       "      <td>4</td>\n",
       "      <td>7.2</td>\n",
       "      <td>0.23</td>\n",
       "      <td>0.32</td>\n",
       "      <td>8.5</td>\n",
       "      <td>0.058</td>\n",
       "      <td>47</td>\n",
       "      <td>186</td>\n",
       "      <td>0.9956</td>\n",
       "      <td>3.19</td>\n",
       "      <td>0.40</td>\n",
       "      <td>9.9</td>\n",
       "      <td>6</td>\n",
       "    </tr>\n",
       "    <tr>\n",
       "      <th>4</th>\n",
       "      <td>5</td>\n",
       "      <td>7.2</td>\n",
       "      <td>0.23</td>\n",
       "      <td>0.32</td>\n",
       "      <td>8.5</td>\n",
       "      <td>0.058</td>\n",
       "      <td>47</td>\n",
       "      <td>186</td>\n",
       "      <td>0.9956</td>\n",
       "      <td>3.19</td>\n",
       "      <td>0.40</td>\n",
       "      <td>9.9</td>\n",
       "      <td>6</td>\n",
       "    </tr>\n",
       "  </tbody>\n",
       "</table>\n",
       "</div>"
      ],
      "text/plain": [
       "   Unnamed: 0  fixed.acidity  volatile.acidity  citric.acid  residual.sugar  \\\n",
       "0           1            7.0              0.27         0.36            20.7   \n",
       "1           2            6.3              0.30         0.34             1.6   \n",
       "2           3            8.1              0.28         0.40             6.9   \n",
       "3           4            7.2              0.23         0.32             8.5   \n",
       "4           5            7.2              0.23         0.32             8.5   \n",
       "\n",
       "   chlorides  free.sulfur.dioxide  total.sulfur.dioxide  density    pH  \\\n",
       "0      0.045                   45                   170   1.0010  3.00   \n",
       "1      0.049                   14                   132   0.9940  3.30   \n",
       "2      0.050                   30                    97   0.9951  3.26   \n",
       "3      0.058                   47                   186   0.9956  3.19   \n",
       "4      0.058                   47                   186   0.9956  3.19   \n",
       "\n",
       "   sulphates  alcohol  quality  \n",
       "0       0.45      8.8        6  \n",
       "1       0.49      9.5        6  \n",
       "2       0.44     10.1        6  \n",
       "3       0.40      9.9        6  \n",
       "4       0.40      9.9        6  "
      ]
     },
     "execution_count": 4,
     "metadata": {},
     "output_type": "execute_result"
    }
   ],
   "source": [
    "import pandas\n",
    "\n",
    "wine_quality = pandas.read_csv(\"data/wineQualityWhites.csv\")\n",
    "wine_quality[:5]"
   ]
  },
  {
   "cell_type": "markdown",
   "metadata": {},
   "source": [
    "####Instructions"
   ]
  },
  {
   "cell_type": "markdown",
   "metadata": {},
   "source": [
    "Calculate the slope you would need to predict the \"quality\" column (y) using the \"density\" column (x).\n",
    "\n",
    "Assign the slope to slope_density."
   ]
  },
  {
   "cell_type": "code",
   "execution_count": 5,
   "metadata": {
    "collapsed": false
   },
   "outputs": [
    {
     "name": "stdout",
     "output_type": "stream",
     "text": [
      "slope_density: -90.9423999421\n"
     ]
    }
   ],
   "source": [
    "from numpy import cov\n",
    "\n",
    "slope_density = cov(wine_quality[\"density\"], wine_quality[\"quality\"])[0, 1] / wine_quality[\"density\"].var()\n",
    "print(\"slope_density:\", slope_density)"
   ]
  },
  {
   "cell_type": "markdown",
   "metadata": {},
   "source": [
    "###4: Finishing linear regression"
   ]
  },
  {
   "cell_type": "markdown",
   "metadata": {},
   "source": [
    "Now that we can calculate the slope for our linear regression line, we just need to calculate the intercept.\n",
    "\n",
    "The intercept is just how much \"higher\", or \"lower\" the average y point is than our predicted value.\n",
    "\n",
    "We can compute the intercept by taking the slope we calculated and doing this: $\\bar{y} - m\\bar{x}$. So we just take the mean of the y values, and then subtract the slope times the mean of the x values from that.\n",
    "\n",
    "Remember that we can calculate the mean by using the .mean() method."
   ]
  },
  {
   "cell_type": "markdown",
   "metadata": {},
   "source": [
    "####Instructions"
   ]
  },
  {
   "cell_type": "markdown",
   "metadata": {},
   "source": [
    "Calculate the y-intercept that you would need to predict the \"quality\" column (y) using the \"density\" column (x).\n",
    "\n",
    "Assign the result to intercept_density."
   ]
  },
  {
   "cell_type": "code",
   "execution_count": 6,
   "metadata": {
    "collapsed": false
   },
   "outputs": [
    {
     "name": "stdout",
     "output_type": "stream",
     "text": [
      "intercept_density: 96.2771445761\n"
     ]
    }
   ],
   "source": [
    "from numpy import cov\n",
    "\n",
    "# This function will take in two columns of data, and return the slope of the linear regression line.\n",
    "def calc_slope(x, y):\n",
    "    return cov(x, y)[0, 1] / x.var()\n",
    "\n",
    "intercept_density = wine_quality[\"quality\"].mean() - (calc_slope(wine_quality[\"density\"], wine_quality[\"quality\"]) * wine_quality[\"density\"].mean())\n",
    "print(\"intercept_density:\", intercept_density)"
   ]
  },
  {
   "cell_type": "markdown",
   "metadata": {},
   "source": [
    "###5: Making predictions"
   ]
  },
  {
   "cell_type": "markdown",
   "metadata": {},
   "source": [
    "Now that we've computed our slope and our intercept, we can make predictions about the y-values from the x-values.\n",
    "\n",
    "In order to do this, we go back to our original formula: $y = mx + b$, and just plug in the values for $m$ and $b$.\n",
    "\n",
    "We can then compute predicted y-values for any x-value. This lets us make predictions about the quality of x-values that we've never seen. For example, a wine with a density of .98 isn't in our dataset, but we can make a prediction about what quality a reviewer would assign to a wine with this density.\n",
    "\n",
    "Depending on how correlated the predictor and the value being predicted are, the predictions may be good or bad.\n",
    "\n",
    "Let's look at making predictions now, and we'll move on to figuring out how good they are."
   ]
  },
  {
   "cell_type": "markdown",
   "metadata": {},
   "source": [
    "####Instructions"
   ]
  },
  {
   "cell_type": "markdown",
   "metadata": {},
   "source": [
    "Write a function to compute the predicted y-value from a given x-value.\n",
    "\n",
    "Use the .apply() method on the \"density\" column to apply the function to each item in the column. This will compute all the predicted y-values.\n",
    "\n",
    "Assign the result to predicted_quality."
   ]
  },
  {
   "cell_type": "code",
   "execution_count": 7,
   "metadata": {
    "collapsed": false
   },
   "outputs": [
    {
     "name": "stdout",
     "output_type": "stream",
     "text": [
      "slope: -90.9423999421\n",
      "intercept: 96.2771445761\n",
      "predicted_quality:\n",
      " 0    5.243802\n",
      "1    5.880399\n",
      "2    5.780362\n",
      "3    5.734891\n",
      "4    5.734891\n",
      "5    5.780362\n",
      "6    5.798551\n",
      "7    5.243802\n",
      "8    5.880399\n",
      "9    5.898588\n",
      "Name: density, dtype: float64\n"
     ]
    }
   ],
   "source": [
    "from numpy import cov\n",
    "\n",
    "def calc_slope(x, y):\n",
    "    return cov(x, y)[0, 1] / x.var()\n",
    "\n",
    "# Calculate the intercept given the x column, y column, and the slope\n",
    "def calc_intercept(x, y, slope):\n",
    "    return y.mean() - (slope * x.mean())\n",
    "\n",
    "slope = calc_slope(wine_quality[\"density\"], wine_quality[\"quality\"])\n",
    "print(\"slope:\", slope)\n",
    "\n",
    "intercept = calc_intercept(wine_quality[\"density\"], wine_quality[\"quality\"], slope)\n",
    "print(\"intercept:\", intercept)\n",
    "\n",
    "def compute_predicted_y(x):\n",
    "    return x * slope + intercept\n",
    "\n",
    "predicted_quality = wine_quality[\"density\"].apply(compute_predicted_y)\n",
    "print(\"predicted_quality:\\n\", predicted_quality[:10])"
   ]
  },
  {
   "cell_type": "markdown",
   "metadata": {},
   "source": [
    "###6: Finding error"
   ]
  },
  {
   "cell_type": "markdown",
   "metadata": {},
   "source": [
    "Now that we know how to make a regression line manually, let's look at an easier way to do it, using a function from scipy.\n",
    "\n",
    "The linregress function makes it simple to do linear regression.\n",
    "\n",
    "Now that we know a simpler way to do linear regression, let's look at how to figure out if our regression is good or bad.\n",
    "\n",
    "We can plot out our line and our actual values, and see how far apart they are on the y-axis.\n",
    "\n",
    "We can also compute the distance between each prediction and the actual value -- these distances are called residuals.\n",
    "\n",
    "If we add up the sum of the squared residuals, we can get a good error estimate for our line.\n",
    "\n",
    "We have to add the squared residuals, because just like differences from the mean, the residuals add to 0 if they aren't squared.\n",
    "\n",
    "To put it in math terms, the sum of squared residuals is: $\\sum\\limits_{i=1}^n{(y_{i} - \\hat{y}_{i})^2}$ is the predicted y value at position i."
   ]
  },
  {
   "cell_type": "markdown",
   "metadata": {},
   "source": [
    "####Instructions"
   ]
  },
  {
   "cell_type": "markdown",
   "metadata": {},
   "source": [
    "Using the given slope and intercept, calculate the predicted y values.\n",
    "\n",
    "Subtract each predicted y value from the corresponding actual y value, square the difference, and add all the differences together.\n",
    "\n",
    "This will give you the sum of squared residuals. Assign this value to rss."
   ]
  },
  {
   "cell_type": "code",
   "execution_count": 8,
   "metadata": {
    "collapsed": false
   },
   "outputs": [
    {
     "name": "stdout",
     "output_type": "stream",
     "text": [
      "slope: -90.9423999421\n",
      "intercept: 96.2771445761\n",
      "predicted_y: [ 5.24380223  5.88039903  5.78036239  5.73489119  5.73489119  5.78036239\n",
      "  5.79855087  5.24380223  5.88039903  5.89858751]\n",
      "rss: 3478.68946969\n"
     ]
    }
   ],
   "source": [
    "import numpy\n",
    "from scipy.stats import linregress\n",
    "\n",
    "# We've seen the r_value before -- we'll get to what p_value and stderr_slope are soon -- for now, don't worry about them.\n",
    "slope, intercept, r_value, p_value, stderr_slope = linregress(wine_quality[\"density\"], wine_quality[\"quality\"])\n",
    "\n",
    "# As you can see, these are the same values we calculated (except for slight rounding differences).\n",
    "print(\"slope:\", slope)\n",
    "print(\"intercept:\", intercept)\n",
    "\n",
    "predicted_y = numpy.asarray([slope * x + intercept for x in wine_quality[\"density\"]])\n",
    "print(\"predicted_y:\", predicted_y[:10])\n",
    "\n",
    "residuals = (wine_quality[\"quality\"] - predicted_y) ** 2\n",
    "rss = sum(residuals)\n",
    "print(\"rss:\", rss)"
   ]
  },
  {
   "cell_type": "markdown",
   "metadata": {},
   "source": [
    "###7: Standard error"
   ]
  },
  {
   "cell_type": "markdown",
   "metadata": {},
   "source": [
    "From the sum of squared residuals, we can get to the standard error. The standard error is similar to the standard deviation, but it tries to make an estimate for the whole population of y-values -- even the ones we haven't seen yet that we may want to predict in the future.\n",
    "\n",
    "The standard error lets us quickly determine how good or bad a linear model is at prediction.\n",
    "\n",
    "The equation for standard error is $\\sqrt{\\frac{RSS}{n - 2}}$.\n",
    "\n",
    "You take the sum of squared residuals, divide by the number of y-points minus two, and then take the square root.\n",
    "\n",
    "You might be wondering about why 2 is subtracted -- this is because of differences between the whole population and a sample. This will be explained in more depth later on."
   ]
  },
  {
   "cell_type": "markdown",
   "metadata": {},
   "source": [
    "####Instructions"
   ]
  },
  {
   "cell_type": "markdown",
   "metadata": {},
   "source": [
    "Calculate the standard error using the above formula.\n",
    "\n",
    "Calculate what percentage of actual y values are within 1 standard error of the predicted y value. Assign the result to within_one.\n",
    "\n",
    "Calculate what percentage of actual y values are within 2 standard errors of the predicted y value. Assign the result to within_two.\n",
    "\n",
    "Calculate what percentage of actual y values are within 3 standard errors of the predicted y value. Assign the result to within_three.\n",
    "\n",
    "Assume that within means \"up to and including\", so be sure to count values that are exactly 1, 2, or 3 standard errors away."
   ]
  },
  {
   "cell_type": "code",
   "execution_count": 9,
   "metadata": {
    "collapsed": false
   },
   "outputs": [
    {
     "name": "stdout",
     "output_type": "stream",
     "text": [
      "within_one: 0.6845651286239282\n",
      "within_two: 0.9356880359330338\n",
      "within_three: 0.9936708860759493\n"
     ]
    }
   ],
   "source": [
    "from scipy.stats import linregress\n",
    "import numpy as np\n",
    "\n",
    "# We can do our linear regression.\n",
    "# Sadly, the stderr_slope isn't the standard error, but it is the standard error of the slope fitting only.\n",
    "# We'll need to calculate the standard error of the equation ourselves.\n",
    "slope, intercept, r_value, p_value, stderr_slope = linregress(wine_quality[\"density\"], wine_quality[\"quality\"])\n",
    "\n",
    "predicted_y = np.asarray([slope * x + intercept for x in wine_quality[\"density\"]])\n",
    "residuals = (wine_quality[\"quality\"] - predicted_y) ** 2\n",
    "rss = sum(residuals)\n",
    "stderr = (float(rss) / (len(wine_quality[\"quality\"]) - 2)) ** .5\n",
    "\n",
    "def within_percentage(y, predicted_y, stderr, error_count):\n",
    "    within = stderr * error_count\n",
    "\n",
    "    differences = abs(predicted_y - y)\n",
    "    lower_differences = [d for d in differences if d <= within]\n",
    "\n",
    "    within_count = len(lower_differences)\n",
    "    \n",
    "    return float(within_count) / len(y)\n",
    "\n",
    "within_one = within_percentage(wine_quality[\"quality\"], predicted_y, stderr, 1)\n",
    "print(\"within_one:\", within_one)\n",
    "\n",
    "within_two = within_percentage(wine_quality[\"quality\"], predicted_y, stderr, 2)\n",
    "print(\"within_two:\", within_two)\n",
    "\n",
    "within_three = within_percentage(wine_quality[\"quality\"], predicted_y, stderr, 3)\n",
    "print(\"within_three:\", within_three)"
   ]
  }
 ],
 "metadata": {
  "kernelspec": {
   "display_name": "Python 3",
   "language": "python",
   "name": "python3"
  },
  "language_info": {
   "codemirror_mode": {
    "name": "ipython",
    "version": 3
   },
   "file_extension": ".py",
   "mimetype": "text/x-python",
   "name": "python",
   "nbconvert_exporter": "python",
   "pygments_lexer": "ipython3",
   "version": "3.4.3"
  }
 },
 "nbformat": 4,
 "nbformat_minor": 0
}
