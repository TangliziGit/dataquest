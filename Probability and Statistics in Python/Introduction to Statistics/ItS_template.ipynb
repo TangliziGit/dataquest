{
 "cells": [
  {
   "cell_type": "code",
   "execution_count": 1,
   "metadata": {
    "collapsed": true
   },
   "outputs": [],
   "source": [
    "from __future__ import print_function"
   ]
  },
  {
   "cell_type": "markdown",
   "metadata": {},
   "source": [
    "#Probability and Statistics in Python"
   ]
  },
  {
   "cell_type": "markdown",
   "metadata": {},
   "source": [
    "##Introduction to Statistics"
   ]
  },
  {
   "cell_type": "markdown",
   "metadata": {},
   "source": [
    "###1: Equal interval scales"
   ]
  },
  {
   "cell_type": "markdown",
   "metadata": {},
   "source": [
    "Statistics is, at the core, about counting and measuring.\n",
    "\n",
    "In order to do both effectively, we have to define scales on which we can count.\n",
    "\n",
    "One type of scale is called equal interval.\n",
    "\n",
    "Think of the speed of a car. 5 miles per hour is 5 miles per hour, no matter what the current speed is.\n",
    "\n",
    "The difference between 60 and 55 miles per hour will always equal the difference between 10 and 5 miles per hour in real-world terms.\n",
    "\n",
    "Another type of scale is a logarithmic scale.\n",
    "\n",
    "The difference between a 6 and a 5 on the Richter scale is more than the difference between a 4 and 5.\n",
    "\n",
    "This is because each number on the Richter scale means that the earthquake had 10 times the shaking amplitude of the previous number.\n",
    "\n",
    "So, a 6 is 10 times more powerful (technically, powerful is the wrong term, but it makes explaining easier) than a 5, which is 10 times more powerful than a 4. A 6 is 100 times as powerful as a 4.\n",
    "\n",
    "We can calculate the mean of values on an equal interval scale by adding up all the values and dividing by the number of values.\n",
    "\n",
    "We could do the same for values on a non-equal interval scale, but the results wouldn't be meaningful, because of the differences between units."
   ]
  },
  {
   "cell_type": "markdown",
   "metadata": {},
   "source": [
    "####Instructions"
   ]
  },
  {
   "cell_type": "markdown",
   "metadata": {},
   "source": [
    "Compute the mean of car_speeds and assign it to mean_car_speed.\n",
    "\n",
    "Compute the mean of earthquake_intensities and assign the result to mean_earthquake_intensities. This value will not be meaningful, because we can't average values on a logarithmic scale this way."
   ]
  },
  {
   "cell_type": "code",
   "execution_count": 2,
   "metadata": {
    "collapsed": false
   },
   "outputs": [
    {
     "name": "stdout",
     "output_type": "stream",
     "text": [
      "mean_car_speed: 26.0\n",
      "mean_earthquake_intensities: 5.2\n"
     ]
    }
   ],
   "source": [
    "car_speeds = [10,20,30,50,20]\n",
    "earthquake_intensities = [2,7,4,5,8]\n",
    "\n",
    "mean_car_speed = float(sum(car_speeds)) / len(car_speeds)\n",
    "mean_earthquake_intensities = float(sum(earthquake_intensities)) / len(earthquake_intensities)\n",
    "\n",
    "print(\"mean_car_speed:\", mean_car_speed)\n",
    "print(\"mean_earthquake_intensities:\", mean_earthquake_intensities)"
   ]
  },
  {
   "cell_type": "markdown",
   "metadata": {},
   "source": [
    "###2: Discrete and continuous scales"
   ]
  },
  {
   "cell_type": "markdown",
   "metadata": {},
   "source": [
    "Scales can be discrete or continuous\n",
    "\n",
    "Think of someone marking down the number of inches a snail crawls in a day.\n",
    "\n",
    "The snail could crawl 1 inch, 2 inches, 1.5 inches, 1.51 inches, or any other number, and it would be a valid observation.\n",
    "\n",
    "This is because inches is a continuous scale, and even fractions of an inch are possible.\n",
    "\n",
    "Now, think of someone counting the number of cars in a parking lot each day.\n",
    "\n",
    "1 car, 2 cars, and 10 cars are valid measurements, but 1.5 cars isn't.\n",
    "\n",
    "Having half of a car isn't a meaningful quantity, as cars are understood to be discrete -- you can't have 52% of a car, you either have a car, or you don't.\n",
    "\n",
    "You can still average items on discete scales -- you could say \"1.75 cars are in this parking lot each day, on average\", but any daily value for number of cars in the parking lot would need to be a whole number."
   ]
  },
  {
   "cell_type": "markdown",
   "metadata": {},
   "source": [
    "####Instructions"
   ]
  },
  {
   "cell_type": "markdown",
   "metadata": {},
   "source": [
    "Make a line plot with day_numbers on the x axis and snail_crawl_length on the y axis.\n",
    "\n",
    "Make a line plot with day_numbers on the x axis and cars_in_parking_lot on the y axis."
   ]
  },
  {
   "cell_type": "code",
   "execution_count": 3,
   "metadata": {
    "collapsed": false
   },
   "outputs": [
    {
     "data": {
      "image/png": "[encoded data removed]",
      "text/plain": [
       "<matplotlib.figure.Figure at 0x9704780>"
      ]
     },
     "metadata": {},
     "output_type": "display_data"
    },
    {
     "data": {
      "image/png": "[encoded data removed]",
      "text/plain": [
       "<matplotlib.figure.Figure at 0x9a4abe0>"
      ]
     },
     "metadata": {},
     "output_type": "display_data"
    }
   ],
   "source": [
    "import matplotlib.pyplot as plt\n",
    "%matplotlib inline\n",
    "\n",
    "day_numbers = [1,2,3,4,5,6,7]\n",
    "snail_crawl_length = [.5,2,5,10,1,.25,4]\n",
    "cars_in_parking_lot = [5,6,4,2,1,7,8]\n",
    "\n",
    "plt.plot(day_numbers, snail_crawl_length)\n",
    "plt.show()\n",
    "\n",
    "plt.plot(day_numbers, cars_in_parking_lot)\n",
    "plt.show()"
   ]
  },
  {
   "cell_type": "markdown",
   "metadata": {},
   "source": [
    "###3: Scale starting points"
   ]
  },
  {
   "cell_type": "markdown",
   "metadata": {},
   "source": [
    "Scales can also have a zero point at different places.\n",
    "\n",
    "Think of the number of cars in a parking lot.\n",
    "\n",
    "Zero cars in the lot means that there are absolutely no cars at all in the lot, so absolute zero is at 0 cars. You can't have negative cars.\n",
    "\n",
    "Now, think of degrees fahrenheit.\n",
    "\n",
    "Zero degrees doesn't mean that there isn't any warmth -- the degree scale can also be negative, and absolute zero (when there is no warmth at all) is at -459.67 degrees.\n",
    "\n",
    "Scales that don't have their absolute zero point at 0 don't enable us to take meaningful ratios.\n",
    "\n",
    "If 4 cars parked in the lot yesterday, and 8 park today, I can safely say that twice as many cars are in the lot today.\n",
    "\n",
    "But, if it was 32 degrees fahrenheit yesterday, and it is 64 degrees today, I can't say that it is twice as warm today as yesterday."
   ]
  },
  {
   "cell_type": "markdown",
   "metadata": {},
   "source": [
    "####Instructions"
   ]
  },
  {
   "cell_type": "markdown",
   "metadata": {},
   "source": [
    "Convert the values in fahrenheit_degrees so that absolute zero is at the value 0. If you think this is already the case, don't change anything. Assign the result to degrees_zero.\n",
    "\n",
    "Convert the values in yearly_town_population so that absolute zero is at the value 0. If you think this is already the case, don't change anything. Assign the result to population_zero."
   ]
  },
  {
   "cell_type": "code",
   "execution_count": 4,
   "metadata": {
    "collapsed": false
   },
   "outputs": [
    {
     "name": "stdout",
     "output_type": "stream",
     "text": [
      "degrees_zero: [491.67, 523.6700000000001, 537.6700000000001, 561.6700000000001]\n"
     ]
    }
   ],
   "source": [
    "fahrenheit_degrees = [32, 64, 78, 102]\n",
    "yearly_town_population = [100,102,103,110,105,120]\n",
    "population_zero = yearly_town_population\n",
    "degrees_zero = [f + 459.67 for f in fahrenheit_degrees]\n",
    "\n",
    "print(\"degrees_zero:\", degrees_zero)"
   ]
  },
  {
   "cell_type": "markdown",
   "metadata": {},
   "source": [
    "###4: Ordinal scales"
   ]
  },
  {
   "cell_type": "markdown",
   "metadata": {},
   "source": [
    "So far, we've looked at equal interval and discrete scales, where all of the values are numbers.\n",
    "\n",
    "But, we can also have ordinal scales, where items are ordered by rank.\n",
    "\n",
    "For example, we could ask people how many cigarettes they smoke per day, and the answers could be \"none\", \"a few\", \"some\", \"a lot\".\n",
    "\n",
    "These answers don't map exactly to numbers of cigarettes, but we know that \"a few\" is more than \"none\".\n",
    "\n",
    "This is an ordinal rating scale, and we can assign numbers to the answers, in order, to make them easier to work with.\n",
    "\n",
    "We could map 0 to \"none\", 1 to \"a few\", 2 to \"some\", and so on."
   ]
  },
  {
   "cell_type": "markdown",
   "metadata": {},
   "source": [
    "####Instructions"
   ]
  },
  {
   "cell_type": "markdown",
   "metadata": {},
   "source": [
    "Assign the number that indicates its position on the scale to each survey response (\"none\" is 0, and so on).\n",
    "\n",
    "Compute the average value of all the survey responses, and assign it to average_smoking."
   ]
  },
  {
   "cell_type": "code",
   "execution_count": 5,
   "metadata": {
    "collapsed": false
   },
   "outputs": [
    {
     "name": "stdout",
     "output_type": "stream",
     "text": [
      "average_smoking: 0.8571428571428571\n"
     ]
    }
   ],
   "source": [
    "# Results from our survey on how many cigarettes people smoke per day\n",
    "survey_responses = [\"none\", \"some\", \"a lot\", \"none\", \"a few\", \"none\", \"none\"]\n",
    "survey_scale = [\"none\", \"a few\", \"some\", \"a lot\"]\n",
    "survey_numbers = [survey_scale.index(response) for response in survey_responses]\n",
    "average_smoking = float(sum(survey_numbers)) / len(survey_numbers)\n",
    "\n",
    "print(\"average_smoking:\", average_smoking)"
   ]
  },
  {
   "cell_type": "markdown",
   "metadata": {},
   "source": [
    "###5: Categorical scales"
   ]
  },
  {
   "cell_type": "markdown",
   "metadata": {},
   "source": [
    "We can also have categorical scales, that have category labels.\n",
    "\n",
    "One example is gender, which can be male or female.\n",
    "\n",
    "There isn't an ordering between male and female -- on isn't greater than or less than the other, so it's not an ordinal scale.\n",
    "\n",
    "You'll encounter categories a lot, and usually you'll use them to split data into groups."
   ]
  },
  {
   "cell_type": "markdown",
   "metadata": {},
   "source": [
    "####Instructions"
   ]
  },
  {
   "cell_type": "markdown",
   "metadata": {},
   "source": [
    "Compute the average savings for everyone who is \"male\". Assign the result to male_savings.\n",
    "\n",
    "Compute the average savings for everyone who is \"female\". Assign the result to female_savings."
   ]
  },
  {
   "cell_type": "code",
   "execution_count": 6,
   "metadata": {
    "collapsed": false
   },
   "outputs": [
    {
     "name": "stdout",
     "output_type": "stream",
     "text": [
      "male_savings: 2133.3333333333335\n",
      "female_savings: 4166.666666666667\n"
     ]
    }
   ],
   "source": [
    "# Let's say that these lists are both columns in a matrix.  Index 0 in both is the first row, and so on.\n",
    "gender = [\"male\", \"female\", \"female\", \"male\", \"male\", \"female\"]\n",
    "savings = [1200, 5000, 3400, 2400, 2800, 4100]\n",
    "\n",
    "male_savings_list = [savings[i] for i in range(0, len(gender)) if gender[i] == \"male\"]\n",
    "female_savings_list = [savings[i] for i in range(0, len(gender)) if gender[i] == \"female\"]\n",
    "\n",
    "male_savings = float(sum(male_savings_list)) / len(male_savings_list)\n",
    "female_savings = float(sum(female_savings_list)) / len(female_savings_list)\n",
    "\n",
    "print(\"male_savings:\", male_savings)\n",
    "print(\"female_savings:\", female_savings)"
   ]
  },
  {
   "cell_type": "markdown",
   "metadata": {},
   "source": [
    "###6: Frequency histograms"
   ]
  },
  {
   "cell_type": "markdown",
   "metadata": {},
   "source": [
    "Remember how statistics is all about counting? There's a plot called a frequency histogram that helps us visualize counts of data a lot better.\n",
    "\n",
    "The idea is to count up how many times a value occurs in a list, and then graph the values on the x-axis, and the counts on the y-axis.\n",
    "\n",
    "This lets us better understand how values fall in datasets."
   ]
  },
  {
   "cell_type": "markdown",
   "metadata": {},
   "source": [
    "####Instructions"
   ]
  },
  {
   "cell_type": "markdown",
   "metadata": {},
   "source": [
    "Plot a histogram of student_scores."
   ]
  },
  {
   "cell_type": "code",
   "execution_count": 7,
   "metadata": {
    "collapsed": false
   },
   "outputs": [
    {
     "data": {
      "image/png": "[encoded data removed]",
      "text/plain": [
       "<matplotlib.figure.Figure at 0x96e90f0>"
      ]
     },
     "metadata": {},
     "output_type": "display_data"
    },
    {
     "data": {
      "image/png": "[encoded data removed]",
      "text/plain": [
       "<matplotlib.figure.Figure at 0x9d53828>"
      ]
     },
     "metadata": {},
     "output_type": "display_data"
    }
   ],
   "source": [
    "import matplotlib.pyplot as plt\n",
    "%matplotlib inline\n",
    "\n",
    "# Let's say that we watch cars drive by, and measure average speed in miles per hour.\n",
    "average_speed = [10, 20, 25, 27, 28, 22, 15, 18, 17]\n",
    "plt.hist(average_speed)\n",
    "plt.show()\n",
    "\n",
    "# Let's say we measure student test scores, from 0-100.\n",
    "student_scores = [15, 80, 95, 100, 45, 75, 65]\n",
    "plt.hist(student_scores)\n",
    "plt.show()"
   ]
  },
  {
   "cell_type": "markdown",
   "metadata": {},
   "source": [
    "###7: Histogram bins"
   ]
  },
  {
   "cell_type": "markdown",
   "metadata": {},
   "source": [
    "You may have noticed in the last screen that all of the values were plotted.\n",
    "\n",
    "Histograms use something called bins to count up values.\n",
    "\n",
    "If the x-axis ranges from 0 to 10, and we have 10 bins, the first bin would be 0-1, the second would be 1-2, and so on.\n",
    "\n",
    "If we have 5 bins, the first would be 0-2, the second would be 2-4, and so on.\n",
    "\n",
    "Any values in the list that fall within the bin would increase the count of the bin by one.\n",
    "\n",
    "Bins allow us to better understand the shape and distribution of the data than graphing every count individually.\n",
    "\n",
    "In the last screen, the default number of bins for a matplotlib plot is 10, and we had less values than that, so all the values were shown.\n",
    "\n",
    "We'll experiment a bit with different numbers of bins to get a better intuition of how they work."
   ]
  },
  {
   "cell_type": "markdown",
   "metadata": {},
   "source": [
    "####Instructions"
   ]
  },
  {
   "cell_type": "markdown",
   "metadata": {},
   "source": [
    "Plot a histogram of average_speed with only 2 bins."
   ]
  },
  {
   "cell_type": "code",
   "execution_count": 8,
   "metadata": {
    "collapsed": false
   },
   "outputs": [
    {
     "data": {
      "image/png": "[encoded data removed]",
      "text/plain": [
       "<matplotlib.figure.Figure at 0x96e9048>"
      ]
     },
     "metadata": {},
     "output_type": "display_data"
    },
    {
     "data": {
      "image/png": "[encoded data removed]",
      "text/plain": [
       "<matplotlib.figure.Figure at 0x9d70d30>"
      ]
     },
     "metadata": {},
     "output_type": "display_data"
    },
    {
     "data": {
      "image/png": "[encoded data removed]",
      "text/plain": [
       "<matplotlib.figure.Figure at 0x9d36668>"
      ]
     },
     "metadata": {},
     "output_type": "display_data"
    }
   ],
   "source": [
    "import matplotlib.pyplot as plt\n",
    "%matplotlib inline\n",
    "\n",
    "average_speed = [10, 20, 25, 27, 28, 22, 15, 18, 17]\n",
    "plt.hist(average_speed, bins=6)\n",
    "plt.show()\n",
    "\n",
    "# As you can see, the values in the list are counted into the nearest bin.\n",
    "# If we have less bins, each bin will have a higher count (because it's showing all of the values that fall into it)\n",
    "# With more bins, the counts are less, because each bin contains less values.\n",
    "plt.hist(average_speed, bins=4)\n",
    "plt.show()\n",
    "\n",
    "plt.hist(average_speed, bins=2)\n",
    "plt.show()"
   ]
  },
  {
   "cell_type": "markdown",
   "metadata": {},
   "source": [
    "###8: Skew"
   ]
  },
  {
   "cell_type": "markdown",
   "metadata": {},
   "source": [
    "Now that we know how to make histograms, notice how the plots have a \"shape\" to them?\n",
    "\n",
    "These shapes are important, and can show you distributional parameters of the data.\n",
    "\n",
    "The first parameter we'll look at is called skew."
   ]
  },
  {
   "cell_type": "markdown",
   "metadata": {},
   "source": [
    "####Instructions"
   ]
  },
  {
   "cell_type": "markdown",
   "metadata": {},
   "source": [
    "Assign the skew of test_scores_positive to positive_skew.\n",
    "\n",
    "Assign the skew of test_scores_negative to negative_skew.\n",
    "\n",
    "Assign the skew of test_scores_normal to no_skew."
   ]
  },
  {
   "cell_type": "code",
   "execution_count": 9,
   "metadata": {
    "collapsed": false
   },
   "outputs": [
    {
     "data": {
      "image/png": "[encoded data removed]",
      "text/plain": [
       "<matplotlib.figure.Figure at 0x9dc1780>"
      ]
     },
     "metadata": {},
     "output_type": "display_data"
    },
    {
     "data": {
      "image/png": "[encoded data removed]",
      "text/plain": [
       "<matplotlib.figure.Figure at 0xa75b9e8>"
      ]
     },
     "metadata": {},
     "output_type": "display_data"
    },
    {
     "data": {
      "image/png": "[encoded data removed]",
      "text/plain": [
       "<matplotlib.figure.Figure at 0x9e412e8>"
      ]
     },
     "metadata": {},
     "output_type": "display_data"
    },
    {
     "name": "stdout",
     "output_type": "stream",
     "text": [
      "positive_skew: 0.8451409400800027\n",
      "negative_skew: -0.8451409400800197\n",
      "no_skew: -0.11045767708531636\n"
     ]
    }
   ],
   "source": [
    "# Some numpy arrays are already loaded in, and we'll make some plots with them.\n",
    "# The arrays contain student test scores from an exam, on a 0-100 scale.\n",
    "from scipy.stats import skew\n",
    "from scipy.stats import gamma\n",
    "import numpy as np\n",
    "import matplotlib.pyplot as plt\n",
    "%matplotlib inline\n",
    "\n",
    "mu, sigma = 50, 5\n",
    "test_scores_normal = np.random.normal(mu, sigma, 1000)\n",
    "test_scores_positive = gamma.rvs(10, size=1000)\n",
    "test_scores_negative = 100 - test_scores_positive\n",
    "\n",
    "# See how there is a long slope to the left?\n",
    "# The data is concentrated in the right part of the distribution, but some people also scored poorly.\n",
    "# This plot is negatively skewed.\n",
    "plt.hist(test_scores_negative)\n",
    "plt.show()\n",
    "\n",
    "# This plot has a long slope to the right.\n",
    "# Most students did poorly, but a few did really well.\n",
    "# This is positively skewed.\n",
    "plt.hist(test_scores_positive)\n",
    "plt.show()\n",
    "\n",
    "# This plot has no skew either way -- most of the values are in the center, and there is no long slope either way.\n",
    "# Is is an unskewed distribution.\n",
    "plt.hist(test_scores_normal)\n",
    "plt.show()\n",
    "\n",
    "# We can test how skewed a distribution is using the skew function.\n",
    "# A positive value means positive skew, a negative value means negative skew, and close to zero means no skew.\n",
    "\n",
    "positive_skew = skew(test_scores_positive)\n",
    "print(\"positive_skew:\", positive_skew)\n",
    "\n",
    "negative_skew = skew(test_scores_negative)\n",
    "print(\"negative_skew:\", negative_skew)\n",
    "\n",
    "no_skew = skew(test_scores_normal)\n",
    "print(\"no_skew:\", no_skew)"
   ]
  },
  {
   "cell_type": "markdown",
   "metadata": {},
   "source": [
    "###9: Kurtosis"
   ]
  },
  {
   "cell_type": "markdown",
   "metadata": {},
   "source": [
    "Another parameter of a distribution is called kurtosis.\n",
    "\n",
    "Kurtosis measures whether the distribution is short and flat, or tall and skinny.\n",
    "\n",
    "\"Shorter\" distributions have a lower maximum frequency, but higher subsequent frequencies."
   ]
  },
  {
   "cell_type": "markdown",
   "metadata": {},
   "source": [
    "####Instructions"
   ]
  },
  {
   "cell_type": "markdown",
   "metadata": {},
   "source": [
    "Assign the kurtosis of test_scores_platy to kurt_platy.\n",
    "\n",
    "Assign the kurtosis of test_scores_lepto to kurt_lepto.\n",
    "\n",
    "Assign the kurtosis of test_scores_meso to kurt_meso."
   ]
  },
  {
   "cell_type": "code",
   "execution_count": 10,
   "metadata": {
    "collapsed": false
   },
   "outputs": [],
   "source": [
    "from scipy.stats import kurtosis\n",
    "import matplotlib.pyplot as plt\n",
    "%matplotlib inline\n",
    "\n",
    "# This plot is short, making it platykurtic.\n",
    "# See how the values are distributed pretty evenly, and there isn't a huge cluster in the middle?\n",
    "# Students had a wide variation in their performance.\n",
    "#plt.hist(test_scores_platy)\n",
    "#plt.show()\n",
    "\n",
    "# This plot is tall, and is leptokurtic.\n",
    "# Most students did very similarly to the others.\n",
    "#plt.hist(test_scores_lepto)\n",
    "#plt.show()\n",
    "\n",
    "# This plot is in between, and is mesokurtic.\n",
    "#plt.hist(test_scores_meso)\n",
    "#plt.show()\n",
    "\n",
    "# We can measure kurtosis with the kurtosis function.\n",
    "# Negative values indicate platykurtic distributions, positive values indicate leptokurtic distributions, and values close to 0 are mesokurtic.\n",
    "#kurt_platy = kurtosis(test_scores_platy)\n",
    "#kurt_lepto = kurtosis(test_scores_lepto)\n",
    "#kurt_meso = kurtosis(test_scores_meso)"
   ]
  },
  {
   "cell_type": "markdown",
   "metadata": {},
   "source": [
    "###10: Modality"
   ]
  },
  {
   "cell_type": "markdown",
   "metadata": {},
   "source": [
    "Modality is another parameter of distributions.\n",
    "\n",
    "Modality refers to the number of modes, or peaks, in a distribution.\n",
    "\n",
    "Real-world data often is unimodal (only has one mode)."
   ]
  },
  {
   "cell_type": "markdown",
   "metadata": {},
   "source": [
    "####Instructions"
   ]
  },
  {
   "cell_type": "markdown",
   "metadata": {},
   "source": [
    "Plot test_scores_multi, which has four peaks."
   ]
  },
  {
   "cell_type": "code",
   "execution_count": 11,
   "metadata": {
    "collapsed": false
   },
   "outputs": [],
   "source": [
    "import matplotlib.pyplot as plt\n",
    "%matplotlib inline\n",
    "\n",
    "# This plot has one mode, making it unimodal.\n",
    "#plt.hist(test_scores_uni)\n",
    "#plt.show()\n",
    "\n",
    "# This plot has two peaks, and is bimodal.\n",
    "# This could happen if one group of students learned the material, and one learned something else, for example.\n",
    "#plt.hist(test_scores_bi)\n",
    "#plt.show()\n",
    "\n",
    "# More than one peak means that the plot is multimodal.\n",
    "# We can't easily measure the modality of a plot, like we can with kurtosis or skew.\n",
    "# Often, the best way to detect multimodality is to observe the plot.\n",
    "#plt.hist(test_scores_multi)\n",
    "#plt.show()"
   ]
  },
  {
   "cell_type": "markdown",
   "metadata": {},
   "source": [
    "###11: Measures of central tendency"
   ]
  },
  {
   "cell_type": "markdown",
   "metadata": {},
   "source": [
    "Now that we know how to measure parameters of a distribution, let's look at central tendency measures.\n",
    "\n",
    "These measure how likely points in the data are to cluster around a central point.\n",
    "\n",
    "The first one we'll look at is the mean.\n",
    "\n",
    "We've taken the mean before, but we'll look more closely at what it is.\n",
    "\n",
    "The mean is just the sum of all the elements in an array divided by the number of elements."
   ]
  },
  {
   "cell_type": "markdown",
   "metadata": {},
   "source": [
    "####Instructions"
   ]
  },
  {
   "cell_type": "markdown",
   "metadata": {},
   "source": [
    "Compute the mean of test_scores_normal, and assign to mean_normal.\n",
    "\n",
    "Compute the mean of test_scores_negative, and assign to mean_negative.\n",
    "\n",
    "Compute the mean of test_scores_positive, and assign to mean_positive."
   ]
  },
  {
   "cell_type": "code",
   "execution_count": 12,
   "metadata": {
    "collapsed": false
   },
   "outputs": [
    {
     "data": {
      "image/png": "[encoded data removed]",
      "text/plain": [
       "<matplotlib.figure.Figure at 0x9d53278>"
      ]
     },
     "metadata": {},
     "output_type": "display_data"
    },
    {
     "data": {
      "image/png": "[encoded data removed]",
      "text/plain": [
       "<matplotlib.figure.Figure at 0xa813780>"
      ]
     },
     "metadata": {},
     "output_type": "display_data"
    },
    {
     "data": {
      "image/png": "[encoded data removed]",
      "text/plain": [
       "<matplotlib.figure.Figure at 0x9a07eb8>"
      ]
     },
     "metadata": {},
     "output_type": "display_data"
    },
    {
     "name": "stdout",
     "output_type": "stream",
     "text": [
      "mean_normal: 50.2355217089\n",
      "mean_negative: 90.0357681146\n",
      "mean_positive: 9.96423188538\n"
     ]
    }
   ],
   "source": [
    "import matplotlib.pyplot as plt\n",
    "%matplotlib inline\n",
    "\n",
    "# We're going to put a line over our plot that shows the mean.\n",
    "# This is the same histogram we plotted for skew a few screens ago.\n",
    "plt.hist(test_scores_normal)\n",
    "# We can use the .mean() method of a numpy array to compute the mean.\n",
    "mean_test_score = test_scores_normal.mean()\n",
    "# The axvline function will plot a vertical line over an existing plot.\n",
    "plt.axvline(mean_test_score)\n",
    "\n",
    "# Now we can show the plot and clear the figure.\n",
    "plt.show()\n",
    "\n",
    "# When we plot test_scores_negative, a very negatively skewed distribution, we see that the mean is pulled to the left by the small values there.\n",
    "# The mean can be changed easily by very large or very small values.\n",
    "# This can make it misleading with distributions that are very skewed, when we expect the mean to be the center.\n",
    "plt.hist(test_scores_negative)\n",
    "plt.axvline(test_scores_negative.mean())\n",
    "plt.show()\n",
    "\n",
    "# We can do the same with the positive side.\n",
    "# See how the very high values pull the mean to the right more than you would expect?\n",
    "plt.hist(test_scores_positive)\n",
    "plt.axvline(test_scores_positive.mean())\n",
    "plt.show()\n",
    "\n",
    "mean_normal = test_scores_normal.mean()\n",
    "print(\"mean_normal:\", mean_normal)\n",
    "\n",
    "mean_negative = test_scores_negative.mean()\n",
    "print(\"mean_negative:\", mean_negative)\n",
    "\n",
    "mean_positive = test_scores_positive.mean()\n",
    "print(\"mean_positive:\", mean_positive)"
   ]
  },
  {
   "cell_type": "markdown",
   "metadata": {},
   "source": [
    "###12: The median"
   ]
  },
  {
   "cell_type": "markdown",
   "metadata": {},
   "source": [
    "Another measure of central tendency is the median.\n",
    "\n",
    "This is the midpoint of an array.\n",
    "\n",
    "You have to sort the array, and then take the value in the middle.\n",
    "\n",
    "If two values are in the middle (if there are an even number of items in the array), then you take the mean of the two middle values.\n",
    "\n",
    "The median is less sensitive to very large or very small values (outliers), and is a more realistic center of the distribution."
   ]
  },
  {
   "cell_type": "markdown",
   "metadata": {},
   "source": [
    "####Instructions"
   ]
  },
  {
   "cell_type": "markdown",
   "metadata": {},
   "source": [
    "Plot a histogram for test_scores_positive.\n",
    "\n",
    "Add in a blue line for the median.\n",
    "\n",
    "Add in a red line for the mean."
   ]
  },
  {
   "cell_type": "code",
   "execution_count": 13,
   "metadata": {
    "collapsed": false
   },
   "outputs": [
    {
     "data": {
      "image/png": "[encoded data removed]",
      "text/plain": [
       "<matplotlib.figure.Figure at 0x9cdd8d0>"
      ]
     },
     "metadata": {},
     "output_type": "display_data"
    },
    {
     "data": {
      "image/png": "[encoded data removed]",
      "text/plain": [
       "<matplotlib.figure.Figure at 0x9e14f98>"
      ]
     },
     "metadata": {},
     "output_type": "display_data"
    }
   ],
   "source": [
    "# Let's plot the mean and median side by side in a negatively skewed distribution.\n",
    "# Sadly, numpy arrays don't have a nice median method, so we have to use a numpy function to compute it.\n",
    "import numpy\n",
    "import matplotlib.pyplot as plt\n",
    "%matplotlib inline\n",
    "\n",
    "# Plot the histogram.\n",
    "plt.hist(test_scores_negative)\n",
    "\n",
    "# Compute the median.\n",
    "median = numpy.median(test_scores_negative)\n",
    "\n",
    "# Plot the median in blue (the color argument of \"b\" means blue).\n",
    "plt.axvline(median, color=\"b\")\n",
    "\n",
    "# Plot the mean in red.\n",
    "plt.axvline(test_scores_negative.mean(), color=\"r\")\n",
    "\n",
    "# See how the median is further to the right than the mean?\n",
    "# It's less sensitive to outliers, and isn't pulled to the left.\n",
    "plt.show()\n",
    "\n",
    "plt.hist(test_scores_positive)\n",
    "plt.axvline(numpy.median(test_scores_positive), color=\"b\")\n",
    "plt.axvline(test_scores_positive.mean(), color=\"r\")\n",
    "plt.show()"
   ]
  },
  {
   "cell_type": "markdown",
   "metadata": {},
   "source": [
    "###13: Plotting Titanic data"
   ]
  },
  {
   "cell_type": "markdown",
   "metadata": {},
   "source": [
    "Before we dive into cleaning up the data, let's take a look at why we need to deal with the missing values."
   ]
  },
  {
   "cell_type": "markdown",
   "metadata": {},
   "source": [
    "####Instructions"
   ]
  },
  {
   "cell_type": "markdown",
   "metadata": {},
   "source": [
    "Play around with graphing if you want, then hit \"Next\" to continue"
   ]
  },
  {
   "cell_type": "code",
   "execution_count": 14,
   "metadata": {
    "collapsed": false
   },
   "outputs": [
    {
     "data": {
      "text/html": [
       "<div>\n",
       "<table border=\"1\" class=\"dataframe\">\n",
       "  <thead>\n",
       "    <tr style=\"text-align: right;\">\n",
       "      <th></th>\n",
       "      <th>pclass</th>\n",
       "      <th>survived</th>\n",
       "      <th>name</th>\n",
       "      <th>sex</th>\n",
       "      <th>age</th>\n",
       "      <th>sibsp</th>\n",
       "      <th>parch</th>\n",
       "      <th>ticket</th>\n",
       "      <th>fare</th>\n",
       "      <th>cabin</th>\n",
       "      <th>embarked</th>\n",
       "      <th>boat</th>\n",
       "      <th>body</th>\n",
       "      <th>home.dest</th>\n",
       "    </tr>\n",
       "  </thead>\n",
       "  <tbody>\n",
       "    <tr>\n",
       "      <th>0</th>\n",
       "      <td>3</td>\n",
       "      <td>0</td>\n",
       "      <td>Abbing, Mr. Anthony</td>\n",
       "      <td>male</td>\n",
       "      <td>42</td>\n",
       "      <td>0</td>\n",
       "      <td>0</td>\n",
       "      <td>C.A. 5547</td>\n",
       "      <td>7.55</td>\n",
       "      <td>NaN</td>\n",
       "      <td>S</td>\n",
       "      <td>NaN</td>\n",
       "      <td>NaN</td>\n",
       "      <td>NaN</td>\n",
       "    </tr>\n",
       "    <tr>\n",
       "      <th>1</th>\n",
       "      <td>3</td>\n",
       "      <td>0</td>\n",
       "      <td>Abbott, Master. Eugene Joseph</td>\n",
       "      <td>male</td>\n",
       "      <td>13</td>\n",
       "      <td>0</td>\n",
       "      <td>2</td>\n",
       "      <td>C.A. 2673</td>\n",
       "      <td>20.25</td>\n",
       "      <td>NaN</td>\n",
       "      <td>S</td>\n",
       "      <td>NaN</td>\n",
       "      <td>NaN</td>\n",
       "      <td>East Providence, RI</td>\n",
       "    </tr>\n",
       "    <tr>\n",
       "      <th>2</th>\n",
       "      <td>3</td>\n",
       "      <td>0</td>\n",
       "      <td>Abbott, Mr. Rossmore Edward</td>\n",
       "      <td>male</td>\n",
       "      <td>16</td>\n",
       "      <td>1</td>\n",
       "      <td>1</td>\n",
       "      <td>C.A. 2673</td>\n",
       "      <td>20.25</td>\n",
       "      <td>NaN</td>\n",
       "      <td>S</td>\n",
       "      <td>NaN</td>\n",
       "      <td>190</td>\n",
       "      <td>East Providence, RI</td>\n",
       "    </tr>\n",
       "    <tr>\n",
       "      <th>3</th>\n",
       "      <td>3</td>\n",
       "      <td>1</td>\n",
       "      <td>Abbott, Mrs. Stanton (Rosa Hunt)</td>\n",
       "      <td>female</td>\n",
       "      <td>35</td>\n",
       "      <td>1</td>\n",
       "      <td>1</td>\n",
       "      <td>C.A. 2673</td>\n",
       "      <td>20.25</td>\n",
       "      <td>NaN</td>\n",
       "      <td>S</td>\n",
       "      <td>A</td>\n",
       "      <td>NaN</td>\n",
       "      <td>East Providence, RI</td>\n",
       "    </tr>\n",
       "    <tr>\n",
       "      <th>4</th>\n",
       "      <td>3</td>\n",
       "      <td>1</td>\n",
       "      <td>Abelseth, Miss. Karen Marie</td>\n",
       "      <td>female</td>\n",
       "      <td>16</td>\n",
       "      <td>0</td>\n",
       "      <td>0</td>\n",
       "      <td>348125</td>\n",
       "      <td>7.65</td>\n",
       "      <td>NaN</td>\n",
       "      <td>S</td>\n",
       "      <td>16</td>\n",
       "      <td>NaN</td>\n",
       "      <td>Norway Los Angeles, CA</td>\n",
       "    </tr>\n",
       "  </tbody>\n",
       "</table>\n",
       "</div>"
      ],
      "text/plain": [
       "   pclass  survived                              name     sex  age  sibsp  \\\n",
       "0       3         0               Abbing, Mr. Anthony    male   42      0   \n",
       "1       3         0     Abbott, Master. Eugene Joseph    male   13      0   \n",
       "2       3         0       Abbott, Mr. Rossmore Edward    male   16      1   \n",
       "3       3         1  Abbott, Mrs. Stanton (Rosa Hunt)  female   35      1   \n",
       "4       3         1       Abelseth, Miss. Karen Marie  female   16      0   \n",
       "\n",
       "   parch     ticket   fare cabin embarked boat  body               home.dest  \n",
       "0      0  C.A. 5547   7.55   NaN        S  NaN   NaN                     NaN  \n",
       "1      2  C.A. 2673  20.25   NaN        S  NaN   NaN     East Providence, RI  \n",
       "2      1  C.A. 2673  20.25   NaN        S  NaN   190     East Providence, RI  \n",
       "3      1  C.A. 2673  20.25   NaN        S    A   NaN     East Providence, RI  \n",
       "4      0     348125   7.65   NaN        S   16   NaN  Norway Los Angeles, CA  "
      ]
     },
     "execution_count": 14,
     "metadata": {},
     "output_type": "execute_result"
    }
   ],
   "source": [
    "import pandas\n",
    "\n",
    "import matplotlib.pyplot as plt\n",
    "%matplotlib inline\n",
    "\n",
    "titanic_survival = pandas.read_csv(\"data/titanic.csv\")\n",
    "titanic_survival[:5]\n",
    "\n",
    "# The titanic data is loaded into the titanic_survival variable, which is a pandas dataframe\n",
    "# See the values that show up as NaN in the age column?  Those were missing in the original dataset\n",
    "# NaN stands for not a number\n",
    "#print(titanic_survival[\"age\"])\n",
    "\n",
    "# Now let's try plotting with the NaN values\n",
    "#plt.hist(titanic_survival[\"age\"])\n",
    "\n",
    "# The above will fail with an error\n",
    "# This is because we can't plot a value that doesn't exist (NaN)\n",
    "# We need to deal with those values before we can proceed"
   ]
  },
  {
   "cell_type": "markdown",
   "metadata": {},
   "source": [
    "###14: Cleaning missing data"
   ]
  },
  {
   "cell_type": "markdown",
   "metadata": {},
   "source": [
    "Now that we know some statistics, let's practice on our Titanic data.\n",
    "\n",
    "Our data is a manifest of all the passengers on the Titanic, a ship that sunk in April 1912.\n",
    "\n",
    "It contains passenger names, ages, and other information (such as whether or not they survived).\n",
    "\n",
    "Unfortunately, not all data is available -- some passengers don't have an age or other information listed.\n",
    "\n",
    "Before we can analyze the data, we have to do something about the missing rows.\n",
    "\n",
    "The easiest way to deal with them is to just remove all rows with missing data.\n",
    "\n",
    "This isn't necessarily the best solution in all cases, but we'll learn about other ways to handle this later on."
   ]
  },
  {
   "cell_type": "markdown",
   "metadata": {},
   "source": [
    "####Instructions"
   ]
  },
  {
   "cell_type": "markdown",
   "metadata": {},
   "source": [
    "Remove the NaN values in the \"age\" and \"sex\" columns.\n",
    "\n",
    "Assign the result to new_titanic_survival."
   ]
  },
  {
   "cell_type": "code",
   "execution_count": 15,
   "metadata": {
    "collapsed": false
   },
   "outputs": [
    {
     "name": "stdout",
     "output_type": "stream",
     "text": [
      "titanic_survival.shape: (1309, 14)\n",
      "new_titanic_survival.shape: (0, 14)\n",
      "new_titanic_survival.shape: (293, 14)\n"
     ]
    }
   ],
   "source": [
    "# Luckily, pandas dataframes have a method that can drop rows that have missing data\n",
    "# Let's look at how big the dataframe is first\n",
    "print(\"titanic_survival.shape:\", titanic_survival.shape)\n",
    "\n",
    "# There were 1310 passengers on the titanic, according to our data\n",
    "# Now let's drop any row with missing data\n",
    "# The dropna method on dataframes will do this for us\n",
    "# Any row with any missing values will be removed\n",
    "new_titanic_survival = titanic_survival.dropna()\n",
    "\n",
    "# Hmm, it looks like we were too zealous with dropping rows with na values\n",
    "# We now have no rows in our dataframe\n",
    "# This is because some of the later columns, which aren't immediately relevant to our analysis, have a lot of missing values\n",
    "print(\"new_titanic_survival.shape:\", new_titanic_survival.shape)\n",
    "\n",
    "# We can use the subset keyword argument to the dropna method to only drop rows if there are na values in certain columns\n",
    "# This will drop any row where the embarkation port (where people boarded the Titanic), or cabin number is missing\n",
    "new_titanic_survival = titanic_survival.dropna(subset=[\"embarked\", \"cabin\"])\n",
    "\n",
    "# This is much better -- we have removed only the rows that we need to remove.\n",
    "print(\"new_titanic_survival.shape:\", new_titanic_survival.shape)\n",
    "new_titanic_survival = titanic_survival.dropna(subset=[\"age\", \"sex\"])"
   ]
  },
  {
   "cell_type": "markdown",
   "metadata": {},
   "source": [
    "###15: Plotting age"
   ]
  },
  {
   "cell_type": "markdown",
   "metadata": {},
   "source": [
    "Now that we have cleaned up data, let's analyze it."
   ]
  },
  {
   "cell_type": "markdown",
   "metadata": {},
   "source": [
    "####Instructions"
   ]
  },
  {
   "cell_type": "markdown",
   "metadata": {},
   "source": [
    "Plot a histogram of the \"age\" column in titanic_survival.\n",
    "\n",
    "Add in a blue line for the median.\n",
    "\n",
    "Add in a red line for the mean."
   ]
  },
  {
   "cell_type": "code",
   "execution_count": 16,
   "metadata": {
    "collapsed": false
   },
   "outputs": [
    {
     "data": {
      "image/png": "[encoded data removed]",
      "text/plain": [
       "<matplotlib.figure.Figure at 0xa8c49b0>"
      ]
     },
     "metadata": {},
     "output_type": "display_data"
    }
   ],
   "source": [
    "# The cleaned up data has been loaded into the 'titanic_survival' variable.\n",
    "import numpy\n",
    "import matplotlib.pyplot as plt\n",
    "%matplotlib inline\n",
    "\n",
    "plt.hist(new_titanic_survival[\"age\"])\n",
    "plt.axvline(numpy.median(new_titanic_survival[\"age\"]), color=\"b\")\n",
    "plt.axvline(new_titanic_survival[\"age\"].mean(), color=\"r\")\n",
    "plt.show()"
   ]
  },
  {
   "cell_type": "markdown",
   "metadata": {},
   "source": [
    "###16: Calculating indices for age"
   ]
  },
  {
   "cell_type": "markdown",
   "metadata": {},
   "source": [
    "The age distribution was very interesting, and showed that a lot of people in their 20s-40s were travelling without children.\n",
    "\n",
    "Now that we know what the distribution looks like, let's calculate the parameters and central tendency measures."
   ]
  },
  {
   "cell_type": "markdown",
   "metadata": {},
   "source": [
    "####Instructions"
   ]
  },
  {
   "cell_type": "markdown",
   "metadata": {},
   "source": [
    "Assign the mean of the \"age\" column of titanic_survival to mean_age.\n",
    "\n",
    "Assign the median of the \"age\" column of titanic_survival to median_age.\n",
    "\n",
    "Assign the skew of the \"age\" column of titanic_survival to skew_age.\n",
    "\n",
    "Assign the kurtosis of the \"age\" column of titanic_survival to kurtosis_age."
   ]
  },
  {
   "cell_type": "code",
   "execution_count": 17,
   "metadata": {
    "collapsed": false
   },
   "outputs": [
    {
     "name": "stdout",
     "output_type": "stream",
     "text": [
      "mean_age: 29.8811345124283\n",
      "median_age: 28.0\n",
      "skew_age: 0.4070870379484179\n",
      "kurtosis_age: 0.14051780299368888\n"
     ]
    }
   ],
   "source": [
    "# The cleaned up data has been loaded into the titanic_survival variable\n",
    "import numpy\n",
    "from scipy.stats import skew\n",
    "from scipy.stats import kurtosis\n",
    "\n",
    "mean_age = new_titanic_survival[\"age\"].mean()\n",
    "print(\"mean_age:\", mean_age)\n",
    "\n",
    "median_age = numpy.median(new_titanic_survival[\"age\"])\n",
    "print(\"median_age:\", median_age)\n",
    "\n",
    "skew_age = skew(new_titanic_survival[\"age\"])\n",
    "print(\"skew_age:\", skew_age)\n",
    "\n",
    "kurtosis_age = kurtosis(new_titanic_survival[\"age\"])\n",
    "print(\"kurtosis_age:\", kurtosis_age)"
   ]
  }
 ],
 "metadata": {
  "kernelspec": {
   "display_name": "Python 3",
   "language": "python",
   "name": "python3"
  },
  "language_info": {
   "codemirror_mode": {
    "name": "ipython",
    "version": 3
   },
   "file_extension": ".py",
   "mimetype": "text/x-python",
   "name": "python",
   "nbconvert_exporter": "python",
   "pygments_lexer": "ipython3",
   "version": "3.4.3"
  }
 },
 "nbformat": 4,
 "nbformat_minor": 0
}
