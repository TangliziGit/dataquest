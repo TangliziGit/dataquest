{
 "cells": [
  {
   "cell_type": "code",
   "execution_count": 1,
   "metadata": {
    "collapsed": true
   },
   "outputs": [],
   "source": [
    "from __future__ import print_function"
   ]
  },
  {
   "cell_type": "markdown",
   "metadata": {},
   "source": [
    "#Probability and Statistics in Python"
   ]
  },
  {
   "cell_type": "markdown",
   "metadata": {},
   "source": [
    "##Probability Distributions"
   ]
  },
  {
   "cell_type": "markdown",
   "metadata": {},
   "source": [
    "###1: The dataset"
   ]
  },
  {
   "cell_type": "markdown",
   "metadata": {},
   "source": [
    "In many countries, there are bikesharing programs where anyone can rent a bike from a depot, and return it at other depots throughout a city. There is one such program in Washington, D.C., in the US. We'll be looking at the number of bikes that were rented by day. Here are the relevant columns:\n",
    "- dteday -- the date that we're looking at.\n",
    "- casual -- the number of casual riders (people who hadn't previously signed up with the bikesharing program) that rented bikes on the day.\n",
    "- registered -- the number of registered riders (people who signed up previously) that rented bikes.\n",
    "- cnt -- the total number of bikes rented.\n",
    "\n",
    "This data was collected by Hadi Fanaee-T at the University of Porto and can be downloaded <a href = \"http://archive.ics.uci.edu/ml/datasets/Bike+Sharing+Dataset\">here</a>."
   ]
  },
  {
   "cell_type": "code",
   "execution_count": 2,
   "metadata": {
    "collapsed": false
   },
   "outputs": [
    {
     "data": {
      "text/html": [
       "<div>\n",
       "<table border=\"1\" class=\"dataframe\">\n",
       "  <thead>\n",
       "    <tr style=\"text-align: right;\">\n",
       "      <th></th>\n",
       "      <th>instant</th>\n",
       "      <th>dteday</th>\n",
       "      <th>season</th>\n",
       "      <th>yr</th>\n",
       "      <th>mnth</th>\n",
       "      <th>holiday</th>\n",
       "      <th>weekday</th>\n",
       "      <th>workingday</th>\n",
       "      <th>weathersit</th>\n",
       "      <th>temp</th>\n",
       "      <th>atemp</th>\n",
       "      <th>hum</th>\n",
       "      <th>windspeed</th>\n",
       "      <th>casual</th>\n",
       "      <th>registered</th>\n",
       "      <th>cnt</th>\n",
       "    </tr>\n",
       "  </thead>\n",
       "  <tbody>\n",
       "    <tr>\n",
       "      <th>0</th>\n",
       "      <td>1</td>\n",
       "      <td>2011-01-01</td>\n",
       "      <td>1</td>\n",
       "      <td>0</td>\n",
       "      <td>1</td>\n",
       "      <td>0</td>\n",
       "      <td>6</td>\n",
       "      <td>0</td>\n",
       "      <td>2</td>\n",
       "      <td>0.344167</td>\n",
       "      <td>0.363625</td>\n",
       "      <td>0.805833</td>\n",
       "      <td>0.160446</td>\n",
       "      <td>331</td>\n",
       "      <td>654</td>\n",
       "      <td>985</td>\n",
       "    </tr>\n",
       "    <tr>\n",
       "      <th>1</th>\n",
       "      <td>2</td>\n",
       "      <td>2011-01-02</td>\n",
       "      <td>1</td>\n",
       "      <td>0</td>\n",
       "      <td>1</td>\n",
       "      <td>0</td>\n",
       "      <td>0</td>\n",
       "      <td>0</td>\n",
       "      <td>2</td>\n",
       "      <td>0.363478</td>\n",
       "      <td>0.353739</td>\n",
       "      <td>0.696087</td>\n",
       "      <td>0.248539</td>\n",
       "      <td>131</td>\n",
       "      <td>670</td>\n",
       "      <td>801</td>\n",
       "    </tr>\n",
       "    <tr>\n",
       "      <th>2</th>\n",
       "      <td>3</td>\n",
       "      <td>2011-01-03</td>\n",
       "      <td>1</td>\n",
       "      <td>0</td>\n",
       "      <td>1</td>\n",
       "      <td>0</td>\n",
       "      <td>1</td>\n",
       "      <td>1</td>\n",
       "      <td>1</td>\n",
       "      <td>0.196364</td>\n",
       "      <td>0.189405</td>\n",
       "      <td>0.437273</td>\n",
       "      <td>0.248309</td>\n",
       "      <td>120</td>\n",
       "      <td>1229</td>\n",
       "      <td>1349</td>\n",
       "    </tr>\n",
       "    <tr>\n",
       "      <th>3</th>\n",
       "      <td>4</td>\n",
       "      <td>2011-01-04</td>\n",
       "      <td>1</td>\n",
       "      <td>0</td>\n",
       "      <td>1</td>\n",
       "      <td>0</td>\n",
       "      <td>2</td>\n",
       "      <td>1</td>\n",
       "      <td>1</td>\n",
       "      <td>0.200000</td>\n",
       "      <td>0.212122</td>\n",
       "      <td>0.590435</td>\n",
       "      <td>0.160296</td>\n",
       "      <td>108</td>\n",
       "      <td>1454</td>\n",
       "      <td>1562</td>\n",
       "    </tr>\n",
       "    <tr>\n",
       "      <th>4</th>\n",
       "      <td>5</td>\n",
       "      <td>2011-01-05</td>\n",
       "      <td>1</td>\n",
       "      <td>0</td>\n",
       "      <td>1</td>\n",
       "      <td>0</td>\n",
       "      <td>3</td>\n",
       "      <td>1</td>\n",
       "      <td>1</td>\n",
       "      <td>0.226957</td>\n",
       "      <td>0.229270</td>\n",
       "      <td>0.436957</td>\n",
       "      <td>0.186900</td>\n",
       "      <td>82</td>\n",
       "      <td>1518</td>\n",
       "      <td>1600</td>\n",
       "    </tr>\n",
       "  </tbody>\n",
       "</table>\n",
       "</div>"
      ],
      "text/plain": [
       "   instant      dteday  season  yr  mnth  holiday  weekday  workingday  \\\n",
       "0        1  2011-01-01       1   0     1        0        6           0   \n",
       "1        2  2011-01-02       1   0     1        0        0           0   \n",
       "2        3  2011-01-03       1   0     1        0        1           1   \n",
       "3        4  2011-01-04       1   0     1        0        2           1   \n",
       "4        5  2011-01-05       1   0     1        0        3           1   \n",
       "\n",
       "   weathersit      temp     atemp       hum  windspeed  casual  registered  \\\n",
       "0           2  0.344167  0.363625  0.805833   0.160446     331         654   \n",
       "1           2  0.363478  0.353739  0.696087   0.248539     131         670   \n",
       "2           1  0.196364  0.189405  0.437273   0.248309     120        1229   \n",
       "3           1  0.200000  0.212122  0.590435   0.160296     108        1454   \n",
       "4           1  0.226957  0.229270  0.436957   0.186900      82        1518   \n",
       "\n",
       "    cnt  \n",
       "0   985  \n",
       "1   801  \n",
       "2  1349  \n",
       "3  1562  \n",
       "4  1600  "
      ]
     },
     "execution_count": 2,
     "metadata": {},
     "output_type": "execute_result"
    }
   ],
   "source": [
    "import pandas\n",
    "\n",
    "bikes = pandas.read_csv(\"data/day.csv\")\n",
    "bikes[:5]"
   ]
  },
  {
   "cell_type": "markdown",
   "metadata": {},
   "source": [
    "###2: Binomial distributions"
   ]
  },
  {
   "cell_type": "markdown",
   "metadata": {},
   "source": [
    "We can define $p$ as the probability of an outcome occurring, and $q$ as the probability of it not occuring, where $q=1−p$. These types of probabilites are known as binomial -- there are two values, which add to 1 collectively. There's a 100% chance of one outcome or the other occurring. \n",
    "\n",
    "Many commonly occurring events can be expressed in terms of binomial outcomes -- a coin flip, winning a football game, the stock market going up, and more.\n",
    "\n",
    "When we deal with binomial probabilities, we're often interested in the chance of a certain outcome happening in a sequence. We want to know what the chances are of our favorite football team winning 5 of its next 6 games, and the stock market going up in 4 of the next 6 days.\n",
    "\n",
    "The same interest applies when we're analyzing data. Companies and researchers conduct experiments every day. These can range from testing if changing the button color on your homepage increases conversion rate to seeing if a new drug increases patient recovery rate.\n",
    "\n",
    "The core of these tests is the idea of a binomial distribution -- we want to know how many visitors out of 100 would normally sign up for our website, and we want to know if our button color change affected that probability.\n",
    "\n",
    "One easy way to visualize binomials is a binomial distribution. Given N events, it plots the probabilities of getting different numbers of successful outcomes."
   ]
  },
  {
   "cell_type": "markdown",
   "metadata": {},
   "source": [
    "###3: Bikesharing distribution"
   ]
  },
  {
   "cell_type": "markdown",
   "metadata": {},
   "source": [
    "Let's say we're working for the mayor of Washington, DC, Muriel Bowser. She wants to know on how many days out of the next 30 we can expect more than 5000 riders.\n",
    "\n",
    "Rather than give her an exact number, which may not be accurate, we can hedge our bets with a probability distribution. This will show her all the possibilities, along with probabilities for each.\n",
    "\n",
    "First, we have to find the probability of there being more than 5000 riders in a single day."
   ]
  },
  {
   "cell_type": "markdown",
   "metadata": {},
   "source": [
    "####Instructions"
   ]
  },
  {
   "cell_type": "markdown",
   "metadata": {},
   "source": [
    "Find the probability of there being more than 5000 riders in a single day (the cnt column). Assign the result to prob_over_5000."
   ]
  },
  {
   "cell_type": "code",
   "execution_count": 3,
   "metadata": {
    "collapsed": false
   },
   "outputs": [
    {
     "name": "stdout",
     "output_type": "stream",
     "text": [
      "prob_over_5000: 0.3912448700410397\n"
     ]
    }
   ],
   "source": [
    "prob_over_5000 = float(bikes[bikes[\"cnt\"] > 5000].shape[0]) / bikes.shape[0]\n",
    "print(\"prob_over_5000:\", prob_over_5000)"
   ]
  },
  {
   "cell_type": "markdown",
   "metadata": {},
   "source": [
    "###4: Computing the distribution"
   ]
  },
  {
   "cell_type": "markdown",
   "metadata": {},
   "source": [
    "We now know that the probability is about .39 that there are more than 5000 riders in a single day. We can find the probability of k outcomes out of N events occurring. We'll need to use this to build up a list of probabilities.\n",
    "\n",
    "The formula to use is:\n",
    "\n",
    "$(p^{k} * q^{N-k}) * \\frac{N!}{k!(N-k)!}$"
   ]
  },
  {
   "cell_type": "markdown",
   "metadata": {},
   "source": [
    "####Instructions"
   ]
  },
  {
   "cell_type": "markdown",
   "metadata": {},
   "source": [
    "Create a function that can compute the probability of k outcomes out of N events occuring.\n",
    "\n",
    "Use the function to find the probability of each number of outcomes in outcome_counts occurring. An outcome is a day where there are more than 5000 riders, with $p=.39$.\n",
    "\n",
    "At the end, you should have a list with 31 items, where the first item is the probability of 0 days out of 30 with more than 5000 riders, the second is the probability of 1 day out of 30, and so on, up to 30 days out of 30.\n",
    "\n",
    "Assign the result to outcome_probs."
   ]
  },
  {
   "cell_type": "code",
   "execution_count": 4,
   "metadata": {
    "collapsed": false
   },
   "outputs": [
    {
     "name": "stdout",
     "output_type": "stream",
     "text": [
      "outcome_counts: [0, 1, 2, 3, 4, 5, 6, 7, 8, 9, 10, 11, 12, 13, 14, 15, 16, 17, 18, 19, 20, 21, 22, 23, 24, 25, 26, 27, 28, 29, 30]\n",
      "outcome_probs: [3.6299032553937196e-07, 6.962273457066644e-06, 6.454369901592111e-05, 0.00038514600724254565, 0.0016621260066655757, 0.0055258877729799805, 0.014720602673922079, 0.03226811265290648, 0.059312493954215416, 0.09269602880276286, 0.12445581572043082, 0.1446729303456573, 0.14645169588269408, 0.12964576356828655, 0.10065004829715923, 0.06864003293707908, 0.04114182302068777, 0.021661943461230015, 0.010002372800404023, 0.004038921890068234, 0.0014202438449502238, 0.00043239273968039596, 0.00011309228884338227, 2.5149532515420715e-05, 4.6897693829985355e-06, 7.196105151617426e-07, 8.847670268382081e-08, 8.380306993731663e-09, 5.740608420764663e-10, 2.5311896937232547e-11, 5.394338691541363e-13]\n"
     ]
    }
   ],
   "source": [
    "import math\n",
    "\n",
    "# Each item in this list represents one k, starting from 0 and going up to and including 30.\n",
    "outcome_counts = list(range(31))\n",
    "print(\"outcome_counts:\", outcome_counts)\n",
    "\n",
    "def find_probability(N, k, p, q):\n",
    "    # Find the probability of any single combination.\n",
    "    term_1 = p ** k\n",
    "    term_2 = q ** (N-k)\n",
    "    combo_prob = term_1 * term_2\n",
    "    \n",
    "    # Find the number of combinations.\n",
    "    numerator = math.factorial(N)\n",
    "    denominator = math.factorial(k) * math.factorial(N - k)\n",
    "    combo_count = float(numerator) / denominator\n",
    "    \n",
    "    return combo_prob * combo_count\n",
    "\n",
    "outcome_probs = [find_probability(30, i, .39, .61) for i in outcome_counts]\n",
    "print(\"outcome_probs:\", outcome_probs)"
   ]
  },
  {
   "cell_type": "markdown",
   "metadata": {},
   "source": [
    "###5: Plotting the distribution"
   ]
  },
  {
   "cell_type": "markdown",
   "metadata": {},
   "source": [
    "You may have noticed that our outcome_counts list above was 31 items long when N was only 30. This is because we need to account for 0. There's a chance of having $k=0$, where the outcome we want doesn't happen at all. This data point needs to be on our charts. We'll always want to add 1 to to N when figuring out how many points to plot.\n",
    "\n",
    "Our data is in terms of whole days. Either 1 day has more than 5000 riders, or 2 days have more than 5000 riders. It doesn't make sense to talk about the probability of 1.5 days having more than 5000 riders. The points in our data are <a href = \"https://en.wikipedia.org/wiki/Probability_distribution#Discrete_probability_distribution\">discrete</a> and not <a href = \"https://en.wikipedia.org/wiki/Continuous_and_discrete_variables\">continuous</a>, so we use a bar chart when plotting.\n",
    "\n",
    "Now that we've computed the distribution, we can easily plot it out using matplotlib. This will show us a nice distribution of our probabilities, along with the most likely outcomes."
   ]
  },
  {
   "cell_type": "code",
   "execution_count": 5,
   "metadata": {
    "collapsed": false
   },
   "outputs": [
    {
     "data": {
      "image/png": "[encoded data removed]",
      "text/plain": [
       "<matplotlib.figure.Figure at 0xabb5400>"
      ]
     },
     "metadata": {},
     "output_type": "display_data"
    }
   ],
   "source": [
    "import matplotlib.pyplot as plt\n",
    "%matplotlib inline\n",
    "\n",
    "# The most likely number of days is between 10 and 15.\n",
    "plt.bar(outcome_counts, outcome_probs)\n",
    "plt.show()"
   ]
  },
  {
   "cell_type": "markdown",
   "metadata": {},
   "source": [
    "###6: Simplifying the computation"
   ]
  },
  {
   "cell_type": "markdown",
   "metadata": {},
   "source": [
    "To construct our distribution, we had to write our own custom function, and a decent amount of code. We can instead use the <a href = \"http://docs.scipy.org/doc/scipy/reference/generated/scipy.stats.binom.html\">binom</a> function from <a href = \"http://docs.scipy.org/doc/scipy/reference/index.html\">SciPy</a> to do this faster.\n",
    "\n",
    "Here's a usage example:\n",
    "\n",
    "    from scipy import linspace\n",
    "    from scipy.stats import binom\n",
    "\n",
    "    Create a range of numbers from 0 to 30, with 31 elements (each number has one entry).\n",
    "    outcome_counts = linspace(0,30,31)\n",
    "\n",
    "    Create the binomial probabilities, one for each entry in outcome_counts.\n",
    "    dist = binom.pmf(outcome_counts,30,0.39)\n",
    "\n",
    "The pmf function in SciPy is an implementation of the mathematical <a href = \"https://en.wikipedia.org/wiki/Probability_mass_function\">probability mass function</a>. pmf will give us the probability of each k in our outcome_counts list occurring.\n",
    "\n",
    "As you can see, a binomial distribution only needs two parameters. A parameter is statistical term for a number that summarizes data for the entire population -- in this case, the parameters are N, the total number of events, and p, the probability of the outcome we're interested in seeing. Since we only need two parameters to describe our distribution, these are the numbers we pass into the pmf function from SciPy.\n",
    "\n",
    "Because of the fact that we only need two parameters to describe a distribution, it doesn't matter whether we want to know if it will be sunny 5 days out of 5, or if 5 out of 5 coin flips will turn up heads. As long as the outcome that we care about has the same probability ($p$), and $N$ is the same, the binomial distribution will look the same."
   ]
  },
  {
   "cell_type": "markdown",
   "metadata": {},
   "source": [
    "####Instructions"
   ]
  },
  {
   "cell_type": "markdown",
   "metadata": {},
   "source": [
    "Generate a binomial distribution, and then find the probabilities for each value in outcome_counts. Use N=30, and p=.39, as we're doing this for the bikesharing data.\n",
    "\n",
    "Plot the resulting data as a bar chart."
   ]
  },
  {
   "cell_type": "code",
   "execution_count": 6,
   "metadata": {
    "collapsed": false
   },
   "outputs": [
    {
     "data": {
      "image/png": "[encoded data removed]",
      "text/plain": [
       "<matplotlib.figure.Figure at 0xb627b38>"
      ]
     },
     "metadata": {},
     "output_type": "display_data"
    }
   ],
   "source": [
    "import scipy\n",
    "from scipy import linspace\n",
    "from scipy.stats import binom\n",
    "import matplotlib.pyplot as plt\n",
    "%matplotlib inline\n",
    "\n",
    "# Create a range of numbers from 0 to 30, with 31 elements (each number has one entry).\n",
    "outcome_counts = linspace(0,30,31)\n",
    "# Create the binomial distribution.\n",
    "outcome_probs = binom.pmf(outcome_counts,30,0.39)\n",
    "plt.bar(outcome_counts, outcome_probs)\n",
    "plt.show()"
   ]
  },
  {
   "cell_type": "markdown",
   "metadata": {},
   "source": [
    "###7: How to think about a probability distribution"
   ]
  },
  {
   "cell_type": "markdown",
   "metadata": {},
   "source": [
    "Looking at a probability distribution might not be extremely intuitive. One way to think about it is that \"if we repeatedly look at samples, the expected number of outcomes will follow the probability distribution\". \n",
    "\n",
    "If we repeatedly look at 30 days of bikesharing data, we'll find that 10 of the days had more than 5000 riders about 12.4% of the time. We'll find that 12 of the days had more than 5000 riders about 14.6% of the time.\n",
    "\n",
    "A probability distribution is a great way to visualize data, but bear in mind that it's not dealing in absolute values. A probability distribution can only tell us which values are likely, and how likely they are."
   ]
  },
  {
   "cell_type": "markdown",
   "metadata": {},
   "source": [
    "###8: Computing the mean of a probability distribution"
   ]
  },
  {
   "cell_type": "markdown",
   "metadata": {},
   "source": [
    "Sometimes we'll want to be able to tell people the expected value of a probability distribution -- the most likely result of a single sample that we look at.\n",
    "\n",
    "To compute this, we just multiply $N$ by $p$."
   ]
  },
  {
   "cell_type": "markdown",
   "metadata": {},
   "source": [
    "####Instructions"
   ]
  },
  {
   "cell_type": "markdown",
   "metadata": {},
   "source": [
    "Compute the mean for the bikesharing data, where $N=30$, and $p=.39$. Assign the result to dist_mean."
   ]
  },
  {
   "cell_type": "code",
   "execution_count": 7,
   "metadata": {
    "collapsed": false
   },
   "outputs": [
    {
     "name": "stdout",
     "output_type": "stream",
     "text": [
      "dist_mean: 11.700000000000001\n"
     ]
    }
   ],
   "source": [
    "dist_mean = None\n",
    "dist_mean = 30 * .39\n",
    "\n",
    "print(\"dist_mean:\", dist_mean)"
   ]
  },
  {
   "cell_type": "markdown",
   "metadata": {},
   "source": [
    "###9: Computing the standard deviation"
   ]
  },
  {
   "cell_type": "markdown",
   "metadata": {},
   "source": [
    "Just as we can compute the mean, we can also compute the standard deviation of a probability distribution. This helps us find how much the actual values will vary from the mean when we take a sample. \n",
    "\n",
    "Going back to the bikesharing example, we know that the actual values will be around 11.7 (from the last screen). But, we'll need a standard deviation to explain how much the actual values can vary from this expectiation.\n",
    "\n",
    "The formula for standard deviation of a probability distribution is:\n",
    "\n",
    "$\\sqrt{N*p*q}$"
   ]
  },
  {
   "cell_type": "markdown",
   "metadata": {},
   "source": [
    "####Instructions"
   ]
  },
  {
   "cell_type": "markdown",
   "metadata": {},
   "source": [
    "Compute the standard deviation for the bikesharing data, where $N=30$, and $p=.39$. Assign the result to dist_stdev."
   ]
  },
  {
   "cell_type": "code",
   "execution_count": 8,
   "metadata": {
    "collapsed": false
   },
   "outputs": [
    {
     "name": "stdout",
     "output_type": "stream",
     "text": [
      "dist_stdev: 2.671516423307182\n"
     ]
    }
   ],
   "source": [
    "import math\n",
    "\n",
    "dist_stdev = None\n",
    "dist_stdev = math.sqrt(30 * .39 * .61)\n",
    "print(\"dist_stdev:\", dist_stdev)"
   ]
  },
  {
   "cell_type": "markdown",
   "metadata": {},
   "source": [
    "###10: A different plot"
   ]
  },
  {
   "cell_type": "markdown",
   "metadata": {},
   "source": [
    "Just like we did with histograms and sampling a few missions ago, we can vary the parameters to change the distribution. Let's see what the plot would look like with only 10 events, or 100 events."
   ]
  },
  {
   "cell_type": "markdown",
   "metadata": {},
   "source": [
    "####Instructions"
   ]
  },
  {
   "cell_type": "markdown",
   "metadata": {},
   "source": [
    "Generate a binomial distribution, with N=10, and p=.39. Find the probabilities for each value in outcome_counts. Plot the resulting data as a bar chart.\n",
    "\n",
    "Generate a binomial distribution, with N=100, and p=.39. Find the probabilities for each value in outcome_counts. Plot the resulting data as a bar chart."
   ]
  },
  {
   "cell_type": "code",
   "execution_count": 9,
   "metadata": {
    "collapsed": false
   },
   "outputs": [
    {
     "data": {
      "image/png": "[encoded data removed]",
      "text/plain": [
       "<matplotlib.figure.Figure at 0xc25fba8>"
      ]
     },
     "metadata": {},
     "output_type": "display_data"
    },
    {
     "data": {
      "image/png": "[encoded data removed]",
      "text/plain": [
       "<matplotlib.figure.Figure at 0xc2e5048>"
      ]
     },
     "metadata": {},
     "output_type": "display_data"
    }
   ],
   "source": [
    "import scipy\n",
    "from scipy import linspace\n",
    "from scipy.stats import binom\n",
    "import matplotlib.pyplot as plt\n",
    "%matplotlib inline\n",
    "\n",
    "outcome_counts = linspace(0,10,11)\n",
    "outcome_probs = binom.pmf(outcome_counts,10,0.39)\n",
    "plt.bar(outcome_counts, outcome_probs)\n",
    "plt.show()\n",
    "\n",
    "outcome_counts = linspace(0,100,101)\n",
    "outcome_probs = binom.pmf(outcome_counts,100,0.39)\n",
    "plt.bar(outcome_counts, outcome_probs)\n",
    "plt.show()"
   ]
  },
  {
   "cell_type": "markdown",
   "metadata": {},
   "source": [
    "###11: The normal distribution"
   ]
  },
  {
   "cell_type": "markdown",
   "metadata": {},
   "source": [
    "As you can see above, the more events we look at, the closer our distribution gets to normal. With $N=10$, we see some rightward skew, but when we get up to $N=100$, the skew disappears. \n",
    "\n",
    "This is because the distribution gets narrower relative to the x-axis range the more examples you add. With $N=10$, there's a reasonable chance that 8 to 10 days could have over 5000 riders. But, when we get up to $N=100$, it's statistically almost impossible that more than 60 days have over 5000 riders. This makes the distribution narrower.\n",
    "\n",
    "As the distribution gets narrower, it gets more similar to the normal distribution. As you can see below, when we plot a line and not a bar chart, it looks almost exactly like a normal distribution."
   ]
  },
  {
   "cell_type": "code",
   "execution_count": 10,
   "metadata": {
    "collapsed": false
   },
   "outputs": [
    {
     "data": {
      "image/png": "[encoded data removed]",
      "text/plain": [
       "<matplotlib.figure.Figure at 0xd386a20>"
      ]
     },
     "metadata": {},
     "output_type": "display_data"
    }
   ],
   "source": [
    "import scipy\n",
    "from scipy import linspace\n",
    "from scipy.stats import binom\n",
    "import matplotlib.pyplot as plt\n",
    "%matplotlib inline\n",
    "\n",
    "# Create a range of numbers from 0 to 100, with 101 elements (each number has one entry).\n",
    "outcome_counts = scipy.linspace(0,100,101)\n",
    "\n",
    "# Create a probability mass function along the outcome_counts.\n",
    "outcome_probs = binom.pmf(outcome_counts,100,0.39)\n",
    "\n",
    "# Plot a line, not a bar chart.\n",
    "plt.plot(outcome_counts, outcome_probs)\n",
    "plt.show()"
   ]
  },
  {
   "cell_type": "markdown",
   "metadata": {},
   "source": [
    "###12: Cumulative density function"
   ]
  },
  {
   "cell_type": "markdown",
   "metadata": {},
   "source": [
    "So far, we've looked at the probability that single values of k will occur. What we can look at instead is the probability that k or less will occur. These probabilities can be generated by the <a href = \"https://en.wikipedia.org/wiki/Binomial_distribution\">cumulative density function</a>. \n",
    "\n",
    "Let's say we flip a coin 3 times -- $N=3$, and $p=.5$. When this happens, here are the probabilities:\n",
    "\n",
    "    k    probability\n",
    "    0    .125\n",
    "    1    .375\n",
    "    2    .375\n",
    "    3    .125\n",
    "\n",
    "\n",
    "A cumulative distribution would look like this:\n",
    "\n",
    "    k    probability\n",
    "    0    .125\n",
    "    1    .5\n",
    "    2    .875\n",
    "    3    1\n",
    "\n",
    "\n",
    "For each k, we fill in the probability that we'll see k outcomes or less. By the end of the distribution, we should get 1, because all the probabilities add to 1 (if we flip 3 coins, either 0, 1, 2, or 3 of them must be heads).\n",
    "\n",
    "We can calculate this with binom.cdf in scipy.\n",
    "\n",
    "    from scipy import linspace\n",
    "    from scipy.stats import binom\n",
    "\n",
    "    Create a range of numbers from 0 to 30, with 31 elements (each number has one entry).\n",
    "    outcome_counts = linspace(0,30,31)\n",
    "\n",
    "    Create the cumulative binomial probabilities, one for each entry in outcome_counts.\n",
    "    dist = binom.cdf(outcome_counts,30,0.39)"
   ]
  },
  {
   "cell_type": "markdown",
   "metadata": {},
   "source": [
    "####Instructions"
   ]
  },
  {
   "cell_type": "markdown",
   "metadata": {},
   "source": [
    "Create a cumulative distribution where $N=30$ and $p=.39$. Make a line plot of the distribution."
   ]
  },
  {
   "cell_type": "code",
   "execution_count": 11,
   "metadata": {
    "collapsed": false
   },
   "outputs": [
    {
     "data": {
      "image/png": "[encoded data removed]",
      "text/plain": [
       "<matplotlib.figure.Figure at 0xc2b20f0>"
      ]
     },
     "metadata": {},
     "output_type": "display_data"
    }
   ],
   "source": [
    "import scipy\n",
    "from scipy import linspace\n",
    "from scipy.stats import binom\n",
    "import matplotlib.pyplot as plt\n",
    "%matplotlib inline\n",
    "\n",
    "outcome_counts = linspace(0,30,31)\n",
    "outcome_probs = binom.cdf(outcome_counts,30,0.39)\n",
    "plt.plot(outcome_counts, outcome_probs)\n",
    "plt.show()"
   ]
  },
  {
   "cell_type": "markdown",
   "metadata": {},
   "source": [
    "###13: Calculating z-scores"
   ]
  },
  {
   "cell_type": "markdown",
   "metadata": {},
   "source": [
    "We can calculate z-scores (the number of standard deviations away from the mean a probability is) fairly easily. These z-scores can then be used how we used z-scores earlier -- to find the percentage of values to the left and right of the value we're looking at.\n",
    "\n",
    "To make this more concrete, say we had 16 days where we observed more than 5000 riders. Is this likely? Unlikely? Using a z-score, we can figure out exactly how common this event is.\n",
    "\n",
    "This is because every normal distribution, as we learned in an earlier mission, has the same properties when it comes to what percentage of the data is within a certain number of standard deviations of the mean. You can look these up in a <a href = \"https://en.wikipedia.org/wiki/Standard_normal_table\">standard normal table</a>. About 68% of the data is within 1 standard deviation of the mean, 95% is within 2, and 99% is within 3.\n",
    "\n",
    "We can calculate the mean (μ ) and standard deviation (σ ) of a binomial probability distribution using the formulas from earlier:\n",
    "\n",
    "$\\mu = N * p$\n",
    "\n",
    "$\\sigma = \\sqrt{N*p*q}$\n",
    "\n",
    "If we want to figure out the number of standard deviations from the mean a value is, we just do:\n",
    "\n",
    "$\\frac{k - \\mu}{\\sigma}$\n",
    "\n",
    "If we wanted to find how many standard deviations from the mean 16 days is:\n",
    "\n",
    "$\\frac{16 - \\mu}{\\sigma} = \\frac{16 - (30 * .39)}{\\sqrt{16*.39*.61}} = \\frac{4.3}{1.95} = 2.2$\n",
    "\n",
    "Based on the standard z-score table, this is unlikely -- a 2.8% chance. This tells us that 97.2% of the data is within 2.2 standard deviations of the mean, so so a result to be as different from the mean as this, there is a 2.8% probability that it occurred by chance.\n",
    "\n",
    "Note that this means both \"sides\" of the distribution. There's a 1.4% chance that a value is 2.2 standard deviations or more above the mean (to the right of the mean), and there's a 1.4% chance that a value is 2.2 standard devitation below the mean (to the left)."
   ]
  },
  {
   "cell_type": "markdown",
   "metadata": {},
   "source": [
    "###14: Faster way to calculate likelihood"
   ]
  },
  {
   "cell_type": "markdown",
   "metadata": {},
   "source": [
    "We don't want to have to use a z-score table every time we want to see how likely or unlikely a probability is. A much faster way is to use the cumulative distribution fuction (cdf) like we did earlier. This won't give us the exact same values as using z-scores, because the distribution isn't exactly normal, but it will give us the actual amount of probability in a distribution to the left of a given k.\n",
    "\n",
    "To use it, we can run:\n",
    "\n",
    "    The sum of all the probabilities to the left of k, including k.\n",
    "    left = binom.cdf(k,N,p)\n",
    "\n",
    "    The sum of all probabilities to the right of k.\n",
    "    right = 1 - left\n",
    "\n",
    "This will return the sum of all the probabilities to the left of and including k. If we subtract this value from 1, we get the sum of all the probabilities to the right of k."
   ]
  },
  {
   "cell_type": "markdown",
   "metadata": {},
   "source": [
    "####Instructions"
   ]
  },
  {
   "cell_type": "markdown",
   "metadata": {},
   "source": [
    "Find the probability to the left of $k=16$ (including 16) when $N=30$ and $p=.39$. Assign the result to left_16.\n",
    "\n",
    "Find the probability to the right of $k=16$ when $N=30$ and $p=.39$. Assign the result to right_16."
   ]
  },
  {
   "cell_type": "code",
   "execution_count": 12,
   "metadata": {
    "collapsed": false
   },
   "outputs": [
    {
     "name": "stdout",
     "output_type": "stream",
     "text": [
      "left_16: 0.962300376605\n",
      "right_16: 0.0376996233945\n"
     ]
    }
   ],
   "source": [
    "left_16 = None\n",
    "right_16 = None\n",
    "left_16 = binom.cdf(16,30,0.39)\n",
    "right_16 = 1 - left_16\n",
    "\n",
    "print(\"left_16:\", left_16)\n",
    "print(\"right_16:\", right_16)"
   ]
  }
 ],
 "metadata": {
  "kernelspec": {
   "display_name": "Python 3",
   "language": "python",
   "name": "python3"
  },
  "language_info": {
   "codemirror_mode": {
    "name": "ipython",
    "version": 3
   },
   "file_extension": ".py",
   "mimetype": "text/x-python",
   "name": "python",
   "nbconvert_exporter": "python",
   "pygments_lexer": "ipython3",
   "version": "3.4.3"
  }
 },
 "nbformat": 4,
 "nbformat_minor": 0
}
