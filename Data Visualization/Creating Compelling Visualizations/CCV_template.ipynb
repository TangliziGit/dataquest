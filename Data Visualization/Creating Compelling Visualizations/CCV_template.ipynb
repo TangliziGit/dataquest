{
 "cells": [
  {
   "cell_type": "code",
   "execution_count": 1,
   "metadata": {
    "collapsed": true
   },
   "outputs": [],
   "source": [
    "from __future__ import print_function"
   ]
  },
  {
   "cell_type": "markdown",
   "metadata": {},
   "source": [
    "#Data Visualization"
   ]
  },
  {
   "cell_type": "markdown",
   "metadata": {},
   "source": [
    "##Data Visualization and Exploration "
   ]
  },
  {
   "cell_type": "markdown",
   "metadata": {},
   "source": [
    "###1: Seaborn"
   ]
  },
  {
   "cell_type": "markdown",
   "metadata": {
    "collapsed": true
   },
   "source": [
    "Seaborn is a Python library supported by Stanford University that enables you to create beautiful, presentation-ready data visualizations. While Seaborn uses Matplotlib under the hood to represent, manipulate, and customize plots, it exposes a high-level API that abstracts away a lot of the internal Matplotlib logic. We get the best of both worlds with Seaborn: an easy-to-use API to quickly create attractive plots with the most common configuration options and a Matplotlib internal representation which allows us to tweak the plot to our heart's desire when we want more full control.\n",
    "\n",
    "This excerpt from the <a href = \"http://stanford.edu/~mwaskom/software/seaborn/introduction.html\">Seaborn documentation</a> is a good summary of how to think about Matplotlib and Seaborn:\n",
    "\n",
    "Seaborn should be thought of as a complement to matplotlib, not a replacement for it. When using seaborn, it is likely that you will often invoke matplotlib functions directly to draw simpler plots already available through the pyplot namespace. Further, while the seaborn functions aim to make plots that are reasonably “production ready” (including extracting semantic information from Pandas objects to add informative labels), full customization of the figures will require a sophisticated understanding of matplotlib objects.\n",
    "\n",
    "You can install seaborn using Anaconda and you can find more information on the <a href = \"http://stanford.edu/~mwaskom/software/seaborn/installing.html\">Seaborn website</a>."
   ]
  },
  {
   "cell_type": "markdown",
   "metadata": {},
   "source": [
    "####Introduction to the data"
   ]
  },
  {
   "cell_type": "markdown",
   "metadata": {
    "collapsed": false
   },
   "source": [
    "In this lesson, we'll be working with data from the National Survey of Family Growth. The data was collected from January 2002 to March 2003 and contains data on pregnancy, family life, and more. We've selected a few columns from the original data, which are:\n",
    "\n",
    "- prglngth -- the length of the pregnancy in weeks.\n",
    "- birthord -- which child this was for the pregnant mother.\n",
    "- birthwgt_lb1 -- the pounds portion of the birth weight.\n",
    "- birthwgt_oz1 -- the ounces portion of the birth weight.\n",
    "- agepreg -- the mother's age at the end of the pregnancy, in years.\n",
    "\n",
    "Let's import the CSV into Pandas and view the first 10 rows."
   ]
  },
  {
   "cell_type": "code",
   "execution_count": 2,
   "metadata": {
    "collapsed": false
   },
   "outputs": [
    {
     "name": "stdout",
     "output_type": "stream",
     "text": [
      "births.head(10):\n",
      "    prglngth  birthord  birthwgt_lb1  birthwgt_oz1  agepreg\n",
      "0        39         1             7             0    32.83\n",
      "1        40         1             9             2    22.16\n",
      "2        23       NaN           NaN           NaN      NaN\n",
      "3        39         1             6            15    21.16\n",
      "4        39         2             6             4    22.83\n",
      "5        39         3             7             0    25.08\n",
      "6        36         1             7             1    20.08\n",
      "7        38         2             7            10    22.58\n",
      "8         4       NaN           NaN           NaN    23.41\n",
      "9        38         3             7            13    25.16\n"
     ]
    },
    {
     "name": "stderr",
     "output_type": "stream",
     "text": [
      "C:\\Anaconda3\\lib\\site-packages\\ipykernel\\__main__.py:14: SettingWithCopyWarning: \n",
      "A value is trying to be set on a copy of a slice from a DataFrame\n",
      "\n",
      "See the the caveats in the documentation: http://pandas.pydata.org/pandas-docs/stable/indexing.html#indexing-view-versus-copy\n"
     ]
    }
   ],
   "source": [
    "import numpy as np\n",
    "import thinkstats2\n",
    "import thinkplot\n",
    "\n",
    "def CleanFemPreg(df):\n",
    "    \"\"\"Recodes variables from the pregnancy frame.\n",
    "    df: DataFrame\n",
    "    \"\"\"\n",
    "    # mother's age is encoded in centiyears; convert to years\n",
    "    df.agepreg /= 100.0\n",
    "\n",
    "    # birthwgt_lb contains at least one bogus value (51 lbs)\n",
    "    # replace with NaN\n",
    "    df.birthwgt_lb1[df.birthwgt_lb1 > 20] = np.nan\n",
    "    \n",
    "    # replace 'not ascertained', 'refused', 'don't know' with NaN\n",
    "    na_vals = [97, 98, 99]\n",
    "    df.birthwgt_lb1.replace(na_vals, np.nan, inplace=True)\n",
    "    df.birthwgt_oz1.replace(na_vals, np.nan, inplace=True)\n",
    "\n",
    "    # birthweight is stored in two columns, lbs and oz.\n",
    "    # convert to a single column in lb\n",
    "    # NOTE: creating a new column requires dictionary syntax,\n",
    "    # not attribute assignment (like df.totalwgt_lb)\n",
    "    df['totalwgt_lb'] = df.birthwgt_lb1 + df.birthwgt_oz1 / 16.0    \n",
    "\n",
    "    # due to a bug in ReadStataDct, the last variable gets clipped;\n",
    "    # so for now set it to NaN\n",
    "    df.phase = np.nan\n",
    "\n",
    "    \n",
    "def ReadFemPreg(dct_file='data/2011_2013_FemPregSetup.dct',\n",
    "                dat_file='data/2011_2013_FemPregData.dat.gz'):\n",
    "    \"\"\"Reads the NSFG pregnancy data.\n",
    "    dct_file: string file name\n",
    "    dat_file: string file name\n",
    "    returns: DataFrame\n",
    "    \"\"\"\n",
    "    dct = thinkstats2.ReadStataDct(dct_file, encoding='iso-8859-1')\n",
    "    df = dct.ReadFixedWidth(dat_file, compression='gzip')\n",
    "    CleanFemPreg(df)\n",
    "    return df\n",
    "\n",
    "births = ReadFemPreg()\n",
    "births = births[['prglngth', 'birthord', 'birthwgt_lb1', 'birthwgt_oz1', 'agepreg']]\n",
    "print(\"births.head(10):\\n\", births.head(10))"
   ]
  },
  {
   "cell_type": "markdown",
   "metadata": {},
   "source": [
    "###2: Histogram: distplot()"
   ]
  },
  {
   "cell_type": "markdown",
   "metadata": {},
   "source": [
    "Seaborn exposes a simple API that enables us to create a range of visually appealing data <a href = \"http://stanford.edu/~mwaskom/software/seaborn/examples/index.html\">graphics</a> just by importing the library and specifying the graph we'd like generated. Every function in seaborn can be tweaked using the many high-level parameters easily.\n",
    "\n",
    "In the previous lesson, we used the Pandas .hist() function, which uses Matplotlib under the hood, to generate a histogram of a column from a DataFrame. Unfortunately, the resulting plot wasn't very compelling since it used Matplotlib's default styling. Let's import Seaborn into our environment and use the function .distplot() to generate a histogram of values in the prglngth column, the length of each pregnancy in weeks."
   ]
  },
  {
   "cell_type": "code",
   "execution_count": 3,
   "metadata": {
    "collapsed": false
   },
   "outputs": [
    {
     "data": {
      "image/png": "[encoded data removed]",
      "text/plain": [
       "<matplotlib.figure.Figure at 0x655da58>"
      ]
     },
     "metadata": {},
     "output_type": "display_data"
    }
   ],
   "source": [
    "import seaborn as sns\n",
    "import matplotlib.pyplot as plt\n",
    "%matplotlib inline\n",
    "\n",
    "sns.distplot(births['prglngth'], kde=False)\n",
    "plt.show()"
   ]
  },
  {
   "cell_type": "markdown",
   "metadata": {},
   "source": [
    "###3: Seaborn styling"
   ]
  },
  {
   "cell_type": "markdown",
   "metadata": {},
   "source": [
    "We used the .distplot() function with the kde parameter set to False, since by default Seaborn will plot the kernel density <a href = \"https://en.wikipedia.org/wiki/Kernel_density_estimation\">estimate</a>, a way to esimate the probability density function of a random variable, of the column instead of generating a standard, binned histogram. We'll discuss kernel density estimates and how to use them in a later lesson, as it's outside the scope of this lesson.\n",
    "\n",
    "As you can tell, the histogram Seaborn generated is much more visually appealing than the one created by Pandas & Matplotlib alone. Styling is the most basic thing that Seaborn provides. In fact, you can actually use seaborn exclusively for styling matplotlib graphics if you'd like! Just by importing Seaborn, the default styles are overriden for all plots."
   ]
  },
  {
   "cell_type": "markdown",
   "metadata": {},
   "source": [
    "####Instructions"
   ]
  },
  {
   "cell_type": "markdown",
   "metadata": {},
   "source": [
    "Use the Pandas DataFrame .hist() function that you learned in the previous mission to plot the histogram of agepreg instead of Seaborn's .distplot() method.\n",
    "\n",
    "You'll notice that the plot will be formatted using Seaborn's style instead of the default Matplotlib styles that Pandas uses since seaborn was imported to the environment and overrode the default styles."
   ]
  },
  {
   "cell_type": "code",
   "execution_count": 4,
   "metadata": {
    "collapsed": false
   },
   "outputs": [
    {
     "data": {
      "image/png": "[encoded data removed]",
      "text/plain": [
       "<matplotlib.figure.Figure at 0x655d860>"
      ]
     },
     "metadata": {},
     "output_type": "display_data"
    }
   ],
   "source": [
    "import matplotlib.pyplot as plt\n",
    "%matplotlib inline\n",
    "\n",
    "births['agepreg'].hist()\n",
    "plt.show()"
   ]
  },
  {
   "cell_type": "markdown",
   "metadata": {},
   "source": [
    "###4: Pandas vs. Seaborn"
   ]
  },
  {
   "cell_type": "markdown",
   "metadata": {},
   "source": [
    "We just explored how to accomplish the same task, plotting a histogram of a column's values, using both Pandas and Seaborn. You may be wondering what the differences are between the approaches and when to use each technique. Both use Matplotlib to represent plots but have very different use cases by design.\n",
    "\n",
    "Plotting using Pandas\n",
    "\n",
    "The short answer is that you want to use Pandas to visualize data when you don't need to customize the resulting plot much and Seaborn when you want more extensive control using a simple API. The plotting functions available to Pandas DataFrame objects don't expose many parameters for customization of a plot and are primarily useful for data exploration (which is why the last mission used them heavily!). Customizing a plot generated from a Pandas DataFrame plotting method means working directly with the Matplotlib representation, which requires a much deeper understanding of Matplotlib (which we'll cover in a later lesson in this course).\n",
    "\n",
    "Plotting using Seaborn\n",
    "\n",
    "Seaborn, on the other hand, provides a good amount of customization for its plots both through its plotting functions' parameters and through top-level API functions on the Seaborn object. While both Pandas and Seaborn expose the underlying the Matplotlib representation for thorough customization, only Seaborn allows us to customize the data visualizations we generate using a simple API instead of having to dive into Matplotlib for common tweaks."
   ]
  },
  {
   "cell_type": "markdown",
   "metadata": {},
   "source": [
    "###5: Customizing histogram: distplot()"
   ]
  },
  {
   "cell_type": "markdown",
   "metadata": {},
   "source": [
    "As we mentioned before, there are 2 primary ways to customize how a Seaborn plot looks like:\n",
    "\n",
    "- Plotting function parameters, e.g. sns.distplot(kde=False)\n",
    "- Seaborn functions, called on the sns Seaborn object synonym\n",
    "\n",
    "Similar to how you use plt, matplotlib's import synonym, to customize matplotlib graphics, you use sns, seaborn's import synonym, to refer to a plot and call functions from <a href = \"https://stanford.edu/~mwaskom/software/seaborn/api.html#style-frontend\">Seaborn's API</a> to customize it. For example, to set the x-axis and y-axis labels, use the <a href = \"https://stanford.edu/~mwaskom/software/seaborn/generated/seaborn.axlabel.html#seaborn.axlabel\">.axlabel() function</a>:\n",
    "\n",
    "    sns.distplot(births['prglngth'], kde=False)\n",
    "    sns.axlabel('Pregnancy Length, weeks', 'Frequency')"
   ]
  },
  {
   "cell_type": "code",
   "execution_count": 5,
   "metadata": {
    "collapsed": false
   },
   "outputs": [
    {
     "data": {
      "image/png": "[encoded data removed]",
      "text/plain": [
       "<matplotlib.figure.Figure at 0xddb37b8>"
      ]
     },
     "metadata": {},
     "output_type": "display_data"
    }
   ],
   "source": [
    "import seaborn as sns\n",
    "%matplotlib inline\n",
    "\n",
    "sns.distplot(births['prglngth'], kde=False)\n",
    "sns.axlabel('Pregnancy Length, weeks', 'Frequency')"
   ]
  },
  {
   "cell_type": "markdown",
   "metadata": {},
   "source": [
    "###6: Practice: customizing distplot()"
   ]
  },
  {
   "cell_type": "markdown",
   "metadata": {},
   "source": [
    "Now it's your turn to practice customizing histograms using Seaborn!"
   ]
  },
  {
   "cell_type": "markdown",
   "metadata": {},
   "source": [
    "####Instructions"
   ]
  },
  {
   "cell_type": "markdown",
   "metadata": {},
   "source": [
    "Plot a histogram of the birthord column with the following tweaks:\n",
    "\n",
    "        x-axis label: Birth number\n",
    "        y-axis label: Frequency\n",
    "        style: \"dark\""
   ]
  },
  {
   "cell_type": "code",
   "execution_count": 6,
   "metadata": {
    "collapsed": false
   },
   "outputs": [],
   "source": [
    "import seaborn as sns\n",
    "\n",
    "#sns.distplot(births['birthord'], kde=False)\n",
    "#sns.set_style('dark')\n",
    "#sns.axlabel('Birth number', 'Frequency')"
   ]
  },
  {
   "cell_type": "markdown",
   "metadata": {},
   "source": [
    "###7: Boxplots: boxplot()"
   ]
  },
  {
   "cell_type": "markdown",
   "metadata": {},
   "source": [
    "Given that we have data on how old the mother was at the end of the pregnancy and which child that birth was for the mother, it would be interesting to create a box plot to visualize the distribution of the mothers' ages as a function of which child it was for her.\n",
    "\n",
    "This time, we're actually going to not walkthrough an example and instead challenge you to read the documentation and learn how to create the boxplot we're looking for. The documentation for the .boxplot() function can be found on Seaborn's <a href = \"https://stanford.edu/~mwaskom/software/seaborn/generated/seaborn.boxplot.html\">website</a>."
   ]
  },
  {
   "cell_type": "markdown",
   "metadata": {},
   "source": [
    "####Instructions"
   ]
  },
  {
   "cell_type": "markdown",
   "metadata": {},
   "source": [
    "Generate a boxplot with the birthord column on the x-axis and the agepreg column on the y-axis, with the rest of the settings deafult otherwise."
   ]
  },
  {
   "cell_type": "code",
   "execution_count": 7,
   "metadata": {
    "collapsed": false
   },
   "outputs": [
    {
     "data": {
      "image/png": "[encoded data removed]",
      "text/plain": [
       "<matplotlib.figure.Figure at 0xde6e3c8>"
      ]
     },
     "metadata": {},
     "output_type": "display_data"
    }
   ],
   "source": [
    "import seaborn as sns\n",
    "import matplotlib.pyplot as plt\n",
    "%matplotlib inline\n",
    "\n",
    "sns.boxplot(x='birthord', y='agepreg', data=births)\n",
    "plt.show()"
   ]
  },
  {
   "cell_type": "markdown",
   "metadata": {},
   "source": [
    "###8: Pair plot: pairplot()"
   ]
  },
  {
   "cell_type": "markdown",
   "metadata": {},
   "source": [
    "Instead of comparing relationships between variables by generating one chart for each combination of variables we're interested in exploring, we can use a Seaborn pair plot to automatically visualize all combinations of variables from columns in a DataFrame. A pair plot is an n by n grid of graphs, where n is the number of variables we're interested in comparing against each other. For 3 variables, 9 plots are generated:\n",
    "\n",
    "    var1 vs var1\n",
    "    var1 vs var2\n",
    "    var1 vs var3\n",
    "    var2 vs var1\n",
    "    var2 vs var2\n",
    "    var2 vs var3\n",
    "    var3 vs var1\n",
    "    var3 vs var2\n",
    "    var3 vs var3\n",
    "\n",
    "Whenever a variable is plotted against a different variable (e.g. var1 vs var2), Seaborn generates a scatter plot with var1 on the x-axis and var2 on the y-axis. Whenever a variable is plotted against itself (e.g. var1 vs var1), however, Seaborn generates a histogram of values instead, since a scatter plot where the axes are the same variable isn't particularly useful!\n",
    "\n",
    "If you've tried to plot other columns besides agepreg, prglngth, or birthord, Seaborn, when interfacing with Matplotlib, will throw an error since these other columns have missing values (represented as NaN in the DataFrame). Visualizing columns from a DataFrame containing missing values is outside the scope of this mission and we'll stick to using the properly formatted columns for now.\n",
    "\n",
    "To demonstrate how straightforward the syntax is for generating a pair plot, and most other plots as well, in Seaborn, we're going to ask you to generate a pair plot by reading the documentation on the <a href = \"http://stanford.edu/~mwaskom/software/seaborn/generated/seaborn.pairplot.html\">.pairplot() method</a>."
   ]
  },
  {
   "cell_type": "markdown",
   "metadata": {},
   "source": [
    "####Instructions"
   ]
  },
  {
   "cell_type": "markdown",
   "metadata": {},
   "source": [
    "Generate a pair plot for the columns agepreg, prglngth, and birthord, in that order, with all other settings of the plot set to the default ones."
   ]
  },
  {
   "cell_type": "code",
   "execution_count": 8,
   "metadata": {
    "collapsed": false
   },
   "outputs": [],
   "source": [
    "import seaborn as sns\n",
    "import matplotlib.pyplot as plt\n",
    "%matplotlib inline\n",
    "\n",
    "#sns.pairplot(births[['agepreg','prglngth','birthord']])\n",
    "#plt.show()"
   ]
  }
 ],
 "metadata": {
  "kernelspec": {
   "display_name": "Python 3",
   "language": "python",
   "name": "python3"
  },
  "language_info": {
   "codemirror_mode": {
    "name": "ipython",
    "version": 3
   },
   "file_extension": ".py",
   "mimetype": "text/x-python",
   "name": "python",
   "nbconvert_exporter": "python",
   "pygments_lexer": "ipython3",
   "version": "3.4.3"
  }
 },
 "nbformat": 4,
 "nbformat_minor": 0
}
