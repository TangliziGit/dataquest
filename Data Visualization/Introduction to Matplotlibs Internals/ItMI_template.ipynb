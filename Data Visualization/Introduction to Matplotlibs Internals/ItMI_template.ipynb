{
 "cells": [
  {
   "cell_type": "code",
   "execution_count": 1,
   "metadata": {
    "collapsed": true
   },
   "outputs": [],
   "source": [
    "from __future__ import print_function"
   ]
  },
  {
   "cell_type": "markdown",
   "metadata": {},
   "source": [
    "#Data Visualization"
   ]
  },
  {
   "cell_type": "markdown",
   "metadata": {},
   "source": [
    "##Introduction to Matplotlibs Internals"
   ]
  },
  {
   "cell_type": "markdown",
   "metadata": {},
   "source": [
    "###1: Overview"
   ]
  },
  {
   "cell_type": "markdown",
   "metadata": {
    "collapsed": true
   },
   "source": [
    "There are many methods to plot data, including:\n",
    "- Matplotlib's high-level plotting methods - e.g. .scatter(), .plot()\n",
    "- Seaborn's high-level plotting methods - e.g. .distplot(), .boxplot()\n",
    "- Pandas DataFrame methods - e.g. .hist(), .boxplot()\n",
    "\n",
    "All three of these techniques use lower-level Matplotlib methods to create, modify, and display plots while allowing us to call their simpler, higher level methods to quickly generate standard plots with some ability to customize the plots.\n",
    "\n",
    "We'll be focusing this mission on learning more about the different components of a Matplotlib data graphic so you can create more customizable data visualizations."
   ]
  },
  {
   "cell_type": "markdown",
   "metadata": {},
   "source": [
    "###2: Levels of abstraction"
   ]
  },
  {
   "cell_type": "markdown",
   "metadata": {},
   "source": [
    "The key thing to keep in mind when diving deeper into Matplotlib is that the library was designed to be effective at understanding your intent, no matter the level of abstraction. There are many ways to create the same plot in Matplotlib and most of the differences come down to the level of abstraction you want to work with for a specific task! \n",
    "\n",
    "To give you a better sense of what we mean, create a simple scatter plot using a higher level Matplotlib method and then we'll walk through how to create the same scatter plot at a lower level of abstraction."
   ]
  },
  {
   "cell_type": "markdown",
   "metadata": {},
   "source": [
    "####Instructions"
   ]
  },
  {
   "cell_type": "markdown",
   "metadata": {},
   "source": [
    "Use the Matplotlib .scatter() method to create a scatter plot with the month on the x-axis and temperature on the y-axis and then display the plot."
   ]
  },
  {
   "cell_type": "code",
   "execution_count": 2,
   "metadata": {
    "collapsed": false
   },
   "outputs": [
    {
     "data": {
      "image/png": "[encoded data removed]",
      "text/plain": [
       "<matplotlib.figure.Figure at 0x75fb160>"
      ]
     },
     "metadata": {},
     "output_type": "display_data"
    }
   ],
   "source": [
    "import matplotlib.pyplot as plt\n",
    "%matplotlib inline\n",
    "\n",
    "# 2 simple lists of values.\n",
    "month = [1,1,2,2,4,5,5,7,8,10,10,11,12,12]\n",
    "temperature = [32,15,40,35,50,55,52,80,85,60,57,45,35,105]\n",
    "plt.scatter(month, temperature)\n",
    "plt.show()"
   ]
  },
  {
   "cell_type": "markdown",
   "metadata": {},
   "source": [
    "###3: High level of abstraction"
   ]
  },
  {
   "cell_type": "markdown",
   "metadata": {},
   "source": [
    "To generate the above scatter plot, you only had to pass in the 2 lists of data into the Pyplot .scatter() function and Matplotlib took care of the rest. Since you only had to provide the data and select the plot you want, this is the highest level of abstraction. Matplotlib made some intelligent assumptions to generate a simple scatter plot based on the data we specified.\n",
    "\n",
    "To better understand how to create the same scatter plot at a lower level of abstraction, you first need to learn more about how Matplotlib works. We won't dive completely into how Matplotlib works at the lowest level of abstraction in this mission but you will learn more about some of its internals. To start, let's learn about Figures, Subplots, and Axes objects. Now for a quick note before diving in!\n",
    "\n",
    "In previous data visualization missions, we mostly taught the stateful way of using Matplotlib, which meant calling all functions from the plt object (the Matplotlib pyplot object). We'll be focusing on the object oriented way of using Matplotlib in this mission, which is easier to understand when diving into the inner workings and is also more Pythonic (or similar in style to the rest of the Python language). In addition, the object oriented way of using Matplotlib is more explicit, which makes working with multiple plots much easier."
   ]
  },
  {
   "cell_type": "markdown",
   "metadata": {},
   "source": [
    "###4: Figures and Subplots"
   ]
  },
  {
   "cell_type": "markdown",
   "metadata": {},
   "source": [
    "Figure is the top-level Matplotlib object that manages the entire plotting area. A Figure instance acts as a container for your plots and has some useful parameters and methods:\n",
    "- The figsize(w,h) parameter lets you specify the width w and height h, in inches, of the plotting area\n",
    "- The dpi parameter lets you specify the density, in dots per inch\n",
    "- The .add_subplot() method lets you add individual plots to the Figure instance\n",
    "\n",
    "Subplot is the Matplotlib object that you use to create the axes for a plot. While a Figure can contain multiple subplots that are laid out on a grid, let's start by just working with one plot.\n",
    "\n",
    "In the following code cell, we:\n",
    "- call plt.figure() to instantiate a new Figure instance (width: 5 inches, height: 7 inches)\n",
    "- assign the Figure to the variable fig\n",
    "- call .add_subplot(1,1,1) on the Figure instance to add an empty plot\n",
    "- assign the Subplot to the variable ax\n",
    "- call plt.show() to display our wonderful creation\n",
    "\n",
    "You'll notice we passed 1,1,1 into the Figure's .add_subplot() method. This style is called grid notation and you use it to express the layout of plots and which plot you want returned from that function call.\n",
    "- the first parameter refers to the row number 1\n",
    "- the second parameter refers to the column number 2\n",
    "- the third parameter refers to the nth plot in the Figure to be returned (only 1 plot in this case)\n",
    "\n",
    "We'll dive more into subplots and grid notation later in this lesson but, for now, let's run the code and see how everything looks."
   ]
  },
  {
   "cell_type": "code",
   "execution_count": 3,
   "metadata": {
    "collapsed": false
   },
   "outputs": [
    {
     "data": {
      "image/png": "[encoded data removed]",
      "text/plain": [
       "<matplotlib.figure.Figure at 0x6fdeef0>"
      ]
     },
     "metadata": {},
     "output_type": "display_data"
    },
    {
     "name": "stdout",
     "output_type": "stream",
     "text": [
      "type(fig): <class 'matplotlib.figure.Figure'>\n",
      "type(ax): <class 'matplotlib.axes._subplots.AxesSubplot'>\n"
     ]
    }
   ],
   "source": [
    "import matplotlib.pyplot as plt\n",
    "%matplotlib inline\n",
    "\n",
    "fig = plt.figure(figsize=(5,7))\n",
    "ax = fig.add_subplot(1,1,1)\n",
    "plt.show()\n",
    "\n",
    "# Print the types.\n",
    "print(\"type(fig):\", type(fig))\n",
    "print(\"type(ax):\", type(ax))"
   ]
  },
  {
   "cell_type": "markdown",
   "metadata": {},
   "source": [
    "###5: Axes"
   ]
  },
  {
   "cell_type": "markdown",
   "metadata": {},
   "source": [
    "You'll notice that the plot has a width to height ratio of 5 to 7, contains only 1 plot, and both the x and y axes ticks run from 0.0 to 1.0. In addition to displaying the plots, we also displayed the types for fig and ax. You'll notice that the Subplot we created ax is nested under matplotlib.axes - matplotlib.axes._subplots.AxesSubplot.\n",
    "\n",
    "A Subplot is an abstraction that creates an Axes object whenever you call .add_subplot(). An Axes object controls how the plotting actually happens. The Axes object describes what's actually inside the plot we're interested in (like the points in a scatter plot) and also describes the x and y axes, including the ticks, labels, etc. While each Figure instance can contain multiple plots, and therefore multiple axes objects, that specify how each plot looks, each unique Axes object can only belong to one figure. Subplots and Axes are synonomous for our purposes but working with subplots is a much cleaner and convenient interface.\n",
    "\n",
    "When you instantiate an Axes object, Matplotlib creates, with default attributes:\n",
    "- a rectangle for the plot\n",
    "- default x-axis ticks\n",
    "- default y-axis ticks\n",
    "\n",
    "Even though default values are used for these properties upon instantiation, you can access and explicity modify all of these values to get the plot you want.\n",
    "\n",
    "To prepare the x-axis and y-axis ticks for the data we'll be plotting, we can use the .xlim() and .ylim() methods on the Axes instance (ax) to set the range of values we want for the x-axis and y-axis ticks. In the code below, we've set the range of values for the x-axis as 0 to 14. The first parameter for both functions is the lower bound and the second parameter is the upper bound we want for that axis. Here's the documentation on the <a href = \"http://matplotlib.org/api/axes_api.html#matplotlib.axes.Axes.set_ylim\">.set_ylim method</a>."
   ]
  },
  {
   "cell_type": "markdown",
   "metadata": {},
   "source": [
    "####Instructions"
   ]
  },
  {
   "cell_type": "markdown",
   "metadata": {},
   "source": [
    "Since we're working with data from the lists month and temperature, we want to set the x and y axis ticks to match the ranges of the values in those lists. Set the x-axis ticks to range from the lowest value in month to the highest value in month. Set the y-axis ticks to range from the lowest value in temperature to the highest value in temperature."
   ]
  },
  {
   "cell_type": "code",
   "execution_count": 4,
   "metadata": {
    "collapsed": false
   },
   "outputs": [
    {
     "data": {
      "image/png": "[encoded data removed]",
      "text/plain": [
       "<matplotlib.figure.Figure at 0x96109e8>"
      ]
     },
     "metadata": {},
     "output_type": "display_data"
    },
    {
     "data": {
      "image/png": "[encoded data removed]",
      "text/plain": [
       "<matplotlib.figure.Figure at 0x9989f98>"
      ]
     },
     "metadata": {},
     "output_type": "display_data"
    }
   ],
   "source": [
    "import numpy as np\n",
    "import matplotlib.pyplot as plt\n",
    "%matplotlib inline\n",
    "\n",
    "month = [1,1,2,2,4,5,5,7,8,10,10,11,12,12]\n",
    "temperature = [32,15,40,35,50,55,52,80,85,60,57,45,35,105]\n",
    "\n",
    "fig = plt.figure()\n",
    "ax = fig.add_subplot(1,1,1)\n",
    "ax.set_xlim([0,14])\n",
    "plt.show()\n",
    "\n",
    "fig = plt.figure()\n",
    "ax = fig.add_subplot(1,1,1)\n",
    "ax.set_xlim([np.min(month), np.max(month)])\n",
    "ax.set_ylim([np.min(temperature), np.max(temperature)])\n",
    "plt.show()"
   ]
  },
  {
   "cell_type": "markdown",
   "metadata": {},
   "source": [
    "###6: Adding data"
   ]
  },
  {
   "cell_type": "markdown",
   "metadata": {},
   "source": [
    "We now need to graph the actual dots in the scatter plot using the 2 list objects from before, month and temperature. The Axes object we created contains a method called .scatter() that generates points for each combination of values on the plot. We can even specify the color and the symbol (or marker) we want for the points through the method's parameters.\n",
    "\n",
    "In the following code cell, we use the color parameter to specify the color for the dots in the scatter plot and the marker paremter to specify the actual symbol each dot represents. The color parameter is very flexible and can take text inputs like 'r' or 'red' or custom RGB values. The marker parameter, however, must be one of the accepted options from the <a href = \"http://matplotlib.org/api/markers_api.html#module-matplotlib.markers\">Matplotlib documentation</a>. We'll use darkblue for the color and the o marker, representing a standard circular dot."
   ]
  },
  {
   "cell_type": "code",
   "execution_count": 5,
   "metadata": {
    "collapsed": false
   },
   "outputs": [
    {
     "data": {
      "image/png": "[encoded data removed]",
      "text/plain": [
       "<matplotlib.figure.Figure at 0x98c79b0>"
      ]
     },
     "metadata": {},
     "output_type": "display_data"
    }
   ],
   "source": [
    "import numpy as np\n",
    "import matplotlib.pyplot as plt\n",
    "%matplotlib inline\n",
    "\n",
    "month = [1,1,2,2,4,5,5,7,8,10,10,11,12,12]\n",
    "temperature = [32,15,40,35,50,55,52,80,85,60,57,45,35,105]\n",
    "\n",
    "fig = plt.figure()\n",
    "ax = fig.add_subplot(1,1,1)\n",
    "ax.set_xlim([np.min(month),np.max(month)])\n",
    "ax.set_ylim([np.min(temperature), np.max(temperature)])\n",
    "\n",
    "color = 'darkblue'\n",
    "marker = 'o'\n",
    "\n",
    "# run the .scatter() method, params: color, marker.\n",
    "ax.scatter(month, temperature, color='darkblue', marker='o')\n",
    "plt.show()"
   ]
  },
  {
   "cell_type": "markdown",
   "metadata": {},
   "source": [
    "###7: Customizing the plot"
   ]
  },
  {
   "cell_type": "markdown",
   "metadata": {},
   "source": [
    "Our scatter plot is almost ready! We're missing a few things however: \n",
    "- The axes ticks we set were too tight and caused the first and last points in our plot to be cut off\n",
    "- The axes are missing names, or labels, that describe what the values represent\n",
    "- The plot is missing a title"
   ]
  },
  {
   "cell_type": "markdown",
   "metadata": {},
   "source": [
    "####Instructions"
   ]
  },
  {
   "cell_type": "markdown",
   "metadata": {},
   "source": [
    "Use the Axes object to make the following modifications:\n",
    "- change the x-axis ticks to range from 0 to 13\n",
    "- change the y-axis ticks to range from 10 to 110\n",
    "- set the x-axis label as \"Month\" using the method: ax.set_xlabel(), parameter: String\n",
    "- set the y-axis label as \"Temperature\" using the method: ax.set_ylabel(), parameter: String\n",
    "- set the title of the plot to \"Year Round Temperature\" using the method: ax.set_title(), parameter: String\n",
    "\n",
    "Here's a link to the documentation on all of the Axes methods: <a href = \"http://matplotlib.org/api/axes_api.html#matplotlib.axes.Axes.set_xlabel\">Matplotlib Documentation for Axes</a>."
   ]
  },
  {
   "cell_type": "code",
   "execution_count": 6,
   "metadata": {
    "collapsed": false
   },
   "outputs": [
    {
     "data": {
      "image/png": "[encoded data removed]",
      "text/plain": [
       "<matplotlib.figure.Figure at 0x998b080>"
      ]
     },
     "metadata": {},
     "output_type": "display_data"
    }
   ],
   "source": [
    "import matplotlib.pyplot as plt\n",
    "%matplotlib inline\n",
    "\n",
    "month = [1,1,2,2,4,5,5,7,8,10,10,11,12,12]\n",
    "temperature = [32,15,40,35,50,55,52,80,85,60,57,45,35,105]\n",
    "fig = plt.figure()\n",
    "ax = fig.add_subplot(1,1,1)\n",
    "ax.set_xlim(0,13)\n",
    "ax.set_ylim(10, 110)\n",
    "ax.set_xlabel('Month')\n",
    "ax.set_ylabel('Temperature')\n",
    "ax.set_title('Year Round Temperature')\n",
    "\n",
    "color = 'darkblue'\n",
    "marker = 'o'\n",
    "\n",
    "# run the .scatter() method, params: color, marker.\n",
    "ax.scatter(month, temperature, color='darkblue', marker='o')\n",
    "plt.show()"
   ]
  },
  {
   "cell_type": "markdown",
   "metadata": {},
   "source": [
    "###8: Setting multiple attributes easily"
   ]
  },
  {
   "cell_type": "markdown",
   "metadata": {},
   "source": [
    "In the previous code cell, we painstakingly specified each property we wanted for the plot using different methods, all starting with set_, for each one. Matplotlib thankfully has a .set() method that we can use to specify all the attributes we want that Axes object to have in the parameters of that function call. In the following code cell, we demonstrate how to use the .set() method to set the x and y axes ranges and we ask you to set the rest!"
   ]
  },
  {
   "cell_type": "markdown",
   "metadata": {},
   "source": [
    "####Instructions"
   ]
  },
  {
   "cell_type": "markdown",
   "metadata": {},
   "source": [
    "Add the xlabel, ylabel, and title attributes to the .set() call we wrote for you, using the values for those attributes from the previous code cell."
   ]
  },
  {
   "cell_type": "code",
   "execution_count": 7,
   "metadata": {
    "collapsed": true
   },
   "outputs": [],
   "source": [
    "import matplotlib.pyplot as plt\n",
    "%matplotlib inline\n",
    "\n",
    "ax.set(xlim=(0,13), ylim=(10,110), xlabel='Month', ylabel='Temperature', title='2014')\n",
    "ax.scatter(month, temperature, color='darkblue', marker='o')\n",
    "plt.show()"
   ]
  },
  {
   "cell_type": "code",
   "execution_count": 8,
   "metadata": {
    "collapsed": true
   },
   "outputs": [],
   "source": [
    "###9: Multiple subplots"
   ]
  },
  {
   "cell_type": "markdown",
   "metadata": {},
   "source": [
    "If you wanted our Figure instance to have 2 plots on the same grid, you'll need to modify the parameters you pass to .add_subplot(). Recall the parameters for the .add_subplot() function:\n",
    "\n",
    "    fig..add_subplot(nrows, ncols, plot_number)\n",
    "\n",
    "When adding multiple subplots to the same Figure instance by calling .add_subplot() each time for each plot you want, the first 2 parameters remain the same and only the third parameter, plot_number, changes based on which plot you want returned from that specific function call. To place 2 subplots on the plotting area vertically, where one plot is aboce the other, you'll need to specify that you want a grid with 2 rows and 1 column, and then to return plot_number 1 the first time and plot_nubmer 2 the second time:\n",
    "\n",
    "    ax1 = fig.add_subplot(2, 1, 1)\n",
    "    ax2 = fig.add_subplot(2, 1, 2)\n",
    "\n",
    "The figure instance now has a grid of plots, 2 rows by 1 column, ax1 is the Axes object for the first, or top, plot, and ax2 is the Axes object for the second, or bottom, plot. You may be wondering how the library determines the plot_number, especially if you have a square grid that has 2 rows and 2 columns, for example. Matplotlib iterates through the plots in the grid row-wise, so if you have a grid with 2 rows and 2 columns, the 2nd plot (plot_number = 2) is located at row 1 and column 2 while the 3rd plot (plot_number = 3) is located at row 2 and column 1."
   ]
  },
  {
   "cell_type": "code",
   "execution_count": 9,
   "metadata": {
    "collapsed": false
   },
   "outputs": [
    {
     "data": {
      "image/png": "[encoded data removed]",
      "text/plain": [
       "<matplotlib.figure.Figure at 0x997a828>"
      ]
     },
     "metadata": {},
     "output_type": "display_data"
    }
   ],
   "source": [
    "fig = plt.figure()\n",
    "ax1 = fig.add_subplot(2,1,1)\n",
    "ax2 = fig.add_subplot(2,1,2)"
   ]
  },
  {
   "cell_type": "markdown",
   "metadata": {},
   "source": [
    "###10: Adding data to multiple subplots"
   ]
  },
  {
   "cell_type": "markdown",
   "metadata": {},
   "source": [
    "To make this more compelling, let's instead lay out our plots over 2 columns and 1 row and plot 2 different datasets so you can easily compare 2 different year's temperature scatter plots."
   ]
  },
  {
   "cell_type": "markdown",
   "metadata": {},
   "source": [
    "####Instructions"
   ]
  },
  {
   "cell_type": "markdown",
   "metadata": {},
   "source": [
    "Generate a grid of plots, 2 columns by 1 row, with the following attributes:\n",
    "- The left plot is a scatter plot with month_2013 on the x-axis and temperature_2013 on the y-axis\n",
    "- The left plot has a title of 2013\n",
    "- The left plot's dots are darkblue, circular marker\n",
    "- The right plot is a scatter plot with month_2014 on the x-axis and temperature_2014 on the y-axis\n",
    "- The right plot has a title of 2014\n",
    "- The right plot's dots are darkgreen, circular marker\n",
    "- Both plots have the same x and y axes ranges as before (x: 0 to 13, y: 10 to 110)\n",
    "\n",
    "This exercise is a little bit challenging but will help youpractice all the concepts you've learned in this lesson."
   ]
  },
  {
   "cell_type": "code",
   "execution_count": 10,
   "metadata": {
    "collapsed": false
   },
   "outputs": [
    {
     "data": {
      "image/png": "[encoded data removed]",
      "text/plain": [
       "<matplotlib.figure.Figure at 0x993f198>"
      ]
     },
     "metadata": {},
     "output_type": "display_data"
    }
   ],
   "source": [
    "import matplotlib.pyplot as plt\n",
    "%matplotlib inline\n",
    "\n",
    "month_2013 = [1,2,3,4,5,6,7,8,9,10,11,12]\n",
    "temperature_2013 = [32,18,40,40,50,45,52,70,85,60,57,45]\n",
    "month_2014 = [1,2,3,4,5,6,7,8,9,10,11,12]\n",
    "temperature_2014 = [35,28,35,30,40,55,50,71,75,70,67,49]\n",
    "month_2013 = [1,2,3,4,5,6,7,8,9,10,11,12]\n",
    "temperature_2013 = [32,18,40,40,50,45,52,70,85,60,57,45]\n",
    "month_2014 = [1,2,3,4,5,6,7,8,9,10,11,12]\n",
    "temperature_2014 = [35,28,35,30,40,55,50,71,75,70,67,49]\n",
    "\n",
    "fig = plt.figure()\n",
    "ax1 = fig.add_subplot(1,2,1)\n",
    "ax2 = fig.add_subplot(1,2,2)\n",
    "\n",
    "ax1.set(xlim=(0,13), ylim=(10,110), title='2013')\n",
    "ax2.set(xlim=(0,13), ylim=(10,110), title='2014')\n",
    "\n",
    "ax1.scatter(month_2013, temperature_2013, color='darkblue', marker='o')\n",
    "ax2.scatter(month_2014, temperature_2014, color='darkgreen', marker='o')\n",
    "\n",
    "plt.show()"
   ]
  }
 ],
 "metadata": {
  "kernelspec": {
   "display_name": "Python 3",
   "language": "python",
   "name": "python3"
  },
  "language_info": {
   "codemirror_mode": {
    "name": "ipython",
    "version": 3
   },
   "file_extension": ".py",
   "mimetype": "text/x-python",
   "name": "python",
   "nbconvert_exporter": "python",
   "pygments_lexer": "ipython3",
   "version": "3.4.3"
  }
 },
 "nbformat": 4,
 "nbformat_minor": 0
}
