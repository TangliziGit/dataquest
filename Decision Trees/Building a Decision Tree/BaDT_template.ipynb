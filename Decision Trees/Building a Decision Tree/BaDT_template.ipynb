{
 "cells": [
  {
   "cell_type": "code",
   "execution_count": 1,
   "metadata": {
    "collapsed": true
   },
   "outputs": [],
   "source": [
    "from __future__ import print_function"
   ]
  },
  {
   "cell_type": "markdown",
   "metadata": {},
   "source": [
    "#Decision Trees"
   ]
  },
  {
   "cell_type": "markdown",
   "metadata": {},
   "source": [
    "##Building a Decision Tree"
   ]
  },
  {
   "cell_type": "markdown",
   "metadata": {},
   "source": [
    "###1: Our Dataset"
   ]
  },
  {
   "cell_type": "markdown",
   "metadata": {},
   "source": [
    "The data is from the 1994 Census, and contains information on an individual's marital status, age, type of work, and more. The target column, high_income, is if they make less than or equal to 50k a year (0), or more than 50k a year (1)."
   ]
  },
  {
   "cell_type": "code",
   "execution_count": 5,
   "metadata": {
    "collapsed": false
   },
   "outputs": [
    {
     "data": {
      "text/html": [
       "<div>\n",
       "<table border=\"1\" class=\"dataframe\">\n",
       "  <thead>\n",
       "    <tr style=\"text-align: right;\">\n",
       "      <th></th>\n",
       "      <th>age</th>\n",
       "      <th>workclass</th>\n",
       "      <th>fnlwgt</th>\n",
       "      <th>education</th>\n",
       "      <th>education_num</th>\n",
       "      <th>marital_status</th>\n",
       "      <th>occupation</th>\n",
       "      <th>relationship</th>\n",
       "      <th>race</th>\n",
       "      <th>sex</th>\n",
       "      <th>capital_gain</th>\n",
       "      <th>capital_loss</th>\n",
       "      <th>hours_per_week</th>\n",
       "      <th>native_country</th>\n",
       "      <th>high_income</th>\n",
       "    </tr>\n",
       "  </thead>\n",
       "  <tbody>\n",
       "    <tr>\n",
       "      <th>0</th>\n",
       "      <td>39</td>\n",
       "      <td>State-gov</td>\n",
       "      <td>77516</td>\n",
       "      <td>Bachelors</td>\n",
       "      <td>13</td>\n",
       "      <td>Never-married</td>\n",
       "      <td>Adm-clerical</td>\n",
       "      <td>Not-in-family</td>\n",
       "      <td>White</td>\n",
       "      <td>Male</td>\n",
       "      <td>2174</td>\n",
       "      <td>0</td>\n",
       "      <td>40</td>\n",
       "      <td>United-States</td>\n",
       "      <td>&lt;=50K</td>\n",
       "    </tr>\n",
       "    <tr>\n",
       "      <th>1</th>\n",
       "      <td>50</td>\n",
       "      <td>Self-emp-not-inc</td>\n",
       "      <td>83311</td>\n",
       "      <td>Bachelors</td>\n",
       "      <td>13</td>\n",
       "      <td>Married-civ-spouse</td>\n",
       "      <td>Exec-managerial</td>\n",
       "      <td>Husband</td>\n",
       "      <td>White</td>\n",
       "      <td>Male</td>\n",
       "      <td>0</td>\n",
       "      <td>0</td>\n",
       "      <td>13</td>\n",
       "      <td>United-States</td>\n",
       "      <td>&lt;=50K</td>\n",
       "    </tr>\n",
       "    <tr>\n",
       "      <th>2</th>\n",
       "      <td>38</td>\n",
       "      <td>Private</td>\n",
       "      <td>215646</td>\n",
       "      <td>HS-grad</td>\n",
       "      <td>9</td>\n",
       "      <td>Divorced</td>\n",
       "      <td>Handlers-cleaners</td>\n",
       "      <td>Not-in-family</td>\n",
       "      <td>White</td>\n",
       "      <td>Male</td>\n",
       "      <td>0</td>\n",
       "      <td>0</td>\n",
       "      <td>40</td>\n",
       "      <td>United-States</td>\n",
       "      <td>&lt;=50K</td>\n",
       "    </tr>\n",
       "    <tr>\n",
       "      <th>3</th>\n",
       "      <td>53</td>\n",
       "      <td>Private</td>\n",
       "      <td>234721</td>\n",
       "      <td>11th</td>\n",
       "      <td>7</td>\n",
       "      <td>Married-civ-spouse</td>\n",
       "      <td>Handlers-cleaners</td>\n",
       "      <td>Husband</td>\n",
       "      <td>Black</td>\n",
       "      <td>Male</td>\n",
       "      <td>0</td>\n",
       "      <td>0</td>\n",
       "      <td>40</td>\n",
       "      <td>United-States</td>\n",
       "      <td>&lt;=50K</td>\n",
       "    </tr>\n",
       "    <tr>\n",
       "      <th>4</th>\n",
       "      <td>28</td>\n",
       "      <td>Private</td>\n",
       "      <td>338409</td>\n",
       "      <td>Bachelors</td>\n",
       "      <td>13</td>\n",
       "      <td>Married-civ-spouse</td>\n",
       "      <td>Prof-specialty</td>\n",
       "      <td>Wife</td>\n",
       "      <td>Black</td>\n",
       "      <td>Female</td>\n",
       "      <td>0</td>\n",
       "      <td>0</td>\n",
       "      <td>40</td>\n",
       "      <td>Cuba</td>\n",
       "      <td>&lt;=50K</td>\n",
       "    </tr>\n",
       "  </tbody>\n",
       "</table>\n",
       "</div>"
      ],
      "text/plain": [
       "   age          workclass  fnlwgt   education  education_num  \\\n",
       "0   39          State-gov   77516   Bachelors             13   \n",
       "1   50   Self-emp-not-inc   83311   Bachelors             13   \n",
       "2   38            Private  215646     HS-grad              9   \n",
       "3   53            Private  234721        11th              7   \n",
       "4   28            Private  338409   Bachelors             13   \n",
       "\n",
       "        marital_status          occupation    relationship    race      sex  \\\n",
       "0        Never-married        Adm-clerical   Not-in-family   White     Male   \n",
       "1   Married-civ-spouse     Exec-managerial         Husband   White     Male   \n",
       "2             Divorced   Handlers-cleaners   Not-in-family   White     Male   \n",
       "3   Married-civ-spouse   Handlers-cleaners         Husband   Black     Male   \n",
       "4   Married-civ-spouse      Prof-specialty            Wife   Black   Female   \n",
       "\n",
       "   capital_gain  capital_loss  hours_per_week  native_country high_income  \n",
       "0          2174             0              40   United-States       <=50K  \n",
       "1             0             0              13   United-States       <=50K  \n",
       "2             0             0              40   United-States       <=50K  \n",
       "3             0             0              40   United-States       <=50K  \n",
       "4             0             0              40            Cuba       <=50K  "
      ]
     },
     "execution_count": 5,
     "metadata": {},
     "output_type": "execute_result"
    }
   ],
   "source": [
    "import pandas\n",
    "\n",
    "# Set index_col to False to avoid pandas thinking that the first column is row indexes (it's age).\n",
    "income = pandas.read_csv(\"data/income.csv\", index_col=False)\n",
    "income.head(5)"
   ]
  },
  {
   "cell_type": "code",
   "execution_count": 6,
   "metadata": {
    "collapsed": true
   },
   "outputs": [],
   "source": [
    "# Convert a single column from text categories into numbers.\n",
    "col = pandas.Categorical.from_array(income[\"workclass\"])\n",
    "income[\"workclass\"] = col.codes\n",
    "\n",
    "# Convert remaining columns from text categories into numbers.\n",
    "for name in [\"education\", \"marital_status\", \"occupation\", \"relationship\", \"race\", \"sex\", \"native_country\", \"high_income\"]:\n",
    "    col = pandas.Categorical.from_array(income[name])\n",
    "    income[name] = col.codes"
   ]
  },
  {
   "cell_type": "markdown",
   "metadata": {},
   "source": [
    "###2: ID3 Algorithm"
   ]
  },
  {
   "cell_type": "markdown",
   "metadata": {},
   "source": [
    "In the last mission, we learned about the basics of decision trees, including entropy and information gain. In this mission, we'll build on those concepts to construct a full decision tree in Python and make predictions.\n",
    "\n",
    "In order to do this, we'll use the <a href = \"https://en.wikipedia.org/wiki/ID3_algorithm\">ID3 Algorithm</a> for constructing decision trees. This algorithm involves <a href = \"https://en.wikipedia.org/wiki/Recursion_(computer_science)\">recursion</a>.\n",
    "\n",
    "In general, recursion is the process of splitting a large problem into small chunks. Recursive functions will call themselves, then combine the results to create a final result.\n",
    "\n",
    "Building trees is a perfect case for a recursive algorithm -- at each node, we'll call a recursive function, which will split the data into two branches. Each branch will lead to a node, and the function will call itself to build out the tree.\n",
    "\n",
    "Below is the full ID3 Algorithm, in pseudocode. Pseudocode is a version of code in plain text, where concepts are explained. It's a good way to understand an algorithm before trying to code it.\n",
    "\n",
    "    def id3(data, target, columns)\n",
    "        1 Create a node for the tree\n",
    "        2 If all values of the target attribute are 1, Return the node, with label = 1.\n",
    "        3 If all values of the target attribute are 0, Return the node, with label = 0.\n",
    "        4 Using information gain, find A, the column that splits the data best\n",
    "        5 Find the median value in column A\n",
    "        6 Split A into values below or equal to the median (0), and values above the median (1)\n",
    "        7 For each possible value (0 or 1), vi, of A,\n",
    "        8 Add a new tree branch below Root, corresponding to the rows in the data where A = vi.\n",
    "        9 Let Examples(vi) be the subset of examples that have the value vi for A\n",
    "       10 Below this new branch add the subtree id3(data[A==vi], target, columns)\n",
    "       11 Return Root\n",
    "\n",
    "We've made a minor modification to the algorithm to only make two branches from each node. This will simplify constructing the tree, and make it easier to demonstrate the principles involved.\n",
    "\n",
    "The recursive nature of the algorithm comes into play on line 10. Every node in the tree will call the id3 function, and the final tree will be the result of all of these calls."
   ]
  },
  {
   "cell_type": "markdown",
   "metadata": {},
   "source": [
    "###3: Algorithm Example"
   ]
  },
  {
   "cell_type": "markdown",
   "metadata": {},
   "source": [
    "To make ID3 easier to follow, let's work through an example. An example dataset is below. We want to predict high_income using age and marital_status. In the marital_status column, 0 means unmarried, 1 means married, and 2 means divorced.\n",
    "\n",
    "    high_income    age    marital_status\n",
    "    0              20     0\n",
    "    0              60     2\n",
    "    0              40     1\n",
    "    1              25     1\n",
    "    1              35     2\n",
    "    1              55     1\n",
    "\n",
    "We first start with our algorithm: We have both 0s and 1s in high_income, so we skip lines 2 and 3. We jump to line 4. We won't go through the information gain calculations here, but the column we split on is age.\n",
    "We're on line 5 -- we find the median, which is 37.5.\n",
    "Per line 6, we make everything less than or equal to the median 0, and anything greater than the median 1. We now get into the loop on line 7. Since we're going through possible values of A in order, we hit the 0 values first. We'd make a branch going to the left with rows in the data where age <= 37.5.\n",
    "We hit line 10, and call id3 on the new node at the end of that branch. We \"pause\" this current execution of id3 because we called the function again. We'll call this paused state Node 1. Nodes are numbered in the bottom right corner.\n",
    "\n",
    "The new node has the following data:\n",
    "\n",
    "    high_income    age    marital_status\n",
    "    0              20     0\n",
    "    1              25     1\n",
    "    1              35     2\n",
    "\n",
    "Since we recursively called the id3 function on line 10, we start over at the top, with only the data post-split. We skip lines 2 and 3 again, and find another variable to split on. age is again the best split variable, with a median of 25. We make a branch to the left where age <= 25.\n",
    "\n",
    "The new node has the following data:\n",
    "\n",
    "    high_income    age    marital_status\n",
    "    0              20     0\n",
    "    1              25     1\n",
    "\n",
    "We'll again hit line 10, and \"pause\" node 2, to start over in the id3 function. We find that the best column to split on is again age, and the median is 22.5.\n",
    "\n",
    "We perform another split:\n",
    "All the values for high_income in node 4 are 0. This means that line 3 applies, and we don't keep building the tree lower. This causes the id3 function for node 4 to return. This \"unpauses\" the id3 function for node 3, which then moves on to building the right side of the tree. Line 7 specifies that we're in a for loop. When the id3 algorithm for node 4 returns, node 3 goes to the next iteration in the for loop, which is the right branch.\n",
    "\n",
    "We're now on node 5, which is the right side of the split we make from node 3. This calls the id3 function for node 5. This stops at line 2 and returns. There's only one row in this split, and we again end up with a leaf node, where the label is 1.\n",
    "\n",
    "We're done with the entire loop for node 3. We've constructed a lefthand subtree, and a righthand subtree (both end in leaves all the way down).\n",
    "\n",
    "The id3 function for node 3 now hits line 11 and returns. This \"unpauses\" node 2, where we construct the right split. There's only one row here, the 35 year old. This again creates a leaf node, with the label 1.\n",
    "\n",
    "This causes node 2 to finish processing and return on line 11. This causes node 1 to \"unpause\" and start building the right side of the tree.\n",
    "\n",
    "We won't build out the whole right side of the tree right now, and we'll dive into code to construct trees automatically."
   ]
  },
  {
   "cell_type": "markdown",
   "metadata": {},
   "source": [
    "###4: Column split selection"
   ]
  },
  {
   "cell_type": "markdown",
   "metadata": {},
   "source": [
    "In the last mission, we wrote functions to calculate entropy and information gain. These functions have been loaded in as calc_entropy and calc_information_gain.\n",
    "\n",
    "We now need a function to return the name of the column to a split a dataset on. The function should take the dataset, the target column, and a list of columns we might want to split on as input."
   ]
  },
  {
   "cell_type": "markdown",
   "metadata": {},
   "source": [
    "####Instructions"
   ]
  },
  {
   "cell_type": "markdown",
   "metadata": {},
   "source": [
    "Write a function called find_best_column that returns the name of a column to split the data on. The start of the definition for find_best_column is below.\n",
    "\n",
    "Use find_best_column to find the best column to split income on. The target is the high_income column, and the potential columns to split with are in the list columns below. Assign the result to income_split."
   ]
  },
  {
   "cell_type": "code",
   "execution_count": 7,
   "metadata": {
    "collapsed": false
   },
   "outputs": [
    {
     "name": "stdout",
     "output_type": "stream",
     "text": [
      "income_split: marital_status\n"
     ]
    }
   ],
   "source": [
    "import numpy\n",
    "import math\n",
    "\n",
    "# A list of columns to potentially split income with.\n",
    "columns = [\"age\", \"workclass\", \"education_num\", \"marital_status\", \"occupation\", \"relationship\", \"race\", \"sex\", \"hours_per_week\", \"native_country\"]\n",
    "\n",
    "def calc_information_gain(data, split_name, target_name):\n",
    "    \"\"\"\n",
    "    Calculate information gain given a dataset, column to split on, and target.\n",
    "    \"\"\"\n",
    "    # Calculate original entropy.\n",
    "    original_entropy = calc_entropy(data[target_name])\n",
    "    \n",
    "    # Find the median of the column we're splitting.\n",
    "    column = data[split_name]\n",
    "    median = column.median()\n",
    "    \n",
    "    # Make two subsets of the data based on the median.\n",
    "    left_split = data[column <= median]\n",
    "    right_split = data[column > median]\n",
    "    \n",
    "    # Loop through the splits, and calculate the subset entropy.\n",
    "    to_subtract = 0\n",
    "    for subset in [left_split, right_split]:\n",
    "        prob = subset.shape[0] / float(data.shape[0])\n",
    "        to_subtract += prob * calc_entropy(subset[target_name])\n",
    "    \n",
    "    # Return information gain.\n",
    "    return original_entropy - to_subtract\n",
    "\n",
    "\n",
    "def calc_entropy(column):\n",
    "    \"\"\"\n",
    "    Calculate entropy given a pandas Series, list, or numpy array.\n",
    "    \"\"\"\n",
    "    # Compute the counts of each unique value in the column.\n",
    "    counts = numpy.bincount(column)\n",
    "    \n",
    "    # Divide by the total column length to get a probability.\n",
    "    probabilities = counts / float(len(column))\n",
    "    \n",
    "    # Initialize the entropy to 0.\n",
    "    entropy = 0\n",
    "    \n",
    "    # Loop through the probabilities, and add each one to the total entropy.\n",
    "    for prob in probabilities:\n",
    "        if prob > 0:\n",
    "            entropy += prob * math.log(prob, 2)\n",
    "    \n",
    "    return -entropy\n",
    "\n",
    "\n",
    "def find_best_column(data, target_name, columns):\n",
    "    information_gains = []\n",
    "    # Loop through and compute information gains.\n",
    "    for col in columns:\n",
    "        information_gain = calc_information_gain(data, col, \"high_income\")\n",
    "        information_gains.append(information_gain)\n",
    "\n",
    "    # Find the name of the column with the highest gain.\n",
    "    highest_gain_index = information_gains.index(max(information_gains))\n",
    "    highest_gain = columns[highest_gain_index]\n",
    "    return highest_gain\n",
    "\n",
    "income_split = find_best_column(income, \"high_income\", columns)\n",
    "print(\"income_split:\", income_split)"
   ]
  },
  {
   "cell_type": "markdown",
   "metadata": {},
   "source": [
    "###5: Creating a simple recursive algorithm"
   ]
  },
  {
   "cell_type": "markdown",
   "metadata": {},
   "source": [
    "To build up to making the full id3 function, let's first build a simpler algorithm that we can extend. Here's that algorithm in pseudocode:\n",
    "\n",
    "    def id3(data, target, columns)\n",
    "        1 Create a node for the tree\n",
    "        2 If all values of the target attribute are 1, add 1 to counter_1.\n",
    "        3 If all values of the target attribute are 0, add 1 to counter_0.\n",
    "        4 Using information gain, find A, the column that splits the data best\n",
    "        5 Find the median value in column A\n",
    "        6 Split A into values below or equal to the median (0), and values above the median (1)\n",
    "        7 For each possible value (0 or 1), vi, of A,\n",
    "        8 Add a new tree branch below Root, corresponding to the rows in the data where A = vi.\n",
    "        9 Let Examples(vi) be the subset of examples that have the value vi for A\n",
    "       10 Below this new branch add the subtree id3(data[A==vi], target, columns)\n",
    "       11 Return Root\n",
    "\n",
    "This version is very similar to the algorithm above, but lines 2 and 3 are different. Instead of storing the whole tree (which is a bit complicated), we'll just count up how many leaves end up with the label 1, and how many end up with the label 0.\n",
    "\n",
    "We'll replicate this algorithm in code, and apply it to the same dataset we stepped through above:\n",
    "\n",
    "    high_income    age    marital_status\n",
    "    0              20     0\n",
    "    0              60     2\n",
    "    0              40     1\n",
    "    1              25     1\n",
    "    1              35     2\n",
    "    1              55     1"
   ]
  },
  {
   "cell_type": "markdown",
   "metadata": {},
   "source": [
    "####Instructions"
   ]
  },
  {
   "cell_type": "markdown",
   "metadata": {},
   "source": [
    "Read the id3 function below. Fill in the right lines where it says \"Insert code here...\". It should append 1 to label_1s if the node should be a leaf, and only has 1s for high_income. It should append 0 to label_0s if the node should be a leaf, and only has 0s for high_income."
   ]
  },
  {
   "cell_type": "code",
   "execution_count": 8,
   "metadata": {
    "collapsed": false
   },
   "outputs": [],
   "source": [
    "# Create the dataset that we used in the example in the last screen.\n",
    "data = pandas.DataFrame([\n",
    "    [0,20,0],\n",
    "    [0,60,2],\n",
    "    [0,40,1],\n",
    "    [1,25,1],\n",
    "    [1,35,2],\n",
    "    [1,55,1]\n",
    "    ])\n",
    "\n",
    "# Assign column names to the data.\n",
    "data.columns = [\"high_income\", \"age\", \"marital_status\"]\n",
    "\n",
    "label_1s = []\n",
    "label_0s = []\n",
    "\n",
    "def id3(data, target, columns):\n",
    "    unique_targets = pandas.unique(data[target])\n",
    "\n",
    "    if len(unique_targets) == 1:\n",
    "        if 0 in unique_targets:\n",
    "            label_0s.append(0)\n",
    "        elif 1 in unique_targets:\n",
    "            label_1s.append(1)\n",
    "        return\n",
    "    \n",
    "    best_column = find_best_column(data, target, columns)\n",
    "    column_median = data[best_column].median()\n",
    "    \n",
    "    left_split = data[data[best_column] <= column_median]\n",
    "    right_split = data[data[best_column] > column_median]\n",
    "    \n",
    "    for split in [left_split, right_split]:\n",
    "        id3(split, target, columns)\n",
    "\n",
    "id3(data, \"high_income\", [\"age\", \"marital_status\"])"
   ]
  },
  {
   "cell_type": "markdown",
   "metadata": {},
   "source": [
    "###6: Storing the tree"
   ]
  },
  {
   "cell_type": "markdown",
   "metadata": {},
   "source": [
    "We can now store the entire tree instead of just the labels at the leaves. In order to do this, we'll use nested dictionaries. We can represent the root node with a dictionary, and branches as the keys left and right. We can store the column we're splitting on as the key column, and the median value as the key median. Finally, we can store the label for a leaf as the key label. We'll also number each node as we go along, using the number key.\n",
    "\n",
    "We'll use the same dataset we've been looking at:\n",
    "\n",
    "    high_income    age    marital_status\n",
    "    0              20     0\n",
    "    0              60     2\n",
    "    0              40     1\n",
    "    1              25     1\n",
    "    1              35     2\n",
    "    1              55     1\n",
    "\n",
    "Here's the dictionary for a decision tree created on the above data:\n",
    "\n",
    "    {  \n",
    "       \"left\":{  \n",
    "          \"left\":{  \n",
    "             \"left\":{  \n",
    "                \"number\":4,\n",
    "                \"label\":0\n",
    "             },\n",
    "             \"column\":\"age\",\n",
    "             \"median\":22.5,\n",
    "             \"number\":3,\n",
    "             \"right\":{  \n",
    "                \"number\":5,\n",
    "                \"label\":1\n",
    "             }\n",
    "          },\n",
    "          \"column\":\"age\",\n",
    "          \"median\":25.0,\n",
    "          \"number\":2,\n",
    "          \"right\":{  \n",
    "             \"number\":6,\n",
    "             \"label\":1\n",
    "          }\n",
    "       },\n",
    "       \"column\":\"age\",\n",
    "       \"median\":37.5,\n",
    "       \"number\":1,\n",
    "       \"right\":{  \n",
    "          \"left\":{  \n",
    "             \"left\":{  \n",
    "                \"number\":9,\n",
    "                \"label\":0\n",
    "             },\n",
    "             \"column\":\"age\",\n",
    "             \"median\":47.5,\n",
    "             \"number\":8,\n",
    "             \"right\":{  \n",
    "                \"number\":10,\n",
    "                \"label\":1\n",
    "             }\n",
    "          },\n",
    "          \"column\":\"age\",\n",
    "          \"median\":55.0,\n",
    "          \"number\":7,\n",
    "          \"right\":{  \n",
    "             \"number\":11,\n",
    "             \"label\":0\n",
    "          }\n",
    "       }\n",
    "    }\n",
    "\n",
    "If we look at node 2 (the left split of the root node), we see that it matches the hand exercise we did a few screens ago. Node 2 splits, and the right branch (node 6) has a label 1, whereas the left branch (node 3) splits again.\n",
    "\n",
    "In order to keep track of the tree, we'll need to make some modifications to id3. The first is that we'll be changing the definition to pass in the tree dictionary:\n",
    "\n",
    "     def id3(data, target, columns, tree)\n",
    "        1 Create a node for the tree\n",
    "        2 Number the node\n",
    "        3 If all values of the target attribute are 1, assign 1 to the label key in tree.\n",
    "        4 If all values of the target attribute are 0, assign 0 to the label key in tree.\n",
    "        5 Using information gain, find A, the column that splits the data best\n",
    "        6 Find the median value in column A\n",
    "        7 Assign the column and median keys in tree\n",
    "        8 Split A into values below or equal to the median (0), and values above the median (1)\n",
    "        9 For each possible value (0 or 1), vi, of A,\n",
    "       10 Add a new tree branch below Root, corresponding to the rows in the data where A = vi.\n",
    "       11 Let Examples(vi) be the subset of examples that have the value vi for A\n",
    "       12 Create a new key with the name corresponding to the side of the split (0=left, 1=right).  The value of this key should be an empty dictionary.\n",
    "       13 Below this new branch add the subtree id3(data[A==vi], target, columns, tree[split_side])\n",
    "       14 Return Root\n",
    "\n",
    "The main difference is that we're now passing the tree dictionary into our id3 function, and setting some keys on it. One complexity is in how we're creating the nested dictionary. For the left split, we're adding a key to the tree dictionary that looks like: tree[\"left\"] = {}. For the right side, we're doing tree[\"right\"] = {}. After we add this key, we're able to pass the newly created dictionary into the recursive call to id3. This new dictionary will be the dictionary for that specific node, but will be tied back to the parent dictionary (because it's a key of the original dictionary).\n",
    "\n",
    "This will keep building up the nested dictionary, and we'll be able to access the whole thing using the variable tree we define before the function. Think of it like each recursive call building a piece of the tree, which we can access after all the functions are done."
   ]
  },
  {
   "cell_type": "markdown",
   "metadata": {},
   "source": [
    "####nstructions"
   ]
  },
  {
   "cell_type": "markdown",
   "metadata": {},
   "source": [
    "Fill in the sections labelled \"Insert code here...\" in the id3 function. The first section should assign the correct label to the tree dictionary. This can be done by setting the label key equal to the correct label.\n",
    "\n",
    "The second section should assign the column and median keys to the tree dictionary. The values should be equal to best_column and column_median.\n",
    "\n",
    "Finally, call the id3 function with the right inputs -- id3(data, \"high_income\", [\"age\", \"marital_status\"], tree)."
   ]
  },
  {
   "cell_type": "code",
   "execution_count": 11,
   "metadata": {
    "collapsed": false
   },
   "outputs": [
    {
     "name": "stdout",
     "output_type": "stream",
     "text": [
      "{'median': 37.5, 'left': {'median': 25.0, 'left': {'median': 22.5, 'left': {'number': 4, 'label': 0}, 'number': 3, 'column': 'age', 'right': {'number': 5, 'label': 1}}, 'number': 2, 'column': 'age', 'right': {'number': 6, 'label': 1}}, 'number': 1, 'column': 'age', 'right': {'median': 55.0, 'left': {'median': 47.5, 'left': {'number': 9, 'label': 0}, 'number': 8, 'column': 'age', 'right': {'number': 10, 'label': 1}}, 'number': 7, 'column': 'age', 'right': {'number': 11, 'label': 0}}}\n"
     ]
    }
   ],
   "source": [
    "tree = {}\n",
    "nodes = []\n",
    "\n",
    "def id3(data, target, columns, tree):\n",
    "    unique_targets = pandas.unique(data[target])\n",
    "    nodes.append(len(nodes) + 1)\n",
    "    tree[\"number\"] = nodes[-1]\n",
    "\n",
    "    if len(unique_targets) == 1:\n",
    "        if 0 in unique_targets:\n",
    "            tree[\"label\"] = 0\n",
    "        elif 1 in unique_targets:\n",
    "            tree[\"label\"] = 1\n",
    "        return\n",
    "    \n",
    "    best_column = find_best_column(data, target, columns)\n",
    "    column_median = data[best_column].median()\n",
    "    \n",
    "    tree[\"column\"] = best_column\n",
    "    tree[\"median\"] = column_median\n",
    "    \n",
    "    left_split = data[data[best_column] <= column_median]\n",
    "    right_split = data[data[best_column] > column_median]\n",
    "    split_dict = [[\"left\", left_split], [\"right\", right_split]]\n",
    "    \n",
    "    for name, split in split_dict:\n",
    "        tree[name] = {}\n",
    "        id3(split, target, columns, tree[name])\n",
    "\n",
    "id3(data, \"high_income\", [\"age\", \"marital_status\"], tree)"
   ]
  },
  {
   "cell_type": "markdown",
   "metadata": {},
   "source": [
    "###7: A prettier tree"
   ]
  },
  {
   "cell_type": "markdown",
   "metadata": {},
   "source": [
    "The tree dictionary shows all the relevant information, but it doesn't look very good. We can fix this by printing out our dictionary in a nicer way.\n",
    "\n",
    "In order to do this, we'll need to recursively iterate through our tree dictionary. If we find a dictionary with a label key, then we know it's a leaf, so we print out the label of the leaf. Otherwise, we loop through the left and right keys of the tree, and recursively call the same function. We'll also need to keep track of a depth variable so we can indent the nodes properly to indicate which nodes come before others. When we print out anything, we'll take the depth variable into account by adding space beforehand.\n",
    "\n",
    "Here's pseudocode:\n",
    "\n",
    "    def print_node(tree, depth):\n",
    "        1 Check for the presence of the \"label\" key in tree\n",
    "        2 If it's found, print the label and return\n",
    "        3 Print out the column and median keys of tree\n",
    "        4 Iterate through the \"left\" and \"right\" keys in tree\n",
    "        5 Recursively call print_node(tree[key], depth+1)\n"
   ]
  },
  {
   "cell_type": "markdown",
   "metadata": {},
   "source": [
    "####Instructions"
   ]
  },
  {
   "cell_type": "markdown",
   "metadata": {},
   "source": [
    "Fill in the needed code in the print_node function where it says \"Insert code here...\". Your code should iterate through both branches in order of the branches list, and recursively call print_node. Don't forget to increment depth when you call print_node.\n",
    "\n",
    "Call print_node with tree and depth 0."
   ]
  },
  {
   "cell_type": "code",
   "execution_count": 14,
   "metadata": {
    "collapsed": false
   },
   "outputs": [
    {
     "name": "stdout",
     "output_type": "stream",
     "text": [
      "tree: {'median': 37.5, 'left': {'median': 25.0, 'left': {'median': 22.5, 'left': {'number': 4, 'label': 0}, 'number': 3, 'column': 'age', 'right': {'number': 5, 'label': 1}}, 'number': 2, 'column': 'age', 'right': {'number': 6, 'label': 1}}, 'number': 1, 'column': 'age', 'right': {'median': 55.0, 'left': {'median': 47.5, 'left': {'number': 9, 'label': 0}, 'number': 8, 'column': 'age', 'right': {'number': 10, 'label': 1}}, 'number': 7, 'column': 'age', 'right': {'number': 11, 'label': 0}}}\n",
      "age > 37.5\n",
      "    age > 25.0\n",
      "        age > 22.5\n",
      "            Leaf: Label 0\n",
      "            Leaf: Label 1\n",
      "        Leaf: Label 1\n",
      "    age > 55.0\n",
      "        age > 47.5\n",
      "            Leaf: Label 0\n",
      "            Leaf: Label 1\n",
      "        Leaf: Label 0\n"
     ]
    }
   ],
   "source": [
    "def print_with_depth(string, depth):\n",
    "    # Add space before a string.\n",
    "    prefix = \"    \" * depth\n",
    "    # Print a string, appropriately indented.\n",
    "    print(\"{0}{1}\".format(prefix, string))\n",
    "\n",
    "def print_node(tree, depth):\n",
    "    if \"label\" in tree:\n",
    "        print_with_depth(\"Leaf: Label {0}\".format(tree[\"label\"]), depth)\n",
    "        return\n",
    "    print_with_depth(\"{0} > {1}\".format(tree[\"column\"], tree[\"median\"]), depth)\n",
    "    for branch in [tree[\"left\"], tree[\"right\"]]:\n",
    "        print_node(branch, depth+1)\n",
    "\n",
    "print(\"tree:\", tree)\n",
    "print_node(tree, 0)"
   ]
  },
  {
   "cell_type": "markdown",
   "metadata": {},
   "source": [
    "###8: Predicting with the printed tree"
   ]
  },
  {
   "cell_type": "markdown",
   "metadata": {},
   "source": [
    "Now that we've printed out the tree, we can see what the split points are:\n",
    "\n",
    "    age > 37.5\n",
    "        age > 25.0\n",
    "            age > 22.5\n",
    "                Leaf: Label 0\n",
    "                Leaf: Label 1\n",
    "            Leaf: Label 1\n",
    "        age > 55.0\n",
    "            age > 47.5\n",
    "                Leaf: Label 0\n",
    "                Leaf: Label 1\n",
    "            Leaf: Label 0\n",
    "\n",
    "The left branch is printed first, then the right branch. Each node prints the criteria that it is split based on. It's easy to tell how to predict a new value by looking at this tree.\n",
    "\n",
    "Let's say we wanted to predict the following row:\n",
    "\n",
    "    age    marital_status\n",
    "    50     1\n",
    "\n",
    "We'd first split on age > 37.5, and go to the right. Then, we'd split on age > 55.0, and go to the left. Then, we'd split on age > 47.5, and go to the right. We'd end up predicting a 1 for high_income.\n",
    "\n",
    "It's simple to make predictions with such a small tree, but what if we want to use the whole income dataframe? We wouldn't be able to make predictions by eye, and would want an automated way to do so."
   ]
  },
  {
   "cell_type": "markdown",
   "metadata": {},
   "source": [
    "###9: Automatic predictions"
   ]
  },
  {
   "cell_type": "markdown",
   "metadata": {},
   "source": [
    "Let's work on writing a function to make predictions automatically. All we'll have to do is follow the split points we've already defined with a new row.\n",
    "\n",
    "Here's pseudocode:\n",
    "\n",
    "    def predict(tree, row):\n",
    "        1 Check for presence of \"label\" in the tree dictionary\n",
    "        2 If it's found, return tree[\"label\"]\n",
    "        3 Extract tree[\"column\"] and tree[\"median\"]\n",
    "        4 Check to see if row[tree[\"column\"]] is less than or equal to tree[\"median\"]\n",
    "        5 If it's less, than or equal, call predict(tree[\"left\"], row) and return the result\n",
    "        6 If it's greater, call predict(tree[\"right\"], row) and return the result\n",
    "\n",
    "The major difference here is that we're returning values. Since we're only calling the function recursively once in each iteration (we only go \"down\" a single branch), we can return a single value up the chain of recursion. This will let us get a value back when we call the function."
   ]
  },
  {
   "cell_type": "markdown",
   "metadata": {},
   "source": [
    "####Instructions"
   ]
  },
  {
   "cell_type": "markdown",
   "metadata": {},
   "source": [
    "Fill in the code in the predict function where it says \"Insert code here...\". The code should check if row[column] is less than or equal to median, and return the appropriate result for each side of the tree. Print out the result of predicting the first row of the data -- predict(tree, data.iloc[0])."
   ]
  },
  {
   "cell_type": "code",
   "execution_count": 31,
   "metadata": {
    "collapsed": false
   },
   "outputs": [
    {
     "name": "stdout",
     "output_type": "stream",
     "text": [
      "prediction: 0\n"
     ]
    }
   ],
   "source": [
    "def predict(tree, row):\n",
    "    if \"label\" in tree:\n",
    "        return tree[\"label\"]\n",
    "    \n",
    "    column = tree[\"column\"]\n",
    "    median = tree[\"median\"]\n",
    "    if row[column] <= median:\n",
    "        return predict(tree[\"left\"], row)\n",
    "    else:\n",
    "        return predict(tree[\"right\"], row)\n",
    "    \n",
    "# Print the prediction for the first row in our data.\n",
    "prediction = predict(tree, data.iloc[0])\n",
    "print(\"prediction:\", prediction)"
   ]
  },
  {
   "cell_type": "markdown",
   "metadata": {},
   "source": [
    "###10: Making multiple predictions"
   ]
  },
  {
   "cell_type": "markdown",
   "metadata": {},
   "source": [
    "Now that we can make a prediction for a single row, we can write a function to make predictions on multiple rows at once.\n",
    "\n",
    "We can use the apply method on Pandas dataframes to apply a function across each row. You can read more about it <a href = \"http://pandas.pydata.org/pandas-docs/stable/generated/pandas.DataFrame.apply.html\">here</a>. You'll need to pass in the axis=1 argument to apply the function to each row. This method will return a dataframe.\n",
    "\n",
    "You can use the apply method along with lambda functions to apply the predict function to each row of new_data."
   ]
  },
  {
   "cell_type": "markdown",
   "metadata": {},
   "source": [
    "####Instructions"
   ]
  },
  {
   "cell_type": "markdown",
   "metadata": {},
   "source": [
    "Create a function called batch_predict that takes two parameters, tree, and df. It should use the apply method to apply the predict function across each row of df. You can use lambda functions to pass tree and row into predict.\n",
    "\n",
    "Call batch_predict with new_data as the parameter df. Assign the result to predictions."
   ]
  },
  {
   "cell_type": "code",
   "execution_count": 32,
   "metadata": {
    "collapsed": false
   },
   "outputs": [
    {
     "name": "stdout",
     "output_type": "stream",
     "text": [
      "predictions:\n",
      " 0    0\n",
      "1    0\n",
      "2    0\n",
      "3    0\n",
      "4    1\n",
      "5    0\n",
      "dtype: int64\n"
     ]
    }
   ],
   "source": [
    "import pandas\n",
    "\n",
    "new_data = pandas.DataFrame([\n",
    "    [40,0],\n",
    "    [20,2],\n",
    "    [80,1],\n",
    "    [15,1],\n",
    "    [27,2],\n",
    "    [38,1]\n",
    "    ])\n",
    "\n",
    "# Assign column names to the data.\n",
    "new_data.columns = [\"age\", \"marital_status\"]\n",
    "\n",
    "def batch_predict(tree, df):\n",
    "    return df.apply(lambda x: predict(tree, x), axis=1)\n",
    "\n",
    "predictions = batch_predict(tree, new_data)\n",
    "print(\"predictions:\\n\", predictions)"
   ]
  },
  {
   "cell_type": "markdown",
   "metadata": {},
   "source": [
    "###11: Conclusion"
   ]
  },
  {
   "cell_type": "markdown",
   "metadata": {},
   "source": [
    "In this mission, we learned how to create a full decision tree model, print the results, and make predictions using the tree. We applied a modified version of the ID3 algorithm."
   ]
  }
 ],
 "metadata": {
  "kernelspec": {
   "display_name": "Python 3",
   "language": "python",
   "name": "python3"
  },
  "language_info": {
   "codemirror_mode": {
    "name": "ipython",
    "version": 3
   },
   "file_extension": ".py",
   "mimetype": "text/x-python",
   "name": "python",
   "nbconvert_exporter": "python",
   "pygments_lexer": "ipython3",
   "version": "3.4.3"
  }
 },
 "nbformat": 4,
 "nbformat_minor": 0
}
