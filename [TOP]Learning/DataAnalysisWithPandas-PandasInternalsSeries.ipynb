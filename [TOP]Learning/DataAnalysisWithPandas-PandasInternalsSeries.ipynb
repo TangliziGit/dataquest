{
 "cells": [
  {
   "cell_type": "code",
   "execution_count": 1,
   "metadata": {},
   "outputs": [],
   "source": [
    "import pandas as pd"
   ]
  },
  {
   "cell_type": "code",
   "execution_count": 2,
   "metadata": {},
   "outputs": [
    {
     "name": "stdout",
     "output_type": "stream",
     "text": [
      "['Avengers: Age of Ultron (2015)' 'Cinderella (2015)' 'Ant-Man (2015)'\n",
      " 'Do You Believe? (2015)' 'Hot Tub Time Machine 2 (2015)']\n"
     ]
    },
    {
     "data": {
      "text/plain": [
       "Avengers: Age of Ultron (2015)    74\n",
       "Cinderella (2015)                 85\n",
       "Ant-Man (2015)                    80\n",
       "Do You Believe? (2015)            18\n",
       "Hot Tub Time Machine 2 (2015)     14\n",
       "dtype: int64"
      ]
     },
     "execution_count": 2,
     "metadata": {},
     "output_type": "execute_result"
    }
   ],
   "source": [
    "fandango=pd.read_csv(\"data/fandango_score_comparison.csv\")\n",
    "\n",
    "# how to turn a pandas.Series to a list\n",
    "print(fandango['FILM'].head(5).values)\n",
    "series_custom=pd.Series(fandango['RottenTomatoes'].values, index=fandango['FILM'].values)\n",
    "\n",
    "series_custom.head()"
   ]
  },
  {
   "cell_type": "code",
   "execution_count": 3,
   "metadata": {},
   "outputs": [
    {
     "data": {
      "text/plain": [
       "'71 (2015)                    97\n",
       "5 Flights Up (2015)           52\n",
       "A Little Chaos (2015)         40\n",
       "A Most Violent Year (2014)    90\n",
       "About Elly (2015)             97\n",
       "dtype: int64"
      ]
     },
     "execution_count": 3,
     "metadata": {},
     "output_type": "execute_result"
    }
   ],
   "source": [
    "# reindex by lists\n",
    "ori_index=series_custom.index.tolist()\n",
    "sorted_items=series_custom.reindex(sorted(ori_index))\n",
    "\n",
    "sorted_items.head(5)"
   ]
  },
  {
   "cell_type": "code",
   "execution_count": 4,
   "metadata": {},
   "outputs": [
    {
     "data": {
      "text/plain": [
       "'71 (2015)                    97\n",
       "5 Flights Up (2015)           52\n",
       "A Little Chaos (2015)         40\n",
       "A Most Violent Year (2014)    90\n",
       "About Elly (2015)             97\n",
       "dtype: int64"
      ]
     },
     "execution_count": 4,
     "metadata": {},
     "output_type": "execute_result"
    }
   ],
   "source": [
    "# sort directly\n",
    "sorted_items=series_custom.sort_index()\n",
    "\n",
    "sorted_items.head(5)"
   ]
  },
  {
   "cell_type": "code",
   "execution_count": 5,
   "metadata": {},
   "outputs": [
    {
     "data": {
      "text/plain": [
       "Avengers: Age of Ultron (2015)    74\n",
       "The Water Diviner (2015)          63\n",
       "Unbroken (2014)                   51\n",
       "Southpaw (2015)                   59\n",
       "Insidious: Chapter 3 (2015)       59\n",
       "dtype: int64"
      ]
     },
     "execution_count": 5,
     "metadata": {},
     "output_type": "execute_result"
    }
   ],
   "source": [
    "L=series_custom>50\n",
    "R=series_custom<75\n",
    "\n",
    "series_custom[L & R].head(5)"
   ]
  }
 ],
 "metadata": {
  "kernelspec": {
   "display_name": "Python 3",
   "language": "python",
   "name": "python3"
  },
  "language_info": {
   "codemirror_mode": {
    "name": "ipython",
    "version": 3
   },
   "file_extension": ".py",
   "mimetype": "text/x-python",
   "name": "python",
   "nbconvert_exporter": "python",
   "pygments_lexer": "ipython3",
   "version": "3.6.4"
  }
 },
 "nbformat": 4,
 "nbformat_minor": 2
}
