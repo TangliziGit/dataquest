{
 "cells": [
  {
   "cell_type": "code",
   "execution_count": 1,
   "metadata": {
    "collapsed": false
   },
   "outputs": [],
   "source": [
    "from __future__ import print_function"
   ]
  },
  {
   "cell_type": "markdown",
   "metadata": {},
   "source": [
    "#Exploring Topics in Data Science"
   ]
  },
  {
   "cell_type": "markdown",
   "metadata": {},
   "source": [
    "##Clustering in Python"
   ]
  },
  {
   "cell_type": "markdown",
   "metadata": {},
   "source": [
    "###1: Loading in the data"
   ]
  },
  {
   "cell_type": "markdown",
   "metadata": {},
   "source": [
    "We have a csv file that contains all the votes from the 114th Senate.\n",
    "\n",
    "Each row contains the votes of an individual senator. Votes are coded as 0 for \"No\", 1 for \"Yes\", and 0.5 for \"Abstain\"."
   ]
  },
  {
   "cell_type": "code",
   "execution_count": 2,
   "metadata": {
    "collapsed": false
   },
   "outputs": [
    {
     "name": "stdout",
     "output_type": "stream",
     "text": [
      "votes.shape: (100, 18)\n",
      "value_counts:\n",
      " 1.0    803\n",
      "0.0    669\n",
      "0.5     28\n",
      "dtype: int64\n"
     ]
    }
   ],
   "source": [
    "import pandas as pd\n",
    "# Read in the csv file\n",
    "votes = pd.read_csv(\"data/114_congress.csv\")\n",
    "\n",
    "# As you can see, there are 100 senators, and they voted on 15 bills (we subtract 3 because the first 3 columns aren't bills).\n",
    "print(\"votes.shape:\", votes.shape)\n",
    "\n",
    "# We have more \"Yes\" votes than \"No\" votes overall\n",
    "value_counts = pd.value_counts(votes.iloc[:,3:].values.ravel())\n",
    "print(\"value_counts:\\n\", value_counts)"
   ]
  },
  {
   "cell_type": "markdown",
   "metadata": {},
   "source": [
    "###2: Initial clustering"
   ]
  },
  {
   "cell_type": "markdown",
   "metadata": {},
   "source": [
    "k-means clustering will try to make clusters out of the senators.\n",
    "\n",
    "Each cluster will contain senators whose votes are as similar to each other as possible.\n",
    "\n",
    "We'll need to specify the number of clusters we want upfront.\n",
    "\n",
    "Let's try 2 to see how that looks."
   ]
  },
  {
   "cell_type": "code",
   "execution_count": 3,
   "metadata": {
    "collapsed": false
   },
   "outputs": [
    {
     "name": "stdout",
     "output_type": "stream",
     "text": [
      "crosstab:\n",
      " party   D  I   R\n",
      "row_0           \n",
      "0      41  2   0\n",
      "1       3  0  54\n"
     ]
    }
   ],
   "source": [
    "import pandas as pd\n",
    "from sklearn.cluster import KMeans\n",
    "\n",
    "# Create a kmeans model on our data, using 2 clusters.  random_state helps ensure that the algorithm returns the same results each time.\n",
    "kmeans_model = KMeans(n_clusters=2, random_state=1).fit(votes.iloc[:, 3:])\n",
    "\n",
    "# These are our fitted labels for clusters -- the first cluster has label 0, and the second has label 1.\n",
    "labels = kmeans_model.labels_\n",
    "\n",
    "# The clustering looks pretty good!\n",
    "# It's separated everyone into parties just based on voting history\n",
    "crosstab = pd.crosstab(labels, votes[\"party\"])\n",
    "print(\"crosstab:\\n\", crosstab)"
   ]
  },
  {
   "cell_type": "markdown",
   "metadata": {},
   "source": [
    "###3: Exploring people in the wrong cluster"
   ]
  },
  {
   "cell_type": "markdown",
   "metadata": {},
   "source": [
    "We can now find out which senators are in the \"wrong\" cluster.\n",
    "\n",
    "These senators are in the cluster associated with the opposite party."
   ]
  },
  {
   "cell_type": "code",
   "execution_count": 4,
   "metadata": {
    "collapsed": false
   },
   "outputs": [
    {
     "name": "stdout",
     "output_type": "stream",
     "text": [
      "oddballs:\n",
      " 42    Heitkamp\n",
      "56     Manchin\n",
      "74        Reid\n",
      "Name: name, dtype: object\n"
     ]
    }
   ],
   "source": [
    "# Let's call these types of voters \"oddballs\" (why not?)\n",
    "# There aren't any republican oddballs\n",
    "democratic_oddballs = votes[(labels == 1) & (votes[\"party\"] == \"D\")]\n",
    "\n",
    "# It looks like Reid has abstained a lot, which changed his cluster.\n",
    "# Manchin seems like a genuine oddball voter.\n",
    "oddballs = democratic_oddballs[\"name\"]\n",
    "print(\"oddballs:\\n\", oddballs)"
   ]
  },
  {
   "cell_type": "markdown",
   "metadata": {},
   "source": [
    "###4: Plotting out the clusters"
   ]
  },
  {
   "cell_type": "markdown",
   "metadata": {},
   "source": [
    "Let's explore our clusters a little more by plotting them out.\n",
    "\n",
    "Each column of data is a dimension on a plot, and we can't visualize 15 dimensions.\n",
    "\n",
    "We'll use principal component analysis to compress the vote columns into two.\n",
    "\n",
    "Then, we can plot out all of our senators according to their votes, and shade them by their cluster."
   ]
  },
  {
   "cell_type": "code",
   "execution_count": 5,
   "metadata": {
    "collapsed": false
   },
   "outputs": [
    {
     "data": {
      "image/png": "[encoded data removed]",
      "text/plain": [
       "<matplotlib.figure.Figure at 0xbad6a90>"
      ]
     },
     "metadata": {},
     "output_type": "display_data"
    }
   ],
   "source": [
    "import matplotlib.pyplot as plt\n",
    "from sklearn.decomposition import PCA\n",
    "%matplotlib inline\n",
    "\n",
    "pca_2 = PCA(2)\n",
    "\n",
    "# Turn the vote data into two columns with PCA\n",
    "plot_columns = pca_2.fit_transform(votes.iloc[:,3:18])\n",
    "\n",
    "# Plot senators based on the two dimensions, and shade by cluster label\n",
    "plt.scatter(x=plot_columns[:,0], y=plot_columns[:,1])\n",
    "plt.show()"
   ]
  },
  {
   "cell_type": "markdown",
   "metadata": {},
   "source": [
    "###5: Trying even more clusters"
   ]
  },
  {
   "cell_type": "markdown",
   "metadata": {},
   "source": [
    "While two clusters is interesting, it didn't tell us anything we don't already know.\n",
    "\n",
    "More clusters could show wings of each party, or cross-party groups.\n",
    "\n",
    "Let's try using 5 clusters to see what happens."
   ]
  },
  {
   "cell_type": "code",
   "execution_count": 6,
   "metadata": {
    "collapsed": false
   },
   "outputs": [
    {
     "name": "stdout",
     "output_type": "stream",
     "text": [
      "crosstab:\n",
      " party   D  I   R\n",
      "row_0           \n",
      "0       6  0   0\n",
      "1       0  0  52\n",
      "2      31  1   0\n",
      "3       0  0   2\n",
      "4       7  1   0\n"
     ]
    }
   ],
   "source": [
    "import pandas as pd\n",
    "from sklearn.cluster import KMeans\n",
    "\n",
    "kmeans_model = KMeans(n_clusters=5, random_state=1).fit(votes.iloc[:, 3:])\n",
    "labels = kmeans_model.labels_\n",
    "\n",
    "# The republicans are still pretty solid, but it looks like there are two democratic \"factions\"\n",
    "crosstab = pd.crosstab(labels, votes[\"party\"])\n",
    "print(\"crosstab:\\n\", crosstab)"
   ]
  }
 ],
 "metadata": {
  "kernelspec": {
   "display_name": "Python 3",
   "language": "python",
   "name": "python3"
  },
  "language_info": {
   "codemirror_mode": {
    "name": "ipython",
    "version": 3
   },
   "file_extension": ".py",
   "mimetype": "text/x-python",
   "name": "python",
   "nbconvert_exporter": "python",
   "pygments_lexer": "ipython3",
   "version": "3.4.3"
  }
 },
 "nbformat": 4,
 "nbformat_minor": 0
}
