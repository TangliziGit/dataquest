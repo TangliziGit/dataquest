{
 "cells": [
  {
   "cell_type": "code",
   "execution_count": 1,
   "metadata": {
    "collapsed": true
   },
   "outputs": [],
   "source": [
    "from __future__ import print_function"
   ]
  },
  {
   "cell_type": "markdown",
   "metadata": {},
   "source": [
    "#Exploring Topics in Data Science"
   ]
  },
  {
   "cell_type": "markdown",
   "metadata": {},
   "source": [
    "##K-Nearest Neighbors Introduction"
   ]
  },
  {
   "cell_type": "markdown",
   "metadata": {},
   "source": [
    "###1: A look at the data"
   ]
  },
  {
   "cell_type": "markdown",
   "metadata": {},
   "source": [
    "Before we get started with the KNN algorithm, let's take a look at our data. Each row in the data contains information on how a player performed in the 2013-2014 NBA season.\n",
    "\n",
    "Here are some selected columns:\n",
    "\n",
    "- player -- name of the player\n",
    "- pos -- the position of the player\n",
    "- g -- number of games the player was in\n",
    "- gs -- number of games the player started\n",
    "- pts -- total points the player scored\n",
    "\n",
    "See <a href = \"http://www.databasebasketball.com/about/aboutstats.htm\">this site</a> for an explanation of the rest of them."
   ]
  },
  {
   "cell_type": "code",
   "execution_count": 2,
   "metadata": {
    "collapsed": false
   },
   "outputs": [
    {
     "name": "stdout",
     "output_type": "stream",
     "text": [
      "nba.columns.values: ['Rk' 'Player' 'Pos' 'Age' 'Tm' 'G' 'GS' 'MP' 'FG' 'FGA' 'FG%' '3P' '3PA'\n",
      " '3P.1' '2P' '2PA' '2P.1' 'eFG%' 'FT' 'FTA' 'FT%' 'ORB' 'DRB' 'TRB' 'AST'\n",
      " 'STL' 'BLK' 'TOV' 'PF' 'PTS']\n"
     ]
    },
    {
     "data": {
      "text/html": [
       "<div>\n",
       "<table border=\"1\" class=\"dataframe\">\n",
       "  <thead>\n",
       "    <tr style=\"text-align: right;\">\n",
       "      <th></th>\n",
       "      <th>Rk</th>\n",
       "      <th>Player</th>\n",
       "      <th>Pos</th>\n",
       "      <th>Age</th>\n",
       "      <th>Tm</th>\n",
       "      <th>G</th>\n",
       "      <th>GS</th>\n",
       "      <th>MP</th>\n",
       "      <th>FG</th>\n",
       "      <th>FGA</th>\n",
       "      <th>...</th>\n",
       "      <th>FT%</th>\n",
       "      <th>ORB</th>\n",
       "      <th>DRB</th>\n",
       "      <th>TRB</th>\n",
       "      <th>AST</th>\n",
       "      <th>STL</th>\n",
       "      <th>BLK</th>\n",
       "      <th>TOV</th>\n",
       "      <th>PF</th>\n",
       "      <th>PTS</th>\n",
       "    </tr>\n",
       "  </thead>\n",
       "  <tbody>\n",
       "    <tr>\n",
       "      <th>0</th>\n",
       "      <td>1</td>\n",
       "      <td>Quincy Acy</td>\n",
       "      <td>PF</td>\n",
       "      <td>22</td>\n",
       "      <td>TOR</td>\n",
       "      <td>29</td>\n",
       "      <td>0</td>\n",
       "      <td>342</td>\n",
       "      <td>42</td>\n",
       "      <td>75</td>\n",
       "      <td>...</td>\n",
       "      <td>0.816</td>\n",
       "      <td>30</td>\n",
       "      <td>47</td>\n",
       "      <td>77</td>\n",
       "      <td>11</td>\n",
       "      <td>13</td>\n",
       "      <td>15</td>\n",
       "      <td>17</td>\n",
       "      <td>53</td>\n",
       "      <td>116</td>\n",
       "    </tr>\n",
       "    <tr>\n",
       "      <th>1</th>\n",
       "      <td>2</td>\n",
       "      <td>Jeff Adrien</td>\n",
       "      <td>PF</td>\n",
       "      <td>26</td>\n",
       "      <td>CHA</td>\n",
       "      <td>52</td>\n",
       "      <td>5</td>\n",
       "      <td>713</td>\n",
       "      <td>72</td>\n",
       "      <td>168</td>\n",
       "      <td>...</td>\n",
       "      <td>0.650</td>\n",
       "      <td>68</td>\n",
       "      <td>128</td>\n",
       "      <td>196</td>\n",
       "      <td>36</td>\n",
       "      <td>18</td>\n",
       "      <td>27</td>\n",
       "      <td>32</td>\n",
       "      <td>80</td>\n",
       "      <td>209</td>\n",
       "    </tr>\n",
       "    <tr>\n",
       "      <th>2</th>\n",
       "      <td>3</td>\n",
       "      <td>Arron Afflalo</td>\n",
       "      <td>SF</td>\n",
       "      <td>27</td>\n",
       "      <td>ORL</td>\n",
       "      <td>64</td>\n",
       "      <td>64</td>\n",
       "      <td>2307</td>\n",
       "      <td>397</td>\n",
       "      <td>905</td>\n",
       "      <td>...</td>\n",
       "      <td>0.857</td>\n",
       "      <td>29</td>\n",
       "      <td>210</td>\n",
       "      <td>239</td>\n",
       "      <td>206</td>\n",
       "      <td>40</td>\n",
       "      <td>11</td>\n",
       "      <td>138</td>\n",
       "      <td>137</td>\n",
       "      <td>1057</td>\n",
       "    </tr>\n",
       "    <tr>\n",
       "      <th>3</th>\n",
       "      <td>4</td>\n",
       "      <td>Josh Akognon</td>\n",
       "      <td>PG</td>\n",
       "      <td>26</td>\n",
       "      <td>DAL</td>\n",
       "      <td>3</td>\n",
       "      <td>0</td>\n",
       "      <td>9</td>\n",
       "      <td>2</td>\n",
       "      <td>4</td>\n",
       "      <td>...</td>\n",
       "      <td>0.000</td>\n",
       "      <td>0</td>\n",
       "      <td>1</td>\n",
       "      <td>1</td>\n",
       "      <td>1</td>\n",
       "      <td>0</td>\n",
       "      <td>0</td>\n",
       "      <td>0</td>\n",
       "      <td>3</td>\n",
       "      <td>5</td>\n",
       "    </tr>\n",
       "    <tr>\n",
       "      <th>4</th>\n",
       "      <td>5</td>\n",
       "      <td>Cole Aldrich</td>\n",
       "      <td>C</td>\n",
       "      <td>24</td>\n",
       "      <td>TOT</td>\n",
       "      <td>45</td>\n",
       "      <td>0</td>\n",
       "      <td>388</td>\n",
       "      <td>44</td>\n",
       "      <td>80</td>\n",
       "      <td>...</td>\n",
       "      <td>0.600</td>\n",
       "      <td>30</td>\n",
       "      <td>90</td>\n",
       "      <td>120</td>\n",
       "      <td>9</td>\n",
       "      <td>5</td>\n",
       "      <td>23</td>\n",
       "      <td>23</td>\n",
       "      <td>60</td>\n",
       "      <td>100</td>\n",
       "    </tr>\n",
       "  </tbody>\n",
       "</table>\n",
       "<p>5 rows × 30 columns</p>\n",
       "</div>"
      ],
      "text/plain": [
       "   Rk         Player Pos  Age   Tm   G  GS    MP   FG  FGA  ...     FT%  ORB  \\\n",
       "0   1     Quincy Acy  PF   22  TOR  29   0   342   42   75  ...   0.816   30   \n",
       "1   2    Jeff Adrien  PF   26  CHA  52   5   713   72  168  ...   0.650   68   \n",
       "2   3  Arron Afflalo  SF   27  ORL  64  64  2307  397  905  ...   0.857   29   \n",
       "3   4   Josh Akognon  PG   26  DAL   3   0     9    2    4  ...   0.000    0   \n",
       "4   5   Cole Aldrich   C   24  TOT  45   0   388   44   80  ...   0.600   30   \n",
       "\n",
       "   DRB  TRB  AST  STL  BLK  TOV   PF   PTS  \n",
       "0   47   77   11   13   15   17   53   116  \n",
       "1  128  196   36   18   27   32   80   209  \n",
       "2  210  239  206   40   11  138  137  1057  \n",
       "3    1    1    1    0    0    0    3     5  \n",
       "4   90  120    9    5   23   23   60   100  \n",
       "\n",
       "[5 rows x 30 columns]"
      ]
     },
     "execution_count": 2,
     "metadata": {},
     "output_type": "execute_result"
    }
   ],
   "source": [
    "import pandas\n",
    "with open(\"data/nba_2013.csv\", \"r\") as csvfile:\n",
    "    nba_raw = pandas.read_csv(csvfile)\n",
    "\n",
    "# Replace NaN values with zeros.\n",
    "nba = nba_raw.fillna(0)\n",
    "\n",
    "# Convert strings to NaN and drop.\n",
    "nba = nba.convert_objects(convert_numeric=True).dropna()\n",
    "    \n",
    "# The names of the columns in the data.\n",
    "print(\"nba.columns.values:\", nba.columns.values)\n",
    "\n",
    "nba.head(5)"
   ]
  },
  {
   "cell_type": "markdown",
   "metadata": {},
   "source": [
    "###2: KNN overview"
   ]
  },
  {
   "cell_type": "markdown",
   "metadata": {},
   "source": [
    "The k-nearest neighbors is based around the simple idea of predicting unknown values by matching them with the most similar known values.\n",
    "\n",
    "Let's say that we have 3 different types of cars:\n",
    "\n",
    "    car,horsepower,racing_stripes,is_fast\n",
    "    Honda Accord,180,False,False\n",
    "    Yugo,500,True,True\n",
    "    Delorean DMC-12,200,True,True\n",
    "\n",
    "Let's say that we now have another car:\n",
    "\n",
    "    Chevrolet Camaro,400,True,Unknown\n",
    "\n",
    "We don't know whether or not this car is fast. In order to predict if it is, we find the most similar known car. In this case, we would compare the horsepower and racing_stripes values to find the most similar car, which is the Yugo. Since the Yugo is fast, we would predict that the Camaro is also fast. This is an example of 1-nearest neighbors -- we only looked at the most similar car.\n",
    "\n",
    "If we performed a 2-nearest neighbors, we would end up with 2 True values (for the Delorean and the Yugo), which would average out to True.\n",
    "\n",
    "If we did 3-nearest neighbors, we would end up with 2 True values and a False value, which would average out to True."
   ]
  },
  {
   "cell_type": "markdown",
   "metadata": {},
   "source": [
    "###3: Euclidean distance"
   ]
  },
  {
   "cell_type": "markdown",
   "metadata": {},
   "source": [
    "Before we can predict using KNN, we need to find some way to figure out which data rows are \"closest\" to the row we're trying to predict on.\n",
    "\n",
    "A simple way to do this is to use Euclidean distance. The formula is \n",
    "$\\sqrt{(q_1-p_1)^2 + (q_2-p_2)^2 + \\cdots + (q_n-p_n)^2}$\n",
    "\n",
    "Let's say we have these two rows (True/False has been converted to 1/0), and we want to find the distance between them:\n",
    "\n",
    "    Honda Accord,180,0\n",
    "    Chevrolet Camaro,400,1\n",
    "\n",
    "We would first only select the numeric columns. Then the distance becomes \n",
    "$\\sqrt{(180-400)^2 + (0-1)^2}$, which is about equal to 220."
   ]
  },
  {
   "cell_type": "markdown",
   "metadata": {},
   "source": [
    "####Instructions"
   ]
  },
  {
   "cell_type": "markdown",
   "metadata": {},
   "source": [
    "Make a function for calculating the euclidean distance between two pandas series. Use the function to find the euclidean distance between selected_player and each row in nba. Use the .apply(func, axis=1) method on dataframes to apply function func to each row. The function should take row as its first argument. Only use the columns in distance_columns to compute the distance. <a href= \"http://pandas.pydata.org/pandas-docs/dev/generated/pandas.DataFrame.apply.html\">Here's</a> more on the method.\n",
    "\n",
    "Assign the resulting pandas series to lebron_distance."
   ]
  },
  {
   "cell_type": "code",
   "execution_count": 3,
   "metadata": {
    "collapsed": false
   },
   "outputs": [
    {
     "name": "stdout",
     "output_type": "stream",
     "text": [
      "lebron_distance[:5]:\n",
      " 0    3878.055056\n",
      "1    3485.609452\n",
      "2    1561.897265\n",
      "3    4237.902735\n",
      "4    3845.353715\n",
      "dtype: float64\n"
     ]
    }
   ],
   "source": [
    "import math\n",
    "\n",
    "selected_player = nba[nba[\"Player\"] == \"LeBron James\"].iloc[0]\n",
    "distance_columns = ['Age', 'G', 'GS', 'MP', 'FG', 'FGA', 'FG%', '3P', '3PA',\n",
    " '3P.1', '2P', '2PA', '2P.1', 'eFG%', 'FT', 'FTA', 'FT%', 'ORB', 'DRB', 'TRB', 'AST',\n",
    " 'STL', 'BLK', 'TOV', 'PF', 'PTS']\n",
    "\n",
    "def euclidean_distance(row):\n",
    "    inner_value = 0\n",
    "    for k in distance_columns:\n",
    "        inner_value += (row[k] - selected_player[k]) ** 2\n",
    "    return math.sqrt(inner_value)\n",
    "\n",
    "lebron_distance = nba.apply(euclidean_distance, axis=1)\n",
    "print(\"lebron_distance[:5]:\\n\", lebron_distance[:5])"
   ]
  },
  {
   "cell_type": "markdown",
   "metadata": {},
   "source": [
    "###4: Normalizing columns"
   ]
  },
  {
   "cell_type": "markdown",
   "metadata": {},
   "source": [
    "Variables which are much larger in absolute terms have the potential to have a larger impact on distance. This can be bad, because a variable having larger values doesn't necessarily make it better at predicting what rows are similar.\n",
    "\n",
    "A simple way to deal with this is to normalize all the columns to have a mean of 0, and a standard deviation of 1. This will ensure that no single column has a dominant impact on the euclidean distance calculations.\n",
    "\n",
    "To set the mean to 0, we have to find the mean of a column, then subtract the mean from every value in the column. To set the standard deviation to 1, we divide every value in the column by the standard deviation. The formula is $x=\\frac{x-\\mu}{\\sigma}$."
   ]
  },
  {
   "cell_type": "markdown",
   "metadata": {},
   "source": [
    "####Instructions"
   ]
  },
  {
   "cell_type": "markdown",
   "metadata": {},
   "source": [
    "Normalize the columns in nba_numeric. Using .mean() on a dataframe will return the mean of each column. Using .std() will return the standard deviation of each column."
   ]
  },
  {
   "cell_type": "code",
   "execution_count": 4,
   "metadata": {
    "collapsed": false
   },
   "outputs": [
    {
     "data": {
      "text/html": [
       "<div>\n",
       "<table border=\"1\" class=\"dataframe\">\n",
       "  <thead>\n",
       "    <tr style=\"text-align: right;\">\n",
       "      <th></th>\n",
       "      <th>Age</th>\n",
       "      <th>G</th>\n",
       "      <th>GS</th>\n",
       "      <th>MP</th>\n",
       "      <th>FG</th>\n",
       "      <th>FGA</th>\n",
       "      <th>FG%</th>\n",
       "      <th>3P</th>\n",
       "      <th>3PA</th>\n",
       "      <th>3P.1</th>\n",
       "      <th>...</th>\n",
       "      <th>FT%</th>\n",
       "      <th>ORB</th>\n",
       "      <th>DRB</th>\n",
       "      <th>TRB</th>\n",
       "      <th>AST</th>\n",
       "      <th>STL</th>\n",
       "      <th>BLK</th>\n",
       "      <th>TOV</th>\n",
       "      <th>PF</th>\n",
       "      <th>PTS</th>\n",
       "    </tr>\n",
       "  </thead>\n",
       "  <tbody>\n",
       "    <tr>\n",
       "      <th>0</th>\n",
       "      <td>-1.072090</td>\n",
       "      <td>-0.779918</td>\n",
       "      <td>-0.788082</td>\n",
       "      <td>-0.877945</td>\n",
       "      <td>-0.786532</td>\n",
       "      <td>-0.864840</td>\n",
       "      <td>1.275708</td>\n",
       "      <td>-0.692923</td>\n",
       "      <td>-0.744648</td>\n",
       "      <td>1.442072</td>\n",
       "      <td>...</td>\n",
       "      <td>0.623629</td>\n",
       "      <td>-0.345612</td>\n",
       "      <td>-0.684541</td>\n",
       "      <td>-0.600830</td>\n",
       "      <td>-0.716027</td>\n",
       "      <td>-0.658966</td>\n",
       "      <td>-0.254608</td>\n",
       "      <td>-0.773548</td>\n",
       "      <td>-0.563340</td>\n",
       "      <td>-0.764147</td>\n",
       "    </tr>\n",
       "    <tr>\n",
       "      <th>1</th>\n",
       "      <td>-0.126638</td>\n",
       "      <td>0.107234</td>\n",
       "      <td>-0.612946</td>\n",
       "      <td>-0.455442</td>\n",
       "      <td>-0.601922</td>\n",
       "      <td>-0.597891</td>\n",
       "      <td>0.051613</td>\n",
       "      <td>-0.714468</td>\n",
       "      <td>-0.744648</td>\n",
       "      <td>-1.283917</td>\n",
       "      <td>...</td>\n",
       "      <td>-0.158543</td>\n",
       "      <td>0.284652</td>\n",
       "      <td>-0.096167</td>\n",
       "      <td>0.020484</td>\n",
       "      <td>-0.519700</td>\n",
       "      <td>-0.513235</td>\n",
       "      <td>0.117009</td>\n",
       "      <td>-0.526808</td>\n",
       "      <td>-0.167436</td>\n",
       "      <td>-0.550369</td>\n",
       "    </tr>\n",
       "    <tr>\n",
       "      <th>2</th>\n",
       "      <td>0.109725</td>\n",
       "      <td>0.570095</td>\n",
       "      <td>1.453660</td>\n",
       "      <td>1.359842</td>\n",
       "      <td>1.398023</td>\n",
       "      <td>1.517615</td>\n",
       "      <td>0.145056</td>\n",
       "      <td>0.836742</td>\n",
       "      <td>1.215335</td>\n",
       "      <td>0.351676</td>\n",
       "      <td>...</td>\n",
       "      <td>0.816816</td>\n",
       "      <td>-0.362198</td>\n",
       "      <td>0.499470</td>\n",
       "      <td>0.244992</td>\n",
       "      <td>0.815321</td>\n",
       "      <td>0.127978</td>\n",
       "      <td>-0.378481</td>\n",
       "      <td>1.216818</td>\n",
       "      <td>0.668362</td>\n",
       "      <td>1.398917</td>\n",
       "    </tr>\n",
       "    <tr>\n",
       "      <th>3</th>\n",
       "      <td>-0.126638</td>\n",
       "      <td>-1.782785</td>\n",
       "      <td>-0.788082</td>\n",
       "      <td>-1.257173</td>\n",
       "      <td>-1.032679</td>\n",
       "      <td>-1.068641</td>\n",
       "      <td>0.715054</td>\n",
       "      <td>-0.692923</td>\n",
       "      <td>-0.744648</td>\n",
       "      <td>1.442072</td>\n",
       "      <td>...</td>\n",
       "      <td>-3.221262</td>\n",
       "      <td>-0.843189</td>\n",
       "      <td>-1.018679</td>\n",
       "      <td>-0.997636</td>\n",
       "      <td>-0.794557</td>\n",
       "      <td>-1.037865</td>\n",
       "      <td>-0.719130</td>\n",
       "      <td>-1.053186</td>\n",
       "      <td>-1.296497</td>\n",
       "      <td>-1.019301</td>\n",
       "    </tr>\n",
       "    <tr>\n",
       "      <th>4</th>\n",
       "      <td>-0.599364</td>\n",
       "      <td>-0.162769</td>\n",
       "      <td>-0.788082</td>\n",
       "      <td>-0.825559</td>\n",
       "      <td>-0.774225</td>\n",
       "      <td>-0.850488</td>\n",
       "      <td>1.182265</td>\n",
       "      <td>-0.714468</td>\n",
       "      <td>-0.761119</td>\n",
       "      <td>-1.283917</td>\n",
       "      <td>...</td>\n",
       "      <td>-0.394137</td>\n",
       "      <td>-0.345612</td>\n",
       "      <td>-0.372194</td>\n",
       "      <td>-0.376322</td>\n",
       "      <td>-0.731733</td>\n",
       "      <td>-0.892134</td>\n",
       "      <td>-0.006864</td>\n",
       "      <td>-0.674852</td>\n",
       "      <td>-0.460699</td>\n",
       "      <td>-0.800926</td>\n",
       "    </tr>\n",
       "  </tbody>\n",
       "</table>\n",
       "<p>5 rows × 26 columns</p>\n",
       "</div>"
      ],
      "text/plain": [
       "        Age         G        GS        MP        FG       FGA       FG%  \\\n",
       "0 -1.072090 -0.779918 -0.788082 -0.877945 -0.786532 -0.864840  1.275708   \n",
       "1 -0.126638  0.107234 -0.612946 -0.455442 -0.601922 -0.597891  0.051613   \n",
       "2  0.109725  0.570095  1.453660  1.359842  1.398023  1.517615  0.145056   \n",
       "3 -0.126638 -1.782785 -0.788082 -1.257173 -1.032679 -1.068641  0.715054   \n",
       "4 -0.599364 -0.162769 -0.788082 -0.825559 -0.774225 -0.850488  1.182265   \n",
       "\n",
       "         3P       3PA      3P.1    ...          FT%       ORB       DRB  \\\n",
       "0 -0.692923 -0.744648  1.442072    ...     0.623629 -0.345612 -0.684541   \n",
       "1 -0.714468 -0.744648 -1.283917    ...    -0.158543  0.284652 -0.096167   \n",
       "2  0.836742  1.215335  0.351676    ...     0.816816 -0.362198  0.499470   \n",
       "3 -0.692923 -0.744648  1.442072    ...    -3.221262 -0.843189 -1.018679   \n",
       "4 -0.714468 -0.761119 -1.283917    ...    -0.394137 -0.345612 -0.372194   \n",
       "\n",
       "        TRB       AST       STL       BLK       TOV        PF       PTS  \n",
       "0 -0.600830 -0.716027 -0.658966 -0.254608 -0.773548 -0.563340 -0.764147  \n",
       "1  0.020484 -0.519700 -0.513235  0.117009 -0.526808 -0.167436 -0.550369  \n",
       "2  0.244992  0.815321  0.127978 -0.378481  1.216818  0.668362  1.398917  \n",
       "3 -0.997636 -0.794557 -1.037865 -0.719130 -1.053186 -1.296497 -1.019301  \n",
       "4 -0.376322 -0.731733 -0.892134 -0.006864 -0.674852 -0.460699 -0.800926  \n",
       "\n",
       "[5 rows x 26 columns]"
      ]
     },
     "execution_count": 4,
     "metadata": {},
     "output_type": "execute_result"
    }
   ],
   "source": [
    "nba_numeric = nba[distance_columns]\n",
    "nba_numeric.head(5)\n",
    "\n",
    "nba_normalized = (nba_numeric - nba_numeric.mean()) / nba_numeric.std()\n",
    "nba_normalized.head(5)"
   ]
  },
  {
   "cell_type": "markdown",
   "metadata": {},
   "source": [
    "###5: Finding the nearest neighbor"
   ]
  },
  {
   "cell_type": "markdown",
   "metadata": {},
   "source": [
    "We now know enough to find the nearest neighbor of a given row. We can use the distance.euclidean function from scipy.spatial, a much faster way to calculate euclidean distance."
   ]
  },
  {
   "cell_type": "markdown",
   "metadata": {},
   "source": [
    "####Instructions"
   ]
  },
  {
   "cell_type": "markdown",
   "metadata": {},
   "source": [
    "Find the player most similar to LeBron James by our distance metric. You can do this by finding the second lowest value in the euclidean_distances series (the lowest value will correspond to lebron, as he is most similar to himself), and then cross-referencing the nba dataframe with the same index.\n",
    "\n",
    "Assign the name of the player to most_similar_to_lebron."
   ]
  },
  {
   "cell_type": "code",
   "execution_count": 5,
   "metadata": {
    "collapsed": false
   },
   "outputs": [
    {
     "name": "stdout",
     "output_type": "stream",
     "text": [
      "most_similar_to_lebron: Russell Westbrook\n"
     ]
    }
   ],
   "source": [
    "from scipy.spatial import distance\n",
    "\n",
    "# Fill in NA values in nba_normalized.\n",
    "nba_normalized.fillna(0, inplace=True)\n",
    "\n",
    "# Find the normalized vector for lebron james.\n",
    "lebron_normalized = nba_normalized[nba[\"Player\"] == \"LeBron James\"]\n",
    "\n",
    "# Find the distance between lebron james and everyone else.\n",
    "euclidean_distances = nba_normalized.apply(lambda row: distance.euclidean(row, lebron_normalized), axis=1)\n",
    "distance_frame = pandas.DataFrame(data={\"dist\": euclidean_distances, \"idx\": euclidean_distances.index})\n",
    "distance_frame.sort(\"dist\", inplace=True)\n",
    "\n",
    "second_smallest = distance_frame.iloc[1][\"idx\"]\n",
    "\n",
    "most_similar_to_lebron = nba.loc[int(second_smallest)][\"Player\"]\n",
    "print(\"most_similar_to_lebron:\", most_similar_to_lebron)"
   ]
  },
  {
   "cell_type": "markdown",
   "metadata": {},
   "source": [
    "###6: Generating training and testing sets"
   ]
  },
  {
   "cell_type": "markdown",
   "metadata": {},
   "source": [
    "Now that we know how to find the nearest neighbors, we can make predictions on a test set.\n",
    "\n",
    "First, we have to generate test and train sets. In order to do this, we'll use random sampling. We'll randomly shuffle the index of the nba dataframe, and then pick rows using the randomly shuffled values.\n",
    "\n",
    "If we didn't do this, we'd end up predicting and training on the same data set, which would overfit. We could do cross validation also, which would be slightly better, but slightly more complex."
   ]
  },
  {
   "cell_type": "code",
   "execution_count": 6,
   "metadata": {
    "collapsed": false
   },
   "outputs": [],
   "source": [
    "import random\n",
    "from numpy.random import permutation\n",
    "\n",
    "# Randomly shuffle the index of nba.\n",
    "random_indices = permutation(nba.index)\n",
    "\n",
    "# Set a cutoff for how many items we want in the test set (in this case 1/3 of the items).\n",
    "test_cutoff = math.floor(len(nba)/3)\n",
    "\n",
    "# Generate the test set by taking the first 1/3 of the randomly shuffled indices.\n",
    "test = nba.loc[random_indices[1:test_cutoff]]\n",
    "\n",
    "# Generate the train set with the rest of the data.\n",
    "train = nba.loc[random_indices[test_cutoff:]]"
   ]
  },
  {
   "cell_type": "markdown",
   "metadata": {},
   "source": [
    "###7: Using sklearn"
   ]
  },
  {
   "cell_type": "markdown",
   "metadata": {},
   "source": [
    "Instead of having to do it all ourselves, we can use the k-nearest neighbors implementation in scikit-learn. <a href = \"http://scikit-learn.org/stable/modules/neighbors.html\">Here's</a> the documentation. There's a regressor and a classifier available, but we'll be using the regressor, as we have continuous values to predict on.\n",
    "\n",
    "Sklearn performs the normalization and distance finding automatically, and lets us specify how many neighbors we want to look at."
   ]
  },
  {
   "cell_type": "code",
   "execution_count": 10,
   "metadata": {
    "collapsed": false
   },
   "outputs": [
    {
     "name": "stdout",
     "output_type": "stream",
     "text": [
      "predictions[:5]:\n",
      " [[  58.2]\n",
      " [  73. ]\n",
      " [ 490.6]\n",
      " [ 194.2]\n",
      " [ 372.2]]\n"
     ]
    }
   ],
   "source": [
    "from sklearn.neighbors import KNeighborsRegressor\n",
    "\n",
    "# The columns that we will be making predictions with.\n",
    "x_columns = ['Age', 'G', 'GS', 'MP', 'FG', 'FGA', 'FG%', '3P', '3PA',\n",
    " '3P.1', '2P', '2PA', '2P.1', 'eFG%', 'FT', 'FTA', 'FT%', 'ORB', 'DRB', 'TRB', 'AST',\n",
    " 'STL', 'BLK', 'TOV', 'PF']\n",
    "# The column that we want to predict.\n",
    "y_column = ['PTS']\n",
    "\n",
    "# Create the knn model.\n",
    "knn = KNeighborsRegressor(n_neighbors=5)\n",
    "\n",
    "# Fit the model on the training data.\n",
    "knn.fit(train[x_columns], train[y_column])\n",
    "\n",
    "# Make predictions on the test set using the fit model.\n",
    "predictions = knn.predict(test[x_columns])\n",
    "\n",
    "print(\"predictions[:5]:\\n\", predictions[:5])"
   ]
  },
  {
   "cell_type": "markdown",
   "metadata": {},
   "source": [
    "###8: Computing error"
   ]
  },
  {
   "cell_type": "markdown",
   "metadata": {},
   "source": [
    "Now that we know our predictions, we can compute the error involved. We can compute <a href = \"http://en.wikipedia.org/wiki/Mean_squared_error\">mean squared error</a>. The formula is $\\frac{1}{n}\\sum_{i=1}^{n}(\\hat{y_{i}} - y_{i})^{2}$."
   ]
  },
  {
   "cell_type": "markdown",
   "metadata": {},
   "source": [
    "####Instructions"
   ]
  },
  {
   "cell_type": "markdown",
   "metadata": {},
   "source": [
    "Compute the mean squared error between actual and predictions. Assign the result to mse."
   ]
  },
  {
   "cell_type": "code",
   "execution_count": 9,
   "metadata": {
    "collapsed": false
   },
   "outputs": [
    {
     "name": "stdout",
     "output_type": "stream",
     "text": [
      "actual[:20]:\n",
      "       PTS\n",
      "15     44\n",
      "361    51\n",
      "438   441\n",
      "406   232\n",
      "113   486\n",
      "311    77\n",
      "216   625\n",
      "370   165\n",
      "547   353\n",
      "350  1077\n",
      "583   146\n",
      "585   929\n",
      "559   531\n",
      "371   729\n",
      "92      0\n",
      "28    356\n",
      "501   687\n",
      "211   208\n",
      "255  1038\n",
      "264  2036\n",
      "mse: PTS    4925.349895\n",
      "dtype: float64\n"
     ]
    }
   ],
   "source": [
    "actual = test[y_column]\n",
    "\n",
    "mse = (((predictions - actual) ** 2).sum()) / len(predictions)\n",
    "\n",
    "print(\"actual[:20]:\\n\", actual[:20])\n",
    "print(\"mse:\", mse)"
   ]
  }
 ],
 "metadata": {
  "kernelspec": {
   "display_name": "Python 3",
   "language": "python",
   "name": "python3"
  },
  "language_info": {
   "codemirror_mode": {
    "name": "ipython",
    "version": 3
   },
   "file_extension": ".py",
   "mimetype": "text/x-python",
   "name": "python",
   "nbconvert_exporter": "python",
   "pygments_lexer": "ipython3",
   "version": "3.4.3"
  }
 },
 "nbformat": 4,
 "nbformat_minor": 0
}
