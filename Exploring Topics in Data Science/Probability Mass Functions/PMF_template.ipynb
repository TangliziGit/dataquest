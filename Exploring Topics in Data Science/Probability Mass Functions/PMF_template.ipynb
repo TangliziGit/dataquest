{
 "cells": [
  {
   "cell_type": "code",
   "execution_count": 1,
   "metadata": {
    "collapsed": true
   },
   "outputs": [],
   "source": [
    "from __future__ import print_function"
   ]
  },
  {
   "cell_type": "markdown",
   "metadata": {},
   "source": [
    "#Exploring Topics in Data Science"
   ]
  },
  {
   "cell_type": "markdown",
   "metadata": {},
   "source": [
    "##Probability mass functions"
   ]
  },
  {
   "cell_type": "markdown",
   "metadata": {},
   "source": [
    "###1: Introduction to the data"
   ]
  },
  {
   "cell_type": "markdown",
   "metadata": {},
   "source": [
    "In this lesson, we'll be working with data from the <a href= \"http://www.cdc.gov/nchs/nsfg.htm\">National Survey of Family Growth</a>. The data was collected from January 2002 to March 2003. It contains data on pregnancy, family life, and more. We'll use it to explore various correlations.\n",
    "\n",
    "We've selected a few columns from the original data, which are:\n",
    "- prglngth -- the length of the pregnancy in weeks.\n",
    "- birthord -- which child this was for the pregnant mother.\n",
    "- birthwgt_lb1 -- the pounds portion of the birth weight.\n",
    "- birthwgt_oz1 -- the ounces portion of the birth weight.\n",
    "- agepreg -- the mother's age at the end of the pregnancy, in years.\n",
    "\n",
    "This lesson is based on Chapter 3 of <a href = \"http://www.thinkstats2.com/\">Think Stats, 2nd edition, by Allen Downey</a>."
   ]
  },
  {
   "cell_type": "markdown",
   "metadata": {},
   "source": [
    "####Instructions"
   ]
  },
  {
   "cell_type": "markdown",
   "metadata": {},
   "source": [
    "Find the mean agepreg for mothers in firsts. Assign the result to mean_firsts_agepreg.\n",
    "\n",
    "Find the mean agepreg for mothers in others. Assign the result to mean_others_agepreg."
   ]
  },
  {
   "cell_type": "code",
   "execution_count": 2,
   "metadata": {
    "collapsed": false
   },
   "outputs": [],
   "source": [
    "# %load nsfg\n",
    "\"\"\"This file contains code for use with \"Think Stats\",\n",
    "by Allen B. Downey, available from greenteapress.com\n",
    "\n",
    "Copyright 2010 Allen B. Downey\n",
    "License: GNU GPLv3 http://www.gnu.org/licenses/gpl.html\n",
    "\"\"\"\n",
    "\n",
    "from collections import defaultdict\n",
    "import numpy as np\n",
    "import pandas\n",
    "import re\n",
    "import sys\n",
    "\n",
    "\n",
    "def ReadStataDct(dct_file, **options):\n",
    "    \"\"\"Reads a Stata dictionary file.\n",
    "\n",
    "    dct_file: string filename\n",
    "    options: dict of options passed to open()\n",
    "\n",
    "    returns: FixedWidthVariables object\n",
    "    \"\"\"\n",
    "    type_map = dict(byte=int, int=int, long=int, float=float, double=float)\n",
    "\n",
    "    var_info = []\n",
    "    for line in open(dct_file, **options):\n",
    "        match = re.search( r'_column\\(([^)]*)\\)', line)\n",
    "        if match:\n",
    "            start = int(match.group(1))\n",
    "            t = line.split()\n",
    "            vtype, name, fstring = t[1:4]\n",
    "            name = name.lower()\n",
    "            if vtype.startswith('str'):\n",
    "                vtype = str\n",
    "            else:\n",
    "                vtype = type_map[vtype]\n",
    "            long_desc = ' '.join(t[4:]).strip('\"')\n",
    "            var_info.append((start, vtype, name, fstring, long_desc))\n",
    "            \n",
    "    columns = ['start', 'type', 'name', 'fstring', 'desc']\n",
    "    variables = pandas.DataFrame(var_info, columns=columns)\n",
    "\n",
    "    # fill in the end column by shifting the start column\n",
    "    variables['end'] = variables.start.shift(-1)\n",
    "    variables.loc[len(variables)-1, 'end'] = 0\n",
    "\n",
    "    dct = FixedWidthVariables(variables, index_base=1)\n",
    "    return dct\n",
    "\n",
    "\n",
    "class FixedWidthVariables(object):\n",
    "    \"\"\"Represents a set of variables in a fixed width file.\"\"\"\n",
    "\n",
    "    def __init__(self, variables, index_base=0):\n",
    "        \"\"\"Initializes.\n",
    "\n",
    "        variables: DataFrame\n",
    "        index_base: are the indices 0 or 1 based?\n",
    "\n",
    "        Attributes:\n",
    "        colspecs: list of (start, end) index tuples\n",
    "        names: list of string variable names\n",
    "        \"\"\"\n",
    "        self.variables = variables\n",
    "\n",
    "        # note: by default, subtract 1 from colspecs\n",
    "        self.colspecs = variables[['start', 'end']] - index_base\n",
    "\n",
    "        # convert colspecs to a list of pair of int\n",
    "        self.colspecs = self.colspecs.astype(np.int).values.tolist()\n",
    "        self.names = variables['name']\n",
    "\n",
    "    def ReadFixedWidth(self, filename, **options):\n",
    "        \"\"\"Reads a fixed width ASCII file.\n",
    "\n",
    "        filename: string filename\n",
    "\n",
    "        returns: DataFrame\n",
    "        \"\"\"\n",
    "        df = pandas.read_fwf(filename,\n",
    "                             colspecs=self.colspecs, \n",
    "                             names=self.names,\n",
    "                             **options)\n",
    "        return df\n",
    "\n",
    "    \n",
    "def ReadFemPreg(dct_file='data/2002FemPreg.dct',\n",
    "                dat_file='data/2002FemPreg.dat.gz'):\n",
    "    \"\"\"Reads the NSFG pregnancy data.\n",
    "\n",
    "    dct_file: string file name\n",
    "    dat_file: string file name\n",
    "\n",
    "    returns: DataFrame\n",
    "    \"\"\"\n",
    "    dct = ReadStataDct(dct_file)\n",
    "    df = dct.ReadFixedWidth(dat_file, compression='gzip')\n",
    "    CleanFemPreg(df)\n",
    "    return df\n",
    "\n",
    "\n",
    "def CleanFemPreg(df):\n",
    "    \"\"\"Recodes variables from the pregnancy frame.\n",
    "\n",
    "    df: DataFrame\n",
    "    \"\"\"\n",
    "    # mother's age is encoded in centiyears; convert to years\n",
    "    df.agepreg /= 100.0\n",
    "\n",
    "    # birthwgt_lb contains at least one bogus value (51 lbs)\n",
    "    # replace with NaN\n",
    "    df.birthwgt_lb[df.birthwgt_lb > 20] = np.nan\n",
    "    \n",
    "    # replace 'not ascertained', 'refused', 'don't know' with NaN\n",
    "    na_vals = [97, 98, 99]\n",
    "    df.birthwgt_lb.replace(na_vals, np.nan, inplace=True)\n",
    "    df.birthwgt_oz.replace(na_vals, np.nan, inplace=True)\n",
    "    df.hpagelb.replace(na_vals, np.nan, inplace=True)\n",
    "\n",
    "    df.babysex.replace([7, 9], np.nan, inplace=True)\n",
    "    df.nbrnaliv.replace([9], np.nan, inplace=True)\n",
    "\n",
    "    # birthweight is stored in two columns, lbs and oz.\n",
    "    # convert to a single column in lb\n",
    "    # NOTE: creating a new column requires dictionary syntax,\n",
    "    # not attribute assignment (like df.totalwgt_lb)\n",
    "    df['totalwgt_lb'] = df.birthwgt_lb + df.birthwgt_oz / 16.0    \n",
    "\n",
    "    # due to a bug in ReadStataDct, the last variable gets clipped;\n",
    "    # so for now set it to NaN\n",
    "    df.cmintvw = np.nan\n",
    "\n",
    "\n",
    "def MakePregMap(df):\n",
    "    \"\"\"Make a map from caseid to list of preg indices.\n",
    "\n",
    "    df: DataFrame\n",
    "\n",
    "    returns: dict that maps from caseid to list of indices into preg df\n",
    "    \"\"\"\n",
    "    d = defaultdict(list)\n",
    "    for index, caseid in df.caseid.iteritems():\n",
    "        d[caseid].append(index)\n",
    "    return d\n",
    "\n",
    "\n",
    "def main(script):\n",
    "    \"\"\"Tests the functions in this module.\n",
    "\n",
    "    script: string script name\n",
    "    \"\"\"\n",
    "    df = ReadFemPreg()\n",
    "    print(df.shape)\n",
    "\n",
    "    assert len(df) == 13593\n",
    "\n",
    "    assert df.caseid[13592] == 12571\n",
    "    assert df.pregordr.value_counts()[1] == 5033\n",
    "    assert df.nbrnaliv.value_counts()[1] == 8981\n",
    "    assert df.babysex.value_counts()[1] == 4641\n",
    "    assert df.birthwgt_lb.value_counts()[7] == 3049\n",
    "    assert df.birthwgt_oz.value_counts()[0] == 1037\n",
    "    assert df.prglngth.value_counts()[39] == 4744\n",
    "    assert df.outcome.value_counts()[1] == 9148\n",
    "    assert df.birthord.value_counts()[1] == 4413\n",
    "    assert df.agepreg.value_counts()[22.75] == 100\n",
    "    assert df.totalwgt_lb.value_counts()[7.5] == 302\n",
    "\n",
    "    weights = df.finalwgt.value_counts()\n",
    "    key = max(weights.keys())\n",
    "    assert df.finalwgt.value_counts()[key] == 6\n",
    "\n",
    "    print('%s: All tests passed.' % script)\n",
    "\n",
    "#if __name__ == '__main__':\n",
    "#    main(*sys.argv)"
   ]
  },
  {
   "cell_type": "code",
   "execution_count": 3,
   "metadata": {
    "collapsed": false
   },
   "outputs": [
    {
     "name": "stdout",
     "output_type": "stream",
     "text": [
      "others.shape: (4735, 5)\n",
      "firsts.shape: (4413, 5)\n"
     ]
    },
    {
     "name": "stderr",
     "output_type": "stream",
     "text": [
      "C:\\Anaconda3\\lib\\site-packages\\ipykernel\\__main__.py:113: SettingWithCopyWarning: \n",
      "A value is trying to be set on a copy of a slice from a DataFrame\n",
      "\n",
      "See the the caveats in the documentation: http://pandas.pydata.org/pandas-docs/stable/indexing.html#indexing-view-versus-copy\n"
     ]
    }
   ],
   "source": [
    " preg = ReadFemPreg()\n",
    "#list(preg.columns.values)\n",
    "\n",
    "births = preg[['prglngth', 'birthord', 'birthwgt_lb', 'birthwgt_oz', 'agepreg']]\n",
    "#print(\"births:\", births)\n",
    "\n",
    "# There are large differences between the first pregnancy and subsequent onces, so let's split the data up.\n",
    "firsts = births[births[\"birthord\"] == 1]\n",
    "others = births[births[\"birthord\"] > 1]\n",
    "\n",
    "# We end up with around 7000 rows for each.\n",
    "print(\"others.shape:\", others.shape)\n",
    "print(\"firsts.shape:\", firsts.shape)\n",
    "\n",
    "mean_firsts_agepreg = firsts[\"agepreg\"].mean()\n",
    "mean_others_agepreg = others[\"agepreg\"].mean()"
   ]
  },
  {
   "cell_type": "markdown",
   "metadata": {},
   "source": [
    "###2: What's a PMF?"
   ]
  },
  {
   "cell_type": "markdown",
   "metadata": {},
   "source": [
    "A <a href = \"http://en.wikipedia.org/wiki/Probability_mass_function\">probability mass function</a> is a function that maps from a discrete rabdom variable to the probability of each value occuring. In the case of our dataset, a discrete random variable is just a column.\n",
    "\n",
    "Before we generate a probability mass function, we generate a histogram, which just contains counts of each unique value occuring."
   ]
  },
  {
   "cell_type": "markdown",
   "metadata": {},
   "source": [
    "####Instructions"
   ]
  },
  {
   "cell_type": "markdown",
   "metadata": {},
   "source": [
    "Extend the Pmf class to generate probabilities instead of counts. Once easy way to achieve this is to divide the count of each unique item by the total number of items. All the probabilities should sum to 1.\n",
    "\n",
    "Assign the dictionary containing the probability of each unique value occuring in the column prglngth in firsts to prglngth_firsts_pmf."
   ]
  },
  {
   "cell_type": "code",
   "execution_count": 4,
   "metadata": {
    "collapsed": false
   },
   "outputs": [
    {
     "name": "stdout",
     "output_type": "stream",
     "text": [
      "prglngth_firsts_hist.counts: {0: 1, 17: 1, 20: 1, 21: 1, 22: 3, 23: 1, 24: 7, 25: 1, 26: 16, 27: 1, 28: 24, 29: 9, 30: 73, 31: 15, 32: 55, 33: 28, 34: 29, 35: 159, 36: 172, 37: 208, 38: 272, 39: 2114, 40: 536, 41: 360, 42: 205, 43: 87, 44: 23, 45: 6, 46: 1, 47: 1, 48: 3}\n",
      "prglngth_firsts_pmf: {0: 0.00022660321776569228, 17: 0.00022660321776569228, 20: 0.00022660321776569228, 21: 0.00022660321776569228, 22: 0.0006798096532970768, 23: 0.00022660321776569228, 24: 0.0015862225243598459, 25: 0.00022660321776569228, 26: 0.0036256514842510764, 27: 0.00022660321776569228, 28: 0.005438477226376614, 29: 0.0020394289598912306, 30: 0.016542034896895538, 31: 0.003399048266485384, 32: 0.012463176977113076, 33: 0.0063448900974393836, 34: 0.006571493315205076, 35: 0.03602991162474507, 36: 0.03897575345569907, 37: 0.04713346929526399, 38: 0.0616360752322683, 39: 0.47903920235667347, 40: 0.12145932472241106, 41: 0.08157715839564922, 42: 0.04645365964196692, 43: 0.01971447994561523, 44: 0.005211874008610922, 45: 0.0013596193065941536, 46: 0.00022660321776569228, 47: 0.00022660321776569228, 48: 0.0006798096532970768}\n"
     ]
    }
   ],
   "source": [
    "# Let's make a histogram class that counts up all the unique values in a column.\n",
    "from collections import Counter\n",
    "\n",
    "class Hist(object):\n",
    "    def __init__(self, column):\n",
    "        counts = Counter(column)\n",
    "        self.counts = dict(counts)\n",
    "\n",
    "# We can use the class to count up the unique values in prglngth.\n",
    "prglngth_firsts_hist = Hist(firsts[\"prglngth\"])\n",
    "print(\"prglngth_firsts_hist.counts:\", prglngth_firsts_hist.counts)\n",
    "\n",
    "class Pmf(Hist):\n",
    "    def __init__(self, column):\n",
    "        counts = Counter(column)\n",
    "        self.counts = dict(counts)\n",
    "        total = float(len(column))\n",
    "        for c in self.counts:\n",
    "            self.counts[c] /= total\n",
    "\n",
    "prglngth_firsts_pmf = Pmf(firsts[\"prglngth\"]).counts\n",
    "print(\"prglngth_firsts_pmf:\", prglngth_firsts_pmf)"
   ]
  },
  {
   "cell_type": "markdown",
   "metadata": {},
   "source": [
    "###3: Plotting a pmf"
   ]
  },
  {
   "cell_type": "markdown",
   "metadata": {},
   "source": [
    "We can plot a pmf to see the probability distribution. This can be done with matplotlib."
   ]
  },
  {
   "cell_type": "markdown",
   "metadata": {},
   "source": [
    "####Instructions"
   ]
  },
  {
   "cell_type": "markdown",
   "metadata": {},
   "source": [
    "prglngth_firsts_pmf and prglngth_others_pmf are both dictionaries containing the probabilities of each value in their respective dataset and column pairs occuring. prglngth_firsts_pmf contains probabilities for prglngth in the firsts dataset.\n",
    "\n",
    "Plot both pmfs as basic bar charts, using the template plt.bar(x, y). Be sure to use plt.show() after plotting each pmf. Also be sure to sort the dictionary keys from lowest to highest before you plot."
   ]
  },
  {
   "cell_type": "code",
   "execution_count": 5,
   "metadata": {
    "collapsed": false
   },
   "outputs": [
    {
     "data": {
      "image/png": "[encoded data removed]",
      "text/plain": [
       "<matplotlib.figure.Figure at 0xe6a68d0>"
      ]
     },
     "metadata": {},
     "output_type": "display_data"
    },
    {
     "data": {
      "image/png": "[encoded data removed]",
      "text/plain": [
       "<matplotlib.figure.Figure at 0xb9b2fd0>"
      ]
     },
     "metadata": {},
     "output_type": "display_data"
    }
   ],
   "source": [
    "import matplotlib.pyplot as plt\n",
    "%matplotlib inline\n",
    "\n",
    "prglngth_others_pmf = Pmf(others[\"prglngth\"]).counts\n",
    "\n",
    "def get_plot_data(pmf):\n",
    "    keys = sorted(pmf.keys())\n",
    "    y = [pmf[k] for k in keys]\n",
    "    return keys, y\n",
    "\n",
    "firsts_pmf = get_plot_data(prglngth_firsts_pmf)\n",
    "others_pmf = get_plot_data(prglngth_others_pmf)\n",
    "\n",
    "plt.bar(firsts_pmf[0], firsts_pmf[1])\n",
    "plt.show()\n",
    "\n",
    "plt.bar(others_pmf[0], others_pmf[1])\n",
    "plt.show()"
   ]
  },
  {
   "cell_type": "markdown",
   "metadata": {},
   "source": [
    "###4: Finding differences between PMFs"
   ]
  },
  {
   "cell_type": "markdown",
   "metadata": {},
   "source": [
    "We can also find the difference between 2 PMFs. This is as simple as subtracting the probabilities of each value occuring for one from the other. It is made slightly complicated by dealing with values that only occur in one, but not the other."
   ]
  },
  {
   "cell_type": "markdown",
   "metadata": {},
   "source": [
    "####Instructions"
   ]
  },
  {
   "cell_type": "markdown",
   "metadata": {},
   "source": [
    "Make a list of all the keys that occur in prglngth_firsts_pmf and prglngth_others_pmf. These keys should be unique (each value in the list should only occur once). Sort this list in ascending order. Assign this to prglngth_all_keys.\n",
    "\n",
    "For each key in prglngth_all_keys, find the corresponding probability in prglngth_firsts_pmf (probability is 0 if key not found) and subtract the corresponding probability in prglngth_others_pmf. Make a list with all the results, called prglngth_prob_diffs.\n",
    "\n",
    "Make a basic bar plot with prglngth_all_keys on the x axis, and prglngth_prob_diffs on the y axis."
   ]
  },
  {
   "cell_type": "code",
   "execution_count": 6,
   "metadata": {
    "collapsed": false
   },
   "outputs": [
    {
     "data": {
      "image/png": "[encoded data removed]",
      "text/plain": [
       "<matplotlib.figure.Figure at 0xb5e4e80>"
      ]
     },
     "metadata": {},
     "output_type": "display_data"
    }
   ],
   "source": [
    "import matplotlib.pyplot as plt\n",
    "%matplotlib inline\n",
    "\n",
    "combined_keys = list(prglngth_firsts_pmf.keys()) + list(prglngth_others_pmf.keys())\n",
    "unique_keys = list(set(combined_keys))\n",
    "all_keys = sorted(unique_keys)\n",
    "prglngth_prob_diffs = [prglngth_firsts_pmf.get(k, 0) - prglngth_others_pmf.get(k, 0) for k in all_keys]\n",
    "\n",
    "plt.bar(all_keys, prglngth_prob_diffs)\n",
    "plt.show()"
   ]
  }
 ],
 "metadata": {
  "kernelspec": {
   "display_name": "Python 3",
   "language": "python",
   "name": "python3"
  },
  "language_info": {
   "codemirror_mode": {
    "name": "ipython",
    "version": 3
   },
   "file_extension": ".py",
   "mimetype": "text/x-python",
   "name": "python",
   "nbconvert_exporter": "python",
   "pygments_lexer": "ipython3",
   "version": "3.4.3"
  }
 },
 "nbformat": 4,
 "nbformat_minor": 0
}
