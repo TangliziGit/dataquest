{
 "cells": [
  {
   "cell_type": "code",
   "execution_count": 1,
   "metadata": {
    "collapsed": true
   },
   "outputs": [],
   "source": [
    "from __future__ import print_function"
   ]
  },
  {
   "cell_type": "markdown",
   "metadata": {},
   "source": [
    "#APIs and Web Scraping"
   ]
  },
  {
   "cell_type": "markdown",
   "metadata": {},
   "source": [
    "##Web scraping"
   ]
  },
  {
   "cell_type": "markdown",
   "metadata": {},
   "source": [
    "###1: Introduction"
   ]
  },
  {
   "cell_type": "markdown",
   "metadata": {},
   "source": [
    "There is a lot of data that doesn't exist in dataset or API form. A lot of this data is present on the internet, in webpages we interact with. One way to access this data without waiting for the provider to create an API is to use a technique called web scraping.\n",
    "\n",
    "Web scraping allows us to load a webpage into python, and extract the information we want. We can then work with the data using normal data analysis tools, like pandas and numpy.\n",
    "\n",
    "In order to perform web scraping, we need to understand the structure of the webpage that we're working with, then find a way to extract parts of that structure in a sensible way.\n",
    "\n",
    "As we learn about web scraping, we'll be heavily using the requests library, which enables us to download a webpage, and the beautifulsoup library, which enables us to extract the relevant parts of a webpage."
   ]
  },
  {
   "cell_type": "markdown",
   "metadata": {},
   "source": [
    "###2: Webpage structure"
   ]
  },
  {
   "cell_type": "markdown",
   "metadata": {},
   "source": [
    "Webpages are coded in HyperText Markup Language (HTML). HTML is not a programming language, like python, but it is a markup language, and has its own syntax and rules. When a web browser, like Chrome or Firefox, downloads a webpage, it reads the HTML to know how to render the webpage and display it to you.\n",
    "\n",
    "Here is the HTML of a very simple webpage:\n",
    "\n",
    "    <html>\n",
    "        <head>\n",
    "            <title>A simple example page</title>\n",
    "        </head>\n",
    "        <body>\n",
    "            <p>Here is some simple content for this page.</p>\n",
    "        </body>\n",
    "    </html>\n",
    "\n",
    "\n",
    "You can see this page here. HTML, as you can see, is made up of tags. A tag is opened, like `<p>`, and closed, like `</p>`. Anything in between the opening and closing of a tag is the content of that tag. Tags can be nested to create complex formatting rules. For instance:\n",
    "\n",
    "    <p><b>Hello, this is a bold paragraph.</b></p>\n",
    "\n",
    "The above HTML will be displayed as a bold paragraph because the b tag, which bolds its contents, is inside the p tag. We would say that the b tag is nested within the p tag.\n",
    "\n",
    "The composition of an HTML document is broadly split up into the `<head>` section, which contains information that is useful to the web browser that is rendering the page, but isn't shown to the user, and the `<body>` section, which contains the main information that is shown to the user on the page.\n",
    "\n",
    "Different tags have different purposes. For example, the title tag tells the web browser what to show as the title of the page in an open tab. The p tag indicates that the content inside is a single paragraph."
   ]
  },
  {
   "cell_type": "markdown",
   "metadata": {},
   "source": [
    "####Instructions"
   ]
  },
  {
   "cell_type": "markdown",
   "metadata": {},
   "source": [
    "Make a GET request to get http://dataquestio.github.io/web-scraping-pages/simple.html. Assign the result to the variable response. Use response.content to get the content of the response. Assign the content to content. Note how the content is the same as the HTML shown above."
   ]
  },
  {
   "cell_type": "code",
   "execution_count": 2,
   "metadata": {
    "collapsed": false
   },
   "outputs": [
    {
     "name": "stdout",
     "output_type": "stream",
     "text": [
      "content: b'<!DOCTYPE html>\\n<html>\\n    <head>\\n        <title>A simple example page</title>\\n    </head>\\n    <body>\\n        <p>Here is some simple content for this page.</p>\\n    </body>\\n</html>'\n"
     ]
    }
   ],
   "source": [
    "import requests\n",
    "\n",
    "response = requests.get(\"http://dataquestio.github.io/web-scraping-pages/simple.html\")\n",
    "content = response.content\n",
    "print(\"content:\", content)"
   ]
  },
  {
   "cell_type": "markdown",
   "metadata": {},
   "source": [
    "###3: Retrieving elements from a page"
   ]
  },
  {
   "cell_type": "markdown",
   "metadata": {},
   "source": [
    "Downloading the page is the easy part. Let's say that we want to get the text in the first paragraph. Now we need to parse the page and extract the information that we want. \n",
    "\n",
    "In order to parse the webpage with python, we'll use the <a href = \"http://www.crummy.com/software/BeautifulSoup/\">BeautifulSoup library</a>. This library allows us to extract tags from an HTML document.\n",
    "\n",
    "HTML documents can be thought of as trees due to how tags are nested, and BeautifulSoup works the same way.\n",
    "\n",
    "For example, looking at this page:\n",
    "\n",
    "    <html>\n",
    "        <head>\n",
    "            <title>A simple example page</title>\n",
    "        </head>\n",
    "        <body>\n",
    "            <p>Here is some simple content for this page.</p>\n",
    "        </body>\n",
    "    </html>\n",
    "\n",
    "The root of the \"tree\" is the html tag. Inside the html tag are two \"branches\", head and body. Inside head is one \"branch\", title. Inside body is one branch, p. Drilling down through these multiple branches is one way to parse a webpage.\n",
    "\n",
    "In order to get the text inside the p tag, we would first get the body element, then get the p element, then finally get the text of the p element."
   ]
  },
  {
   "cell_type": "markdown",
   "metadata": {},
   "source": [
    "####Instructions"
   ]
  },
  {
   "cell_type": "markdown",
   "metadata": {},
   "source": [
    "Get the text inside the title tag. Assign the result to title_text."
   ]
  },
  {
   "cell_type": "code",
   "execution_count": 3,
   "metadata": {
    "collapsed": false
   },
   "outputs": [
    {
     "name": "stdout",
     "output_type": "stream",
     "text": [
      "p.text: Here is some simple content for this page.\n"
     ]
    }
   ],
   "source": [
    "from bs4 import BeautifulSoup\n",
    "\n",
    "# Initialize the parser, and pass in the content we grabbed earlier.\n",
    "parser = BeautifulSoup(content, \"html.parser\")\n",
    "\n",
    "# Get the body tag from the document.\n",
    "# Since we passed in the top level of the document to the parser, we need to pick a branch off of the root.\n",
    "# With beautifulsoup, we can access branches by simply using tag types as \n",
    "body = parser.body\n",
    "\n",
    "# Get the p tag from the body.\n",
    "p = body.p\n",
    "\n",
    "# Print the text of the p tag.\n",
    "# Text is a property that gets the inside text of a tag.\n",
    "print(\"p.text:\", p.text)\n",
    "\n",
    "head = parser.head\n",
    "title = head.title\n",
    "title_text = title.text"
   ]
  },
  {
   "cell_type": "markdown",
   "metadata": {},
   "source": [
    "###4: Using find all"
   ]
  },
  {
   "cell_type": "markdown",
   "metadata": {},
   "source": [
    "While it's nice to use the tag type as a property, it doesn't always lead to a very robust way to parse a document. Usually, it's better to be more explicit and use the find_all method. find_all will find all occurences of a tag in the current element.\n",
    "\n",
    "find_all will return a list. If we want only the first occurence of an item, we'll need to index the list to get it. Other than that, it behaves the same way as passing the tag type as an attribute."
   ]
  },
  {
   "cell_type": "markdown",
   "metadata": {},
   "source": [
    "####Instructions"
   ]
  },
  {
   "cell_type": "markdown",
   "metadata": {},
   "source": [
    "Use the find_all method to get the text inside the title tag. Assign the result to title_text."
   ]
  },
  {
   "cell_type": "code",
   "execution_count": 4,
   "metadata": {
    "collapsed": false
   },
   "outputs": [
    {
     "name": "stdout",
     "output_type": "stream",
     "text": [
      "p[0].text: Here is some simple content for this page.\n"
     ]
    }
   ],
   "source": [
    "parser = BeautifulSoup(content, 'html.parser')\n",
    "\n",
    "# Get a list of all occurences of the body tag in the element.\n",
    "body = parser.find_all(\"body\")\n",
    "\n",
    "# Get the paragraph tag.\n",
    "p = body[0].find_all(\"p\")\n",
    "\n",
    "# Get the text.\n",
    "print(\"p[0].text:\", p[0].text)\n",
    "\n",
    "head = parser.find_all(\"head\")\n",
    "title = head[0].find_all(\"title\")\n",
    "title_text = title[0].text"
   ]
  },
  {
   "cell_type": "markdown",
   "metadata": {},
   "source": [
    "###5: Element ids"
   ]
  },
  {
   "cell_type": "markdown",
   "metadata": {},
   "source": [
    "HTML allows elements to have ids. These ids are unique, and can be used to refer to a specific element.\n",
    "\n",
    "Here's an example page:\n",
    "\n",
    "    <html>\n",
    "        <head>\n",
    "            <title>A simple example page</title>\n",
    "        </head>\n",
    "        <body>\n",
    "            <div>\n",
    "                <p id=\"first\">\n",
    "                    First paragraph.\n",
    "                </p>\n",
    "            </div>\n",
    "            <p id=\"second\">\n",
    "                <b>\n",
    "                    Second paragraph.\n",
    "                </b>\n",
    "            </p>\n",
    "        </body>\n",
    "    </html>\n",
    "\n",
    "\n",
    "You can see the page <a href = \"http://dataquestio.github.io/web-scraping-pages/simple_ids.html\">here</a>.\n",
    "\n",
    "The div tag is used to indicate a division of the page -- it's used to split up the page into logical units. As you can see, there are two paragraphs on the page, and the first is nested inside a div. Luckily, the paragraphs have been assigned ids -- we can easily access them, even through they're nested.\n",
    "\n",
    "We can use find_all to do this, but we'll pass in the additional id attribute."
   ]
  },
  {
   "cell_type": "markdown",
   "metadata": {},
   "source": [
    "####Instructions"
   ]
  },
  {
   "cell_type": "markdown",
   "metadata": {},
   "source": [
    "Get the text of the second paragraph (what's inside the second p tag). Assign the result to second_paragraph_text."
   ]
  },
  {
   "cell_type": "code",
   "execution_count": 5,
   "metadata": {
    "collapsed": false
   },
   "outputs": [
    {
     "name": "stdout",
     "output_type": "stream",
     "text": [
      "first_paragraph.text: \n",
      "                First paragraph.\n",
      "            \n",
      "second_paragraph.text: \n",
      "\n",
      "                Second paragraph.\n",
      "            \n",
      "\n"
     ]
    }
   ],
   "source": [
    "# Get the page content and setup a new parser.\n",
    "response = requests.get(\"http://dataquestio.github.io/web-scraping-pages/simple_ids.html\")\n",
    "content = response.content\n",
    "parser = BeautifulSoup(content, 'html.parser')\n",
    "\n",
    "# Pass in the id attribute to only get elements with a certain id.\n",
    "first_paragraph = parser.find_all(\"p\", id=\"first\")[0]\n",
    "first_paragraph_text = first_paragraph.text\n",
    "print(\"first_paragraph.text:\", first_paragraph.text)\n",
    "\n",
    "second_paragraph = parser.find_all(\"p\", id=\"second\")[0]\n",
    "second_paragraph_text = second_paragraph.text\n",
    "print(\"second_paragraph.text:\", second_paragraph.text)"
   ]
  },
  {
   "cell_type": "markdown",
   "metadata": {},
   "source": [
    "###6: Element classes"
   ]
  },
  {
   "cell_type": "markdown",
   "metadata": {},
   "source": [
    "HTML enables elements to have classes. Classes aren't globally unique, and usually indicate that elements are linked. All elements with the same class usually share some kind of characteristic that leads the author of the page to group them into the same class. One element can have multiple classes.\n",
    "\n",
    "Classes and ids make pages easier to style with CSS.\n",
    "\n",
    "    <html>\n",
    "        <head>\n",
    "            <title>A simple example page</title>\n",
    "        </head>\n",
    "        <body>\n",
    "            <div>\n",
    "                <p class=\"inner-text\">\n",
    "                    First inner paragraph.\n",
    "                </p>\n",
    "                <p class=\"inner-text\">\n",
    "                    Second inner paragraph.\n",
    "                </p>\n",
    "            </div>\n",
    "            <p class=\"outer-text\">\n",
    "                <b>\n",
    "                    First outer paragraph.\n",
    "                </b>\n",
    "            </p>\n",
    "            <p class=\"outer-text\">\n",
    "                <b>\n",
    "                    Second outer paragraph.\n",
    "                </b>\n",
    "            </p>\n",
    "        </body>\n",
    "    </html>\n",
    "\n",
    "\n",
    "You can see the page <a href = \"http://dataquestio.github.io/web-scraping-pages/simple_classes.html\">here</a>.\n",
    "\n",
    "We can use find_all to select elements by class, we'll just need to pass in the class_ parameter."
   ]
  },
  {
   "cell_type": "markdown",
   "metadata": {},
   "source": [
    "####Instructions"
   ]
  },
  {
   "cell_type": "markdown",
   "metadata": {},
   "source": [
    "Get the text of the second inner paragraph. Assign the result to second_inner_paragraph_text. Get the text of the first outer paragraph. Assign the result to first_outer_paragraph_text."
   ]
  },
  {
   "cell_type": "code",
   "execution_count": 6,
   "metadata": {
    "collapsed": false
   },
   "outputs": [
    {
     "name": "stdout",
     "output_type": "stream",
     "text": [
      "first_inner_paragraph_text: \n",
      "                First paragraph.\n",
      "            \n",
      "second_inner_paragraph_text: \n",
      "                Second paragraph.\n",
      "            \n",
      "first_outer_paragraph_text: \n",
      "\n",
      "                First outer paragraph.\n",
      "            \n",
      "\n"
     ]
    }
   ],
   "source": [
    "import requests\n",
    "\n",
    "# Get the website that contains classes.\n",
    "response = requests.get(\"http://dataquestio.github.io/web-scraping-pages/simple_classes.html\")\n",
    "content = response.content\n",
    "parser = BeautifulSoup(content, \"html.parser\")\n",
    "\n",
    "# Get the first inner paragraph.\n",
    "# Find all the paragraph tags with the class inner-text.\n",
    "# Then take the first element in that list.\n",
    "first_inner_paragraph = parser.find_all(\"p\", class_=\"inner-text\")[0]\n",
    "first_inner_paragraph_text = first_inner_paragraph.text\n",
    "print(\"first_inner_paragraph_text:\", first_inner_paragraph_text)\n",
    "\n",
    "second_inner_paragraph = parser.find_all(\"p\", class_=\"inner-text\")[1]\n",
    "second_inner_paragraph_text = second_inner_paragraph.text\n",
    "print(\"second_inner_paragraph_text:\", second_inner_paragraph_text)\n",
    "\n",
    "first_outer_paragraph = parser.find_all(\"p\", class_=\"outer-text\")[0]\n",
    "first_outer_paragraph_text = first_outer_paragraph.text\n",
    "print(\"first_outer_paragraph_text:\", first_outer_paragraph_text)"
   ]
  },
  {
   "cell_type": "markdown",
   "metadata": {},
   "source": [
    "###7: CSS Selectors"
   ]
  },
  {
   "cell_type": "markdown",
   "metadata": {},
   "source": [
    "Cascading Style Sheets, or CSS, is a way to add style to HTML pages. You may have noticed that our simple HTML pages in the past few screens didn't have any styling -- the paragraphs were all black in color, and the same font size. Most web pages don't only consist of black text. The way that webpages are styled is through CSS. CSS uses selectors that select elements and classes to decide where to add certain stylistic touches, like color and font size changes. \n",
    "\n",
    "This CSS will make all text inside all paragraphs red:\n",
    "\n",
    "    p{\n",
    "        color: red\n",
    "    }\n",
    "\n",
    "\n",
    "This CSS will make all the text in any paragraphs with the class inner-text red. We select classes with the . symbol:\n",
    "\n",
    "    p.inner-text{\n",
    "        color: red\n",
    "    }\n",
    "\n",
    "\n",
    "This CSS will make all the text in any paragraphs with the id first red. We select ids with the # symbol:\n",
    "\n",
    "    p#first{\n",
    "        color: red\n",
    "    }\n",
    "\n",
    "\n",
    "You can also style ids and classes without any tags. This css will make any element with the id first red:\n",
    "\n",
    "    first{\n",
    "        color: red\n",
    "    }\n",
    "\n",
    "\n",
    "And this will make any element with the class inner-text red:\n",
    "\n",
    "    .inner-text{\n",
    "        color: red\n",
    "    }\n",
    "\n",
    "\n",
    "What we did in the above examples was use CSS selectors to select one or many elements, and then apply some styling to those elements only. CSS selectors are very powerful and flexible.\n",
    "\n",
    "Perhaps not surprisingly, CSS selectors are also commonly used in web scraping to select elements."
   ]
  },
  {
   "cell_type": "markdown",
   "metadata": {},
   "source": [
    "###8: Using CSS Selectors"
   ]
  },
  {
   "cell_type": "markdown",
   "metadata": {},
   "source": [
    "With BeautifulSoup, we can use CSS selectors very easily. We just use the .select method. Here's the HTML we'll be working with in this screen:\n",
    "\n",
    "    <html>\n",
    "        <head>\n",
    "            <title>A simple example page</title>\n",
    "        </head>\n",
    "        <body>\n",
    "            <div>\n",
    "                <p class=\"inner-text first-item\" id=\"first\">\n",
    "                    First paragraph.\n",
    "                </p>\n",
    "                <p class=\"inner-text\">\n",
    "                    Second paragraph.\n",
    "                </p>\n",
    "            </div>\n",
    "            <p class=\"outer-text first-item\" id=\"second\">\n",
    "                <b>\n",
    "                    First outer paragraph.\n",
    "                </b>\n",
    "            </p>\n",
    "            <p class=\"outer-text\">\n",
    "                <b>\n",
    "                    Second outer paragraph.\n",
    "                </b>\n",
    "            </p>\n",
    "        </body>\n",
    "    </html>\n",
    "\n",
    "As you can see, the same element can have both an id and a class. We can also assign multiple classes to a single element, we just separate the classes with a space.\n",
    "\n",
    "You can see this page <a href = \"http://dataquestio.github.io/web-scraping-pages/ids_and_classes.html\">here</a>."
   ]
  },
  {
   "cell_type": "markdown",
   "metadata": {},
   "source": [
    "####Instructions"
   ]
  },
  {
   "cell_type": "markdown",
   "metadata": {},
   "source": [
    "Select all the elements with the outer-text class. Assign the text of the first paragraph with the outer-text class to first_outer_text.\n",
    "\n",
    "Select all of the elements with the second id. Assign the text of the paragraph with the second id to the variable second_text."
   ]
  },
  {
   "cell_type": "code",
   "execution_count": 7,
   "metadata": {
    "collapsed": false
   },
   "outputs": [
    {
     "name": "stdout",
     "output_type": "stream",
     "text": [
      "first_items[0].text: \n",
      "                First paragraph.\n",
      "            \n"
     ]
    }
   ],
   "source": [
    "import requests\n",
    "\n",
    "# Get the website that contains classes and ids.\n",
    "response = requests.get(\"http://dataquestio.github.io/web-scraping-pages/ids_and_classes.html\")\n",
    "content = response.content\n",
    "parser = BeautifulSoup(content, 'html.parser')\n",
    "\n",
    "# Select all the elements with the first-item class.\n",
    "first_items = parser.select(\".first-item\")\n",
    "\n",
    "# Print the text of the first paragraph (first element with the first-item class).\n",
    "print(\"first_items[0].text:\", first_items[0].text)\n",
    "\n",
    "first_outer_text = parser.select(\".outer-text\")[0].text\n",
    "second_text = parser.select(\"#second\")[0].text"
   ]
  },
  {
   "cell_type": "markdown",
   "metadata": {},
   "source": [
    "###9: Nesting CSS Selectors"
   ]
  },
  {
   "cell_type": "markdown",
   "metadata": {},
   "source": [
    "Just like how HTML has nested tags, we can also nest CSS Selectors to select items that are nested. So we could use CSS selectors to find all of the paragraphs inside the body tag, for instance. Nesting is a very powerful technique that enables us to use CSS to do complex web scraping tasks.\n",
    "\n",
    "This CSS Selector will select any paragraphs inside a div tag:\n",
    "\n",
    "    div p\n",
    "\n",
    "\n",
    "This CSS Selector will select any items with the class first-item inside a div tag:\n",
    "\n",
    "    div .first-item\n",
    "\n",
    "\n",
    "This CSS Selector will select any items with the id first inside a div tag inside a body tag:\n",
    "\n",
    "    body div #first\n",
    "\n",
    "\n",
    "This CSS Selector will select any items with the id first inside any items with the class first-item:\n",
    "\n",
    "    .first-item #first\n",
    "\n",
    "\n",
    "As you can see, we can nest CSS selectors in infinite ways. This is how we can extract data from websites with complex layouts. You can easily test selectors by using the .select method as you write them."
   ]
  },
  {
   "cell_type": "markdown",
   "metadata": {},
   "source": [
    "###10: Using Nested CSS Selectors"
   ]
  },
  {
   "cell_type": "markdown",
   "metadata": {},
   "source": [
    "Now that we know about nested CSS Selectors, let's explore using them. We can use them with the same .select method that we've been using for our CSS Selectors.\n",
    "\n",
    "We'll be practicing on this HTML:\n",
    "\n",
    "    <html>\n",
    "        <head lang=\"en\">\n",
    "            <meta charset=\"UTF-8\">\n",
    "            <title>2014 Superbowl Team Stats</title>\n",
    "        </head>\n",
    "        <body>\n",
    "\n",
    "            <table class=\"stats_table nav_table\" id=\"team_stats\">\n",
    "                <tbody>\n",
    "                    <tr id=\"teams\">\n",
    "                        <th></th>\n",
    "                        <th>SEA</th>\n",
    "                        <th>NWE</th>\n",
    "                    </tr>\n",
    "                    <tr id=\"first-downs\">\n",
    "                        <td>First downs</td>\n",
    "                        <td>20</td>\n",
    "                        <td>25</td>\n",
    "                    </tr>\n",
    "                    <tr id=\"total-yards\">\n",
    "                        <td>Total yards</td>\n",
    "                        <td>396</td>\n",
    "                        <td>377</td>\n",
    "                    </tr>\n",
    "                    <tr id=\"turnovers\">\n",
    "                        <td>Turnovers</td>\n",
    "                        <td>1</td>\n",
    "                        <td>2</td>\n",
    "                    </tr>\n",
    "                    <tr id=\"penalties\">\n",
    "                        <td>Penalties-yards</td>\n",
    "                        <td>7-70</td>\n",
    "                        <td>5-36</td>\n",
    "                    </tr>\n",
    "                    <tr id=\"total-plays\">\n",
    "                        <td>Total Plays</td>\n",
    "                        <td>53</td>\n",
    "                        <td>72</td>\n",
    "                    </tr>\n",
    "                    <tr id=\"time-of-possession\">\n",
    "                        <td>Time of Possession</td>\n",
    "                        <td>26:14</td>\n",
    "                        <td>33:46</td>\n",
    "                    </tr>\n",
    "                </tbody>\n",
    "            </table>\n",
    "        </body>\n",
    "    </html>\n",
    "\n",
    "It's an excerpt from a box score of the 2014 Super Bowl, a game played between the New England Patriots and the Seattle Seahawks of the National Football League. The box score contains information about how many yards each team gained, how many turnovers each team has, and so on. You can see this page <a href = \"http://dataquestio.github.io/web-scraping-pages/2014_super_bowl.html\">here</a>.\n",
    "\n",
    "The page is rendered to a table, with column and row names. The first column is stats from the Seattle Seahawks, and the second column is stats from the New England Patriots. Each row represents a different statistic."
   ]
  },
  {
   "cell_type": "markdown",
   "metadata": {},
   "source": [
    "####Instructions"
   ]
  },
  {
   "cell_type": "markdown",
   "metadata": {},
   "source": [
    "Find the Total Plays for the New England Patriots. Assign the result to patriots_total_plays_count.\n",
    "\n",
    "Find the Total Yards for the Seahawks. Assign the result to seahawks_total_yards_count."
   ]
  },
  {
   "cell_type": "code",
   "execution_count": 8,
   "metadata": {
    "collapsed": false
   },
   "outputs": [
    {
     "name": "stdout",
     "output_type": "stream",
     "text": [
      "seahawks_turnovers_count: 1\n",
      "patriots_total_plays_count: 72\n",
      "seahawks_total_yards_count: 396\n"
     ]
    }
   ],
   "source": [
    "# Get the super bowl box score data.\n",
    "response = requests.get(\"http://dataquestio.github.io/web-scraping-pages/2014_super_bowl.html\")\n",
    "content = response.content\n",
    "parser = BeautifulSoup(content, \"html.parser\")\n",
    "\n",
    "# Find the number of turnovers committed by the Seahawks.\n",
    "turnovers = parser.select(\"#turnovers\")[0]\n",
    "seahawks_turnovers = turnovers.select(\"td\")[1]\n",
    "seahawks_turnovers_count = seahawks_turnovers.text\n",
    "\n",
    "print(\"seahawks_turnovers_count:\", seahawks_turnovers_count)\n",
    "\n",
    "patriots_total_plays_count = parser.select(\"#total-plays\")[0].select(\"td\")[2].text\n",
    "seahawks_total_yards_count = parser.select(\"#total-yards\")[0].select(\"td\")[1].text\n",
    "\n",
    "print(\"patriots_total_plays_count:\", patriots_total_plays_count)\n",
    "print(\"seahawks_total_yards_count:\", seahawks_total_yards_count)"
   ]
  },
  {
   "cell_type": "markdown",
   "metadata": {},
   "source": [
    "###11: Beyond the basics"
   ]
  },
  {
   "cell_type": "markdown",
   "metadata": {},
   "source": [
    "You may be wondering why webscraping is useful, given that in most of our examples, we could easily have found the answer by looking at the page. The real power of webscraping is in being able to get information from a large amount of pages very quickly. Let's say we wanted to find the total yards gained by each NFL team in every single NFL game for a whole season. We could get this manually, but it would take days of boring drudgery. We could write a script to automate this in a couple of hours, and have a lot more fun doing it."
   ]
  }
 ],
 "metadata": {
  "kernelspec": {
   "display_name": "Python 3",
   "language": "python",
   "name": "python3"
  },
  "language_info": {
   "codemirror_mode": {
    "name": "ipython",
    "version": 3
   },
   "file_extension": ".py",
   "mimetype": "text/x-python",
   "name": "python",
   "nbconvert_exporter": "python",
   "pygments_lexer": "ipython3",
   "version": "3.4.3"
  }
 },
 "nbformat": 4,
 "nbformat_minor": 0
}
