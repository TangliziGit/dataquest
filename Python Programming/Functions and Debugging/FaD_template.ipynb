{
 "cells": [
  {
   "cell_type": "code",
   "execution_count": 1,
   "metadata": {
    "collapsed": true
   },
   "outputs": [],
   "source": [
    "from __future__ import print_function"
   ]
  },
  {
   "cell_type": "markdown",
   "metadata": {},
   "source": [
    "#Python Programming"
   ]
  },
  {
   "cell_type": "markdown",
   "metadata": {},
   "source": [
    "##Functions and Debugging"
   ]
  },
  {
   "cell_type": "markdown",
   "metadata": {},
   "source": [
    "###1: Reading the file in"
   ]
  },
  {
   "cell_type": "markdown",
   "metadata": {},
   "source": [
    "####Instructions"
   ]
  },
  {
   "cell_type": "markdown",
   "metadata": {
    "collapsed": true
   },
   "source": [
    "The story is stored in the \"story.txt\" file. Open the file and read the contents into the story variable."
   ]
  },
  {
   "cell_type": "code",
   "execution_count": 2,
   "metadata": {
    "collapsed": false
   },
   "outputs": [
    {
     "name": "stdout",
     "output_type": "stream",
     "text": [
      "story: There was once a great and noble frmer named Julius.  He was the best farmer in his village, and prabably even the whole world.  One day, he decidid to grw potatoes.\n",
      "\n",
      "Julius knew that potatoes were hard to grow, so he kniw he hd to goe to the magic farmer in the sky to seek his guidance.  Julius set out on his journey aroudn noon one day.  It started raining almosty immediately.\n",
      "\n",
      "Julius wondered if this was a sign that he shouldn't go on, but he perserved.  He became soaked, and stoped in the store to buy an umbrella.  He told the storekeeper, Reggie, about his journey.\n",
      "\n",
      "Reggie told him that he was crzy to seek out the magic farmer; the last 10 people to try to find him had never come back.  Julius was undetered and decided to keep going.\n",
      "\n",
      "He travelled many long days in alternatng searing heat and freezing cold.  At night, he curled into a ball and tried to sleep underneath trees along the roadside.\n",
      "\n",
      "After mich anguish, Julius found the magic farmer, who gave him the secret of growing potatoes.\n",
      "\n",
      "Julius came back to the village, and managed to grow the finest crop the village had ever seen.  Everyone had potatoes to eat for months, and sang Julius's praises.\n"
     ]
    }
   ],
   "source": [
    "# Load the story stored in the file \"story.txt\".\n",
    "f = open(\"data/story.txt\", \"r\")\n",
    "story = f.read()\n",
    "\n",
    "print(\"story:\", story)"
   ]
  },
  {
   "cell_type": "markdown",
   "metadata": {},
   "source": [
    "###2: Tokenizing the file"
   ]
  },
  {
   "cell_type": "markdown",
   "metadata": {},
   "source": [
    "We now have to tokenize the file. Tokenizing sounds complicated, but its just the process of splitting the file into individual words.\n",
    "\n",
    "We can get fancy with this, but for now, we'll just split the file up based on whitespace (the space character)."
   ]
  },
  {
   "cell_type": "markdown",
   "metadata": {},
   "source": [
    "####Instructions"
   ]
  },
  {
   "cell_type": "markdown",
   "metadata": {},
   "source": [
    "The story is loaded into the story variable.\n",
    "\n",
    "Tokenize the story, and store the tokens into the tokenized_story variable."
   ]
  },
  {
   "cell_type": "code",
   "execution_count": 3,
   "metadata": {
    "collapsed": false
   },
   "outputs": [
    {
     "name": "stdout",
     "output_type": "stream",
     "text": [
      "tokenized_story: ['There', 'was', 'once', 'a', 'great', 'and', 'noble', 'frmer', 'named', 'Julius.', '', 'He', 'was', 'the', 'best', 'farmer', 'in', 'his', 'village,', 'and', 'prabably', 'even', 'the', 'whole', 'world.', '', 'One', 'day,', 'he', 'decidid', 'to', 'grw', 'potatoes.\\n\\nJulius', 'knew', 'that', 'potatoes', 'were', 'hard', 'to', 'grow,', 'so', 'he', 'kniw', 'he', 'hd', 'to', 'goe', 'to', 'the', 'magic', 'farmer', 'in', 'the', 'sky', 'to', 'seek', 'his', 'guidance.', '', 'Julius', 'set', 'out', 'on', 'his', 'journey', 'aroudn', 'noon', 'one', 'day.', '', 'It', 'started', 'raining', 'almosty', 'immediately.\\n\\nJulius', 'wondered', 'if', 'this', 'was', 'a', 'sign', 'that', 'he', \"shouldn't\", 'go', 'on,', 'but', 'he', 'perserved.', '', 'He', 'became', 'soaked,', 'and', 'stoped', 'in', 'the', 'store', 'to', 'buy', 'an', 'umbrella.', '', 'He', 'told', 'the', 'storekeeper,', 'Reggie,', 'about', 'his', 'journey.\\n\\nReggie', 'told', 'him', 'that', 'he', 'was', 'crzy', 'to', 'seek', 'out', 'the', 'magic', 'farmer;', 'the', 'last', '10', 'people', 'to', 'try', 'to', 'find', 'him', 'had', 'never', 'come', 'back.', '', 'Julius', 'was', 'undetered', 'and', 'decided', 'to', 'keep', 'going.\\n\\nHe', 'travelled', 'many', 'long', 'days', 'in', 'alternatng', 'searing', 'heat', 'and', 'freezing', 'cold.', '', 'At', 'night,', 'he', 'curled', 'into', 'a', 'ball', 'and', 'tried', 'to', 'sleep', 'underneath', 'trees', 'along', 'the', 'roadside.\\n\\nAfter', 'mich', 'anguish,', 'Julius', 'found', 'the', 'magic', 'farmer,', 'who', 'gave', 'him', 'the', 'secret', 'of', 'growing', 'potatoes.\\n\\nJulius', 'came', 'back', 'to', 'the', 'village,', 'and', 'managed', 'to', 'grow', 'the', 'finest', 'crop', 'the', 'village', 'had', 'ever', 'seen.', '', 'Everyone', 'had', 'potatoes', 'to', 'eat', 'for', 'months,', 'and', 'sang', \"Julius's\", 'praises.']\n"
     ]
    }
   ],
   "source": [
    "# Split strings into lists with the .split() method.\n",
    "text = \"Bears are probably better than sharks, but I can't get close enough to one to be sure.\"\n",
    "tokenized_text = text.split(\" \")\n",
    "tokenized_story = story.split(\" \")\n",
    "\n",
    "print(\"tokenized_story:\", tokenized_story)"
   ]
  },
  {
   "cell_type": "markdown",
   "metadata": {},
   "source": [
    "###3: Replacing punctuation"
   ]
  },
  {
   "cell_type": "markdown",
   "metadata": {},
   "source": [
    "In order to spell check our words, we'll be comparing the words in the story to a dictionary.\n",
    "\n",
    "If the word is in the dictionary, it will be correct.\n",
    "\n",
    "If it isn't, it will be incorrect.\n",
    "\n",
    "Simple, but it will be effective in this situation.\n",
    "\n",
    "In order to ensure that words that have apostrophes, commas, or other punctuation don't get falsely marked as incorrect, we need to remove all punctuation."
   ]
  },
  {
   "cell_type": "markdown",
   "metadata": {},
   "source": [
    "####Instructions"
   ]
  },
  {
   "cell_type": "markdown",
   "metadata": {},
   "source": [
    "The story has been loaded into tokenized_story.\n",
    "\n",
    "Replace all of the punctuation in each of the tokens.\n",
    "\n",
    "You'll need to loop through tokenized_story to do so.\n",
    "\n",
    "You'll need to use multiple replace statements, one for each punctuation character to replace.\n",
    "\n",
    "Append the token to no_punctuation_tokens once you are done replacing characters.\n",
    "\n",
    "Don't forget to remove newlines!\n",
    "\n",
    "Print out no_punctuation_tokens if you want to see which types of punctuation are still in the data."
   ]
  },
  {
   "cell_type": "code",
   "execution_count": 4,
   "metadata": {
    "collapsed": false
   },
   "outputs": [
    {
     "name": "stdout",
     "output_type": "stream",
     "text": [
      "no_punctuation_tokens: ['There', 'was', 'once', 'a', 'great', 'and', 'noble', 'frmer', 'named', 'Julius', '', 'He', 'was', 'the', 'best', 'farmer', 'in', 'his', 'village', 'and', 'prabably', 'even', 'the', 'whole', 'world', '', 'One', 'day', 'he', 'decidid', 'to', 'grw', 'potatoesJulius', 'knew', 'that', 'potatoes', 'were', 'hard', 'to', 'grow', 'so', 'he', 'kniw', 'he', 'hd', 'to', 'goe', 'to', 'the', 'magic', 'farmer', 'in', 'the', 'sky', 'to', 'seek', 'his', 'guidance', '', 'Julius', 'set', 'out', 'on', 'his', 'journey', 'aroudn', 'noon', 'one', 'day', '', 'It', 'started', 'raining', 'almosty', 'immediatelyJulius', 'wondered', 'if', 'this', 'was', 'a', 'sign', 'that', 'he', 'shouldnt', 'go', 'on', 'but', 'he', 'perserved', '', 'He', 'became', 'soaked', 'and', 'stoped', 'in', 'the', 'store', 'to', 'buy', 'an', 'umbrella', '', 'He', 'told', 'the', 'storekeeper', 'Reggie', 'about', 'his', 'journeyReggie', 'told', 'him', 'that', 'he', 'was', 'crzy', 'to', 'seek', 'out', 'the', 'magic', 'farmer', 'the', 'last', '10', 'people', 'to', 'try', 'to', 'find', 'him', 'had', 'never', 'come', 'back', '', 'Julius', 'was', 'undetered', 'and', 'decided', 'to', 'keep', 'goingHe', 'travelled', 'many', 'long', 'days', 'in', 'alternatng', 'searing', 'heat', 'and', 'freezing', 'cold', '', 'At', 'night', 'he', 'curled', 'into', 'a', 'ball', 'and', 'tried', 'to', 'sleep', 'underneath', 'trees', 'along', 'the', 'roadsideAfter', 'mich', 'anguish', 'Julius', 'found', 'the', 'magic', 'farmer', 'who', 'gave', 'him', 'the', 'secret', 'of', 'growing', 'potatoesJulius', 'came', 'back', 'to', 'the', 'village', 'and', 'managed', 'to', 'grow', 'the', 'finest', 'crop', 'the', 'village', 'had', 'ever', 'seen', '', 'Everyone', 'had', 'potatoes', 'to', 'eat', 'for', 'months', 'and', 'sang', 'Juliuss', 'praises']\n"
     ]
    }
   ],
   "source": [
    "# Use the .replace function to replace punctuation in a string.\n",
    "text = \"Who really shot John F. Kennedy?\"\n",
    "text = text.replace(\"?\", \"?!\")\n",
    "#print(text)\n",
    "\n",
    "# Replace strings with blank spaces in order to remove them.\n",
    "text = text.replace(\"?\", \"\")\n",
    "#print(text)\n",
    "\n",
    "no_punctuation_tokens = []\n",
    "for token in tokenized_story:\n",
    "    token = token.replace(\".\", \"\")\n",
    "    token = token.replace(\",\", \"\")\n",
    "    token = token.replace(\"'\", \"\")\n",
    "    token = token.replace(\";\", \"\")\n",
    "    token = token.replace(\"\\n\", \"\")\n",
    "    no_punctuation_tokens.append(token)\n",
    "print(\"no_punctuation_tokens:\", no_punctuation_tokens)"
   ]
  },
  {
   "cell_type": "markdown",
   "metadata": {},
   "source": [
    "###4: Lowercasing the words"
   ]
  },
  {
   "cell_type": "markdown",
   "metadata": {},
   "source": [
    "For the same reason that we replace punctuation, we also need to make the tokens lower case.\n",
    "\n",
    "We don't want to run into a situation where 'Farmer' isn't in the dictionary, but 'farmer' is."
   ]
  },
  {
   "cell_type": "markdown",
   "metadata": {},
   "source": [
    "####Instructions"
   ]
  },
  {
   "cell_type": "markdown",
   "metadata": {},
   "source": [
    "The tokens without punctuation have been loaded into no_punctuation_tokens.\n",
    "\n",
    "Loop through the tokens and lowercase each one.\n",
    "\n",
    "Append each token to lowercase_tokens when you're done lowercasing."
   ]
  },
  {
   "cell_type": "code",
   "execution_count": 5,
   "metadata": {
    "collapsed": false
   },
   "outputs": [
    {
     "name": "stdout",
     "output_type": "stream",
     "text": [
      "lowercase_tokens: ['there', 'was', 'once', 'a', 'great', 'and', 'noble', 'frmer', 'named', 'julius', '', 'he', 'was', 'the', 'best', 'farmer', 'in', 'his', 'village', 'and', 'prabably', 'even', 'the', 'whole', 'world', '', 'one', 'day', 'he', 'decidid', 'to', 'grw', 'potatoesjulius', 'knew', 'that', 'potatoes', 'were', 'hard', 'to', 'grow', 'so', 'he', 'kniw', 'he', 'hd', 'to', 'goe', 'to', 'the', 'magic', 'farmer', 'in', 'the', 'sky', 'to', 'seek', 'his', 'guidance', '', 'julius', 'set', 'out', 'on', 'his', 'journey', 'aroudn', 'noon', 'one', 'day', '', 'it', 'started', 'raining', 'almosty', 'immediatelyjulius', 'wondered', 'if', 'this', 'was', 'a', 'sign', 'that', 'he', 'shouldnt', 'go', 'on', 'but', 'he', 'perserved', '', 'he', 'became', 'soaked', 'and', 'stoped', 'in', 'the', 'store', 'to', 'buy', 'an', 'umbrella', '', 'he', 'told', 'the', 'storekeeper', 'reggie', 'about', 'his', 'journeyreggie', 'told', 'him', 'that', 'he', 'was', 'crzy', 'to', 'seek', 'out', 'the', 'magic', 'farmer', 'the', 'last', '10', 'people', 'to', 'try', 'to', 'find', 'him', 'had', 'never', 'come', 'back', '', 'julius', 'was', 'undetered', 'and', 'decided', 'to', 'keep', 'goinghe', 'travelled', 'many', 'long', 'days', 'in', 'alternatng', 'searing', 'heat', 'and', 'freezing', 'cold', '', 'at', 'night', 'he', 'curled', 'into', 'a', 'ball', 'and', 'tried', 'to', 'sleep', 'underneath', 'trees', 'along', 'the', 'roadsideafter', 'mich', 'anguish', 'julius', 'found', 'the', 'magic', 'farmer', 'who', 'gave', 'him', 'the', 'secret', 'of', 'growing', 'potatoesjulius', 'came', 'back', 'to', 'the', 'village', 'and', 'managed', 'to', 'grow', 'the', 'finest', 'crop', 'the', 'village', 'had', 'ever', 'seen', '', 'everyone', 'had', 'potatoes', 'to', 'eat', 'for', 'months', 'and', 'sang', 'juliuss', 'praises']\n"
     ]
    }
   ],
   "source": [
    "# Make strings all lowercase using the .lower() method.\n",
    "text = \"MY CAPS LOCK IS STUCK\"\n",
    "text = text.lower()\n",
    "\n",
    "# The text is much nicer to read now.\n",
    "#print(text)\n",
    "\n",
    "lowercase_tokens = []\n",
    "for token in no_punctuation_tokens:\n",
    "    token = token.lower()\n",
    "    lowercase_tokens.append(token)\n",
    "print(\"lowercase_tokens:\", lowercase_tokens)"
   ]
  },
  {
   "cell_type": "markdown",
   "metadata": {},
   "source": [
    "###5: Making a basic function"
   ]
  },
  {
   "cell_type": "markdown",
   "metadata": {},
   "source": [
    "Let's make a basic function."
   ]
  },
  {
   "cell_type": "markdown",
   "metadata": {},
   "source": [
    "####Instructions"
   ]
  },
  {
   "cell_type": "markdown",
   "metadata": {},
   "source": [
    "Define a function that takes degrees in fahrenheit as an input, and return degrees celsius\n",
    "\n",
    "Use it to convert 100 degrees fahrenheit to celsius. Assign the result to celsius_100.\n",
    "\n",
    "Use it to convert 150 degrees fahrenheit to celsius. Assign the result to celsius_150."
   ]
  },
  {
   "cell_type": "code",
   "execution_count": 6,
   "metadata": {
    "collapsed": false
   },
   "outputs": [
    {
     "name": "stdout",
     "output_type": "stream",
     "text": [
      "miles_to_km(1): 1.6093470878864444\n",
      "celsius_100: 37.77777777777778\n",
      "celsius_150: 65.55555555555556\n"
     ]
    }
   ],
   "source": [
    "# A simple function that takes in a number of miles, and turns it into kilometers\n",
    "# The input at position 0 will be put into the miles variable.\n",
    "def miles_to_km(miles):\n",
    "    return miles/0.62137\n",
    "\n",
    "# Return the number of kilometers equivalent to one mile.\n",
    "print(\"miles_to_km(1):\", miles_to_km(1))\n",
    "\n",
    "# Convert 'a' from 10 miles to kilometers.\n",
    "a = 10\n",
    "a = miles_to_km(a)\n",
    "\n",
    "# Convert and assign to a different variable.\n",
    "b = 50\n",
    "c = miles_to_km(b)\n",
    "\n",
    "# Function that takes degrees in fahrenheit as an input, and return degrees celsius.\n",
    "fahrenheit = 80\n",
    "celsius = (fahrenheit - 32)/1.8\n",
    "\n",
    "def convert(degrees):\n",
    "    return (degrees - 32)/1.8\n",
    "\n",
    "celsius_100 = convert(100)\n",
    "print(\"celsius_100:\", celsius_100)\n",
    "\n",
    "celsius_150 = convert(150)\n",
    "print(\"celsius_150:\", celsius_150)"
   ]
  },
  {
   "cell_type": "markdown",
   "metadata": {},
   "source": [
    "###6: Practice: functions"
   ]
  },
  {
   "cell_type": "markdown",
   "metadata": {
    "collapsed": true
   },
   "source": [
    "Now that we know what a function is, let's practice a bit with them."
   ]
  },
  {
   "cell_type": "markdown",
   "metadata": {},
   "source": [
    "####Instructions"
   ]
  },
  {
   "cell_type": "markdown",
   "metadata": {},
   "source": [
    "Make a function that takes a string as input and outputs a lowercase version.\n",
    "\n",
    "Then use it to turn the string lowercase_me to lowercase.\n",
    "\n",
    "Assign the result to lowercased_string."
   ]
  },
  {
   "cell_type": "code",
   "execution_count": 7,
   "metadata": {
    "collapsed": false
   },
   "outputs": [
    {
     "name": "stdout",
     "output_type": "stream",
     "text": [
      "sally: Sally sells seashells by the seashore.\n",
      "split_string(sally): ['Sally', 'sells', 'seashells', 'by', 'the', 'seashore.']\n",
      "lowercase_me: I wish I was in ALL lowercase\n",
      "lowercase(lowercase_me): i wish i was in all lowercase\n"
     ]
    }
   ],
   "source": [
    "# Function to split a string into a list.\n",
    "def split_string(text):\n",
    "    return text.split(\" \")\n",
    "\n",
    "sally = \"Sally sells seashells by the seashore.\"\n",
    "print(\"sally:\", sally)\n",
    "\n",
    "# Split 'sally' into a list.\n",
    "print(\"split_string(sally):\", split_string(sally))\n",
    "\n",
    "# Assign the output to 'sally_tokens'.\n",
    "sally_tokens = split_string(sally)\n",
    "\n",
    "lowercase_me = \"I wish I was in ALL lowercase\"\n",
    "print(\"lowercase_me:\", lowercase_me)\n",
    "\n",
    "# Function output a lowercase version of a string. \n",
    "def lowercase(text):\n",
    "    return text.lower()\n",
    "\n",
    "# Assign the output to 'lowercased_string'.\n",
    "print(\"lowercase(lowercase_me):\", lowercase(lowercase_me))"
   ]
  },
  {
   "cell_type": "markdown",
   "metadata": {},
   "source": [
    "###7: Types of errors"
   ]
  },
  {
   "cell_type": "markdown",
   "metadata": {},
   "source": [
    "We are starting to get into more complex code now.\n",
    "\n",
    "Before we go too far down that road, let's look into common code errors, and how to fix them."
   ]
  },
  {
   "cell_type": "markdown",
   "metadata": {},
   "source": [
    "####Instructions"
   ]
  },
  {
   "cell_type": "markdown",
   "metadata": {},
   "source": [
    "There are multiple syntax errors in the code to the right.\n",
    "\n",
    "You can tell because of the error showing up in the results panel.\n",
    "\n",
    "Fix the errors and get the code running properly. It should print all of the items in a."
   ]
  },
  {
   "cell_type": "code",
   "execution_count": 8,
   "metadata": {
    "collapsed": false
   },
   "outputs": [
    {
     "name": "stdout",
     "output_type": "stream",
     "text": [
      "item: Errors are no fun!\n",
      "item: But they can be fixed\n",
      "item: Just fix the syntax and everything will be fine\n"
     ]
    }
   ],
   "source": [
    "a = [\"Errors are no fun!\", \"But they can be fixed\", \"Just fix the syntax and everything will be fine\"]\n",
    "b = 5\n",
    "for item in a:\n",
    "    if b == 5:\n",
    "        print(\"item:\", item)"
   ]
  },
  {
   "cell_type": "markdown",
   "metadata": {},
   "source": [
    "###8: More syntax errors"
   ]
  },
  {
   "cell_type": "markdown",
   "metadata": {},
   "source": [
    "Syntax errors can take a lot of forms, so let's look at a few more."
   ]
  },
  {
   "cell_type": "markdown",
   "metadata": {},
   "source": [
    "####Instructions"
   ]
  },
  {
   "cell_type": "markdown",
   "metadata": {},
   "source": [
    "The code to the right has multiple syntax errors.\n",
    "\n",
    "Fix them so the code prints out \"I never liked that 6\""
   ]
  },
  {
   "cell_type": "code",
   "execution_count": 9,
   "metadata": {
    "collapsed": false
   },
   "outputs": [
    {
     "name": "stdout",
     "output_type": "stream",
     "text": [
      "I never liked that 6\n"
     ]
    }
   ],
   "source": [
    "a = 5\n",
    "if a == 6:\n",
    "    print(\"6 is obviously the best number\")\n",
    "else:\n",
    "    print(\"I never liked that 6\")"
   ]
  },
  {
   "cell_type": "markdown",
   "metadata": {},
   "source": [
    "###9: Index errors"
   ]
  },
  {
   "cell_type": "markdown",
   "metadata": {},
   "source": [
    "Index errors occur when a list index that doesn't exist is referenced."
   ]
  },
  {
   "cell_type": "markdown",
   "metadata": {},
   "source": [
    "####Instructions"
   ]
  },
  {
   "cell_type": "markdown",
   "metadata": {},
   "source": [
    "The code to the right has multiple index errors.\n",
    "\n",
    "Fix them so that the code prints the last item in each list."
   ]
  },
  {
   "cell_type": "code",
   "execution_count": 10,
   "metadata": {
    "collapsed": false
   },
   "outputs": [
    {
     "name": "stdout",
     "output_type": "stream",
     "text": [
      "the_list[1]: Mark Hammil\n",
      "another_list[0]: Jabba\n"
     ]
    }
   ],
   "source": [
    "the_list = [\"Harrison Ford\", \"Mark Hammil\"]\n",
    "print(\"the_list[1]:\", the_list[1])\n",
    "\n",
    "another_list = [\"Jabba\"]\n",
    "print(\"another_list[0]:\", another_list[0])"
   ]
  },
  {
   "cell_type": "markdown",
   "metadata": {},
   "source": [
    "###10: Multiline functions"
   ]
  },
  {
   "cell_type": "markdown",
   "metadata": {},
   "source": [
    "Let's make a function to remove all punctuation."
   ]
  },
  {
   "cell_type": "markdown",
   "metadata": {},
   "source": [
    "####Instructions"
   ]
  },
  {
   "cell_type": "markdown",
   "metadata": {},
   "source": [
    "All the tokens from Julius's story are in the tokenized_story variable.\n",
    "\n",
    "Write a function that removes all punctuation from an input string.\n",
    "\n",
    "Then loop over tokenized_story and call the function to remove the punctuation from each token.\n",
    "\n",
    "Append the tokens to no_punctuation_tokens."
   ]
  },
  {
   "cell_type": "code",
   "execution_count": 11,
   "metadata": {
    "collapsed": false
   },
   "outputs": [
    {
     "name": "stdout",
     "output_type": "stream",
     "text": [
      "do_math(20): 220\n",
      "no_punctuation_tokens: ['There', 'was', 'once', 'a', 'great', 'and', 'noble', 'frmer', 'named', 'Julius', '', 'He', 'was', 'the', 'best', 'farmer', 'in', 'his', 'village', 'and', 'prabably', 'even', 'the', 'whole', 'world', '', 'One', 'day', 'he', 'decidid', 'to', 'grw', 'potatoesJulius', 'knew', 'that', 'potatoes', 'were', 'hard', 'to', 'grow', 'so', 'he', 'kniw', 'he', 'hd', 'to', 'goe', 'to', 'the', 'magic', 'farmer', 'in', 'the', 'sky', 'to', 'seek', 'his', 'guidance', '', 'Julius', 'set', 'out', 'on', 'his', 'journey', 'aroudn', 'noon', 'one', 'day', '', 'It', 'started', 'raining', 'almosty', 'immediatelyJulius', 'wondered', 'if', 'this', 'was', 'a', 'sign', 'that', 'he', 'shouldnt', 'go', 'on', 'but', 'he', 'perserved', '', 'He', 'became', 'soaked', 'and', 'stoped', 'in', 'the', 'store', 'to', 'buy', 'an', 'umbrella', '', 'He', 'told', 'the', 'storekeeper', 'Reggie', 'about', 'his', 'journeyReggie', 'told', 'him', 'that', 'he', 'was', 'crzy', 'to', 'seek', 'out', 'the', 'magic', 'farmer', 'the', 'last', '10', 'people', 'to', 'try', 'to', 'find', 'him', 'had', 'never', 'come', 'back', '', 'Julius', 'was', 'undetered', 'and', 'decided', 'to', 'keep', 'goingHe', 'travelled', 'many', 'long', 'days', 'in', 'alternatng', 'searing', 'heat', 'and', 'freezing', 'cold', '', 'At', 'night', 'he', 'curled', 'into', 'a', 'ball', 'and', 'tried', 'to', 'sleep', 'underneath', 'trees', 'along', 'the', 'roadsideAfter', 'mich', 'anguish', 'Julius', 'found', 'the', 'magic', 'farmer', 'who', 'gave', 'him', 'the', 'secret', 'of', 'growing', 'potatoesJulius', 'came', 'back', 'to', 'the', 'village', 'and', 'managed', 'to', 'grow', 'the', 'finest', 'crop', 'the', 'village', 'had', 'ever', 'seen', '', 'Everyone', 'had', 'potatoes', 'to', 'eat', 'for', 'months', 'and', 'sang', 'Juliuss', 'praises']\n"
     ]
    }
   ],
   "source": [
    "# Basic math function.\n",
    "def do_math(number):\n",
    "    # Multiply the number by 10.\n",
    "    number = number * 10\n",
    "    # Add 20 to the number.\n",
    "    number = number + 20\n",
    "    return number\n",
    "\n",
    "print(\"do_math(20):\", do_math(20))\n",
    "a = do_math(10)\n",
    "\n",
    "no_punctuation_tokens = []\n",
    "def remove_punctuation(token):\n",
    "    token = token.replace(\".\", \"\")\n",
    "    token = token.replace(\",\", \"\")\n",
    "    token = token.replace(\"'\", \"\")\n",
    "    token = token.replace(\";\", \"\")\n",
    "    token = token.replace(\"\\n\", \"\")\n",
    "    return token\n",
    "    \n",
    "for token in tokenized_story:\n",
    "    token = remove_punctuation(token)\n",
    "    no_punctuation_tokens.append(token)\n",
    "print(\"no_punctuation_tokens:\", no_punctuation_tokens)"
   ]
  },
  {
   "cell_type": "markdown",
   "metadata": {},
   "source": [
    "###11: Making a function to lowercase input"
   ]
  },
  {
   "cell_type": "markdown",
   "metadata": {},
   "source": [
    "Now, let's add to our function so that it also lowercases input."
   ]
  },
  {
   "cell_type": "markdown",
   "metadata": {},
   "source": [
    "####Instructions"
   ]
  },
  {
   "cell_type": "markdown",
   "metadata": {},
   "source": [
    "We've written the remove_punctuation function for you. Can you add to it so that it also makes the output lowercase?\n",
    "\n",
    "Then loop over the tokens in tokenized_story and normalize them with the function.\n",
    "\n",
    "Append the tokens to normalized_tokens when you're done."
   ]
  },
  {
   "cell_type": "code",
   "execution_count": 12,
   "metadata": {
    "collapsed": false
   },
   "outputs": [
    {
     "name": "stdout",
     "output_type": "stream",
     "text": [
      "normalized_tokens: ['there', 'was', 'once', 'a', 'great', 'and', 'noble', 'frmer', 'named', 'julius', '', 'he', 'was', 'the', 'best', 'farmer', 'in', 'his', 'village', 'and', 'prabably', 'even', 'the', 'whole', 'world', '', 'one', 'day', 'he', 'decidid', 'to', 'grw', 'potatoesjulius', 'knew', 'that', 'potatoes', 'were', 'hard', 'to', 'grow', 'so', 'he', 'kniw', 'he', 'hd', 'to', 'goe', 'to', 'the', 'magic', 'farmer', 'in', 'the', 'sky', 'to', 'seek', 'his', 'guidance', '', 'julius', 'set', 'out', 'on', 'his', 'journey', 'aroudn', 'noon', 'one', 'day', '', 'it', 'started', 'raining', 'almosty', 'immediatelyjulius', 'wondered', 'if', 'this', 'was', 'a', 'sign', 'that', 'he', 'shouldnt', 'go', 'on', 'but', 'he', 'perserved', '', 'he', 'became', 'soaked', 'and', 'stoped', 'in', 'the', 'store', 'to', 'buy', 'an', 'umbrella', '', 'he', 'told', 'the', 'storekeeper', 'reggie', 'about', 'his', 'journeyreggie', 'told', 'him', 'that', 'he', 'was', 'crzy', 'to', 'seek', 'out', 'the', 'magic', 'farmer', 'the', 'last', '10', 'people', 'to', 'try', 'to', 'find', 'him', 'had', 'never', 'come', 'back', '', 'julius', 'was', 'undetered', 'and', 'decided', 'to', 'keep', 'goinghe', 'travelled', 'many', 'long', 'days', 'in', 'alternatng', 'searing', 'heat', 'and', 'freezing', 'cold', '', 'at', 'night', 'he', 'curled', 'into', 'a', 'ball', 'and', 'tried', 'to', 'sleep', 'underneath', 'trees', 'along', 'the', 'roadsideafter', 'mich', 'anguish', 'julius', 'found', 'the', 'magic', 'farmer', 'who', 'gave', 'him', 'the', 'secret', 'of', 'growing', 'potatoesjulius', 'came', 'back', 'to', 'the', 'village', 'and', 'managed', 'to', 'grow', 'the', 'finest', 'crop', 'the', 'village', 'had', 'ever', 'seen', '', 'everyone', 'had', 'potatoes', 'to', 'eat', 'for', 'months', 'and', 'sang', 'juliuss', 'praises']\n"
     ]
    }
   ],
   "source": [
    "def normalize(token):\n",
    "    token = token.replace(\".\", \"\")\n",
    "    token = token.replace(\",\", \"\")\n",
    "    token = token.replace(\"'\", \"\")\n",
    "    token = token.replace(\";\", \"\")\n",
    "    token = token.replace(\"\\n\", \"\")\n",
    "    token = token.lower()\n",
    "    return token\n",
    "\n",
    "normalized_tokens = []\n",
    "for token in tokenized_story:\n",
    "    token = normalize(token)\n",
    "    normalized_tokens.append(token)\n",
    "print(\"normalized_tokens:\", normalized_tokens)"
   ]
  },
  {
   "cell_type": "markdown",
   "metadata": {},
   "source": [
    "###12: Practice with multiple argument functions"
   ]
  },
  {
   "cell_type": "markdown",
   "metadata": {},
   "source": [
    "Let's practice with functions that take multiple arguments"
   ]
  },
  {
   "cell_type": "markdown",
   "metadata": {},
   "source": [
    "####Instructions"
   ]
  },
  {
   "cell_type": "markdown",
   "metadata": {},
   "source": [
    "Create a multiply function that takes in x, y, and z argument.\n",
    "\n",
    "The function should return x * y * z\n",
    "\n",
    "Assign the values of multiply(10,3,5) to a\n",
    "\n",
    "Assign the values of multiply(20,-1,3) to b"
   ]
  },
  {
   "cell_type": "code",
   "execution_count": 13,
   "metadata": {
    "collapsed": false
   },
   "outputs": [
    {
     "name": "stdout",
     "output_type": "stream",
     "text": [
      "divide(5,1): 5.0\n",
      "divide(1,5): 0.2\n"
     ]
    }
   ],
   "source": [
    "# Function to divide numbers at position 0 and 1\n",
    "def divide(x,y):\n",
    "    return x/y\n",
    "\n",
    "# 5 is assigned to x, and 1 is assigned to y based on positions\n",
    "print(\"divide(5,1):\", divide(5,1))\n",
    "\n",
    "# 1 is assigned to x, and 5 is assigned to y based on positions.\n",
    "print(\"divide(1,5):\", divide(1,5))\n",
    "\n",
    "# Function to multiply numbers at position 0, 1, 2\n",
    "def multiply(x, y, z):\n",
    "    return x * y * z\n",
    "\n",
    "a = multiply(10,3,5)\n",
    "b = multiply(20,-1,3)"
   ]
  },
  {
   "cell_type": "markdown",
   "metadata": {},
   "source": [
    "###13: Reading in and normalizing the dictionary"
   ]
  },
  {
   "cell_type": "markdown",
   "metadata": {},
   "source": [
    "The dictionary is stored in dictionary.txt\n",
    "\n",
    "We'll need to read it in and normalize it."
   ]
  },
  {
   "cell_type": "markdown",
   "metadata": {},
   "source": [
    "####Instructions"
   ]
  },
  {
   "cell_type": "markdown",
   "metadata": {},
   "source": [
    "Read in the dictionary from the \"dictionary.txt\" file.\n",
    "\n",
    "Split it into tokens based on the space character.\n",
    "\n",
    "Normalize each token using the normalize function.\n",
    "\n",
    "Append the normalized tokens to normalized_dictionary_tokens."
   ]
  },
  {
   "cell_type": "code",
   "execution_count": 14,
   "metadata": {
    "collapsed": false
   },
   "outputs": [
    {
     "name": "stdout",
     "output_type": "stream",
     "text": [
      "normalized_dictionary_tokens: ['a', 'about', 'after', 'almost', 'along', 'alternating', 'an', 'and', 'anguish', 'around', 'at', 'back', 'ball', 'became', 'best', 'but', 'buy', 'came', 'cold', 'come', 'crop', 'crazy', 'curled', 'day', 'days', 'decided', 'decided', 'eat', 'even', 'ever', 'everyone', 'farmer', 'farmer', 'find', 'finest', 'for', 'found', 'freezing', 'farmer', 'gave', 'go', 'going', 'great', 'grow', 'growing', 'guidance', 'had', 'hard', 'he', 'heat', 'him', 'his', 'if', 'immediately', 'in', 'into', 'it', 'journey', 'julius', 'juliuss', 'keep', 'knew', 'last', 'long', 'magic', 'managed', 'many', 'much', 'months', 'named', 'never', 'night', 'noble', 'noon', 'of', 'on', 'once', 'one', 'out', 'people', 'persevered', 'potatoes', 'probably', 'praises', 'raining', 'reggie', 'roadside', 'sang', 'searing', 'secret', 'seek', 'seen', 'set', 'shouldnt', 'sign', 'sky', 'sleep', 'so', 'soaked', 'started', 'stopped', 'store', 'storekeeper', 'that', 'the', 'there', 'this', 'to', 'told', 'travelled', 'trees', 'tried', 'try', 'umbrella', 'underneath', 'undeterred', 'village', 'was', 'were', 'who', 'whole', 'wondered', 'world', '']\n",
      "normalized_story_tokens: ['there', 'was', 'once', 'a', 'great', 'and', 'noble', 'frmer', 'named', 'julius ', '', 'he', 'was', 'the', 'best', 'farmer', 'in', 'his', 'village ', 'and', 'prabably', 'even', 'the', 'whole', 'world ', '', 'one', 'day ', 'he', 'decidid', 'to', 'grw', 'potatoes   julius', 'knew', 'that', 'potatoes', 'were', 'hard', 'to', 'grow ', 'so', 'he', 'kniw', 'he', 'hd', 'to', 'goe', 'to', 'the', 'magic', 'farmer', 'in', 'the', 'sky', 'to', 'seek', 'his', 'guidance ', '', 'julius', 'set', 'out', 'on', 'his', 'journey', 'aroudn', 'noon', 'one', 'day ', '', 'it', 'started', 'raining', 'almosty', 'immediately   julius', 'wondered', 'if', 'this', 'was', 'a', 'sign', 'that', 'he', 'shouldn t', 'go', 'on ', 'but', 'he', 'perserved ', '', 'he', 'became', 'soaked ', 'and', 'stoped', 'in', 'the', 'store', 'to', 'buy', 'an', 'umbrella ', '', 'he', 'told', 'the', 'storekeeper ', 'reggie ', 'about', 'his', 'journey   reggie', 'told', 'him', 'that', 'he', 'was', 'crzy', 'to', 'seek', 'out', 'the', 'magic', 'farmer ', 'the', 'last', '10', 'people', 'to', 'try', 'to', 'find', 'him', 'had', 'never', 'come', 'back ', '', 'julius', 'was', 'undetered', 'and', 'decided', 'to', 'keep', 'going   he', 'travelled', 'many', 'long', 'days', 'in', 'alternatng', 'searing', 'heat', 'and', 'freezing', 'cold ', '', 'at', 'night ', 'he', 'curled', 'into', 'a', 'ball', 'and', 'tried', 'to', 'sleep', 'underneath', 'trees', 'along', 'the', 'roadside   after', 'mich', 'anguish ', 'julius', 'found', 'the', 'magic', 'farmer ', 'who', 'gave', 'him', 'the', 'secret', 'of', 'growing', 'potatoes   julius', 'came', 'back', 'to', 'the', 'village ', 'and', 'managed', 'to', 'grow', 'the', 'finest', 'crop', 'the', 'village', 'had', 'ever', 'seen ', '', 'everyone', 'had', 'potatoes', 'to', 'eat', 'for', 'months ', 'and', 'sang', 'julius s', 'praises ']\n"
     ]
    }
   ],
   "source": [
    "def normalize(token):\n",
    "    token = token.replace(\".\",\" \")\n",
    "    token = token.replace(\",\",\" \")\n",
    "    token = token.replace(\"'\", \" \")\n",
    "    token = token.replace(\";\", \" \")\n",
    "    token = token.replace(\"\\n\", \" \")\n",
    "    token = token.lower()\n",
    "    return token\n",
    "\n",
    "normalized_dictionary_tokens = []\n",
    "f = open(\"data/dictionary.txt\", \"r\")\n",
    "tokens = f.read().split(\"\\n\")\n",
    "for token in tokens:\n",
    "    token = normalize(token)\n",
    "    normalized_dictionary_tokens.append(token)\n",
    "print(\"normalized_dictionary_tokens:\", normalized_dictionary_tokens)\n",
    "\n",
    "normalized_story_tokens = []\n",
    "f = open(\"data/story.txt\", \"r\")\n",
    "tokens = f.read().split(\" \")\n",
    "for token in tokens:\n",
    "    token = normalize(token)\n",
    "    normalized_story_tokens.append(token)\n",
    "print(\"normalized_story_tokens:\", normalized_story_tokens)"
   ]
  },
  {
   "cell_type": "markdown",
   "metadata": {},
   "source": [
    "###14: Finding words that aren't spelled correctly"
   ]
  },
  {
   "cell_type": "markdown",
   "metadata": {},
   "source": [
    "A solution is in sight! All we need to do is loop through the normalized story tokens, and check if they are in the dictionary. If they aren't, they are potential misspellings."
   ]
  },
  {
   "cell_type": "markdown",
   "metadata": {},
   "source": [
    "####Instructions"
   ]
  },
  {
   "cell_type": "markdown",
   "metadata": {},
   "source": [
    "The normalized story tokens are in normalized_story_tokens, and the normalized dictionary tokens are in normalized_dictionary_tokens.\n",
    "\n",
    "Loop through the story tokens, and check if each token is in the dictionary.\n",
    "\n",
    "If the token is in normalized_dictionary_tokens, append it to correctly_spelled\n",
    "\n",
    "If it isn't, append it to potential_misspellings."
   ]
  },
  {
   "cell_type": "code",
   "execution_count": 15,
   "metadata": {
    "collapsed": false
   },
   "outputs": [
    {
     "name": "stdout",
     "output_type": "stream",
     "text": [
      "correctly_spelled: ['there', 'was', 'once', 'a', 'great', 'and', 'noble', 'named', '', 'he', 'was', 'the', 'best', 'farmer', 'in', 'his', 'and', 'even', 'the', 'whole', '', 'one', 'he', 'to', 'knew', 'that', 'potatoes', 'were', 'hard', 'to', 'so', 'he', 'he', 'to', 'to', 'the', 'magic', 'farmer', 'in', 'the', 'sky', 'to', 'seek', 'his', '', 'julius', 'set', 'out', 'on', 'his', 'journey', 'noon', 'one', '', 'it', 'started', 'raining', 'wondered', 'if', 'this', 'was', 'a', 'sign', 'that', 'he', 'go', 'but', 'he', '', 'he', 'became', 'and', 'in', 'the', 'store', 'to', 'buy', 'an', '', 'he', 'told', 'the', 'about', 'his', 'told', 'him', 'that', 'he', 'was', 'to', 'seek', 'out', 'the', 'magic', 'the', 'last', 'people', 'to', 'try', 'to', 'find', 'him', 'had', 'never', 'come', '', 'julius', 'was', 'and', 'decided', 'to', 'keep', 'travelled', 'many', 'long', 'days', 'in', 'searing', 'heat', 'and', 'freezing', '', 'at', 'he', 'curled', 'into', 'a', 'ball', 'and', 'tried', 'to', 'sleep', 'underneath', 'trees', 'along', 'the', 'julius', 'found', 'the', 'magic', 'who', 'gave', 'him', 'the', 'secret', 'of', 'growing', 'came', 'back', 'to', 'the', 'and', 'managed', 'to', 'grow', 'the', 'finest', 'crop', 'the', 'village', 'had', 'ever', '', 'everyone', 'had', 'potatoes', 'to', 'eat', 'for', 'and', 'sang']\n",
      "potential_misspellings: ['frmer', 'julius ', 'village ', 'prabably', 'world ', 'day ', 'decidid', 'grw', 'potatoes   julius', 'grow ', 'kniw', 'hd', 'goe', 'guidance ', 'aroudn', 'day ', 'almosty', 'immediately   julius', 'shouldn t', 'on ', 'perserved ', 'soaked ', 'stoped', 'umbrella ', 'storekeeper ', 'reggie ', 'journey   reggie', 'crzy', 'farmer ', '10', 'back ', 'undetered', 'going   he', 'alternatng', 'cold ', 'night ', 'roadside   after', 'mich', 'anguish ', 'farmer ', 'potatoes   julius', 'village ', 'seen ', 'months ', 'julius s', 'praises ']\n"
     ]
    }
   ],
   "source": [
    "potential_misspellings = []\n",
    "correctly_spelled = []\n",
    "for token in normalized_story_tokens:\n",
    "    if token in normalized_dictionary_tokens:\n",
    "        correctly_spelled.append(token)\n",
    "    else:\n",
    "        potential_misspellings.append(token)\n",
    "\n",
    "print (\"correctly_spelled:\", correctly_spelled)\n",
    "print (\"potential_misspellings:\", potential_misspellings)"
   ]
  }
 ],
 "metadata": {
  "kernelspec": {
   "display_name": "Python 3",
   "language": "python",
   "name": "python3"
  },
  "language_info": {
   "codemirror_mode": {
    "name": "ipython",
    "version": 3
   },
   "file_extension": ".py",
   "mimetype": "text/x-python",
   "name": "python",
   "nbconvert_exporter": "python",
   "pygments_lexer": "ipython3",
   "version": "3.4.3"
  }
 },
 "nbformat": 4,
 "nbformat_minor": 0
}
