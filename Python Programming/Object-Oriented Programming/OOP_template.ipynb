{
 "cells": [
  {
   "cell_type": "code",
   "execution_count": 1,
   "metadata": {
    "collapsed": true
   },
   "outputs": [],
   "source": [
    "from __future__ import print_function"
   ]
  },
  {
   "cell_type": "markdown",
   "metadata": {},
   "source": [
    "#Python Programming"
   ]
  },
  {
   "cell_type": "markdown",
   "metadata": {},
   "source": [
    "##Object-Oriented Programming"
   ]
  },
  {
   "cell_type": "markdown",
   "metadata": {},
   "source": [
    "###1: Solving Problems with Code"
   ]
  },
  {
   "cell_type": "markdown",
   "metadata": {},
   "source": [
    "Computer programming is an engineering discipline. A successful engineer must be able to think through complex problems and choose an optimal solution. This involves careful planning, some trial and error, and above all else experience. It's important to practice programming in order to build an intuition for what tools best fit a situation, and how to approach particular problems."
   ]
  },
  {
   "cell_type": "markdown",
   "metadata": {},
   "source": [
    "###2: Defining custom classes"
   ]
  },
  {
   "cell_type": "markdown",
   "metadata": {},
   "source": [
    "Let's now explore how to use custom classes to explore data on NBA players from the 2013-2014 season. We need a way to easily represent both the players and teams in the league. Let's focus on how we can use custom classes to compare the average ages of the players on each team.\n",
    "\n",
    "You can see below that we have defined a Player class and we have defined the default __init__ method to take in a data row as an argument. We made a deliberate choice to split up the logic of players and teams so that our code is easy to read and maintain. We also made the convenient choice to initialize our Player instances using a data row, since all of the information is present in a row, and it will make it easier later on to create Player objects from the dataset."
   ]
  },
  {
   "cell_type": "markdown",
   "metadata": {},
   "source": [
    "####Instructions"
   ]
  },
  {
   "cell_type": "markdown",
   "metadata": {},
   "source": [
    "Create a Team class that is initialized with a team name. Store that team name in the instance property team_name.\n",
    "\n",
    "Create an instance of the Team class with the team name \"San Antonio Spurs\". Call this instance spurs."
   ]
  },
  {
   "cell_type": "code",
   "execution_count": 2,
   "metadata": {
    "collapsed": false
   },
   "outputs": [
    {
     "name": "stdout",
     "output_type": "stream",
     "text": [
      "first_player.player_name: Quincy Acy\n",
      "first_player.position: SF\n",
      "first_player.age: 23\n",
      "first_player.team: TOT\n",
      "spurs.team_name: San Antonio Spurs\n"
     ]
    }
   ],
   "source": [
    "import csv\n",
    "with open(\"data/nba_2013.csv\", \"r\") as f:\n",
    "    reader = csv.reader(f, delimiter=',')\n",
    "    nba = list(reader)\n",
    "\n",
    "# Implement the Player class\n",
    "class Player():\n",
    "    # The special __init__ function is run whenever a class is instantiated.\n",
    "    # The init function can take arguments, but self is always the first one.\n",
    "    # Self is just a reference to the instance of the class. It is automatically\n",
    "    #     passed in when you instantiate an instance of the class.\n",
    "    def __init__(self, data_row):\n",
    "        self.player_name = data_row[0]\n",
    "        self.position = data_row[1]\n",
    "        self.age = int(data_row[2])\n",
    "        self.team = data_row[3]\n",
    "\n",
    "# Initialize a player using the first row of our dataset\n",
    "first_player = Player(nba[1])\n",
    "\n",
    "print(\"first_player.player_name:\", first_player.player_name)\n",
    "print(\"first_player.position:\", first_player.position)\n",
    "print(\"first_player.age:\", first_player.age)\n",
    "print(\"first_player.team:\", first_player.team)\n",
    "\n",
    "# Implement the Team class\n",
    "class Team():\n",
    "    def __init__(self, team_name):\n",
    "        self.team_name = team_name\n",
    "        \n",
    "spurs = Team(\"San Antonio Spurs\")\n",
    "print(\"spurs.team_name:\", spurs.team_name)"
   ]
  },
  {
   "cell_type": "markdown",
   "metadata": {},
   "source": [
    "###3: More interesting instance properties"
   ]
  },
  {
   "cell_type": "markdown",
   "metadata": {},
   "source": [
    "Now that we have a Team class with a team name, we can also store a team roster within each Team instance.\n",
    "\n",
    "We'll represent a roster as a list of Player instances. We can write code inside the __init__ method to run some initialization logic.\n",
    "\n",
    "Our dataset of NBA players has been loaded into the nba variable."
   ]
  },
  {
   "cell_type": "markdown",
   "metadata": {},
   "source": [
    "####Instructions"
   ]
  },
  {
   "cell_type": "markdown",
   "metadata": {},
   "source": [
    "Modify the __init__ method of the Team class to loop through our dataset and add a player to the roster every time the row's team name matches the instance's team_name. You can add an item to a list using .append(item).\n",
    "\n",
    "Store the \"San Antonio Spurs\" team in spurs."
   ]
  },
  {
   "cell_type": "code",
   "execution_count": 3,
   "metadata": {
    "collapsed": false
   },
   "outputs": [
    {
     "name": "stdout",
     "output_type": "stream",
     "text": [
      "spurs.team_name: San Antonio Spurs\n"
     ]
    }
   ],
   "source": [
    "class Team():\n",
    "    def __init__(self, team_name):\n",
    "        self.team_name = team_name\n",
    "        self.roster = []\n",
    "        for row in nba:\n",
    "            if row[3] == self.team_name:\n",
    "                self.roster.append(Player(row))\n",
    "                \n",
    "spurs = Team(\"San Antonio Spurs\")\n",
    "print(\"spurs.team_name:\", spurs.team_name)"
   ]
  },
  {
   "cell_type": "markdown",
   "metadata": {},
   "source": [
    "###4: Instance Methods"
   ]
  },
  {
   "cell_type": "markdown",
   "metadata": {},
   "source": [
    "The Player and Team classes we have defined serve as blueprints that we can use to create instances of these classes. Fundamental to object oriented programming are the classes and the instances of those classes, known collectively as objects.\n",
    "\n",
    "We can define some methods on a class. For example, if we want to compute the average age of the players on a team, we would write a method for the Team class that does so. However, since this number can be different for each team, we want to make sure the method acts individually on specific instances of the Team class. We call these methods instance methods.\n",
    "\n",
    "For method declarations, the first argument to the method is always self, even though we don't explicitly pass in self when we call the method. self is a reference to the current object we are working with, and is useful when we want to access properties of that object within the method we are defining."
   ]
  },
  {
   "cell_type": "markdown",
   "metadata": {},
   "source": [
    "####Instructions"
   ]
  },
  {
   "cell_type": "markdown",
   "metadata": {},
   "source": [
    "Write an average_age method for the Team class that computes the average age of the Team instance. We have provided a method to find the total number of players on a Team instance.\n",
    "\n",
    "Store the result of calling average_age on the \"TOT\" team in TOT_avg_age."
   ]
  },
  {
   "cell_type": "code",
   "execution_count": 4,
   "metadata": {
    "collapsed": false
   },
   "outputs": [
    {
     "name": "stdout",
     "output_type": "stream",
     "text": [
      "TOT_avg_age: 26.41269841269841\n"
     ]
    }
   ],
   "source": [
    "class Team():\n",
    "    def __init__(self, team_name):\n",
    "        self.team_name = team_name\n",
    "        self.roster = []\n",
    "        for row in nba:\n",
    "            if row[3] == self.team_name:\n",
    "                self.roster.append(Player(row))\n",
    "    \n",
    "    def num_players(self):\n",
    "        count = 0\n",
    "        for player in self.roster:\n",
    "            count += 1\n",
    "        return count\n",
    "    \n",
    "    def average_age(self):\n",
    "        total_age = 0\n",
    "        for player in self.roster:\n",
    "            total_age += player.age\n",
    "        return total_age / self.num_players()\n",
    "\n",
    "\n",
    "# Initialize the TOT team\n",
    "TOT = Team(\"TOT\")\n",
    "\n",
    "TOT_avg_age = TOT.average_age()\n",
    "print(\"TOT_avg_age:\", TOT_avg_age)"
   ]
  },
  {
   "cell_type": "markdown",
   "metadata": {},
   "source": [
    "###5: Class Methods"
   ]
  },
  {
   "cell_type": "markdown",
   "metadata": {},
   "source": [
    "In traditional object-oriented programming, everything (yes, everything) is an object. Integers are objects, booleans are objects. Python is not quite this object-oriented, but objects are nonetheless abundant in the Python language. For example, the math.floor function is really just a class method for the math class. Class methods act on a whole class rather than a particular instance of a class, and are often used as utility functions.\n",
    "\n",
    "Notice in the code below that we've rewritten our average_age method to use the math class along with a list comprehension. This is somewhat advanced Python code, but you've seen all of it before. The math.fsum method is a method that acts on the math class, and takes an iterable (i.e. list or list-like) argument, and sums the values in the list to produce a result.\n",
    "\n",
    "Notice also that we have begun writing a class method for you. The @classmethod line above the method tells the Python interpretter that the method is a class method. You'll have to follow this example whenever you declare class methods."
   ]
  },
  {
   "cell_type": "markdown",
   "metadata": {},
   "source": [
    "####Instructions"
   ]
  },
  {
   "cell_type": "markdown",
   "metadata": {},
   "source": [
    "Modify the older_team method to return the team with the greatest average age.\n",
    "\n",
    "Store the result of calling older_team on the \"TOT\" team and the \"UTA\" team in old_team.\n",
    "\n",
    "Read through all of the code we've written so far for our Team class. It's full of advanced Python concepts that will be very useful to you."
   ]
  },
  {
   "cell_type": "code",
   "execution_count": 5,
   "metadata": {
    "collapsed": false
   },
   "outputs": [
    {
     "name": "stdout",
     "output_type": "stream",
     "text": [
      "older_team: TOT\n"
     ]
    }
   ],
   "source": [
    "import math\n",
    "\n",
    "class Player():\n",
    "    def __init__(self, data_row):\n",
    "        self.player_name = data_row[0]\n",
    "        self.position = data_row[1]\n",
    "        self.age = int(data_row[2])\n",
    "        self.team = data_row[3]\n",
    "\n",
    "class Team():\n",
    "    def __init__(self, team_name):\n",
    "        self.team_name = team_name\n",
    "        self.roster = []\n",
    "        for row in nba:\n",
    "            if row[3] == self.team_name:\n",
    "                self.roster.append(Player(row))\n",
    "    \n",
    "    def num_players(self):\n",
    "        count = 0\n",
    "        for player in self.roster:\n",
    "            count += 1\n",
    "        return count\n",
    "   \n",
    "    def average_age(self):\n",
    "        return math.fsum([player.age for player in self.roster]) / self.num_players()\n",
    "    \n",
    "    @classmethod\n",
    "    def older_team(self, team1, team2):\n",
    "        if team1.average_age() > team2.average_age():\n",
    "            return team1\n",
    "        else:\n",
    "            return team2\n",
    "        \n",
    "        \n",
    "old_team = Team.older_team(Team(\"TOT\"), Team(\"UTA\"))\n",
    "\n",
    "older_team = old_team.team_name\n",
    "print(\"older_team:\", older_team)"
   ]
  },
  {
   "cell_type": "markdown",
   "metadata": {},
   "source": [
    "###6: Inheritance"
   ]
  },
  {
   "cell_type": "markdown",
   "metadata": {},
   "source": [
    "In object oriented programming, the concept of inheritance enables you to organize classes in a tree-like hierarchy, where the parent class has some traits that are passed onto its descendants. When we define a class, we specify a parent class from which it inherits. Inheriting from a class means that the behavior of the parent also exists in the child, but that the child can still define its own additional behavior.\n",
    "\n",
    "Consider a Player class with generic information about NBA players. This is very useful, and there are a lot of things players have in common, but we may want specific behavior for different positions. We can define classes like Center, Forward, or Point Guard, each with behavior that is specific to that position. These classes would each specify Player as its parent class. They would all be siblings, and would each inherit the same behaviors from the Player class, while also containing special behaviors of their own.\n",
    "\n",
    "In Python 3, every class is a subclass of a generic object class. This is done automatically when an ancestor is not specified, but it's sometimes good practice to be explicit. When we define classes for the remainder of this mission, we will explicitly specify when a class has object as its parent. This is a good programming practice because if we get in the habit of specifying a class's ancestry, we won't forget to specify a parent when the parent class is something other than object. It's simply a way to form good habits."
   ]
  },
  {
   "cell_type": "markdown",
   "metadata": {},
   "source": [
    "###7: Overloading"
   ]
  },
  {
   "cell_type": "markdown",
   "metadata": {},
   "source": [
    "When a class inherits from a parent class, it acquires all of the behavior from that parent class. However, sometimes we don't want all of that behavior, or we want to modify it slightly for our custom class. To do so, we use a tool known as overloading.\n",
    "\n",
    "Overloading inherited behavior means we assign new behavior to our custom class. It's simply done by redefining the method on our new class.\n",
    "\n",
    "We will be altering our Player class to support comparisons using >, <, ==, !=, >=, and <=. The object class has these methods built in, and we've seen these operators used to compare integers, floating point numbers (decimals), and strings. The operators work because classes like string have implemented them specifically. However, it's a little difficult to understand why the object class would need to have these methods. The best way to understand is through example.\n",
    "\n",
    "Let's imagine the + operator. The object class defines a method for addition. The sum() function is defined using the addition method, but the object class doesn't really know how to add integers or floating points specifically. However, the integer and float classes define their own addition method (thus overloading the object's addition method), and the sum() function will add the values together properly. This is very powerful, since sum() only had to be defined once, can be called on a multitude of classes, and results in proper behavior. This is the power of inheritance and overloading."
   ]
  },
  {
   "cell_type": "markdown",
   "metadata": {},
   "source": [
    "####Instructions"
   ]
  },
  {
   "cell_type": "markdown",
   "metadata": {},
   "source": [
    "Read the implementation of the __lt__ (less than, or <) method of our Player class. In this exercise, we will use comparisons to compare players by age.\n",
    "\n",
    "Implement __gt__ (greater than, or >), __le__ (<=), __ge__ (>=), __eq__ (==), and __ne__ (!=).\n",
    "\n",
    "Store the result of evaluating carmelo != kobe in result."
   ]
  },
  {
   "cell_type": "code",
   "execution_count": 6,
   "metadata": {
    "collapsed": false
   },
   "outputs": [
    {
     "name": "stdout",
     "output_type": "stream",
     "text": [
      "carmelo.player_name: Carmelo Anthony\n",
      "carmelo.position: PF\n",
      "carmelo.age: 29\n",
      "carmelo.team: NYK\n",
      "kobe.player_name: Kobe Bryant\n",
      "kobe.position: SG\n",
      "kobe.age: 35\n",
      "kobe.team: LAL\n",
      "result: True\n"
     ]
    }
   ],
   "source": [
    "class Player(object):\n",
    "    def __init__(self, data_row):\n",
    "        self.player_name = data_row[0]\n",
    "        self.position = data_row[1]\n",
    "        self.age = int(data_row[2])\n",
    "        self.team = data_row[3]\n",
    "        \n",
    "    def __lt__(self, other):\n",
    "        return self.age < other.age\n",
    "    def __gt__(self, other):\n",
    "        return self.age > other.age\n",
    "    def __le__(self, other):\n",
    "        return self.age <= other.age\n",
    "    def __ge__(self, other):\n",
    "        return self.age >= other.age\n",
    "    def __eq__(self, other):\n",
    "        return self.age == other.age\n",
    "    def __ne__(self, other):\n",
    "        return self.age != other.age\n",
    "\n",
    "\n",
    "#Compare ages between Carmelo and Kobe\n",
    "carmelo = Player(nba[18])\n",
    "\n",
    "print(\"carmelo.player_name:\", carmelo.player_name)\n",
    "print(\"carmelo.position:\", carmelo.position)\n",
    "print(\"carmelo.age:\", carmelo.age)\n",
    "print(\"carmelo.team:\", carmelo.team)\n",
    "\n",
    "\n",
    "kobe = Player(nba[69])\n",
    "\n",
    "print(\"kobe.player_name:\", kobe.player_name)\n",
    "print(\"kobe.position:\", kobe.position)\n",
    "print(\"kobe.age:\", kobe.age)\n",
    "print(\"kobe.team:\", kobe.team)\n",
    "\n",
    "\n",
    "result = carmelo != kobe\n",
    "print(\"result:\", result)"
   ]
  },
  {
   "cell_type": "markdown",
   "metadata": {},
   "source": [
    "###8: Comparing Average Ages"
   ]
  },
  {
   "cell_type": "markdown",
   "metadata": {},
   "source": [
    "We've seen that we can overload operators for custom classes. In the last screen, we were able to compare NBA players by age using >, <, ==, etc. This is extremely powerful, because a lot of built-in Python functions use these simple operators. If we implement them on a custom class, we can use functions like min and max on instances of our Person class.\n",
    "\n",
    "Our original goal was to compare NBA teams based on average ages. We saw how we could overload operators in our Person class, and now it's time to do the same for our Team class."
   ]
  },
  {
   "cell_type": "markdown",
   "metadata": {},
   "source": [
    "####Instructions"
   ]
  },
  {
   "cell_type": "markdown",
   "metadata": {},
   "source": [
    "Overload the same 6 methods we wrote for the Person class on the Team class, this time comparing average ages for teams.\n",
    "\n",
    "The methods are __lt__ (<), __gt__ (>), __le__ (<=), __ge__ (>=), __eq__ (==), and __ne__ (!=). Each should take a self parameter and an other parameter. self and other are 2 instances of the Team class, whose average ages should be compared.\n",
    "\n",
    "Between the \"TOT\" and \"ORL\" teams, store the older team in older_team. Now that we've implemented comparison operators, we can use a few useful functions, including the max function, which takes a list of values and returns the maximum value, according to the comparisons that are defined."
   ]
  },
  {
   "cell_type": "code",
   "execution_count": 7,
   "metadata": {
    "collapsed": false
   },
   "outputs": [
    {
     "name": "stdout",
     "output_type": "stream",
     "text": [
      "TOT_team_name: TOT\n",
      "TOT_num_players: 63\n",
      "TOT_avg_age: 26.41269841269841\n",
      "ORL_team_name: ORL\n",
      "ORL_num_players: 13\n",
      "ORL_avg_age: 25.076923076923077\n",
      "older_team.team_name: TOT\n"
     ]
    }
   ],
   "source": [
    "import math\n",
    "\n",
    "class Team(object):\n",
    "    def __init__(self, team_name):\n",
    "        self.team_name = team_name\n",
    "        self.roster = []\n",
    "        for row in nba:\n",
    "            if row[3] == self.team_name:\n",
    "                self.roster.append(Player(row))\n",
    "                \n",
    "    def num_players(self):\n",
    "        count = 0\n",
    "        for player in self.roster:\n",
    "            count += 1\n",
    "        return count\n",
    "    \n",
    "    def average_age(self):\n",
    "        return math.fsum([player.age for player in self.roster]) / self.num_players()\n",
    "    def __lt__(self, other):\n",
    "        return self.average_age() < other.average_age()\n",
    "    def __gt__(self, other):\n",
    "        return self.average_age() > other.average_age()\n",
    "    def __le__(self, other):\n",
    "        return self.average_age() <= other.average_age()\n",
    "    def __ge__(self, other):\n",
    "        return self.average_age() >= other.average_age()\n",
    "    def __eq__(self, other):\n",
    "        return self.average_age() == other.average_age()\n",
    "    def __ne__(self, other):\n",
    "        return self.average_age() != other.average_age()\n",
    "\n",
    "\n",
    "#Compare max ages between TOT and ORL\n",
    "TOT = Team(\"TOT\")\n",
    "\n",
    "TOT_team_name = TOT.team_name\n",
    "TOT_num_players = TOT.num_players()\n",
    "TOT_avg_age = TOT.average_age()\n",
    "\n",
    "print(\"TOT_team_name:\", TOT_team_name)\n",
    "print(\"TOT_num_players:\", TOT_num_players)\n",
    "print(\"TOT_avg_age:\", TOT_avg_age)\n",
    "\n",
    "\n",
    "ORL = Team(\"ORL\")\n",
    "\n",
    "ORL_team_name = ORL.team_name\n",
    "ORL_num_players = ORL.num_players()\n",
    "ORL_avg_age = ORL.average_age()\n",
    "\n",
    "print(\"ORL_team_name:\", ORL_team_name)\n",
    "print(\"ORL_num_players:\", ORL_num_players)\n",
    "print(\"ORL_avg_age:\", ORL_avg_age)\n",
    "\n",
    "\n",
    "older_team = max([TOT, ORL])\n",
    "print(\"older_team.team_name:\", older_team.team_name)"
   ]
  },
  {
   "cell_type": "markdown",
   "metadata": {},
   "source": [
    "###9: Oldest NBA Team"
   ]
  },
  {
   "cell_type": "markdown",
   "metadata": {},
   "source": [
    "Now that we've implemented the comparison operations, a lot of interesting information is readily available to us. Python uses these comparisons to implement many utility functions, and we can now use those functions in a new setting to do analysis for us. Through overloading operators, we now have access to powerful functions without having to implement tedious logic."
   ]
  },
  {
   "cell_type": "markdown",
   "metadata": {},
   "source": [
    "####Instructions"
   ]
  },
  {
   "cell_type": "markdown",
   "metadata": {},
   "source": [
    "Alter the indicated list comprehension so that the teams variable contains a list of all the teams corresponding to the names in team_names.\n",
    "\n",
    "Use max to store the oldest team in oldest_team.\n",
    "\n",
    "Use min to store the youngest team in youngest_team.\n",
    "\n",
    "Use sorted to store a youngest-to-oldest list of teams in sorted_teams."
   ]
  },
  {
   "cell_type": "code",
   "execution_count": 8,
   "metadata": {
    "collapsed": false
   },
   "outputs": [
    {
     "name": "stdout",
     "output_type": "stream",
     "text": [
      "oldest_team.team_name: TOT\n",
      "youngest_team.team_name: ORL\n",
      "sorted_teams.team_name: ORL TOT\n"
     ]
    }
   ],
   "source": [
    "team_names = [\"TOT\", \"ORL\"]\n",
    "teams = list([Team(name) for name in team_names])\n",
    "\n",
    "oldest_team = max(teams)\n",
    "youngest_team = min(teams)\n",
    "sorted_teams = sorted(teams)\n",
    "\n",
    "print(\"oldest_team.team_name:\", oldest_team.team_name)\n",
    "print(\"youngest_team.team_name:\", youngest_team.team_name)\n",
    "print(\"sorted_teams.team_name:\", sorted_teams[0].team_name, sorted_teams[1].team_name)"
   ]
  },
  {
   "cell_type": "markdown",
   "metadata": {},
   "source": [
    "###10: Conclusion"
   ]
  },
  {
   "cell_type": "markdown",
   "metadata": {},
   "source": [
    "To solve our problem, we chose an implementation that cleanly separated the ideas of a Player and a Team. By doing so, we wrote organized and sensible code that wasn't too difficult to keep track of. Most importantly, we chose an elegant solution that allowed us to easily analyze the data we were interested in.\n",
    "\n",
    "By implementing comparison operators, we were able to very easily determine which team was the oldest and the youngest, and could even rank NBA teams based on age in just one line of code. This is the power of object oriented programming, and it highlights the importance of choosing our implementation wisely."
   ]
  }
 ],
 "metadata": {
  "kernelspec": {
   "display_name": "Python 3",
   "language": "python",
   "name": "python3"
  },
  "language_info": {
   "codemirror_mode": {
    "name": "ipython",
    "version": 3
   },
   "file_extension": ".py",
   "mimetype": "text/x-python",
   "name": "python",
   "nbconvert_exporter": "python",
   "pygments_lexer": "ipython3",
   "version": "3.4.3"
  }
 },
 "nbformat": 4,
 "nbformat_minor": 0
}
