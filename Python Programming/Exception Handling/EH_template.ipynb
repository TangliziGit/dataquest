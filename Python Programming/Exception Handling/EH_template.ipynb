{
 "cells": [
  {
   "cell_type": "code",
   "execution_count": 1,
   "metadata": {
    "collapsed": true
   },
   "outputs": [],
   "source": [
    "from __future__ import print_function"
   ]
  },
  {
   "cell_type": "markdown",
   "metadata": {},
   "source": [
    "#Python Programming"
   ]
  },
  {
   "cell_type": "markdown",
   "metadata": {},
   "source": [
    "##Exception Handling"
   ]
  },
  {
   "cell_type": "markdown",
   "metadata": {},
   "source": [
    "###1: The Science of Chopsticks"
   ]
  },
  {
   "cell_type": "markdown",
   "metadata": {},
   "source": [
    "In 1991, a group of Taiwanese researchers set out to determine what length of chopstick is most effective. Over 30 individuals participated in the experiment, each of which tried every length of chopstick. This ensured that the results were not skewed by different skill levels or individuals who have grown accustomed to using certain lengths of chopsticks.\n",
    "\n",
    "After an exciting few days of picking up peanuts and placing them into cups, the researchers gathered enough data to determine which chopsticks are most efficient. Their findings form our dataset.\n",
    "\n",
    "In the first column of the dataset is the \"Food.Pinching.Efficiency\" measurement, which is a decimal value. The higher the value, the better the chopstick.\n",
    "\n",
    "The second column, \"Individual\", contains unique identifiers for the particular individual that used the chopstick.\n",
    "\n",
    "In the third column is the \"Chopstick.Length\" measurement, in millimeters.\n",
    "\n",
    "Each row in our dataset is a trial, where a particular individual uses a certain length of chopstick, and the food pinching efficiency is measured for that individual and that length of chopstick."
   ]
  },
  {
   "cell_type": "markdown",
   "metadata": {},
   "source": [
    "###2: Organizing our code"
   ]
  },
  {
   "cell_type": "markdown",
   "metadata": {},
   "source": [
    "Let's think a bit about how we want to structure our code. We want to answer questions like which chopstick is more efficient, which chopstick has the most consistent results, etc.\n",
    "\n",
    "All these questions are specific to certain lengths of chopstick, so it would be useful to have a Chopstick class that contains methods to compute these values based on which Chopstick we are using.\n",
    "\n",
    "However, we must also realize that in order to produce useful information from our Chopstick class, we need to store the data for that chopstick. There are a few ways to do this, but we'll create a whole Trial class that stores information about each row in our dataset."
   ]
  },
  {
   "cell_type": "markdown",
   "metadata": {},
   "source": [
    "####Instructions"
   ]
  },
  {
   "cell_type": "markdown",
   "metadata": {},
   "source": [
    "Write a Trial class with the following instance properties: efficiency, individual, chopstick_length. efficiency should be a floating point number, and the other two properties should be integers. These properties should be set within the class's constructor function (__init__), which should take in a row from our dataset as an argument.\n",
    "\n",
    "Store the first trial in our dataset in first_trial."
   ]
  },
  {
   "cell_type": "code",
   "execution_count": 2,
   "metadata": {
    "collapsed": false
   },
   "outputs": [
    {
     "name": "stdout",
     "output_type": "stream",
     "text": [
      "first_trial.chopstick_length: 180\n"
     ]
    }
   ],
   "source": [
    "import csv\n",
    "\n",
    "with open(\"data/chopstick-effectiveness.csv\", \"r\") as f:\n",
    "    reader = csv.reader(f, delimiter=',')\n",
    "    chopsticks = list(reader)\n",
    "    \n",
    "chopsticks = chopsticks[1:]\n",
    "\n",
    "\n",
    "class Trial(object):\n",
    "    def __init__(self, datarow):\n",
    "        self.efficiency = float(datarow[0])\n",
    "        self.individual = int(datarow[1])\n",
    "        self.chopstick_length = int(datarow[2])\n",
    "        \n",
    "    def __str__(self):\n",
    "        return str(self.chopstick_length)\n",
    "        \n",
    "first_trial = Trial(chopsticks[0])\n",
    "print(\"first_trial.chopstick_length:\", first_trial.chopstick_length)"
   ]
  },
  {
   "cell_type": "markdown",
   "metadata": {},
   "source": [
    "###3: The Chopstick class"
   ]
  },
  {
   "cell_type": "markdown",
   "metadata": {},
   "source": [
    "Let's also create a class, Chopstick, whose instance properties contain information about that chopstick. For now, the only instance property we'll store in our chopstick class is the chopstick length."
   ]
  },
  {
   "cell_type": "markdown",
   "metadata": {},
   "source": [
    "####Instructions"
   ]
  },
  {
   "cell_type": "markdown",
   "metadata": {},
   "source": [
    "Write a Chopstick class that is initialized with a length. Store that length in the length instance property.\n",
    "\n",
    "Store the Chopstick instance with a length of 100 (millimeters) in mini_chopstick."
   ]
  },
  {
   "cell_type": "code",
   "execution_count": 3,
   "metadata": {
    "collapsed": false
   },
   "outputs": [
    {
     "name": "stdout",
     "output_type": "stream",
     "text": [
      "mini_chopstick.length: 100\n"
     ]
    }
   ],
   "source": [
    "class Chopstick(object):\n",
    "    def __init__(self, length):\n",
    "        self.length = length\n",
    "\n",
    "mini_chopstick = Chopstick(100)\n",
    "print(\"mini_chopstick.length:\", mini_chopstick.length)"
   ]
  },
  {
   "cell_type": "markdown",
   "metadata": {},
   "source": [
    "###4: Storing the trials"
   ]
  },
  {
   "cell_type": "markdown",
   "metadata": {},
   "source": [
    "Now we need to refine our Chopstick class a little to make it more useful. In each Chopstick instance, we're going to store all of the trials in our chopsticks dataset that correspond to that length of chopstick."
   ]
  },
  {
   "cell_type": "markdown",
   "metadata": {},
   "source": [
    "####Instructions"
   ]
  },
  {
   "cell_type": "markdown",
   "metadata": {},
   "source": [
    "Modify the __init__ method of our Chopstick class to store a list of trials corresponding to the proper chopstick length. We'll store this information in an instance property called trials. When searching for rows with the proper length, we should cast the dataset length to an integer before comparing so that we are not comparing a string to an integer.\n",
    "\n",
    "Store the Chopstick instance with a length of 240 in medium_chopstick."
   ]
  },
  {
   "cell_type": "code",
   "execution_count": 4,
   "metadata": {
    "collapsed": false
   },
   "outputs": [
    {
     "name": "stdout",
     "output_type": "stream",
     "text": [
      "medium_chopstick.length: 240\n"
     ]
    }
   ],
   "source": [
    "class Chopstick(object):\n",
    "    def __init__(self, length):\n",
    "        self.length = length\n",
    "        self.trials = []\n",
    "        for row in chopsticks:\n",
    "            if int(row[2]) == self.length:\n",
    "                self.trials.append(Trial(row))\n",
    "                \n",
    "medium_chopstick = Chopstick(240)\n",
    "print(\"medium_chopstick.length:\", medium_chopstick.length)"
   ]
  },
  {
   "cell_type": "markdown",
   "metadata": {},
   "source": [
    "###5: Average Efficiency"
   ]
  },
  {
   "cell_type": "markdown",
   "metadata": {},
   "source": [
    "####Instructions"
   ]
  },
  {
   "cell_type": "markdown",
   "metadata": {},
   "source": [
    "Write an avg_efficiency method for our Chopstick class that returns the average food pinching efficiency for that chopstick. We recommend writing a num_trials method to help you with this implementation, since the method could be useful further down the line.\n",
    "\n",
    "Store the average efficiency of chopsticks of length 210 in avg_eff_210."
   ]
  },
  {
   "cell_type": "code",
   "execution_count": 5,
   "metadata": {
    "collapsed": false
   },
   "outputs": [
    {
     "name": "stdout",
     "output_type": "stream",
     "text": [
      "num_trials_210: 31\n",
      "avg_eff_210: 25.483870967741932\n"
     ]
    }
   ],
   "source": [
    "class Chopstick(object):\n",
    "    def __init__(self, length):\n",
    "        self.length = length\n",
    "        self.trials = []\n",
    "        for row in chopsticks:\n",
    "            if int(row[2]) == self.length:\n",
    "                self.trials.append(Trial(row))\n",
    "                \n",
    "    def num_trials(self):\n",
    "        return len(self.trials)\n",
    "    \n",
    "    def avg_efficiency(self):\n",
    "        efficiency_sum = 0\n",
    "        for trial in self.trials:\n",
    "            efficiency_sum += trial.efficiency\n",
    "        return efficiency_sum / self.num_trials()\n",
    "    \n",
    "num_trials_210 = Chopstick(210).num_trials()\n",
    "print(\"num_trials_210:\", num_trials_210)\n",
    "\n",
    "avg_eff_210 = Chopstick(210).avg_efficiency()\n",
    "print(\"avg_eff_210:\", avg_eff_210)"
   ]
  },
  {
   "cell_type": "markdown",
   "metadata": {},
   "source": [
    "###6: Exceptions"
   ]
  },
  {
   "cell_type": "markdown",
   "metadata": {},
   "source": [
    "When programming, we usually try to avoid writing code that will produce errors. However, errors can be quite useful to us. An error tells us what went wrong with our code. We can use this information to help the logic of our program. If part of our code fails, we can check why it failed, and execute some other code instead.\n",
    "\n",
    "We need a way to handle errors gracefully during the execution of our code so that our program doesn't crash. This is where exception handling comes into play.\n",
    "\n",
    "An exception is a broad characterization of what can go wrong with a program. When a statement is syntactically correct, but something goes wrong when trying to execute it (e.g. a division by zero occurs or a non-existant file is read), the compiler raises an exception. An important distinction is that exceptions occur during the execution of the program, whereas syntax errors such as forgetting a colon or mispelling a variable are not."
   ]
  },
  {
   "cell_type": "markdown",
   "metadata": {},
   "source": [
    "###7: Exception Handling"
   ]
  },
  {
   "cell_type": "markdown",
   "metadata": {},
   "source": [
    "Typically when we write Python code, the interpretter will raise an exception (report an error) and keep executing the rest of the code after that exception is raised. We will see the exception, but our program will keep running as if it never happened. This is undesireable, because our program likely relies on previous statements being executed properly in order to succeed.\n",
    "\n",
    "Instead, we want to handle exceptions. We want to observe when an exception is raised, and react accordingly. This way, every piece of code that is executed is executed deliberately, and we have complete control over what our program does. In Python, we use a try-except block to handle exceptions. Observe the following piece of code:\n",
    "\n",
    "    try:\n",
    "        impossible_value = int(\"Not an integer\")\n",
    "    except ValueError:\n",
    "        print(\"Cannot convert string to integer\")\n",
    "    \n",
    "When the Python interpretter sees this code, it first attempts to execute the code in the try section of the statement. If any exceptions are raised within the try section (we hit some sort of error), our code will attempt to catch it, or gracefully handle it with different code. As it happens, our except statement will catch the exception because ValueError is the appropriate exception.\n",
    "\n",
    "Now consider this code block:\n",
    "\n",
    "    try:\n",
    "        f = open(\"data.txt\", \"r\")\n",
    "        s = f.readline()\n",
    "        i = float(s)\n",
    "    except ValueError:\n",
    "        print(\"Cannot convert data to floating point value\")\n",
    "    except IOError:\n",
    "        print(\"Could not read file\")\n",
    "\n",
    "Here, we caught a couple different types of exceptions that we suspected could arise during the execution of the try block.\n",
    "\n",
    "Python offers the ability to catch any exception by simply writing an except: section without specifying an exception. This is a sort of \"catch-all\", and it works like an else: statement. However, using a catch-all for exceptions is usually bad practice. Trying to catch every exception without being specific is dangerous, since you can't execute exception-specific logic, and it means you may not understand your code as fully as you should.\n",
    "\n",
    "If you catch every exception in one statement, you can't react to the exception that was raised because you have no idea what exception was raised. Instead, you should try catching as many specific exceptions as you possibly can. Think about what exceptions your code could cause, then catch and react to each one individually.\n",
    "\n",
    "That being said, there are still times when a catch-all after you have caught all of your expected exceptions is a good idea. You may want to catch the unknown exception, store it somewhere so that later on you can find what went wrong, and change your code to handle that particular exception."
   ]
  },
  {
   "cell_type": "markdown",
   "metadata": {},
   "source": [
    "###8: Bad Data - Part 1"
   ]
  },
  {
   "cell_type": "markdown",
   "metadata": {},
   "source": [
    "We have a working program that can find the average efficiency for a length of chopstick. However, we need to account for what happens when we read in bad data. We'll handle this exception in our Trial class, since that's the class that handles reading the values in our dataset."
   ]
  },
  {
   "cell_type": "markdown",
   "metadata": {},
   "source": [
    "####Instructions"
   ]
  },
  {
   "cell_type": "markdown",
   "metadata": {},
   "source": [
    "Our Trial class's __init__ function uses floating point conversion and integer conversion. These conversions could fail with a ValueError exception. Catch this exception, and set each attribute to -1 if it occurs.\n",
    "\n",
    "Create a Trial instance from the last row of our chopsticks dataset (chopsticks[-1]). Store this instance in bad_trial."
   ]
  },
  {
   "cell_type": "code",
   "execution_count": 6,
   "metadata": {
    "collapsed": false
   },
   "outputs": [
    {
     "name": "stdout",
     "output_type": "stream",
     "text": [
      "bad_trial.efficiency: 27.52\n"
     ]
    }
   ],
   "source": [
    "class Trial(object):\n",
    "    def __init__(self, datarow):\n",
    "        try:\n",
    "            self.efficiency = float(datarow[0])\n",
    "            self.individual = int(datarow[1])\n",
    "            self.chopstick_length = int(datarow[2])\n",
    "        except ValueError:\n",
    "            self.efficiency = -1.0\n",
    "            self.individual = -1\n",
    "            self.chopstick_length = -1\n",
    "\n",
    "bad_trial = Trial(chopsticks[-1])\n",
    "print(\"bad_trial.efficiency:\", bad_trial.efficiency)"
   ]
  },
  {
   "cell_type": "markdown",
   "metadata": {},
   "source": [
    "###9: Bad Data - Part 2"
   ]
  },
  {
   "cell_type": "markdown",
   "metadata": {},
   "source": [
    "While we wrote exceptions for handling bad data in the Trial class, we have not done the same for the Chopstick class."
   ]
  },
  {
   "cell_type": "markdown",
   "metadata": {},
   "source": [
    "####Instructions"
   ]
  },
  {
   "cell_type": "markdown",
   "metadata": {},
   "source": [
    "We set our Trial instance's attributes to -1 whenever we encountered bad data. Since we want to skip trials with bad data when populating a Chopstick instance's trials, verify that none of the attributes on the Trial instance are set to -1."
   ]
  },
  {
   "cell_type": "code",
   "execution_count": 7,
   "metadata": {
    "collapsed": false
   },
   "outputs": [
    {
     "name": "stdout",
     "output_type": "stream",
     "text": [
      "bad_chopstick.length: 400\n"
     ]
    }
   ],
   "source": [
    "class Chopstick(object):\n",
    "    def __init__(self, length):\n",
    "        self.length = length\n",
    "        self.trials = []\n",
    "        for row in chopsticks:\n",
    "            if int(row[2]) == self.length:\n",
    "                trial = Trial(row)\n",
    "                if trial.efficiency != -1 and trial.individual != -1 and trial.chopstick_length != -1:\n",
    "                    self.trials.append(trial)\n",
    "                    \n",
    "    def num_trials(self):\n",
    "        return len(self.trials)\n",
    "    \n",
    "    def avg_efficiency(self):\n",
    "        efficiency_sum = 0\n",
    "        for trial in self.trials:\n",
    "            efficiency_sum += trial.efficiency\n",
    "        return efficiency_sum / self.num_trials()\n",
    "\n",
    "bad_chopstick = Chopstick(400)\n",
    "print(\"bad_chopstick.length:\", bad_chopstick.length)"
   ]
  },
  {
   "cell_type": "markdown",
   "metadata": {},
   "source": [
    "###10: Division By Zero"
   ]
  },
  {
   "cell_type": "markdown",
   "metadata": {},
   "source": [
    "When we try to find the average efficiency for a chopstick length that isn't in our dataset, we end up dividing by zero in our avg_efficiency method. Thankfully, this throws a exception, and we can catch it."
   ]
  },
  {
   "cell_type": "markdown",
   "metadata": {},
   "source": [
    "####Instructions"
   ]
  },
  {
   "cell_type": "markdown",
   "metadata": {},
   "source": [
    "Modify the Chopstick class so that computing the average efficiency of a chopstick whose length is outside our data set returns -1.0. The Python interpreter will throw a ZeroDivisionError exception when trying to divide by zero. We must write a try-except statement to handle this.\n",
    "\n",
    "Store the result of finding the average efficiency of a chopstick of length 100 in bad_average."
   ]
  },
  {
   "cell_type": "code",
   "execution_count": 8,
   "metadata": {
    "collapsed": false
   },
   "outputs": [
    {
     "name": "stdout",
     "output_type": "stream",
     "text": [
      "bad_average: -1.0\n"
     ]
    }
   ],
   "source": [
    "class Chopstick(object):\n",
    "    def __init__(self, length):\n",
    "        self.length = length\n",
    "        self.trials = []\n",
    "        for row in chopsticks:\n",
    "            if int(row[2]) == self.length:\n",
    "                trial = Trial(row)\n",
    "                if trial.individual >= 0:\n",
    "                    self.trials.append(trial)\n",
    "                    \n",
    "    def num_trials(self):\n",
    "        return len(self.trials)\n",
    "    \n",
    "    def avg_efficiency(self):\n",
    "        efficiency_sum = 0\n",
    "        for trial in self.trials:\n",
    "            efficiency_sum += trial.efficiency\n",
    "        try:\n",
    "            return efficiency_sum / self.num_trials()\n",
    "        except ZeroDivisionError:\n",
    "            return -1.0\n",
    "        \n",
    "bad_average = Chopstick(100).avg_efficiency()\n",
    "print(\"bad_average:\", bad_average)"
   ]
  },
  {
   "cell_type": "markdown",
   "metadata": {},
   "source": [
    "###11: Most Efficient Chopsticks - Part 1"
   ]
  },
  {
   "cell_type": "markdown",
   "metadata": {},
   "source": [
    "Now it's time to answer our question. We want to determine which chopstick is best by checking which chopstick length has the highest average food pinching efficiency. Because we defined our average efficiencies to be -1.0 for chopsticks with bad data, those averages won't interrupt our calculations. 0 is the lowest possible average efficiency, so -1.0 shouldn't be an issue."
   ]
  },
  {
   "cell_type": "markdown",
   "metadata": {},
   "source": [
    "####Instructions"
   ]
  },
  {
   "cell_type": "markdown",
   "metadata": {},
   "source": [
    "We've provided you with a list of chopstick lengths called chopstick_lengths. Some of these lengths are not in our dataset, but we've already made sure our code is robust enough to ignore them.\n",
    "\n",
    "Use a list comprehension to convert this list of chopstick lengths into a list of Chopstick instances. Store the resultant list in chopstick_list."
   ]
  },
  {
   "cell_type": "code",
   "execution_count": 9,
   "metadata": {
    "collapsed": false
   },
   "outputs": [
    {
     "name": "stdout",
     "output_type": "stream",
     "text": [
      "chopstick_list.length: 180 195 210\n"
     ]
    }
   ],
   "source": [
    "chopstick_lengths = [180, 195, 210, 225, 240, 255, 270, 285, 300, 315, 330]\n",
    "chopstick_list = [Chopstick(length) for length in chopstick_lengths]\n",
    "print(\"chopstick_list.length:\", chopstick_list[0].length, chopstick_list[1].length, chopstick_list[2].length)"
   ]
  },
  {
   "cell_type": "markdown",
   "metadata": {},
   "source": [
    "###12: Most Efficient Chopsticks - Part 2"
   ]
  },
  {
   "cell_type": "markdown",
   "metadata": {},
   "source": [
    "####Instructions"
   ]
  },
  {
   "cell_type": "markdown",
   "metadata": {},
   "source": [
    "Overload the __lt__ (<), __gt__ (>), __le__ (<=), __ge__ (>=), __eq__ (==), and __ne__ (!=) methods for the Chopstick class so that you can simply use Python's built in max function. Remember that each of these methods takes self and other as arguments, where each argument is an instance of our class.\n",
    "\n",
    "Use the max function to store the most efficient chopstick in most_efficient."
   ]
  },
  {
   "cell_type": "code",
   "execution_count": 10,
   "metadata": {
    "collapsed": false
   },
   "outputs": [
    {
     "name": "stdout",
     "output_type": "stream",
     "text": [
      "most_efficient.length: 240\n"
     ]
    }
   ],
   "source": [
    "class Chopstick(object):\n",
    "    def __init__(self, length):\n",
    "        self.length = length\n",
    "        self.trials = []\n",
    "        for row in chopsticks:\n",
    "            if int(row[2]) == self.length:\n",
    "                trial = Trial(row)\n",
    "                if trial.individual >= 0:\n",
    "                    self.trials.append(trial)\n",
    "                    \n",
    "    def num_trials(self):\n",
    "        return len(self.trials)\n",
    "    \n",
    "    def avg_efficiency(self):\n",
    "        efficiency_sum = 0\n",
    "        for trial in self.trials:\n",
    "            efficiency_sum += trial.efficiency\n",
    "        try:\n",
    "            return efficiency_sum / self.num_trials()\n",
    "        except ZeroDivisionError:\n",
    "            return -1.0\n",
    "        \n",
    "    def __lt__(self, other):\n",
    "        return self.avg_efficiency() < other.avg_efficiency()\n",
    "    def __gt__(self, other):\n",
    "        return self.avg_efficiency() > other.avg_efficiency()\n",
    "    def __le__(self, other):\n",
    "        return self.avg_efficiency() <= other.avg_efficiency()\n",
    "    def __ge__(self, other):\n",
    "        return self.avg_efficiency() >= other.avg_efficiency()\n",
    "    def __eq__(self, other):\n",
    "        return self.avg_efficiency() == other.avg_efficiency()\n",
    "    def __ne__(self, other):\n",
    "        return self.avg_efficiency() != other.avg_efficiency()\n",
    "    \n",
    "chopstick_list = [Chopstick(length) for length in chopstick_lengths]\n",
    "most_efficient = max(chopstick_list)\n",
    "print(\"most_efficient.length:\", most_efficient.length)"
   ]
  }
 ],
 "metadata": {
  "kernelspec": {
   "display_name": "Python 3",
   "language": "python",
   "name": "python3"
  },
  "language_info": {
   "codemirror_mode": {
    "name": "ipython",
    "version": 3
   },
   "file_extension": ".py",
   "mimetype": "text/x-python",
   "name": "python",
   "nbconvert_exporter": "python",
   "pygments_lexer": "ipython3",
   "version": "3.4.3"
  }
 },
 "nbformat": 4,
 "nbformat_minor": 0
}
