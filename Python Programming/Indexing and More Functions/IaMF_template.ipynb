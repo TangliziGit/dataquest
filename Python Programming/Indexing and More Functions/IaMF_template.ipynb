{
 "cells": [
  {
   "cell_type": "code",
   "execution_count": 1,
   "metadata": {
    "collapsed": true
   },
   "outputs": [],
   "source": [
    "from __future__ import print_function"
   ]
  },
  {
   "cell_type": "markdown",
   "metadata": {},
   "source": [
    "#Python Programming"
   ]
  },
  {
   "cell_type": "markdown",
   "metadata": {},
   "source": [
    "##Indexing and More Functions"
   ]
  },
  {
   "cell_type": "markdown",
   "metadata": {},
   "source": [
    "###1: Writing a while loop"
   ]
  },
  {
   "cell_type": "markdown",
   "metadata": {},
   "source": [
    "Before we dive into analyzing the data, we need to learn a few more things about loops.\n",
    "\n",
    "A for loop isn't the only kind of loop.\n",
    "\n",
    "One other type of loop is called a while loop.\n",
    "\n",
    "It will keep running the loop as long as the condition specified is True.\n",
    "\n",
    "    x = 2\n",
    "    while x == 2:\n",
    "        print(x)\n",
    "\n",
    "The code above will run forever, because the loop will keep testing to see if x equals 2, and it will always return True.\n",
    "\n",
    "You have to be careful not to get into an infinite loop, or a loop that runs forever, when you use a while loop.\n",
    "\n",
    "    x = 2\n",
    "    while x == 3:\n",
    "        print(x)\n",
    "\n",
    "The code above won't run at all, because x will never equal three."
   ]
  },
  {
   "cell_type": "markdown",
   "metadata": {},
   "source": [
    "####Instructions"
   ]
  },
  {
   "cell_type": "markdown",
   "metadata": {},
   "source": [
    "Create a while loop that tests if b is greater than 5. If it is, the loop body should print b out, then subtract one from it."
   ]
  },
  {
   "cell_type": "code",
   "execution_count": 2,
   "metadata": {
    "collapsed": false
   },
   "outputs": [
    {
     "name": "stdout",
     "output_type": "stream",
     "text": [
      "x: 3\n",
      "x: 4\n",
      "x: 5\n",
      "b: 10\n",
      "b: 9\n",
      "b: 8\n",
      "b: 7\n",
      "b: 6\n"
     ]
    }
   ],
   "source": [
    "x = 3\n",
    "# The loop body will execute three times.  Once when x == 3, once when x == 4, and once when x == 5.\n",
    "# Then x < 6 will evaluate to False, and it will stop.\n",
    "# 3, 4, and 5 will be printed out.\n",
    "while x < 6:\n",
    "    print(\"x:\", x)\n",
    "    # Using += is a shorter way of saying x = x + 1.  It will add one to x.\n",
    "    x += 1\n",
    "\n",
    "b = 10\n",
    "while b > 5:\n",
    "    print(\"b:\", b)\n",
    "    b -= 1"
   ]
  },
  {
   "cell_type": "markdown",
   "metadata": {},
   "source": [
    "###2: Using the break keyword"
   ]
  },
  {
   "cell_type": "markdown",
   "metadata": {},
   "source": [
    "The break keyword can be used to stop a loop early.\n",
    "\n",
    "This can be useful in for loops when something happens inside the loop that makes us need to end it early.\n",
    "\n",
    "    dog_available = False\n",
    "    desired_dog = \"Great Dane\"\n",
    "    available_dogs = [\"Labrador\", \"Poodle\", \"Sheepdog\", \"Great Dane\", \"Pomeranian\"]\n",
    "    for dog in available_dogs:\n",
    "        if dog == desired_dog:\n",
    "            dog_available = True\n",
    "            break\n",
    "\n",
    "The code above will check to see if the desired_dog is available, and stop looping if it is found."
   ]
  },
  {
   "cell_type": "markdown",
   "metadata": {},
   "source": [
    "####Instructions"
   ]
  },
  {
   "cell_type": "markdown",
   "metadata": {},
   "source": [
    "Let's say we want two \"Bengal\" tigers from available_tigers for our nature reserve.\n",
    "\n",
    "Write a for loop that breaks after finding two, and increments tiger_count when it finds one."
   ]
  },
  {
   "cell_type": "code",
   "execution_count": 3,
   "metadata": {
    "collapsed": false
   },
   "outputs": [],
   "source": [
    "available_count = 0\n",
    "desired_dog = \"Great Dane\"\n",
    "available_dogs = [\"Labrador\", \"Poodle\", \"Sheepdog\", \"Great Dane\", \"Pomeranian\", \"Great Dane\", \"Collie\"]\n",
    "\n",
    "# Let's say we are searching for two dogs of the same breed to adopt.\n",
    "# We'll loop through the dogs.\n",
    "for dog in available_dogs:\n",
    "    # If our desired dog is found.\n",
    "    if dog == desired_dog:\n",
    "        # Increment the counter.\n",
    "        available_count += 1\n",
    "        # We only want two dogs, so we can stop searching after we find them.\n",
    "        if available_count == 2:\n",
    "            break\n",
    "\n",
    "tiger_count = 0\n",
    "desired_tiger = \"Bengal\"\n",
    "available_tigers = [\"Bengal\", \"Dressed up poodle\", \"Siberian\", \"Sumatran\", \"Bengal\", \"Housecat\", \"Hobbes\"]\n",
    "for tiger in available_tigers:\n",
    "    if tiger == desired_tiger:\n",
    "        tiger_count += 1\n",
    "        if tiger_count == 2:\n",
    "            break"
   ]
  },
  {
   "cell_type": "markdown",
   "metadata": {},
   "source": [
    "###3: Finding a column number from a name"
   ]
  },
  {
   "cell_type": "markdown",
   "metadata": {},
   "source": [
    "The data is in the flight_delays variable, and the column names are in the column_names variable.\n",
    "\n",
    "So far, we've been numbering columns and selecting them using numbers, but it can get pretty painful to do this when there are more than 10 columns.\n",
    "\n",
    "One fix for this is to refer to the columns by name, and write a function that returns a column number for a given column name."
   ]
  },
  {
   "cell_type": "markdown",
   "metadata": {},
   "source": [
    "####Instructions"
   ]
  },
  {
   "cell_type": "markdown",
   "metadata": {},
   "source": [
    "Write a function that will get the column number from the column name.\n",
    "\n",
    "Use it to get the column number for the \"arr_delay\" column and assign it to the arr_delay variable.\n",
    "\n",
    "Use it to get the column number for the \"weather_delay\" column and assign it to the weather_delay variable."
   ]
  },
  {
   "cell_type": "code",
   "execution_count": 4,
   "metadata": {
    "collapsed": false
   },
   "outputs": [
    {
     "name": "stdout",
     "output_type": "stream",
     "text": [
      "column_names: ['year', ' month', 'carrier', 'carrier_name', 'airport', 'airport_name', 'arr_flights', 'arr_del15', 'carrier_ct', ' weather_ct', 'nas_ct', 'security_ct', 'late_aircraft_ct', 'arr_cancelled', 'arr_diverted', 'arr_delay', ' carrier_delay', 'weather_delay', 'nas_delay', 'security_delay', 'late_aircraft_delay']\n",
      "flight_delays[:3]: [['2003', '6', 'AA', 'American Airlines Inc.', 'ATL', 'Atlanta, GA: Hartsfield-Jackson Atlanta International', '752', '186', '33.99', '27.82', '104.76', '1.9', '17.53', '5', '0', '8314', '1367', '1722', '3817', '139', '1269'], ['2003', '6', 'AA', 'American Airlines Inc.', 'BOS', 'Boston, MA: Logan International', '1266', '225', '69.43', '23.66', '83.93', '2.25', '45.73', '7', '0', '12139', '4201', '1783', '3067', '45', '3043'], ['2003', '6', 'AA', 'American Airlines Inc.', 'BWI', 'Baltimore, MD: Baltimore/Washington International Thurgood Marshall', '593', '101', '17.56', '20.49', '38.26', '0', '24.69', '1', '1', '5698', '1058', '1332', '1708', '0', '1600']]\n"
     ]
    }
   ],
   "source": [
    "import csv\n",
    "\n",
    "f = open(\"data/flight_delays.csv\", \"r\")\n",
    "reader = csv.reader(f)\n",
    "flight_delays = list(reader)\n",
    "\n",
    "column_names = flight_delays[0]\n",
    "print(\"column_names:\", column_names)\n",
    "flight_delays = flight_delays[1:]\n",
    "print(\"flight_delays[:3]:\", flight_delays[:3])\n",
    "\n",
    "# It's pretty easy to get a column name from a column number.\n",
    "# The third column contains the carrier (same as the airline).\n",
    "#print column_names[2]\n",
    "\n",
    "def column_number_from_name(column_name):\n",
    "    column_number = None\n",
    "    for i, column in enumerate(column_names):\n",
    "        if column == column_name:\n",
    "            column_number = i\n",
    "    return column_number\n",
    "\n",
    "# Convert blank entries to zero.\n",
    "for column in column_names:\n",
    "    column_number = column_number_from_name(column)\n",
    "\n",
    "    for row in flight_delays:\n",
    "        if row[column_number] == \"\":\n",
    "            row[column_number] = 0\n",
    "\n",
    "arr_delay = column_number_from_name(\"arr_delay\")\n",
    "weather_delay = column_number_from_name(\"weather_delay\")"
   ]
  },
  {
   "cell_type": "markdown",
   "metadata": {},
   "source": [
    "###4: Using negative indexing"
   ]
  },
  {
   "cell_type": "markdown",
   "metadata": {},
   "source": [
    "We can index lists with negative values.\n",
    "\n",
    "Positive indexes start getting values from the beginning of a list, but negative indexes get values from the end of a list."
   ]
  },
  {
   "cell_type": "markdown",
   "metadata": {},
   "source": [
    "####Instructions"
   ]
  },
  {
   "cell_type": "markdown",
   "metadata": {},
   "source": [
    "Use negative indexing to assign the third to last row in flight_delays to third_to_last.\n",
    "\n",
    "Use negative slicing to assign the fourth, third, and second to last rows in flight_delays to end_slice."
   ]
  },
  {
   "cell_type": "code",
   "execution_count": 5,
   "metadata": {
    "collapsed": false
   },
   "outputs": [
    {
     "name": "stdout",
     "output_type": "stream",
     "text": [
      "flight_delays[-1]: ['2015', '6', 'WN', 'Southwest Airlines Co.', 'PHL', 'Philadelphia, PA: Philadelphia International', '701', '221', '63.42', '18.38', '61.04', '0', '78.16', '11', '7', '14435', '3746', '1716', '3508', '0', '5465']\n",
      "flight_delays[-2]: ['2015', '6', 'WN', 'Southwest Airlines Co.', 'PDX', 'Portland, OR: Portland International', '1094', '295', '98.44', '2.38', '22.18', '0', '171.99', '3', '0', '14720', '4737', '164', '741', '0', '9078']\n",
      "flight_delays[-3:-1] [['2015', '6', 'WN', 'Southwest Airlines Co.', 'TPA', 'Tampa, FL: Tampa International', '2412', '571', '198.35', '16.23', '71.2', '1.13', '284.09', '33', '11', '34449', '12385', '1452', '2823', '50', '17739'], ['2015', '6', 'WN', 'Southwest Airlines Co.', 'PDX', 'Portland, OR: Portland International', '1094', '295', '98.44', '2.38', '22.18', '0', '171.99', '3', '0', '14720', '4737', '164', '741', '0', '9078']]\n"
     ]
    }
   ],
   "source": [
    "# Prints the last row in flight_delays.\n",
    "print(\"flight_delays[-1]:\", flight_delays[-1])\n",
    "\n",
    "# Prints the second to last row in flight_delays.\n",
    "print(\"flight_delays[-2]:\", flight_delays[-2])\n",
    "\n",
    "# Prints the third to last and second to last rows in flight_delays\n",
    "# (remember that slicing only goes up to but not including the second number)\n",
    "# This will get the rows at index -3 and -2.\n",
    "print(\"flight_delays[-3:-1]\", flight_delays[-3:-1])\n",
    "third_to_last = flight_delays[-3]\n",
    "end_slice = flight_delays[-4:-1]"
   ]
  },
  {
   "cell_type": "markdown",
   "metadata": {},
   "source": [
    "###5: Indexing up to the end or from the beginning"
   ]
  },
  {
   "cell_type": "markdown",
   "metadata": {},
   "source": [
    "When we take a slice, we can leave one of the numbers blank."
   ]
  },
  {
   "cell_type": "markdown",
   "metadata": {},
   "source": [
    "####Instructions"
   ]
  },
  {
   "cell_type": "markdown",
   "metadata": {},
   "source": [
    "Assign the first 10 rows of flight_delays to first_ten_rows.\n",
    "\n",
    "Assign the last 10 rows of flight_delays to last_ten_rows."
   ]
  },
  {
   "cell_type": "code",
   "execution_count": 6,
   "metadata": {
    "collapsed": false
   },
   "outputs": [],
   "source": [
    "# This code will get the rows at index 0, 1, 2, 3, and 4.\n",
    "first_five_rows = flight_delays[:5]\n",
    "\n",
    "# This will get the rows at index -5, -4, -3, -2, and -1\n",
    "last_five_rows = flight_delays[-5:]\n",
    "\n",
    "first_ten_rows = flight_delays[:10]\n",
    "last_ten_rows = flight_delays[-10:]"
   ]
  },
  {
   "cell_type": "markdown",
   "metadata": {},
   "source": [
    "###6: Finding the percentage of delayed flights"
   ]
  },
  {
   "cell_type": "markdown",
   "metadata": {},
   "source": [
    "We can now find the percentage of flights that are delayed."
   ]
  },
  {
   "cell_type": "markdown",
   "metadata": {},
   "source": [
    "####Instructions"
   ]
  },
  {
   "cell_type": "markdown",
   "metadata": {},
   "source": [
    "Sum together the values in the \"arr_del15\" column. This is the total number of arriving flights in each airport that were delayed more than 15 minutes.\n",
    "\n",
    "Then, divide the number of delayed flights by total_arriving_flights. Assign the result to delayed_percentage."
   ]
  },
  {
   "cell_type": "code",
   "execution_count": 7,
   "metadata": {
    "collapsed": false
   },
   "outputs": [
    {
     "name": "stdout",
     "output_type": "stream",
     "text": [
      "total_arriving_flights: 50196030.0\n",
      "delayed_percentage: 0.20345150801766593\n"
     ]
    }
   ],
   "source": [
    "def column_number_from_name(column_name):\n",
    "    column_number = None\n",
    "    for i, column in enumerate(column_names):\n",
    "        if column == column_name:\n",
    "            column_number = i\n",
    "    return column_number\n",
    "\n",
    "# Get the column number of the arr_flight column.\n",
    "# This column counts the total number of arriving flights for a carrier in a given airport.\n",
    "arr_flights_column = column_number_from_name(\"arr_flights\")\n",
    "delayed_flights_column = column_number_from_name(\"arr_del15\")\n",
    "\n",
    "# Extract all of the values in the column using a list comprehension.\n",
    "# We need to convert the values to float because they are strings initially.\n",
    "arr_flights = [float(row[arr_flights_column]) for row in flight_delays]\n",
    "\n",
    "# Now we can use the sum() function to add together all of the values.\n",
    "total_arriving_flights = sum(arr_flights)\n",
    "delayed_flights = [float(row[delayed_flights_column]) for row in flight_delays]\n",
    "delayed_percentage = sum(delayed_flights) / total_arriving_flights\n",
    "\n",
    "print(\"total_arriving_flights:\", total_arriving_flights)\n",
    "print(\"delayed_percentage:\", delayed_percentage)"
   ]
  },
  {
   "cell_type": "markdown",
   "metadata": {},
   "source": [
    "###7: Finding the average delay time"
   ]
  },
  {
   "cell_type": "markdown",
   "metadata": {},
   "source": [
    "The total amount of time (in minutes) that planes for a given carrier were delayed at a given airport is in \"arr_delay\" column."
   ]
  },
  {
   "cell_type": "markdown",
   "metadata": {},
   "source": [
    "####Instructions"
   ]
  },
  {
   "cell_type": "markdown",
   "metadata": {},
   "source": [
    "Find the sum of the \"arr_delay\" column.\n",
    "\n",
    "Then, divide it by the sum of the \"arr_del15\" column to get the average number of minutes a plane was delayed.\n",
    "\n",
    "Assign the result to average_delay_time."
   ]
  },
  {
   "cell_type": "code",
   "execution_count": 8,
   "metadata": {
    "collapsed": false
   },
   "outputs": [
    {
     "name": "stdout",
     "output_type": "stream",
     "text": [
      "average_delay_time: 56.47049515405596\n"
     ]
    }
   ],
   "source": [
    "def column_number_from_name(column_name):\n",
    "    column_number = None\n",
    "    for i, column in enumerate(column_names):\n",
    "        if column == column_name:\n",
    "            column_number = i\n",
    "    return column_number\n",
    "\n",
    "delayed_flights_column = column_number_from_name(\"arr_del15\")\n",
    "delay_time_column = column_number_from_name(\"arr_delay\")\n",
    "\n",
    "average_delay_time = None\n",
    "delayed_flights_column = column_number_from_name(\"arr_del15\")\n",
    "delayed_flights = [float(row[delayed_flights_column]) for row in flight_delays]\n",
    "\n",
    "delay_time_column = column_number_from_name(\"arr_delay\")\n",
    "delay_time = [float(row[delay_time_column]) for row in flight_delays]\n",
    "average_delay_time = sum(delay_time) / sum(delayed_flights)\n",
    "\n",
    "print(\"average_delay_time:\", average_delay_time)"
   ]
  },
  {
   "cell_type": "markdown",
   "metadata": {},
   "source": [
    "###8: Making a function to calculate the delay"
   ]
  },
  {
   "cell_type": "markdown",
   "metadata": {},
   "source": [
    "There are a few more columns that we'll need to calculate the sum of, and its getting a bit tedious to keep typing the same few commands.\n",
    "\n",
    "Let's make a function to save ourselves time."
   ]
  },
  {
   "cell_type": "markdown",
   "metadata": {},
   "source": [
    "####Instructions"
   ]
  },
  {
   "cell_type": "markdown",
   "metadata": {},
   "source": [
    "Make a function that takes a column name as input, and returns the column sum.\n",
    "\n",
    "Then use the function to take the sum of the \"weather_delay\" column, and divide it by the sum of the \"arr_del15\" column.\n",
    "\n",
    "Assign the result to average_weather_delay_time."
   ]
  },
  {
   "cell_type": "code",
   "execution_count": 9,
   "metadata": {
    "collapsed": false
   },
   "outputs": [
    {
     "name": "stdout",
     "output_type": "stream",
     "text": [
      "average_weather_delay_time: 2.6141094533754754\n"
     ]
    }
   ],
   "source": [
    "def column_number_from_name(column_name):\n",
    "    column_number = None\n",
    "    for i, column in enumerate(column_names):\n",
    "        if column == column_name:\n",
    "            column_number = i\n",
    "    return column_number\n",
    "\n",
    "def calculate_column_sum(column_name):\n",
    "    column_number = column_number_from_name(column_name)\n",
    "    column = [float(row[column_number]) for row in flight_delays]\n",
    "    column_total = sum(column)\n",
    "    return column_total\n",
    "\n",
    "weather_delay_column = column_number_from_name(\"weather_delay\")\n",
    "\n",
    "average_weather_delay_time = calculate_column_sum(\"weather_delay\") / calculate_column_sum(\"arr_del15\")\n",
    "print(\"average_weather_delay_time:\", average_weather_delay_time)"
   ]
  },
  {
   "cell_type": "markdown",
   "metadata": {},
   "source": [
    "###9: Named arguments to functions"
   ]
  },
  {
   "cell_type": "markdown",
   "metadata": {},
   "source": [
    "We can use named keyword arguments to pass input to a function."
   ]
  },
  {
   "cell_type": "markdown",
   "metadata": {},
   "source": [
    "####Instructions"
   ]
  },
  {
   "cell_type": "markdown",
   "metadata": {},
   "source": [
    "Fix the statements above so the code runs properly.\n",
    "\n",
    "The first statement should divide 5 by 20, and the second should divide 100 by 30."
   ]
  },
  {
   "cell_type": "code",
   "execution_count": 10,
   "metadata": {
    "collapsed": false
   },
   "outputs": [
    {
     "name": "stdout",
     "output_type": "stream",
     "text": [
      "divide(10,5): 2.0\n",
      "divide(y=10, x=5): 0.5\n",
      "divide(x=5, y=10): 0.5\n",
      "divide(y=20, x=5): 0.25\n",
      "divide(x=100, y=30): 3.3333333333333335\n"
     ]
    }
   ],
   "source": [
    "def divide(x, y):\n",
    "    return float(x)/y\n",
    "\n",
    "# Use positional arguments, which will implicitly pass 10 to x and 5 to y.\n",
    "print(\"divide(10,5):\", divide(10,5))\n",
    "\n",
    "# Use named arguments, which will pass the values to the named variable.\n",
    "print(\"divide(y=10, x=5):\", divide(y=10, x=5))\n",
    "\n",
    "# If we use named arguments, the order doesn't matter\n",
    "print(\"divide(x=5, y=10):\", divide(x=5, y=10))\n",
    "\n",
    "# But we can't have any positional arguments after we use a named argument\n",
    "print(\"divide(y=20, x=5):\", divide(y=20, x=5))\n",
    "print(\"divide(x=100, y=30):\", divide(x=100, y=30))"
   ]
  },
  {
   "cell_type": "markdown",
   "metadata": {},
   "source": [
    "###10: Optional arguments to a function"
   ]
  },
  {
   "cell_type": "markdown",
   "metadata": {},
   "source": [
    "We can also specify default values in a function definition that make the arguments optional.\n",
    "\n",
    "You can't have an optional argument before a non-optional argument, just like named keywords."
   ]
  },
  {
   "cell_type": "markdown",
   "metadata": {},
   "source": [
    "####Instructions"
   ]
  },
  {
   "cell_type": "markdown",
   "metadata": {},
   "source": [
    "Fix the last two statements so that they work properly.\n",
    "\n",
    "The first statement should multiply 4 * 3 * 1\n",
    "\n",
    "The second statement should multiply 3 * 2 * 3"
   ]
  },
  {
   "cell_type": "code",
   "execution_count": 11,
   "metadata": {
    "collapsed": false
   },
   "outputs": [
    {
     "name": "stdout",
     "output_type": "stream",
     "text": [
      "multiply(5): 10\n",
      "multiply(5, 4): 20\n",
      "multiply(a=5): 10\n",
      "multiply(a=6, c=4): 48\n",
      "multiply(a=4, b=3): 12\n",
      "multiply(a=3, c=3): 18\n"
     ]
    }
   ],
   "source": [
    "def multiply(a, b=2, c=1):\n",
    "    return a * b * c\n",
    "\n",
    "# This will multiply 5 * 2 * 1\n",
    "print(\"multiply(5):\", multiply(5))\n",
    "\n",
    "# This will multiply 6 * 4 * 1\n",
    "print(\"multiply(5, 4):\", multiply(5, 4))\n",
    "\n",
    "# This will multiply 5 * 2 * 1\n",
    "print(\"multiply(a=5):\", multiply(a=5))\n",
    "\n",
    "# This will multiply 6 * 2 * 4\n",
    "print(\"multiply(a=6, c=4):\", multiply(a=6, c=4))\n",
    "\n",
    "# Invalid, because we didn't fill the a variable, which doesn't have a default.\n",
    "print(\"multiply(a=4, b=3):\", multiply(a=4, b=3))\n",
    "\n",
    "# Invalid, because we didn't fill the a variable.\n",
    "print(\"multiply(a=3, c=3):\", multiply(a=3, c=3))"
   ]
  },
  {
   "cell_type": "markdown",
   "metadata": {},
   "source": [
    "###11: Finding delay by carrier"
   ]
  },
  {
   "cell_type": "markdown",
   "metadata": {},
   "source": [
    "Now that we know about optional and keyword arguments, let's make a function that can find the average delay for a given airport."
   ]
  },
  {
   "cell_type": "markdown",
   "metadata": {},
   "source": [
    "####Instructions"
   ]
  },
  {
   "cell_type": "markdown",
   "metadata": {},
   "source": [
    "Fill in the rest of the find_average_delay function.\n",
    "\n",
    "You can calculate average delay time by dividing the \"arr_delay\" column by the \"arr_del15\" column.\n",
    "\n",
    "The \"carrier\" column can be used to subset by carrier.\n",
    "\n",
    "Then use the function to assign the average delay time to average_delay_time.\n",
    "\n",
    "Use the function again to assign the average delay time on carrier \"AA\" to american_airlines_average_delay_time."
   ]
  },
  {
   "cell_type": "code",
   "execution_count": 12,
   "metadata": {
    "collapsed": false
   },
   "outputs": [
    {
     "name": "stdout",
     "output_type": "stream",
     "text": [
      "average_delay_time: 56.47049515405596\n",
      "american_airlines_average_delay_time: 59.362134469731\n"
     ]
    }
   ],
   "source": [
    "def column_number_from_name(column_name):\n",
    "    column_number = None\n",
    "    for i, column in enumerate(column_names):\n",
    "        if column == column_name:\n",
    "            column_number = i\n",
    "    return column_number\n",
    "\n",
    "def find_average_delay(carrier_name=None):\n",
    "    total_delayed_flights = 0\n",
    "    total_delay_time = 0\n",
    "    delay_time_column = column_number_from_name(\"arr_delay\")\n",
    "    delay_number_column = column_number_from_name(\"arr_del15\")\n",
    "    carrier_column = column_number_from_name(\"carrier\")\n",
    "    for row in flight_delays:\n",
    "        if carrier_name is None or row[carrier_column] == carrier_name:\n",
    "            total_delayed_flights += float(row[delay_number_column])\n",
    "            total_delay_time += float(row[delay_time_column])\n",
    "    return total_delay_time / total_delayed_flights\n",
    "\n",
    "average_delay_time = find_average_delay()\n",
    "american_airlines_average_delay_time = find_average_delay(\"AA\")\n",
    "\n",
    "print(\"average_delay_time:\", average_delay_time)\n",
    "print(\"american_airlines_average_delay_time:\", american_airlines_average_delay_time)"
   ]
  },
  {
   "cell_type": "markdown",
   "metadata": {},
   "source": [
    "###12: Finding average delay for each carrier"
   ]
  },
  {
   "cell_type": "markdown",
   "metadata": {},
   "source": [
    "Now that we have a function to find the delay for a given carrier, we can find the delays for each carrier."
   ]
  },
  {
   "cell_type": "markdown",
   "metadata": {},
   "source": [
    "####Instructions"
   ]
  },
  {
   "cell_type": "markdown",
   "metadata": {},
   "source": [
    "Create a list of the unique carrier names.\n",
    "\n",
    "Then call the find_average_delay function for each carrier.\n",
    "\n",
    "Set the carriers as keys in the delays_by_carrier dictionary, with the values being the average delay times."
   ]
  },
  {
   "cell_type": "code",
   "execution_count": 13,
   "metadata": {
    "collapsed": false
   },
   "outputs": [
    {
     "name": "stdout",
     "output_type": "stream",
     "text": [
      "delays_by_carrier: {'US': 48.78565400843882, 'DL': 53.76891443330582, 'HP': 45.270835956980584, 'F9': 50.097403085159414, 'B6': 62.84498670040223, 'RU': 58.148919452958474, 'FL': 57.38075660630524, 'AA': 59.362134469731, '9E': 61.099084755164306, 'UA': 59.37946761830199, 'OH': 56.831616212878096, 'MQ': 61.785425161954315, 'YV': 65.34052644059759, 'XE': 66.81241586890181, 'HA': 50.89347014925373, 'AQ': 50.468879668049794, 'NK': 67.34425011817139, 'WN': 48.97373921973743, 'TZ': 58.65738720958416, 'VX': 66.96449918493026, 'DH': 63.23939241165086, 'AS': 50.16532318760089, 'EV': 65.13085231843156, 'CO': 56.87818765091253, 'OO': 57.48481293103578, 'NW': 49.824358059491665}\n"
     ]
    }
   ],
   "source": [
    "def column_number_from_name(column_name):\n",
    "    column_number = None\n",
    "    for i, column in enumerate(column_names):\n",
    "        if column == column_name:\n",
    "            column_number = i\n",
    "    return column_number\n",
    "\n",
    "def find_average_delay(carrier_name=None):\n",
    "    total_delayed_flights = 0\n",
    "    total_delay_time = 0\n",
    "    delay_time_column = column_number_from_name(\"arr_delay\")\n",
    "    delay_number_column = column_number_from_name(\"arr_del15\")\n",
    "    carrier_column = column_number_from_name(\"carrier\")\n",
    "    for row in flight_delays:\n",
    "        if carrier_name is None or row[carrier_column] == carrier_name:\n",
    "            total_delayed_flights += float(row[delay_number_column])\n",
    "            total_delay_time += float(row[delay_time_column])\n",
    "    return total_delay_time / total_delayed_flights\n",
    "\n",
    "delays_by_carrier = {}\n",
    "carrier_column = column_number_from_name(\"carrier\")\n",
    "carriers = [row[carrier_column] for row in flight_delays]\n",
    "unique_carriers = list(set(carriers))\n",
    "\n",
    "for carrier in unique_carriers:\n",
    "    delays_by_carrier[carrier] = find_average_delay(carrier)\n",
    "\n",
    "print(\"delays_by_carrier:\", delays_by_carrier)"
   ]
  }
 ],
 "metadata": {
  "kernelspec": {
   "display_name": "Python 3",
   "language": "python",
   "name": "python3"
  },
  "language_info": {
   "codemirror_mode": {
    "name": "ipython",
    "version": 3
   },
   "file_extension": ".py",
   "mimetype": "text/x-python",
   "name": "python",
   "nbconvert_exporter": "python",
   "pygments_lexer": "ipython3",
   "version": "3.4.3"
  }
 },
 "nbformat": 4,
 "nbformat_minor": 0
}
