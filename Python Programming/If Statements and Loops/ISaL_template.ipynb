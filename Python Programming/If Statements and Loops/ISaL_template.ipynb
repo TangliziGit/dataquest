{
 "cells": [
  {
   "cell_type": "code",
   "execution_count": 1,
   "metadata": {
    "collapsed": true
   },
   "outputs": [],
   "source": [
    "from __future__ import print_function"
   ]
  },
  {
   "cell_type": "markdown",
   "metadata": {},
   "source": [
    "#Python Programming"
   ]
  },
  {
   "cell_type": "markdown",
   "metadata": {},
   "source": [
    "##If Statements and Loops"
   ]
  },
  {
   "cell_type": "markdown",
   "metadata": {},
   "source": [
    "###1: Opening files"
   ]
  },
  {
   "cell_type": "markdown",
   "metadata": {},
   "source": [
    "A counter is a map from values to their frequencies. If you initialize a counter with a string, you get a map from each letter to the number of times it appears. If two words are anagrams, they yield equal Counters, so you can use Counters to test anagrams in linear time."
   ]
  },
  {
   "cell_type": "markdown",
   "metadata": {},
   "source": [
    "####Instructions"
   ]
  },
  {
   "cell_type": "markdown",
   "metadata": {},
   "source": [
    "Open the file called \"crime_rates.csv\" and store it in b."
   ]
  },
  {
   "cell_type": "code",
   "execution_count": 2,
   "metadata": {
    "collapsed": false
   },
   "outputs": [],
   "source": [
    "# Open the csv file with the open function and assign to 'b'.\n",
    "b = open(\"data/crime_rates.csv\", \"r\")"
   ]
  },
  {
   "cell_type": "markdown",
   "metadata": {},
   "source": [
    "###2: CSV files"
   ]
  },
  {
   "cell_type": "markdown",
   "metadata": {},
   "source": [
    "crime_rates.csv stores the data on crime rates. This data will help us find the city with the lowest violent crime. We can use the .read() method to read the data in the file into a variable. Methods are different from functions in that they are associated with a specific object. We will get more into objects and classes later on, but for now, it is enough to know that methods act on objects, whereas functions are global, and unattached to any specific objects."
   ]
  },
  {
   "cell_type": "markdown",
   "metadata": {},
   "source": [
    "####Instructions"
   ]
  },
  {
   "cell_type": "markdown",
   "metadata": {},
   "source": [
    "Open the \"crime_rates.csv\" file and assign it to f. Then read the contents of f and assign them to b."
   ]
  },
  {
   "cell_type": "code",
   "execution_count": 3,
   "metadata": {
    "collapsed": false
   },
   "outputs": [
    {
     "name": "stdout",
     "output_type": "stream",
     "text": [
      "b[:50]:\n",
      " Abbeville,11\n",
      "Adamsville,19\n",
      "Addison,1\n",
      "Alabaster,44\n",
      "\n"
     ]
    }
   ],
   "source": [
    "# Read the csv file.\n",
    "b = open(\"data/crime_rates.csv\", \"r\")\n",
    "b = b.read()\n",
    "print(\"b[:50]:\\n\", b[:50])"
   ]
  },
  {
   "cell_type": "markdown",
   "metadata": {},
   "source": [
    "###3: Making a list"
   ]
  },
  {
   "cell_type": "markdown",
   "metadata": {},
   "source": [
    "We can make a list by using square brackets. An empty list can be initialized by using []. We can also initialize lists with elements in them by doing something like [1,10,3]. Lists can contain any type of variable, including strings, floats, and integers."
   ]
  },
  {
   "cell_type": "markdown",
   "metadata": {},
   "source": [
    "####Instructions"
   ]
  },
  {
   "cell_type": "markdown",
   "metadata": {},
   "source": [
    "Make a list d that contains all integer values. Make another list e containing all string values. Make a final list f containing all float values."
   ]
  },
  {
   "cell_type": "code",
   "execution_count": 4,
   "metadata": {
    "collapsed": false
   },
   "outputs": [
    {
     "name": "stdout",
     "output_type": "stream",
     "text": [
      "b: [1, \"I'm a string in a list!\", 5.1]\n",
      "c: [1, 2, 3]\n",
      "d: [1, 2, 3]\n",
      "e: ['hello', 'bye', 'hi']\n",
      "f: [5.1, 3.4, 10.5]\n"
     ]
    }
   ],
   "source": [
    "# Make an empty list\n",
    "a = []\n",
    "\n",
    "# Can also initialize a list with values\n",
    "b = [1, \"I'm a string in a list!\", 5.1]\n",
    "print(\"b:\", b)\n",
    "\n",
    "c = [1,2,3]\n",
    "print(\"c:\", c)\n",
    "\n",
    "d = [1,2,3]\n",
    "print(\"d:\", d)\n",
    "\n",
    "e = [\"hello\", \"bye\", \"hi\"]\n",
    "print(\"e:\", e)\n",
    "\n",
    "f = [5.1, 3.4, 10.5]\n",
    "print(\"f:\", f)"
   ]
  },
  {
   "cell_type": "markdown",
   "metadata": {},
   "source": [
    "###4: Indexing a list"
   ]
  },
  {
   "cell_type": "markdown",
   "metadata": {},
   "source": [
    "We can get values from a list by using square brackets, along with an index. Python is a 0-indexed language, so we start counting at 0."
   ]
  },
  {
   "cell_type": "markdown",
   "metadata": {},
   "source": [
    "####Instructions"
   ]
  },
  {
   "cell_type": "markdown",
   "metadata": {},
   "source": [
    "Assign the first element in c to the variable d, the second element in c to e, and the third element in c to f."
   ]
  },
  {
   "cell_type": "code",
   "execution_count": 5,
   "metadata": {
    "collapsed": false
   },
   "outputs": [
    {
     "name": "stdout",
     "output_type": "stream",
     "text": [
      "sample_list: [10, 'Boris Yeltsin', 50]\n",
      "b: 10\n"
     ]
    }
   ],
   "source": [
    "# Get values from lists by using an index.\n",
    "sample_list = [10, \"Boris Yeltsin\", 50]\n",
    "print(\"sample_list:\", sample_list)\n",
    "\n",
    "b = sample_list[0]\n",
    "print(\"b:\", b)\n",
    "\n",
    "c = [1, \"Mikhail Gorbachev\", 10.5]\n",
    "d = c[0]\n",
    "e = c[1]\n",
    "f = c[2]"
   ]
  },
  {
   "cell_type": "markdown",
   "metadata": {},
   "source": [
    "###5: Splitting a CSV file"
   ]
  },
  {
   "cell_type": "markdown",
   "metadata": {},
   "source": [
    "Remember how strings are also objects? Well, we can use the .split method to split strings. The .split method takes a character as input, and then turns a string into a list of strings."
   ]
  },
  {
   "cell_type": "code",
   "execution_count": 6,
   "metadata": {
    "collapsed": false
   },
   "outputs": [
    {
     "name": "stdout",
     "output_type": "stream",
     "text": [
      "a_string: This\n",
      "is\n",
      "a\n",
      "string\n",
      "\n",
      "split_string: ['This', 'is', 'a', 'string', '']\n",
      "string_two: How much wood\n",
      "can a woodchuck chuck\n",
      "if a woodchuck\n",
      "can chuck wood?\n",
      "split_string_two: ['How much wood', 'can a woodchuck chuck', 'if a woodchuck', 'can chuck wood?']\n"
     ]
    }
   ],
   "source": [
    "# Create string.\n",
    "a_string = \"This\\nis\\na\\nstring\\n\"\n",
    "print(\"a_string:\", a_string)\n",
    "\n",
    "# Split string into a list.\n",
    "split_string = a_string.split(\"\\n\")\n",
    "print(\"split_string:\", split_string)\n",
    "\n",
    "# Create string.\n",
    "string_two = \"How much wood\\ncan a woodchuck chuck\\nif a woodchuck\\ncan chuck wood?\"\n",
    "print(\"string_two:\", string_two)\n",
    "\n",
    "# Split string into a list.\n",
    "split_string_two = string_two.split('\\n')\n",
    "print(\"split_string_two:\", split_string_two)"
   ]
  },
  {
   "cell_type": "markdown",
   "metadata": {},
   "source": [
    "####Instructions"
   ]
  },
  {
   "cell_type": "markdown",
   "metadata": {},
   "source": [
    "Read the \"crime_rates.csv\" file in, split it on the newline character (\\n), and store the result in the rows variable."
   ]
  },
  {
   "cell_type": "code",
   "execution_count": 7,
   "metadata": {
    "collapsed": false
   },
   "outputs": [
    {
     "name": "stdout",
     "output_type": "stream",
     "text": [
      "rows[:50]: ['Abbeville,11', 'Adamsville,19', 'Addison,1', 'Alabaster,44', 'Alexander City,119', 'Aliceville,7', 'Andalusia,34', 'Anniston,461', 'Arab,32', 'Ardmore,2', 'Arley,3', 'Ashford,2', 'Ashland,9', 'Ashville,10', 'Athens,16', 'Atmore,52', 'Auburn,115', 'Bay Minette,47', 'Bear Creek,4', 'Bessemer,527', 'Birmingham,2852', 'Blountsville,6', 'Brent,16', 'Brewton,47', 'Bridgeport,13', 'Brilliant,4', 'Butler,6', 'Camp Hill,22', 'Carbon Hill,14', 'Cedar Bluff,20', 'Centre,21', 'Centreville,0', 'Chickasaw,53', 'Childersburg,1', 'Citronelle,22', 'Clanton,52', 'Clayton,8', 'Coaling,10', 'Collinsville,6', 'Cordova,15', 'Creola,10', 'Crossville,0', 'Cullman,31', 'Dadeville,17', 'Daleville,17', 'Daphne,31', 'Dauphin Island,4', 'Decatur,149', 'Demopolis,47', 'Dora,21']\n"
     ]
    }
   ],
   "source": [
    "f = open(\"data/crime_rates.csv\", \"r\")\n",
    "data = f.read()\n",
    "rows = data.split(\"\\n\")\n",
    "print(\"rows[:50]:\", rows[:50])"
   ]
  },
  {
   "cell_type": "markdown",
   "metadata": {},
   "source": [
    "###6: The manual way -- doing it without loops"
   ]
  },
  {
   "cell_type": "markdown",
   "metadata": {},
   "source": [
    "Before we make a loop, let's try doing a repetitive task without loops."
   ]
  },
  {
   "cell_type": "markdown",
   "metadata": {},
   "source": [
    "####Instructions"
   ]
  },
  {
   "cell_type": "markdown",
   "metadata": {},
   "source": [
    "Write separate print functions to print out the rest of the values in the list. Start at index 1, and go up to index 6."
   ]
  },
  {
   "cell_type": "code",
   "execution_count": 8,
   "metadata": {
    "collapsed": false
   },
   "outputs": [
    {
     "name": "stdout",
     "output_type": "stream",
     "text": [
      "the_list: [3, 5, 8, 10, 15, 17, 19]\n",
      "the_list[0]: 3\n",
      "the_list[1]: 5\n",
      "the_list[2]: 8\n",
      "the_list[3]: 10\n",
      "the_list[4]: 15\n",
      "the_list[5]: 17\n"
     ]
    }
   ],
   "source": [
    "# Create list.\n",
    "the_list = [3,5,8,10,15,17,19]\n",
    "print(\"the_list:\", the_list)\n",
    "\n",
    "# Print list elements.\n",
    "print(\"the_list[0]:\", the_list[0])\n",
    "print(\"the_list[1]:\", the_list[1])\n",
    "print(\"the_list[2]:\", the_list[2])\n",
    "print(\"the_list[3]:\", the_list[3])\n",
    "print(\"the_list[4]:\", the_list[4])\n",
    "print(\"the_list[5]:\", the_list[5])"
   ]
  },
  {
   "cell_type": "markdown",
   "metadata": {},
   "source": [
    "###7: Now let's add loops to the equation"
   ]
  },
  {
   "cell_type": "markdown",
   "metadata": {},
   "source": [
    "We can loop over lists using the for i in the_list: notation. The area inside the for loop is indented 4 spaces, and will be run once for every item in the list. The variable i will be assigned the value of each element of the list in turn."
   ]
  },
  {
   "cell_type": "markdown",
   "metadata": {},
   "source": [
    "####Instructions"
   ]
  },
  {
   "cell_type": "markdown",
   "metadata": {},
   "source": [
    "Use a for loop to print all of the items in the_list."
   ]
  },
  {
   "cell_type": "code",
   "execution_count": 9,
   "metadata": {
    "collapsed": false
   },
   "outputs": [
    {
     "name": "stdout",
     "output_type": "stream",
     "text": [
      "a: [5, 10, 15]\n",
      "i: 5\n",
      "i: 10\n",
      "i: 15\n",
      "the_list: [3, 5, 8, 10, 15, 17, 19]\n",
      "i: 3\n",
      "i: 5\n",
      "i: 8\n",
      "i: 10\n",
      "i: 15\n",
      "i: 17\n",
      "i: 19\n"
     ]
    }
   ],
   "source": [
    "# Loop over each item in a list.\n",
    "a = [5, 10, 15]\n",
    "print(\"a:\", a)\n",
    "for i in a:\n",
    "    print(\"i:\", i)\n",
    "\n",
    "# Loop over each item in a list.\n",
    "the_list = [3,5,8,10,15,17,19]\n",
    "print(\"the_list:\", the_list)\n",
    "for i in the_list:\n",
    "    print(\"i:\", i)"
   ]
  },
  {
   "cell_type": "markdown",
   "metadata": {},
   "source": [
    "###8: Multiline for loops"
   ]
  },
  {
   "cell_type": "markdown",
   "metadata": {},
   "source": [
    "There can be multiple indented lines inside a for loop. The first line that isn't indented will mark the end of the loop."
   ]
  },
  {
   "cell_type": "markdown",
   "metadata": {},
   "source": [
    "####Instructions"
   ]
  },
  {
   "cell_type": "markdown",
   "metadata": {},
   "source": [
    "Set the sum variable equal to the sum of all the values tripled."
   ]
  },
  {
   "cell_type": "code",
   "execution_count": 10,
   "metadata": {
    "collapsed": false
   },
   "outputs": [
    {
     "name": "stdout",
     "output_type": "stream",
     "text": [
      "the_list: [3, 5, 8, 10, 15, 17, 19]\n",
      "sum: 154\n",
      "sum: 231\n"
     ]
    }
   ],
   "source": [
    "# Create list.\n",
    "the_list = [3,5,8,10,15,17,19]\n",
    "print(\"the_list:\", the_list)\n",
    "\n",
    "# Loop over each list item and apply function.\n",
    "sum = 0\n",
    "for i in the_list:\n",
    "    # Double the value of i.\n",
    "    double_i = i * 2\n",
    "    # Add the doubled value to the sum.\n",
    "    sum = sum + double_i\n",
    "print(\"sum:\", sum)\n",
    "\n",
    "# Loop over each list item and apply function.\n",
    "sum = 0\n",
    "for i in the_list:\n",
    "    triple_i = i * 3\n",
    "    sum = sum + triple_i\n",
    "print(\"sum:\", sum)"
   ]
  },
  {
   "cell_type": "markdown",
   "metadata": {},
   "source": [
    "###9: For loops with different variable names"
   ]
  },
  {
   "cell_type": "markdown",
   "metadata": {},
   "source": [
    "So far, we have been using for loops with the format for i in the_list. i is a special variable that will take on a different value every time through the loop. It takes on the value of each of the list elements in succession, starting from index 0. But we don't have to name the variable i. We can name it anything, as long as we refer to it inside the loop by the same name."
   ]
  },
  {
   "cell_type": "markdown",
   "metadata": {},
   "source": [
    "####Instructions"
   ]
  },
  {
   "cell_type": "markdown",
   "metadata": {},
   "source": [
    "Set the sum variable equal to the sum of all the values tripled. Use a name other than i for the loop variable."
   ]
  },
  {
   "cell_type": "code",
   "execution_count": 11,
   "metadata": {
    "collapsed": false
   },
   "outputs": [
    {
     "name": "stdout",
     "output_type": "stream",
     "text": [
      "the_list: [3, 5, 8, 10, 15, 17, 19]\n",
      "sum: 154\n",
      "sum: 231\n"
     ]
    }
   ],
   "source": [
    "# Create list.\n",
    "the_list = [3,5,8,10,15,17,19]\n",
    "print(\"the_list:\", the_list)\n",
    "\n",
    "# Loop over each list item and apply function.\n",
    "sum = 0\n",
    "for i in the_list:\n",
    "    double_value = i * 2\n",
    "    sum = sum + double_value\n",
    "print(\"sum:\", sum)\n",
    "\n",
    "# Loop over each list item and apply function.\n",
    "sum = 0\n",
    "for value in the_list:\n",
    "    triple_value = value * 3\n",
    "    sum = sum + triple_value\n",
    "print(\"sum:\", sum)"
   ]
  },
  {
   "cell_type": "markdown",
   "metadata": {},
   "source": [
    "###10: Lists of lists"
   ]
  },
  {
   "cell_type": "markdown",
   "metadata": {},
   "source": [
    "We can store integers, floats, and strings into lists. We can also store other lists. [[1,2,3], [4,5,6], [7,8,9]] is a valid list. When we index the outer list, we get an inner list as the result."
   ]
  },
  {
   "cell_type": "markdown",
   "metadata": {},
   "source": [
    "####Instructions"
   ]
  },
  {
   "cell_type": "markdown",
   "metadata": {},
   "source": [
    "Assign the first element in the second inner list of lolists to the variable value_1_0. Assign the last element in the second inner list to value_1_2. Assign the first element in the third inner list to value_2_0. Assign the last element in the third inner list to value_2_2."
   ]
  },
  {
   "cell_type": "code",
   "execution_count": 12,
   "metadata": {
    "collapsed": false
   },
   "outputs": [
    {
     "name": "stdout",
     "output_type": "stream",
     "text": [
      "lolists: [[1, 2, 3], [10, 15, 14], [10.1, 8.7, 2.3]]\n",
      "a: [1, 2, 3]\n",
      "b: 1\n",
      "list1: [10, 15, 14]\n",
      "value_1_0: 10\n",
      "value_1_2: 14\n",
      "list2: [10.1, 8.7, 2.3]\n",
      "value_2_0 10.1\n",
      "value_2_2: 2.3\n"
     ]
    }
   ],
   "source": [
    "# Create a list of lists.\n",
    "lolists = [[1,2,3], [10,15,14], [10.1,8.7,2.3]]\n",
    "print(\"lolists:\", lolists)\n",
    "\n",
    "# Pull out the first element of the list, which is [1,2,3].\n",
    "a = lolists[0]\n",
    "print(\"a:\", a)\n",
    "\n",
    "# Since [1,2,3] is a list, it can also be indexed.\n",
    "b = a[0]\n",
    "print(\"b:\", b)\n",
    "\n",
    "list1 = lolists[1]\n",
    "print(\"list1:\", list1)\n",
    "\n",
    "value_1_0 = list1[0]\n",
    "print(\"value_1_0:\", value_1_0)\n",
    "\n",
    "value_1_2 = list1[2]\n",
    "print(\"value_1_2:\", value_1_2)\n",
    "\n",
    "list2 = lolists[2]\n",
    "print(\"list2:\", list2)\n",
    "\n",
    "value_2_0 = list2[0]\n",
    "print(\"value_2_0\", value_2_0)\n",
    "\n",
    "value_2_2 = list2[2]\n",
    "print(\"value_2_2:\", value_2_2)"
   ]
  },
  {
   "cell_type": "markdown",
   "metadata": {},
   "source": [
    "###11: Skipping the assignment"
   ]
  },
  {
   "cell_type": "markdown",
   "metadata": {},
   "source": [
    "When a statement or function returns a variable, we can directly manipulate it instead of assigning it to a variable first."
   ]
  },
  {
   "cell_type": "markdown",
   "metadata": {},
   "source": [
    "####Instructions"
   ]
  },
  {
   "cell_type": "markdown",
   "metadata": {},
   "source": [
    "Set e equal to d times the first element in the third inner list of lolists."
   ]
  },
  {
   "cell_type": "code",
   "execution_count": 13,
   "metadata": {
    "collapsed": false
   },
   "outputs": [
    {
     "name": "stdout",
     "output_type": "stream",
     "text": [
      "lolists: [[1, 2, 3], [10, 15, 14], [10.1, 8.7, 2.3]]\n",
      "a: 1\n",
      "b: 14\n",
      "c: 13\n",
      "e: 101.0\n"
     ]
    }
   ],
   "source": [
    "# Create a list of lists.\n",
    "lolists = [[1,2,3], [10,15,14], [10.1,8.7,2.3]]\n",
    "print(\"lolists:\", lolists)\n",
    "\n",
    "# Pull out the first element in the first list.\n",
    "a = lolists[0][0]\n",
    "print(\"a:\", a)\n",
    "\n",
    "# Pull out the third element in the second list.\n",
    "b = lolists[1][2]\n",
    "print(\"b:\", b)\n",
    "\n",
    "# Directly do math with expressions.\n",
    "c = lolists[0][2] + 10\n",
    "print(\"c:\", c)\n",
    "\n",
    "# Directly do math with expressions.\n",
    "d = 10\n",
    "e = d * lolists[2][0]\n",
    "print(\"e:\", e)"
   ]
  },
  {
   "cell_type": "markdown",
   "metadata": {},
   "source": [
    "###12: Looping through lists of lists"
   ]
  },
  {
   "cell_type": "markdown",
   "metadata": {},
   "source": [
    "When we loop through a list of lists, the loop variable will be a list at each iteration. We can do computation inside the loop and pull values out of the list with indexing."
   ]
  },
  {
   "cell_type": "markdown",
   "metadata": {},
   "source": [
    "####Instructions"
   ]
  },
  {
   "cell_type": "markdown",
   "metadata": {},
   "source": [
    "Use a for loop to print the first element of each inner list."
   ]
  },
  {
   "cell_type": "code",
   "execution_count": 14,
   "metadata": {
    "collapsed": false
   },
   "outputs": [
    {
     "name": "stdout",
     "output_type": "stream",
     "text": [
      "lolists: [[1, 2, 3], [10, 15, 14], [10.1, 8.7, 2.3]]\n",
      "inner_list: [1, 2, 3]\n",
      "inner_list: [10, 15, 14]\n",
      "inner_list: [10.1, 8.7, 2.3]\n",
      "inner_list[0]: 1\n",
      "inner_list[0]: 10\n",
      "inner_list[0]: 10.1\n"
     ]
    }
   ],
   "source": [
    "lolists = [[1,2,3], [10,15,14], [10.1,8.7,2.3]]\n",
    "print(\"lolists:\", lolists)\n",
    "\n",
    "# Loop through and print inner lists.\n",
    "for inner_list in lolists:\n",
    "    print(\"inner_list:\", inner_list)\n",
    "    \n",
    "# Loop through and print first element of each inner list.\n",
    "for inner_list in lolists:\n",
    "    print(\"inner_list[0]:\", inner_list[0])"
   ]
  },
  {
   "cell_type": "markdown",
   "metadata": {},
   "source": [
    "###13: Adding to lists"
   ]
  },
  {
   "cell_type": "markdown",
   "metadata": {},
   "source": [
    "We can use the .append method to add to a list. list.append(10) will add the element 10 to the end of the list."
   ]
  },
  {
   "cell_type": "markdown",
   "metadata": {},
   "source": [
    "####Instructions"
   ]
  },
  {
   "cell_type": "markdown",
   "metadata": {},
   "source": [
    "Add 60 to the end of list c. Then add 70 to list c. c should end up with 4 items."
   ]
  },
  {
   "cell_type": "code",
   "execution_count": 15,
   "metadata": {
    "collapsed": false
   },
   "outputs": [
    {
     "name": "stdout",
     "output_type": "stream",
     "text": [
      "a: []\n",
      "a: [10]\n",
      "b: [30]\n",
      "b: [30, 50]\n",
      "new_list: [1, 2, 5, 10]\n",
      "c: [20, 30, 60, 70]\n"
     ]
    }
   ],
   "source": [
    "# Create empty list.\n",
    "a = []\n",
    "print(\"a:\", a)\n",
    "\n",
    "# Append value to list.\n",
    "a.append(10)\n",
    "print(\"a:\", a)\n",
    "\n",
    "# Create list with value.\n",
    "b = [30]\n",
    "print(\"b:\", b)\n",
    "\n",
    "# Append value to list.\n",
    "b.append(50)\n",
    "print(\"b:\", b)\n",
    "\n",
    "old_list = [1,2,5,10]\n",
    "new_list = []\n",
    "\n",
    "# Use loop to append values to list.\n",
    "for item in old_list:\n",
    "    new_list.append(item)\n",
    "print(\"new_list:\", new_list)\n",
    "\n",
    "c = [20,30]\n",
    "c.append(60)\n",
    "c.append(70)\n",
    "print(\"c:\", c)"
   ]
  },
  {
   "cell_type": "markdown",
   "metadata": {},
   "source": [
    "###14: Splitting the csv file into columns"
   ]
  },
  {
   "cell_type": "markdown",
   "metadata": {},
   "source": [
    "When we left off with parsing our csv file, we had split it into rows, but still had to split up the strings we were left with into columns. We can use the .split method, along with our newfound knowledge of for loops and lists of lists, to split up the file."
   ]
  },
  {
   "cell_type": "markdown",
   "metadata": {},
   "source": [
    "####Instructions"
   ]
  },
  {
   "cell_type": "markdown",
   "metadata": {},
   "source": [
    "Split each string in the list rows and append the result to full_data. At the end, full_data will be a list of lists containing the rows and columns in the csv file. You'll need to use for loops to iterate."
   ]
  },
  {
   "cell_type": "code",
   "execution_count": 16,
   "metadata": {
    "collapsed": false
   },
   "outputs": [
    {
     "name": "stdout",
     "output_type": "stream",
     "text": [
      "a_list: ['1', '10', '15', '20']\n",
      "type(a_list): <class 'list'>\n",
      "a_list[0]: 1\n",
      "full_data[:50]: [['Abbeville', '11'], ['Adamsville', '19'], ['Addison', '1'], ['Alabaster', '44'], ['Alexander City', '119'], ['Aliceville', '7'], ['Andalusia', '34'], ['Anniston', '461'], ['Arab', '32'], ['Ardmore', '2'], ['Arley', '3'], ['Ashford', '2'], ['Ashland', '9'], ['Ashville', '10'], ['Athens', '16'], ['Atmore', '52'], ['Auburn', '115'], ['Bay Minette', '47'], ['Bear Creek', '4'], ['Bessemer', '527'], ['Birmingham', '2852'], ['Blountsville', '6'], ['Brent', '16'], ['Brewton', '47'], ['Bridgeport', '13'], ['Brilliant', '4'], ['Butler', '6'], ['Camp Hill', '22'], ['Carbon Hill', '14'], ['Cedar Bluff', '20'], ['Centre', '21'], ['Centreville', '0'], ['Chickasaw', '53'], ['Childersburg', '1'], ['Citronelle', '22'], ['Clanton', '52'], ['Clayton', '8'], ['Coaling', '10'], ['Collinsville', '6'], ['Cordova', '15'], ['Creola', '10'], ['Crossville', '0'], ['Cullman', '31'], ['Dadeville', '17'], ['Daleville', '17'], ['Daphne', '31'], ['Dauphin Island', '4'], ['Decatur', '149'], ['Demopolis', '47'], ['Dora', '21']]\n"
     ]
    }
   ],
   "source": [
    "# We can use the .split method, with a comma as an input, to split a string on a comma.\n",
    "a_string = \"1,10,15,20\"\n",
    "a_list = a_string.split(\",\")\n",
    "print(\"a_list:\", a_list)\n",
    "print(\"type(a_list):\", type(a_list))\n",
    "print(\"a_list[0]:\", a_list[0])\n",
    "\n",
    "f = open(\"data/crime_rates.csv\", \"r\")\n",
    "data = f.read()\n",
    "rows = data.split(\"\\n\")\n",
    "\n",
    "full_data = []\n",
    "for row in rows:\n",
    "    split_row = row.split(\",\")\n",
    "    full_data.append(split_row)\n",
    "print(\"full_data[:50]:\", full_data[:50])"
   ]
  },
  {
   "cell_type": "markdown",
   "metadata": {},
   "source": [
    "###15: Finding the number of rows"
   ]
  },
  {
   "cell_type": "markdown",
   "metadata": {},
   "source": [
    "We can iterate over the data to count up the number of rows."
   ]
  },
  {
   "cell_type": "markdown",
   "metadata": {},
   "source": [
    "####Instructions"
   ]
  },
  {
   "cell_type": "markdown",
   "metadata": {},
   "source": [
    "Set count equal to the number of rows in full_data. You'll need to use a for loop."
   ]
  },
  {
   "cell_type": "code",
   "execution_count": 17,
   "metadata": {
    "collapsed": false
   },
   "outputs": [
    {
     "name": "stdout",
     "output_type": "stream",
     "text": [
      "the_list: [5, 6, 10, 13, 17]\n",
      "count: 5\n",
      "count: 9293\n"
     ]
    }
   ],
   "source": [
    "# Create list.\n",
    "the_list = [5,6,10,13,17]\n",
    "print(\"the_list:\", the_list)\n",
    "\n",
    "# Count number of items in list.\n",
    "count = 0\n",
    "for item in the_list:\n",
    "    count = count + 1\n",
    "print(\"count:\", count)\n",
    "\n",
    "\n",
    "f = open(\"data/crime_rates.csv\", \"r\")\n",
    "data = f.read()\n",
    "rows = data.split(\"\\n\")\n",
    "full_data = []\n",
    "\n",
    "for row in rows:\n",
    "    split_row = row.split(\",\")\n",
    "    full_data.append(split_row)\n",
    "    \n",
    "    \n",
    "# Count number of items in list.\n",
    "count = 0\n",
    "for row in full_data:\n",
    "    count = count + 1\n",
    "print(\"count:\", count)"
   ]
  },
  {
   "cell_type": "markdown",
   "metadata": {},
   "source": [
    "###16: Finding the number of columns"
   ]
  },
  {
   "cell_type": "markdown",
   "metadata": {},
   "source": [
    "Now that we understand the table structure better, we can count up the number of columns."
   ]
  },
  {
   "cell_type": "markdown",
   "metadata": {},
   "source": [
    "####Instructions"
   ]
  },
  {
   "cell_type": "markdown",
   "metadata": {},
   "source": [
    "Set count equal to the number of columns in full_data."
   ]
  },
  {
   "cell_type": "code",
   "execution_count": 18,
   "metadata": {
    "collapsed": false
   },
   "outputs": [
    {
     "name": "stdout",
     "output_type": "stream",
     "text": [
      "l: [[1, 2, 3], [3, 4, 5], [5, 6, 7]]\n",
      "count: 3\n",
      "count: 2\n"
     ]
    }
   ],
   "source": [
    "# Create list of lists. Assume inner lists are the rows and number of columns is the number of items in any row.\n",
    "l = [[1,2,3],[3,4,5],[5,6,7]]\n",
    "print(\"l:\", l)\n",
    "\n",
    "first_row = l[0]\n",
    "count = 0\n",
    "for column in first_row:\n",
    "    count = count + 1\n",
    "print(\"count:\", count)\n",
    "\n",
    "\n",
    "f = open(\"data/crime_rates.csv\", \"r\")\n",
    "data = f.read()\n",
    "rows = data.split(\"\\n\")\n",
    "full_data = []\n",
    "\n",
    "for row in rows:\n",
    "    split_row = row.split(\",\")\n",
    "    full_data.append(split_row)\n",
    "    \n",
    "first_row = full_data[0]\n",
    "count = 0\n",
    "for column in first_row:\n",
    "    count = count + 1\n",
    "print(\"count:\", count)"
   ]
  },
  {
   "cell_type": "markdown",
   "metadata": {},
   "source": [
    "###17: Practicing with booleans"
   ]
  },
  {
   "cell_type": "markdown",
   "metadata": {},
   "source": [
    "Booleans can be used to compare equality and return True or False. Let's practice a bit with creating booleans."
   ]
  },
  {
   "cell_type": "markdown",
   "metadata": {},
   "source": [
    "####Instructions"
   ]
  },
  {
   "cell_type": "markdown",
   "metadata": {},
   "source": [
    "Assign a boolean that evaluates to True to d. Assign a boolean that evaluates to True to e. Assign a boolean that evaluates to False to f. Assign a boolean that evaluates to False to g."
   ]
  },
  {
   "cell_type": "code",
   "execution_count": 19,
   "metadata": {
    "collapsed": false
   },
   "outputs": [
    {
     "name": "stdout",
     "output_type": "stream",
     "text": [
      "bool1: False\n",
      "bool2: True\n",
      "type(True): <class 'bool'>\n",
      "type(False): <class 'bool'>\n",
      "a == b: False\n",
      "a == 10: True\n",
      "c: False\n",
      "d: True\n",
      "e: True\n",
      "f: False\n",
      "g: False\n"
     ]
    }
   ],
   "source": [
    "# Create boolean by comparing two values.\n",
    "bool1 = \"Andre the Giant\" == \"Short\"\n",
    "print(\"bool1:\", bool1)\n",
    "\n",
    "bool2 = \"Andre the Giant\" == \"Andre the Giant\"\n",
    "print(\"bool2:\", bool2)\n",
    "\n",
    "# True and False are special python keywords of the boolean type.\n",
    "print(\"type(True):\", type(True))\n",
    "print(\"type(False):\", type(False))\n",
    "\n",
    "a = 10\n",
    "b = 5\n",
    "\n",
    "# False.\n",
    "print(\"a == b:\", a == b)\n",
    "\n",
    "# True.\n",
    "print(\"a == 10:\", a == 10)\n",
    "\n",
    "# Assigning boolean to a variable.\n",
    "c = a == b\n",
    "print(\"c:\", c)\n",
    "\n",
    "d = a == 10\n",
    "print(\"d:\", d)\n",
    "\n",
    "e = b == 5\n",
    "print(\"e:\", e)\n",
    "\n",
    "f = a == 9\n",
    "print(\"f:\", f)\n",
    "\n",
    "g = b == 4\n",
    "print(\"g:\", g)"
   ]
  },
  {
   "cell_type": "markdown",
   "metadata": {},
   "source": [
    "###18: Booleans with greater than"
   ]
  },
  {
   "cell_type": "markdown",
   "metadata": {},
   "source": [
    "We can also use the greater than sign with booleans Saying 5 > 4 will evaluate to True, and 4 > 5 will be False."
   ]
  },
  {
   "cell_type": "markdown",
   "metadata": {},
   "source": [
    "####Instructions"
   ]
  },
  {
   "cell_type": "markdown",
   "metadata": {},
   "source": [
    "Write a boolean statement using the greater than sign (>) that evaluates to True and assign it to b. Write a boolean statement using the greater than sign that evaluates to False and assign it to c."
   ]
  },
  {
   "cell_type": "code",
   "execution_count": 20,
   "metadata": {
    "collapsed": false
   },
   "outputs": [
    {
     "name": "stdout",
     "output_type": "stream",
     "text": [
      "5 > 4: True\n",
      "4 > 5: False\n",
      "a: True\n",
      "type(a): <class 'bool'>\n",
      "b: True\n",
      "c: False\n"
     ]
    }
   ],
   "source": [
    "# Create boolean by comparing two values.\n",
    "print(\"5 > 4:\", 5 > 4)\n",
    "print(\"4 > 5:\", 4 > 5)\n",
    "\n",
    "# Assigning boolean to a variable.\n",
    "a = 5 > 4\n",
    "print(\"a:\", a)\n",
    "print(\"type(a):\", type(a))\n",
    "\n",
    "b = 10 > 8\n",
    "print(\"b:\", b)\n",
    "\n",
    "c = 8 > 10\n",
    "print(\"c:\", c)"
   ]
  },
  {
   "cell_type": "markdown",
   "metadata": {},
   "source": [
    "###19: Booleans with less than"
   ]
  },
  {
   "cell_type": "markdown",
   "metadata": {},
   "source": [
    "We can also use the less than sign with booleans Saying 5 < 4 will evaluate to False, and 4 < 5 will be True."
   ]
  },
  {
   "cell_type": "markdown",
   "metadata": {},
   "source": [
    "####Instructions"
   ]
  },
  {
   "cell_type": "markdown",
   "metadata": {},
   "source": [
    "Write a boolean statement using the less than sign (<) that evaluates to True and assign it to b. Write a boolean statement using the less than sign that evaluates to False and assign it to c."
   ]
  },
  {
   "cell_type": "code",
   "execution_count": 21,
   "metadata": {
    "collapsed": false
   },
   "outputs": [
    {
     "name": "stdout",
     "output_type": "stream",
     "text": [
      "4 < 5: True\n",
      "5 < 4: False\n",
      "a: True\n",
      "type(a): <class 'bool'>\n",
      "b: True\n",
      "c: False\n"
     ]
    }
   ],
   "source": [
    "# Create boolean by comparing two values.\n",
    "print(\"4 < 5:\", 4 < 5)\n",
    "print(\"5 < 4:\", 5 < 4)\n",
    "\n",
    "# Assigning boolean to a variable.\n",
    "a = 4 < 5\n",
    "print(\"a:\", a)\n",
    "print(\"type(a):\", type(a))\n",
    "\n",
    "b = 3 < 5\n",
    "print(\"b:\", b)\n",
    "\n",
    "c = 5 < 3\n",
    "print(\"c:\", c)"
   ]
  },
  {
   "cell_type": "markdown",
   "metadata": {},
   "source": [
    "###20: Using booleans in if statements"
   ]
  },
  {
   "cell_type": "markdown",
   "metadata": {},
   "source": [
    "You can use booleans to control when certain code gets executed. When the statement after the if statement is True, then the code runs. Otherwise, it doesn't."
   ]
  },
  {
   "cell_type": "markdown",
   "metadata": {},
   "source": [
    "####Instructions"
   ]
  },
  {
   "cell_type": "markdown",
   "metadata": {},
   "source": [
    "Write an if statement whose boolean statement evaluates to True and prints out \"Hello world!\"."
   ]
  },
  {
   "cell_type": "code",
   "execution_count": 22,
   "metadata": {
    "collapsed": false
   },
   "outputs": [
    {
     "name": "stdout",
     "output_type": "stream",
     "text": [
      "Success!\n",
      "Hello world!\n"
     ]
    }
   ],
   "source": [
    "# Create 'if' statement based on boolean by comparing two values.\n",
    "if 4 == 4:\n",
    "    print(\"Success!\")\n",
    "\n",
    "# Create 'if' statement based on boolean by comparing two values.\n",
    "if 10 == 8:\n",
    "    print(\"No success!\")\n",
    "    \n",
    "if 10 == 10:\n",
    "    print(\"Hello world!\")"
   ]
  },
  {
   "cell_type": "markdown",
   "metadata": {},
   "source": [
    "###21: If statement with variables"
   ]
  },
  {
   "cell_type": "markdown",
   "metadata": {},
   "source": [
    "We can also use if statements with booleans that contain variables. if a == 5: will evaluate to True, and run the code inside the if statement."
   ]
  },
  {
   "cell_type": "markdown",
   "metadata": {},
   "source": [
    "####Instructions"
   ]
  },
  {
   "cell_type": "markdown",
   "metadata": {},
   "source": [
    "Write an if statement whose boolean statement contains c and evaluates to True. The if statement should print out \"Much success!\""
   ]
  },
  {
   "cell_type": "code",
   "execution_count": 23,
   "metadata": {
    "collapsed": false
   },
   "outputs": [
    {
     "name": "stdout",
     "output_type": "stream",
     "text": [
      "Success!\n",
      "Much success!\n"
     ]
    }
   ],
   "source": [
    "a = 4\n",
    "b = 10\n",
    "c = 15\n",
    "\n",
    "# Create 'if' statement based on boolean by comparing two values.\n",
    "if a == 4:\n",
    "    print(\"Success!\")\n",
    "\n",
    "# Create 'if' statement based on boolean by comparing two values.\n",
    "if b > 10:\n",
    "    print(\"No success!\")\n",
    "\n",
    "# Create 'if' statement based on boolean by comparing two values.\n",
    "if c == 15:\n",
    "    print(\"Much success!\")"
   ]
  },
  {
   "cell_type": "markdown",
   "metadata": {},
   "source": [
    "###22: If statements and for loops, together at last!"
   ]
  },
  {
   "cell_type": "markdown",
   "metadata": {},
   "source": [
    "We can also use if statements inside for loops (or vice versa). When this happens, we need to indent everything in the inner block another 4 spaces."
   ]
  },
  {
   "cell_type": "markdown",
   "metadata": {},
   "source": [
    "####Instructions"
   ]
  },
  {
   "cell_type": "markdown",
   "metadata": {},
   "source": [
    "Write a for loop that prints out all of the items in the_list that are greater than 5."
   ]
  },
  {
   "cell_type": "code",
   "execution_count": 24,
   "metadata": {
    "collapsed": false
   },
   "outputs": [
    {
     "name": "stdout",
     "output_type": "stream",
     "text": [
      "the_list: [5, 10, 15, 20]\n",
      "count: 2\n",
      "item: 5\n",
      "item: 10\n",
      "item: 15\n",
      "item: 20\n",
      "item: 10\n",
      "item: 15\n",
      "item: 20\n"
     ]
    }
   ],
   "source": [
    "the_list = [5, 10, 15, 20]\n",
    "print(\"the_list:\", the_list)\n",
    "\n",
    "# Count how many elements in the_list are greater than 10.\n",
    "count = 0\n",
    "for item in the_list:\n",
    "    if item > 10:\n",
    "        count = count + 1\n",
    "print(\"count:\", count)\n",
    "\n",
    "a = 2\n",
    "# Print all of the elements in the_list if a > 1.\n",
    "if a > 1:\n",
    "    for item in the_list:\n",
    "        print(\"item:\", item)\n",
    "\n",
    "# Print all of the elements in the_list if item > 5.\n",
    "for item in the_list:\n",
    "    if item > 5:\n",
    "        print(\"item:\", item)"
   ]
  },
  {
   "cell_type": "markdown",
   "metadata": {},
   "source": [
    "###23: Using if statements to find the smallest value"
   ]
  },
  {
   "cell_type": "markdown",
   "metadata": {},
   "source": [
    "Now that we know how we can combine if statements and for loops, we can learn how to use for loops to find minimum values."
   ]
  },
  {
   "cell_type": "markdown",
   "metadata": {},
   "source": [
    "####Instructions"
   ]
  },
  {
   "cell_type": "markdown",
   "metadata": {},
   "source": [
    "Set the smallest_item variable equal to the lowest value in the list a. Use a for loop to iterate through a."
   ]
  },
  {
   "cell_type": "code",
   "execution_count": 25,
   "metadata": {
    "collapsed": false
   },
   "outputs": [
    {
     "name": "stdout",
     "output_type": "stream",
     "text": [
      "the_list: [20, 50, 5, 100]\n",
      "smallest_item: 5\n",
      "a: [500, 10, 200, 5, 78, -1, -10, -100, 567, 890, 400, 34, -101, 895]\n",
      "smallest_item: -101\n"
     ]
    }
   ],
   "source": [
    "the_list = [20,50,5,100]\n",
    "print(\"the_list:\", the_list)\n",
    "\n",
    "# Set 'smallest_item' to a value that is bigger than anything in 'the_list'.\n",
    "smallest_item = 1000\n",
    "for item in the_list:\n",
    "    # Check if each item is less than smallest_item.\n",
    "    if item < smallest_item:\n",
    "        # If it is, set smallest_item equal to its value.\n",
    "        smallest_item = item\n",
    "print(\"smallest_item:\", smallest_item)\n",
    "\n",
    "\n",
    "# Set smallest_item to a value that is bigger than anything in the_list.\n",
    "smallest_item = 1000\n",
    "\n",
    "a = [500,10,200,5,78,-1,-10,-100,567,890,400,34,-101,895]\n",
    "print(\"a:\", a)\n",
    "\n",
    "for item in a:\n",
    "    if item < smallest_item:\n",
    "        smallest_item = item\n",
    "print(\"smallest_item:\", smallest_item)"
   ]
  },
  {
   "cell_type": "markdown",
   "metadata": {},
   "source": [
    "###24: Converting types"
   ]
  },
  {
   "cell_type": "markdown",
   "metadata": {},
   "source": [
    "We can convert between different data types. The int() function will convert an object to an integer."
   ]
  },
  {
   "cell_type": "markdown",
   "metadata": {},
   "source": [
    "####Instructions"
   ]
  },
  {
   "cell_type": "markdown",
   "metadata": {},
   "source": [
    "Assign the integer value of c to c_int. Assign the integer value of d to d_int. Assign the integer value of e to e_int."
   ]
  },
  {
   "cell_type": "code",
   "execution_count": 26,
   "metadata": {
    "collapsed": false
   },
   "outputs": [
    {
     "name": "stdout",
     "output_type": "stream",
     "text": [
      "a: 5\n",
      "type(a): <class 'str'>\n",
      "b: 5\n",
      "type(b): <class 'int'>\n"
     ]
    }
   ],
   "source": [
    "# There's one problem with our parsed CSV file -- because we parsed it from a string, all of the values are stored as strings.\n",
    "\n",
    "# Use the int() function to turn a string into an int.\n",
    "a = '5'\n",
    "print(\"a:\", a)\n",
    "print(\"type(a):\", type(a))\n",
    "\n",
    "# We can use the int function to parse it into the integer 5.\n",
    "b = int(a)\n",
    "print(\"b:\", b)\n",
    "print(\"type(b):\", type(b))\n",
    "\n",
    "c = '10'\n",
    "c_int = int(c)\n",
    "\n",
    "d = '20'\n",
    "d_int = int(d)\n",
    "\n",
    "e = '30'\n",
    "e_int = int(e)"
   ]
  },
  {
   "cell_type": "markdown",
   "metadata": {},
   "source": [
    "###25: Converting a list to integers"
   ]
  },
  {
   "cell_type": "markdown",
   "metadata": {},
   "source": [
    "Now, let's convert a list into integers."
   ]
  },
  {
   "cell_type": "markdown",
   "metadata": {},
   "source": [
    "####Instructions"
   ]
  },
  {
   "cell_type": "markdown",
   "metadata": {},
   "source": [
    "Convert all the values in a into integers using a for loop. Append each integer to new_a."
   ]
  },
  {
   "cell_type": "code",
   "execution_count": 27,
   "metadata": {
    "collapsed": false
   },
   "outputs": [
    {
     "name": "stdout",
     "output_type": "stream",
     "text": [
      "the_list: ['1', '2', '3']\n",
      "new_list: [1, 2, 3]\n",
      "a: ['10', '15', '20', '35']\n",
      "new_a: [10, 15, 20, 35]\n"
     ]
    }
   ],
   "source": [
    "# Use the 'int' function to convert values in a list to integers.\n",
    "the_list = ['1', '2', '3']\n",
    "print(\"the_list:\", the_list)\n",
    "\n",
    "new_list = []\n",
    "# Loop through the_list.\n",
    "for item in the_list:\n",
    "    # Get the int value of the item in the list.\n",
    "    item_int = int(item)\n",
    "    # Add the int item to the new list.\n",
    "    new_list.append(item_int)\n",
    "print(\"new_list:\", new_list)\n",
    "\n",
    "a = ['10', '15', '20', '35']\n",
    "print(\"a:\", a)\n",
    "\n",
    "new_a = []\n",
    "for item in a:\n",
    "    item_int = int(item)\n",
    "    new_a.append(item_int)\n",
    "print(\"new_a:\", new_a)"
   ]
  },
  {
   "cell_type": "markdown",
   "metadata": {},
   "source": [
    "###26: Convert csv to integers"
   ]
  },
  {
   "cell_type": "markdown",
   "metadata": {},
   "source": [
    "Let's convert our crime rate column to integers while we are reading it in. In order to do this, we'll need to convert the values in the second column to integers after splitting the rows."
   ]
  },
  {
   "cell_type": "markdown",
   "metadata": {},
   "source": [
    "####Instructions"
   ]
  },
  {
   "cell_type": "markdown",
   "metadata": {},
   "source": [
    "Insert code into the example that will turn the second value in split_row into an integer."
   ]
  },
  {
   "cell_type": "code",
   "execution_count": 28,
   "metadata": {
    "collapsed": false
   },
   "outputs": [
    {
     "name": "stdout",
     "output_type": "stream",
     "text": [
      "full_data[:50]: [['Abbeville', 11], ['Adamsville', 19], ['Addison', 1], ['Alabaster', 44], ['Alexander City', 119], ['Aliceville', 7], ['Andalusia', 34], ['Anniston', 461], ['Arab', 32], ['Ardmore', 2], ['Arley', 3], ['Ashford', 2], ['Ashland', 9], ['Ashville', 10], ['Athens', 16], ['Atmore', 52], ['Auburn', 115], ['Bay Minette', 47], ['Bear Creek', 4], ['Bessemer', 527], ['Birmingham', 2852], ['Blountsville', 6], ['Brent', 16], ['Brewton', 47], ['Bridgeport', 13], ['Brilliant', 4], ['Butler', 6], ['Camp Hill', 22], ['Carbon Hill', 14], ['Cedar Bluff', 20], ['Centre', 21], ['Centreville', 0], ['Chickasaw', 53], ['Childersburg', 1], ['Citronelle', 22], ['Clanton', 52], ['Clayton', 8], ['Coaling', 10], ['Collinsville', 6], ['Cordova', 15], ['Creola', 10], ['Crossville', 0], ['Cullman', 31], ['Dadeville', 17], ['Daleville', 17], ['Daphne', 31], ['Dauphin Island', 4], ['Decatur', 149], ['Demopolis', 47], ['Dora', 21]]\n"
     ]
    }
   ],
   "source": [
    "f = open(\"data/crime_rates.csv\", \"r\")\n",
    "data = f.read()\n",
    "rows = data.split(\"\\n\")\n",
    "\n",
    "# Convert crime rate to integer and store in full_data.\n",
    "full_data = []\n",
    "for row in rows:\n",
    "    split_row = row.split(\",\")\n",
    "    if row:\n",
    "        split_row[1] = int(split_row[1])\n",
    "        full_data.append(split_row)\n",
    "print(\"full_data[:50]:\", full_data[:50])"
   ]
  },
  {
   "cell_type": "markdown",
   "metadata": {},
   "source": [
    "###27: Finding the lowest crime rate"
   ]
  },
  {
   "cell_type": "markdown",
   "metadata": {},
   "source": [
    "We now know enough to find the lowest crime rate. We can scan through the list, and check if there is a lower crime rate in it."
   ]
  },
  {
   "cell_type": "markdown",
   "metadata": {},
   "source": [
    "####Instructions"
   ]
  },
  {
   "cell_type": "markdown",
   "metadata": {},
   "source": [
    "Set lowest_crime_rate to the lowest crime rate in full_data. Use for loops and if statements like we did in the last screen. You'll also need to the index the second item in each row inside the loop."
   ]
  },
  {
   "cell_type": "code",
   "execution_count": 29,
   "metadata": {
    "collapsed": false
   },
   "outputs": [
    {
     "name": "stdout",
     "output_type": "stream",
     "text": [
      "lowest_crime_rate: 0\n"
     ]
    }
   ],
   "source": [
    "# Find city with lowest crime rate.\n",
    "lowest_crime_rate = 10000\n",
    "for row in full_data:\n",
    "    crime_rate = row[1]\n",
    "    if crime_rate < lowest_crime_rate:\n",
    "        lowest_crime_rate = crime_rate\n",
    "print(\"lowest_crime_rate:\", lowest_crime_rate)"
   ]
  },
  {
   "cell_type": "markdown",
   "metadata": {},
   "source": [
    "###28: Searching a list"
   ]
  },
  {
   "cell_type": "markdown",
   "metadata": {},
   "source": [
    "We can search a list for a value. We can do this by looping through the list, and then using an if statement."
   ]
  },
  {
   "cell_type": "markdown",
   "metadata": {},
   "source": [
    "####Instructions"
   ]
  },
  {
   "cell_type": "markdown",
   "metadata": {},
   "source": [
    "Search a for the number 78, and print \"Yes\" when it's found."
   ]
  },
  {
   "cell_type": "code",
   "execution_count": 30,
   "metadata": {
    "collapsed": false
   },
   "outputs": [
    {
     "name": "stdout",
     "output_type": "stream",
     "text": [
      "the_list: [5, 6, 7, 10, 50]\n",
      "Found\n",
      "Yes\n"
     ]
    }
   ],
   "source": [
    "the_list = [5, 6, 7, 10, 50]\n",
    "print(\"the_list:\", the_list)\n",
    "\n",
    "# Loop through 'the_list', if the list item equals 5, print out \"Found\".\n",
    "for item in the_list:\n",
    "    if item == 5:\n",
    "        print(\"Found\")\n",
    "\n",
    "a = [500,10,200,5,78,-1,-10,-100,567,890,400,34,-101,895]\n",
    "# Loop through 'a', if the list item equals 78, print out \"Yes\".\n",
    "for item in a:\n",
    "    if item == 78:\n",
    "        print(\"Yes\")"
   ]
  },
  {
   "cell_type": "markdown",
   "metadata": {},
   "source": [
    "###29: Searching a list of lists"
   ]
  },
  {
   "cell_type": "markdown",
   "metadata": {},
   "source": [
    "Just like we can search through a list, we can search through a list of lists."
   ]
  },
  {
   "cell_type": "markdown",
   "metadata": {},
   "source": [
    "####Instructions"
   ]
  },
  {
   "cell_type": "markdown",
   "metadata": {},
   "source": [
    "Find the second element in the inner list whose first element is 7. You'll need to search through lolist to do it. Assign the answer to the value variable."
   ]
  },
  {
   "cell_type": "code",
   "execution_count": 31,
   "metadata": {
    "collapsed": false
   },
   "outputs": [
    {
     "name": "stdout",
     "output_type": "stream",
     "text": [
      "lolist: [[1, 5, 7], [10, 8, 9], [7, 10, 11]]\n",
      "value: 10\n",
      "value: 10\n"
     ]
    }
   ],
   "source": [
    "lolist = [[1,5,7],[10,8,9],[7,10,11]]\n",
    "print(\"lolist:\", lolist)\n",
    "\n",
    "# Get the first element of the inner list whose third element is 9.\n",
    "value = 0\n",
    "for item in lolist:\n",
    "    last_value = item[2]\n",
    "    first_value = item[0]\n",
    "    if last_value == 9:\n",
    "        value = first_value     \n",
    "print(\"value:\", value)\n",
    "\n",
    "\n",
    "# Get the second element in the inner list whose first element is 7.\n",
    "value = 0\n",
    "for item in lolist:\n",
    "    if item[0] == 7:\n",
    "        value = item[1]  \n",
    "print(\"value:\", value)"
   ]
  },
  {
   "cell_type": "markdown",
   "metadata": {},
   "source": [
    "###30: Finding the answer!"
   ]
  },
  {
   "cell_type": "markdown",
   "metadata": {},
   "source": [
    "We know the lowest crime rate, and we know how to search through lists. Let's combine the knowledge to find out the city with the lowest crime rate."
   ]
  },
  {
   "cell_type": "markdown",
   "metadata": {},
   "source": [
    "####Instructions"
   ]
  },
  {
   "cell_type": "markdown",
   "metadata": {},
   "source": [
    "Assign the city with the lowest crime rate to city."
   ]
  },
  {
   "cell_type": "code",
   "execution_count": 32,
   "metadata": {
    "collapsed": false
   },
   "outputs": [
    {
     "name": "stdout",
     "output_type": "stream",
     "text": [
      "city: Sundance\n"
     ]
    }
   ],
   "source": [
    "# We know that the lowest crime rate is 0.\n",
    "# We need to find the corresponding value in the first column -- the city with the lowest crime rate.\n",
    "f = open(\"data/crime_rates.csv\", \"r\")\n",
    "data = f.read()\n",
    "rows = data.split(\"\\n\")\n",
    "\n",
    "full_data = []\n",
    "for row in rows:\n",
    "    split_row = row.split(\",\")\n",
    "    if row:\n",
    "        split_row[1] = int(split_row[1])\n",
    "        full_data.append(split_row)\n",
    "\n",
    "city = \"\"\n",
    "for row in full_data:\n",
    "    if row[1] == 0:\n",
    "        city = row[0]\n",
    "print(\"city:\", city)"
   ]
  }
 ],
 "metadata": {
  "kernelspec": {
   "display_name": "Python 3",
   "language": "python",
   "name": "python3"
  },
  "language_info": {
   "codemirror_mode": {
    "name": "ipython",
    "version": 3
   },
   "file_extension": ".py",
   "mimetype": "text/x-python",
   "name": "python",
   "nbconvert_exporter": "python",
   "pygments_lexer": "ipython3",
   "version": "3.4.3"
  }
 },
 "nbformat": 4,
 "nbformat_minor": 0
}
