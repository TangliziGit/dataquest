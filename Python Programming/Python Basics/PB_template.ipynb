{
 "cells": [
  {
   "cell_type": "code",
   "execution_count": 1,
   "metadata": {
    "collapsed": true
   },
   "outputs": [],
   "source": [
    "from __future__ import print_function"
   ]
  },
  {
   "cell_type": "markdown",
   "metadata": {},
   "source": [
    "#Python Programming"
   ]
  },
  {
   "cell_type": "markdown",
   "metadata": {},
   "source": [
    "##Python Basics"
   ]
  },
  {
   "cell_type": "markdown",
   "metadata": {},
   "source": [
    "###1: Variables"
   ]
  },
  {
   "cell_type": "markdown",
   "metadata": {},
   "source": [
    "Variables are used in our code to store values that we want to use later. For example, we can store the value 10 in the variable b. The equals sign assigns the value on the right to the variable on the left.\n",
    "\n",
    "You can overwrite a variable with a new value whenever you want. The variable will take on the new value."
   ]
  },
  {
   "cell_type": "markdown",
   "metadata": {},
   "source": [
    "####Instructions"
   ]
  },
  {
   "cell_type": "markdown",
   "metadata": {},
   "source": [
    "Assign 5 to the variable a."
   ]
  },
  {
   "cell_type": "code",
   "execution_count": 2,
   "metadata": {
    "collapsed": false
   },
   "outputs": [],
   "source": [
    "# Here is an example of assigning the value 10 to the variable b.\n",
    "b = 10\n",
    "# We can then assign a new value to the variable b.\n",
    "b = 20\n",
    "\n",
    "# a has the value 0.\n",
    "a = 0\n",
    "a = 5"
   ]
  },
  {
   "cell_type": "markdown",
   "metadata": {},
   "source": [
    "###2: Printing values"
   ]
  },
  {
   "cell_type": "markdown",
   "metadata": {},
   "source": [
    "The print function in Python will print out values so we can look at them. We'll get more into what a function is later, but you can use the print function to print 10 by typing print(10).\n",
    "\n",
    "Anything that is printed will appear in an output box underneath the code area."
   ]
  },
  {
   "cell_type": "markdown",
   "metadata": {},
   "source": [
    "####Instructions"
   ]
  },
  {
   "cell_type": "markdown",
   "metadata": {},
   "source": [
    "Use the print function to print the number 5."
   ]
  },
  {
   "cell_type": "code",
   "execution_count": 3,
   "metadata": {
    "collapsed": false
   },
   "outputs": [
    {
     "name": "stdout",
     "output_type": "stream",
     "text": [
      "10\n",
      "5\n"
     ]
    }
   ],
   "source": [
    "# The line below will print out the number 10.\n",
    "# Look in the output area underneath to see it.\n",
    "print(10)\n",
    "print(5)"
   ]
  },
  {
   "cell_type": "markdown",
   "metadata": {},
   "source": [
    "###3: Exploring the dataset"
   ]
  },
  {
   "cell_type": "markdown",
   "metadata": {},
   "source": [
    "We saw the raw dataset in the video. For the purposes of this lesson, we've preloaded an excerpt from the raw scripts into the star_wars variable. We can explore it by printing it out. You can print a variable the same way you print a number -- if you want to print the variable a, just type print(a)."
   ]
  },
  {
   "cell_type": "markdown",
   "metadata": {},
   "source": [
    "####Instructions"
   ]
  },
  {
   "cell_type": "markdown",
   "metadata": {},
   "source": [
    "Print the star_wars variable."
   ]
  },
  {
   "cell_type": "code",
   "execution_count": 4,
   "metadata": {
    "collapsed": false
   },
   "outputs": [
    {
     "name": "stdout",
     "output_type": "stream",
     "text": [
      "star_wars[:500]:\n",
      " \"character\" \"dialogue\"\n",
      "\"1\" \"THREEPIO\" \"Did you hear that?  They've shut down the main reactor.  We'll be destroyed for sure.  This is madness!\"\n",
      "\"2\" \"THREEPIO\" \"We're doomed!\"\n",
      "\"3\" \"THREEPIO\" \"There'll be no escape for the Princess this time.\"\n",
      "\"4\" \"THREEPIO\" \"What's that?\"\n",
      "\"5\" \"THREEPIO\" \"I should have known better than to trust the logic of a half-sized thermocapsulary dehousing assister...\"\n",
      "\"6\" \"LUKE\" \"Hurry up!  Come with me!  What are you waiting for?!  Get in gear!\"\n",
      "\"7\" \"THREEPIO\" \"Artoo! Art\n"
     ]
    }
   ],
   "source": [
    "star_wars = []\n",
    "f = open(\"data/star_wars.txt\", \"r\")\n",
    "star_wars = f.read()\n",
    "rows = star_wars.split('\\n')\n",
    "\n",
    "print(\"star_wars[:500]:\\n\", star_wars[:500])"
   ]
  },
  {
   "cell_type": "markdown",
   "metadata": {},
   "source": [
    "###4: Types of variables"
   ]
  },
  {
   "cell_type": "markdown",
   "metadata": {},
   "source": [
    "We saw numbers before, like 5, and 10. These are known as integers. We also just printed an excerpt from the raw movie script data, which looked like STAR WARS - EPISODE 4: STAR WARS. This is known as a string.\n",
    "\n",
    "Both strings and integers are different types of values that we can store in variables. When a string is stored in a variable, we call the whole variable a string.\n",
    "\n",
    "There are many other kinds of variables, but another important one is a float. A float is a number with a decimal point. It is more precise than an integer, because it can store fractions."
   ]
  },
  {
   "cell_type": "markdown",
   "metadata": {},
   "source": [
    "####Instructions"
   ]
  },
  {
   "cell_type": "markdown",
   "metadata": {},
   "source": [
    "Assign an integer to h, a string to i, and a float to j."
   ]
  },
  {
   "cell_type": "code",
   "execution_count": 5,
   "metadata": {
    "collapsed": false
   },
   "outputs": [
    {
     "name": "stdout",
     "output_type": "stream",
     "text": [
      "a * b: -5\n"
     ]
    }
   ],
   "source": [
    "# A number without decimals is an integer type.\n",
    "# An integer can hold negative and positive values.\n",
    "# We can do do math with integers.\n",
    "a = 5\n",
    "b = -1\n",
    "\n",
    "# Print a multiplied by b.\n",
    "print(\"a * b:\", a * b)\n",
    "\n",
    "# Anything enclosed in single or double quotes is a string.\n",
    "# Strings hold text.\n",
    "# We can't do math with strings like we can with integers.\n",
    "# But there are some operations we can do (that we will learn later on).\n",
    "c = \"I'm a string.  I do string-like things.\"\n",
    "d = 'Let me in on this string party!  PS I dont like math.'\n",
    "\n",
    "# Floats are numbers with decimal points.\n",
    "e = 5.1\n",
    "f = 10.2\n",
    "# g equals e times f.\n",
    "g = e * f\n",
    "\n",
    "# There are other types that we will learn about later on.\n",
    "h = 1\n",
    "i = \"Strings are great.\"\n",
    "j = 5.1"
   ]
  },
  {
   "cell_type": "markdown",
   "metadata": {},
   "source": [
    "###5: Checking the type of a variable"
   ]
  },
  {
   "cell_type": "markdown",
   "metadata": {},
   "source": [
    "We can check what type a variable is by using the type function. If you wanted to find the type of the variable a, you would use type(a) to find it.\n",
    "\n",
    "A function is a named chunk of code that takes certain inputs and gives you an output.\n",
    "\n",
    "You can use functions by typing their name, and passing in the inputs. Some functions can have multiple input values."
   ]
  },
  {
   "cell_type": "markdown",
   "metadata": {},
   "source": [
    "####Instructions"
   ]
  },
  {
   "cell_type": "markdown",
   "metadata": {},
   "source": [
    "Assign the type of 10 to c, the type of \"racecar\" to d, and the type of 10.6 to e."
   ]
  },
  {
   "cell_type": "code",
   "execution_count": 6,
   "metadata": {
    "collapsed": false
   },
   "outputs": [
    {
     "name": "stdout",
     "output_type": "stream",
     "text": [
      "type(b): <class 'str'>\n",
      "c: <class 'int'>\n",
      "d: <class 'str'>\n",
      "e: <class 'float'>\n"
     ]
    }
   ],
   "source": [
    "# The type function has only one input value.\n",
    "a = type(5)\n",
    "\n",
    "# The above code invokes the type function on the input 5, and as the output, we get the type of 5.\n",
    "# The type is assigned to a.\n",
    "\n",
    "# We can also invoke functions on variables.\n",
    "b = \"Dataquest is the best thing ever\"\n",
    "# Note how when the type for b is printed, it is abbreviated to str.\n",
    "print(\"type(b):\", type(b))\n",
    "\n",
    "c = type(10)\n",
    "print(\"c:\", c)\n",
    "\n",
    "d = type(\"racecar\")\n",
    "print(\"d:\", d)\n",
    "\n",
    "e = type(10.6)\n",
    "print(\"e:\", e)"
   ]
  },
  {
   "cell_type": "markdown",
   "metadata": {},
   "source": [
    "###6: So, which character speaks the most?"
   ]
  },
  {
   "cell_type": "markdown",
   "metadata": {},
   "source": [
    "You now have enough basic building blocks to figure out what character speaks the most across all three original star wars movies.\n",
    "\n",
    "We mentioned in the video that we won't ask you to parse the data just yet -- that requires a few bits of knowledge that we'll get to in the next mission.\n",
    "\n",
    "So what we'll give you instead is a preprocessed version of the data. This version of the data contains an entry for each character, and an entry for how many times they spoke.\n",
    "\n",
    "The records will show the name of each character, then a :, then the number of lines they spoke. Here's an excerpt:\n",
    "\n",
    "    {'leia': 113, 'boushh': 7, 'tarkin': 28,\n",
    "\n",
    "leia speaks 113 lines, boushh speaks 7, and tarkin speaks 28."
   ]
  },
  {
   "cell_type": "markdown",
   "metadata": {},
   "source": [
    "####Instructions"
   ]
  },
  {
   "cell_type": "markdown",
   "metadata": {},
   "source": [
    "There's an easy automatic way to find who speaks the most lines that we'll learn later. For now, look through the printout of lines, and figure out who spoke the most lines. Assign the name of that character to most_lines."
   ]
  },
  {
   "cell_type": "code",
   "execution_count": 7,
   "metadata": {
    "collapsed": false
   },
   "outputs": [],
   "source": [
    "# The preprocessed data is loaded into the lines variable.\n",
    "# Lines is a dictionary (dict), a type that we'll learn about in the next mission.\n",
    "#print(type(lines))\n",
    "\n",
    "# We can print out the lines variable and look at it.\n",
    "#print(lines)\n",
    "most_lines = \"luke\""
   ]
  }
 ],
 "metadata": {
  "kernelspec": {
   "display_name": "Python 3",
   "language": "python",
   "name": "python3"
  },
  "language_info": {
   "codemirror_mode": {
    "name": "ipython",
    "version": 3
   },
   "file_extension": ".py",
   "mimetype": "text/x-python",
   "name": "python",
   "nbconvert_exporter": "python",
   "pygments_lexer": "ipython3",
   "version": "3.4.3"
  }
 },
 "nbformat": 4,
 "nbformat_minor": 0
}
