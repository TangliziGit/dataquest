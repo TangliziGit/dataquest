{
 "cells": [
  {
   "cell_type": "code",
   "execution_count": 1,
   "metadata": {
    "collapsed": true
   },
   "outputs": [],
   "source": [
    "from __future__ import print_function"
   ]
  },
  {
   "cell_type": "markdown",
   "metadata": {},
   "source": [
    "#Python Programming"
   ]
  },
  {
   "cell_type": "markdown",
   "metadata": {},
   "source": [
    "##Enumeration and Catching Errors"
   ]
  },
  {
   "cell_type": "markdown",
   "metadata": {},
   "source": [
    "###1: Find the different genders"
   ]
  },
  {
   "cell_type": "markdown",
   "metadata": {},
   "source": [
    "There's an invalid value in the gender column that isn't \"M\" or \"F\".\n",
    "\n",
    "Our first task is going to be getting rid of the invalid values and assigning the right gender.\n",
    "\n",
    "In order to do that, we first need to figure out what all of the unique values in the \"gender\" column are.\n",
    "\n",
    "The value that isn't \"M\" or \"F\" will be the invalid value, and we need to replace it."
   ]
  },
  {
   "cell_type": "code",
   "execution_count": 2,
   "metadata": {
    "collapsed": false
   },
   "outputs": [
    {
     "name": "stdout",
     "output_type": "stream",
     "text": [
      "legislate_raw[0]: {'name': {'last': 'Bassett', 'first': 'Richard'}, 'id': {'bioguide': 'B000226', 'govtrack': 401222, 'icpsr': 507}, 'terms': [{'party': 'Anti-Administration', 'type': 'sen', 'state': 'DE', 'end': '1793-03-03', 'start': '1789-03-04', 'class': 2}], 'bio': {'gender': 'M', 'birthday': '1745-04-02'}}\n"
     ]
    }
   ],
   "source": [
    "import yaml\n",
    "import io\n",
    "\n",
    "#with open('data/legislators.yaml', 'r') as f:\n",
    "#    doc = yaml.load(f)\n",
    "with io.open(\"data/legislators.yaml\", encoding=\"mac_roman\") as f:\n",
    "    legislate_raw = yaml.load(f)\n",
    "\n",
    "print(\"legislate_raw[0]:\", legislate_raw[0])"
   ]
  },
  {
   "cell_type": "code",
   "execution_count": 3,
   "metadata": {
    "collapsed": false
   },
   "outputs": [
    {
     "name": "stdout",
     "output_type": "stream",
     "text": [
      "legislators[0]: ['Richard', 'Bassett', '1789-03-04', 'M', 'sen', 'DE', 'Anti-Administration']\n"
     ]
    }
   ],
   "source": [
    "legislators = []\n",
    "count = 0\n",
    "for row in legislate_raw:\n",
    "    first = legislate_raw[count][\"name\"][\"first\"]\n",
    "    last = legislate_raw[count][\"name\"][\"last\"]\n",
    "    term = legislate_raw[count][\"terms\"][0][\"start\"]\n",
    "    gender = legislate_raw[count][\"bio\"][\"gender\"]\n",
    "    ttype = legislate_raw[count][\"terms\"][0][\"type\"]\n",
    "    state = legislate_raw[count][\"terms\"][0][\"state\"]\n",
    "    try:\n",
    "        party = legislate_raw[count][\"terms\"][0][\"party\"]\n",
    "    except KeyError:\n",
    "        party = \"\"\n",
    "    legislators.append([first, last, term, gender, ttype, state, party])\n",
    "    count += 1\n",
    "    \n",
    "print(\"legislators[0]:\", legislators[0])"
   ]
  },
  {
   "cell_type": "markdown",
   "metadata": {},
   "source": [
    "####Instructions"
   ]
  },
  {
   "cell_type": "markdown",
   "metadata": {},
   "source": [
    "Loop through the rows in legislators, and extract the gender column (fourth column)\n",
    "\n",
    "Append the genders to genders_list.\n",
    "\n",
    "Then turn genders_list into a set, and assign it to unique_genders\n",
    "\n",
    "Finally, convert unique_genders back into a list, and assign it to unique_genders_list."
   ]
  },
  {
   "cell_type": "code",
   "execution_count": 4,
   "metadata": {
    "collapsed": false
   },
   "outputs": [
    {
     "name": "stdout",
     "output_type": "stream",
     "text": [
      "unique_genders: {'F', 'M'}\n",
      "unique_genders_list: ['F', 'M']\n"
     ]
    }
   ],
   "source": [
    "# We can use the set() function to convert lists into sets.\n",
    "# A set is a data type, just like a list, but it only contains each value once.\n",
    "car_makers = [\"Ford\", \"Volvo\", \"Audi\", \"Ford\", \"Volvo\"]\n",
    "\n",
    "# Volvo and ford are duplicates\n",
    "#print(car_makers)\n",
    "\n",
    "# Converting to a set\n",
    "unique_car_makers = set(car_makers)\n",
    "#print(unique_car_makers)\n",
    "\n",
    "# We can't index sets, so we need to convert back into a list first.\n",
    "unique_cars_list = list(unique_car_makers)\n",
    "#print(unique_cars_list[0])\n",
    "\n",
    "genders_list = []\n",
    "unique_genders = set()\n",
    "unique_genders_list = []\n",
    "for row in legislators:\n",
    "    genders_list.append(row[3])\n",
    "    \n",
    "unique_genders = set(genders_list)\n",
    "unique_genders_list = list(unique_genders)\n",
    "\n",
    "print(\"unique_genders:\", unique_genders)\n",
    "print(\"unique_genders_list:\", unique_genders_list)"
   ]
  },
  {
   "cell_type": "markdown",
   "metadata": {
    "collapsed": true
   },
   "source": [
    "###2: Replacing genders"
   ]
  },
  {
   "cell_type": "markdown",
   "metadata": {},
   "source": [
    "Now we know that the invalid gender value is and empty string -- \"\".\n",
    "\n",
    "Sadly, most US Congresspeople (and all prior to 1917) have been male.\n",
    "\n",
    "Because it's going to make this exercise easier, we'll just assume that anyone with a missing gender is Male.\n",
    "\n",
    "At some point later on, we'll be able to predict whether a name is male or female, and we'll revisit this exercise."
   ]
  },
  {
   "cell_type": "markdown",
   "metadata": {},
   "source": [
    "####Instructions"
   ]
  },
  {
   "cell_type": "markdown",
   "metadata": {},
   "source": [
    "Loop through the rows in legislators and replace any gender values of \"\" with \"M\"."
   ]
  },
  {
   "cell_type": "code",
   "execution_count": 5,
   "metadata": {
    "collapsed": false
   },
   "outputs": [
    {
     "name": "stdout",
     "output_type": "stream",
     "text": [
      "lolists: [[5, 5, 10], [5, 20, 30], [5, 70, 80]]\n"
     ]
    }
   ],
   "source": [
    "# We can replace values in a list with a for loop.\n",
    "# All of the 0 values in the first column here will be replaced with a 5.\n",
    "lolists = [[0,5,10], [5,20,30], [0,70,80]]\n",
    "for row in lolists:\n",
    "    if row[0] == 0:\n",
    "        row[0] = 5\n",
    "\n",
    "# We can see the new list.\n",
    "print(\"lolists:\", lolists)\n",
    "\n",
    "for row in legislators:\n",
    "    if row[3] == \"\":\n",
    "        row[3] = \"M\""
   ]
  },
  {
   "cell_type": "markdown",
   "metadata": {},
   "source": [
    "###3: Parsing birth years"
   ]
  },
  {
   "cell_type": "markdown",
   "metadata": {},
   "source": [
    "We want to find out what names are most common for senators, but we also want to be able to filter on date if we want to.\n",
    "\n",
    "Naming someone Effingham was somewhat popular in the 1820's, but may not fly in the modern era.\n",
    "\n",
    "So we need some way to determine if a Senator was born recently, and we need a way to only select those names if we want to.\n",
    "\n",
    "We have a birthday column, so we should just be able to parse them out.\n",
    "\n",
    "Birthdays are stored in the \"year-month-day\" format, such as \"1820-05-02\".\n",
    "\n",
    "We should be able to split the birthday on \"-\", and grab the first part (the year)."
   ]
  },
  {
   "cell_type": "markdown",
   "metadata": {},
   "source": [
    "####Instructions"
   ]
  },
  {
   "cell_type": "markdown",
   "metadata": {},
   "source": [
    "Loop through the rows in legislators\n",
    "\n",
    "Inside the loop, get the birthday column from the row, and split the birthday.\n",
    "\n",
    "After splitting the birthday, get the birth year, and append it to birth_years\n",
    "\n",
    "At the end, birth_years will contain the birth years of all the Congresspeople in the data."
   ]
  },
  {
   "cell_type": "code",
   "execution_count": 6,
   "metadata": {
    "collapsed": false
   },
   "outputs": [
    {
     "name": "stdout",
     "output_type": "stream",
     "text": [
      "birth_years[:5]: ['1789', '1789', '1789', '1789', '1789']\n"
     ]
    }
   ],
   "source": [
    "birth_years = []\n",
    "for row in legislators:\n",
    "    split_birthday = row[2].split(\"-\")\n",
    "    birth_year = split_birthday[0]\n",
    "    birth_years.append(birth_year)\n",
    "\n",
    "print(\"birth_years[:5]:\", birth_years[:5])"
   ]
  },
  {
   "cell_type": "markdown",
   "metadata": {},
   "source": [
    "###4: Practice with enumerate"
   ]
  },
  {
   "cell_type": "markdown",
   "metadata": {},
   "source": [
    "Let's apply the enumerate function a bit before moving forward."
   ]
  },
  {
   "cell_type": "markdown",
   "metadata": {},
   "source": [
    "####Instructions"
   ]
  },
  {
   "cell_type": "markdown",
   "metadata": {},
   "source": [
    "Use a for loop to enumerate the ships list.\n",
    "\n",
    "In the body of the loop, print the ship at the current index, then the car at the current index.\n",
    "\n",
    "Make sure you have two separate print statements."
   ]
  },
  {
   "cell_type": "code",
   "execution_count": 7,
   "metadata": {
    "collapsed": false
   },
   "outputs": [
    {
     "name": "stdout",
     "output_type": "stream",
     "text": [
      "dog: labrador\n",
      "dogs[i]: labrador\n",
      "cats[i]: siamese\n",
      "dog: poodle\n",
      "dogs[i]: poodle\n",
      "cats[i]: persian\n",
      "dog: collie\n",
      "dogs[i]: collie\n",
      "cats[i]: somali\n",
      "ship: Andrea Doria\n",
      "cars[i]: Ford Edsel\n",
      "ship: Titanic\n",
      "cars[i]: Ford Pinto\n",
      "ship: Lusitania\n",
      "cars[i]: Yugo\n"
     ]
    }
   ],
   "source": [
    "dogs = [\"labrador\", \"poodle\", \"collie\"]\n",
    "cats = [\"siamese\", \"persian\", \"somali\"]\n",
    "# Enumerate the dogs list, and print the values.\n",
    "for i, dog in enumerate(dogs):\n",
    "    # Will print the dog at the current loop iteration.\n",
    "    print(\"dog:\", dog)\n",
    "    # This will equal dog.  Prints the dog at index i.\n",
    "    print(\"dogs[i]:\", dogs[i])\n",
    "    # Print the cat at index i.\n",
    "    print(\"cats[i]:\", cats[i])\n",
    "\n",
    "ships = [\"Andrea Doria\", \"Titanic\", \"Lusitania\"]\n",
    "cars = [\"Ford Edsel\", \"Ford Pinto\", \"Yugo\"]\n",
    "for i, ship in enumerate(ships):\n",
    "    print(\"ship:\", ship)\n",
    "    print(\"cars[i]:\", cars[i])"
   ]
  },
  {
   "cell_type": "code",
   "execution_count": 8,
   "metadata": {
    "collapsed": false
   },
   "outputs": [
    {
     "name": "stdout",
     "output_type": "stream",
     "text": [
      "lolists: [['apple', 'monkey', 'cedar'], ['orange', 'dog', 'maple'], ['banana', 'cat', 'fig']]\n"
     ]
    }
   ],
   "source": [
    "lolists = [[\"apple\", \"monkey\"], [\"orange\", \"dog\"], [\"banana\", \"cat\"]]\n",
    "trees = [\"cedar\", \"maple\", \"fig\"]\n",
    "for i, row in enumerate(lolists):\n",
    "    row.append(trees[i])\n",
    "\n",
    "# Our list now has a new column containing the values from trees.\n",
    "print(\"lolists:\", lolists)\n",
    "\n",
    "# Legislators and birth_years have both been loaded in.\n",
    "for i, row in enumerate(legislators):\n",
    "    row.append(birth_years[i])"
   ]
  },
  {
   "cell_type": "markdown",
   "metadata": {},
   "source": [
    "###5: Practice with list comprehensions"
   ]
  },
  {
   "cell_type": "markdown",
   "metadata": {},
   "source": [
    "Let's practice a bit with list comprehensions."
   ]
  },
  {
   "cell_type": "markdown",
   "metadata": {},
   "source": [
    "####Instructions"
   ]
  },
  {
   "cell_type": "markdown",
   "metadata": {},
   "source": [
    "Double all of the prices in apple_price, and assign the resulting list to apple_price_doubled.\n",
    "\n",
    "Subtract 100 from all of the prices in apple_price, and assign the resulting list to apple_price_lowered."
   ]
  },
  {
   "cell_type": "code",
   "execution_count": 9,
   "metadata": {
    "collapsed": true
   },
   "outputs": [],
   "source": [
    "# Define a list of lists\n",
    "data = [[\"tiger\", \"lion\"], [\"duck\", \"goose\"], [\"cardinal\", \"bluebird\"]]\n",
    "\n",
    "# Extract the first column from the list\n",
    "first_column = [row[0] for row in data]\n",
    "\n",
    "apple_price = [100, 101, 102, 105]\n",
    "apple_price_doubled = [price*2 for price in apple_price]\n",
    "apple_price_lowered = [price-100 for price in apple_price]"
   ]
  },
  {
   "cell_type": "markdown",
   "metadata": {},
   "source": [
    "###6: Convert birth years to integers"
   ]
  },
  {
   "cell_type": "markdown",
   "metadata": {},
   "source": [
    "We want to find the most common Senator names after a certain date -- let's say 1940.\n",
    "\n",
    "Remember that the birth years are now the last column in the legislators data.\n",
    "\n",
    "There's one problem -- the birth years are stored as strings, but we need them to be integers so we can use booleans to pick only the ones that are greater than 1940.\n",
    "\n",
    "We can't use booleans to compare a string value to the integer 1940 -- the comparison wouldn't make any sense.\n",
    "\n",
    "Luckily, we can convert strings to ints using the int() function."
   ]
  },
  {
   "cell_type": "markdown",
   "metadata": {},
   "source": [
    "####Instructions"
   ]
  },
  {
   "cell_type": "markdown",
   "metadata": {},
   "source": [
    "We're stuck for now, but we'll learn a concept next that will help us out.\n",
    "\n",
    "Just hit \"Next\" to move on for now."
   ]
  },
  {
   "cell_type": "code",
   "execution_count": 10,
   "metadata": {
    "collapsed": true
   },
   "outputs": [],
   "source": [
    "for row in legislators:\n",
    "    row[7] = int(row[7])\n",
    "\n",
    "# Hmm, but the above code fails.\n",
    "# It fails because there is a value in the column that can't be converted to an int.\n",
    "# Remember how some genders were missing?  It also looks like some birthdays were missing, which is giving us invalid values in the birth years column."
   ]
  },
  {
   "cell_type": "markdown",
   "metadata": {},
   "source": [
    "###7: Practice with try/except"
   ]
  },
  {
   "cell_type": "markdown",
   "metadata": {},
   "source": [
    "Let's practice with try/except blocks a bit to get a better handle on them."
   ]
  },
  {
   "cell_type": "markdown",
   "metadata": {},
   "source": [
    "####Instructions"
   ]
  },
  {
   "cell_type": "markdown",
   "metadata": {},
   "source": [
    "Use try/except statements to parse another_invalid_int and another_valid_int.\n",
    "\n",
    "Assign 0 to another_invalid_int in the except block.\n",
    "\n",
    "At the end, another_valid_int will be parsed properly, and another_invalid_int will be 0."
   ]
  },
  {
   "cell_type": "code",
   "execution_count": 11,
   "metadata": {
    "collapsed": false
   },
   "outputs": [
    {
     "name": "stdout",
     "output_type": "stream",
     "text": [
      "valid_int: 10\n",
      "invalid_int: 0\n"
     ]
    }
   ],
   "source": [
    "# Cannot be parsed into an int with the int() function.\n",
    "invalid_int = \"\"\n",
    "\n",
    "# Can be parsed into an int.\n",
    "valid_int = \"10\"\n",
    "\n",
    "# Parse the valid int.\n",
    "try:\n",
    "    valid_int = int(valid_int)\n",
    "except Exception:\n",
    "    # This code is never run, because there is no error parsing valid_int into an integer.\n",
    "    valid_int = 0\n",
    "\n",
    "# Try to parse the invalid int.\n",
    "try:\n",
    "    invalid_int = int(invalid_int)\n",
    "except Exception:\n",
    "    # The parsing fails, so we end up here.\n",
    "    # The code here will be run, and will assign 0 to invalid_int.\n",
    "    invalid_int = 0\n",
    "\n",
    "print(\"valid_int:\", valid_int)\n",
    "print(\"invalid_int:\", invalid_int)\n",
    "\n",
    "another_invalid_int = \"Oregon\"\n",
    "another_valid_int = \"1000\"\n",
    "try:\n",
    "    another_invalid_int = int(another_invalid_int)\n",
    "except Exception:\n",
    "    another_invalid_int = 0\n",
    "\n",
    "try:\n",
    "    another_valid_int = int(another_valid_int)\n",
    "except Exception:\n",
    "    another_valid_int = 0"
   ]
  },
  {
   "cell_type": "markdown",
   "metadata": {},
   "source": [
    "###8: The pass keyword"
   ]
  },
  {
   "cell_type": "markdown",
   "metadata": {},
   "source": [
    "The pass keyword enables us to skip adding code into the body of a statement when we don't want to.\n",
    "\n",
    "    valid_int=\"5\"\n",
    "    try:\n",
    "        valid_int=int(valid_int)\n",
    "    except Exception:\n",
    "\n",
    "The code above will fail, because whenever we have a colon in Python, we are saying that we will have a line or lines below it, indented 4 spaces.\n",
    "\n",
    "We can't have zero lines inside the body of any statement ending with a colon (for loop, function definition, if statement, and so on). Comments don't count as lines for this purpose.\n",
    "\n",
    "But sometimes, such as with the except statement above, we really don't want to do anything in the body.\n",
    "\n",
    "This is where the pass keyword comes in handy.\n",
    "\n",
    "    valid_int=\"5\"\n",
    "    try:\n",
    "        valid_int=int(valid_int)\n",
    "    except Exception:\n",
    "        pass\n",
    "\n",
    "The code above will work, because the pass keyword is a line in the body of the except statement.\n",
    "\n",
    "However, pass is a special keyword that tells Python to do nothing and keep going."
   ]
  },
  {
   "cell_type": "markdown",
   "metadata": {},
   "source": [
    "####Instructions"
   ]
  },
  {
   "cell_type": "markdown",
   "metadata": {},
   "source": [
    "Use a try/except block to parse valid_int into an integer.\n",
    "\n",
    "Use the pass keyword inside the except block."
   ]
  },
  {
   "cell_type": "code",
   "execution_count": 12,
   "metadata": {
    "collapsed": false
   },
   "outputs": [
    {
     "name": "stdout",
     "output_type": "stream",
     "text": [
      "invalid_int: \n"
     ]
    }
   ],
   "source": [
    "invalid_int = \"\"\n",
    "try:\n",
    "    # This parsing will fail\n",
    "    invalid_int = int(invalid_int)\n",
    "except Exception:\n",
    "    # Nothing will happen in the body of the except statement, because we are passing.\n",
    "    pass\n",
    "\n",
    "# invalid_int still has the same value.\n",
    "print(\"invalid_int:\", invalid_int)\n",
    "\n",
    "# We can also use the pass statement with for loops.\n",
    "# (although it's less useful in this example).\n",
    "a = [1,4,5]\n",
    "for i in a:\n",
    "    pass\n",
    "\n",
    "# And if statements.\n",
    "if 10 > 5:\n",
    "    pass\n",
    "\n",
    "# We can use the pass keyword inside the body of any statement that ends with a colon.\n",
    "valid_int = \"10\"\n",
    "try:\n",
    "    valid_int = int(valid_int)\n",
    "except Exception:\n",
    "    pass"
   ]
  },
  {
   "cell_type": "markdown",
   "metadata": {},
   "source": [
    "###9: Convert birth years to integers"
   ]
  },
  {
   "cell_type": "markdown",
   "metadata": {},
   "source": [
    "Now that we know about the try/except statements, we can convert the birth year column (column 8) to integers."
   ]
  },
  {
   "cell_type": "markdown",
   "metadata": {},
   "source": [
    "####Instructions"
   ]
  },
  {
   "cell_type": "markdown",
   "metadata": {},
   "source": [
    "Loop over the rows in legislators, and convert the values in the birth year column to integers.\n",
    "\n",
    "In cases where parsing fails, assign 0 as the value."
   ]
  },
  {
   "cell_type": "code",
   "execution_count": 13,
   "metadata": {
    "collapsed": true
   },
   "outputs": [],
   "source": [
    "# The legislators variable has been loaded.\n",
    "for row in legislators:\n",
    "    try:\n",
    "        row[7] = int(row[7])\n",
    "    except Exception:\n",
    "        row[7] = 0"
   ]
  },
  {
   "cell_type": "markdown",
   "metadata": {},
   "source": [
    "###10: Fill in years without a value"
   ]
  },
  {
   "cell_type": "markdown",
   "metadata": {},
   "source": [
    "Great, we're very close to being able to find the most common name!\n",
    "\n",
    "The final hurdle is dealing with the cases where the birth years are 0\n",
    "\n",
    "We'll need to fill these in to make our results more accurate.\n",
    "\n",
    "The rows in legislators are listed in rough chronological order, so we can fill in birth years that are 0 with the birth year of the previous row.\n",
    "\n",
    "This isn't perfect, but we don't have a much better way of going about this."
   ]
  },
  {
   "cell_type": "markdown",
   "metadata": {},
   "source": [
    "####Instructions"
   ]
  },
  {
   "cell_type": "markdown",
   "metadata": {},
   "source": [
    "Loop through legislators, and replace any values in the birth_year column that are 0 with the previous value."
   ]
  },
  {
   "cell_type": "code",
   "execution_count": 14,
   "metadata": {
    "collapsed": false
   },
   "outputs": [
    {
     "name": "stdout",
     "output_type": "stream",
     "text": [
      "data: [[1, 1], [1, 5], [10, 7]]\n"
     ]
    }
   ],
   "source": [
    "data = [[1,1],[0,5],[10,7]]\n",
    "last_value = 0\n",
    "\n",
    "# There are some holes in this code -- it won't work properly if the first birth year is 0, for example, but its fine for now.\n",
    "# It keeps track of the last value in the column in the last_value variable.\n",
    "# If it finds an item that equals 0, it replaces the value with the last value.\n",
    "for row in data:\n",
    "    # Check if the item is 0.\n",
    "    if row[0] == 0:\n",
    "        # If it is, replace it with the last value.\n",
    "        row[0] = last_value\n",
    "    # Set last value equal to the item -- we need to do this in order to keep track of what the previous value was, so we can use it for replacement.\n",
    "    last_value = row[0]\n",
    "\n",
    "# The 0 value in the second row, first column has been replaced with a 1.\n",
    "print(\"data:\", data)\n",
    "\n",
    "last_value = 1\n",
    "for row in legislators:\n",
    "    if row[7] == 0:\n",
    "        row[7] = last_value\n",
    "    last_value = row[7]"
   ]
  },
  {
   "cell_type": "markdown",
   "metadata": {},
   "source": [
    "###11: Counting up the female names"
   ]
  },
  {
   "cell_type": "markdown",
   "metadata": {},
   "source": [
    "We now know enough to count up the most popular names!\n",
    "\n",
    "We'll start with female names, and then do male names next.\n",
    "\n",
    "Only names from congresspeople born after 1940 will be counted.\n",
    "\n",
    "We'll be counting using a dictionary -- we've done this before, but a quick refresher is below."
   ]
  },
  {
   "cell_type": "markdown",
   "metadata": {},
   "source": [
    "####Instructions"
   ]
  },
  {
   "cell_type": "markdown",
   "metadata": {},
   "source": [
    "Count up how many times each female name occurs in legislators. First name is the second column.\n",
    "\n",
    "You'll need to make sure that gender (fourth column) equals \"F\", and that birth year (eighth column) is greater than 1940.\n",
    "\n",
    "Store the first name key and the counts in the female_name_counts dictionary.\n",
    "\n",
    "You'll need to use nested if statements to first check if gender and birth year are valid, and then to check if the first name is in female_name_counts."
   ]
  },
  {
   "cell_type": "code",
   "execution_count": 15,
   "metadata": {
    "collapsed": true
   },
   "outputs": [],
   "source": [
    "names = [\"Jim\", \"Bob\", \"Bob\", \"JimBob\", \"Joe\", \"Jim\"]\n",
    "name_counts = {}\n",
    "for name in names:\n",
    "    if name in name_counts:\n",
    "        name_counts[name] = name_counts[name] + 1\n",
    "    else:\n",
    "        name_counts[name] = 1\n",
    "\n",
    "female_name_counts = {}\n",
    "for row in legislators:\n",
    "    if row[3] == \"F\" and row[7] > 1940:\n",
    "        if row[1] in female_name_counts:\n",
    "            female_name_counts[row[1]] = female_name_counts[row[1]] + 1\n",
    "        else:\n",
    "            female_name_counts[row[1]] = 1"
   ]
  },
  {
   "cell_type": "markdown",
   "metadata": {},
   "source": [
    "###12: Practicing with the None type"
   ]
  },
  {
   "cell_type": "markdown",
   "metadata": {},
   "source": [
    "Now that we know about the None type, let's practice with it a bit."
   ]
  },
  {
   "cell_type": "markdown",
   "metadata": {},
   "source": [
    "####Instructions"
   ]
  },
  {
   "cell_type": "markdown",
   "metadata": {},
   "source": [
    "Check whether c equals None, and assign the result to c_none.\n",
    "\n",
    "Check whether d equals None, and assign the result to d_none."
   ]
  },
  {
   "cell_type": "code",
   "execution_count": 16,
   "metadata": {
    "collapsed": false
   },
   "outputs": [
    {
     "name": "stdout",
     "output_type": "stream",
     "text": [
      "a is None: True\n",
      "b is None: False\n",
      "type(a): <class 'NoneType'>\n",
      "a_none: True\n"
     ]
    }
   ],
   "source": [
    "# Set a variable equal to the None type\n",
    "a = None\n",
    "# A normal variable\n",
    "b = 1\n",
    "\n",
    "# This is True\n",
    "print(\"a is None:\", a is None)\n",
    "# And this is False\n",
    "print(\"b is None:\", b is None)\n",
    "\n",
    "# a is of the None type\n",
    "print(\"type(a):\", type(a))\n",
    "\n",
    "# Assigns whether a equals None to a_none\n",
    "a_none = a is None\n",
    "# Evaluates to True\n",
    "print(\"a_none:\", a_none)\n",
    "\n",
    "c = None\n",
    "d = \"Bamboo\"\n",
    "c_none = c is None\n",
    "d_none = d is None"
   ]
  },
  {
   "cell_type": "markdown",
   "metadata": {},
   "source": [
    "###13: Finding maximums with the None type"
   ]
  },
  {
   "cell_type": "markdown",
   "metadata": {},
   "source": [
    "We know how to find the maximum value in a list or dictionary.\n",
    "\n",
    "    max_val = 0\n",
    "    data = [50,80,100,0,40]\n",
    "    for i in data:\n",
    "        if i > max_val:\n",
    "            max_val = i\n",
    "    print(max_val)\n",
    "\n",
    "The code above will find the maximum value in the data.\n",
    "\n",
    "But we have to initialize max_val first to a number.\n",
    "\n",
    "    max_val = 0\n",
    "    data = [-10, -20, -50, -100]\n",
    "    for i in data:\n",
    "        if i > max_val:\n",
    "            max_val = i\n",
    "    print(max_val)\n",
    "\n",
    "In the above example, we would get an incorrect final value for max_val, because we didn't set the initial value well (0 is greater than any value in data, so it's never changed.)\n",
    "\n",
    "Luckily, the None type to help us out."
   ]
  },
  {
   "cell_type": "markdown",
   "metadata": {},
   "source": [
    "####Instructions"
   ]
  },
  {
   "cell_type": "markdown",
   "metadata": {},
   "source": [
    "Use a for loop to set min_val equal to the smallest value in income."
   ]
  },
  {
   "cell_type": "code",
   "execution_count": 17,
   "metadata": {
    "collapsed": true
   },
   "outputs": [],
   "source": [
    "max_val = None\n",
    "data = [-10, -20, -50, -100]\n",
    "for i in data:\n",
    "    # If max_val equals None, or i is greater than max_val, then set max_val equal to i.\n",
    "    # This ensures that no matter how small the values in data are, max_val will always get changed to a value in the list.\n",
    "    # If you are checking if a value equals None and you are using it with and or or, then the None check always needs to come first.\n",
    "    if max_val is None or i > max_val:\n",
    "        max_val = i\n",
    "\n",
    "min_val = None\n",
    "income = [100,700,100,50,100,40,56,31,765,1200,1400,32,6412,987]\n",
    "for i in income:\n",
    "    if min_val is None or i < min_val:\n",
    "        min_val = i"
   ]
  },
  {
   "cell_type": "markdown",
   "metadata": {},
   "source": [
    "###14: Finding how many times the top female names occur"
   ]
  },
  {
   "cell_type": "markdown",
   "metadata": {},
   "source": [
    "We now have a dictionary where the keys are first names, and the values are counts of how many times female congresspeople born after 1940 had that name.\n",
    "\n",
    "We need to go from here to a name or names that are the most popular.\n",
    "\n",
    "First, let's find out the highest value (how many times the most-occuring name occurred).\n",
    "\n",
    "This will let us extract the name or names that occurred the most."
   ]
  },
  {
   "cell_type": "markdown",
   "metadata": {},
   "source": [
    "####Instructions"
   ]
  },
  {
   "cell_type": "markdown",
   "metadata": {},
   "source": [
    "Loop through the keys in female_name_counts, and get the value associated with the key.\n",
    "\n",
    "Assign the value to max_value if it is larger, or if max_value is None.\n",
    "\n",
    "At the end of the loop, max_value will be the largest value in the dictionary."
   ]
  },
  {
   "cell_type": "code",
   "execution_count": 18,
   "metadata": {
    "collapsed": true
   },
   "outputs": [],
   "source": [
    "# female_name_counts has been loaded in.\n",
    "max_value = None\n",
    "for k in female_name_counts:\n",
    "    if max_value is None or female_name_counts[k] > max_value:\n",
    "        max_value = female_name_counts[k]"
   ]
  },
  {
   "cell_type": "markdown",
   "metadata": {},
   "source": [
    "###15: Finding the female names that occur the most"
   ]
  },
  {
   "cell_type": "markdown",
   "metadata": {},
   "source": [
    "So we now know that the names that occur the most occur 2 times.\n",
    "\n",
    "All we have to do now is loop through the dictionary again and extract all the names that occur twice."
   ]
  },
  {
   "cell_type": "markdown",
   "metadata": {},
   "source": [
    "####Instructions"
   ]
  },
  {
   "cell_type": "markdown",
   "metadata": {},
   "source": [
    "Loop through the keys in female_name_counts.\n",
    "\n",
    "If any value equals 2, append the key to top_female_names.\n",
    "\n",
    "At the end, top_female_names will be a list of the most occurring female congressperson names."
   ]
  },
  {
   "cell_type": "code",
   "execution_count": 19,
   "metadata": {
    "collapsed": true
   },
   "outputs": [],
   "source": [
    "# female_name_counts has been loaded in.\n",
    "top_female_names = []\n",
    "for k in female_name_counts:\n",
    "    if female_name_counts[k] == 2:\n",
    "        top_female_names.append(k)"
   ]
  },
  {
   "cell_type": "markdown",
   "metadata": {},
   "source": [
    "###16: Practice with the items method"
   ]
  },
  {
   "cell_type": "markdown",
   "metadata": {},
   "source": [
    "Let's practice a bit with the .items() method"
   ]
  },
  {
   "cell_type": "markdown",
   "metadata": {},
   "source": [
    "####Instructions"
   ]
  },
  {
   "cell_type": "markdown",
   "metadata": {},
   "source": [
    "Use the .items() method along with a for loop to loop through plant_types.\n",
    "\n",
    "Inside the loop, print the key, and then the value."
   ]
  },
  {
   "cell_type": "code",
   "execution_count": 20,
   "metadata": {
    "collapsed": false
   },
   "outputs": [
    {
     "name": "stdout",
     "output_type": "stream",
     "text": [
      "key: pug\n",
      "value: dog\n",
      "animal_types[key]: dog\n",
      "key: osprey\n",
      "value: bird\n",
      "animal_types[key]: bird\n",
      "key: robin\n",
      "value: bird\n",
      "animal_types[key]: bird\n",
      "k: maple\n",
      "v: tree\n",
      "k: orchid\n",
      "v: flower\n",
      "k: cedar\n",
      "v: tree\n"
     ]
    }
   ],
   "source": [
    "animal_types = {\"robin\": \"bird\", \"pug\": \"dog\", \"osprey\": \"bird\"}\n",
    "\n",
    "# The .items method lets us access a dictionary key and value in a loop.\n",
    "for key,value in animal_types.items():\n",
    "    print(\"key:\", key)\n",
    "    print(\"value:\", value)\n",
    "    # This is equal to the value.\n",
    "    print(\"animal_types[key]:\", animal_types[key])\n",
    "\n",
    "plant_types = {\"orchid\": \"flower\", \"cedar\": \"tree\", \"maple\": \"tree\"}\n",
    "for k,v in plant_types.items():\n",
    "    print(\"k:\", k)\n",
    "    print(\"v:\", v)"
   ]
  },
  {
   "cell_type": "markdown",
   "metadata": {},
   "source": [
    "###17: Finding the male names that occur the most"
   ]
  },
  {
   "cell_type": "markdown",
   "metadata": {},
   "source": [
    "Let's follow the same process we did with the female names to find a list of the most common male names.\n",
    "\n",
    "The .items() method may make the task quicker."
   ]
  },
  {
   "cell_type": "markdown",
   "metadata": {},
   "source": [
    "####Instructions"
   ]
  },
  {
   "cell_type": "markdown",
   "metadata": {},
   "source": [
    "Loop through legislators, and count up how much each name where the gender column equals \"M\" and the birth year is after 1940 occurs. Store the results in a dictionary.\n",
    "\n",
    "Then find the highest value in that dictionary.\n",
    "\n",
    "Finally, loop through the dictionary and append any keys where the value equals the highest value to top_male_names."
   ]
  },
  {
   "cell_type": "code",
   "execution_count": 21,
   "metadata": {
    "collapsed": true
   },
   "outputs": [],
   "source": [
    "# legislators has been loaded in.\n",
    "top_male_names = []\n",
    "male_name_counts = {}\n",
    "for row in legislators:\n",
    "    if row[3] == \"M\" and row[7] > 1940:\n",
    "        if row[1] in male_name_counts:\n",
    "            male_name_counts[row[1]] = male_name_counts[row[1]] + 1\n",
    "        else:\n",
    "            male_name_counts[row[1]] = 1\n",
    "\n",
    "highest_value = None\n",
    "for k,v in male_name_counts.items():\n",
    "    if highest_value is None or v > highest_value:\n",
    "        highest_value = v\n",
    "\n",
    "for k,v in male_name_counts.items():\n",
    "    if v == highest_value:\n",
    "        top_male_names.append(k)"
   ]
  }
 ],
 "metadata": {
  "kernelspec": {
   "display_name": "Python 3",
   "language": "python",
   "name": "python3"
  },
  "language_info": {
   "codemirror_mode": {
    "name": "ipython",
    "version": 3
   },
   "file_extension": ".py",
   "mimetype": "text/x-python",
   "name": "python",
   "nbconvert_exporter": "python",
   "pygments_lexer": "ipython3",
   "version": "3.4.3"
  }
 },
 "nbformat": 4,
 "nbformat_minor": 0
}
