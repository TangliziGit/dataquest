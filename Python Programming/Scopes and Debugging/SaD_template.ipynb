{
 "cells": [
  {
   "cell_type": "code",
   "execution_count": 1,
   "metadata": {
    "collapsed": true
   },
   "outputs": [],
   "source": [
    "from __future__ import print_function"
   ]
  },
  {
   "cell_type": "markdown",
   "metadata": {},
   "source": [
    "#Python Programming"
   ]
  },
  {
   "cell_type": "markdown",
   "metadata": {},
   "source": [
    "##Scopes and Debugging"
   ]
  },
  {
   "cell_type": "markdown",
   "metadata": {},
   "source": [
    "###1: Find the total number of borrowers in default"
   ]
  },
  {
   "cell_type": "markdown",
   "metadata": {
    "collapsed": true
   },
   "source": [
    "Just so we can get an idea of how large the problem of student loan debt is, let's first find the total number of borrowers in default.\n",
    "\n",
    "We can do this by adding together all of the values in the borrower_default_count_240 column."
   ]
  },
  {
   "cell_type": "code",
   "execution_count": 2,
   "metadata": {
    "collapsed": false
   },
   "outputs": [
    {
     "data": {
      "text/html": [
       "<div>\n",
       "<table border=\"1\" class=\"dataframe\">\n",
       "  <thead>\n",
       "    <tr style=\"text-align: right;\">\n",
       "      <th></th>\n",
       "      <th>serial</th>\n",
       "      <th>opeid</th>\n",
       "      <th>institution</th>\n",
       "      <th>address</th>\n",
       "      <th>city</th>\n",
       "      <th>state</th>\n",
       "      <th>zip</th>\n",
       "      <th>repayment_borrowers</th>\n",
       "      <th>default_borrowers</th>\n",
       "      <th>default_rate</th>\n",
       "      <th>borrower_default_count_240</th>\n",
       "      <th>principal_outstanding_240</th>\n",
       "    </tr>\n",
       "  </thead>\n",
       "  <tbody>\n",
       "    <tr>\n",
       "      <th>0</th>\n",
       "      <td>1</td>\n",
       "      <td>100200</td>\n",
       "      <td>Alabama Agricultural &amp; Mechanical University</td>\n",
       "      <td>4900 Meridian Street</td>\n",
       "      <td>Normal</td>\n",
       "      <td>AL</td>\n",
       "      <td>35762-1357</td>\n",
       "      <td>145</td>\n",
       "      <td>54</td>\n",
       "      <td>37.24%</td>\n",
       "      <td>1606</td>\n",
       "      <td>954821</td>\n",
       "    </tr>\n",
       "    <tr>\n",
       "      <th>1</th>\n",
       "      <td>6</td>\n",
       "      <td>100500</td>\n",
       "      <td>Alabama State University</td>\n",
       "      <td>915 South Jackson Street</td>\n",
       "      <td>Montgomery</td>\n",
       "      <td>AL</td>\n",
       "      <td>36104-5714</td>\n",
       "      <td>164</td>\n",
       "      <td>12</td>\n",
       "      <td>7.32%</td>\n",
       "      <td>1567</td>\n",
       "      <td>1410608</td>\n",
       "    </tr>\n",
       "    <tr>\n",
       "      <th>2</th>\n",
       "      <td>13</td>\n",
       "      <td>100900</td>\n",
       "      <td>Auburn University</td>\n",
       "      <td>107 Samford Hall</td>\n",
       "      <td>Auburn</td>\n",
       "      <td>AL</td>\n",
       "      <td>36849-5113</td>\n",
       "      <td>479</td>\n",
       "      <td>29</td>\n",
       "      <td>6.05%</td>\n",
       "      <td>269</td>\n",
       "      <td>747267</td>\n",
       "    </tr>\n",
       "    <tr>\n",
       "      <th>3</th>\n",
       "      <td>14</td>\n",
       "      <td>831000</td>\n",
       "      <td>Auburn University Montgomery</td>\n",
       "      <td>7440 East Drive</td>\n",
       "      <td>Montgomery</td>\n",
       "      <td>AL</td>\n",
       "      <td>36117-3596</td>\n",
       "      <td>88</td>\n",
       "      <td>20</td>\n",
       "      <td>22.73%</td>\n",
       "      <td>184</td>\n",
       "      <td>457312</td>\n",
       "    </tr>\n",
       "    <tr>\n",
       "      <th>4</th>\n",
       "      <td>16</td>\n",
       "      <td>101200</td>\n",
       "      <td>Birmingham Southern College</td>\n",
       "      <td>900 Arkadelphia Road</td>\n",
       "      <td>Birmingham</td>\n",
       "      <td>AL</td>\n",
       "      <td>35254-0002</td>\n",
       "      <td>69</td>\n",
       "      <td>12</td>\n",
       "      <td>17.39%</td>\n",
       "      <td>93</td>\n",
       "      <td>240798</td>\n",
       "    </tr>\n",
       "  </tbody>\n",
       "</table>\n",
       "</div>"
      ],
      "text/plain": [
       "   serial   opeid                                   institution  \\\n",
       "0       1  100200  Alabama Agricultural & Mechanical University   \n",
       "1       6  100500                      Alabama State University   \n",
       "2      13  100900                             Auburn University   \n",
       "3      14  831000                  Auburn University Montgomery   \n",
       "4      16  101200                   Birmingham Southern College   \n",
       "\n",
       "                    address        city state         zip  \\\n",
       "0      4900 Meridian Street      Normal    AL  35762-1357   \n",
       "1  915 South Jackson Street  Montgomery    AL  36104-5714   \n",
       "2          107 Samford Hall      Auburn    AL  36849-5113   \n",
       "3           7440 East Drive  Montgomery    AL  36117-3596   \n",
       "4      900 Arkadelphia Road  Birmingham    AL  35254-0002   \n",
       "\n",
       "   repayment_borrowers  default_borrowers default_rate  \\\n",
       "0                  145                 54       37.24%   \n",
       "1                  164                 12        7.32%   \n",
       "2                  479                 29        6.05%   \n",
       "3                   88                 20       22.73%   \n",
       "4                   69                 12       17.39%   \n",
       "\n",
       "   borrower_default_count_240  principal_outstanding_240  \n",
       "0                        1606                     954821  \n",
       "1                        1567                    1410608  \n",
       "2                         269                     747267  \n",
       "3                         184                     457312  \n",
       "4                          93                     240798  "
      ]
     },
     "execution_count": 2,
     "metadata": {},
     "output_type": "execute_result"
    }
   ],
   "source": [
    "import pandas\n",
    "\n",
    "loans = pandas.read_csv(\"data/loans.csv\")\n",
    "loans[:5]"
   ]
  },
  {
   "cell_type": "code",
   "execution_count": 3,
   "metadata": {
    "collapsed": false
   },
   "outputs": [],
   "source": [
    "# The data is in the loans variable.\n",
    "\n",
    "# Let's add together all of the borrower counts to find how many people are in default\n",
    "#sum = sum(loans[\"borrower_default_count_240\"])\n",
    "\n",
    "# Now let's add together the total principal on the loans in default\n",
    "#sum = sum(loans[\"principal_outstanding_240\"])\n",
    "\n",
    "# It looks like the above code gives us an error.\n",
    "# We overwrote the sum function with our sum variable, so we can't use it anymore.\n",
    "# In the next few screens, we'll learn about what this overwriting is, and how variables in python work."
   ]
  },
  {
   "cell_type": "markdown",
   "metadata": {},
   "source": [
    "###2: Builtin functions"
   ]
  },
  {
   "cell_type": "markdown",
   "metadata": {},
   "source": [
    "Python has some functions that are available by default, without having to import them. These are called builtin functions.\n",
    "\n",
    "sum is one such builtin function. Others are len, float, min, and max. These are generally functions that are used so often that it makes sense to make them a part of the language itself.\n",
    "\n",
    "As you saw in the previous screen, we overwrote a builtin function. Any variable in python can be overwritten, but there are specific rules about how the overwriting works."
   ]
  },
  {
   "cell_type": "markdown",
   "metadata": {},
   "source": [
    "####Instructions"
   ]
  },
  {
   "cell_type": "markdown",
   "metadata": {},
   "source": [
    "Use the sum function to add 6 and 11. Assign the result to total."
   ]
  },
  {
   "cell_type": "code",
   "execution_count": 4,
   "metadata": {
    "collapsed": false
   },
   "outputs": [
    {
     "name": "stdout",
     "output_type": "stream",
     "text": [
      "add_things(5, 10): 15\n",
      "total: 17\n"
     ]
    }
   ],
   "source": [
    "def add_things(a, b):\n",
    "    sum = a + b\n",
    "    return sum\n",
    "\n",
    "print(\"add_things(5, 10):\", add_things(5, 10))\n",
    "\n",
    "total = sum([6, 11])\n",
    "print(\"total:\", total)"
   ]
  },
  {
   "cell_type": "markdown",
   "metadata": {},
   "source": [
    "###3: Functions and scopes"
   ]
  },
  {
   "cell_type": "markdown",
   "metadata": {},
   "source": [
    "Every function has its own local scope. The global scope is what happens at the top level of the module -- outside any functions.\n",
    "\n",
    "Inside a local scope, you can overwrite variables without it being reflected in the global scopes.\n",
    "\n",
    "Scopes are a way to isolate pieces of the program from each other. Imagine calling a builtin or library function that overwrote all of your variables because some variables in the function are named the same as your own variables."
   ]
  },
  {
   "cell_type": "markdown",
   "metadata": {},
   "source": [
    "Instructions"
   ]
  },
  {
   "cell_type": "markdown",
   "metadata": {},
   "source": [
    "Make a function that takes city and loans as input and returns the average debt per borrower in default (principal_outstanding_240 / borrower_default_count_240) in that city (city column).\n",
    "\n",
    "Then, use it to compute the average debt per borrower in New York. Assign the result to average_debt.\n",
    "\n",
    "The city should still be Boston in the global scope at the end."
   ]
  },
  {
   "cell_type": "code",
   "execution_count": 5,
   "metadata": {
    "collapsed": false
   },
   "outputs": [
    {
     "name": "stdout",
     "output_type": "stream",
     "text": [
      "state: MA\n",
      "average_debt: 2399.9490449470045\n"
     ]
    }
   ],
   "source": [
    "state = \"MA\"\n",
    "def loan_defaults_by_state(state, loans):\n",
    "    selected_data = loans[loans[\"state\"] == state]\n",
    "    return selected_data[\"borrower_default_count_240\"].sum()\n",
    "wa_defaults = loan_defaults_by_state(\"WA\", loans)\n",
    "\n",
    "# state still contains the value from our global scope, even though we assigned \"WA\" to it in the local scope of the function.\n",
    "print(\"state:\", state)\n",
    "\n",
    "city = \"Boston\"\n",
    "def loan_principal_average(city, loans):\n",
    "    selected_data = loans[loans[\"city\"] == city]\n",
    "    average_debt = float(selected_data[\"principal_outstanding_240\"].sum()) / selected_data[\"borrower_default_count_240\"].sum()\n",
    "    return average_debt\n",
    "\n",
    "average_debt = loan_principal_average(\"New York\", loans)\n",
    "print(\"average_debt:\", average_debt)"
   ]
  },
  {
   "cell_type": "markdown",
   "metadata": {},
   "source": [
    "###4: Global variables"
   ]
  },
  {
   "cell_type": "markdown",
   "metadata": {},
   "source": [
    "Global variables are a way to define variables that are available across all scopes.\n",
    "\n",
    "These are rarely a good solution, and should be used sparingly, but are good to know about.\n",
    "\n",
    "We define global variables with the global keyword."
   ]
  },
  {
   "cell_type": "markdown",
   "metadata": {},
   "source": [
    "####Instructions"
   ]
  },
  {
   "cell_type": "markdown",
   "metadata": {},
   "source": [
    "Make a global variable called b. Assign the value 20 to it."
   ]
  },
  {
   "cell_type": "code",
   "execution_count": 6,
   "metadata": {
    "collapsed": false
   },
   "outputs": [
    {
     "name": "stdout",
     "output_type": "stream",
     "text": [
      "a: 10\n"
     ]
    }
   ],
   "source": [
    "def test_function():\n",
    "    # We define a as a global by using the global keyword\n",
    "    global a\n",
    "    # We can now assign a value to the variable a\n",
    "    a = 10\n",
    "# Running the function executes the code inside and assigns to a\n",
    "test_function()\n",
    "# Because we defined a as a global, even though it was in a local scope, it is now available here\n",
    "print(\"a:\", a)\n",
    "\n",
    "def new_function():\n",
    "    global b\n",
    "    b = 20\n",
    "new_function()"
   ]
  },
  {
   "cell_type": "markdown",
   "metadata": {},
   "source": [
    "###5: Using documentation"
   ]
  },
  {
   "cell_type": "markdown",
   "metadata": {},
   "source": [
    "You might not be surprised to know that most professional coders don't know all of the basic functions of the languages they use. Python has a lot of syntax, functions, and concepts to remember, and its only natural to forget how something works, or not know in the first place.\n",
    "\n",
    "In times like these, documentation can be great. Python has some extensive documentation that you can read through <a href = \"https://docs.python.org/3/\">here</a>. The library reference is <a href = \"https://docs.python.org/3/library/index.html\">here</a>, and tells you have different standard modules and functions work. For example, <a href = \"https://docs.python.org/3/library/stdtypes.html#text-sequence-type-str\">here's</a> the page on strings."
   ]
  },
  {
   "cell_type": "markdown",
   "metadata": {},
   "source": [
    "Instructions"
   ]
  },
  {
   "cell_type": "markdown",
   "metadata": {},
   "source": [
    "Count the number of times \"University\" appears in the all_school_names string. Assign the result to university_count.\n",
    "\n",
    "Count the number of times \"College\" appears in all_school_names. Assign the result to college_count.\n",
    "\n",
    "There's a method on strings that you can use to do this. Look at the string <a href = \"https://docs.python.org/3/library/stdtypes.html#text-sequence-type-str\">documentation</a> to find it."
   ]
  },
  {
   "cell_type": "code",
   "execution_count": 7,
   "metadata": {
    "collapsed": false
   },
   "outputs": [],
   "source": [
    "# The loans data is loaded into the loans variable.\n",
    "all_school_names = \" \".join(loans[\"institution\"])\n",
    "university_count = all_school_names.count(\"University\")\n",
    "college_count = all_school_names.count(\"College\")"
   ]
  },
  {
   "cell_type": "markdown",
   "metadata": {},
   "source": [
    "###6: Library documentation"
   ]
  },
  {
   "cell_type": "markdown",
   "metadata": {},
   "source": [
    "Most python libraries also have good documentation. You can usually find these by googling the name of the library, and looking for a documentation link. For example, pandas has some documentation that can be found <a href = \"http://pandas.pydata.org/pandas-docs/stable/\">here</a>. You can find descriptions of each of the methods <a href = \"http://pandas.pydata.org/pandas-docs/stable/api.html\">here</a>.\n",
    "\n",
    "For example, <a href = \"http://pandas.pydata.org/pandas-docs/stable/api.html#id3\">here</a> is the link to documentation on dataframe indexing."
   ]
  },
  {
   "cell_type": "markdown",
   "metadata": {},
   "source": [
    "Instructions"
   ]
  },
  {
   "cell_type": "markdown",
   "metadata": {},
   "source": [
    "Get the first 5 rows of the loans dataframe. Assign the result to loans_first_5.\n",
    "\n",
    "There's a method on dataframes that lets us do this. It's in <a href = \"http://pandas.pydata.org/pandas-docs/stable/api.html#id3\">this</a> documentation section."
   ]
  },
  {
   "cell_type": "code",
   "execution_count": 8,
   "metadata": {
    "collapsed": false
   },
   "outputs": [],
   "source": [
    "# The loans data is loaded into the loans variable.\n",
    "loans_first_5 = loans.head(5)"
   ]
  },
  {
   "cell_type": "markdown",
   "metadata": {},
   "source": [
    "###7: Getting more help"
   ]
  },
  {
   "cell_type": "markdown",
   "metadata": {},
   "source": [
    "Sometimes, even the best documentation can't help you with a specific error you're having. It's times like these that question and answer sites can be a big help. The most popular site for programmers is <a href = \"http://stackoverflow.com/\">StackOverflow</a>. It has a huge database of questions and answers, and a large community.\n",
    "\n",
    "In stackoverflow, the top of the page has the question, and responses are below it. The community can upvote and downvote responses, and the answer that the asker accepted has a checkmark next to it. <a href = \"http://stackoverflow.com/questions/509211/explain-pythons-slice-notation\">Here's</a> an example question.\n",
    "\n",
    "Searching on stackoverflow or google for the error you're seeing can usually help you solve the problem."
   ]
  },
  {
   "cell_type": "markdown",
   "metadata": {},
   "source": [
    "####Instructions"
   ]
  },
  {
   "cell_type": "markdown",
   "metadata": {},
   "source": [
    "The above code causes an error when trying to assign to loyola_defaults. <a href = \"http://stackoverflow.com/questions/23944657/typeerror-method-takes-1-positional-argument-but-2-were-given\">This</a> stackoverflow link explains a little more about what the error is and how to fix it.\n",
    "\n",
    "Fix the code above so that the correct value for the borrower_default_count_240 column in the row for Loyola Marymount University is assigned to loyola_defaults."
   ]
  },
  {
   "cell_type": "code",
   "execution_count": 9,
   "metadata": {
    "collapsed": false
   },
   "outputs": [
    {
     "name": "stdout",
     "output_type": "stream",
     "text": [
      "loyola_defaults: 312\n"
     ]
    }
   ],
   "source": [
    "class University():\n",
    "    def __init__(self, name):\n",
    "        self.data = loans[loans[\"institution\"] == name].iloc[0,:]\n",
    "\n",
    "    def get_defaults(self):\n",
    "        return self.data[\"borrower_default_count_240\"]\n",
    "\n",
    "loyola = University(\"Loyola Marymount University\")\n",
    "loyola_defaults = loyola.get_defaults()\n",
    "print(\"loyola_defaults:\", loyola_defaults)"
   ]
  }
 ],
 "metadata": {
  "kernelspec": {
   "display_name": "Python 3",
   "language": "python",
   "name": "python3"
  },
  "language_info": {
   "codemirror_mode": {
    "name": "ipython",
    "version": 3
   },
   "file_extension": ".py",
   "mimetype": "text/x-python",
   "name": "python",
   "nbconvert_exporter": "python",
   "pygments_lexer": "ipython3",
   "version": "3.4.3"
  }
 },
 "nbformat": 4,
 "nbformat_minor": 0
}
