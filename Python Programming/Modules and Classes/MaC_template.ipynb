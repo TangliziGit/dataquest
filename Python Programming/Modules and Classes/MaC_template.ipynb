{
 "cells": [
  {
   "cell_type": "code",
   "execution_count": 1,
   "metadata": {
    "collapsed": true
   },
   "outputs": [],
   "source": [
    "from __future__ import print_function"
   ]
  },
  {
   "cell_type": "markdown",
   "metadata": {},
   "source": [
    "#Python Programming"
   ]
  },
  {
   "cell_type": "markdown",
   "metadata": {},
   "source": [
    "##Modules and Classes"
   ]
  },
  {
   "cell_type": "markdown",
   "metadata": {},
   "source": [
    "###1: Importing and using modules"
   ]
  },
  {
   "cell_type": "markdown",
   "metadata": {
    "collapsed": true
   },
   "source": [
    "A module is a piece of code that someone else has already written.\n",
    "\n",
    "We can use modules to do common tasks -- they save us from having to write the code ourselves.\n",
    "\n",
    "To get access to a module, we have to use the import statement to import it.\n",
    "\n",
    "Once we import it, we can access the functions in a module using dot notation."
   ]
  },
  {
   "cell_type": "markdown",
   "metadata": {},
   "source": [
    "####Instructions"
   ]
  },
  {
   "cell_type": "markdown",
   "metadata": {},
   "source": [
    "Assign the square root of 16 to a.\n",
    "\n",
    "Assign the ceiling of 111.3 to b.\n",
    "\n",
    "Assign the floor of 89.9 to c."
   ]
  },
  {
   "cell_type": "code",
   "execution_count": 2,
   "metadata": {
    "collapsed": false
   },
   "outputs": [
    {
     "name": "stdout",
     "output_type": "stream",
     "text": [
      "math.sqrt(9): 3.0\n",
      "math.ceil(8.1): 9\n",
      "math.floor(11.9): 11\n",
      "a: 4.0\n",
      "b: 112\n",
      "c: 89\n"
     ]
    }
   ],
   "source": [
    "import math\n",
    "\n",
    "# The sqrt function in the math module will take the square root of a number.\n",
    "print(\"math.sqrt(9):\", math.sqrt(9))\n",
    "\n",
    "# The ceil function will round a number up.\n",
    "print(\"math.ceil(8.1):\", math.ceil(8.1))\n",
    "\n",
    "# And the floor function will round a number down.\n",
    "print(\"math.floor(11.9):\", math.floor(11.9))\n",
    "\n",
    "a = math.sqrt(16)\n",
    "print(\"a:\", a)\n",
    "\n",
    "b = math.ceil(111.3)\n",
    "print(\"b:\", b)\n",
    "\n",
    "c = math.floor(89.9)\n",
    "print(\"c:\", c)"
   ]
  },
  {
   "cell_type": "markdown",
   "metadata": {},
   "source": [
    "###2: More about modules"
   ]
  },
  {
   "cell_type": "markdown",
   "metadata": {},
   "source": [
    "We can also access other properties in modules.\n",
    "\n",
    "Some modules have variables defined inside them.\n",
    "\n",
    "Just like with functions, we can access them with the dot notation.\n",
    "\n",
    "Imagine a module as a street, with houses on that street being functions and variables.\n",
    "\n",
    "If you wanted to tell someone how to get to a house, you would first tell them how to get to the street.\n",
    "\n",
    "Then you would tell them to turn onto the street and stop at the house.\n",
    "\n",
    "Python is the same way -- it has to know how to get to a a function or variable before it can find it.\n",
    "\n",
    "If the function or variable is inside a module, Python needs directions to be told about the module first."
   ]
  },
  {
   "cell_type": "markdown",
   "metadata": {},
   "source": [
    "####Instructions"
   ]
  },
  {
   "cell_type": "markdown",
   "metadata": {},
   "source": [
    "Assign the square root of pi to a.\n",
    "\n",
    "Assign the ceiling of pi to b.\n",
    "\n",
    "Assign the floor of pi to c."
   ]
  },
  {
   "cell_type": "code",
   "execution_count": 3,
   "metadata": {
    "collapsed": false
   },
   "outputs": [
    {
     "name": "stdout",
     "output_type": "stream",
     "text": [
      "math.pi * 2: 6.283185307179586\n",
      "a: 1.7724538509055159\n",
      "b: 4\n",
      "c: 3\n"
     ]
    }
   ],
   "source": [
    "import math\n",
    "\n",
    "# Multiply pi by 2.\n",
    "print(\"math.pi * 2:\", math.pi * 2)\n",
    "\n",
    "a = math.sqrt(math.pi)\n",
    "print(\"a:\", a)\n",
    "\n",
    "b = math.ceil(math.pi)\n",
    "print(\"b:\", b)\n",
    "\n",
    "c = math.floor(math.pi)\n",
    "print(\"c:\", c)"
   ]
  },
  {
   "cell_type": "markdown",
   "metadata": {},
   "source": [
    "###3: An easier way to read in csv files!"
   ]
  },
  {
   "cell_type": "markdown",
   "metadata": {},
   "source": [
    "You may be happy to know that there is a much easier way to load csv files : the csv module!"
   ]
  },
  {
   "cell_type": "markdown",
   "metadata": {},
   "source": [
    "####Instructions"
   ]
  },
  {
   "cell_type": "markdown",
   "metadata": {},
   "source": [
    "Read in all of the data from \"nfl.csv\" into a List variable named nfl using the csv module."
   ]
  },
  {
   "cell_type": "code",
   "execution_count": 4,
   "metadata": {
    "collapsed": false
   },
   "outputs": [
    {
     "name": "stdout",
     "output_type": "stream",
     "text": [
      "nfl[:5]: [['2009', '1', 'Pittsburgh Steelers', 'Tennessee Titans'], ['2009', '1', 'Minnesota Vikings', 'Cleveland Browns'], ['2009', '1', 'New York Giants', 'Washington Redskins'], ['2009', '1', 'San Francisco 49ers', 'Arizona Cardinals'], ['2009', '1', 'Seattle Seahawks', 'St. Louis Rams']]\n"
     ]
    }
   ],
   "source": [
    "import csv\n",
    "\n",
    "f = open(\"data/nfl.csv\", \"r\")\n",
    "csvreader = csv.reader(f)\n",
    "nfl = list(csvreader)\n",
    "\n",
    "print(\"nfl[:5]:\", nfl[:5])"
   ]
  },
  {
   "cell_type": "markdown",
   "metadata": {},
   "source": [
    "###4: Counting how many times a team won"
   ]
  },
  {
   "cell_type": "markdown",
   "metadata": {},
   "source": [
    "Now that we can load in the .csv file, let's count up the wins for a team.\n",
    "\n",
    "Each row is the result of a single game.\n",
    "\n",
    "The first column is the year, the second column is the week (The NFL regular season is 17 weeks, and games are played each week), the third column is the winning team, and the last column is the losing team."
   ]
  },
  {
   "cell_type": "markdown",
   "metadata": {},
   "source": [
    "####Instructions"
   ]
  },
  {
   "cell_type": "markdown",
   "metadata": {},
   "source": [
    "Loop through the nfl data.\n",
    "\n",
    "Count up how many games the \"New England Patriots\" won from 2009-2013.\n",
    "\n",
    "Assign the count to patriots_wins. The count should be an integer."
   ]
  },
  {
   "cell_type": "code",
   "execution_count": 5,
   "metadata": {
    "collapsed": false
   },
   "outputs": [],
   "source": [
    "# The nfl data is loaded into the nfl variable.\n",
    "patriots_wins = 0\n",
    "for row in nfl:\n",
    "    if row[2] == \"New England Patriots\":\n",
    "        patriots_wins += 1"
   ]
  },
  {
   "cell_type": "markdown",
   "metadata": {},
   "source": [
    "###5: Making a function to count wins"
   ]
  },
  {
   "cell_type": "markdown",
   "metadata": {},
   "source": [
    "Great, we can count up the wins for a single team.\n",
    "\n",
    "Now let's make a function to count wins for any team we want."
   ]
  },
  {
   "cell_type": "markdown",
   "metadata": {},
   "source": [
    "####Instructions"
   ]
  },
  {
   "cell_type": "markdown",
   "metadata": {},
   "source": [
    "Write a function called nfl_wins that will take a team name, in the form of a string, as input.\n",
    "\n",
    "The function should output the number of wins the team had from 2009-2013, as an integer.\n",
    "\n",
    "Use the function to assign the number of wins by the \"Dallas Cowboys\" to cowboys_wins.\n",
    "\n",
    "Use the function to assign the number of wins by the \"Atlanta Falcons\" to falcons_wins."
   ]
  },
  {
   "cell_type": "code",
   "execution_count": 6,
   "metadata": {
    "collapsed": false
   },
   "outputs": [
    {
     "name": "stdout",
     "output_type": "stream",
     "text": [
      "cowboys_wins: 41\n",
      "falcons_wins: 49\n"
     ]
    }
   ],
   "source": [
    "# The nfl data is loaded into the nfl variable.\n",
    "def nfl_wins(team):\n",
    "    count = 0\n",
    "    for row in nfl:\n",
    "        if row[2] == team:\n",
    "            count = count + 1\n",
    "    return count\n",
    "\n",
    "cowboys_wins = nfl_wins(\"Dallas Cowboys\")\n",
    "print(\"cowboys_wins:\", cowboys_wins)\n",
    "\n",
    "falcons_wins = nfl_wins(\"Atlanta Falcons\")\n",
    "print(\"falcons_wins:\", falcons_wins)"
   ]
  },
  {
   "cell_type": "markdown",
   "metadata": {},
   "source": [
    "###6: Using boolean statements with the and keyword"
   ]
  },
  {
   "cell_type": "markdown",
   "metadata": {},
   "source": [
    "We can use the and keyword in a boolean to check if multiple conditions are True.\n",
    "\n",
    "    a = 5\n",
    "    b = 10\n",
    "    a == 5 and b == 10\n",
    "\n",
    "will evaluate to True.\n",
    "\n",
    "But\n",
    "\n",
    "    a = 5\n",
    "    b = 10\n",
    "    a == 5 and b == 11\n",
    "\n",
    "will evaluate to False. and statements only evaluate to True if all of their elements evaluate to True individually."
   ]
  },
  {
   "cell_type": "markdown",
   "metadata": {},
   "source": [
    "####Instructions"
   ]
  },
  {
   "cell_type": "markdown",
   "metadata": {},
   "source": [
    "Assign a boolean that uses the and keyword and evaluates to True to a.\n",
    "\n",
    "Assign a boolean that uses the and keyword and evaluates to False to b."
   ]
  },
  {
   "cell_type": "code",
   "execution_count": 7,
   "metadata": {
    "collapsed": false
   },
   "outputs": [
    {
     "name": "stdout",
     "output_type": "stream",
     "text": [
      "logic1: False\n",
      "logic2: True\n"
     ]
    }
   ],
   "source": [
    "its_raining = \"Yes\"\n",
    "its_snowing = \"No\"\n",
    "\n",
    "# Each statement is evaluated separately.\n",
    "# If either of them is False on its own, then the whole statement is False.\n",
    "logic1 = its_raining == \"Yes\" and its_snowing == \"Yes\"\n",
    "print(\"logic1:\", logic1)\n",
    "\n",
    "# If both evaluate to True, then the whole statement is True.\n",
    "logic2 = its_raining == \"Yes\" and its_snowing == \"No\"\n",
    "print(\"logic2:\", logic2)\n",
    "\n",
    "c = 10\n",
    "d = 50\n",
    "a = c == 10 and d == 50\n",
    "b = c == 11 and d == 50"
   ]
  },
  {
   "cell_type": "markdown",
   "metadata": {},
   "source": [
    "###7: Using boolean statements with the or keyword"
   ]
  },
  {
   "cell_type": "markdown",
   "metadata": {},
   "source": [
    "We can use the or keyword in a boolean to check if any condition is True.\n",
    "\n",
    "    a = 5\n",
    "    b = 10\n",
    "    a == 5 or b == 5\n",
    "\n",
    "will evaluate to True because a == 5.\n",
    "\n",
    "But\n",
    "\n",
    "    a = 5\n",
    "    b = 10\n",
    "    a == 6 or b == 11\n",
    "\n",
    "will evaluate to False because both statements are False. or statements evaluate to True if any of their elements evaluate to True individually."
   ]
  },
  {
   "cell_type": "markdown",
   "metadata": {},
   "source": [
    "####Instructions"
   ]
  },
  {
   "cell_type": "markdown",
   "metadata": {},
   "source": [
    "Assign a boolean that uses the or keyword and evaluates to True to a.\n",
    "\n",
    "Assign a boolean that uses the or keyword and evaluates to False to b."
   ]
  },
  {
   "cell_type": "code",
   "execution_count": 8,
   "metadata": {
    "collapsed": false
   },
   "outputs": [
    {
     "name": "stdout",
     "output_type": "stream",
     "text": [
      "logic1: True\n",
      "logic2: False\n"
     ]
    }
   ],
   "source": [
    "current_president = \"Barack Obama\"\n",
    "\n",
    "# Each statement is evaluated separately.\n",
    "# If either of them is True on its own, then the statement is True.\n",
    "logic1 = current_president == \"Barack Obama\" or current_president == \"George Bush\"\n",
    "print(\"logic1:\", logic1)\n",
    "\n",
    "# If all of the statements evaluate to False, then the statement is False.\n",
    "logic2 = current_president == \"Eminem\" or current_president == \"Kanye West\"\n",
    "print(\"logic2:\", logic2)\n",
    "\n",
    "c = 10\n",
    "d = 50\n",
    "a = c == 10 or d == 50\n",
    "b = c == 11 or d == 55"
   ]
  },
  {
   "cell_type": "markdown",
   "metadata": {},
   "source": [
    "###8: Counting wins in a given year"
   ]
  },
  {
   "cell_type": "markdown",
   "metadata": {},
   "source": [
    "Let's make a function to count up the wins for a team for a single year."
   ]
  },
  {
   "cell_type": "markdown",
   "metadata": {},
   "source": [
    "####Instructions"
   ]
  },
  {
   "cell_type": "markdown",
   "metadata": {},
   "source": [
    "Modify the nfl_wins function so it will take a team name, in the form of a string, and a year, in the form of an string, as input.\n",
    "\n",
    "The only valid years are \"2009\", \"2010\", \"2011\", \"2012\", and \"2013\".\n",
    "\n",
    "Remember that the years are stored as strings in the data, so we also have to use strings for consistency.\n",
    "\n",
    "The function should output the number of wins the team had in the given year, as an integer.\n",
    "\n",
    "Use the function to assign the number of wins by the \"Cleveland Browns\" in 2010 to browns_2010_wins.\n",
    "\n",
    "Use the function to assign the number of wins by the \"Philadelphia Eagles\" in 2011 to eagles_2011_wins."
   ]
  },
  {
   "cell_type": "code",
   "execution_count": 9,
   "metadata": {
    "collapsed": false
   },
   "outputs": [
    {
     "name": "stdout",
     "output_type": "stream",
     "text": [
      "browns_2010_wins: 5\n",
      "eagles_2011_wins: 8\n"
     ]
    }
   ],
   "source": [
    "# Modify this function to also take a year as input, and returns the wins by the team in the year.\n",
    "def nfl_wins(team):\n",
    "    count = 0\n",
    "    for row in nfl:\n",
    "        # We need to ensure that we only increment the count when the row pertains to the year we want.\n",
    "        if row[2] == team:\n",
    "            count = count + 1\n",
    "    return count\n",
    "\n",
    "def nfl_wins_in_a_year(team, year):\n",
    "    count = 0\n",
    "    for row in nfl:\n",
    "        if row[2] == team and row[0] == year:\n",
    "            count = count + 1\n",
    "    return count\n",
    "\n",
    "browns_2010_wins = nfl_wins_in_a_year(\"Cleveland Browns\", \"2010\")\n",
    "print(\"browns_2010_wins:\", browns_2010_wins)\n",
    "\n",
    "eagles_2011_wins = nfl_wins_in_a_year(\"Philadelphia Eagles\", \"2011\")\n",
    "print(\"eagles_2011_wins:\", eagles_2011_wins)"
   ]
  },
  {
   "cell_type": "markdown",
   "metadata": {},
   "source": [
    "###9: Counting wins by year"
   ]
  },
  {
   "cell_type": "markdown",
   "metadata": {},
   "source": [
    "Now that we can count wins for a single team in a given year, we can make a function that counts up wins for a team by year.\n",
    "\n",
    "We'll use the function we worked with earlier to count wins by a team in a given year."
   ]
  },
  {
   "cell_type": "markdown",
   "metadata": {},
   "source": [
    "####Instructions"
   ]
  },
  {
   "cell_type": "markdown",
   "metadata": {},
   "source": [
    "Make a new function that calls on the nfl_wins_by_year function to compute wins for each year from 2009 - 2013.\n",
    "\n",
    "Valid years are \"2009\", \"2010\", \"2011\", \"2012\", and \"2013\".\n",
    "\n",
    "The function should return a dictionary with the years as keys, and the number of wins in each year as values.\n",
    "\n",
    "Use the function to assign the number of wins by year by the \"Miami Dolphins\" to dolphins_wins_by_year.\n",
    "\n",
    "Use the function to assign the number of wins by year by the \"San Diego Chargers\" to chargers_wins_by_year."
   ]
  },
  {
   "cell_type": "code",
   "execution_count": 10,
   "metadata": {
    "collapsed": false
   },
   "outputs": [
    {
     "name": "stdout",
     "output_type": "stream",
     "text": [
      "dolphins_wins_by_year: {'2009': 7, '2011': 6, '2013': 8, '2010': 7, '2012': 7}\n",
      "chargers_wins_by_year: {'2009': 13, '2011': 8, '2013': 10, '2010': 9, '2012': 7}\n"
     ]
    }
   ],
   "source": [
    "# We'll need to create a new function to returns wins for each year.\n",
    "# It will call nfl_wins_by_year as part of its computations.\n",
    "def nfl_wins_in_a_year(team, year):\n",
    "    count = 0\n",
    "    for row in nfl:\n",
    "        if row[2] == team and row[0] == year:\n",
    "            count = count + 1\n",
    "    return count\n",
    "\n",
    "def nfl_wins_by_year(team):\n",
    "    win_dict = {}\n",
    "    for year in [\"2009\", \"2010\", \"2011\", \"2012\", \"2013\"]:\n",
    "        win_dict[year] = nfl_wins_in_a_year(team, year)\n",
    "    return win_dict\n",
    "\n",
    "dolphins_wins_by_year = nfl_wins_by_year(\"Miami Dolphins\")\n",
    "print(\"dolphins_wins_by_year:\", dolphins_wins_by_year)\n",
    "\n",
    "chargers_wins_by_year = nfl_wins_by_year(\"San Diego Chargers\")\n",
    "print(\"chargers_wins_by_year:\", chargers_wins_by_year)"
   ]
  },
  {
   "cell_type": "markdown",
   "metadata": {},
   "source": [
    "###10: Intro to classes"
   ]
  },
  {
   "cell_type": "markdown",
   "metadata": {},
   "source": [
    "Classes are a way to organize and structure code.\n",
    "\n",
    "We've already been using classes, they just haven't been presented as such.\n",
    "\n",
    "Strings in python are classes, and we can access class methods on them, such as .lower().\n",
    "\n",
    "Let's define a simple class."
   ]
  },
  {
   "cell_type": "markdown",
   "metadata": {},
   "source": [
    "####Instructions"
   ]
  },
  {
   "cell_type": "markdown",
   "metadata": {},
   "source": [
    "Make a class called Team.\n",
    "\n",
    "Give it a class property called name, with the value \"Tampa Bay Buccaneers\".\n",
    "\n",
    "Make an instance of the class, and assign it to the variable bucs."
   ]
  },
  {
   "cell_type": "code",
   "execution_count": 11,
   "metadata": {
    "collapsed": false
   },
   "outputs": [
    {
     "name": "stdout",
     "output_type": "stream",
     "text": [
      "steelers.name: Pittsburgh Steelers\n",
      "NFLTeam.name: Pittsburgh Steelers\n",
      "bucs.name: Tampa Bay Buccaneers\n"
     ]
    }
   ],
   "source": [
    "# Classes are defined with the class keyword.\n",
    "# The parentheses are used to denote which class this class inherits from.\n",
    "class NFLTeam():\n",
    "    # Classes can have class properties.\n",
    "    # These properties can then be accessed later on.\n",
    "    # Properties are just variables that are contained in a class.\n",
    "    name = \"Pittsburgh Steelers\"\n",
    "\n",
    "# After we define a class, we create an instance of it.\n",
    "steelers = NFLTeam()\n",
    "\n",
    "# We can access the class property.\n",
    "print(\"steelers.name:\", steelers.name)\n",
    "\n",
    "# The steelers variable is called an instance of the class.\n",
    "# NFLTeam is the class.\n",
    "# Because name is a class property, not an instance property, we can also access it directly.\n",
    "print(\"NFLTeam.name:\", NFLTeam.name)\n",
    "\n",
    "class Team():\n",
    "    name = \"Tampa Bay Buccaneers\"\n",
    "\n",
    "bucs = Team()\n",
    "print(\"bucs.name:\", bucs.name)"
   ]
  },
  {
   "cell_type": "markdown",
   "metadata": {},
   "source": [
    "###11: Initializing a class"
   ]
  },
  {
   "cell_type": "markdown",
   "metadata": {},
   "source": [
    "When we instantiate a class (create an instance of it), we have a chance to run a special function.\n",
    "\n",
    "It's called the __init__ function, and it runs every time a class is instantiated.\n",
    "\n",
    "We define functions inside our classes by indenting 4 spaces and then using the def keyword."
   ]
  },
  {
   "cell_type": "markdown",
   "metadata": {},
   "source": [
    "####Instructions"
   ]
  },
  {
   "cell_type": "markdown",
   "metadata": {},
   "source": [
    "Modify the Team class so that name is an instance property.\n",
    "\n",
    "Make an instance of the class, passing in the value \"Tampa Bay Buccaneers\" to the __init__ function.\n",
    "\n",
    "Assign the instance to the variable bucs."
   ]
  },
  {
   "cell_type": "code",
   "execution_count": 12,
   "metadata": {
    "collapsed": false
   },
   "outputs": [
    {
     "name": "stdout",
     "output_type": "stream",
     "text": [
      "accord.car: Honda Accord\n",
      "bucs.name: Tampa Bay Buccaneers\n"
     ]
    }
   ],
   "source": [
    "class Car():\n",
    "    # The special __init__ function is run whenever a class is instantiated.\n",
    "    # The init function can take arguments, but self is always the first one.\n",
    "    # Self is a reference to the instance of the class.\n",
    "    def __init__(self, car):\n",
    "        # Using self before car means that car is an instance property.\n",
    "        self.car = car\n",
    "\n",
    "# When we instantiate the class, we pass in any arguments that the __init__ function needs.\n",
    "# We skip the self argument.\n",
    "accord = Car(\"Honda Accord\")\n",
    "\n",
    "# We set self.car in the __init__ function, but can print accord.car here.\n",
    "# self is a reference to the instance of the class.\n",
    "# It lets us interact with the class instance within the class.\n",
    "print(\"accord.car:\", accord.car)\n",
    "\n",
    "# Instance properties are only available to instances, not to the classes.\n",
    "# We couldn't print Car.car, for example.\n",
    "\n",
    "class Team():\n",
    "    def __init__(self, name):\n",
    "        self.name = name\n",
    "\n",
    "bucs = Team(\"Tampa Bay Buccaneers\")\n",
    "print(\"bucs.name:\", bucs.name)"
   ]
  },
  {
   "cell_type": "markdown",
   "metadata": {},
   "source": [
    "###12: Instance methods"
   ]
  },
  {
   "cell_type": "markdown",
   "metadata": {},
   "source": [
    "Classes can have methods. Once example is the .lower() method that turns a string into a lowercase version.\n",
    "\n",
    "Methods are just functions that are contained within a class.\n",
    "\n",
    "Here's an example of a method:\n",
    "\n",
    "    class Car():\n",
    "        def __init__(self, miles_per_gallon):\n",
    "            self.mpg = miles_per_gallon\n",
    "\n",
    "        def get_gas_cost(self, miles):\n",
    "            total_gas = self.mpg * miles\n",
    "            return total_gas * 3.00"
   ]
  },
  {
   "cell_type": "markdown",
   "metadata": {},
   "source": [
    "####Instructions"
   ]
  },
  {
   "cell_type": "markdown",
   "metadata": {},
   "source": [
    "Add a method called count_total_wins to the Team class.\n",
    "\n",
    "The method should take no arguments (except self), and should return the number of games the team won from 2009-2013.\n",
    "\n",
    "Use the instance method to assign the number of wins by the \"Denver Broncos\" to broncos_wins.\n",
    "\n",
    "Use the instance method to assign the number of wins by the \"Kansas City Chiefs\" to chiefs_wins."
   ]
  },
  {
   "cell_type": "code",
   "execution_count": 13,
   "metadata": {
    "collapsed": false
   },
   "outputs": [
    {
     "name": "stdout",
     "output_type": "stream",
     "text": [
      "san_diego_zoo.animals: []\n",
      "san_diego_zoo.animals: ['panda']\n",
      "san_diego_zoo.animals: ['panda', 'orca']\n",
      "broncos.name: Denver Broncos\n",
      "broncos_wins: 47\n",
      "chiefs.name: Kansas City Chiefs\n",
      "chiefs_wins: 34\n"
     ]
    }
   ],
   "source": [
    "class Zoo():\n",
    "    def __init__(self):\n",
    "        self.animals = []\n",
    "\n",
    "    # This is an instance method.\n",
    "    # It can be invoked on any instance of this class.\n",
    "    # Note that because it is an instance method, we still need to put in the self argument.\n",
    "    def add_animal(self, animal):\n",
    "        # This will add the animal to the list of animals that the instance is storing.\n",
    "        self.animals.append(animal)\n",
    "\n",
    "# We start with no animals.\n",
    "san_diego_zoo = Zoo()\n",
    "print(\"san_diego_zoo.animals:\", san_diego_zoo.animals)\n",
    "\n",
    "# Then we get a panda!\n",
    "san_diego_zoo.add_animal(\"panda\")\n",
    "print(\"san_diego_zoo.animals:\", san_diego_zoo.animals)\n",
    "\n",
    "# The we get an orca!\n",
    "san_diego_zoo.add_animal(\"orca\")\n",
    "print(\"san_diego_zoo.animals:\", san_diego_zoo.animals)\n",
    "\n",
    "# The nfl data is loaded into the nfl variable.\n",
    "class Team():\n",
    "    def __init__(self, name):\n",
    "        self.name = name\n",
    "\n",
    "    def count_total_wins(self):\n",
    "        count = 0\n",
    "        for row in nfl:\n",
    "            if row[2] == self.name:\n",
    "                count = count + 1\n",
    "        return count\n",
    "\n",
    "broncos = Team(\"Denver Broncos\")\n",
    "broncos_wins = broncos.count_total_wins()\n",
    "print(\"broncos.name:\", broncos.name)\n",
    "print(\"broncos_wins:\", broncos_wins)\n",
    "\n",
    "chiefs = Team(\"Kansas City Chiefs\")\n",
    "chiefs_wins = chiefs.count_total_wins()\n",
    "print(\"chiefs.name:\", chiefs.name)\n",
    "print(\"chiefs_wins:\", chiefs_wins)"
   ]
  },
  {
   "cell_type": "markdown",
   "metadata": {},
   "source": [
    "###13: Adding to the init function"
   ]
  },
  {
   "cell_type": "markdown",
   "metadata": {},
   "source": [
    "We read in the nfl data to the nfl variable automatically before, but we've removed it for this code cell."
   ]
  },
  {
   "cell_type": "markdown",
   "metadata": {},
   "source": [
    "####Instructions"
   ]
  },
  {
   "cell_type": "markdown",
   "metadata": {},
   "source": [
    "Add in code to read the csv nfl data to the __init__ method.\n",
    "\n",
    "Store the nfl data in the self.nfl instance property.\n",
    "\n",
    "Then convert the count_total_wins function to use the self.nfl property.\n",
    "\n",
    "Use the instance method to assign the number of wins by the \"Jacksonville Jaguars\" to jaguars_wins."
   ]
  },
  {
   "cell_type": "code",
   "execution_count": 14,
   "metadata": {
    "collapsed": false
   },
   "outputs": [
    {
     "name": "stdout",
     "output_type": "stream",
     "text": [
      "jaguars_wins: 26\n"
     ]
    }
   ],
   "source": [
    "import csv\n",
    "   \n",
    "class Team():\n",
    "    def __init__(self, name):\n",
    "        self.name = name\n",
    "        f = open(\"data/nfl.csv\", \"r\")\n",
    "        csvreader = csv.reader(f)\n",
    "        self.nfl = list(csvreader)\n",
    "\n",
    "    def count_total_wins(self):\n",
    "        count = 0\n",
    "        for row in self.nfl:\n",
    "            if row[2] == self.name:\n",
    "                count = count + 1\n",
    "        return count\n",
    "\n",
    "jaguars = Team(\"Jacksonville Jaguars\")\n",
    "jaguars_wins = jaguars.count_total_wins()\n",
    "\n",
    "print(\"jaguars_wins:\", jaguars_wins)"
   ]
  },
  {
   "cell_type": "markdown",
   "metadata": {},
   "source": [
    "###14: Wins by year method"
   ]
  },
  {
   "cell_type": "markdown",
   "metadata": {},
   "source": [
    "Let's add the wins by year function that we created earlier to our class as a method."
   ]
  },
  {
   "cell_type": "markdown",
   "metadata": {},
   "source": [
    "####Instructions"
   ]
  },
  {
   "cell_type": "markdown",
   "metadata": {},
   "source": [
    "Add a method to the Team class that computes wins by year for the team.\n",
    "\n",
    "The wins_by_year function should return a dictionary with each year from 2009-2013 as keys, and the number of wins in that year as values.\n",
    "\n",
    "Valid years are \"2009\", \"2010\", \"2011\", \"2012\", and \"2013\".\n",
    "\n",
    "Use the instance method to assign the number of wins by year by the \"San Francisco 49ers\" to niners_wins_by_year."
   ]
  },
  {
   "cell_type": "code",
   "execution_count": 15,
   "metadata": {
    "collapsed": false
   },
   "outputs": [
    {
     "name": "stdout",
     "output_type": "stream",
     "text": [
      "niners_wins_by_year: {'2009': 8, '2011': 13, '2013': 14, '2010': 6, '2012': 12}\n"
     ]
    }
   ],
   "source": [
    "import csv\n",
    "\n",
    "class Team():\n",
    "    def __init__(self, name):\n",
    "        self.name = name\n",
    "        f = open(\"data/nfl.csv\", \"r\")\n",
    "        csvreader = csv.reader(f)\n",
    "        self.nfl = list(csvreader)\n",
    "\n",
    "    def count_total_wins(self):\n",
    "        count = 0\n",
    "        for row in self.nfl:\n",
    "            if row[2] == self.name:\n",
    "                count = count + 1\n",
    "        return count\n",
    "\n",
    "    def wins_by_year(self):\n",
    "        years = [\"2009\", \"2010\", \"2011\", \"2012\", \"2013\"]\n",
    "        wins = {}\n",
    "        for year in years:\n",
    "            count = 0\n",
    "            for row in self.nfl:\n",
    "                if row[2] == self.name and row[0] == year:\n",
    "                    count += 1\n",
    "            wins[year] = count\n",
    "        return wins\n",
    "\n",
    "niners = Team(\"San Francisco 49ers\")\n",
    "niners_wins_by_year = niners.wins_by_year()\n",
    "\n",
    "print(\"niners_wins_by_year:\", niners_wins_by_year)"
   ]
  }
 ],
 "metadata": {
  "kernelspec": {
   "display_name": "Python 3",
   "language": "python",
   "name": "python3"
  },
  "language_info": {
   "codemirror_mode": {
    "name": "ipython",
    "version": 3
   },
   "file_extension": ".py",
   "mimetype": "text/x-python",
   "name": "python",
   "nbconvert_exporter": "python",
   "pygments_lexer": "ipython3",
   "version": "3.4.3"
  }
 },
 "nbformat": 4,
 "nbformat_minor": 0
}
