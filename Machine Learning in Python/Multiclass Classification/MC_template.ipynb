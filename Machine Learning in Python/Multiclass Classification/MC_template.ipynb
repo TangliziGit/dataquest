{
 "cells": [
  {
   "cell_type": "code",
   "execution_count": 1,
   "metadata": {
    "collapsed": true
   },
   "outputs": [],
   "source": [
    "from __future__ import print_function"
   ]
  },
  {
   "cell_type": "markdown",
   "metadata": {},
   "source": [
    "#Machine Learning in Python"
   ]
  },
  {
   "cell_type": "markdown",
   "metadata": {},
   "source": [
    "##Multiclass Classification"
   ]
  },
  {
   "cell_type": "markdown",
   "metadata": {},
   "source": [
    "###1: Introduction to the Auto Dataset"
   ]
  },
  {
   "cell_type": "markdown",
   "metadata": {},
   "source": [
    "The dataset we will be working with contains information regarding various cars. For each car we have information about the technical aspects of the vehicle such as the motor's displacement, the weight of the car, the miles per gallon, and how fast the car accelerates. Using this information we will predict the origin of the vehicle, either North America, Europe, or Asia. We can see, that unlike our previous classification datasets, we have three categories to choose from, making our task slightly more challenging.\n",
    "\n",
    "In this particular dataset the columns are not contained within the file so we will need to explicitly name them. Fortunately pandas allows us to specify the column names while reading in the data. Also, the file is not in csv format as we've seen previously, instead each column in seperated by an unknown number of whitespaces. The file looks like:\n",
    "\n",
    "    18.0   8   307.0      130.0      3504.      12.0   70  1    \"chevrolet chevelle malibu\"\n",
    "    15.0   8   350.0      165.0      3693.      11.5   70  1    \"buick skylark 320\"\n",
    "    18.0   8   318.0      150.0      3436.      11.0   70  1    \"plymouth satellite\"\n",
    "\n",
    "Since it is not in csv format we use the more generic function read_table() with parameter delim_whitespaces=True to read the text file into a dataframe.\n",
    "\n",
    "The columns of this table are:\n",
    "\n",
    "- mpg -- Miles per gallon, Continuous.\n",
    "- cylinders -- Number of cylinders in the motor, Integer, Ordinal, and Categorical.\n",
    "- displacement -- Size of the motor, Continuous.\n",
    "- horsepower -- Horsepower produced, Continuous.\n",
    "- weight -- Weights of the car, Continuous.\n",
    "- acceleration -- Acceleration, Continuous.\n",
    "- year -- Year the car was built, Integer and Categorical.\n",
    "- origin -- 1=North America, 2=Europe, 3=Asia. Integer and Categorical\n",
    "- car_name -- Name of the Car, will not be needed in this analysis."
   ]
  },
  {
   "cell_type": "code",
   "execution_count": 2,
   "metadata": {
    "collapsed": false
   },
   "outputs": [
    {
     "data": {
      "text/html": [
       "<div>\n",
       "<table border=\"1\" class=\"dataframe\">\n",
       "  <thead>\n",
       "    <tr style=\"text-align: right;\">\n",
       "      <th></th>\n",
       "      <th>mpg</th>\n",
       "      <th>cylinders</th>\n",
       "      <th>displacement</th>\n",
       "      <th>horsepower</th>\n",
       "      <th>weight</th>\n",
       "      <th>acceleration</th>\n",
       "      <th>year</th>\n",
       "      <th>origin</th>\n",
       "      <th>car_name</th>\n",
       "    </tr>\n",
       "  </thead>\n",
       "  <tbody>\n",
       "    <tr>\n",
       "      <th>0</th>\n",
       "      <td>18</td>\n",
       "      <td>8</td>\n",
       "      <td>307</td>\n",
       "      <td>130.0</td>\n",
       "      <td>3504</td>\n",
       "      <td>12.0</td>\n",
       "      <td>70</td>\n",
       "      <td>1</td>\n",
       "      <td>chevrolet chevelle malibu</td>\n",
       "    </tr>\n",
       "    <tr>\n",
       "      <th>1</th>\n",
       "      <td>15</td>\n",
       "      <td>8</td>\n",
       "      <td>350</td>\n",
       "      <td>165.0</td>\n",
       "      <td>3693</td>\n",
       "      <td>11.5</td>\n",
       "      <td>70</td>\n",
       "      <td>1</td>\n",
       "      <td>buick skylark 320</td>\n",
       "    </tr>\n",
       "    <tr>\n",
       "      <th>2</th>\n",
       "      <td>18</td>\n",
       "      <td>8</td>\n",
       "      <td>318</td>\n",
       "      <td>150.0</td>\n",
       "      <td>3436</td>\n",
       "      <td>11.0</td>\n",
       "      <td>70</td>\n",
       "      <td>1</td>\n",
       "      <td>plymouth satellite</td>\n",
       "    </tr>\n",
       "    <tr>\n",
       "      <th>3</th>\n",
       "      <td>16</td>\n",
       "      <td>8</td>\n",
       "      <td>304</td>\n",
       "      <td>150.0</td>\n",
       "      <td>3433</td>\n",
       "      <td>12.0</td>\n",
       "      <td>70</td>\n",
       "      <td>1</td>\n",
       "      <td>amc rebel sst</td>\n",
       "    </tr>\n",
       "    <tr>\n",
       "      <th>4</th>\n",
       "      <td>17</td>\n",
       "      <td>8</td>\n",
       "      <td>302</td>\n",
       "      <td>140.0</td>\n",
       "      <td>3449</td>\n",
       "      <td>10.5</td>\n",
       "      <td>70</td>\n",
       "      <td>1</td>\n",
       "      <td>ford torino</td>\n",
       "    </tr>\n",
       "  </tbody>\n",
       "</table>\n",
       "</div>"
      ],
      "text/plain": [
       "   mpg  cylinders  displacement horsepower  weight  acceleration  year  \\\n",
       "0   18          8           307      130.0    3504          12.0    70   \n",
       "1   15          8           350      165.0    3693          11.5    70   \n",
       "2   18          8           318      150.0    3436          11.0    70   \n",
       "3   16          8           304      150.0    3433          12.0    70   \n",
       "4   17          8           302      140.0    3449          10.5    70   \n",
       "\n",
       "   origin                   car_name  \n",
       "0       1  chevrolet chevelle malibu  \n",
       "1       1          buick skylark 320  \n",
       "2       1         plymouth satellite  \n",
       "3       1              amc rebel sst  \n",
       "4       1                ford torino  "
      ]
     },
     "execution_count": 2,
     "metadata": {},
     "output_type": "execute_result"
    }
   ],
   "source": [
    "import pandas\n",
    "import numpy as np\n",
    "\n",
    "auto_file = \"data/auto.txt\"\n",
    "\n",
    "# Column names, not included in file.\n",
    "names = ['mpg', 'cylinders', 'displacement', 'horsepower', 'weight', 'acceleration', \n",
    "         'year', 'origin', 'car_name']\n",
    "\n",
    "# Delimited by an arbitrary number of whitespaces.\n",
    "auto = pandas.read_table(auto_file, delim_whitespace=True, names=names)\n",
    "auto.head(5)"
   ]
  },
  {
   "cell_type": "markdown",
   "metadata": {},
   "source": [
    "####Instructions"
   ]
  },
  {
   "cell_type": "markdown",
   "metadata": {},
   "source": [
    "The .unique() function provided for pandas dataframes returns an array of the unique elements in a column. Use this function to assign the unique elements in the column origin to unique_regions."
   ]
  },
  {
   "cell_type": "code",
   "execution_count": 3,
   "metadata": {
    "collapsed": false
   },
   "outputs": [
    {
     "name": "stdout",
     "output_type": "stream",
     "text": [
      "unique_regions: [1 3 2]\n"
     ]
    }
   ],
   "source": [
    "unique_regions = auto[\"origin\"].unique()\n",
    "print(\"unique_regions:\", unique_regions)"
   ]
  },
  {
   "cell_type": "markdown",
   "metadata": {
    "collapsed": true
   },
   "source": [
    "###2: Clean Dataset"
   ]
  },
  {
   "cell_type": "markdown",
   "metadata": {},
   "source": [
    "The dataset auto has both an unneeded column and missing values. The column car_name does not provide any information that can help us with our analysis so we want to delete that one. Also, the column horsepower has a few missing values, marked with a '?', so we will omit those vehicles."
   ]
  },
  {
   "cell_type": "markdown",
   "metadata": {},
   "source": [
    "####Instructions"
   ]
  },
  {
   "cell_type": "markdown",
   "metadata": {},
   "source": [
    "Select only those rows without a '?' in column horsepower and assign it back to auto."
   ]
  },
  {
   "cell_type": "code",
   "execution_count": 4,
   "metadata": {
    "collapsed": false
   },
   "outputs": [],
   "source": [
    "# Delete the column 'car_name'.\n",
    "del auto[\"car_name\"]\n",
    "\n",
    "# Remove rows with missing data.\n",
    "auto = auto[auto[\"horsepower\"] != '?']"
   ]
  },
  {
   "cell_type": "markdown",
   "metadata": {},
   "source": [
    "###3: Categorical Variables"
   ]
  },
  {
   "cell_type": "markdown",
   "metadata": {},
   "source": [
    "Until now all the variables we have worked with have been continuous. Categorical variables are another type of variable which take on values that are names or labels. The color of a ball (e.g., red, green, blue) or the breed of a dog (e.g., collie, shepherd, terrier) are examples of categorical variables.\n",
    "\n",
    "Imagine we want to predict the size of the ball using the color of the ball. We know the true diameter of each ball; all green balls are 3 inches in diameter, all red balls are 5 inches in diameter, and all blue balls are 10 inches in diameter. Using the same method as with continuous variables, a linear model may look something like $size = \\beta_{color} * color + intercept$. Right away we see a problem, how do we input color to this model? We cannot simply say that red=1, green=2, and blue=3. This would mean that no matter what our data says a green ball is twice the diameter of a red ball. Instead we can write the equation differently, $diameter = \\beta_{red} * red + \\beta_{green} * green + intercept$ where red and green are binary variables and each $\\beta$ is a coefficient. For each color ball we have the following cases:\n",
    "\n",
    "- Red ball -- red=1, green=0, and blue=0. $diameter=\\beta_{red} + intercept$\n",
    "- Green ball -- red=0, green=1, and blue=0. $diameter=\\beta_{green} + intercept$\n",
    "- Blue ball -- red=0, green=0, and blue=1. $diameter=intercept$\n",
    "\n",
    "We notice that our model does not explicity contain a blue variable. A blue variable is not needed since we know that if the ball is not red or green then it must be blue. By incorporating the intercept term the model picks this up implicitly. Here we don't make any assumption on which color is greater than the other, but instead we add a coefficient for each. The size of a green ball can be thought of as how much larger or smaller it is than a blue ball, and similar for a red ball. When modeling with these variables we would replace the variable color with two variables, red and green. These are called dummy variables and are used often in practice."
   ]
  },
  {
   "cell_type": "markdown",
   "metadata": {},
   "source": [
    "###4: Using Dummy Variables"
   ]
  },
  {
   "cell_type": "markdown",
   "metadata": {},
   "source": [
    "In our case, categorical variables exist in three columns, cylinders, year, and origin. Columns cylinders and year must be modified accordingly to predict label origin. These columns take specific values or labels, similar to the ball example above, which cannot be directly used within the model. Though the column year is a number, each year could have vastly different manufacturing numbers. Since we don't have this information it is always safer to treat discrete value as categorical variables. We must use dummy variables for these. For more than two categories we create more columns to represent the categories. For example, there are 5 different categories of cylinders, 3, 4, 5, 6, 8. This single categorical column can also be represented by 4 binary columns.\n",
    "\n",
    "- cylinders_3 -- Does the car have 3 cylinders? either a 0 or a 1\n",
    "- cylinders_4 -- Does the car have 4 cylinders? either a 0 or a 1\n",
    "- cylinders_5 -- Does the car have 5 cylinders? either a 0 or a 1\n",
    "- cylinders_6 -- Does the car have 6 cylinders? either a 0 or a 1\n",
    "\n",
    "Now, if each of these columns are 0 then the car does not have 3, 4, 5, or 6 cylinders so we can conclude the car has 8 cylinders. Since we can make this conclusion there is no need to have another column explaining the cars with 8 cylinders."
   ]
  },
  {
   "cell_type": "markdown",
   "metadata": {},
   "source": [
    "####Instructions"
   ]
  },
  {
   "cell_type": "markdown",
   "metadata": {},
   "source": [
    "The year of the car is also considered a categorical variable. Use the function create_dummies() to get the dummy variables for year. Assign this value to year_dummies.\n",
    "\n",
    "Merge year_dummies with auto_modified.\n",
    "\n",
    "Delete the column year from auto_modified."
   ]
  },
  {
   "cell_type": "code",
   "execution_count": 5,
   "metadata": {
    "collapsed": false
   },
   "outputs": [
    {
     "data": {
      "text/html": [
       "<div>\n",
       "<table border=\"1\" class=\"dataframe\">\n",
       "  <thead>\n",
       "    <tr style=\"text-align: right;\">\n",
       "      <th></th>\n",
       "      <th>mpg</th>\n",
       "      <th>displacement</th>\n",
       "      <th>horsepower</th>\n",
       "      <th>weight</th>\n",
       "      <th>acceleration</th>\n",
       "      <th>origin</th>\n",
       "      <th>cylinders_3</th>\n",
       "      <th>cylinders_4</th>\n",
       "      <th>cylinders_5</th>\n",
       "      <th>cylinders_6</th>\n",
       "      <th>...</th>\n",
       "      <th>year_72</th>\n",
       "      <th>year_73</th>\n",
       "      <th>year_74</th>\n",
       "      <th>year_75</th>\n",
       "      <th>year_76</th>\n",
       "      <th>year_77</th>\n",
       "      <th>year_78</th>\n",
       "      <th>year_79</th>\n",
       "      <th>year_80</th>\n",
       "      <th>year_81</th>\n",
       "    </tr>\n",
       "  </thead>\n",
       "  <tbody>\n",
       "    <tr>\n",
       "      <th>0</th>\n",
       "      <td>18</td>\n",
       "      <td>307</td>\n",
       "      <td>130.0</td>\n",
       "      <td>3504</td>\n",
       "      <td>12.0</td>\n",
       "      <td>1</td>\n",
       "      <td>0</td>\n",
       "      <td>0</td>\n",
       "      <td>0</td>\n",
       "      <td>0</td>\n",
       "      <td>...</td>\n",
       "      <td>0</td>\n",
       "      <td>0</td>\n",
       "      <td>0</td>\n",
       "      <td>0</td>\n",
       "      <td>0</td>\n",
       "      <td>0</td>\n",
       "      <td>0</td>\n",
       "      <td>0</td>\n",
       "      <td>0</td>\n",
       "      <td>0</td>\n",
       "    </tr>\n",
       "    <tr>\n",
       "      <th>1</th>\n",
       "      <td>15</td>\n",
       "      <td>350</td>\n",
       "      <td>165.0</td>\n",
       "      <td>3693</td>\n",
       "      <td>11.5</td>\n",
       "      <td>1</td>\n",
       "      <td>0</td>\n",
       "      <td>0</td>\n",
       "      <td>0</td>\n",
       "      <td>0</td>\n",
       "      <td>...</td>\n",
       "      <td>0</td>\n",
       "      <td>0</td>\n",
       "      <td>0</td>\n",
       "      <td>0</td>\n",
       "      <td>0</td>\n",
       "      <td>0</td>\n",
       "      <td>0</td>\n",
       "      <td>0</td>\n",
       "      <td>0</td>\n",
       "      <td>0</td>\n",
       "    </tr>\n",
       "    <tr>\n",
       "      <th>2</th>\n",
       "      <td>18</td>\n",
       "      <td>318</td>\n",
       "      <td>150.0</td>\n",
       "      <td>3436</td>\n",
       "      <td>11.0</td>\n",
       "      <td>1</td>\n",
       "      <td>0</td>\n",
       "      <td>0</td>\n",
       "      <td>0</td>\n",
       "      <td>0</td>\n",
       "      <td>...</td>\n",
       "      <td>0</td>\n",
       "      <td>0</td>\n",
       "      <td>0</td>\n",
       "      <td>0</td>\n",
       "      <td>0</td>\n",
       "      <td>0</td>\n",
       "      <td>0</td>\n",
       "      <td>0</td>\n",
       "      <td>0</td>\n",
       "      <td>0</td>\n",
       "    </tr>\n",
       "    <tr>\n",
       "      <th>3</th>\n",
       "      <td>16</td>\n",
       "      <td>304</td>\n",
       "      <td>150.0</td>\n",
       "      <td>3433</td>\n",
       "      <td>12.0</td>\n",
       "      <td>1</td>\n",
       "      <td>0</td>\n",
       "      <td>0</td>\n",
       "      <td>0</td>\n",
       "      <td>0</td>\n",
       "      <td>...</td>\n",
       "      <td>0</td>\n",
       "      <td>0</td>\n",
       "      <td>0</td>\n",
       "      <td>0</td>\n",
       "      <td>0</td>\n",
       "      <td>0</td>\n",
       "      <td>0</td>\n",
       "      <td>0</td>\n",
       "      <td>0</td>\n",
       "      <td>0</td>\n",
       "    </tr>\n",
       "    <tr>\n",
       "      <th>4</th>\n",
       "      <td>17</td>\n",
       "      <td>302</td>\n",
       "      <td>140.0</td>\n",
       "      <td>3449</td>\n",
       "      <td>10.5</td>\n",
       "      <td>1</td>\n",
       "      <td>0</td>\n",
       "      <td>0</td>\n",
       "      <td>0</td>\n",
       "      <td>0</td>\n",
       "      <td>...</td>\n",
       "      <td>0</td>\n",
       "      <td>0</td>\n",
       "      <td>0</td>\n",
       "      <td>0</td>\n",
       "      <td>0</td>\n",
       "      <td>0</td>\n",
       "      <td>0</td>\n",
       "      <td>0</td>\n",
       "      <td>0</td>\n",
       "      <td>0</td>\n",
       "    </tr>\n",
       "  </tbody>\n",
       "</table>\n",
       "<p>5 rows × 22 columns</p>\n",
       "</div>"
      ],
      "text/plain": [
       "   mpg  displacement horsepower  weight  acceleration  origin  cylinders_3  \\\n",
       "0   18           307      130.0    3504          12.0       1            0   \n",
       "1   15           350      165.0    3693          11.5       1            0   \n",
       "2   18           318      150.0    3436          11.0       1            0   \n",
       "3   16           304      150.0    3433          12.0       1            0   \n",
       "4   17           302      140.0    3449          10.5       1            0   \n",
       "\n",
       "   cylinders_4  cylinders_5  cylinders_6   ...     year_72  year_73  year_74  \\\n",
       "0            0            0            0   ...           0        0        0   \n",
       "1            0            0            0   ...           0        0        0   \n",
       "2            0            0            0   ...           0        0        0   \n",
       "3            0            0            0   ...           0        0        0   \n",
       "4            0            0            0   ...           0        0        0   \n",
       "\n",
       "   year_75  year_76  year_77  year_78  year_79  year_80  year_81  \n",
       "0        0        0        0        0        0        0        0  \n",
       "1        0        0        0        0        0        0        0  \n",
       "2        0        0        0        0        0        0        0  \n",
       "3        0        0        0        0        0        0        0  \n",
       "4        0        0        0        0        0        0        0  \n",
       "\n",
       "[5 rows x 22 columns]"
      ]
     },
     "execution_count": 5,
     "metadata": {},
     "output_type": "execute_result"
    }
   ],
   "source": [
    "import pandas\n",
    "\n",
    "# Input a column with categorical variables.\n",
    "def create_dummies(var):\n",
    "    # Get the unique values in var and sort.\n",
    "    var_unique = var.unique()\n",
    "    var_unique.sort()\n",
    "    \n",
    "    # Initialize a dummy DataFrame to store variables.\n",
    "    dummy = pandas.DataFrame()\n",
    "    \n",
    "    # Loop through all but the last value.\n",
    "    for val in var_unique[:-1]:\n",
    "        # Which columns are equal to our unique value.\n",
    "        d = var == val\n",
    "        \n",
    "        # Make a new column with a dummy variable.\n",
    "        dummy[var.name + \"_\" + str(val)] = d.astype(int)\n",
    "    \n",
    "    # Return dataframe with our dummy variables.\n",
    "    return dummy\n",
    "\n",
    "# Make a copy of our auto dataframe to modify with dummy variables.\n",
    "modified_auto = auto.copy()\n",
    "\n",
    "# Make dummy varibles from the cylinder categories.\n",
    "cylinder_dummies = create_dummies(modified_auto[\"cylinders\"])\n",
    "\n",
    "# Merge dummy varibles to our dataframe.\n",
    "modified_auto = pandas.concat([modified_auto, cylinder_dummies], axis=1)\n",
    "\n",
    "# Delete cylinders column as we have now explained it with dummy variables.\n",
    "del modified_auto[\"cylinders\"]\n",
    "\n",
    "# Make dummy varibles from the cylinder categories.\n",
    "year_dummies = create_dummies(modified_auto[\"year\"])\n",
    "\n",
    "# Merge dummy varibles to our dataframe.\n",
    "modified_auto = pandas.concat([modified_auto, year_dummies], axis=1)\n",
    "\n",
    "# Delete cylinders column as we have now explained it with dummy variables.\n",
    "del modified_auto[\"year\"]\n",
    "\n",
    "modified_auto.head(5)"
   ]
  },
  {
   "cell_type": "markdown",
   "metadata": {},
   "source": [
    "###5: Multiclass Classification"
   ]
  },
  {
   "cell_type": "markdown",
   "metadata": {},
   "source": [
    "Multiclass classification is used when predicting 3 or more categories. Fortunately there are techniques to apply binary classification algorithms to these multiclass cases. The first which we will introduce is the one-versus-all technique. The one-versus-all method is a technique where we choose a single category as our true observation and the rest of the categories as false observations, splitting the problem into multiple binary classification problems. The model will then output a probability of whether the observation falls into the chosen class and continued for each other class. At the end, an observation is assigned to the class with the largest probability.\n",
    "\n",
    "To start we split our data into a training and test set."
   ]
  },
  {
   "cell_type": "markdown",
   "metadata": {},
   "source": [
    "####Instructions"
   ]
  },
  {
   "cell_type": "markdown",
   "metadata": {},
   "source": [
    "Split the data in modified_auto into two variables, train and test. Assign the first 70% of the shuffled_rows to train. Assign the last 30% of the shuffled_rows to test."
   ]
  },
  {
   "cell_type": "code",
   "execution_count": 6,
   "metadata": {
    "collapsed": false
   },
   "outputs": [
    {
     "name": "stderr",
     "output_type": "stream",
     "text": [
      "C:\\Anaconda3\\lib\\site-packages\\numpy\\lib\\function_base.py:3569: FutureWarning: in the future insert will treat boolean arrays and array-likes as boolean index instead of casting it to integer\n",
      "  \"as boolean index instead of casting it to integer\", FutureWarning)\n"
     ]
    }
   ],
   "source": [
    "import numpy as np\n",
    "\n",
    "# Get all columns which will be used as features, remove 'origin'.\n",
    "features = np.delete(modified_auto.columns, modified_auto.columns == 'origin')\n",
    "\n",
    "# Shuffle data.\n",
    "shuffled_rows = np.random.permutation(modified_auto.index)\n",
    "\n",
    "# Select 70% of the dataset to be training data.\n",
    "highest_train_row = int(modified_auto.shape[0] * .70)\n",
    "\n",
    "# Select 70% of the dataset to be training data.\n",
    "train = modified_auto.loc[shuffled_rows[:highest_train_row], :]\n",
    "\n",
    "# Select 30% of the dataset to be test data.\n",
    "test = modified_auto.loc[shuffled_rows[highest_train_row:], :]"
   ]
  },
  {
   "cell_type": "markdown",
   "metadata": {},
   "source": [
    "###6: Training a Multiclass Logistic Regression"
   ]
  },
  {
   "cell_type": "markdown",
   "metadata": {},
   "source": [
    "To predict a car's origin, we will train a model where all observations built in North America as true and those built in Europe and Asia as false. Next, another model will be trained with all observations built in Europe are labeled true and those in North America and Asia are labeled false. Lastly, a thrid model will be trained with all observations built in Asia are labeled true and those built in North America and Europe are labeled false.\n",
    "\n",
    "After training, each of the three models will return a probability between 0 and 1. We then classify the car by choosing the model with the largest probability. To do this, we will train 3 logistic regression models, 1 for each origin.\n",
    "\n",
    "For each origin we train our data using LogisticRegression provided by sklearn. Each model is then stored in a dictionary."
   ]
  },
  {
   "cell_type": "markdown",
   "metadata": {},
   "source": [
    "####Instructions"
   ]
  },
  {
   "cell_type": "markdown",
   "metadata": {},
   "source": [
    "Look over the code provided to understand how one-versus-all is trained.\n",
    "\n",
    "For each origin, model, assign the probability of classification to columns in testing_probs. Each column in testing_probs is a unique origin. Ie. testing_probs[1] = probability returned from model 1."
   ]
  },
  {
   "cell_type": "code",
   "execution_count": 7,
   "metadata": {
    "collapsed": false
   },
   "outputs": [],
   "source": [
    "from sklearn.linear_model import LogisticRegression\n",
    "\n",
    "# Find the unique origins.\n",
    "unique_origins = modified_auto[\"origin\"].unique()\n",
    "unique_origins.sort()\n",
    "\n",
    "# Dictionary to store models.\n",
    "models = {}\n",
    "\n",
    "for origin in unique_origins:\n",
    "    # Initialize model to dictionary.\n",
    "    models[origin] = LogisticRegression()\n",
    "    \n",
    "    # Select columns for predictors and predictands.\n",
    "    X_train = train[features]\n",
    "    y_train = train[\"origin\"] == origin\n",
    "        \n",
    "    # Fit model with training data.\n",
    "    models[origin].fit(X_train, y_train)\n",
    "\n",
    "# Dataframe to collect testing probabilities.\n",
    "testing_probs = pandas.DataFrame(columns=unique_origins)\n",
    "for origin in unique_origins:\n",
    "    \n",
    "    # Select testing features.\n",
    "    X_test = test[features]   \n",
    "    \n",
    "    # Compute probability of observation being in the origin.\n",
    "    testing_probs[origin] = models[origin].predict_proba(X_test)[:,1]"
   ]
  },
  {
   "cell_type": "markdown",
   "metadata": {},
   "source": [
    "###7: Choose the Origin"
   ]
  },
  {
   "cell_type": "markdown",
   "metadata": {},
   "source": [
    "Now that we trained the models and computed the probabilities in each origin we can classify each observation. To classify each observation we want to take the origin with the highest probability of classification.\n",
    "\n",
    "While each column in our dataframe testing_probs represents an origin we just need to choose the one with the largest probability. Pandas dataframes have a method .idxmax() which computes the column or index where the maximum value occurs. By using the paramater axis=1 we can tell method to find the maximum value across columns. Since each column maps directly to an origin the resulting series will be the classification from our model."
   ]
  },
  {
   "cell_type": "markdown",
   "metadata": {},
   "source": [
    "####Instructions"
   ]
  },
  {
   "cell_type": "markdown",
   "metadata": {},
   "source": [
    "Classify each observation in the test set using the testing_probs dataframe. Assign the predicted origin to predicted_origins."
   ]
  },
  {
   "cell_type": "code",
   "execution_count": 8,
   "metadata": {
    "collapsed": true
   },
   "outputs": [],
   "source": [
    "# Variable testing_probs is in memory.\n",
    "predicted_origins = testing_probs.idxmax(axis=1)"
   ]
  },
  {
   "cell_type": "markdown",
   "metadata": {},
   "source": [
    "###8: Confusion Matrix"
   ]
  },
  {
   "cell_type": "markdown",
   "metadata": {},
   "source": [
    "Similar to binary classification, we must use measures other than accuracy to evaluate our classifier. For example, in our dataset, 62.5% of cars origin is North America (origin=1). This means that if we simply predicted North America each and every time our accuracy would be 62.5%. Instead it would be great to compute measures like precision and recall to understand the efficiency of this model. To do this, we must start by creating a confusion matrix which aggregates our predictions into a matrix. Each column and row in the matrix will represent observations and predictions for the 3 origins. The values within the matrix will represent the number times an origin was predicted and another was observed. For example, we will count the number of predictions of origin 1 where we observed origin 2. This will be done for all 9 possible pairs of (prediction, observation).\n",
    "\n",
    "The confusion matrix for our problem:\n",
    "\n",
    "    Prediction \tObservation\n",
    "                Origin 1                    Origin 2                    Origin 3\n",
    "    Origin 1 \tPredicted 1 & Observed 1 \tPredicted 1 & Observed 2 \tPredicted 1 & Observed 3\n",
    "    Origin 2 \tPredicted 2 & Observed 1 \tPredicted 2 & Observed 2 \tPredicted 2 & Observed 3\n",
    "    Origin 3 \tPredicted 3 & Observed 1 \tPredicted 3 & Observed 2 \tPredicted 3 & Observed 3\n",
    "\n",
    "We'd like to fill in this matrix using our predictions and observations in the test set. To compute cell (1,1), count the number of times we predicted origin 1 and observed origin 1. For cell (1,2), count the number of times we predicted origin 1 and observed origin 2. And so on."
   ]
  },
  {
   "cell_type": "markdown",
   "metadata": {},
   "source": [
    "####Instructions"
   ]
  },
  {
   "cell_type": "markdown",
   "metadata": {},
   "source": [
    "Using test['origin'] and predicted_origins, fill in the confusion dataframe."
   ]
  },
  {
   "cell_type": "code",
   "execution_count": 9,
   "metadata": {
    "collapsed": false
   },
   "outputs": [],
   "source": [
    "# Remove pandas indicies.\n",
    "predicted_origins = predicted_origins.values\n",
    "origins_observed = test['origin'].values\n",
    "\n",
    "# fill in this confusion matrix.\n",
    "confusion = pandas.DataFrame(np.zeros(shape=(unique_origins.shape[0], unique_origins.shape[0])), \n",
    "                             index=unique_origins, columns=unique_origins)\n",
    "\n",
    "# Each unique prediction.\n",
    "for pred in unique_origins:\n",
    "    # Each unique observation.\n",
    "    for obs in unique_origins:\n",
    "        # Check if pred was predicted.\n",
    "        t_pred = predicted_origins == pred\n",
    "        # Check if obs was observed.\n",
    "        t_obs = origins_observed == obs\n",
    "        # True if both pred and obs.\n",
    "        t = (t_pred & t_obs)\n",
    "        # Count of the number of observations with pred and obs.\n",
    "        confusion.loc[pred, obs] = sum(t)"
   ]
  },
  {
   "cell_type": "markdown",
   "metadata": {},
   "source": [
    "###9: Confusion Matrix Cont."
   ]
  },
  {
   "cell_type": "markdown",
   "metadata": {},
   "source": [
    "To use the confusion matrix to compute measures like precision, recall, average accuracy, and others we need to find the true positive, false positive, true negative, and false negative counts. To do this, we can view the confusion matrix in a slightly different way by analyzing it one class at a time, just as we did during training using one-versus-all. For example, we can compute the true positive, false positive, true negative, and false negative counts for the first class, then the second, and lastly the third class. The counts for the first class will look like the following.\n",
    "\n",
    "    Prediction \t    Observation\n",
    "                    Origin 1 \t    Origin 2 or 3\n",
    "    Origin 1 \t    True Positive \tFalse Positive\n",
    "    Origin 2 or 3 \tFalse Negative \tTrue Negative"
   ]
  },
  {
   "cell_type": "markdown",
   "metadata": {},
   "source": [
    "####Instructions"
   ]
  },
  {
   "cell_type": "markdown",
   "metadata": {},
   "source": [
    "Use the confusion DataFrame and assign the number of false positives for origin 2 to fp1."
   ]
  },
  {
   "cell_type": "code",
   "execution_count": 10,
   "metadata": {
    "collapsed": false
   },
   "outputs": [],
   "source": [
    "# Variable confusion is in memory.\n",
    "# false positives = observed 1 and predicted 2 or 3\n",
    "fp1 = confusion.ix[2,[1,3]].sum()"
   ]
  },
  {
   "cell_type": "markdown",
   "metadata": {},
   "source": [
    "###10: Average Accuracy"
   ]
  },
  {
   "cell_type": "markdown",
   "metadata": {},
   "source": [
    "Now that we understand the confusion matrix for multiclass classification problems, lets learn ways to measure performance. One of the simpliest and most effective measures is average accuracy.\n",
    "\n",
    "$\\text{Average Accuracy} = \\dfrac{1}{l} \\sum_{i=1}^l \\dfrac{\\text{true positive} + \\text{true negative}}{n}$ where $l$ is the number of classes and $n$ is the number of observations.\n",
    "\n",
    "In our problem in predicting the origin of a car we have unbalanced classes. The classes are unbalanced since a large proportion of cars are from a single origin. 62.5% of cars of from North America while just 37.5% are from Asia and Europe combined. This measure will take the unbalanced classes into account by averaging the accuracies over each class. The average accuracy measure will be a value between 0 and 1. The closer to 1 our average accuracy the better the classifier."
   ]
  },
  {
   "cell_type": "markdown",
   "metadata": {},
   "source": [
    "####Instructions"
   ]
  },
  {
   "cell_type": "markdown",
   "metadata": {},
   "source": [
    "Compute the average accuracy of our model using the confusion DataFrame. Assign this value to avgacc."
   ]
  },
  {
   "cell_type": "code",
   "execution_count": 11,
   "metadata": {
    "collapsed": false
   },
   "outputs": [
    {
     "name": "stdout",
     "output_type": "stream",
     "text": [
      "avgacc: 0.949152542373\n"
     ]
    }
   ],
   "source": [
    "# The confusion DataFrame is in memory.\n",
    "# The total number of observations in the test set.\n",
    "n = test.shape[0]\n",
    "\n",
    "# Variable to store true predictions.\n",
    "sumacc = 0\n",
    "\n",
    "# Loop over each origin.\n",
    "for i in confusion.index:\n",
    "    # True Positives.\n",
    "    tp = confusion.loc[i, i]\n",
    "    # True negatives.\n",
    "    tn = confusion.loc[unique_origins[unique_origins != i], unique_origins[unique_origins != i]]\n",
    "    # Add the sums.\n",
    "    sumacc += tp.sum() + tn.sum().sum()\n",
    "\n",
    "# Compute average accuracy.\n",
    "avgacc = sumacc/(n*unique_origins.shape[0])\n",
    "print(\"avgacc:\", avgacc)"
   ]
  },
  {
   "cell_type": "markdown",
   "metadata": {},
   "source": [
    "###11: Precision and Recall"
   ]
  },
  {
   "cell_type": "markdown",
   "metadata": {},
   "source": [
    "Similar to binary classification, we can compute both precision and recall.\n",
    "\n",
    "Precision measures the number of correctly predicting origins relative to the total number of positive predictions. For our dataset this measure will give us an idea of how many origins were predicted correctly while accounting for falsely predicted cars in that origin. The equation states, $\\text{precision} = \\dfrac{1}{l}\\sum_{i=1}^l \\frac{tp_i}{tp_i+fp_i}$ where $l$ is the number of classes, $tp_i$ is the true positive count for class $i$ and $tn_i$ is the false positive count for class $i$. This is taking the average of precisions over each class. The precision is in range 0 to 1 where 1 is the best. A precision of 1 states that there were no falsely predicted observations.\n",
    "\n",
    "Recall measures the ability to predict the correct class relative to the total number of observations within that class. If many observations for that class are predicted as false then the classifier is not effective at predicting that class. In our example, if half of the cars in origin 1 are predicted to be in origins 2 and 3 then the classifier would not be considered very effective. The equation generalizes this over each class by averaging, $\\text{recall} = \\dfrac{1}{l}\\sum_{i=1}^l \\frac{tp_i}{tp_i+fn_i}$ where $fn_i$ is the number of false negative predictions of origin i. As with precision, a higher recall indicates a better performing classifier."
   ]
  },
  {
   "cell_type": "markdown",
   "metadata": {},
   "source": [
    "####Instructions"
   ]
  },
  {
   "cell_type": "markdown",
   "metadata": {},
   "source": [
    "Assign the recall of our classifier to recall. Use the confusion DataFrame."
   ]
  },
  {
   "cell_type": "code",
   "execution_count": 12,
   "metadata": {
    "collapsed": false
   },
   "outputs": [
    {
     "name": "stdout",
     "output_type": "stream",
     "text": [
      "precision: 0.930372807018\n",
      "recall: 0.842105263158\n"
     ]
    }
   ],
   "source": [
    "# Variable to add all precisions.\n",
    "ps = 0\n",
    "# Loop through each origin (class).\n",
    "for j in confusion.index:\n",
    "    # True positives.\n",
    "    tps = confusion.ix[j,j]\n",
    "    # Positively predicted for that origin.\n",
    "    positives = confusion.ix[j,:].sum()\n",
    "    # Add to precision.\n",
    "    ps += tps/positives\n",
    "\n",
    "# Divide ps by the number of classes to get precision.\n",
    "precision = ps/confusion.shape[0]\n",
    "print(\"precision:\", precision)\n",
    "\n",
    "# Variable to add all recalls.\n",
    "rcs = 0\n",
    "for j in confusion.index:\n",
    "    # Current number of true positives.\n",
    "    tps = confusion.ix[j,j]\n",
    "    # True positives and false negatives.\n",
    "    origin_count = confusion.ix[:,j].sum()\n",
    "    # Add recall.\n",
    "    rcs += tps/origin_count\n",
    "\n",
    "# Compute recall.\n",
    "recall = rcs/confusion.shape[0]\n",
    "print(\"recall:\", recall)"
   ]
  },
  {
   "cell_type": "markdown",
   "metadata": {},
   "source": [
    "###12: F-Score"
   ]
  },
  {
   "cell_type": "markdown",
   "metadata": {},
   "source": [
    "A measure called the F-score is used to simplify analysis and allow for comparision against different classifiers. The F-score is a weighted measure of precision and recall defined as $F_i = \\dfrac{2*precision_i*recall_i}{precision_i + recall_i}$ for class $i$. For the multiclass case, an F score is computed per class then averaged over each, $F = \\dfrac{1}{l} \\sum_{i=1}^l F_i$. This measure is used to find a balance between precision and recall while allowing for comparision against other models. The F-score falls in the range 0 to 1 with 1 being 'perfect'."
   ]
  },
  {
   "cell_type": "markdown",
   "metadata": {},
   "source": [
    "####Instructions"
   ]
  },
  {
   "cell_type": "markdown",
   "metadata": {},
   "source": [
    "Compute the F-score for our car origin classifier using the test set. Assign the F-score to variable fscore."
   ]
  },
  {
   "cell_type": "code",
   "execution_count": 13,
   "metadata": {
    "collapsed": false
   },
   "outputs": [
    {
     "name": "stdout",
     "output_type": "stream",
     "text": [
      "fscore: 0.859294127558\n"
     ]
    }
   ],
   "source": [
    "# Variable to add all precisions.\n",
    "scores = []\n",
    "\n",
    "# Loop through each origin (class).\n",
    "for j in confusion.index:\n",
    "    # True positives.\n",
    "    tps = confusion.ix[j,j]\n",
    "    # Positively predicted for that origin.\n",
    "    positives = confusion.ix[j,:].sum()\n",
    "    # True positives and false negatives.\n",
    "    origin_count = confusion.ix[:,j].sum()\n",
    "    # Compute precision.\n",
    "    precision = tps / positives\n",
    "    # Compute recall.\n",
    "    recall = tps / origin_count\n",
    "    # Append F_i score.\n",
    "    fi = 2*precision*recall / (precision + recall)\n",
    "    scores.append(fi)\n",
    "shape = modified_auto.shape\n",
    "\n",
    "# Average over all scores.\n",
    "fscore = np.mean(scores)\n",
    "print(\"fscore:\", fscore)"
   ]
  },
  {
   "cell_type": "markdown",
   "metadata": {},
   "source": [
    "###13: Metrics with Sklearn"
   ]
  },
  {
   "cell_type": "markdown",
   "metadata": {},
   "source": [
    "Since we now understand how to compute precision, recall, and F-scores, we can use builtin sklearn functions to compute them. sklearn.metrics has many scoring metrics for all different kinds of classifiers. Here we can use precision_score, recall_score, and f1_score. Each of these metrics need two inputs, the true class and the predicted class. There are many other options which we recommend you to read through at http://scikit-learn.org/stable/modules/generated/sklearn.metrics.precision_score.html. Most importantly we must pay attention to the option average. average is a parameter which tells the function how to compute the score. The options are binary -- Only report results for the class specified by pos_label. This is applicable only if targets (y_{true,pred}) are binary. micro -- Calculate metrics globally by counting the total true positives, false negatives and false positives. macro -- Calculate metrics for each label, and find their unweighted mean. This does not take label imbalance into account. weighted -- Calculate metrics for each label, and find their average, weighted by support (the number of true instances for each label). This alters ‘macro’ to account for label imbalance; it can result in an F-score that is not between precision and recall. * samples -- Calculate metrics for each instance, and find their average (only meaningful for multilabel classification where this differs from accuracy_score)."
   ]
  },
  {
   "cell_type": "markdown",
   "metadata": {},
   "source": [
    "####Instructions"
   ]
  },
  {
   "cell_type": "markdown",
   "metadata": {},
   "source": [
    "Use the parameter average=weighted and the test set to compute the precision, recall, and F-score of our classifier with the sklearn.metrics functions. Assign these values to pr_weighted, rc_weighted, and f_weighted, respectively."
   ]
  },
  {
   "cell_type": "code",
   "execution_count": 14,
   "metadata": {
    "collapsed": false
   },
   "outputs": [],
   "source": [
    "# Import metric functions from sklearn.\n",
    "from sklearn.metrics import precision_score, recall_score, f1_score\n",
    "\n",
    "# Compute precision score with micro averaging.\n",
    "pr_micro = precision_score(test[\"origin\"], predicted_origins, average='micro')\n",
    "pr_weighted = precision_score(test[\"origin\"], predicted_origins, average='weighted')\n",
    "rc_weighted = recall_score(test[\"origin\"], predicted_origins, average='weighted')\n",
    "f_weighted = f1_score(test[\"origin\"], predicted_origins, average='weighted')"
   ]
  },
  {
   "cell_type": "markdown",
   "metadata": {},
   "source": [
    "###14: Conclusion"
   ]
  },
  {
   "cell_type": "markdown",
   "metadata": {},
   "source": [
    "Here we have introduced multiclass classification using the one-versus-all technique with logistic regression. Another popular technique is one-versus-one which requires a model for each possible pair of categories. This technique uses a voting scheme where the class with the largest number of votes is predicted. In our example with 3 classes we would train 3 models, Origin 1 versus Origin 2, Origin 2 versus Origin 3 and Origin 1 versus Origin 3. At test time, an observation would be classifed by choosing the origin with the most \"votes\". The one-versus-one technique is less frequently used because the number of models grows quadratically with the number of classes. A classifier with 10 classes takes a total of 45 models!"
   ]
  }
 ],
 "metadata": {
  "kernelspec": {
   "display_name": "Python 3",
   "language": "python",
   "name": "python3"
  },
  "language_info": {
   "codemirror_mode": {
    "name": "ipython",
    "version": 3
   },
   "file_extension": ".py",
   "mimetype": "text/x-python",
   "name": "python",
   "nbconvert_exporter": "python",
   "pygments_lexer": "ipython3",
   "version": "3.4.3"
  }
 },
 "nbformat": 4,
 "nbformat_minor": 0
}
