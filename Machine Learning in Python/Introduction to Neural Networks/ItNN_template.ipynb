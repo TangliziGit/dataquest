{
 "cells": [
  {
   "cell_type": "code",
   "execution_count": 1,
   "metadata": {
    "collapsed": true
   },
   "outputs": [],
   "source": [
    "from __future__ import print_function"
   ]
  },
  {
   "cell_type": "markdown",
   "metadata": {},
   "source": [
    "#Machine Learning in Python"
   ]
  },
  {
   "cell_type": "markdown",
   "metadata": {},
   "source": [
    "##Introduction to Neural Networks"
   ]
  },
  {
   "cell_type": "markdown",
   "metadata": {},
   "source": [
    "###1: Neural networks and iris flowers"
   ]
  },
  {
   "cell_type": "markdown",
   "metadata": {},
   "source": [
    "Many machine learning prediction problems are rooted in complex data and its non-linear relationships between features. Neural networks are a class of models that can learn these non-linear interactions between variables.\n",
    "\n",
    "We will introduce neural networks by predicting the species of iris flowers from data with the following features:\n",
    "\n",
    "- sepal_length - Continuous variable measured in centimeters.\n",
    "- sepal_width - Continuous variable measured in centimeters.\n",
    "- petal_length - Continuous variable measured in centimeters.\n",
    "- petal_width - Continuous variable measured in centimeters.\n",
    "- species - Categorical. 2 species of iris flowers, Iris-virginica or Iris-versicolor.\n",
    "\n",
    "The DataFrame class includes a hist() method which creates a histogram for every numeric column in that DataFrame. The histograms are generated using Matplotlib and displayed using plt.show()."
   ]
  },
  {
   "cell_type": "markdown",
   "metadata": {},
   "source": [
    "####Instructions"
   ]
  },
  {
   "cell_type": "markdown",
   "metadata": {},
   "source": [
    "Visualize the data using the method hist() on our DataFrame iris and showing the plots."
   ]
  },
  {
   "cell_type": "code",
   "execution_count": 2,
   "metadata": {
    "collapsed": false
   },
   "outputs": [
    {
     "data": {
      "text/html": [
       "<div>\n",
       "<table border=\"1\" class=\"dataframe\">\n",
       "  <thead>\n",
       "    <tr style=\"text-align: right;\">\n",
       "      <th></th>\n",
       "      <th>sepal_length</th>\n",
       "      <th>sepal_width</th>\n",
       "      <th>petal_length</th>\n",
       "      <th>petal_width</th>\n",
       "      <th>species</th>\n",
       "    </tr>\n",
       "  </thead>\n",
       "  <tbody>\n",
       "    <tr>\n",
       "      <th>0</th>\n",
       "      <td>5.1</td>\n",
       "      <td>3.5</td>\n",
       "      <td>1.4</td>\n",
       "      <td>0.2</td>\n",
       "      <td>Iris-setosa</td>\n",
       "    </tr>\n",
       "    <tr>\n",
       "      <th>1</th>\n",
       "      <td>4.9</td>\n",
       "      <td>3.0</td>\n",
       "      <td>1.4</td>\n",
       "      <td>0.2</td>\n",
       "      <td>Iris-setosa</td>\n",
       "    </tr>\n",
       "    <tr>\n",
       "      <th>2</th>\n",
       "      <td>4.7</td>\n",
       "      <td>3.2</td>\n",
       "      <td>1.3</td>\n",
       "      <td>0.2</td>\n",
       "      <td>Iris-setosa</td>\n",
       "    </tr>\n",
       "    <tr>\n",
       "      <th>3</th>\n",
       "      <td>4.6</td>\n",
       "      <td>3.1</td>\n",
       "      <td>1.5</td>\n",
       "      <td>0.2</td>\n",
       "      <td>Iris-setosa</td>\n",
       "    </tr>\n",
       "    <tr>\n",
       "      <th>4</th>\n",
       "      <td>5.0</td>\n",
       "      <td>3.6</td>\n",
       "      <td>1.4</td>\n",
       "      <td>0.2</td>\n",
       "      <td>Iris-setosa</td>\n",
       "    </tr>\n",
       "  </tbody>\n",
       "</table>\n",
       "</div>"
      ],
      "text/plain": [
       "   sepal_length  sepal_width  petal_length  petal_width      species\n",
       "0           5.1          3.5           1.4          0.2  Iris-setosa\n",
       "1           4.9          3.0           1.4          0.2  Iris-setosa\n",
       "2           4.7          3.2           1.3          0.2  Iris-setosa\n",
       "3           4.6          3.1           1.5          0.2  Iris-setosa\n",
       "4           5.0          3.6           1.4          0.2  Iris-setosa"
      ]
     },
     "execution_count": 2,
     "metadata": {},
     "output_type": "execute_result"
    }
   ],
   "source": [
    "import pandas\n",
    "\n",
    "# Read in dataset.\n",
    "iris = pandas.read_csv(\"data/iris.csv\")\n",
    "iris.head(5)"
   ]
  },
  {
   "cell_type": "code",
   "execution_count": 3,
   "metadata": {
    "collapsed": false
   },
   "outputs": [
    {
     "name": "stdout",
     "output_type": "stream",
     "text": [
      "iris.head():\n",
      "      sepal_length  sepal_width  petal_length  petal_width          species\n",
      "113           5.7          2.5           5.0          2.0   Iris-virginica\n",
      "81            5.5          2.4           3.7          1.0  Iris-versicolor\n",
      "71            6.1          2.8           4.0          1.3  Iris-versicolor\n",
      "2             4.7          3.2           1.3          0.2      Iris-setosa\n",
      "84            5.4          3.0           4.5          1.5  Iris-versicolor\n",
      "iris.species.unique()\n",
      ": ['Iris-virginica' 'Iris-versicolor' 'Iris-setosa']\n"
     ]
    },
    {
     "data": {
      "image/png": "[encoded data removed]",
      "text/plain": [
       "<matplotlib.figure.Figure at 0xb3093c8>"
      ]
     },
     "metadata": {},
     "output_type": "display_data"
    }
   ],
   "source": [
    "import matplotlib.pyplot as plt\n",
    "import numpy as np\n",
    "%matplotlib inline\n",
    "\n",
    "# Shuffle rows.\n",
    "shuffled_rows = np.random.permutation(iris.index)\n",
    "iris = iris.loc[shuffled_rows,:]\n",
    "\n",
    "print(\"iris.head():\\n\", iris.head())\n",
    "\n",
    "# There are 2 species.\n",
    "print(\"iris.species.unique()\\n:\", iris.species.unique())\n",
    "iris.hist()\n",
    "plt.show()"
   ]
  },
  {
   "cell_type": "markdown",
   "metadata": {
    "collapsed": true
   },
   "source": [
    "###2: Neurons"
   ]
  },
  {
   "cell_type": "markdown",
   "metadata": {},
   "source": [
    "So far we have talked about methods which do not allow for a large amount of non-linearity, so we must explore other options like neural networks. Neural networks are very loosely inspired by the structure of neurons in the human brain. These models are built by using a series of activation units, known as neurons, to make predictions of some outcome. Neurons take in some input, apply a transformation function, and return an output.\n",
    "\n",
    "An example neuron is taking in 5 units represented as x, a bias unit, and 4 features. This bias unit is similar in concept to the intercept in linear regression and it will shift the activity of the neuron to one direction or the other. These units are then fed into an activation function $h$. \n",
    "\n",
    "We will use the popular sigmoid (logistic) activation function because it returns values between 0 and 1 and can be treated as probabilities:\n",
    "\n",
    "$\\text{Sigmoid Function: }g(z) = \\dfrac{1}{1 + e^{-z}}$\n",
    "\n",
    "This sigmoid function then leads to the corresponding activation function:\n",
    "\n",
    "$\\text{Sigmoid Activation Function: }h_{\\Theta}(x) = \\dfrac{1}{1+e^{-\\Theta^T x}} = \\dfrac{1}{1+e^{-(\\theta_01 + \\theta_1x_1 + \\theta_2 x_2)}}$"
   ]
  },
  {
   "cell_type": "markdown",
   "metadata": {},
   "source": [
    "####Instructions"
   ]
  },
  {
   "cell_type": "markdown",
   "metadata": {},
   "source": [
    "Write a function called sigmoid_activation with inputs x a feature vector and theta a parameter vector of the same length to implement the sigmoid activation function. Assign the value of sigmoid_activation(X, theta_init) to a1. a1 should be a vector."
   ]
  },
  {
   "cell_type": "code",
   "execution_count": 4,
   "metadata": {
    "collapsed": false
   },
   "outputs": [
    {
     "name": "stdout",
     "output_type": "stream",
     "text": [
      "np.dot(z,y.T): [[17]]\n",
      "x0: [ 1.   5.7  2.5  5.   2. ]\n",
      "a1: [ 0.46644269]\n"
     ]
    }
   ],
   "source": [
    "z = np.asarray([[9, 5, 4]])\n",
    "y = np.asarray([[-1, 2, 4]])\n",
    "\n",
    "# np.dot is used for matrix multiplication.\n",
    "# z is 1x3 and y is 1x3,  z * y.T is then 3x3.\n",
    "print(\"np.dot(z,y.T):\", np.dot(z,y.T))\n",
    "\n",
    "# Variables to test sigmoid_activation.\n",
    "iris[\"ones\"] = np.ones(iris.shape[0])\n",
    "X = iris[['ones', 'sepal_length', 'sepal_width', 'petal_length', 'petal_width']].values\n",
    "y = (iris.species == 'Iris-versicolor').values.astype(int)\n",
    "\n",
    "# The first observation.\n",
    "x0 = X[0]\n",
    "print(\"x0:\", x0)\n",
    "\n",
    "# Initialize thetas randomly .\n",
    "theta_init = np.random.normal(0,0.01,size=(5,1))\n",
    "def sigmoid_activation(x, theta):\n",
    "    x = np.asarray(x)\n",
    "    theta = np.asarray(theta)\n",
    "    return 1 / (1 + np.exp(-np.dot(theta.T, x)))\n",
    "                \n",
    "a1 = sigmoid_activation(x0, theta_init)\n",
    "print(\"a1:\", a1)"
   ]
  },
  {
   "cell_type": "markdown",
   "metadata": {},
   "source": [
    "###3: Cost function"
   ]
  },
  {
   "cell_type": "markdown",
   "metadata": {},
   "source": [
    "We can train a single neuron as a two layer network using gradient descent. We need to minimize a cost function which measures the error in our model. The cost function measures the difference between the desired output and actual output, defined as:\n",
    "\n",
    "$J(\\Theta) = -\\dfrac{1}{m} \\sum_{k=1}^{m} (y_i * log(h_{\\Theta}(x_i)) + (1-y_i) log(1-h_{\\Theta}(x_i)))$\n",
    "\n",
    "Since our targets, $y_i$, are binary, either $y_i$ or $(1-y_i)$ will equal zero. One of the terms in the summation will disappear because of this result and. the activation function is then used to compute the error. For example, if we observe a true target, $y_i=1$, then we want $h_{\\Theta}(x_i)$ to also be close to 1. So as $h_{\\Theta}(x_i)$ approaches 1, the $log(h_{\\Theta}(x_i))$ becomes very close to 0. Since the log of a value between 0 and 1 is negative, we must take the negative of the entire summation to compute the cost. The parameters are randomly initialized using a normal random variable with a small variance, less than 0.1."
   ]
  },
  {
   "cell_type": "markdown",
   "metadata": {},
   "source": [
    "####Instructions"
   ]
  },
  {
   "cell_type": "markdown",
   "metadata": {},
   "source": [
    "Write a function that can compute the cost from just a single observation. Write a function singlecost() using input features X, targets y, and parameters theta to compute the cost function. Assign the cost of variables x0, y, and init_theta to variable first_cost."
   ]
  },
  {
   "cell_type": "code",
   "execution_count": 5,
   "metadata": {
    "collapsed": false
   },
   "outputs": [],
   "source": [
    "# First observation's features and target.\n",
    "x0 = X[0]\n",
    "y0 = y[0]\n",
    "\n",
    "# Initialize parameters, we have 5 units and just 1 layer.\n",
    "theta_init = np.random.normal(0,0.01,size=(5,1))\n",
    "def singlecost(X, y, theta):\n",
    "    # Compute activation.\n",
    "    h = sigmoid_activation(X.T, theta)\n",
    "    # Take the negative average of target*log(activation) + (1-target) * log(1-activation).\n",
    "    cost = -np.mean(y * np.log(h) + (1-y) * np.log(1-h))\n",
    "    return cost\n",
    "\n",
    "first_cost = singlecost(x0, y0, theta_init)"
   ]
  },
  {
   "cell_type": "markdown",
   "metadata": {},
   "source": [
    "###4: Compute the Gradients"
   ]
  },
  {
   "cell_type": "markdown",
   "metadata": {},
   "source": [
    "Calculating derivatives are more complicated in neural networks than in linear regression. Here we must compute the overall error and then distribute that error to each parameter. Compute the derivative using the chain rule:\n",
    "\n",
    "$\\dfrac{\\partial J}{\\partial \\theta_j} = \\dfrac{\\partial J}{\\partial h(\\Theta)} \\dfrac{\\partial h(\\Theta)}{\\partial \\theta_j}$\n",
    "\n",
    "This rule may look complicated, but we can break it down. The first part is computing the error between the target variable and prediction. The second part then computes the sensitivity relative to each parameter. In the end, the gradients are computed as: $\\delta = (y_i - h_\\Theta(x_i)) * h_\\Theta(x_i) * (1-h_\\Theta(x_i)) * x_i$.\n",
    "\n",
    "Now we will step through the math. $(y_i - h_\\Theta(x_i))$ is a scalar and the error between our target and prediction. $h_\\Theta(x_i) * (1-h_\\Theta(x_i))$ is also a scalar and the sensitivity of the activation function. $x_i$ is the features for our observation $i$. $\\delta$ is then a vector of length 5, 4 features plus a bias unit, corresponding to the gradients.\n",
    "\n",
    "To implement this, we compute $\\delta$ for each observation, then average to get the average gradient. The average gradient is then used to update the corresponding parameters."
   ]
  },
  {
   "cell_type": "markdown",
   "metadata": {},
   "source": [
    "####Instructions"
   ]
  },
  {
   "cell_type": "markdown",
   "metadata": {},
   "source": [
    "Compute the average gradients over each observation in X and corresponding target y with the initialized parameters theta_init. Assign the average gradients to variable grads.\n",
    "\n",
    "Write a function gradients() which will estimate and return the gradient of each parameter in a vector. The inputs of this function should be features (X), observations (y), a set of parameters (theta), and an epsilon (eps) to control the numerial computation. Assign the gradients using theta_init, X, y, and eps to variable first_gradient."
   ]
  },
  {
   "cell_type": "code",
   "execution_count": 6,
   "metadata": {
    "collapsed": false
   },
   "outputs": [],
   "source": [
    "# Initialize parameters.\n",
    "theta_init = np.random.normal(0,0.01,size=(5,1))\n",
    "\n",
    "# Store the updates into this array.\n",
    "grads = np.zeros(theta_init.shape)\n",
    "\n",
    "# Number of observations.\n",
    "n = X.shape[0]\n",
    "for j, obs in enumerate(X):\n",
    "    # Compute activation.\n",
    "    h = sigmoid_activation(obs, theta_init)\n",
    "    # Get delta.\n",
    "    delta = (y[j]-h) * h * (1-h) * obs\n",
    "    # Accumulate.\n",
    "    grads += delta[:,np.newaxis]/X.shape[0]"
   ]
  },
  {
   "cell_type": "markdown",
   "metadata": {},
   "source": [
    "###5: Two layer network"
   ]
  },
  {
   "cell_type": "markdown",
   "metadata": {},
   "source": [
    "Now that you can compute the gradients, use gradient descent to learn the parameters and predict the species of iris flower given the 4 features. Gradient descent minimizes the cost function by adjusting the parameters accordingly. Adjust the parameters by substracting the product of the gradients and the learning rate from the previous parameters. Repeat until the cost function coverges or a maximum number of iterations is reached.\n",
    "\n",
    "The high level algorithm is,\n",
    "\n",
    "    while ( number_of_iterations < max_iterations and (prev_cost - cost) > convergence_thres ) {\n",
    "      update paramaters\n",
    "      get new cost\n",
    "      repeat\n",
    "    }\n",
    "\n",
    "We have implemented all these pieces in a single function learn() that can learn this two layer network. After setting a few initial variables, we begin to iterate until convergence. During each iteration we compute our gradients, update accordingly, and compute the new cost."
   ]
  },
  {
   "cell_type": "code",
   "execution_count": 7,
   "metadata": {
    "collapsed": false
   },
   "outputs": [
    {
     "data": {
      "image/png": "[encoded data removed]",
      "text/plain": [
       "<matplotlib.figure.Figure at 0xb456390>"
      ]
     },
     "metadata": {},
     "output_type": "display_data"
    }
   ],
   "source": [
    "import matplotlib.pyplot as plt\n",
    "%matplotlib inline\n",
    "\n",
    "theta_init = np.random.normal(0,0.01,size=(5,1))\n",
    "\n",
    "# Set a learning rate.\n",
    "learning_rate = 0.1\n",
    "# Maximum number of iterations for gradient descent.\n",
    "maxepochs = 10000       \n",
    "# Costs convergence threshold, ie. (prevcost - cost) > convergence_thres.\n",
    "convergence_thres = 0.0001  \n",
    "\n",
    "def learn(X, y, theta, learning_rate, maxepochs, convergence_thres):\n",
    "    costs = []\n",
    "    cost = singlecost(X, y, theta) # Compute initial cost.\n",
    "    costprev = cost + convergence_thres + 0.01 # Set an inital costprev to past while loop.\n",
    "    counter = 0 # Add a counter.\n",
    "    # Loop through until convergence.\n",
    "    for counter in range(maxepochs):\n",
    "        grads = np.zeros(theta.shape)\n",
    "        for j, obs in enumerate(X):\n",
    "            h = sigmoid_activation(obs, theta) # Compute activation.\n",
    "            delta = (y[j]-h) * h * (1-h) * obs # Get delta.\n",
    "            grads += delta[:,np.newaxis]/X.shape[0] # Accumulate.\n",
    "        \n",
    "        # Update parameters.\n",
    "        theta += grads * learning_rate\n",
    "        counter += 1\n",
    "        costprev = cost # Store prev cost.\n",
    "        cost = singlecost(X, y, theta) # Compute new cost.\n",
    "        costs.append(cost)\n",
    "        if np.abs(costprev-cost) < convergence_thres:\n",
    "            break\n",
    "        \n",
    "    plt.plot(costs)\n",
    "    plt.title(\"Convergence of the Cost Function\")\n",
    "    plt.ylabel(\"J($\\Theta$)\")\n",
    "    plt.xlabel(\"Iteration\")\n",
    "    plt.show()\n",
    "    return theta\n",
    "        \n",
    "theta = learn(X, y, theta_init, learning_rate, maxepochs, convergence_thres)"
   ]
  },
  {
   "cell_type": "markdown",
   "metadata": {},
   "source": [
    "###6: Neural Network"
   ]
  },
  {
   "cell_type": "markdown",
   "metadata": {},
   "source": [
    "Neural networks are usually built using mulitple layers of neurons. Adding more layers into the network allows you to learn more complex functions.\n",
    "\n",
    "An example neural network has 3 layer neural network with four input variables x1,x2,x3, and x4 and a bias unit. Each variable and bias unit is then sent to four hidden units, a(2)1,a(2)2,a(2)3, and a(2)4. The hidden units have different sets of parameters $\\theta$.\n",
    "\n",
    "$a_1^{(2)} = g(\\theta_{1,0}^{(1)} + \\theta_{1,1}^{(1)} x_1 + \\theta_{1,2}^{(1)} x_2 + \\theta_{1,3}^{(1)} x_3 + \\theta_{1,4}^{(1)} x_4)$\n",
    "\n",
    "$a_2^{(2)} = g(\\theta_{2,0}^{(1)} + \\theta_{2,1}^{(1)} x_1 + \\theta_{2,2}^{(1)} x_2 + \\theta_{2,3}^{(1)} x_3 + \\theta_{2,4}^{(1)} x_4)$\n",
    "\n",
    "$a_3^{(2)} = g(\\theta_{3,0}^{(1)} + \\theta_{3,1}^{(1)} x_1 + \\theta_{3,2}^{(1)} x_2 + \\theta_{3,3}^{(1)} x_3 + \\theta_{3,4}^{(1)} x_4)$\n",
    "\n",
    "$a_4^{(2)} = g(\\theta_{4,0}^{(1)} + \\theta_{4,1}^{(1)} x_1 + \\theta_{4,2}^{(1)} x_2 + \\theta_{4,3}^{(1)} x_3 + \\theta_{4,4}^{(1)} x_4)$\n",
    "\n",
    "$\\theta_{i,k}^{(j)}$ represents the parameter of input unit $k$ which transform the units in layer $j$ to activation unit $a_i^{(j+1)}$.\n",
    "\n",
    "This layer is known as a hidden layer because the user does not directly interact with it by passing or retrieving data. The third and final layer is the output, or prediction, of our model. Similar to how each variable was sent to each neuron in the hidden layer, the activation units in each neuron are then sent to each neuron on the next layer. Since there is only a single layer, we can write it as:\n",
    "\n",
    "$h_{\\Theta}(X) = g(\\theta_{1,0}^{(2)} + \\theta_{1,1}^{(2)} a_1^{(2)} + \\theta_{1,2}^{(2)} a_2^{(2)} + \\theta_{1,3}^{(2)} a_3^{(2)} + \\theta_{1,4}^{(2)} a_4^{(2)})$\n",
    "\n",
    "While the mathematical notation may seem confusing at first, at a high level, we are organizing multiple logistic regression models to create a more complex function."
   ]
  },
  {
   "cell_type": "markdown",
   "metadata": {},
   "source": [
    "####Instructions"
   ]
  },
  {
   "cell_type": "markdown",
   "metadata": {},
   "source": [
    "Write a function feedforward() that will take in an input X and two sets of parameters theta0 and theta1 to compute the output $h_{\\Theta}(X)$. Assign the output to variable h using features X and parameters theta0_init and theta1_init."
   ]
  },
  {
   "cell_type": "code",
   "execution_count": 8,
   "metadata": {
    "collapsed": false
   },
   "outputs": [
    {
     "name": "stdout",
     "output_type": "stream",
     "text": [
      "h:\n",
      " [[ 0.50367013  0.50367445  0.50367333  0.50368859  0.50367454  0.50367181\n",
      "   0.50368795  0.50367393  0.50366919  0.50368791  0.50368751  0.50368864\n",
      "   0.50366186  0.50368741  0.50368806  0.50368673  0.5036875   0.5036744\n",
      "   0.50368878  0.5036868   0.50368673  0.5036737   0.50368882  0.5036696\n",
      "   0.5036677   0.5036877   0.50367228  0.50368852  0.50367202  0.50367098\n",
      "   0.50367415  0.50367679  0.50366931  0.50367228  0.50366743  0.50367529\n",
      "   0.50367115  0.50367387  0.50366882  0.50366893  0.50368748  0.50368719\n",
      "   0.50366685  0.50366804  0.50367016  0.50368673  0.50367231  0.50367113\n",
      "   0.50366437  0.50367415  0.50366832  0.50368983  0.5036664   0.50366996\n",
      "   0.50366208  0.50367336  0.50368674  0.50366762  0.50367418  0.50366416\n",
      "   0.50367541  0.50367094  0.50368772  0.50367321  0.50368573  0.5036693\n",
      "   0.5036889   0.50368978  0.50367276  0.50368702  0.5036877   0.5036704\n",
      "   0.50365874  0.50366385  0.5036868   0.50367126  0.50367883  0.50367099\n",
      "   0.50367167  0.50366031  0.50366619  0.5036891   0.50367265  0.50366991\n",
      "   0.50367097  0.50368573  0.50366759  0.50366328  0.50366695  0.50367016\n",
      "   0.50368793  0.50366756  0.50366822  0.50366753  0.50368828  0.50366883\n",
      "   0.50367615  0.50368774  0.50368735  0.50366172  0.5036865   0.5036702\n",
      "   0.5036742   0.50368568  0.50366992  0.50367514  0.5036723   0.50365743\n",
      "   0.50366699  0.50367116  0.50368807  0.50366708  0.50367396  0.50368943\n",
      "   0.50368941  0.50367193  0.50368871  0.503688    0.50367011  0.50367292\n",
      "   0.50368951  0.5036687   0.50366745  0.50369165  0.50367423  0.50368897\n",
      "   0.50368766  0.50366874  0.50366821  0.50368969  0.50367451  0.50366999\n",
      "   0.50367711  0.50366652  0.50366812  0.50366888  0.50368976  0.50366857\n",
      "   0.50367416  0.50368666  0.50367058  0.50366681  0.50366451  0.50366825\n",
      "   0.50367316  0.50368745  0.50367782  0.5036865   0.50366292  0.50368819]]\n"
     ]
    }
   ],
   "source": [
    "theta0_init = np.random.normal(0,0.01,size=(5,4))\n",
    "theta1_init = np.random.normal(0,0.01,size=(5,1))\n",
    "\n",
    "def feedforward(X, theta0, theta1):\n",
    "    # Feedforward to the first layer.\n",
    "    a1 = sigmoid_activation(X.T, theta0).T\n",
    "    # Add a column of ones for bias term.\n",
    "    a1 = np.column_stack([np.ones(a1.shape[0]), a1])\n",
    "    # Activation units are then inputted to the output layer.\n",
    "    out = sigmoid_activation(a1.T, theta1)\n",
    "    return out\n",
    "\n",
    "h = feedforward(X, theta0_init, theta1_init)\n",
    "print(\"h:\\n\", h)"
   ]
  },
  {
   "cell_type": "markdown",
   "metadata": {},
   "source": [
    "###7: Multiple neural network cost function"
   ]
  },
  {
   "cell_type": "markdown",
   "metadata": {},
   "source": [
    "The cost function to multiple layer neural networks is identical to the cost function previously used above, but hΘ(xi) is more complicated.\n",
    "\n",
    "$J(\\Theta) = -\\dfrac{1}{m} \\sum_{i=1}^m (y_{i} * log(h_{\\Theta}(x_{i}))  +  (1-y_{i}) log(1-h_{\\Theta}(x_i))$"
   ]
  },
  {
   "cell_type": "markdown",
   "metadata": {},
   "source": [
    "####Instructions"
   ]
  },
  {
   "cell_type": "markdown",
   "metadata": {},
   "source": [
    "Write a function multiplecost() which estimates the cost function. Use the observations in X, targets y and inital parameters theta0_init and theta1_init. Assign the cost to variable c."
   ]
  },
  {
   "cell_type": "code",
   "execution_count": 9,
   "metadata": {
    "collapsed": false
   },
   "outputs": [
    {
     "name": "stdout",
     "output_type": "stream",
     "text": [
      "c: 0.696836613836\n"
     ]
    }
   ],
   "source": [
    "theta0_init = np.random.normal(0,0.01,size=(5,4))\n",
    "theta1_init = np.random.normal(0,0.01,size=(5,1))\n",
    "\n",
    "# X and y are in memory and should be used as inputs to multiplecost().\n",
    "def multiplecost(X, y, theta0, theta1):\n",
    "    # Feed through network.\n",
    "    h = feedforward(X, theta0, theta1) \n",
    "    # Compute error.\n",
    "    inner = y * np.log(h) + (1-y) * np.log(1-h)\n",
    "    # Negative of average error.\n",
    "    return -np.mean(inner)\n",
    "\n",
    "c = multiplecost(X, y, theta0_init, theta1_init)\n",
    "print(\"c:\", c)"
   ]
  },
  {
   "cell_type": "markdown",
   "metadata": {},
   "source": [
    "###8: Backpropagation"
   ]
  },
  {
   "cell_type": "markdown",
   "metadata": {},
   "source": [
    "Now that we have mulitple layers of parameters to learn, we must implement a method called backpropagation. We've already implemented forward propagation by feeding the data through each layer and returning an output. Backpropagation focuses on updating parameters starting at the last layer and circling back through each layer, updating accordingly. As there are multiple layers we are forced to compute $\\dfrac{\\partial}{\\partial \\Theta_{i,j}^{(l)}} J(\\Theta)$ where $l$ is the layer. For a three layer network, use the following approach,\n",
    "\n",
    "$\\delta_j^l \\text{ is the 'error' for unit j in layer l}$\n",
    "\n",
    "$\\delta^3 = h_\\Theta(X) - y$\n",
    "\n",
    "$\\delta^2 = (\\Theta^{(2)})^T \\delta^3 .* g^{'}(z^{(2)})$\n",
    "\n",
    "$\\text{There is no } \\delta^1 \\text{ since the first layer are the features and have no error.}$\n",
    "\n",
    "In the code cell below, we have written code to train a three layer neural network. You will notice that there are many parameters and moving parts to this algorithm. To make the code more modular, we have refactored our previous code as a class, allowing us to organize related attributes and methods.\n",
    "\n",
    "We have reused feedforward() and multiplecost() but in more condensed forms. During initialization, we set attributes like the learning rate, maximum number of iterations to convergence, and number of units in the hidden layer. In learn() you'll find the backpropagation algorithm, which computes the gradients and updates the parameters. We then test the class by using the features and the species of the flower."
   ]
  },
  {
   "cell_type": "code",
   "execution_count": 10,
   "metadata": {
    "collapsed": false
   },
   "outputs": [
    {
     "data": {
      "image/png": "[encoded data removed]",
      "text/plain": [
       "<matplotlib.figure.Figure at 0xb3696d8>"
      ]
     },
     "metadata": {},
     "output_type": "display_data"
    }
   ],
   "source": [
    "import matplotlib.pyplot as plt\n",
    "%matplotlib inline\n",
    "\n",
    "# Use a class for this model, it's good practice and condenses the code.\n",
    "class NNet3:\n",
    "    def __init__(self, learning_rate=0.5, maxepochs=1e4, convergence_thres=1e-5, hidden_layer=4):\n",
    "        self.learning_rate = learning_rate\n",
    "        self.maxepochs = int(maxepochs)\n",
    "        self.convergence_thres = 1e-5\n",
    "        self.hidden_layer = int(hidden_layer)\n",
    "        \n",
    "    def _multiplecost(self, X, y):\n",
    "        # Feed through network.\n",
    "        l1, l2 = self._feedforward(X) \n",
    "        # Compute error.\n",
    "        inner = y * np.log(l2) + (1-y) * np.log(1-l2)\n",
    "        # Negative of average error.\n",
    "        return -np.mean(inner)\n",
    "    \n",
    "    def _feedforward(self, X):\n",
    "        # Feedforward to the first layer.\n",
    "        l1 = sigmoid_activation(X.T, self.theta0).T\n",
    "        # Add a column of ones for bias term.\n",
    "        l1 = np.column_stack([np.ones(l1.shape[0]), l1])\n",
    "        # Activation units are then inputted to the output layer.\n",
    "        l2 = sigmoid_activation(l1.T, self.theta1)\n",
    "        return l1, l2\n",
    "    \n",
    "    def predict(self, X):\n",
    "        _, y = self._feedforward(X)\n",
    "        return y\n",
    "    \n",
    "    def learn(self, X, y):\n",
    "        nobs, ncols = X.shape\n",
    "        self.theta0 = np.random.normal(0,0.01,size=(ncols,self.hidden_layer))\n",
    "        self.theta1 = np.random.normal(0,0.01,size=(self.hidden_layer+1,1))\n",
    "        \n",
    "        self.costs = []\n",
    "        cost = self._multiplecost(X, y)\n",
    "        self.costs.append(cost)\n",
    "        costprev = cost + self.convergence_thres+1 # Set an inital costprev to past while loop.\n",
    "        counter = 0 # Intialize a counter.\n",
    "\n",
    "        # Loop through until convergence.\n",
    "        for counter in range(self.maxepochs):\n",
    "            # Feedforward through network.\n",
    "            l1, l2 = self._feedforward(X)\n",
    "\n",
    "            # Start backpropagation.\n",
    "            # Compute gradients.\n",
    "            l2_delta = (y-l2) * l2 * (1-l2)\n",
    "            l1_delta = l2_delta.T.dot(self.theta1.T) * l1 * (1-l1)\n",
    "\n",
    "            # Update parameters by averaging gradients and multiplying by the learning rate.\n",
    "            self.theta1 += l1.T.dot(l2_delta.T) / nobs * self.learning_rate\n",
    "            self.theta0 += X.T.dot(l1_delta)[:,1:] / nobs * self.learning_rate\n",
    "            \n",
    "            # Store costs and check for convergence.\n",
    "            counter += 1\n",
    "            costprev = cost # Store prev cost.\n",
    "            cost = self._multiplecost(X, y) # Get next cost.\n",
    "            self.costs.append(cost)\n",
    "            if np.abs(costprev-cost) < self.convergence_thres and counter > 500:\n",
    "                break\n",
    "\n",
    "# Set a learning rate.\n",
    "learning_rate = 0.5\n",
    "# Maximum number of iterations for gradient descent.\n",
    "maxepochs = 10000       \n",
    "# Costs convergence threshold, ie. (prevcost - cost) > convergence_thres.\n",
    "convergence_thres = 0.00001  \n",
    "# Number of hidden units.\n",
    "hidden_units = 4\n",
    "\n",
    "# Initialize model.\n",
    "model = NNet3(learning_rate=learning_rate, maxepochs=maxepochs,\n",
    "              convergence_thres=convergence_thres, hidden_layer=hidden_units)\n",
    "# Train model.\n",
    "model.learn(X, y)\n",
    "\n",
    "# Plot costs.\n",
    "plt.plot(model.costs)\n",
    "plt.title(\"Convergence of the Cost Function\")\n",
    "plt.ylabel(\"J($\\Theta$)\")\n",
    "plt.xlabel(\"Iteration\")\n",
    "plt.show()"
   ]
  },
  {
   "cell_type": "markdown",
   "metadata": {},
   "source": [
    "###9: Splitting data"
   ]
  },
  {
   "cell_type": "markdown",
   "metadata": {},
   "source": [
    "Now that we have learned about neural networks, learned about backpropagation, and have code which will train a 3-layer neural network, we will split the data into training and test datasets and run the model."
   ]
  },
  {
   "cell_type": "markdown",
   "metadata": {},
   "source": [
    "####Instructions"
   ]
  },
  {
   "cell_type": "markdown",
   "metadata": {},
   "source": [
    "Choose the first 70 rows in both X and y assigning them respectively to X_train and y_train. The last 30 rows should be assigned to variables X_test and y_test."
   ]
  },
  {
   "cell_type": "code",
   "execution_count": 11,
   "metadata": {
    "collapsed": true
   },
   "outputs": [],
   "source": [
    "# First 70 rows to X_train and y_train.\n",
    "# Last 30 rows to X_train and y_train.\n",
    "X_train = X[:70]\n",
    "y_train = y[:70]\n",
    "\n",
    "X_test = X[-30:]\n",
    "y_test = y[-30:]"
   ]
  },
  {
   "cell_type": "markdown",
   "metadata": {},
   "source": [
    "###10: Predicting iris flowers"
   ]
  },
  {
   "cell_type": "markdown",
   "metadata": {},
   "source": [
    "To benchmark how well a three layer neural network performs when predicting the species of iris flowers, you will have to compute the AUC, area under the curve, score of the receiver operating characteristic. The function NNet3 not only trains the model but also returns the predictions. The method predict() will return a 2D matrix of probabilities. Since there is only one target variable in this neural network, select the first row of this matrix, which corresponds to the type of flower."
   ]
  },
  {
   "cell_type": "markdown",
   "metadata": {},
   "source": [
    "####Instructions"
   ]
  },
  {
   "cell_type": "markdown",
   "metadata": {},
   "source": [
    "Train the neural network using X_test and y_test and model, which has been initialized with a set of parameters. Once training is complete, use the predict() function to return the probabilities of the flower matching the species Iris-versicolor. Compute the AUC score, using roc_auc_score() and assign it to auc."
   ]
  },
  {
   "cell_type": "code",
   "execution_count": 12,
   "metadata": {
    "collapsed": false
   },
   "outputs": [
    {
     "name": "stdout",
     "output_type": "stream",
     "text": [
      "yhat:\n",
      " [ 0.03813336  0.53067014  0.53142452  0.01621694  0.52952666  0.03103196\n",
      "  0.07921387  0.53096063  0.53104193  0.02971528  0.52387143  0.52910485\n",
      "  0.51003402  0.53142621  0.53168838  0.52994371  0.02100924  0.53116928\n",
      "  0.52214693  0.05558063  0.52898834  0.53162224  0.5316589   0.53058843\n",
      "  0.52622519  0.07020778  0.50794709  0.0981216   0.53179472  0.03494109]\n",
      "auc: 0.486772486772\n"
     ]
    }
   ],
   "source": [
    "from sklearn.metrics import roc_auc_score\n",
    "\n",
    "# Set a learning rate.\n",
    "learning_rate = 0.5\n",
    "# Maximum number of iterations for gradient descent.\n",
    "maxepochs = 10000       \n",
    "# Costs convergence threshold, ie. (prevcost - cost) > convergence_thres.\n",
    "convergence_thres = 0.00001  \n",
    "# Number of hidden units.\n",
    "hidden_units = 4\n",
    "\n",
    "# Initialize model.\n",
    "model = NNet3(learning_rate=learning_rate, maxepochs=maxepochs,\n",
    "              convergence_thres=convergence_thres, hidden_layer=hidden_units)\n",
    "model.learn(X_train, y_train)\n",
    "\n",
    "yhat = model.predict(X_test)[0]\n",
    "print(\"yhat:\\n\", yhat)\n",
    "\n",
    "auc = roc_auc_score(y_test, yhat)\n",
    "print(\"auc:\", auc)"
   ]
  }
 ],
 "metadata": {
  "kernelspec": {
   "display_name": "Python 3",
   "language": "python",
   "name": "python3"
  },
  "language_info": {
   "codemirror_mode": {
    "name": "ipython",
    "version": 3
   },
   "file_extension": ".py",
   "mimetype": "text/x-python",
   "name": "python",
   "nbconvert_exporter": "python",
   "pygments_lexer": "ipython3",
   "version": "3.4.3"
  }
 },
 "nbformat": 4,
 "nbformat_minor": 0
}
