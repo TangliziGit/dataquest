{
 "cells": [
  {
   "cell_type": "code",
   "execution_count": 1,
   "metadata": {
    "collapsed": true
   },
   "outputs": [],
   "source": [
    "from __future__ import print_function"
   ]
  },
  {
   "cell_type": "markdown",
   "metadata": {},
   "source": [
    "#SQL and Databases"
   ]
  },
  {
   "cell_type": "markdown",
   "metadata": {},
   "source": [
    "##Combining SQL operators"
   ]
  },
  {
   "cell_type": "code",
   "execution_count": 2,
   "metadata": {
    "collapsed": false
   },
   "outputs": [],
   "source": [
    "import csv, sqlite3\n",
    "\n",
    "conn = sqlite3.connect(\":memory:\")\n",
    "curs = conn.cursor()\n",
    "curs.execute(\"\"\"\n",
    "CREATE TABLE recent_grads (\n",
    "Rank INTEGER PRIMARY KEY, \n",
    "Major_code INTEGER, \n",
    "Major TEXT, \n",
    "Major_category INTEGER, \n",
    "Total INTEGER, \n",
    "Sample_size INTEGER, \n",
    "Men INTEGER, \n",
    "Women INTEGER, \n",
    "ShareWomen DECIMAL, \n",
    "Employed INTEGER, \n",
    "Full_time INTEGER, \n",
    "Part_time INTEGER, \n",
    "Full_time_year_round INTEGER, \n",
    "Unemployed INTEGER, \n",
    "Unemployment_rate DECIMAL, \n",
    "Median INTEGER, \n",
    "P25th INTEGER, \n",
    "P75th INTEGER, \n",
    "College_jobs INTEGER, \n",
    "Non_college_jobs INTEGER, \n",
    "Low_wage_jobs INTEGER\n",
    ");\n",
    "\"\"\")\n",
    "\n",
    "with open(\"data/recent-grads.csv\", \"r\") as fin:\n",
    "    # csv.DictReader uses first line in file for column headings by default\n",
    "    dr = csv.DictReader(fin) # comma is default delimiter\n",
    "    to_db = [(i[\"Rank\"], \n",
    "              i[\"Major_code\"],\n",
    "              i[\"Major\"],\n",
    "              i[\"Major_category\"],\n",
    "              i[\"Total\"],\n",
    "              i[\"Sample_size\"],\n",
    "              i[\"Men\"],\n",
    "              i[\"Women\"],\n",
    "              i[\"ShareWomen\"],\n",
    "              i[\"Employed\"],\n",
    "              i[\"Full_time\"],\n",
    "              i[\"Part_time\"],\n",
    "              i[\"Full_time_year_round\"],\n",
    "              i[\"Unemployed\"],\n",
    "              i[\"Unemployment_rate\"],\n",
    "              i[\"Median\"],\n",
    "              i[\"P25th\"],\n",
    "              i[\"P75th\"], \n",
    "              i[\"College_jobs\"],\n",
    "              i[\"Non_college_jobs\"],\n",
    "              i[\"Low_wage_jobs\"]) for i in dr]\n",
    "\n",
    "curs.executemany(\"\"\"\n",
    "INSERT INTO recent_grads (\n",
    "Rank, \n",
    "Major_code, \n",
    "Major, \n",
    "Major_category, \n",
    "Total, \n",
    "Sample_size, \n",
    "Men, \n",
    "Women, \n",
    "ShareWomen, \n",
    "Employed,\n",
    "Full_time, \n",
    "Part_time, \n",
    "Full_time_year_round, \n",
    "Unemployed, \n",
    "Unemployment_rate, \n",
    "Median, \n",
    "P25th, \n",
    "P75th, \n",
    "College_jobs, \n",
    "Non_college_jobs, \n",
    "Low_wage_jobs) \n",
    "VALUES (?, ?, ?, ?, ?, ?, ?, ?, ?, ?, ?, ?, ?, ?, ?, ?, ?, ?, ?, ?, ?);\n",
    "\"\"\", to_db)\n",
    "\n",
    "conn.commit()"
   ]
  },
  {
   "cell_type": "markdown",
   "metadata": {},
   "source": [
    "###1: Logical Operators"
   ]
  },
  {
   "cell_type": "markdown",
   "metadata": {},
   "source": [
    "What if we want to use multiple filtering criteria to specify the data we want from the database?\n",
    "\n",
    "Logical operators are keywords you can use to combine filtering criteria to express more specific conditions. Here are the 2 basic logical operators you will often use:\n",
    "\n",
    "- Condition1 or Condition2: OR\n",
    "- Condition1 and Condition2: AND"
   ]
  },
  {
   "cell_type": "markdown",
   "metadata": {},
   "source": [
    "###2: And"
   ]
  },
  {
   "cell_type": "markdown",
   "metadata": {},
   "source": [
    "The following is psuedo-code to help you conceptualize how the AND statement is used with a WHERE statement:\n",
    "\n",
    "    SELECT [column1, column2,...] FROM [table1]\n",
    "    WHERE [condition1] AND [condition2]\n",
    "\n",
    "Instead of first writing a SQL query to pull all majors with majority women and then using Python to filter the results, we can use the AND operator to combine the 2 filtering criteria in SQL itself. Let's see what that query would look like:\n",
    "\n",
    "    SELECT Major,ShareWomen,Employed FROM recent_grads \n",
    "    WHERE ShareWomen>0.5 AND Employed>10000;\n",
    "\n",
    "We want the database to return all rows where both conditions are true:\n",
    "\n",
    "- ShareWomen > 0.5\n",
    "- Employed > 10000\n",
    "\n",
    "We use the Python string <a href = \"https://pyformat.info/#simple\">format function</a> to print how many majors met both criteria."
   ]
  },
  {
   "cell_type": "code",
   "execution_count": 3,
   "metadata": {
    "collapsed": false
   },
   "outputs": [
    {
     "name": "stdout",
     "output_type": "stream",
     "text": [
      "[('COMPUTER SCIENCE', 0.578766338, 102087), ('NURSING', 0.896018988, 180903), ('COMPUTER AND INFORMATION SYSTEMS', 0.707718502, 28459), ('INTERNATIONAL RELATIONS', 0.632986838, 21190), ('AGRICULTURE PRODUCTION AND MANAGEMENT', 0.59420765, 12323), ('CHEMISTRY', 0.505140538, 48535), ('BUSINESS MANAGEMENT AND ADMINISTRATION', 0.580948004, 276234), ('BIOCHEMICAL SCIENCES', 0.515406449, 25678), ('HUMAN RESOURCES AND PERSONNEL MANAGEMENT', 0.672161443, 20760), ('MISCELLANEOUS HEALTH MEDICAL PROFESSIONS', 0.702020202, 10076), ('ENVIRONMENTAL SCIENCE', 0.584556133, 20859), ('JOURNALISM', 0.719858952, 61022), ('MULTI-DISCIPLINARY OR GENERAL SCIENCE', 0.669998505, 46138), ('ADVERTISING AND PUBLIC RELATIONS', 0.673143392, 45326), ('AREA ETHNIC AND CIVILIZATION STUDIES', 0.758060269, 24629), ('PHYSIOLOGY', 0.906677337, 14643), ('CRIMINOLOGY', 0.618223028, 16181), ('NUTRITION SCIENCES', 0.63814682, 13217), ('HEALTH AND MEDICAL ADMINISTRATIVE SERVICES', 0.770901106, 15419), ('COMMUNICATION TECHNOLOGIES', 0.864456079, 14779), ('NATURAL RESOURCES MANAGEMENT', 0.564639335, 11797), ('GENERAL EDUCATION', 0.812876606, 118241), ('HISTORY', 0.651741294, 105646), ('FRENCH GERMAN LATIN AND OTHER COMMON FOREIGN LANGUAGE STUDIES', 0.728032591, 38315), ('INTERCULTURAL AND INTERNATIONAL STUDIES', 0.507376968, 18824), ('SOCIAL SCIENCE OR HISTORY TEACHER EDUCATION', 0.733967583, 17700), ('COMMUNITY AND PUBLIC HEALTH', 0.652129817, 14512), ('MATHEMATICS TEACHER EDUCATION', 0.792095262, 13115), ('BIOLOGY', 0.601858152, 182295), ('SOCIOLOGY', 0.532333788, 92721), ('MASS MEDIA', 0.877227528, 44679), ('TREATMENT THERAPY PROFESSIONS', 0.64, 37861), ('HOSPITALITY MANAGEMENT', 0.733991928, 36728), ('LANGUAGE AND DRAMA EDUCATION', 0.576360061, 26033), ('LINGUISTICS AND COMPARATIVE LANGUAGE AND LITERATURE', 0.76432029, 11165), ('SECONDARY TEACHER EDUCATION', 0.601751825, 15116), ('GENERAL MEDICAL AND HEALTH SERVICES', 0.774576624, 24406), ('ART AND MUSIC EDUCATION', 0.6860244, 30007), ('ELEMENTARY EDUCATION', 0.923745479, 149339), ('PHYSICAL FITNESS PARKS RECREATION AND LEISURE', 0.683942619, 103078), ('LIBERAL ARTS', 0.70089843, 54844), ('FILM VIDEO AND PHOTOGRAPHIC ARTS', 0.686992952, 31433), ('PSYCHOLOGY', 0.779933204, 307933), ('PHYSICAL AND HEALTH EDUCATION TEACHING', 0.506720763, 23794), ('ART HISTORY AND CRITICISM', 0.845934379, 17579), ('FINE ARTS', 0.667033853, 59679), ('FAMILY AND CONSUMER SCIENCES', 0.752143884, 46624), ('SOCIAL WORK', 0.810704147, 45038), ('ANIMAL SCIENCES', 0.91093257, 17112), ('VISUAL AND PERFORMING ARTS', 0.697384245, 12870), ('TEACHER EDUCATION: MULTIPLE LEVELS', 0.798919817, 13076), ('THEOLOGY AND RELIGIOUS VOCATIONS', 0.728494624, 24202), ('STUDIO ARTS', 0.584776403, 13908), ('ANTHROPOLOGY AND ARCHEOLOGY', 0.968953683, 29633), ('COMMUNICATION DISORDERS SCIENCES AND SERVICES', 0.707136237, 29763), ('EARLY CHILDHOOD EDUCATION', 0.967998119, 32551), ('DRAMA AND THEATER ARTS', 0.629504564, 36165), ('COMPOSITION AND RHETORIC', 0.666119448, 15053)]\n",
      "58 majors\n"
     ]
    }
   ],
   "source": [
    "query = \"\"\"\n",
    "SELECT Major, ShareWomen, Employed\n",
    "FROM recent_grads\n",
    "WHERE ShareWomen > 0.5 AND Employed > 10000;\n",
    "\"\"\"\n",
    "\n",
    "both_conditions = conn.execute(query).fetchall()\n",
    "\n",
    "print(both_conditions)\n",
    "print('{} majors'.format(len(both_conditions)))"
   ]
  },
  {
   "cell_type": "markdown",
   "metadata": {},
   "source": [
    "###3: Or operator"
   ]
  },
  {
   "cell_type": "markdown",
   "metadata": {},
   "source": [
    "We used the AND operator to specify that our filter needs to pass 2 Boolean conditions, both of which had to evaluate to True for the record to be included in the result set. If we instead want to specify a filter that met either of the conditions, we would use the OR operator.\n",
    "\n",
    "    SELECT [column1, column2,...] FROM [table1]\n",
    "    WHERE [condition1] OR [condition2]\n",
    "\n",
    "We'll dive straight into a practice problem since the OR and AND operators are used in similar ways."
   ]
  },
  {
   "cell_type": "markdown",
   "metadata": {},
   "source": [
    "####Instructions"
   ]
  },
  {
   "cell_type": "markdown",
   "metadata": {},
   "source": [
    "Write a SQL query that will return the first 20 majors that either:\n",
    "\n",
    "- had a Median salary greater than or equal to 10,000 or\n",
    "- less than or equal to 1,000 Unemployed people.\n",
    "\n",
    "We only want to include the following columns in the results with the following order:\n",
    "\n",
    "- Major\n",
    "- Median\n",
    "- Unemployed\n",
    "\n",
    "Store the results of the query in a variable named either_conditions."
   ]
  },
  {
   "cell_type": "code",
   "execution_count": 4,
   "metadata": {
    "collapsed": false
   },
   "outputs": [
    {
     "name": "stdout",
     "output_type": "stream",
     "text": [
      "('PETROLEUM ENGINEERING', 110000, 37)\n",
      "('MINING AND MINERAL ENGINEERING', 75000, 85)\n",
      "('METALLURGICAL ENGINEERING', 73000, 16)\n",
      "('NAVAL ARCHITECTURE AND MARINE ENGINEERING', 70000, 40)\n",
      "('CHEMICAL ENGINEERING', 65000, 1672)\n",
      "('NUCLEAR ENGINEERING', 65000, 400)\n",
      "('ACTUARIAL SCIENCE', 62000, 308)\n",
      "('ASTRONOMY AND ASTROPHYSICS', 62000, 33)\n",
      "('MECHANICAL ENGINEERING', 60000, 4650)\n",
      "('ELECTRICAL ENGINEERING', 60000, 3895)\n",
      "('COMPUTER ENGINEERING', 60000, 2275)\n",
      "('AEROSPACE ENGINEERING', 60000, 794)\n",
      "('BIOMEDICAL ENGINEERING', 60000, 1019)\n",
      "('MATERIALS SCIENCE', 60000, 78)\n",
      "('ENGINEERING MECHANICS PHYSICS AND SCIENCE', 58000, 23)\n",
      "('BIOLOGICAL ENGINEERING', 57100, 589)\n",
      "('INDUSTRIAL AND MANUFACTURING ENGINEERING', 57000, 699)\n",
      "('GENERAL ENGINEERING', 56000, 2859)\n",
      "('ARCHITECTURAL ENGINEERING', 54000, 170)\n",
      "('COURT REPORTING', 54000, 11)\n"
     ]
    }
   ],
   "source": [
    "query = \"\"\"\n",
    "SELECT Major, Median, Unemployed \n",
    "FROM recent_grads \n",
    "WHERE Median >= 50000 OR Unemployed <= 1000 LIMIT 20;\n",
    "\"\"\"\n",
    "\n",
    "either_conditions = conn.execute(query).fetchall()\n",
    "\n",
    "for row in either_conditions:\n",
    "    print(row)"
   ]
  },
  {
   "cell_type": "markdown",
   "metadata": {},
   "source": [
    "###4: Grouping operators"
   ]
  },
  {
   "cell_type": "markdown",
   "metadata": {},
   "source": [
    "There is a certain class of questions that can't be answered using just the techniques we've learned so far. If we wanted to write a query that returned all Engineering majors that either had majority women or an unemployment rate below the August 2015 unemployment rate of 5.1%, we'll need to use parentheses to express this more complex logic.\n",
    "\n",
    "The 3 raw conditions we'll need:\n",
    "\n",
    "    Major_category = 'Engineering'\n",
    "    ShareWomen >= 0.5\n",
    "    Unemployment_rate < 0.051\n",
    "\n",
    "How the SQL query looks like using parantheses:\n",
    "\n",
    "    select Major, Major_category, ShareWomen, Unemployment_rate\n",
    "    from recent_grads\n",
    "    where (Major_category = 'Engineering') and (ShareWomen > 0.5 or Unemployment_rate < 0.051);\n",
    "\n",
    "The first thing you may notice is that we didn't capitalize any of the operators or statements in the query. SQL is case-insensitive with its built-in keywords which means we don't have to capitalize operators like AND or statements like SELECT.\n",
    "\n",
    "The second thing you may notice is how we grouped logic we wanted to be evaluated together in parentheses. This is very similar to how we group calculations in math together with a particular order. The parentheses makes it explictly clear to the database that we want all the rows where both the expressions in the statements evaluate to True:\n",
    "\n",
    "    (Major_category = 'Engineering' and ShareWomen > 0.5) -> True or False\n",
    "    (Unemployment_rate < 0.051) -> True or False\n",
    "\n",
    "If we had written the where statement without any parentheses, the database would guess what our intentions are and will actually execute the following query instead:\n",
    "\n",
    "    where (Major_category = 'Engineering' and ShareWomen > 0.5) or (Unemployment_rate < 0.051) \n",
    "\n",
    "Leaving parentheses out implies that we want the calculation to happen from left to right in the order the logic is written and wouldn't return us the data we want. Let's now run our intended query and see the results!"
   ]
  },
  {
   "cell_type": "code",
   "execution_count": 5,
   "metadata": {
    "collapsed": false
   },
   "outputs": [
    {
     "name": "stdout",
     "output_type": "stream",
     "text": [
      "('PETROLEUM ENGINEERING', 'Engineering', 0.120564344, 0.018380527)\n",
      "('METALLURGICAL ENGINEERING', 'Engineering', 0.153037383, 0.024096386)\n",
      "('NAVAL ARCHITECTURE AND MARINE ENGINEERING', 'Engineering', 0.107313196, 0.050125313)\n",
      "('MATERIALS SCIENCE', 'Engineering', 0.310820285, 0.023042836)\n",
      "('ENGINEERING MECHANICS PHYSICS AND SCIENCE', 'Engineering', 0.183985189, 0.006334343)\n",
      "('INDUSTRIAL AND MANUFACTURING ENGINEERING', 'Engineering', 0.343473218, 0.042875544)\n",
      "('MATERIALS ENGINEERING AND MATERIALS SCIENCE', 'Engineering', 0.292607004, 0.027788805)\n",
      "('ENVIRONMENTAL ENGINEERING', 'Engineering', 0.558548009, 0.093588575)\n",
      "('INDUSTRIAL PRODUCTION TECHNOLOGIES', 'Engineering', 0.75047259, 0.028308097)\n",
      "('ENGINEERING AND INDUSTRIAL MANAGEMENT', 'Engineering', 0.174122505, 0.03365166)\n",
      "10 majors\n"
     ]
    }
   ],
   "source": [
    "query = \"\"\"\n",
    "SELECT Major, Major_category, ShareWomen, Unemployment_rate\n",
    "FROM recent_grads\n",
    "WHERE (Major_category = 'Engineering') and (ShareWomen > 0.5 or Unemployment_rate < 0.051);\n",
    "\"\"\"\n",
    "\n",
    "grouped_conditions = conn.execute(query).fetchall()\n",
    "\n",
    "for row in grouped_conditions:\n",
    "    print(row)\n",
    "\n",
    "print('{} majors'.format(len(grouped_conditions)))"
   ]
  },
  {
   "cell_type": "markdown",
   "metadata": {},
   "source": [
    "###5: Practice grouping operators"
   ]
  },
  {
   "cell_type": "markdown",
   "metadata": {},
   "source": [
    "For this practice problem, we've increased the difficulty to give you better practice expressing complex logic."
   ]
  },
  {
   "cell_type": "markdown",
   "metadata": {},
   "source": [
    "####Instructions"
   ]
  },
  {
   "cell_type": "markdown",
   "metadata": {},
   "source": [
    "To practice using multiple operators, we're going to ask you to find all majors that meet the following criteria:\n",
    "\n",
    "- Major_category of Business or Arts or Health\n",
    "\n",
    "and\n",
    "\n",
    "- Employed students greater than 20,000 or Unemployment_rate below 5.1%\n",
    "\n",
    "We're only interested in the following columns (in the following order):\n",
    "\n",
    "- Major\n",
    "- Major_category\n",
    "- Employed\n",
    "- Unemployment_rate\n",
    "\n",
    "Store the results of the query in a variable named complex_conditions."
   ]
  },
  {
   "cell_type": "code",
   "execution_count": 6,
   "metadata": {
    "collapsed": false
   },
   "outputs": [
    {
     "name": "stdout",
     "output_type": "stream",
     "text": [
      "('OPERATIONS LOGISTICS AND E-COMMERCE', 'Business', 10027, 0.047858703)\n",
      "('NURSING', 'Health', 180903, 0.044862724)\n",
      "('FINANCE', 'Business', 145696, 0.060686356)\n",
      "('ACCOUNTING', 'Business', 165527, 0.069749014)\n",
      "('MEDICAL TECHNOLOGIES TECHNICIANS', 'Health', 13150, 0.03698279)\n",
      "('MEDICAL ASSISTING SERVICES', 'Health', 9168, 0.042506527)\n",
      "('GENERAL BUSINESS', 'Business', 190183, 0.072861468)\n",
      "('BUSINESS MANAGEMENT AND ADMINISTRATION', 'Business', 276234, 0.072218341)\n",
      "('MARKETING AND MARKETING RESEARCH', 'Business', 178862, 0.061215064)\n",
      "('HUMAN RESOURCES AND PERSONNEL MANAGEMENT', 'Business', 20760, 0.059569649)\n",
      "('COMMERCIAL ART AND GRAPHIC DESIGN', 'Arts', 83483, 0.096797577)\n",
      "('TREATMENT THERAPY PROFESSIONS', 'Health', 37861, 0.059821207)\n",
      "('HOSPITALITY MANAGEMENT', 'Business', 36728, 0.061169193)\n",
      "('GENERAL MEDICAL AND HEALTH SERVICES', 'Health', 24406, 0.082101621)\n",
      "('FILM VIDEO AND PHOTOGRAPHIC ARTS', 'Arts', 31433, 0.10577224)\n",
      "('MUSIC', 'Arts', 47662, 0.075959674)\n",
      "('FINE ARTS', 'Arts', 59679, 0.084186296)\n",
      "('COMMUNICATION DISORDERS SCIENCES AND SERVICES', 'Health', 29763, 0.047584)\n",
      "('DRAMA AND THEATER ARTS', 'Arts', 36165, 0.07754113)\n",
      "19 majors\n"
     ]
    }
   ],
   "source": [
    "query = \"\"\"\n",
    "SELECT Major, Major_category, Employed, Unemployment_rate\n",
    "FROM recent_grads\n",
    "WHERE (Major_category = 'Business' or Major_category = 'Arts' or Major_category = 'Health') and (Employed > 20000 or Unemployment_rate < 0.051);\n",
    "\"\"\"\n",
    "\n",
    "complex_conditions = conn.execute(query).fetchall()\n",
    "\n",
    "for row in complex_conditions:\n",
    "    print(row)\n",
    "    \n",
    "print('{} majors'.format(len(complex_conditions)))"
   ]
  },
  {
   "cell_type": "markdown",
   "metadata": {},
   "source": [
    "###6: Order by"
   ]
  },
  {
   "cell_type": "markdown",
   "metadata": {},
   "source": [
    "The database has been returning all results ordered by the Rank column because that's how the original dataset was ordered. Since this may not make sense for all queries, SQL comes with a statement, ORDER BY, that allows us to specify, for each query, how we'd like the database to order the results. Using ORDER BY , we can specify not only the column we'd like the database to use to order the results by but also whether we'd like them in ascending (ASC), low to high, or descending (DESC), high to low, order. SQL uses the standard methods of ordering: alphabetically for text fields and numerically for numeric fields.\n",
    "\n",
    "In the following cell, we'll run 2 queries that return the first 10 values in the Employed columns in first ascending (ASC) then descending order (DESC)."
   ]
  },
  {
   "cell_type": "code",
   "execution_count": 7,
   "metadata": {
    "collapsed": false
   },
   "outputs": [
    {
     "name": "stdout",
     "output_type": "stream",
     "text": [
      "Ascending Order \n",
      "\n",
      "(0,)\n",
      "(559,)\n",
      "(604,)\n",
      "(613,)\n",
      "(640,)\n",
      "(648,)\n",
      "(703,)\n",
      "(730,)\n",
      "(742,)\n",
      "(758,)\n",
      "\n",
      " Descending Order \n",
      "\n",
      "(307933,)\n",
      "(276234,)\n",
      "(190183,)\n",
      "(182295,)\n",
      "(180903,)\n",
      "(179633,)\n",
      "(178862,)\n",
      "(165527,)\n",
      "(149339,)\n",
      "(149180,)\n"
     ]
    }
   ],
   "source": [
    "asc_query = \"\"\"\n",
    "SELECT Employed\n",
    "FROM recent_grads\n",
    "ORDER BY Employed asc\n",
    "LIMIT 10;\n",
    "\"\"\"\n",
    "\n",
    "asc_order = conn.execute(asc_query).fetchall()\n",
    "print(\"Ascending Order \\n\")\n",
    "\n",
    "for row in asc_order:\n",
    "    print(row)\n",
    "\n",
    "desc_query = \"\"\"\n",
    "SELECT Employed\n",
    "FROM recent_grads\n",
    "ORDER BY Employed desc\n",
    "LIMIT 10;\n",
    "\"\"\"\n",
    "\n",
    "desc_order = conn.execute(desc_query).fetchall()\n",
    "print(\"\\n Descending Order \\n\")\n",
    "\n",
    "for row in desc_order:\n",
    "    print(row)"
   ]
  },
  {
   "cell_type": "markdown",
   "metadata": {},
   "source": [
    "7: Order using multiple columns"
   ]
  },
  {
   "cell_type": "markdown",
   "metadata": {},
   "source": [
    "SQL also allows us to specify multiple columns in the ORDER BY statement if we'd like the database to order the results of the query first using the first column, then the second one, and so forth. The database will order the results by the first column and then will order by the second column specified if multiple rows have the same values for the first column. Let's see how the relevant psuedocode looks like:\n",
    "\n",
    "    select [column1, column2..]\n",
    "    from table_name\n",
    "    order by column1 (asc or desc), column2 (asc or desc)\n",
    "\n",
    "Ordering by multiple columns is especially useful when working with people's names, where the database will have separate columns for First Name and Last Name and you want the results to be ordered, or alphabetized in this case, by Last Name first then First Name. After alphabetizing all last names, the database will alphabetize by First Name for all rows containing the same values for Last Name. "
   ]
  },
  {
   "cell_type": "markdown",
   "metadata": {},
   "source": [
    "####Instructions"
   ]
  },
  {
   "cell_type": "markdown",
   "metadata": {},
   "source": [
    "We're interested in figuring out which majors in each Major_category have the highest Median salary. Write a query that orders the majors by Major in ascending order then by Median salary in descending order. Return only the first 20 rows so we can easily print the results.\n",
    "\n",
    "We're interested in selecting only these columns in the following order:\n",
    "\n",
    "- Major_category\n",
    "- Median\n",
    "- Major\n",
    "\n",
    "Store the results of the query in a variable called multiple_order."
   ]
  },
  {
   "cell_type": "code",
   "execution_count": 8,
   "metadata": {
    "collapsed": false
   },
   "outputs": [
    {
     "name": "stdout",
     "output_type": "stream",
     "text": [
      "('Business', 45000, 'ACCOUNTING')\n",
      "('Business', 62000, 'ACTUARIAL SCIENCE')\n",
      "('Communications & Journalism', 35000, 'ADVERTISING AND PUBLIC RELATIONS')\n",
      "('Engineering', 60000, 'AEROSPACE ENGINEERING')\n",
      "('Agriculture & Natural Resources', 40000, 'AGRICULTURAL ECONOMICS')\n",
      "('Agriculture & Natural Resources', 40000, 'AGRICULTURE PRODUCTION AND MANAGEMENT')\n",
      "('Agriculture & Natural Resources', 30000, 'ANIMAL SCIENCES')\n",
      "('Humanities & Liberal Arts', 28000, 'ANTHROPOLOGY AND ARCHEOLOGY')\n",
      "('Computers & Mathematics', 45000, 'APPLIED MATHEMATICS')\n",
      "('Engineering', 54000, 'ARCHITECTURAL ENGINEERING')\n",
      "('Engineering', 40000, 'ARCHITECTURE')\n",
      "('Humanities & Liberal Arts', 35000, 'AREA ETHNIC AND CIVILIZATION STUDIES')\n",
      "('Education', 32100, 'ART AND MUSIC EDUCATION')\n",
      "('Humanities & Liberal Arts', 31000, 'ART HISTORY AND CRITICISM')\n",
      "('Physical Sciences', 62000, 'ASTRONOMY AND ASTROPHYSICS')\n",
      "('Physical Sciences', 35000, 'ATMOSPHERIC SCIENCES AND METEOROLOGY')\n",
      "('Biology & Life Science', 37400, 'BIOCHEMICAL SCIENCES')\n",
      "('Engineering', 57100, 'BIOLOGICAL ENGINEERING')\n",
      "('Biology & Life Science', 33400, 'BIOLOGY')\n",
      "('Engineering', 60000, 'BIOMEDICAL ENGINEERING')\n",
      "20 majors\n"
     ]
    }
   ],
   "source": [
    "query = \"\"\"\n",
    "SELECT Major_category, Median, Major\n",
    "FROM recent_grads\n",
    "ORDER BY Major asc, Median desc\n",
    "LIMIT 20;\n",
    "\"\"\"\n",
    "\n",
    "multiple_order = conn.execute(query).fetchall()\n",
    "\n",
    "for row in multiple_order:\n",
    "    print(row)\n",
    "    \n",
    "print('{} majors'.format(len(multiple_order)))"
   ]
  }
 ],
 "metadata": {
  "kernelspec": {
   "display_name": "Python 3",
   "language": "python",
   "name": "python3"
  },
  "language_info": {
   "codemirror_mode": {
    "name": "ipython",
    "version": 3
   },
   "file_extension": ".py",
   "mimetype": "text/x-python",
   "name": "python",
   "nbconvert_exporter": "python",
   "pygments_lexer": "ipython3",
   "version": "3.4.3"
  }
 },
 "nbformat": 4,
 "nbformat_minor": 0
}
