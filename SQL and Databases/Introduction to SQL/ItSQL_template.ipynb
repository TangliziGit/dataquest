{
 "cells": [
  {
   "cell_type": "code",
   "execution_count": 1,
   "metadata": {
    "collapsed": true
   },
   "outputs": [],
   "source": [
    "from __future__ import print_function"
   ]
  },
  {
   "cell_type": "markdown",
   "metadata": {},
   "source": [
    "#SQL and Databases"
   ]
  },
  {
   "cell_type": "markdown",
   "metadata": {},
   "source": [
    "##Introduction to SQL"
   ]
  },
  {
   "cell_type": "markdown",
   "metadata": {},
   "source": [
    "###1: Databases"
   ]
  },
  {
   "cell_type": "markdown",
   "metadata": {},
   "source": [
    "While CSV files are easy to interface with, they have a lot of limitations. As the data gets larger, it becomes more difficult to load the file into a computer's memory, which is how tools like Pandas work with data. CSV files also fall short at providing strict security for production applications (imagine if companies like Google or Facebook used CSV files to store and access data) and are optimized for static representation. If your data changes quickly, which is true for most technology companies, then you'll need to adopt a different method.\n",
    "\n",
    "A database is a data store designed for storing, querying, and processing data. Databases store the data we want and expose an interface for interacting with that data. Most technology companies use databases to structure the data coming into the system and later query specific subsets of the data to answer questions or update existing data. Database systems also come with database management software with administrative controls, security and access controls, and a language to interface with the database.\n",
    "\n",
    "In this course, we'll be focusing on a language called SQL, or Structured Query Language, which was designed to query, update, and modify data stored in a database."
   ]
  },
  {
   "cell_type": "markdown",
   "metadata": {},
   "source": [
    "###2: SQL"
   ]
  },
  {
   "cell_type": "markdown",
   "metadata": {},
   "source": [
    "SQL is the most common language used to work with databases and is an important tool in any data professional's toolkit. While SQL is a language, it's quite different from languages like Python or R. SQL was built specifically for querying and interacting with databases and won't have much of the functionality you can expect in traditional programming languages. Since SQL is a <a href = \"https://en.wikipedia.org/wiki/Declarative_programming\">declarative language</a>, the user focuses on expressing what he or she wants and the computer focuses on figuring out how to perform the computation.\n",
    "\n",
    "Before diving into SQL syntax, we'll introduce a few database concepts so you're aware of how the data is represented in a database and why SQL makes it easy to work with that data."
   ]
  },
  {
   "cell_type": "markdown",
   "metadata": {},
   "source": [
    "###3: Tables, rows, & columns"
   ]
  },
  {
   "cell_type": "markdown",
   "metadata": {},
   "source": [
    "A database is a collection of tables, where each table is made up of rows of data and each row has values for the same set of columns across the table. A table is very similar to a DataFrame in Pandas or how a regular CSV file is structured. Both have rows of values with a consistent set of columns."
   ]
  },
  {
   "cell_type": "markdown",
   "metadata": {},
   "source": [
    "####College majors and job outcomes data "
   ]
  },
  {
   "cell_type": "markdown",
   "metadata": {},
   "source": [
    "Since we'll be using the data from the American Community Survey on college majors and job outcomes, let's see how a snapshot of the data from recent-grads.csv would be represented as a table in a database: "
   ]
  },
  {
   "cell_type": "code",
   "execution_count": 2,
   "metadata": {
    "collapsed": false
   },
   "outputs": [
    {
     "data": {
      "text/html": [
       "<div>\n",
       "<table border=\"1\" class=\"dataframe\">\n",
       "  <thead>\n",
       "    <tr style=\"text-align: right;\">\n",
       "      <th></th>\n",
       "      <th>Rank</th>\n",
       "      <th>Major_code</th>\n",
       "      <th>Major</th>\n",
       "      <th>Major_category</th>\n",
       "      <th>Total</th>\n",
       "      <th>Sample_size</th>\n",
       "      <th>Men</th>\n",
       "      <th>Women</th>\n",
       "      <th>ShareWomen</th>\n",
       "      <th>Employed</th>\n",
       "      <th>...</th>\n",
       "      <th>Part_time</th>\n",
       "      <th>Full_time_year_round</th>\n",
       "      <th>Unemployed</th>\n",
       "      <th>Unemployment_rate</th>\n",
       "      <th>Median</th>\n",
       "      <th>P25th</th>\n",
       "      <th>P75th</th>\n",
       "      <th>College_jobs</th>\n",
       "      <th>Non_college_jobs</th>\n",
       "      <th>Low_wage_jobs</th>\n",
       "    </tr>\n",
       "  </thead>\n",
       "  <tbody>\n",
       "    <tr>\n",
       "      <th>0</th>\n",
       "      <td>1</td>\n",
       "      <td>2419</td>\n",
       "      <td>PETROLEUM ENGINEERING</td>\n",
       "      <td>Engineering</td>\n",
       "      <td>2339</td>\n",
       "      <td>36</td>\n",
       "      <td>2057</td>\n",
       "      <td>282</td>\n",
       "      <td>0.120564</td>\n",
       "      <td>1976</td>\n",
       "      <td>...</td>\n",
       "      <td>270</td>\n",
       "      <td>1207</td>\n",
       "      <td>37</td>\n",
       "      <td>0.018381</td>\n",
       "      <td>110000</td>\n",
       "      <td>95000</td>\n",
       "      <td>125000</td>\n",
       "      <td>1534</td>\n",
       "      <td>364</td>\n",
       "      <td>193</td>\n",
       "    </tr>\n",
       "    <tr>\n",
       "      <th>1</th>\n",
       "      <td>2</td>\n",
       "      <td>2416</td>\n",
       "      <td>MINING AND MINERAL ENGINEERING</td>\n",
       "      <td>Engineering</td>\n",
       "      <td>756</td>\n",
       "      <td>7</td>\n",
       "      <td>679</td>\n",
       "      <td>77</td>\n",
       "      <td>0.101852</td>\n",
       "      <td>640</td>\n",
       "      <td>...</td>\n",
       "      <td>170</td>\n",
       "      <td>388</td>\n",
       "      <td>85</td>\n",
       "      <td>0.117241</td>\n",
       "      <td>75000</td>\n",
       "      <td>55000</td>\n",
       "      <td>90000</td>\n",
       "      <td>350</td>\n",
       "      <td>257</td>\n",
       "      <td>50</td>\n",
       "    </tr>\n",
       "    <tr>\n",
       "      <th>2</th>\n",
       "      <td>3</td>\n",
       "      <td>2415</td>\n",
       "      <td>METALLURGICAL ENGINEERING</td>\n",
       "      <td>Engineering</td>\n",
       "      <td>856</td>\n",
       "      <td>3</td>\n",
       "      <td>725</td>\n",
       "      <td>131</td>\n",
       "      <td>0.153037</td>\n",
       "      <td>648</td>\n",
       "      <td>...</td>\n",
       "      <td>133</td>\n",
       "      <td>340</td>\n",
       "      <td>16</td>\n",
       "      <td>0.024096</td>\n",
       "      <td>73000</td>\n",
       "      <td>50000</td>\n",
       "      <td>105000</td>\n",
       "      <td>456</td>\n",
       "      <td>176</td>\n",
       "      <td>0</td>\n",
       "    </tr>\n",
       "    <tr>\n",
       "      <th>3</th>\n",
       "      <td>4</td>\n",
       "      <td>2417</td>\n",
       "      <td>NAVAL ARCHITECTURE AND MARINE ENGINEERING</td>\n",
       "      <td>Engineering</td>\n",
       "      <td>1258</td>\n",
       "      <td>16</td>\n",
       "      <td>1123</td>\n",
       "      <td>135</td>\n",
       "      <td>0.107313</td>\n",
       "      <td>758</td>\n",
       "      <td>...</td>\n",
       "      <td>150</td>\n",
       "      <td>692</td>\n",
       "      <td>40</td>\n",
       "      <td>0.050125</td>\n",
       "      <td>70000</td>\n",
       "      <td>43000</td>\n",
       "      <td>80000</td>\n",
       "      <td>529</td>\n",
       "      <td>102</td>\n",
       "      <td>0</td>\n",
       "    </tr>\n",
       "    <tr>\n",
       "      <th>4</th>\n",
       "      <td>5</td>\n",
       "      <td>2405</td>\n",
       "      <td>CHEMICAL ENGINEERING</td>\n",
       "      <td>Engineering</td>\n",
       "      <td>32260</td>\n",
       "      <td>289</td>\n",
       "      <td>21239</td>\n",
       "      <td>11021</td>\n",
       "      <td>0.341631</td>\n",
       "      <td>25694</td>\n",
       "      <td>...</td>\n",
       "      <td>5180</td>\n",
       "      <td>16697</td>\n",
       "      <td>1672</td>\n",
       "      <td>0.061098</td>\n",
       "      <td>65000</td>\n",
       "      <td>50000</td>\n",
       "      <td>75000</td>\n",
       "      <td>18314</td>\n",
       "      <td>4440</td>\n",
       "      <td>972</td>\n",
       "    </tr>\n",
       "  </tbody>\n",
       "</table>\n",
       "<p>5 rows × 21 columns</p>\n",
       "</div>"
      ],
      "text/plain": [
       "   Rank  Major_code                                      Major Major_category  \\\n",
       "0     1        2419                      PETROLEUM ENGINEERING    Engineering   \n",
       "1     2        2416             MINING AND MINERAL ENGINEERING    Engineering   \n",
       "2     3        2415                  METALLURGICAL ENGINEERING    Engineering   \n",
       "3     4        2417  NAVAL ARCHITECTURE AND MARINE ENGINEERING    Engineering   \n",
       "4     5        2405                       CHEMICAL ENGINEERING    Engineering   \n",
       "\n",
       "   Total  Sample_size    Men  Women  ShareWomen  Employed      ...        \\\n",
       "0   2339           36   2057    282    0.120564      1976      ...         \n",
       "1    756            7    679     77    0.101852       640      ...         \n",
       "2    856            3    725    131    0.153037       648      ...         \n",
       "3   1258           16   1123    135    0.107313       758      ...         \n",
       "4  32260          289  21239  11021    0.341631     25694      ...         \n",
       "\n",
       "   Part_time  Full_time_year_round  Unemployed  Unemployment_rate  Median  \\\n",
       "0        270                  1207          37           0.018381  110000   \n",
       "1        170                   388          85           0.117241   75000   \n",
       "2        133                   340          16           0.024096   73000   \n",
       "3        150                   692          40           0.050125   70000   \n",
       "4       5180                 16697        1672           0.061098   65000   \n",
       "\n",
       "   P25th   P75th  College_jobs  Non_college_jobs  Low_wage_jobs  \n",
       "0  95000  125000          1534               364            193  \n",
       "1  55000   90000           350               257             50  \n",
       "2  50000  105000           456               176              0  \n",
       "3  43000   80000           529               102              0  \n",
       "4  50000   75000         18314              4440            972  \n",
       "\n",
       "[5 rows x 21 columns]"
      ]
     },
     "execution_count": 2,
     "metadata": {},
     "output_type": "execute_result"
    }
   ],
   "source": [
    "import pandas as pd\n",
    "\n",
    "data = pd.read_csv(\"data/recent-grads.csv\")\n",
    "data.head()"
   ]
  },
  {
   "cell_type": "code",
   "execution_count": 3,
   "metadata": {
    "collapsed": false
   },
   "outputs": [],
   "source": [
    "import csv, sqlite3\n",
    "\n",
    "conn = sqlite3.connect(\":memory:\")\n",
    "curs = conn.cursor()\n",
    "curs.execute(\"\"\"\n",
    "CREATE TABLE recent_grads (\n",
    "Rank INTEGER PRIMARY KEY, \n",
    "Major_code INTEGER, \n",
    "Major TEXT, \n",
    "Major_category INTEGER, \n",
    "Total INTEGER, \n",
    "Sample_size INTEGER, \n",
    "Men INTEGER, \n",
    "Women INTEGER, \n",
    "ShareWomen DECIMAL, \n",
    "Employed INTEGER);\n",
    "\"\"\")\n",
    "\n",
    "with open(\"data/recent-grads.csv\", \"r\") as fin:\n",
    "    # csv.DictReader uses first line in file for column headings by default\n",
    "    dr = csv.DictReader(fin) # comma is default delimiter\n",
    "    to_db = [(i[\"Rank\"], \n",
    "              i[\"Major_code\"],\n",
    "              i[\"Major\"],\n",
    "              i[\"Major_category\"],\n",
    "              i[\"Total\"],\n",
    "              i[\"Sample_size\"],\n",
    "              i[\"Men\"],\n",
    "              i[\"Women\"],\n",
    "              i[\"ShareWomen\"],\n",
    "              i[\"Employed\"]) for i in dr]\n",
    "\n",
    "curs.executemany(\"\"\"\n",
    "INSERT INTO recent_grads (\n",
    "Rank, \n",
    "Major_code, \n",
    "Major, \n",
    "Major_category, \n",
    "Total, \n",
    "Sample_size, \n",
    "Men, \n",
    "Women, \n",
    "ShareWomen, \n",
    "Employed) \n",
    "VALUES (?, ?, ?, ?, ?, ?, ?, ?, ?, ?);\n",
    "\"\"\", to_db)\n",
    "\n",
    "conn.commit()"
   ]
  },
  {
   "cell_type": "markdown",
   "metadata": {},
   "source": [
    "We have loaded the data in for years 2010-2012 for just recent college grads into a table in a database so we can explore how to query the data using SQL. You'll notice that the table contains the same columns for each row of data, with each row representing a major in college.\n",
    "\n",
    "The full table has many more columns, 21 to be specific, than the ones displayed in the screenshot and they're explained in further detail on <a href = \"https://github.com/fivethirtyeight/data/tree/master/college-majors\">FiveThirtyEight's Github repo</a>.\n",
    "\n",
    "Here are the descriptions of the columns in the above snapshot:\n",
    "\n",
    "- Rank - Rank by median earnings\n",
    "- Major_code - Major code\n",
    "- Major - Major description\n",
    "- Major_category - Category of major\n",
    "- Total - Total number of people with major\n",
    "- Sample_size - Sample size (unweighted) of full-time\n",
    "- Men - Male graduates\n",
    "- Women - Female graduates\n",
    "- ShareWomen - Women as share of total\n",
    "- Employed - Number employed\n",
    "\n",
    "Let's dive into how to use SQL to query this database, which contains just this one table, to pull out just the 10 columns from the snapshot."
   ]
  },
  {
   "cell_type": "markdown",
   "metadata": {},
   "source": [
    "###4: Querying"
   ]
  },
  {
   "cell_type": "markdown",
   "metadata": {},
   "source": [
    "Writing a SQL query is the primary way of interacting with a database. A SQL query is a string with a defined structure and vocabulary that we use to define what we want the database to do. The SQL language has a set of general statements that you combine with specific logic to express the intent of that query."
   ]
  },
  {
   "cell_type": "markdown",
   "metadata": {},
   "source": [
    "####Select"
   ]
  },
  {
   "cell_type": "markdown",
   "metadata": {},
   "source": [
    "The first and most basic statement in SQL is a SELECT statement. To specify that we want 10 specific columns for all of the rows from a specific table, we use the SELECT keyword along with the names of the 10 columns we want the database to return. You use a SELECT statement whenever you want to return specific data from the database without editing or modifying the values in the database.\n",
    "\n",
    "Let's explore the basic syntax for the SELECT statement.\n",
    "\n",
    "    SELECT columnA, columnB\n",
    "    FROM tableName;\n",
    "\n",
    "The SQL syntax looks more like a spoken language like English than a programming language like Python. Let's see what an actual SQL query looks like:\n",
    "\n",
    "    SELECT Rank,Major\n",
    "    FROM recent_grads;\n",
    "\n",
    "The database then converts this SQL to lower-level logic and returns all rows from the table recent_grads, but only with the columns Rank and Major . The table recent_grads represents the information from FiveThirtyEight's dataset as a table in a database. The ; at the end is essential since it specifies where that query ends."
   ]
  },
  {
   "cell_type": "markdown",
   "metadata": {},
   "source": [
    "###5: Python & SQLite"
   ]
  },
  {
   "cell_type": "markdown",
   "metadata": {},
   "source": [
    "Python 3 has excellent built-in support for <a href = \"https://docs.python.org/2/library/sqlite3.html\">SQLite</a>, a lightweight database that's ideal for exploring and learning SQL. We'll dive more into how SQLite specifically works in a later lesson, but for these missions we will take care of setting up and loading the data into the database on our end.\n",
    "\n",
    "We have set up a database containing the job outcome data in a table named recent_grads and created a Python SQLite object named connection that you can use to run SQL queries.\n",
    "\n",
    "Use the following workflow to run SQL queries:\n",
    "\n",
    "- Store the SQL query you'd like to run as a Python string\n",
    "- Run the query against the database\n",
    "- View the returned results from the database\n",
    "\n",
    "As long as the query is a valid string and follows the SQL syntax, the query can be written on one line or multiple lines using triple quotes. Let's now excute the query we just wrote against the database and see the results."
   ]
  },
  {
   "cell_type": "markdown",
   "metadata": {},
   "source": [
    "####Instructions"
   ]
  },
  {
   "cell_type": "markdown",
   "metadata": {},
   "source": [
    "After viewing the results of running first_query , try executing second_query against the database, assign the results to the variable results, and then print the values."
   ]
  },
  {
   "cell_type": "code",
   "execution_count": 4,
   "metadata": {
    "collapsed": false
   },
   "outputs": [
    {
     "name": "stdout",
     "output_type": "stream",
     "text": [
      "[(1, u'PETROLEUM ENGINEERING'), (2, u'MINING AND MINERAL ENGINEERING'), (3, u'METALLURGICAL ENGINEERING'), (4, u'NAVAL ARCHITECTURE AND MARINE ENGINEERING'), (5, u'CHEMICAL ENGINEERING')]\n"
     ]
    }
   ],
   "source": [
    "first_query = \"\"\"\n",
    "SELECT Rank, Major\n",
    "FROM recent_grads;\n",
    "\"\"\"\n",
    "\n",
    "second_query = \"\"\"\n",
    "SELECT Rank,Major\n",
    "FROM recent_grads;\n",
    "\"\"\"\n",
    "\n",
    "# Swap out the first_query for second_query\n",
    "# in connection.execute()\n",
    "# sql_cursor = connection.execute(first_query)\n",
    "# results = sql_cursor.fetchmany(5)\n",
    "# print(results)\n",
    "\n",
    "sql_cursor = conn.execute(second_query)\n",
    "results = sql_cursor.fetchmany(5)\n",
    "print(results)"
   ]
  },
  {
   "cell_type": "markdown",
   "metadata": {},
   "source": [
    "###6: Explanation"
   ]
  },
  {
   "cell_type": "markdown",
   "metadata": {},
   "source": [
    "We first stored the query in a string object named first_query, where we specified that we want to select just the columns Rank and Major from the table recent_grads:\n",
    "\n",
    "    first_query = \"SELECT Rank,Major FROM recent_grads;\"\n",
    "\n",
    "Then we used the execute() method on the connection object to run the query:\n",
    "\n",
    "    sql_cursor = connection.execute(first_query)\n",
    "\n",
    "The results of the query are stored in a Python object called sql_cursor, which is a <a href = \"https://pysqlite.readthedocs.org/en/latest/sqlite3.html#cursor-objects\">SQLite Cursor object</a>.\n",
    "\n",
    "The sql_cursor Cursor object contains methods like:\n",
    "\n",
    "- fetchone()\n",
    "- fetchmany()\n",
    "- fetchall()\n",
    "\n",
    "that allow us to specify how many results we want to see. The Cursor object converts the results from the database into native Python data structures, which is why each row is a tuple object and the full results are a list of tuple objects. Finally, we used the Cursor object's fetchmany() method with the parameter 5 to specify that we'd like the first 5 rows from the table:\n",
    "\n",
    "    results = sql_cursor.fetchmany(5)"
   ]
  },
  {
   "cell_type": "markdown",
   "metadata": {},
   "source": [
    "###7: Specifying column order"
   ]
  },
  {
   "cell_type": "markdown",
   "metadata": {},
   "source": [
    "SQL allows us to specify the order of columns in the returned results. Try swapping the order of the columns we specified in the previous query and hit run to see the results."
   ]
  },
  {
   "cell_type": "markdown",
   "metadata": {},
   "source": [
    "####Instructions"
   ]
  },
  {
   "cell_type": "markdown",
   "metadata": {},
   "source": [
    "In the SELECT statement, switch the order from Major,Rank to Rank,Major. Store the first 5 results of the executed query in the variable results."
   ]
  },
  {
   "cell_type": "code",
   "execution_count": 5,
   "metadata": {
    "collapsed": false
   },
   "outputs": [
    {
     "name": "stdout",
     "output_type": "stream",
     "text": [
      "[(1, u'PETROLEUM ENGINEERING'), (2, u'MINING AND MINERAL ENGINEERING'), (3, u'METALLURGICAL ENGINEERING'), (4, u'NAVAL ARCHITECTURE AND MARINE ENGINEERING'), (5, u'CHEMICAL ENGINEERING')]\n"
     ]
    }
   ],
   "source": [
    "first_query = \"\"\"\n",
    "SELECT Rank, Major \n",
    "FROM recent_grads;\n",
    "\"\"\"\n",
    "results = conn.execute(first_query).fetchmany(5)\n",
    "print(results)"
   ]
  },
  {
   "cell_type": "markdown",
   "metadata": {},
   "source": [
    "###8: Practice: Select"
   ]
  },
  {
   "cell_type": "markdown",
   "metadata": {},
   "source": [
    "Now it's your turn! Write a SELECT query that returns the 10 columns we were interested in earlier from the table recent_grads. Each column name you want returned must be separated by a , in the SELECT statement. The 10 columns we were originally interested in are:\n",
    "\n",
    "Rank, Major_code, Major, Major_category, Total, Sample_size, Men, Women, ShareWomen, Employed"
   ]
  },
  {
   "cell_type": "markdown",
   "metadata": {},
   "source": [
    "####Instructions"
   ]
  },
  {
   "cell_type": "markdown",
   "metadata": {},
   "source": [
    "Store the query as a string, pass the string into connection.execute(), and use .fetchmany() to return the first 5 rows of the results. Store the first 5 rows in a variable named ten_columns. To print the results in an easy to read format, use a for loop to iterate over the results and print each result."
   ]
  },
  {
   "cell_type": "code",
   "execution_count": 6,
   "metadata": {
    "collapsed": false
   },
   "outputs": [
    {
     "name": "stdout",
     "output_type": "stream",
     "text": [
      "(1, 2419, u'PETROLEUM ENGINEERING', u'Engineering', 2339, 36, 2057, 282, 0.120564344, 1976)\n",
      "(2, 2416, u'MINING AND MINERAL ENGINEERING', u'Engineering', 756, 7, 679, 77, 0.101851852, 640)\n",
      "(3, 2415, u'METALLURGICAL ENGINEERING', u'Engineering', 856, 3, 725, 131, 0.153037383, 648)\n",
      "(4, 2417, u'NAVAL ARCHITECTURE AND MARINE ENGINEERING', u'Engineering', 1258, 16, 1123, 135, 0.107313196, 758)\n",
      "(5, 2405, u'CHEMICAL ENGINEERING', u'Engineering', 32260, 289, 21239, 11021, 0.341630502, 25694)\n"
     ]
    }
   ],
   "source": [
    "# Query from the previous code cell, to be modified\n",
    "ten_query = \"\"\"\n",
    "SELECT Rank, Major_code, Major, Major_category, Total, Sample_size, Men, Women, ShareWomen, Employed\n",
    "FROM recent_grads;\n",
    "\"\"\"\n",
    "ten_columns = conn.execute(ten_query).fetchmany(5)\n",
    "\n",
    "for row in ten_columns:\n",
    "    print(row)"
   ]
  },
  {
   "cell_type": "markdown",
   "metadata": {},
   "source": [
    "###9: Where"
   ]
  },
  {
   "cell_type": "markdown",
   "metadata": {},
   "source": [
    "If we wanted to figure out which majors had more female graduates than male graduates (when ShareWomen is larger than 0.5), we'd need to first return all rows and then iterate over the list of results to filter appropriately. This is not the most efficient way to get the data we want since we're pulling out more data than we need to and then filtering in Python, instead of just returning the rows we want from the database itself.\n",
    "\n",
    "We can use the WHERE statement in SQL to add filtering criteria to the query so that we only return the rows that meet that criteria from the database.\n",
    "\n",
    "The WHERE statement requires 3 things:\n",
    "\n",
    "- The column we want the database to filter on: ShareWomen\n",
    "- A comparison operator to specify how we want a value in a column to be compared: >\n",
    "- The comparison value we want the database to compare each value to: 0.5\n",
    "\n",
    "In the below query, we:\n",
    "\n",
    "- Use SELECT along with the columns: Major and ShareWomen\n",
    "- Use FROM along with the same table name as before: recent_grads\n",
    "- Use WHERE along with the filtering criteria: ShareWomen > 0.5\n",
    "\n",
    "\n",
    "        SELECT Major,ShareWomen\n",
    "        FROM recent_grads\n",
    "        WHERE ShareWomen > 0.5;\n",
    "\n",
    "Here are the comparison operators we can use:\n",
    "\n",
    "        Less than: <\n",
    "        Less than or equal to: <=\n",
    "        Greater than: >\n",
    "        Greater than or equal to: >=\n",
    "        Equal to: =\n",
    "        Not equal to: !=\n",
    "\n",
    "The comparison value after the operator must either be text or a number depending on the field. Since ShareWomen is a number, we don't have to wrap the number 0.5 with quotes. Lastly, most database systems require that the SELECT and FROM statements come first before any WHERE or other statements.\n",
    "\n",
    "In the following code cell, we run the query against the database, return the results (represented as list of tuples), print the first 10 elements in the list, and then print the length of the list to observe how many majors had majority female students."
   ]
  },
  {
   "cell_type": "code",
   "execution_count": 7,
   "metadata": {
    "collapsed": false
   },
   "outputs": [
    {
     "name": "stdout",
     "output_type": "stream",
     "text": [
      "(u'ACTUARIAL SCIENCE', 0.535714286)\n",
      "(u'COMPUTER SCIENCE', 0.578766338)\n",
      "(u'ENVIRONMENTAL ENGINEERING', 0.558548009)\n",
      "(u'NURSING', 0.896018988)\n",
      "(u'INDUSTRIAL PRODUCTION TECHNOLOGIES', 0.75047259)\n",
      "(u'COMPUTER AND INFORMATION SYSTEMS', 0.707718502)\n",
      "(u'INFORMATION SCIENCES', 0.526475764)\n",
      "(u'APPLIED MATHEMATICS', 0.75392736)\n",
      "(u'PHARMACOLOGY', 0.524152583)\n",
      "97\n"
     ]
    }
   ],
   "source": [
    "women_query = \"\"\"\n",
    "SELECT Major, ShareWomen\n",
    "FROM recent_grads\n",
    "WHERE ShareWomen > 0.5;\n",
    "\"\"\"\n",
    "women_majority = conn.execute(women_query).fetchall()\n",
    "\n",
    "for row in women_majority[0:9]:\n",
    "    print(row)\n",
    "    \n",
    "print(len(women_majority))"
   ]
  },
  {
   "cell_type": "markdown",
   "metadata": {},
   "source": [
    "###10: Practice: Where"
   ]
  },
  {
   "cell_type": "markdown",
   "metadata": {},
   "source": [
    "Let's now practice writing a SQL query using the WHERE statement."
   ]
  },
  {
   "cell_type": "markdown",
   "metadata": {},
   "source": [
    "####Instructions"
   ]
  },
  {
   "cell_type": "markdown",
   "metadata": {},
   "source": [
    "Write a SQL query that returns all majors that have more than 10,000 people employed with that background. In the SELECT, specify that we only want the Major and Employed columns (in that order). Store the results of the query in a variable named ten_thousand_employed and print the first 10 rows."
   ]
  },
  {
   "cell_type": "code",
   "execution_count": 8,
   "metadata": {
    "collapsed": false
   },
   "outputs": [
    {
     "name": "stdout",
     "output_type": "stream",
     "text": [
      "(u'CHEMICAL ENGINEERING', 25694)\n",
      "(u'MECHANICAL ENGINEERING', 76442)\n",
      "(u'ELECTRICAL ENGINEERING', 61928)\n",
      "(u'COMPUTER ENGINEERING', 32506)\n",
      "(u'AEROSPACE ENGINEERING', 11391)\n",
      "(u'BIOMEDICAL ENGINEERING', 10047)\n",
      "(u'INDUSTRIAL AND MANUFACTURING ENGINEERING', 15604)\n",
      "(u'GENERAL ENGINEERING', 44931)\n",
      "(u'COMPUTER SCIENCE', 102087)\n"
     ]
    }
   ],
   "source": [
    "ten_thousand_query = \"\"\"\n",
    "SELECT Major,Employed\n",
    "FROM recent_grads\n",
    "WHERE Employed > 10000;\n",
    "\"\"\"\n",
    "ten_thousand_employed = conn.execute(ten_thousand_query).fetchall()\n",
    "\n",
    "for row in ten_thousand_employed[0:9]:\n",
    "    print(row)"
   ]
  },
  {
   "cell_type": "markdown",
   "metadata": {},
   "source": [
    "###11: Limit"
   ]
  },
  {
   "cell_type": "markdown",
   "metadata": {},
   "source": [
    "When you work with tables that have millions of rows, returning all the rows and just extracting the ones you want in Python can take a long time (and is also inefficient!). Thankfully, SQL comes with a statement called LIMIT that allows us to specify how many results we'd like the database to return.\n",
    "\n",
    "Let's now look at how we'd return the first 10 rows using the LIMIT statement."
   ]
  },
  {
   "cell_type": "code",
   "execution_count": 9,
   "metadata": {
    "collapsed": false
   },
   "outputs": [
    {
     "name": "stdout",
     "output_type": "stream",
     "text": [
      "(u'CHEMICAL ENGINEERING', 25694)\n",
      "(u'MECHANICAL ENGINEERING', 76442)\n",
      "(u'ELECTRICAL ENGINEERING', 61928)\n",
      "(u'COMPUTER ENGINEERING', 32506)\n",
      "(u'AEROSPACE ENGINEERING', 11391)\n",
      "(u'BIOMEDICAL ENGINEERING', 10047)\n",
      "(u'INDUSTRIAL AND MANUFACTURING ENGINEERING', 15604)\n",
      "(u'GENERAL ENGINEERING', 44931)\n",
      "(u'COMPUTER SCIENCE', 102087)\n",
      "(u'MANAGEMENT INFORMATION SYSTEMS AND STATISTICS', 16413)\n"
     ]
    }
   ],
   "source": [
    "ten_thousand_query = \"\"\"\n",
    "SELECT Major, Employed\n",
    "FROM recent_grads\n",
    "WHERE Employed > 10000 LIMIT 10;\n",
    "\"\"\"\n",
    "ten_thousand_employed = conn.execute(ten_thousand_query).fetchall()\n",
    "\n",
    "for row in ten_thousand_employed:\n",
    "    print(row)"
   ]
  },
  {
   "cell_type": "markdown",
   "metadata": {},
   "source": [
    "###12: SQL and Python"
   ]
  },
  {
   "cell_type": "markdown",
   "metadata": {},
   "source": [
    "What if we want to find all majors that met both criteria described in the last 2 SQL queries? Specifically, how do we find all the majors where the majority of the students are women AND have more than 10,000 people employed? We can accomplish this by first pulling all women majority majors from the database (this time including the Employed column) then filtering the resulting list in Python and returning only the majors where the value for Employed exceeds 10,000.\n",
    "\n",
    "Each tuple in the resulting list of tuples after running a query is essentially a row from the table. Each tuple is a sequence of values whose order matches the order of columns specified in the SELECT statement. If we specify:\n",
    "\n",
    "    SELECT Major, ShareWomen, Employed\n",
    "    FROM recent_grads\n",
    "\n",
    "then the resulting rows will resemble:\n",
    "\n",
    "    first_row = ('PETROLEUM ENGINEERING', 0.120564344, 1976)\n",
    "\n",
    "and you use index notation to access specific values.\n",
    "\n",
    "- first_row[0] will return the tuple's first value, 'PETROLEUM ENGINEERING', corresponding to the Major column\n",
    "- first_row[1] will return the tuple's second value, 0.120564344, corresponding to the ShareWomen column\n",
    "- first_row[2] will return the tuple's third value, 1976, corresponding to the Employed column."
   ]
  },
  {
   "cell_type": "markdown",
   "metadata": {},
   "source": [
    "####Instructions"
   ]
  },
  {
   "cell_type": "markdown",
   "metadata": {},
   "source": [
    "Modify the SQL query we wrote earlier to return majority women majors but this time including these columns in the following order:\n",
    "\n",
    "- Major\n",
    "- ShareWomen\n",
    "- Employed\n",
    "\n",
    "Then, filter the results to just the majors where Employed exceeds 10,000 and assign to the variable combined_results."
   ]
  },
  {
   "cell_type": "code",
   "execution_count": 10,
   "metadata": {
    "collapsed": false
   },
   "outputs": [
    {
     "name": "stdout",
     "output_type": "stream",
     "text": [
      "58\n"
     ]
    }
   ],
   "source": [
    "query = \"\"\"\n",
    "SELECT Major, ShareWomen, Employed\n",
    "FROM recent_grads\n",
    "WHERE ShareWomen > 0.5;\n",
    "\"\"\"\n",
    "women_majority = conn.execute(query).fetchall()\n",
    "\n",
    "combined_results = []\n",
    "for wm in women_majority:\n",
    "    if wm[2] > 10000:\n",
    "        combined_results.append(wm)\n",
    "        \n",
    "print(len(combined_results))"
   ]
  }
 ],
 "metadata": {
  "kernelspec": {
   "display_name": "Python 3",
   "language": "python",
   "name": "python3"
  },
  "language_info": {
   "codemirror_mode": {
    "name": "ipython",
    "version": 3
   },
   "file_extension": ".py",
   "mimetype": "text/x-python",
   "name": "python",
   "nbconvert_exporter": "python",
   "pygments_lexer": "ipython3",
   "version": "3.4.3"
  }
 },
 "nbformat": 4,
 "nbformat_minor": 0
}
