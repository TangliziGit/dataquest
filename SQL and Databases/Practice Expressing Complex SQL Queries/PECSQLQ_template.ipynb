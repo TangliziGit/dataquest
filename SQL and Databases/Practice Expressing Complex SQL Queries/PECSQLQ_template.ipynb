{
 "cells": [
  {
   "cell_type": "code",
   "execution_count": 1,
   "metadata": {
    "collapsed": true
   },
   "outputs": [],
   "source": [
    "from __future__ import print_function"
   ]
  },
  {
   "cell_type": "markdown",
   "metadata": {},
   "source": [
    "#SQL and Databases"
   ]
  },
  {
   "cell_type": "markdown",
   "metadata": {},
   "source": [
    "##Practice expressing complex SQL queries"
   ]
  },
  {
   "cell_type": "code",
   "execution_count": 2,
   "metadata": {
    "collapsed": true
   },
   "outputs": [],
   "source": [
    "import csv, sqlite3\n",
    "\n",
    "conn = sqlite3.connect(\":memory:\")\n",
    "curs = conn.cursor()\n",
    "curs.execute(\"\"\"\n",
    "CREATE TABLE recent_grads (\n",
    "Rank INTEGER PRIMARY KEY, \n",
    "Major_code INTEGER, \n",
    "Major TEXT, \n",
    "Major_category INTEGER, \n",
    "Total INTEGER, \n",
    "Sample_size INTEGER, \n",
    "Men INTEGER, \n",
    "Women INTEGER, \n",
    "ShareWomen DECIMAL, \n",
    "Employed INTEGER, \n",
    "Full_time INTEGER, \n",
    "Part_time INTEGER, \n",
    "Full_time_year_round INTEGER, \n",
    "Unemployed INTEGER, \n",
    "Unemployment_rate DECIMAL, \n",
    "Median INTEGER, \n",
    "P25th INTEGER, \n",
    "P75th INTEGER, \n",
    "College_jobs INTEGER, \n",
    "Non_college_jobs INTEGER, \n",
    "Low_wage_jobs INTEGER\n",
    ");\n",
    "\"\"\")\n",
    "\n",
    "with open(\"data/recent-grads.csv\", \"r\") as fin:\n",
    "    # csv.DictReader uses first line in file for column headings by default\n",
    "    dr = csv.DictReader(fin) # comma is default delimiter\n",
    "    to_db = [(i[\"Rank\"], \n",
    "              i[\"Major_code\"],\n",
    "              i[\"Major\"],\n",
    "              i[\"Major_category\"],\n",
    "              i[\"Total\"],\n",
    "              i[\"Sample_size\"],\n",
    "              i[\"Men\"],\n",
    "              i[\"Women\"],\n",
    "              i[\"ShareWomen\"],\n",
    "              i[\"Employed\"],\n",
    "              i[\"Full_time\"],\n",
    "              i[\"Part_time\"],\n",
    "              i[\"Full_time_year_round\"],\n",
    "              i[\"Unemployed\"],\n",
    "              i[\"Unemployment_rate\"],\n",
    "              i[\"Median\"],\n",
    "              i[\"P25th\"],\n",
    "              i[\"P75th\"], \n",
    "              i[\"College_jobs\"],\n",
    "              i[\"Non_college_jobs\"],\n",
    "              i[\"Low_wage_jobs\"]) for i in dr]\n",
    "\n",
    "curs.executemany(\"\"\"\n",
    "INSERT INTO recent_grads (\n",
    "Rank, \n",
    "Major_code, \n",
    "Major, \n",
    "Major_category, \n",
    "Total, \n",
    "Sample_size, \n",
    "Men, \n",
    "Women, \n",
    "ShareWomen, \n",
    "Employed,\n",
    "Full_time, \n",
    "Part_time, \n",
    "Full_time_year_round, \n",
    "Unemployed, \n",
    "Unemployment_rate, \n",
    "Median, \n",
    "P25th, \n",
    "P75th, \n",
    "College_jobs, \n",
    "Non_college_jobs, \n",
    "Low_wage_jobs) \n",
    "VALUES (?, ?, ?, ?, ?, ?, ?, ?, ?, ?, ?, ?, ?, ?, ?, ?, ?, ?, ?, ?, ?);\n",
    "\"\"\", to_db)\n",
    "\n",
    "conn.commit()"
   ]
  },
  {
   "cell_type": "markdown",
   "metadata": {},
   "source": [
    "###1: Introduction"
   ]
  },
  {
   "cell_type": "markdown",
   "metadata": {},
   "source": [
    "In this challenge, we'll continue working with the same table containing data on job outcomes by college major, for recent grads only, but will allow you to practice writing your own SQL queries."
   ]
  },
  {
   "cell_type": "markdown",
   "metadata": {},
   "source": [
    "###2: Select and Limit"
   ]
  },
  {
   "cell_type": "markdown",
   "metadata": {},
   "source": [
    "####Instructions"
   ]
  },
  {
   "cell_type": "markdown",
   "metadata": {},
   "source": [
    "Write a query that retrieves:\n",
    "\n",
    "The first 20 majors in the table, only these columns in the following order:\n",
    "\n",
    "- College_jobs\n",
    "- Median\n",
    "- Unemployment_rate\n",
    "\n",
    "Store the results in a variable named results."
   ]
  },
  {
   "cell_type": "code",
   "execution_count": 3,
   "metadata": {
    "collapsed": false
   },
   "outputs": [
    {
     "name": "stdout",
     "output_type": "stream",
     "text": [
      "(1534, 110000, 0.018380527)\n",
      "(350, 75000, 0.117241379)\n",
      "(456, 73000, 0.024096386)\n",
      "(529, 70000, 0.050125313)\n",
      "(18314, 65000, 0.061097712)\n",
      "(1142, 65000, 0.177226407)\n",
      "(1768, 62000, 0.095652174)\n",
      "(972, 62000, 0.021167415)\n",
      "(52844, 60000, 0.057342278)\n",
      "(45829, 60000, 0.059173845)\n",
      "(23694, 60000, 0.065409275)\n",
      "(8184, 60000, 0.065162085)\n",
      "(6439, 60000, 0.09208386)\n",
      "(2626, 60000, 0.023042836)\n",
      "(2439, 58000, 0.006334343)\n",
      "(3603, 57100, 0.087143069)\n",
      "(8306, 57000, 0.042875544)\n",
      "(26898, 56000, 0.059824231)\n",
      "(1665, 54000, 0.061930783)\n",
      "(402, 54000, 0.011689692)\n"
     ]
    }
   ],
   "source": [
    "query = \"\"\"\n",
    "SELECT College_jobs, Median, Unemployment_rate\n",
    "FROM recent_grads\n",
    "LIMIT 20;\n",
    "\"\"\"\n",
    "results = conn.execute(query).fetchall()\n",
    "\n",
    "for row in results:\n",
    "    print(row)"
   ]
  },
  {
   "cell_type": "markdown",
   "metadata": {},
   "source": [
    "###3: Where"
   ]
  },
  {
   "cell_type": "markdown",
   "metadata": {},
   "source": [
    "####Instructions"
   ]
  },
  {
   "cell_type": "markdown",
   "metadata": {},
   "source": [
    "Write a query that returns the first 5 Arts majors (only include the Major column). Store the results in a variable named five_arts."
   ]
  },
  {
   "cell_type": "code",
   "execution_count": 4,
   "metadata": {
    "collapsed": false
   },
   "outputs": [
    {
     "name": "stdout",
     "output_type": "stream",
     "text": [
      "('MISCELLANEOUS FINE ARTS',)\n",
      "('COMMERCIAL ART AND GRAPHIC DESIGN',)\n",
      "('FILM VIDEO AND PHOTOGRAPHIC ARTS',)\n",
      "('MUSIC',)\n",
      "('FINE ARTS',)\n"
     ]
    }
   ],
   "source": [
    "query = \"\"\"\n",
    "SELECT major\n",
    "FROM recent_grads \n",
    "WHERE Major_category = 'Arts'\n",
    "LIMIT 5;\n",
    "\"\"\"\n",
    "results = conn.execute(query).fetchall()\n",
    "\n",
    "for row in results:\n",
    "    print(row)"
   ]
  },
  {
   "cell_type": "markdown",
   "metadata": {},
   "source": [
    "###4: Operators"
   ]
  },
  {
   "cell_type": "markdown",
   "metadata": {},
   "source": [
    "####Instructions"
   ]
  },
  {
   "cell_type": "markdown",
   "metadata": {},
   "source": [
    "Return all non-engineering majors with a median salary less than or equal to 50,000 or an unemployment rate higher than 6.5%.\n",
    "\n",
    "Return only these columns in the following order:\n",
    "\n",
    "- Major\n",
    "- Total\n",
    "- Median\n",
    "- Unemployment_rate\n",
    "\n",
    "Store the results in a variable named non_engineering."
   ]
  },
  {
   "cell_type": "code",
   "execution_count": 5,
   "metadata": {
    "collapsed": false
   },
   "outputs": [
    {
     "name": "stdout",
     "output_type": "stream",
     "text": [
      "('ACTUARIAL SCIENCE', 3777, 62000, 0.095652174)\n",
      "('FOOD SCIENCE', 4361, 53000, 0.09693146)\n",
      "('CONSTRUCTION SERVICES', 18498, 50000, 0.060023041)\n",
      "('OPERATIONS LOGISTICS AND E-COMMERCE', 11732, 50000, 0.047858703)\n",
      "('PUBLIC POLICY', 5978, 50000, 0.128426299)\n",
      "('MISCELLANEOUS FINE ARTS', 3340, 50000, 0.089375)\n",
      "('NURSING', 209394, 48000, 0.044862724)\n",
      "('FINANCE', 174506, 47000, 0.060686356)\n",
      "('ECONOMICS', 139247, 47000, 0.099092317)\n",
      "('BUSINESS ECONOMICS', 13302, 46000, 0.096448381)\n",
      "('NUCLEAR, INDUSTRIAL RADIOLOGY, AND BIOLOGICAL TECHNOLOGIES', 2116, 46000, 0.07154047)\n",
      "('ACCOUNTING', 198633, 45000, 0.069749014)\n",
      "('MATHEMATICS', 72397, 45000, 0.047277138)\n",
      "('COMPUTER AND INFORMATION SYSTEMS', 36698, 45000, 0.093460326)\n",
      "('PHYSICS', 32142, 45000, 0.048224496)\n",
      "('MEDICAL TECHNOLOGIES TECHNICIANS', 15914, 45000, 0.03698279)\n",
      "('INFORMATION SCIENCES', 11913, 45000, 0.060741445)\n",
      "('STATISTICS AND DECISION SCIENCE', 6251, 45000, 0.086273666)\n",
      "('APPLIED MATHEMATICS', 4939, 45000, 0.090823307)\n"
     ]
    }
   ],
   "source": [
    "query = \"\"\"\n",
    " SELECT Major, Total, Median, Unemployment_rate\n",
    " FROM recent_grads \n",
    " WHERE (Major_category != 'Engineering') and (Unemployment_rate > 0.065 or Median <= 50000);\n",
    "\"\"\"\n",
    "non_engineering = conn.execute(query).fetchall()\n",
    "\n",
    "i = 0\n",
    "for row in non_engineering:\n",
    "    i += 1\n",
    "    if i < 20:\n",
    "        print(row)"
   ]
  },
  {
   "cell_type": "markdown",
   "metadata": {},
   "source": [
    "###5: Ordering"
   ]
  },
  {
   "cell_type": "markdown",
   "metadata": {},
   "source": [
    "####Instructions"
   ]
  },
  {
   "cell_type": "markdown",
   "metadata": {},
   "source": [
    "Return all non-engineering majors in reverse alphabetical order and store the results in the variable reverse_non_engineering. We're only interested in the major names in the results."
   ]
  },
  {
   "cell_type": "code",
   "execution_count": 6,
   "metadata": {
    "collapsed": false,
    "scrolled": true
   },
   "outputs": [
    {
     "name": "stdout",
     "output_type": "stream",
     "text": [
      "('ZOOLOGY',)\n",
      "('VISUAL AND PERFORMING ARTS',)\n",
      "('UNITED STATES HISTORY',)\n",
      "('TREATMENT THERAPY PROFESSIONS',)\n",
      "('TRANSPORTATION SCIENCES AND TECHNOLOGIES',)\n",
      "('THEOLOGY AND RELIGIOUS VOCATIONS',)\n",
      "('TEACHER EDUCATION: MULTIPLE LEVELS',)\n",
      "('STUDIO ARTS',)\n",
      "('STATISTICS AND DECISION SCIENCE',)\n",
      "('SPECIAL NEEDS EDUCATION',)\n",
      "('SOIL SCIENCE',)\n",
      "('SOCIOLOGY',)\n",
      "('SOCIAL WORK',)\n",
      "('SOCIAL SCIENCE OR HISTORY TEACHER EDUCATION',)\n",
      "('SOCIAL PSYCHOLOGY',)\n",
      "('SECONDARY TEACHER EDUCATION',)\n",
      "('SCIENCE AND COMPUTER TEACHER EDUCATION',)\n",
      "('SCHOOL STUDENT COUNSELING',)\n",
      "('PUBLIC POLICY',)\n"
     ]
    }
   ],
   "source": [
    "query = \"\"\"\n",
    "SELECT major\n",
    "FROM recent_grads\n",
    "WHERE Major_category != 'Engineering'\n",
    "ORDER by major desc;\n",
    "\"\"\"\n",
    "reverse_non_engineering = conn.execute(query).fetchall()\n",
    "\n",
    "i = 0\n",
    "for row in reverse_non_engineering:\n",
    "    i += 1\n",
    "    if i < 20:\n",
    "        print(row)"
   ]
  }
 ],
 "metadata": {
  "kernelspec": {
   "display_name": "Python 3",
   "language": "python",
   "name": "python3"
  },
  "language_info": {
   "codemirror_mode": {
    "name": "ipython",
    "version": 3
   },
   "file_extension": ".py",
   "mimetype": "text/x-python",
   "name": "python",
   "nbconvert_exporter": "python",
   "pygments_lexer": "ipython3",
   "version": "3.4.3"
  }
 },
 "nbformat": 4,
 "nbformat_minor": 0
}
