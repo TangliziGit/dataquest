{
 "cells": [
  {
   "cell_type": "code",
   "execution_count": 1,
   "metadata": {
    "collapsed": true
   },
   "outputs": [],
   "source": [
    "from __future__ import print_function"
   ]
  },
  {
   "cell_type": "markdown",
   "metadata": {},
   "source": [
    "#Linear Algebra in Python"
   ]
  },
  {
   "cell_type": "markdown",
   "metadata": {},
   "source": [
    "##Working with vectors"
   ]
  },
  {
   "cell_type": "markdown",
   "metadata": {},
   "source": [
    "###1: Vectors"
   ]
  },
  {
   "cell_type": "markdown",
   "metadata": {},
   "source": [
    "Let's take a deeper look at matrices. Matrices are made up of rows and columns.\n",
    "\n",
    "A matrix with a single column is called a column vector:\n",
    "\n",
    "$\\begin{bmatrix}\n",
    "3\\\\ \n",
    "1\\\\ \n",
    "2\n",
    "\\end{bmatrix}$\n",
    "\n",
    "A matrix with a single row is called a row vector:\n",
    "\n",
    "$\\begin{bmatrix}\n",
    "3 & 1 & 2\n",
    "\\end{bmatrix}$\n",
    "\n",
    "As you can see, a vector is a single row or a single column. We can add vectors together:\n",
    "\n",
    "$\\begin{bmatrix}\n",
    "3\\\\ \n",
    "1\\\\ \n",
    "2\n",
    "\\end{bmatrix} + \\begin{bmatrix}\n",
    "1\\\\ \n",
    "2\\\\ \n",
    "3\n",
    "\\end{bmatrix} = \n",
    "\\begin{bmatrix}\n",
    "4\\\\ \n",
    "3\\\\ \n",
    "5\n",
    "\\end{bmatrix}$\n",
    "\n",
    "When we add two vectors, we just add each of their elements in the same position together."
   ]
  },
  {
   "cell_type": "markdown",
   "metadata": {},
   "source": [
    "####Instructions"
   ]
  },
  {
   "cell_type": "markdown",
   "metadata": {},
   "source": [
    "Add vector1 and vector2. Assign the result to vector1_2.\n",
    "\n",
    "Add vector3 and vector1. Assign the result to vector3_1."
   ]
  },
  {
   "cell_type": "code",
   "execution_count": 2,
   "metadata": {
    "collapsed": false
   },
   "outputs": [
    {
     "name": "stdout",
     "output_type": "stream",
     "text": [
      "vector1_2: [12 11 10 12]\n",
      "vector3_1: [18 10  9  1]\n"
     ]
    }
   ],
   "source": [
    "import numpy as np\n",
    "\n",
    "vector1 = np.asarray([4, 5, 7, 10])\n",
    "vector2 = np.asarray([8, 6, 3, 2])\n",
    "vector3 = np.asarray([10, 4, 6, -1])\n",
    "\n",
    "vector1_2 = vector1 + vector2\n",
    "print(\"vector1_2:\", vector1_2)\n",
    "\n",
    "vector3_1 = vector3 + vector2\n",
    "print(\"vector3_1:\", vector3_1)"
   ]
  },
  {
   "cell_type": "markdown",
   "metadata": {},
   "source": [
    "###2: Vectors and scalars"
   ]
  },
  {
   "cell_type": "markdown",
   "metadata": {},
   "source": [
    "We can also multiply vectors by single numbers, called scalars.\n",
    "\n",
    "$4 * \\begin{bmatrix}\n",
    "1\\\\ \n",
    "2\\\\ \n",
    "3\n",
    "\\end{bmatrix} = \n",
    "\\begin{bmatrix}\n",
    "4\\\\ \n",
    "8\\\\ \n",
    "12\n",
    "\\end{bmatrix}$\n",
    "\n",
    "In the example above, 4 is a scalar that we are multiplying the vector by. We multiply each element in the vector by the scalar."
   ]
  },
  {
   "cell_type": "markdown",
   "metadata": {},
   "source": [
    "####Instructions"
   ]
  },
  {
   "cell_type": "markdown",
   "metadata": {},
   "source": [
    "Multiply vector by the scalar 7. Assign the result to vector_7.\n",
    "\n",
    "Divide vector by the scalar 8. Assign the result to vector_8.\n"
   ]
  },
  {
   "cell_type": "code",
   "execution_count": 3,
   "metadata": {
    "collapsed": false
   },
   "outputs": [
    {
     "name": "stdout",
     "output_type": "stream",
     "text": [
      "vector_7: [28 -7 49]\n",
      "vector_8: [ 0.5   -0.125  0.875]\n"
     ]
    }
   ],
   "source": [
    "vector = np.asarray([4, -1, 7])\n",
    "\n",
    "vector_7 = vector * 7\n",
    "print(\"vector_7:\", vector_7)\n",
    "\n",
    "vector_8 = vector / 8\n",
    "print(\"vector_8:\", vector_8)"
   ]
  },
  {
   "cell_type": "markdown",
   "metadata": {},
   "source": [
    "###3: Plotting vectors"
   ]
  },
  {
   "cell_type": "markdown",
   "metadata": {},
   "source": [
    "We make can the geometric interpretation of vectors more clear by plotting them. We can do this with the .quiver() method of matplotlib.pyplot. This enables us to plot vectors on a 2-d coordinate grid. We can then see what adding vectors together looks like.\n",
    "\n",
    "In order to plot vectors, we would use:\n",
    "\n",
    "    import matplotlib.pyplot as plt\n",
    "    plt.quiver(X, Y, U, V, angles='xy', scale_units='xy', scale=1)\n",
    "\n",
    "- X -- this is the origin of the vector (x coordinate)\n",
    "- Y -- the y-coordinate origin of the vector\n",
    "- U -- The distance the vector moves on the x axis.\n",
    "- V -- the distance the vector moves on the y axis.\n",
    "\n",
    "Each of X, Y, U, and V are single dimensional numpy arrays (vectors) or lists. The first item in each array corresponds to the first vector, the second item corresponds to the second vector, and so on. We can make the arrays as long or short as we want."
   ]
  },
  {
   "cell_type": "markdown",
   "metadata": {},
   "source": [
    "####Instructions"
   ]
  },
  {
   "cell_type": "markdown",
   "metadata": {},
   "source": [
    "If you look at the plot, both vectors are stacked. The second vector starts right where the first vector ends. In fact, if you look at both vectors together, they end up getting us to the coordinates 4,4.\n",
    "\n",
    "This is vector addition! By drawing one vector starting where the second one ended, we have effectively found the result of adding the two vectors.\n",
    "\n",
    "Make a new plot that contains the two vectors in the first plot, but also adds a vector that starts at 0,0, and goes over 4 and up 4. This will end up at the coordinates 4,4. The final plot will have three vectors on it.\n",
    "\n",
    "Set the x and y axis limits to [0,6]."
   ]
  },
  {
   "cell_type": "code",
   "execution_count": 4,
   "metadata": {
    "collapsed": false
   },
   "outputs": [
    {
     "data": {
      "image/png": "[encoded data removed]",
      "text/plain": [
       "<matplotlib.figure.Figure at 0x79f3c88>"
      ]
     },
     "metadata": {},
     "output_type": "display_data"
    },
    {
     "data": {
      "image/png": "[encoded data removed]",
      "text/plain": [
       "<matplotlib.figure.Figure at 0x9499e80>"
      ]
     },
     "metadata": {},
     "output_type": "display_data"
    }
   ],
   "source": [
    "import numpy as np\n",
    "import matplotlib.pyplot as plt\n",
    "%matplotlib inline\n",
    "\n",
    "# We're going to plot 2 vectors.\n",
    "# The first will start at origin 0,0 , then go over 1 and up 2.\n",
    "# The second will start at origin 1,2 then go over 2 and up 3.\n",
    "X = [0,1]\n",
    "Y = [0,2]\n",
    "U = [1,3]\n",
    "V = [2,2]\n",
    "\n",
    "# Actually make the plot.\n",
    "plt.quiver(X, Y, U, V, angles='xy', scale_units='xy', scale=1)\n",
    "\n",
    "# Set the x axis limits.\n",
    "plt.xlim([0,6])\n",
    "\n",
    "# Set the y axis limits.\n",
    "plt.ylim([0,6])\n",
    "\n",
    "# Show the plot.\n",
    "plt.show()\n",
    "\n",
    "# Draw the second plot.\n",
    "plt.quiver([0,1,0], [0,2,0], [1,3,4], [2,2,4], angles='xy', scale_units='xy', scale=1)\n",
    "plt.xlim([0,6])\n",
    "plt.ylim([0,6])\n",
    "plt.show()"
   ]
  },
  {
   "cell_type": "markdown",
   "metadata": {},
   "source": [
    "###4: Vector length"
   ]
  },
  {
   "cell_type": "markdown",
   "metadata": {},
   "source": [
    "Now that we can plot vectors, we can intuitively figure out vector length. We just saw that a 2 dimensional vector can be represented as a line. Let's say we have this vector:\n",
    "\n",
    "$X = \\begin{bmatrix}\n",
    "2 \\\\\n",
    "3\n",
    "\\end{bmatrix}$\n",
    "\n",
    "Since it's a line, we can calculate its length with the pythagorean theorem. If you think about it, this vector is just the sum of these two component vectors:\n",
    "\n",
    "$X = \\begin{bmatrix}\n",
    "2 \\\\ \n",
    "3\n",
    "\\end{bmatrix} = \\begin{bmatrix}\n",
    "0\\\\\n",
    "3\n",
    "\\end{bmatrix} + \\begin{bmatrix}\n",
    "2 \\\\\n",
    "0\n",
    "\\end{bmatrix}$\n",
    "\n",
    "Both component vectors only have length in one dimension. If we were creating the components of a three dimensional vector, there would be three components, and so on for even higher dimensional vectors.\n",
    "\n",
    "We have a plot of this below for our [2,3] vector, and it's really just a triangle we're making. We can find the length of the hypotenuse of a triangle with the famous formula $a^{2} + b^{2} = c^{2}$, the Pythagorean theorem. We can rewrite this to find the length of c , the hypotenuse (long side). This gives us $c = \\sqrt{a^{2} +  b^{2}}$. The length of any vector, no matter how many dimensions, is just the square root of the sum of all of its elements squared.\n",
    "\n",
    "To find the length of a vector, we just apply the formula. In a two dimensional vector, the first element is the length of the bottom of the triangle (a), and the second element is the length of the right of the triangle (b). By taking the square root of $a^{2} + b^{2}$, we can find the length of the vector. We'll plot this out below and it will become more clear.\n",
    "\n",
    "Below, we'll plot the two component vectors of the $\\begin{bmatrix} 2 \\\\ 3 \\end{bmatrix}$ vector we care about."
   ]
  },
  {
   "cell_type": "markdown",
   "metadata": {},
   "source": [
    "####Instructions"
   ]
  },
  {
   "cell_type": "markdown",
   "metadata": {},
   "source": [
    "Compute the length of the vector $\\begin{bmatrix} 2 \\\\ 3 \\end{bmatrix}$. Assign the result to vector_length."
   ]
  },
  {
   "cell_type": "code",
   "execution_count": 5,
   "metadata": {
    "collapsed": false
   },
   "outputs": [
    {
     "data": {
      "image/png": "[encoded data removed]",
      "text/plain": [
       "<matplotlib.figure.Figure at 0x79f3710>"
      ]
     },
     "metadata": {},
     "output_type": "display_data"
    }
   ],
   "source": [
    "# We're going to plot 3 vectors.\n",
    "# The first will start at origin 0,0, then go over 2 (this represents the bottom of the triangle).\n",
    "# The second will start at origin 0,2, and go up 3 (this is the right side of the triangle).\n",
    "# The third will start at origin 0,0, and go over 2 and up 3 (this is our vector, and is the hypotenuse of the triangle).\n",
    "X = [0,2,0]\n",
    "Y = [0,0,0]\n",
    "U = [2,0,2]\n",
    "V = [0,3,3]\n",
    "\n",
    "# Actually make the plot.\n",
    "plt.quiver(X, Y, U, V, angles='xy', scale_units='xy', scale=1)\n",
    "plt.xlim([0,6])\n",
    "plt.ylim([0,6])\n",
    "plt.show()\n",
    "\n",
    "# We can compute the length of our vector [2,3].\n",
    "vector_length = (4 + 9) ** .5"
   ]
  },
  {
   "cell_type": "markdown",
   "metadata": {},
   "source": [
    "###5: Dot product"
   ]
  },
  {
   "cell_type": "markdown",
   "metadata": {},
   "source": [
    "The dot product can tell us how much of one vector is pointing in the same direction as another vector. We find the dot product for vectors like this:\n",
    "\n",
    "$\\vec{a}\\cdot\\vec{b}=\\begin{bmatrix}\n",
    "a_{1} \\\\\n",
    "a_{2} \\\\\n",
    "a_{3}\n",
    "\\end{bmatrix} \\cdot\n",
    "\\begin{bmatrix}\n",
    "b_{1} \\\\\n",
    "b_{2} \\\\\n",
    "b_{3}\n",
    "\\end{bmatrix} = a_{1}b_{1} + a_{2}b_{2} + a_{3}b_{3}$\n",
    "\n",
    "$\\vec{a}$ and $\\vec{b}$ are vectors. $a_{1}$ is the first element of the a vector, $a_{2}$ is the second, and so on. What this equation is saying is that we calculate the dot product by taking the first element of a, multiplying it by the first element of b, then adding that to the second element of a multiplied by the second element of b, then adding that to the third element of a multiplied by the third element of b.\n",
    "\n",
    "This gives us a number that indicates how much of the length of a is pointing in the same direction as b. If you project a onto the vector b, then it indicates how much of a is \"in\" vector b. When two vectors are at 90 degree angles, the dot product will be zero.\n",
    "\n",
    "Dot products can be applied to vectors with any number of dimensions -- we just multiply the elements at the same positions in both vectors and add the results.\n",
    "\n",
    "Here's an example:\n",
    "\n",
    "$\\begin{bmatrix}\n",
    "1 \\\\\n",
    "1\n",
    "\\end{bmatrix} \n",
    "\\cdot\n",
    "\\begin{bmatrix}\n",
    "-1 \\\\\n",
    "1\n",
    "\\end{bmatrix} = 1 * -1 + 1 * 1 = 0$\n",
    " \n",
    "When two vectors are the same, the dot product will be the square of the vector length:\n",
    "\n",
    "$\\begin{bmatrix}\n",
    "2 \\\\\n",
    "3\n",
    "\\end{bmatrix} \n",
    "\\cdot\n",
    "\\begin{bmatrix}\n",
    "2 \\\\\n",
    "3\n",
    "\\end{bmatrix} = 2 * 2 + 3 * 3 = 4 + 9 = 13$\n",
    "\n",
    "It's not extremely important to understand the meaning of the dot product right now, but its calculation is important in many ways. Chief among them is determining if vectors are orthogonal. Two vectors are orthogonal if they are perpendicular (that is, at a 90 degree angle to each other), and their dot product is zero."
   ]
  },
  {
   "cell_type": "markdown",
   "metadata": {},
   "source": [
    "####Instructions"
   ]
  },
  {
   "cell_type": "markdown",
   "metadata": {},
   "source": [
    "Assign the dot product of the vector $\\begin{bmatrix} 3 \\\\ 4 \\\\ 5 \\\\ 6 \\end{bmatrix}$, and the vector $\\begin{bmatrix} 5 \\\\ 6 \\\\ 7 \\\\ 8 \\end{bmatrix}$ to dot."
   ]
  },
  {
   "cell_type": "code",
   "execution_count": 6,
   "metadata": {
    "collapsed": false
   },
   "outputs": [
    {
     "data": {
      "image/png": "[encoded data removed]",
      "text/plain": [
       "<matplotlib.figure.Figure at 0x976d2b0>"
      ]
     },
     "metadata": {},
     "output_type": "display_data"
    }
   ],
   "source": [
    "# These two vectors are orthogonal.\n",
    "X = [0,0]\n",
    "Y = [0,0]\n",
    "U = [1,-1]\n",
    "V = [1,1]\n",
    "\n",
    "plt.quiver(X, Y, U, V, angles='xy', scale_units='xy', scale=1)\n",
    "plt.xlim([-2,2])\n",
    "plt.ylim([-2,2])\n",
    "plt.show()\n",
    "\n",
    "dot = 3 * 5 + 4 * 7 + 5 * 8 + 6 * 9"
   ]
  },
  {
   "cell_type": "markdown",
   "metadata": {},
   "source": [
    "###6: Making predictions"
   ]
  },
  {
   "cell_type": "markdown",
   "metadata": {},
   "source": [
    "Now, let's try predicting how many points NBA players scored in 2013 using how many field goals they attempted. Our algorithm will be single variable linear regression. Remember that a single variable linear regression takes the form $y=mx+b.y$ is the variable we want to predict, $x$ is the value of the predictor variable, $m$ is the coefficient (slope), annd $b$ is an intercept term.\n",
    "\n",
    "If you've done the statistics lessons, we worked out how to calculate the slope and intercept there. We won't rehash, but the slope is 1.26, and the intercept is -18.92.\n",
    "\n",
    "Now, using the slope and intercept, we want to make predictions on the nba dataframe."
   ]
  },
  {
   "cell_type": "markdown",
   "metadata": {},
   "source": [
    "####Instructions"
   ]
  },
  {
   "cell_type": "markdown",
   "metadata": {},
   "source": [
    "For each row in nba, predict the pts column using the fga column. Use the variables slope and intercept (already loaded in) to complete the linear regression equation. Your final output should be a pandas series -- assign the result to predictions."
   ]
  },
  {
   "cell_type": "code",
   "execution_count": 7,
   "metadata": {
    "collapsed": false
   },
   "outputs": [
    {
     "name": "stdout",
     "output_type": "stream",
     "text": [
      "predictions:\n",
      " 0      75.694253\n",
      "1     193.024269\n",
      "2    1122.833102\n",
      "3     -13.880275\n",
      "4      82.002319\n",
      "5      35.322635\n",
      "6      27.752956\n",
      "7    1643.879300\n",
      "8     553.845607\n",
      "9     802.383382\n",
      "Name: FGA, dtype: float64\n"
     ]
    }
   ],
   "source": [
    "import pandas as pd\n",
    "\n",
    "# Slope and intercept are defined, and nba is loaded in\n",
    "nba = pd.read_csv('data/nba_2013.csv')\n",
    "nba = nba[nba.FGA.str.contains(\"FGA\") == False]\n",
    "nba[\"FGA\"] = nba[\"FGA\"].astype(float)\n",
    "slope = 1.2616130704\n",
    "intercept = -18.9267271172\n",
    "\n",
    "predictions = slope * nba[\"FGA\"] + intercept\n",
    "print(\"predictions:\\n\", predictions[:10])"
   ]
  },
  {
   "cell_type": "markdown",
   "metadata": {},
   "source": [
    "###7: Multiplying a matrix by a vector"
   ]
  },
  {
   "cell_type": "markdown",
   "metadata": {},
   "source": [
    "What we did when we were predicting our linear regression coefficients is fine for when we have one column we're using to predict, but remember that the linear regression equation has a coefficient for every single column that we're using to predict. So for three variables, it would be $y=m_{1}x_{1} + m_{2}x_{2} + m_{3}x_{3} + b$. Sometimes, we'll have thousands of columns we want to use to predict. Writing this out gets tedious (although we could use a for loop), but it's also very slow computationally, because we have to do thousands of separate calculations, and we can't optimize them.\n",
    "\n",
    "Luckily, there's a faster and better way to solve linear regression equations, among other things. It's matrix multiplication, and it's a foundational block of a lot of machine learning.\n",
    "\n",
    "For example, let's say that this matrix represents the coefficients of a linear regression (the first row is the x coefficient, the second row is the intercept term -- there is only one column, so this is a column vector):\n",
    "\n",
    "$\\begin{bmatrix}\n",
    "3 \\\\\n",
    "-1\n",
    "\\end{bmatrix}$\n",
    "\n",
    "And this matrix represents the values of rows that we want to use to generate predictions. The first column is the x values, and the second column is there so that the intercept term can be added to the equation (this will make sense soon):\n",
    "\n",
    "$\\begin{bmatrix}\n",
    "2 & 1 \\\\\n",
    "5 & 1 \\\\\n",
    "-1 & 1\n",
    "\\end{bmatrix}$\n",
    "\n",
    "We can do matrix multiplication like this:\n",
    "\n",
    "$\\begin{bmatrix} 2 & 1 \\\\ 5 & 1 \\\\ -1 & 1 \\end{bmatrix} * \\begin{bmatrix}\n",
    "3 \\\\\n",
    "-1\n",
    "\\end{bmatrix} \n",
    "= \\begin{bmatrix}\n",
    "2 * 3 + 1 * -1 \\\\\n",
    "5 * 3 + 1 * -1 \\\\\n",
    "-1 * 3 + 1 * -1\n",
    "\\end{bmatrix} = \\begin{bmatrix}\n",
    "5 \\\\\n",
    "14 \\\\\n",
    "-4\n",
    "\\end{bmatrix}$\n",
    "\n",
    "What we're doing is starting at the first row in our data. Then we multiply the first element of the first row by the first element in the coefficients. Then we multiply the second element in the first row by the second element in the coefficients column. We add these together. Then, we do the same for the second row in the data. We go across the rows in the first matrix we multiply, and go down the columns in the second matrix we multiply.\n",
    "\n",
    "A more generic version:\n",
    "\n",
    "$\\begin{bmatrix} a_{11} & a_{12} \\\\ a_{21} & a_{22} \\\\ a_{31} & a_{32} \\end{bmatrix} * \\begin{bmatrix}\n",
    "b_{11} \\\\\n",
    "b_{21}\n",
    "\\end{bmatrix} \n",
    "= \\begin{bmatrix}\n",
    "a_{11} * b_{11} + a_{12} * b_{21} \\\\\n",
    "a_{21} * b_{11} + a_{22} * b_{21} \\\\\n",
    "a_{31} * b_{11} + a_{32} * b_{21}\n",
    "\\end{bmatrix}$\n",
    "\n",
    "This is actually much faster and more efficient for a machine to compute than the method of addition that we did earlier. Adding the second column of 1s to the row enables us to add the intercept term when we multiply everything out.\n",
    "\n",
    "We can perform matrix multiplication in python using the .dot() method of numpy."
   ]
  },
  {
   "cell_type": "markdown",
   "metadata": {},
   "source": [
    "####Instructions"
   ]
  },
  {
   "cell_type": "markdown",
   "metadata": {},
   "source": [
    "Multiply nba_rows by nba_coefs. nba_rows contains two columns -- the first is the field goals attempted by each player in 2013, and the second is a constant 1 value that enables us to add in the intercept. Assign the result to predictions."
   ]
  },
  {
   "cell_type": "code",
   "execution_count": 8,
   "metadata": {
    "collapsed": true
   },
   "outputs": [],
   "source": [
    "import numpy as np\n",
    "\n",
    "# Set up the coefficients as a column vector.\n",
    "coefs = np.asarray([[3], [-1]])\n",
    "\n",
    "# Setup the rows we're using to make predictions.\n",
    "rows = np.asarray([[2,1], [5,1], [-1,1]])\n",
    "\n",
    "# We can use np.dot to do matrix multiplication.  This multiplies rows by coefficients -- the order is important.\n",
    "np.dot(rows, coefs)\n",
    "\n",
    "nba_coefs = np.asarray([[slope], [intercept]])\n",
    "nba_rows = np.vstack([nba[\"FGA\"], np.ones(nba.shape[0])]).T\n",
    "predictions = np.dot(nba_rows, nba_coefs)"
   ]
  },
  {
   "cell_type": "markdown",
   "metadata": {},
   "source": [
    "###8: Applying matrix multiplication"
   ]
  },
  {
   "cell_type": "markdown",
   "metadata": {},
   "source": [
    "Multiplying a matrix by a vector, like we did a few screens ago, is a special case of matrix multiplication. The more general case is multiplying two matrices by each other. We multiply a matrix by another matrix in many machine learning methods, including neural networks. Just like with linear regression, it enables us to do multiple calculations much more quickly than we could otherwise.\n",
    "\n",
    "Let's say we wanted to multiply two matrices. First, the number of columns of the first matrix has to equal the number of rows of the second matrix. The final matrix will have as many rows as the first matrix, and as many columns as the second matrix. An easy way to think of this is in terms of matrix dimensions. We can multiply a 3x2 (rows x columns) matrix by a 2x3 matrix, and the final result will be 3x3.\n",
    "\n",
    "Here's the generic version:\n",
    "\n",
    "$\\begin{bmatrix} \n",
    "a_{11} & a_{12} \\\\ \n",
    "a_{21} & a_{22} \\\\ \n",
    "a_{31} & a_{32} \n",
    "\\end{bmatrix} * \n",
    "\\begin{bmatrix}\n",
    "b_{11} & b_{12}\\\\\n",
    "b_{21} & b_{22}\n",
    "\\end{bmatrix} \n",
    "= \\begin{bmatrix}\n",
    "a_{11} * b_{11} + a_{12} * b_{21} & a_{11} * b_{12} + a_{12} * b_{22}\\\\\n",
    "a_{21} * b_{11} + a_{22} * b_{21} & a_{21} * b_{12} + a_{22} * b_{22}\\\\\n",
    "a_{31} * b_{11} + a_{32} * b_{21} & a_{31} * b_{12} + a_{32} * b_{22}\n",
    "\\end{bmatrix}$\n",
    "\n",
    "And here's an example:\n",
    "\n",
    "$\\begin{bmatrix} \n",
    "2 & 1 \\\\ \n",
    "5 & 1 \\\\ \n",
    "-1 & 1 \n",
    "\\end{bmatrix} * \n",
    "\\begin{bmatrix}\n",
    "3 & 1 \\\\\n",
    "-1 & 2\n",
    "\\end{bmatrix} \n",
    "= \\begin{bmatrix}\n",
    "2 * 3 + 1 * -1 & 2 * 1 + 1 * 2\\\\\n",
    "5 * 3 + 1 * -1 & 5 * 1 + 1 * 2\\\\\n",
    "-1 * 3 + 1 * -1 & -1 * 1 + 1 * 2\n",
    "\\end{bmatrix} = \\begin{bmatrix}\n",
    "5 & 4 \\\\\n",
    "14 & 7 \\\\\n",
    "-4 & 1\n",
    "\\end{bmatrix}$\n",
    " \n",
    "We can multiply matrices with the numpy .dot method. It's important to understand how matrix multiplication works, but you'll almost never have to do it by hand."
   ]
  },
  {
   "cell_type": "markdown",
   "metadata": {},
   "source": [
    "####Instructions"
   ]
  },
  {
   "cell_type": "markdown",
   "metadata": {},
   "source": [
    "Multiply A and B together. Assign the result to C."
   ]
  },
  {
   "cell_type": "code",
   "execution_count": 9,
   "metadata": {
    "collapsed": false
   },
   "outputs": [
    {
     "name": "stdout",
     "output_type": "stream",
     "text": [
      "C:\n",
      " [[23  9]\n",
      " [29 13]\n",
      " [38 16]]\n"
     ]
    }
   ],
   "source": [
    "A = np.asarray([[5,2], [3,5], [6,5]])\n",
    "B = np.asarray([[3,1], [4,2]])\n",
    "\n",
    "C = np.dot(A, B)\n",
    "print(\"C:\\n\", C)"
   ]
  }
 ],
 "metadata": {
  "kernelspec": {
   "display_name": "Python 3",
   "language": "python",
   "name": "python3"
  },
  "language_info": {
   "codemirror_mode": {
    "name": "ipython",
    "version": 3
   },
   "file_extension": ".py",
   "mimetype": "text/x-python",
   "name": "python",
   "nbconvert_exporter": "python",
   "pygments_lexer": "ipython3",
   "version": "3.4.3"
  }
 },
 "nbformat": 4,
 "nbformat_minor": 0
}
