{
 "cells": [
  {
   "cell_type": "code",
   "execution_count": 1,
   "metadata": {
    "collapsed": true
   },
   "outputs": [],
   "source": [
    "from __future__ import print_function"
   ]
  },
  {
   "cell_type": "markdown",
   "metadata": {},
   "source": [
    "#Linear Algebra in Python"
   ]
  },
  {
   "cell_type": "markdown",
   "metadata": {},
   "source": [
    "##Solving Systems of Equations with Matrices"
   ]
  },
  {
   "cell_type": "markdown",
   "metadata": {},
   "source": [
    "###1: Systems of equations"
   ]
  },
  {
   "cell_type": "markdown",
   "metadata": {},
   "source": [
    "Let's say that we have two ships. We know the total value of the cargo in each ship's hold, but we don't know how much each item costs. There are two different kinds of items -- fusion reactors, and giant robots.\n",
    "\n",
    "We can represent fusion reactors with the variable x, and giant robots with the variable y. The first ship has 2 fusion reactors and 1 giant robot, and the cargo is worth 25 billion dollars. The second ship has 3 fusion reactors, and 2 giant robots, and the cargo is worth 40 billion dollars.\n",
    "\n",
    "We can represent this mathematically as a system of equations:\n",
    "\n",
    "    2x + y = 25\n",
    "    3x + 2y = 40\n",
    "\n",
    "This is just rewriting the information we had from before -- 2 fusion reactors plus 1 giant robot equals 25 billion dollars, and 3 fusion reactors plus 2 giant robots equals 40 billion dollars.\n",
    "\n",
    "To solve this, we can first multiply the top equation by two:\n",
    "\n",
    "    4x + 2y = 50\n",
    "    3x + 2y = 40\n",
    "\n",
    "This makes sense, because if 2x+y=25 , then it makes sense that 4x+2y=50  -- we're just doubling everything.\n",
    "\n",
    "The next step is to subtract the bottom equation from the top equation:\n",
    "\n",
    "    x = 10  \n",
    "\n",
    "This tells us that x is 10, which means that a fusion reactor is worth 10 billion dollars. We can perform this subtraction because both equations are true statements -- thus subtracting one from the other also yields a true statement.\n",
    "\n",
    "Now that we know that x equals 10, we can substitute that value into the bottom equation to solve for y:\n",
    "\n",
    "    3∗10 + 2y = 40  \n",
    "\n",
    "Which simplifies to:\n",
    "\n",
    "    2y = 10  \n",
    "\n",
    "And finally:\n",
    "\n",
    "    y = 5  \n",
    "\n",
    "So, fusion reactors are worth 10 billion dollars each, and giant robots are 5 billion dollars each."
   ]
  },
  {
   "cell_type": "markdown",
   "metadata": {},
   "source": [
    "###2: Systems of equations as matrices"
   ]
  },
  {
   "cell_type": "markdown",
   "metadata": {},
   "source": [
    "We've worked a bit with matrices before, and the very cool thing about systems of equations is that we can represent them the same way.\n",
    "\n",
    "Our equations above could be represented as a matrix:\n",
    "\n",
    "$\\left[\\begin{array}{rr|r}\n",
    "2 & 1 & 25 \\\\ \n",
    "3 & 2 & 40\n",
    "\\end{array}\\right]$\n",
    "\n",
    "This is just a matrix that contains the coefficients and constants in the equations we have. We called this an augmented matrix, because it has both the constants and the coefficients -- the line separates them, with constants to the right.\n",
    "\n",
    "This matrix has two rows (each of which represents an equation in the system), and 3 columns. The first column represents x, the second represents y, and the third is the constants in the equations (the right of the = sign).\n",
    "\n",
    "The underpinnings of linear algebra are systems of equations, but we generally work with matrices like this because they are simpler to represent.\n",
    "\n",
    "The simplest way to represent a matrix in python is a numpy array. A numpy array can have rows and columns, just like a matrix."
   ]
  },
  {
   "cell_type": "markdown",
   "metadata": {},
   "source": [
    "####Instructions"
   ]
  },
  {
   "cell_type": "markdown",
   "metadata": {},
   "source": [
    "Multiply the first row of the matrix by two.\n",
    "\n",
    "Then subtract the second row from the first row.\n",
    "\n",
    "Then, subtract three times the first row from the second row.\n",
    "\n",
    "Finally, divide the second row by 2 to get rid of the coefficient.\n",
    "\n",
    "At the end, the first row should indicate that x equals 10, and the second row should indicate that y equals 5. We just solved our equation with matrices!"
   ]
  },
  {
   "cell_type": "code",
   "execution_count": 2,
   "metadata": {
    "collapsed": false
   },
   "outputs": [
    {
     "name": "stdout",
     "output_type": "stream",
     "text": [
      "matrix:\n",
      " [[  2.   1.  25.]\n",
      " [  3.   2.  40.]]\n",
      "matrix:\n",
      " [[  4.   2.  50.]\n",
      " [  3.   2.  40.]]\n",
      "matrix:\n",
      " [[  1.   0.  10.]\n",
      " [  3.   2.  40.]]\n",
      "matrix:\n",
      " [[  1.   0.  10.]\n",
      " [  0.   2.  10.]]\n",
      "matrix:\n",
      " [[  1.   0.  10.]\n",
      " [  0.   1.   5.]]\n"
     ]
    }
   ],
   "source": [
    "import numpy as np\n",
    "\n",
    "# Set the dtype to float to do float math with the numbers.\n",
    "matrix = np.asarray([\n",
    "    [2, 1, 25],\n",
    "    [3, 2, 40]  \n",
    "], dtype=np.float32)\n",
    "print(\"matrix:\\n\", matrix)\n",
    "\n",
    "# Multiply the first row by two.\n",
    "matrix[0] *= 2\n",
    "print(\"matrix:\\n\", matrix)\n",
    "\n",
    "# Subtract the second row from the first row.\n",
    "matrix[0] -= matrix[1]\n",
    "print(\"matrix:\\n\", matrix)\n",
    "\n",
    "# Subtract three times the first row from the second row.\n",
    "matrix[1] -= (3 * matrix[0])\n",
    "print(\"matrix:\\n\", matrix)\n",
    "\n",
    "# Divide the second row by two.\n",
    "matrix[1] /= 2\n",
    "print(\"matrix:\\n\", matrix)"
   ]
  },
  {
   "cell_type": "markdown",
   "metadata": {},
   "source": [
    "###3: Gauss's method"
   ]
  },
  {
   "cell_type": "markdown",
   "metadata": {},
   "source": [
    "We just used Gauss's Method to solve systems of linear equations, but we didn't explicitly state what it is. Gauss's method is pretty simple, and just states that:\n",
    "If a linear system is changed to another by one of the following operations:\n",
    "\n",
    "    (1) an equation is swapped with another\n",
    "    (2) an equation has both sides multiplied by a nonzero constant\n",
    "    (3) an equation is replaced by the sum of itself and a multiple of another\n",
    "\n",
    "then the two systems have the same set of solutions.\n",
    "\n",
    "This is how we can transform our systems of equations through swapping and multiplying, and solve the system. It's because our simplified representation leads to the same solutions as the more complex initial system."
   ]
  },
  {
   "cell_type": "markdown",
   "metadata": {},
   "source": [
    "###4: Solving more complex equations"
   ]
  },
  {
   "cell_type": "markdown",
   "metadata": {},
   "source": [
    "We looked at a pretty simple system of equations beforehand, but we can extend our methods to even solve more complex systems.\n",
    "\n",
    "$\\left[\\begin{array}{rrr|r}\n",
    "1 & 1 & 0 & 0 \\\\ \n",
    "2 & -1 & 3 & 3 \\\\\n",
    "1 & -2 & -1 & 3\n",
    "\\end{array}\\right]$\n",
    "\n",
    "In this system, we have three variables (first column is x, second is y, and the third is z). We also have three equations that we can manipulate.\n",
    "\n",
    "The first thing we can do is subtract 2 times the first row from the second row:\n",
    "\n",
    "$\\left[\\begin{array}{rrr|r}\n",
    "1 & 1 & 0 & 0 \\\\ \n",
    "0 & -3 & 3 & 3 \\\\\n",
    "1 & -2 & -1 & 3\n",
    "\\end{array}\\right]$\n",
    "\n",
    "Then we can subtract the first row from the third row:\n",
    "\n",
    "$\\left[\\begin{array}{rrr|r}\n",
    "1 & 1 & 0 & 0 \\\\ \n",
    "0 & -3 & 3 & 3 \\\\\n",
    "0 & -3 & -1 & 3\n",
    "\\end{array}\\right]$\n",
    "\n",
    "Then, we can subtract the second row from the third row:\n",
    "\n",
    "$\\left[\\begin{array}{rrr|r}\n",
    "1 & 1 & 0 & 0 \\\\ \n",
    "0 & -3 & 3 & 3 \\\\\n",
    "0 & 0 & -4 & 0\n",
    "\\end{array}\\right]$\n",
    "\n",
    "This tells us that z equals 0. We can substitute into the second row to solve for y:\n",
    "\n",
    "$\\left[\\begin{array}{rrr|r}\n",
    "1 & 1 & 0 & 0 \\\\ \n",
    "0 & -3 & 0 & 3 \\\\\n",
    "0 & 0 & 1 & 0\n",
    "\\end{array}\\right]$\n",
    "\n",
    "This tells us that y equals -1. We can substitute into the first equation to solve for x:\n",
    "\n",
    "$\\left[\\begin{array}{rrr|r}\n",
    "1 & 0 & 0 & 1 \\\\ \n",
    "0 & 1 & 0 & -1 \\\\\n",
    "0 & 0 & 1 & 0\n",
    "\\end{array}\\right]$\n",
    "\n",
    "Now, we have everything solved!"
   ]
  },
  {
   "cell_type": "markdown",
   "metadata": {},
   "source": [
    "####Instructions"
   ]
  },
  {
   "cell_type": "markdown",
   "metadata": {},
   "source": [
    "Solve for x, y, and z in matrix. When you're done, the matrix should look like this, except with the right answers substituted for the question marks:\n",
    "\n",
    "$\\left[\\begin{array}{rrr|r}\n",
    "1.0 & 0 & 0 & ? \\\\ \n",
    "0 & 1.0 & 0 & ? \\\\\n",
    "0 & 0 & 1.0 & ?\n",
    "\\end{array}\\right]$\n",
    "\n",
    "You can use print(matrix) to print the matrix out as you solve it and assess your progress."
   ]
  },
  {
   "cell_type": "code",
   "execution_count": 3,
   "metadata": {
    "collapsed": false
   },
   "outputs": [
    {
     "name": "stdout",
     "output_type": "stream",
     "text": [
      "matrix:\n",
      " [[  1.   2.   0.   7.]\n",
      " [  0.   3.   3.  11.]\n",
      " [  1.   2.   2.  11.]]\n",
      "matrix:\n",
      " [[  1.   2.   0.   7.]\n",
      " [  0.   3.   3.  11.]\n",
      " [  0.   0.   2.   4.]]\n",
      "matrix:\n",
      " [[  1.   2.   0.   7.]\n",
      " [  0.   3.   3.  11.]\n",
      " [  0.   0.   1.   2.]]\n",
      "matrix:\n",
      " [[ 1.  2.  0.  7.]\n",
      " [ 0.  3.  0.  5.]\n",
      " [ 0.  0.  1.  2.]]\n",
      "matrix:\n",
      " [[ 1.          2.          0.          7.        ]\n",
      " [ 0.          1.          0.          1.66666663]\n",
      " [ 0.          0.          1.          2.        ]]\n",
      "matrix:\n",
      " [[ 1.          0.          0.          3.66666675]\n",
      " [ 0.          1.          0.          1.66666663]\n",
      " [ 0.          0.          1.          2.        ]]\n"
     ]
    }
   ],
   "source": [
    "import numpy as np\n",
    "\n",
    "matrix = np.asarray([\n",
    "    [1, 2, 0, 7],\n",
    "    [0, 3, 3, 11],\n",
    "    [1, 2, 2, 11]\n",
    "], dtype=np.float32)\n",
    "print(\"matrix:\\n\", matrix)\n",
    "\n",
    "# Subtract the first row from the third row.\n",
    "matrix[2] -= matrix[0]\n",
    "print(\"matrix:\\n\", matrix)\n",
    "\n",
    "# Divide the third row by 2.\n",
    "matrix[2] /= 2\n",
    "print(\"matrix:\\n\", matrix)\n",
    "\n",
    "# Subtract three times the third row from the second row.\n",
    "matrix[1] -= (matrix[2] * 3)\n",
    "print(\"matrix:\\n\", matrix)\n",
    "\n",
    "# Divide the second row by three.\n",
    "matrix[1] /= 3\n",
    "print(\"matrix:\\n\", matrix)\n",
    "\n",
    "# Subtract two times the second row from the first row.\n",
    "matrix[0] -= (2 * matrix[1])\n",
    "print(\"matrix:\\n\", matrix)"
   ]
  },
  {
   "cell_type": "markdown",
   "metadata": {},
   "source": [
    "###5: Echelon form"
   ]
  },
  {
   "cell_type": "markdown",
   "metadata": {},
   "source": [
    "A leading variable is the first variable with a nonzero coefficient in a row. Echelon form is what happens when the leading variable of each row is to the right of the leading variable in the previous row. Any rows consisting of all zeros should be at the bottom.\n",
    "\n",
    "Here's an example of a matrix representing a system of linear equations in echelon form:\n",
    "\n",
    "$\\left[\\begin{array}{rrr|r}\n",
    "1 & 0 & 1 & 5 \\\\ \n",
    "0 & 5 & 7 & 10 \\\\\n",
    "0 & 0 & 1 & 4\n",
    "\\end{array}\\right]$\n",
    "\n",
    "Here's another example of a matrix in echelon form:\n",
    "\n",
    "$\\left[\\begin{array}{rrr|r}\n",
    "1 & -1 & 1 & 5 \\\\ \n",
    "0 & 5 & 0 & -2 \\\\\n",
    "0 & 0 & 2 & -5 \\\\\n",
    "0 & 0 & 0 & 0\n",
    "\\end{array}\\right]$\n",
    "\n",
    "And here's a matrix that isn't in echelon form:\n",
    "\n",
    "$\\left[\\begin{array}{rrr|r}\n",
    "1 & 1 & 0 & 0 \\\\ \n",
    "2 & -1 & 3 & 3 \\\\\n",
    "1 & -2 & -1 & 3\n",
    "\\end{array}\\right]$\n",
    "\n",
    "Getting a matrix into echelon form makes a system of linear equations much easier to solve. This is where row swapping can come in handy."
   ]
  },
  {
   "cell_type": "markdown",
   "metadata": {},
   "source": [
    "####Instructions"
   ]
  },
  {
   "cell_type": "markdown",
   "metadata": {},
   "source": [
    "Swap rows to get matrix into echelon form. matrix[[0,2]] = matrix[[2,0]] will exchange the first and the third rows."
   ]
  },
  {
   "cell_type": "code",
   "execution_count": 4,
   "metadata": {
    "collapsed": false
   },
   "outputs": [
    {
     "name": "stdout",
     "output_type": "stream",
     "text": [
      "matrix:\n",
      " [[  0.   0.   0.   7.]\n",
      " [  0.   0.   1.  11.]\n",
      " [  1.   2.   2.  11.]\n",
      " [  0.   5.   5.   1.]]\n",
      "matrix:\n",
      " [[  1.   2.   2.  11.]\n",
      " [  0.   0.   1.  11.]\n",
      " [  0.   0.   0.   7.]\n",
      " [  0.   5.   5.   1.]]\n",
      "matrix:\n",
      " [[  1.   2.   2.  11.]\n",
      " [  0.   5.   5.   1.]\n",
      " [  0.   0.   0.   7.]\n",
      " [  0.   0.   1.  11.]]\n",
      "matrix:\n",
      " [[  1.   2.   2.  11.]\n",
      " [  0.   5.   5.   1.]\n",
      " [  0.   0.   1.  11.]\n",
      " [  0.   0.   0.   7.]]\n"
     ]
    }
   ],
   "source": [
    "matrix = np.asarray([\n",
    "    [0, 0, 0, 7],\n",
    "    [0, 0, 1, 11],\n",
    "    [1, 2, 2, 11],\n",
    "    [0, 5, 5, 1]\n",
    "], dtype=np.float32)\n",
    "print(\"matrix:\\n\", matrix)\n",
    "\n",
    "# Swap the first and the third rows - first swap.\n",
    "matrix[[0,2]] = matrix[[2,0]]\n",
    "print(\"matrix:\\n\", matrix)\n",
    "\n",
    "# Second swap.\n",
    "matrix[[1,3]] = matrix[[3,1]]\n",
    "print(\"matrix:\\n\", matrix)\n",
    "\n",
    "# Third swap.\n",
    "matrix[[2,3]] = matrix[[3,2]]\n",
    "print(\"matrix:\\n\", matrix)"
   ]
  },
  {
   "cell_type": "markdown",
   "metadata": {},
   "source": [
    "###6: Reduced row echelon form"
   ]
  },
  {
   "cell_type": "markdown",
   "metadata": {},
   "source": [
    "Generally, the way to solve systems of linear equations is to first try to get them into reduced row echelon form. We just covered echelon form. reduced row echelon form meets all the same conditions as echelon form, except every leading variable must equal 1, and it must be the only nonzero entry in its column.\n",
    "\n",
    "Here's an augmented matrix in reduced row echelon form. Note that coefficients and constants are treated separately, so constants don't have to follow the guidelines for reduced row echelon form:\n",
    "\n",
    "$\\left[\\begin{array}{rrr|r}\n",
    "1 & 0 & 0 & 0 \\\\ \n",
    "0 & 1 & 0 & 3 \\\\\n",
    "0 & 0 & 1 & 0\n",
    "\\end{array}\\right]$\n",
    "\n",
    "Here's a regular matrix in reduced row echelon form:\n",
    "\n",
    "$\\begin{bmatrix}\n",
    "1 & 0 \\\\ \n",
    "0 & 1\n",
    "\\end{bmatrix}$\n",
    "\n",
    "Generally, to get to reduced row echelon form, we repeat the following steps:\n",
    "- Start on a new row\n",
    "- Perform any needed swaps to move the leftmost available leading coefficient to the current row\n",
    "- Divide the row by its leading coefficient to make the leading coefficient equal 1\n",
    "- Subtract the row from all other rows (with an appropriate multiplier) to ensure that its leading variable is the only nonzero value in its column.\n",
    "- Repeat until entire matrix is in reduced row-echelon form."
   ]
  },
  {
   "cell_type": "code",
   "execution_count": 5,
   "metadata": {
    "collapsed": false
   },
   "outputs": [
    {
     "name": "stdout",
     "output_type": "stream",
     "text": [
      "A:\n",
      " [[  0.   2.   1.   5.]\n",
      " [  3.   0.   1.  10.]\n",
      " [  1.   2.   1.   8.]]\n",
      "A:\n",
      " [[  3.   0.   1.  10.]\n",
      " [  0.   2.   1.   5.]\n",
      " [  1.   2.   1.   8.]]\n",
      "A:\n",
      " [[ 1.          0.          0.33333334  3.33333325]\n",
      " [ 0.          2.          1.          5.        ]\n",
      " [ 1.          2.          1.          8.        ]]\n",
      "A:\n",
      " [[ 1.          0.          0.33333334  3.33333325]\n",
      " [ 0.          2.          1.          5.        ]\n",
      " [ 0.          2.          0.66666663  4.66666698]]\n",
      "A:\n",
      " [[ 1.          0.          0.33333334  3.33333325]\n",
      " [ 0.          1.          0.5         2.5       ]\n",
      " [ 0.          2.          0.66666663  4.66666698]]\n",
      "A:\n",
      " [[ 1.          0.          0.33333334  3.33333325]\n",
      " [ 0.          1.          0.5         2.5       ]\n",
      " [ 0.          0.         -0.33333337 -0.33333302]]\n"
     ]
    }
   ],
   "source": [
    "A = np.asarray([\n",
    "        [0, 2, 1, 5],\n",
    "        [3, 0, 1, 10],\n",
    "        [1, 2, 1, 8]\n",
    "        ], dtype=np.float32)\n",
    "print(\"A:\\n\", A)\n",
    "\n",
    "# First, we'll swap the second row with the first to get a nonzero coefficient in the first column.\n",
    "A[[0,1]] = A[[1,0]]\n",
    "print(\"A:\\n\", A)\n",
    "\n",
    "# Then, we divide the first row by 3 to get a coefficient of 1.\n",
    "A[0] /= 3\n",
    "print(\"A:\\n\", A)\n",
    "\n",
    "# Now, we need to make sure that our 1 coefficient is the only coefficient in its column.\n",
    "# We have to subtract the first row from the third row.\n",
    "A[2] -= A[0]\n",
    "print(\"A:\\n\", A)\n",
    "\n",
    "# Now, we move to row 2.\n",
    "# We divide by 2 to get a one as the leading coefficient.\n",
    "A[1] /= 2\n",
    "print(\"A:\\n\", A)\n",
    "\n",
    "# We subtract 2 times the second row from the third to get rid of the second column coefficient in the third row.\n",
    "A[2] -= (2 * A[1])\n",
    "\n",
    "# Now, we can move to the third row, but it already looks good.\n",
    "# We're finished, and our system is solved!\n",
    "print(\"A:\\n\", A)"
   ]
  },
  {
   "cell_type": "markdown",
   "metadata": {},
   "source": [
    "###7: Inconsistency"
   ]
  },
  {
   "cell_type": "markdown",
   "metadata": {},
   "source": [
    "Not all systems of equations can be solved. In the cases where they can't, we call the system inconsistent. An inconsiste system will have two or more equations that conflict, making it impossible to find a solution. Here's an example:\n",
    "\n",
    "$\\left[\\begin{array}{rr|r}\n",
    "8 & 4 & 5 \\\\ \n",
    "4 & 2 & 5\n",
    "\\end{array}\\right]$\n",
    "\n",
    "We can divide the first row by 2:\n",
    "\n",
    "$\\left[\\begin{array}{rr|r}\n",
    "4 & 2 & 2.5 \\\\ \n",
    "4 & 2 & 5\n",
    "\\end{array}\\right]$\n",
    "\n",
    "There's no way that $4x+2y=2.5$ and $4x+2y=5$, so we would consider this an inconsistent system. Inconsistent systems have no solutions."
   ]
  },
  {
   "cell_type": "markdown",
   "metadata": {},
   "source": [
    "####Instructions"
   ]
  },
  {
   "cell_type": "markdown",
   "metadata": {},
   "source": [
    "Find whether A is consistent. Assign True to A_consistent if it is, False if it isn't.\n",
    "\n",
    "Find whether B is consistent. Assign True to B_consistent if it is, False if it isn't."
   ]
  },
  {
   "cell_type": "code",
   "execution_count": 6,
   "metadata": {
    "collapsed": true
   },
   "outputs": [],
   "source": [
    "A = np.asarray([\n",
    "    [10, 5, 20, 60],\n",
    "    [3, 1, 0, 11],\n",
    "    [8, 2, 2, 30],\n",
    "    [0, 4, 5, 13]\n",
    "], dtype=np.float32)\n",
    "\n",
    "B = np.asarray([\n",
    "    [5, -1, 3, 14],\n",
    "    [0, 1, 2, 8],\n",
    "    [0, -2, 5, 1],\n",
    "    [0, 0, 6, 6]\n",
    "], dtype=np.float32)\n",
    "\n",
    "# Divide first row by 10.\n",
    "A[0] /= 10\n",
    "\n",
    "# Subtract 3 times the first row from the second.\n",
    "A[1] -= (3 * A[0])\n",
    "\n",
    "# Subtract 8 times the first row from the third.\n",
    "A[2] -= (8 * A[0])\n",
    "\n",
    "# Multiply the second row by -2.\n",
    "A[1] *= -2\n",
    "\n",
    "# Subtract .5 times the second row from the first.\n",
    "A[0] -= (A[1] * .5)\n",
    "\n",
    "#  Subtract -2 times the second row from the third.\n",
    "A[2] -= (A[1] * -2)\n",
    "\n",
    "# Subtract 4 times the second row from the fourth.\n",
    "A[3] -= (A[1] * 4)\n",
    "\n",
    "# Divide the third row by 10.\n",
    "A[2] /= 10\n",
    "\n",
    "# Subtract -4 times the third row from the first.\n",
    "A[0] -= (A[2] * -4)\n",
    "\n",
    "# Subtract 12 times the third row from the second.\n",
    "A[1] -= (A[2] * 12)\n",
    "\n",
    "# Subtract the third row times -43 from the fourth.\n",
    "A[3] -= (A[2] * -43)\n",
    "\n",
    "# A is in row echelon form, and we have a unique solution, so it is consistent.\n",
    "A_consistent = True\n",
    "\n",
    "# Divide the fourth row by 6.\n",
    "B[3] /= 6\n",
    "\n",
    "# Subtract -2 times the second row from the third row.\n",
    "B[2] -= (B[1] * -2)\n",
    "\n",
    "# Divide the third row by 9.\n",
    "B[2] /= 9\n",
    "\n",
    "# The last variable (z) cannot simultaneously equal 1.88 and 1, so B is inconsistent.\n",
    "B_consistent = False"
   ]
  },
  {
   "cell_type": "markdown",
   "metadata": {},
   "source": [
    "###8: Infinite solutions"
   ]
  },
  {
   "cell_type": "markdown",
   "metadata": {},
   "source": [
    "We've seen cases in which systems of equations have zero solutions, or one solution. There's one other case we need to worry about: sometimes, systems have infinite solutions. This ususally happens when we're unable to simplify an equation enough that each variable is alone in a row. In these cases, there are free variables, which do not lead any rows, and leading variables, which do. We express the values of the leading variables using the free variables.\n",
    "\n",
    "Here's an example:\n",
    "\n",
    "$\\left[\\begin{array}{rrr|r}\n",
    "1 & 1 & 0 & 0 \\\\ \n",
    "2 & -1 & 3 & 3\n",
    "\\end{array}\\right]$\n",
    "\n",
    "We can simplify, and subtract two times the first row from the second:\n",
    "\n",
    "$\\left[\\begin{array}{rrr|r}\n",
    "1 & 1 & 0 & 0 \\\\ \n",
    "0 & -3 & 3 & 3\n",
    "\\end{array}\\right]$\n",
    "\n",
    "Now we're stuck -- we're in echelon form, but we can't simplify any more. \n",
    "\n",
    "x and y are the leading variables, and z is the free variable, because it doesn't lead any rows. Thus, we can express x and y in terms of z.\n",
    "\n",
    "We start with the second row, and get:\n",
    "\n",
    "$\\begin{array}{lllcl} -3y & + & 3z & = & 3 \\end{array}$\n",
    "\n",
    "$\\begin{array}{lllcl} y & - & z & = & -1 \\end{array}$\n",
    "\n",
    "$\\begin{array}{lllcl} y & = & z & - & 1 \\end{array}$\n",
    "\n",
    "So, we have expressed y in terms of z. We can now do the same with x. First, we substitute the value for y into the first row:\n",
    "\n",
    "$\\begin{array}{lllcl} x & + & (z-1) & = & 0 \\end{array}$\n",
    "\n",
    "$\\begin{array}{lllcl} x & = & 1 & - & z \\end{array}$\n",
    "\n",
    "This system of equations has infinite solutions, because z could take on any value -- we don't have any way to simplify any more. Since we have chosen to express y and x in terms of z, z is called a parameter. Not all free variables have to be parameters -- you can choose which ones to use when expressing a leading variable."
   ]
  },
  {
   "cell_type": "markdown",
   "metadata": {},
   "source": [
    "####Instructions"
   ]
  },
  {
   "cell_type": "markdown",
   "metadata": {},
   "source": [
    "Check whether A has infinite solutions. If it does, assign True to A_infinite, otherwise assign False.\n",
    "\n",
    "Check whether B has infinite solutions. If it does, assign True to B_infinite, otherwise assign False."
   ]
  },
  {
   "cell_type": "code",
   "execution_count": 7,
   "metadata": {
    "collapsed": true
   },
   "outputs": [],
   "source": [
    "A = np.asarray([\n",
    "        [2, 4, 8, 20],\n",
    "        [4, 8, 16, 40],\n",
    "        [20, 5, 5, 10]\n",
    "], dtype=np.float32)\n",
    "\n",
    "B = np.asarray([\n",
    "        [1, 1, 1, 4],\n",
    "        [3, -2, 5, 8],\n",
    "        [8, -4, 5, 10]\n",
    "        ], dtype=np.float32)\n",
    "\n",
    "# Divide the first row in A by 2.\n",
    "A[0] /= 2\n",
    "\n",
    "# Subtract the first row times 4 from the second row.\n",
    "# This zeros out the row\n",
    "A[1] -= (A[0] * 4)\n",
    "\n",
    "# Subtract the first row times 20 from the last row.\n",
    "A[2] -= (A[0] * 20)\n",
    "\n",
    "# Now we're stuck -- we can't simplify A any more, so it has infinite solutions.\n",
    "A_infinite = True\n",
    "\n",
    "# B -- Subtract the first row times 3 from the second row.\n",
    "B[1] -= (B[0] * 3)\n",
    "\n",
    "# Subtract the first row times 8 from the third row.\n",
    "B[2] -= (B[0] * 8)\n",
    "\n",
    "# Divide the second row by -5.\n",
    "B[1] /= -5\n",
    "\n",
    "# Subtract the second row from the first.\n",
    "B[0] -= B[1]\n",
    "\n",
    "# Subtract the second row times -12 from the third row.\n",
    "B[2] -= (B[1] * -12)\n",
    "\n",
    "# Divide the last row by -7.8 (the third column element).\n",
    "B[2] /= B[2,2]\n",
    "\n",
    "# Subtract the third row times the third column of the first row from the first row.\n",
    "B[0] -= (B[2] * B[0][2])\n",
    "\n",
    "# Subtract the third row times the third column of the second row from the second row.\n",
    "B[1] -= (B[2] * B[1][2])\n",
    "\n",
    "# B is solveable, and has a single solution -- it is not infinite.\n",
    "B_infinite = False"
   ]
  },
  {
   "cell_type": "markdown",
   "metadata": {},
   "source": [
    "###9: Homogeneity"
   ]
  },
  {
   "cell_type": "markdown",
   "metadata": {},
   "source": [
    "A linear equation is homogeneous if it has a constant of zero. Here's an example:\n",
    "\n",
    "$4x+2y−4z=0$\n",
    "\n",
    "These equations are special, because they can always be solved by setting the value of each variable to zero.\n",
    "\n",
    "A system of linear equations is homogeneous if all the equations have a constant of zero.\n",
    "\n",
    "$\\left[\\begin{array}{rrr|r}\n",
    "1 & 1 & 0 & 0 \\\\ \n",
    "0 & -3 & 3 & 0 \\\\\n",
    "1 & -7 & 4 & 0 \\\\\n",
    "\\end{array}\\right]$\n",
    "\n",
    "A system of equations that is homogeneous always has at least one solution -- setting each variable to zero will always solve the system."
   ]
  },
  {
   "cell_type": "markdown",
   "metadata": {},
   "source": [
    "###10: Singularity"
   ]
  },
  {
   "cell_type": "markdown",
   "metadata": {},
   "source": [
    "A matrix is square if it has the same number of columns as rows. Here's a square matrix:\n",
    "\n",
    "$\\begin{bmatrix}\n",
    "1 & 1 & 0 \\\\ \n",
    "0 & -3 & 3 \\\\\n",
    "1 & -7 & 4 \\\\\n",
    "\\end{bmatrix}$\n",
    "\n",
    "A square matrix is nonsingular if it represents a homogenous system with one unique solution. When we represent a homegeneous system, we can skip showing the coefficients, because we can assume that they are zero. Here's a nonsingular matrix:\n",
    "\n",
    "$\\begin{bmatrix}\n",
    "1 & 2 \\\\ \n",
    "3 & 4\n",
    "\\end{bmatrix}$\n",
    "\n",
    "This is nonsingular because when we simplify it, we find that x and y both are zero. First, we subtract three times the first row from the second row.\n",
    "\n",
    "$\\left[\\begin{array}{rr|r}\n",
    "1 & 2 & 0 \\\\ \n",
    "0 & -2 & 0\n",
    "\\end{array}\\right]$\n",
    "\n",
    "So, we have −2y=0 , which simplifies to y=0 .\n",
    "\n",
    "$\\left[\\begin{array}{rr|r}\n",
    "1 & 2 & 0 \\\\ \n",
    "0 & 1 & 0\n",
    "\\end{array}\\right]$\n",
    "\n",
    "Then, we can subtract two times the second row from the first row:\n",
    "\n",
    "$\\left[\\begin{array}{rr|r}\n",
    "1 & 0 & 0 \\\\ \n",
    "0 & 1 & 0\n",
    "\\end{array}\\right]$\n",
    "\n",
    "This tells us that both x and y must equal zero.\n",
    "\n",
    "A square matrix is singular if it represents a homogeneous system with infinite solutions. Here's an example:\n",
    "\n",
    "$\\begin{bmatrix}\n",
    "1 & 2 \\\\ \n",
    "3 & 6\n",
    "\\end{bmatrix}$\n",
    "\n",
    "This is singular because we can't simplify it past a certain point. Let's try this. First, we subtract 3 times the first row from the second row:\n",
    "\n",
    "$\\left[\\begin{array}{rr|r}\n",
    "1 & 2 & 0 \\\\ \n",
    "0 & 0 & 0\n",
    "\\end{array}\\right]$\n",
    "\n",
    "We have zeroed out the whole second row. We can't simplify this anymore, so all we have is $x+2y=0$. Infinite solutions will work for this, including $x=0$, $y=0$, $x=2$, $y=−1$, and $x=6$, $y=−3$.\n",
    "\n",
    "The concept of singularity will be very important down the line, as we look into inverting matrices."
   ]
  }
 ],
 "metadata": {
  "kernelspec": {
   "display_name": "Python 3",
   "language": "python",
   "name": "python3"
  },
  "language_info": {
   "codemirror_mode": {
    "name": "ipython",
    "version": 3
   },
   "file_extension": ".py",
   "mimetype": "text/x-python",
   "name": "python",
   "nbconvert_exporter": "python",
   "pygments_lexer": "ipython3",
   "version": "3.4.3"
  }
 },
 "nbformat": 4,
 "nbformat_minor": 0
}
