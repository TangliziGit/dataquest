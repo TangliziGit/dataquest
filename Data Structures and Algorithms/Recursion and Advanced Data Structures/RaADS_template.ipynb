{
 "cells": [
  {
   "cell_type": "code",
   "execution_count": 1,
   "metadata": {
    "collapsed": true
   },
   "outputs": [],
   "source": [
    "from __future__ import print_function"
   ]
  },
  {
   "cell_type": "markdown",
   "metadata": {},
   "source": [
    "#Data Structures and Algorithms"
   ]
  },
  {
   "cell_type": "markdown",
   "metadata": {},
   "source": [
    "##Recursion and Advanced Data Structures"
   ]
  },
  {
   "cell_type": "markdown",
   "metadata": {},
   "source": [
    "###1: Recursion"
   ]
  },
  {
   "cell_type": "markdown",
   "metadata": {},
   "source": [
    "Recursion is a concept that's difficult to grasp at first, but a very rewarding and fun tool to those who understand it. Recursion is a method of repeating code, without using loops. It usually takes the form of a function which calls itself during its execution.\n",
    "\n",
    "From this simple mechanism arises a shocking amount of interesting algorithms. Recursive algorithms often seem lazy when we write them, and can appear magical when they work. It's important to understand recursion so that you can think about problems in new ways, and write satisfying code that performs logic succinctly.\n",
    "\n",
    "The best way to understand recursion is through example. A simple use case is the factorial function in mathematics. Here are some examples of the factorial function:\n",
    "\n",
    "    3! = 3 * 2 * 1\n",
    "    5! = 5 * 4 * 3 * 2 * 1\n",
    "\n",
    "A factorial is denoted using the ! sign, so n! denotes multiplying n by n - 1, then n - 2, and so on until 1."
   ]
  },
  {
   "cell_type": "markdown",
   "metadata": {},
   "source": [
    "###2: A recursive look at factorials"
   ]
  },
  {
   "cell_type": "markdown",
   "metadata": {},
   "source": [
    "Upon inspection, we can see a pattern in the factorial function. Let's break down the evaluation of 5!.\n",
    "\n",
    "    5! = 5 * 4 * 3 * 2 * 1 = 5 * (4 * 3 * 2 * 1) = 5 * (4!)\n",
    "\n",
    "We can see that 5! is really 5 * (4!). Let's pretend we already know how to evaluate 4!. Then suddenly, 5! becomes a very easy thing to calculate.\n",
    "\n",
    "But how do we know how to calculate 4!? Well, it's just 4 * (3!). Easy.\n",
    "\n",
    "How about 3!? Just 3 * (2!).\n",
    "\n",
    "This pattern of evaluation continues, and we're never really doing much difficult computation. Notice with each step of the calculation, we are actually using the factorial function to help us compute a factorial. All we need to know now is where to stop."
   ]
  },
  {
   "cell_type": "markdown",
   "metadata": {},
   "source": [
    "###3: Base cases"
   ]
  },
  {
   "cell_type": "markdown",
   "metadata": {},
   "source": [
    "The last component we need to define our recursive function is a base case. Our function needs to know when to stop, otherwise it will just keep calling itself forever. In the case of our factorial function, we want to stop at 0, so we'll make that our base case.\n",
    "\n",
    "When we call factorial with 0 as its input, we want to simply return 1. This may seem a bit odd, but mathematically, 0! is defined to be 1. We don't have to worry much about why this is, we'll just accept the definition and use it in our recursion. 1! still evaluates to 1 * (0!), which is 1.\n",
    "\n",
    "When our input is not 0, we want to recursively call our function, performing whatever operations are necessary to properly execute our recursive algorithm."
   ]
  },
  {
   "cell_type": "markdown",
   "metadata": {},
   "source": [
    "####Instructions"
   ]
  },
  {
   "cell_type": "markdown",
   "metadata": {},
   "source": [
    "Read the recursive implementation of factorial below. It's nearly complete, but will run forever in its current form. Add our base case to ensure that the function stops.\n",
    "\n",
    "Store the result of calling factorial on 1 in factorial1.\n",
    "\n",
    "Store the result of calling factorial on 5 in factorial5.\n",
    "\n",
    "Store the result of calling factorial on 25 in factorial25."
   ]
  },
  {
   "cell_type": "code",
   "execution_count": 2,
   "metadata": {
    "collapsed": false
   },
   "outputs": [
    {
     "name": "stdout",
     "output_type": "stream",
     "text": [
      "factorial1: 1\n",
      "factorial5: 120\n",
      "factorial25: 15511210043330985984000000\n"
     ]
    }
   ],
   "source": [
    "# Recursive factorial function\n",
    "def factorial(n):\n",
    "    # Check the base case\n",
    "    if n == 0:\n",
    "        return 1\n",
    "    # Recursive case\n",
    "    return n * factorial(n - 1)\n",
    "\n",
    "factorial1 = factorial(1)\n",
    "print(\"factorial1:\", factorial1)\n",
    "\n",
    "factorial5 = factorial(5)\n",
    "print(\"factorial5:\", factorial5)\n",
    "\n",
    "factorial25 = factorial(25)\n",
    "print(\"factorial25:\", factorial25)"
   ]
  },
  {
   "cell_type": "markdown",
   "metadata": {},
   "source": [
    "###4: Visualization of Recursion"
   ]
  },
  {
   "cell_type": "markdown",
   "metadata": {},
   "source": [
    "So recursion works, but you may not be entirely convinced of how and why it works. To illustrate, we'll use a real-life example of a recursive algorithm.\n",
    "\n",
    "Suppose you are sitting in an auditorium, and you'd like to know which row you are in. Let's assume the rows are not labelled.\n",
    "\n",
    "You could count all of the rows in front of you, but that would take quite awhile. This is analogous to the iterative approach (using a loop). You are doing a lot of work. However, you realize there is a way to delegate that work to other people.\n",
    "\n",
    "You ask the person in front of you what row he is in. When he responds, you can simply add 1 to that row number. That person does the same thing. He asks the person in front of him, and that person asks the person in front of him, and so on.\n",
    "\n",
    "Each time a person is asked represents a function call. You are the first function call, the man in front of you is the next. However, none of the function calls are finished executing yet, since they are still waiting for responses. When finally the man in the front row is asked what row he is in, we have reached our base case. There is nobody ahead of him, so he knows that he is in row 1.\n",
    "\n",
    "He responds that he is in row 1. The person behind him knows he/she is in row 2, and this information bubbles back up to you, with each person in the chain adding 1 to the response they receive. This bubbling-up is analogous to the base case being reached, and then each recursive call resolving itself one by one, with the most recently called functions ending first.\n",
    "\n",
    "Finally, the man in front of you tells you his row number, you add 1, and you've found your answer. Each function call did very little work, and you still achieved a correct answer."
   ]
  },
  {
   "cell_type": "markdown",
   "metadata": {},
   "source": [
    "###5: Fibonacci"
   ]
  },
  {
   "cell_type": "markdown",
   "metadata": {},
   "source": [
    "The Fibonacci sequence is a famous series of numbers that starts out as follows:\n",
    "\n",
    "    1, 1, 2, 3, 5, 8, 13, 21, 34, 55, ...\n",
    "\n",
    "Each number in the Fibonacci sequence is the sum of the previous two numbers. For instance, 34 in the above sequence is the sum of 13 and 21.\n",
    "\n",
    "The only exceptions are the first two numbers. Since the sequence is too short to calculate them, the first two numbers of the sequence are ones by definition. These two numbers are the base cases for the Fibonacci sequence."
   ]
  },
  {
   "cell_type": "markdown",
   "metadata": {},
   "source": [
    "####Instructions"
   ]
  },
  {
   "cell_type": "markdown",
   "metadata": {},
   "source": [
    "Recursively implement the function fib, which takes n as an argument and returns the nth Fibonacci number. Check our base case by checking if n is 0 or 1 (the indices of the first two Fibonacci numbers, which should both be 1).\n",
    "\n",
    "Use recursive function calls that match the Fibonacci definition when n is not a base case.\n",
    "\n",
    "Store the result of calling fib on 1 in fib1.\n",
    "\n",
    "Store the result of calling fib on 5 in fib5.\n",
    "\n",
    "Store the result of calling fib on 25 in fib25."
   ]
  },
  {
   "cell_type": "code",
   "execution_count": 3,
   "metadata": {
    "collapsed": false
   },
   "outputs": [
    {
     "name": "stdout",
     "output_type": "stream",
     "text": [
      "fib1: 1\n",
      "fib5: 8\n",
      "fib25: 121393\n"
     ]
    }
   ],
   "source": [
    "def fib(n):\n",
    "    # Check the base case\n",
    "    if n == 0 or n == 1:\n",
    "        return 1\n",
    "    # Recursive case\n",
    "    return fib(n - 1) + fib(n - 2)\n",
    "\n",
    "fib1 = fib(1)\n",
    "print(\"fib1:\", fib1)\n",
    "\n",
    "fib5 = fib(5)\n",
    "print(\"fib5:\", fib5)\n",
    "\n",
    "fib25 = fib(25)\n",
    "print(\"fib25:\", fib25)"
   ]
  },
  {
   "cell_type": "markdown",
   "metadata": {},
   "source": [
    "###6: Linked Lists - A Recursive Data Structure"
   ]
  },
  {
   "cell_type": "markdown",
   "metadata": {},
   "source": [
    "Linked lists are very similar to arrays, but differ in how they are implemented. A linked list is made up of many nodes, each of which contains a few pieces of information, depending on the type of linked list we are implementing. We will implement a singly linked list.\n",
    "\n",
    "In a singly linked list, each node contains its data, and the next node. Let's think about how this works. Suppose we want to access the data in the third node. From the first node, we can access its next node, which is the second. From that node, we can access its next node, which is the third node. We now have access to the data we were looking for. Each node is like an element in an array, except that it has some extra information (the next node) aside from just the data.\n",
    "\n",
    "Linked lists are a recursive data structure. Each node contains the data, and then points to another linked list (the next node). This is a recursive definition for the data structure, since we include a linked list in the definition. The base case is our empty linked list, which we will represent with the Python None value.\n",
    "\n",
    "Since linked lists are recursive, we can write a lot of interesting algorithms to work with them. Looping through a linked list is awkward, but we will see that recursing on them feels more natural."
   ]
  },
  {
   "cell_type": "markdown",
   "metadata": {},
   "source": [
    "###7: Linked List Length"
   ]
  },
  {
   "cell_type": "markdown",
   "metadata": {},
   "source": [
    "We said before that linked lists are recursive data structures. In recursive data structures, we can often take advantage of recursion to perform operations.\n",
    "\n",
    "With a linked list, we can find the length of any linked list by adding 1 to the length of its tail list (the list after the first element). By recursing in this fashion, and only stopping when we reach the empty, or None, linked list, we can write a simple function without loops that calculates a linked list's length.\n",
    "\n",
    "We have loaded a linked list of names for you to play with, called people. In our implementation, we can access the first node of a linked list with people.head(), and the rest of the linked list with people.tail(). We've also provided a helpful is_empty method for linked lists. people.is_empty() returns a boolean value."
   ]
  },
  {
   "cell_type": "markdown",
   "metadata": {},
   "source": [
    "####Instructions"
   ]
  },
  {
   "cell_type": "markdown",
   "metadata": {},
   "source": [
    "Read the iterative implementation of the length_iterative function, which returns the length of the given linked list.\n",
    "\n",
    "Recursively implement the function length_recursive, which takes ls (a linked list) as an argument and returns the length of the linked list.\n",
    "\n",
    "Store the result of calling length_recursive on people in people_length.\n",
    "\n",
    "We've provided you with a print_list function to help you debug. It can be used by calling people.print_list()."
   ]
  },
  {
   "cell_type": "code",
   "execution_count": 4,
   "metadata": {
    "collapsed": false
   },
   "outputs": [],
   "source": [
    "# First person's name\n",
    "#first_item = people.head().get_data()\n",
    "\n",
    "# Getting linked list length using iteration\n",
    "def length_iterative(ls):\n",
    "    count = 0\n",
    "    while not ls.is_empty():\n",
    "        count = count + 1\n",
    "        ls = ls.tail()\n",
    "    return count\n",
    "\n",
    "# Getting linked list length using recursion\n",
    "def length_recursive(ls):\n",
    "    if ls.is_empty():\n",
    "        return 0\n",
    "    return 1 + length_recursive(ls.tail())\n",
    "\n",
    "#people_length = length_recursive(people)"
   ]
  },
  {
   "cell_type": "markdown",
   "metadata": {},
   "source": [
    "###8: Linked List Insertion and Deletion"
   ]
  },
  {
   "cell_type": "markdown",
   "metadata": {},
   "source": [
    "Since linked lists don't maintain a central index of any kind, searching for a specific node means starting from the first node and accessing the next node until the value is found or returning false if it isn't. This is inefficient, but linked lists do have some advantages.\n",
    "\n",
    "One advantage of a linked list is that we need to modify very few nodes when inserting or deleting, since only a constant number of changes are necessary.\n",
    "\n",
    "To understand linked list insertion and deletion, imagine a line of people with their hands on the backs of the person in front of them. If we want to add a person to this line, only one person needs to remove his/her hands, and place them on the new person's shoulders. The new person now puts his hands on the shoulders of the person in front of him, and nobody else needed to detach from their neighbors.\n",
    "\n",
    "Similarly, if we want to remove someone from the line, his/her neighbor behind must let go, and then hold the shoulders of the next person, but nobody else needs to do anything.\n",
    "\n",
    "In a linked list, very few nodes need to change when a new node is inserted or a node is deleted. This makes insertion and deletion very quick, as only a constant number of changes need to be made. In contrast, an array requires a lot of elements to shift when we perform insertions or deletions.\n",
    "\n",
    "It's important to note that when we're discussing the time complexity of insertion and deletion, we already have immediate access to the node we're working with. If we need to search for a node to delete, or for the location where we'd like to insert a node, that would require some more time since we first need to find the node."
   ]
  },
  {
   "cell_type": "markdown",
   "metadata": {},
   "source": [
    "###9: Linked List Time Complexity"
   ]
  },
  {
   "cell_type": "markdown",
   "metadata": {},
   "source": [
    "####Instructions"
   ]
  },
  {
   "cell_type": "markdown",
   "metadata": {},
   "source": [
    "Read the commented descriptions of linked list operations. Based on the description and your knowledge of time complexity, set the variable below to \"constant\", \"logarithmic\", or \"linear\", depending on the complexity you believe the operation has."
   ]
  },
  {
   "cell_type": "code",
   "execution_count": 5,
   "metadata": {
    "collapsed": true
   },
   "outputs": [],
   "source": [
    "# Retrieving an item in the linked list by index\n",
    "retrieval_by_index = \"\"\n",
    "\n",
    "# Retrieving an item in the linked list by value\n",
    "retrieval_by_value = \"\"\n",
    "\n",
    "# Deleting an item from the linked list, with access to the item and \n",
    "#     the item before it\n",
    "deletion = \"\"\n",
    "\n",
    "# Inserting an item into the linked list, with access to the location\n",
    "#     where we are inserting\n",
    "insertion = \"\"\n",
    "\n",
    "# Calculating the length of a linked list using a loop\n",
    "length_iterative = \"\"\n",
    "\n",
    "# Calculating the length of a linked list using recursion\n",
    "length_recursive = \"\"\n",
    "retrieval_by_index = \"linear\"\n",
    "retrieval_by_value = \"linear\"\n",
    "deletion = \"constant\"\n",
    "insertion = \"constant\"\n",
    "length_iterative = \"linear\"\n",
    "length_recursive = \"linear\""
   ]
  }
 ],
 "metadata": {
  "kernelspec": {
   "display_name": "Python 3",
   "language": "python",
   "name": "python3"
  },
  "language_info": {
   "codemirror_mode": {
    "name": "ipython",
    "version": 3
   },
   "file_extension": ".py",
   "mimetype": "text/x-python",
   "name": "python",
   "nbconvert_exporter": "python",
   "pygments_lexer": "ipython3",
   "version": "3.4.3"
  }
 },
 "nbformat": 4,
 "nbformat_minor": 0
}
