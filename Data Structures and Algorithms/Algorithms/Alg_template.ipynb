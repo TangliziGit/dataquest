{
 "cells": [
  {
   "cell_type": "code",
   "execution_count": 1,
   "metadata": {
    "collapsed": true
   },
   "outputs": [],
   "source": [
    "from __future__ import print_function"
   ]
  },
  {
   "cell_type": "markdown",
   "metadata": {},
   "source": [
    "#Data Structures and Algorithms"
   ]
  },
  {
   "cell_type": "markdown",
   "metadata": {},
   "source": [
    "##Algorithms"
   ]
  },
  {
   "cell_type": "markdown",
   "metadata": {},
   "source": [
    "###1: What is an algorithm?"
   ]
  },
  {
   "cell_type": "markdown",
   "metadata": {},
   "source": [
    "An algorithm is a well-defined series of steps that are taken to perform a task. An algorithm usually has an input, and an output. It may sound familiar, and really any code you write performs an algorithm, whether it be simple or complicated.\n",
    "\n",
    "In real life, we perform algorithms daily. Following a cookie recipe is an example of a series of steps that takes an input (sugar, milk, flour, etc.) and produces an output (the cookies). \n",
    "\n",
    "You may have seen machine learning algorithms previously on Dataquest. These are a special, specific type of algorithm, but many more categories of algorithms exist. In this mission, we'll show you a few examples of what an algorithm looks like, and introduce some methods for evaluating the efficiency of those algorithms."
   ]
  },
  {
   "cell_type": "markdown",
   "metadata": {},
   "source": [
    "###2: Implementing an algorithm"
   ]
  },
  {
   "cell_type": "markdown",
   "metadata": {},
   "source": [
    "Let's start with a simple algorithm that searches for a value in a list. One algorithm we could use is a linear search. Remember that an algorithm is a particular method for performing a task, and linear search is only one example of an algorithm that can solve this problem.\n",
    "\n",
    "Linear search checks a list of items for a particular value by checking each item in the list until it finds the item it is looking for. If a matching item is not found, we can determine that no matching item exists in the list."
   ]
  },
  {
   "cell_type": "markdown",
   "metadata": {},
   "source": [
    "####Instructions"
   ]
  },
  {
   "cell_type": "markdown",
   "metadata": {},
   "source": [
    "Write a linear search algorithm to find \"Kobe Bryant\" in the nba dataset. The first column (index 0) of the dataset contains each player's name.\n",
    "\n",
    "When \"Kobe Bryant\" is found, store his position (the second column of the dataset) in the variable kobe_position."
   ]
  },
  {
   "cell_type": "code",
   "execution_count": 2,
   "metadata": {
    "collapsed": false
   },
   "outputs": [
    {
     "name": "stdout",
     "output_type": "stream",
     "text": [
      "kobe_position: SG\n"
     ]
    }
   ],
   "source": [
    "import csv\n",
    "with open(\"data/nba_2013.csv\", \"r\") as f:\n",
    "    reader = csv.reader(f, delimiter=\",\")\n",
    "    nba = list(reader)\n",
    "\n",
    "# When Kobe is found in the dataset, store his position in Kobe_position.\n",
    "kobe_position = \"\"\n",
    "\n",
    "# Find Kobe in the dataset.\n",
    "kobe_position = \"\"\n",
    "for row in nba:\n",
    "    if row[0] == \"Kobe Bryant\":\n",
    "        kobe_position = row[1]\n",
    "\n",
    "print(\"kobe_position:\", kobe_position)"
   ]
  },
  {
   "cell_type": "markdown",
   "metadata": {},
   "source": [
    "###3: Importance of modularity and abstraction"
   ]
  },
  {
   "cell_type": "markdown",
   "metadata": {},
   "source": [
    "As algorithms get more complex, it's important to keep code modular.\n",
    "\n",
    "Modular code is split into smaller chunks of code that can be reused easily and often. This is most typically done using functions.\n",
    "\n",
    "Abstraction is the idea that someone can use code to perform an operation without having to worry about how that code is implemented.\n",
    "\n",
    "An easy example of modularity and abstraction is the sum() function. We don't know how exactly the function is implemented, we only need to know what it does. That makes it abstract. It also saves us the work of having to manually compute sums in many parts of our code. That makes it modular."
   ]
  },
  {
   "cell_type": "markdown",
   "metadata": {},
   "source": [
    "###4: Linear search revisited"
   ]
  },
  {
   "cell_type": "markdown",
   "metadata": {},
   "source": [
    "Now let's try writing a modular search function that can easily find the age of any player in our dataset without having to repeat code."
   ]
  },
  {
   "cell_type": "markdown",
   "metadata": {},
   "source": [
    "####Instructions"
   ]
  },
  {
   "cell_type": "markdown",
   "metadata": {},
   "source": [
    "Write a function called player_age that takes in a name parameter. The function should return the age of the player with name name, according to our nba dataset (which we have loaded in for you). If the player is not found, the function should return -1.\n",
    "\n",
    "The third row (index 2) of nba contains players' ages.\n",
    "\n",
    "Store the age of \"Ray Allen\" in the variable allen_age.\n",
    "\n",
    "Store the age of \"Kevin Durant\" in the variable durant_age.\n",
    "\n",
    "Store the age of \"Shaquille O'Neal\" in the variable shaq_age.\n",
    "\n",
    "If the for loop finishes execution without returning, it's safe to return -1 since no matching player was found."
   ]
  },
  {
   "cell_type": "code",
   "execution_count": 3,
   "metadata": {
    "collapsed": false
   },
   "outputs": [
    {
     "name": "stdout",
     "output_type": "stream",
     "text": [
      "allen_age: 38\n",
      "durant_age: 25\n",
      "shaq_age: -1\n"
     ]
    }
   ],
   "source": [
    "# player_age returns the age of a player in our nba dataset\n",
    "def player_age(name):\n",
    "    for row in nba:\n",
    "        if row[0] == name:\n",
    "            return row[2]\n",
    "    return -1\n",
    "    \n",
    "allen_age = player_age(\"Ray Allen\")\n",
    "print(\"allen_age:\", allen_age)\n",
    "\n",
    "durant_age = player_age(\"Kevin Durant\")\n",
    "print(\"durant_age:\", durant_age)\n",
    "\n",
    "shaq_age = player_age(\"Shaquille O'Neal\")\n",
    "print(\"shaq_age:\", shaq_age)"
   ]
  },
  {
   "cell_type": "markdown",
   "metadata": {},
   "source": [
    "###5: What makes an algorithm smart?"
   ]
  },
  {
   "cell_type": "markdown",
   "metadata": {},
   "source": [
    "So far, we've been working with a simple algorithm: linear search. However, when we need to perform more complicated tasks, algorithms become much more involved, and often many algorithms exist that achieve the same result.\n",
    "\n",
    "With multiple algorithms to choose from, trade-offs must be made, and a programmer has to choose which algorithm best suits his/her needs. The most common factor to consider is time complexity.\n",
    "\n",
    "Time complexity is a measurement of how much time an algorithm takes with respect to its input size. Algorithms that have a smaller time complexity generally take less time and are more desirable."
   ]
  },
  {
   "cell_type": "markdown",
   "metadata": {},
   "source": [
    "###6: Constant time algorithms"
   ]
  },
  {
   "cell_type": "markdown",
   "metadata": {},
   "source": [
    "Let's consider an algorithm that returns the first element of a list:\n",
    "\n",
    "    def first(ls):\n",
    "        return ls[0]\n",
    "\n",
    "Regardless of the size of the list, returning the first element is done in constant time. It only takes one operation to retrieve this element, no matter how large the list.\n",
    "\n",
    "We tend to think of algorithms in terms of steps. Any primitive operation like setting a variable or performing arithmetic is considered a step. Algorithms that take a constant number of steps are always constant time, even if that constant number is not 1. \n",
    "\n",
    "Most complicated algorithms are not constant time. However, many operations within larger algorithms are constant time. Since we don't particularly care about what the constant is, we don't need to tediously count steps as long as we are certain we will get a constant.\n",
    "\n",
    "An example of an operation that is not constant-time is a loop that touches every element in an input list. Since a larger input would cause more steps to be necessary, we cannot treat this operation as a constant. We'll look closely at examples like this soon."
   ]
  },
  {
   "cell_type": "markdown",
   "metadata": {},
   "source": [
    "###7: Example constant time algorithms"
   ]
  },
  {
   "cell_type": "markdown",
   "metadata": {},
   "source": [
    "It's important to recognize the time complexity of your algorithms."
   ]
  },
  {
   "cell_type": "markdown",
   "metadata": {},
   "source": [
    "####Instructions"
   ]
  },
  {
   "cell_type": "markdown",
   "metadata": {},
   "source": [
    "Read the function implementations below. Of A, B, and C, one implementation is not constant time. Indicate which by setting not_constant to the value \"A\", \"B\", or \"C\"."
   ]
  },
  {
   "cell_type": "code",
   "execution_count": 4,
   "metadata": {
    "collapsed": true
   },
   "outputs": [],
   "source": [
    "# Implementation A: Convert degrees Celcius to degrees Fahrenheit\n",
    "def celcius_to_fahrenheit(degrees):\n",
    "    step_1 = degrees * 1.8\n",
    "    step_2 = step_1 + 32\n",
    "    return step_2\n",
    "\n",
    "# Implementation B: Reverse a list\n",
    "def reverse(ls):\n",
    "    length = len(ls)\n",
    "    new_list = []\n",
    "    for i in range(length):\n",
    "        new_list[i] = ls[length - i]\n",
    "    return new_list\n",
    "\n",
    "# Implementation C: Print a blastoff message after a countdown\n",
    "def blastoff(message):\n",
    "    count = 10\n",
    "    for i in range(count):\n",
    "        print(count - i)\n",
    "    print(message)\n",
    "\n",
    "not_constant = \"\"\n",
    "not_constant = \"B\""
   ]
  },
  {
   "cell_type": "markdown",
   "metadata": {
    "collapsed": true
   },
   "source": [
    "###8: Common pitfall"
   ]
  },
  {
   "cell_type": "markdown",
   "metadata": {},
   "source": [
    "We said earlier that small steps in an algorithm can often be considered constant time. However, be careful not to expect that every small operation is constant time. For instance, function calls and built-in Python operations are often not constant time because the function/operator itself is not constant time.\n",
    "\n",
    "    def has_milk(fridge_items):\n",
    "        if \"milk\" in fridge_items:\n",
    "            return True\n",
    "        else:\n",
    "            return False\n",
    "\n",
    "\n",
    "It's easy to mistake the above function for a constant time algorithm. However, the python in operator has to search through the given list to see if the element \"milk\" exists, which can take more or less time depending on the size of the list. This algorithm, therefore, is not constant time."
   ]
  },
  {
   "cell_type": "markdown",
   "metadata": {
    "collapsed": true
   },
   "source": [
    "###9: Linear time algorithms"
   ]
  },
  {
   "cell_type": "markdown",
   "metadata": {},
   "source": [
    "Now let's consider the linear search we wrote earlier. It looked something like this:\n",
    "\n",
    "    def player_age(name):\n",
    "        for row in nba:\n",
    "            if row[0] == name:\n",
    "                return row[2]\n",
    "        return -1\n",
    "\n",
    "\n",
    "The above code stops executing and returns immediately when the nba player is found, so it doesn't waste steps checking the rest of the list.\n",
    "\n",
    "If a linear search is performed, and the element we are looking for happens to be first in the list, then the search is very quick. However, that case isn't very interesting, and it doesn't tell us very much about what trade-offs we are really making by choosing an algorithm.\n",
    "\n",
    "The worst case of a linear search happens when the element does not exist in the list, or is found late in the list. This is the case we care about, since we need to account for the worst case so that our algorithm is more robust.\n",
    "\n",
    "For a list of size n, in the worst case n elements have to be checked. We refer to this time complexity as linear time, since the time the algorithm takes to run grows at a constant rate with respect to its input size.\n",
    "\n",
    "Algorithms that take constant multiples of n steps (where n is the input size) are still linear time. For instance, an algorithm that takes 5n steps, or even 0.5n steps, is linear time. For example, if we have an algorithm that prints the first half of a list (and we know the length of the list ahead of time), the algorithm would take 0.5n time. Even though it takes less than n time, we still consider it linear.\n",
    "\n",
    "It's also worth noting that we only care about performance at a large scale. At a small scale, most algorithms will run pretty quickly, and it's only when n gets large that we worry about time complexity. Consequently, only the highest order of n is considered for time complexity. So, an algorithm that runs in 9n + 20 time is linear, because the constant component is negligable for large values of n."
   ]
  },
  {
   "cell_type": "markdown",
   "metadata": {},
   "source": [
    "###10: Some other algorithms"
   ]
  },
  {
   "cell_type": "markdown",
   "metadata": {},
   "source": [
    "We have seen only two types of algorithms so far: linear time and constant time algorithms. There are infinitely many categories of algorithms and time complexities, but just these two cover a large variety of different algorithms."
   ]
  },
  {
   "cell_type": "markdown",
   "metadata": {},
   "source": [
    "####Instructions"
   ]
  },
  {
   "cell_type": "markdown",
   "metadata": {},
   "source": [
    "Read the implementations of algorithms, and indicate their time complexities by setting the variables below to \"linear\" or \"constant\", as appropriate for their corresponding algorithms.\n",
    "\n",
    "Remember that function calls also take time. So, if an internal function costs n operations, we must be sure to factor that into our time complexity analysis."
   ]
  },
  {
   "cell_type": "code",
   "execution_count": 5,
   "metadata": {
    "collapsed": false
   },
   "outputs": [
    {
     "name": "stdout",
     "output_type": "stream",
     "text": [
      "is_empty_2_complexity: \n",
      "length_time_complexity: linear\n",
      "is_empty_1_complexity: linear\n",
      "is_empty_2_complexity: constant\n"
     ]
    }
   ],
   "source": [
    "# Find the length of a list.\n",
    "def length(ls):\n",
    "    count = 0\n",
    "    for elem in ls:\n",
    "        count = count + 1\n",
    "length_time_complexity = \"\"\n",
    "\n",
    "# Check if a list is empty -- Implementation 1.\n",
    "def is_empty_1(ls):\n",
    "    if length(ls) == 0:\n",
    "        return True\n",
    "    else:\n",
    "        return False\n",
    "is_empty_1_complexity = \"\"\n",
    "\n",
    "# Check if a list is empty -- Implementation 2.\n",
    "def is_empty_2(ls):\n",
    "    for element in ls:\n",
    "        return False\n",
    "    return True\n",
    "\n",
    "is_empty_2_complexity = \"\"\n",
    "print(\"is_empty_2_complexity:\", is_empty_2_complexity)\n",
    "\n",
    "length_time_complexity = \"linear\"\n",
    "print(\"length_time_complexity:\", length_time_complexity)\n",
    "\n",
    "is_empty_1_complexity = \"linear\"\n",
    "print(\"is_empty_1_complexity:\", is_empty_1_complexity)\n",
    "\n",
    "is_empty_2_complexity = \"constant\"\n",
    "print(\"is_empty_2_complexity:\", is_empty_2_complexity)"
   ]
  },
  {
   "cell_type": "markdown",
   "metadata": {},
   "source": [
    "###11: A brief note about notation"
   ]
  },
  {
   "cell_type": "markdown",
   "metadata": {},
   "source": [
    "When discussing time complexity, we should use the proper notation. Most commonly, we use Big-O Notation. The notation is rather simple. \n",
    "\n",
    "To denote constant time, we would write O(1), since 1 is a constant (and a simple constant).\n",
    "\n",
    "To denote linear time, we would write O(n), since n is the simplest example of linearity.\n",
    "\n",
    "For other time complexities, Big-O Notation follows a similar pattern. O(n^2), O(2^n), O(log(n)), etc. are all valid time complexities. The algorithms with these complexities are probably rather complicated, and we don't need to worry about them right now. Just know how to recognize Big-O Notation so that we can use it to describe time complexities in future missions."
   ]
  },
  {
   "cell_type": "markdown",
   "metadata": {},
   "source": [
    "###12: Why time complexity matters"
   ]
  },
  {
   "cell_type": "markdown",
   "metadata": {},
   "source": [
    "When we are analyzing real-world data, time complexity is an important consideration. Since datasets can get quite large, an inefficient algorithm will perform very slowly.\n",
    "\n",
    "Algorithms with lower-order time complexities are more efficient. Constant time algorithms, denoted O(1), are more efficient than linear time algorithms, denoted O(n). Similarly, an algorithm with complexity O(n^2) is more efficient than one with complexity O(n^3).\n",
    "\n",
    "When we try to choose an algorithm, we always want to find the one with the lowest time complexity. It may not always be the easiest to implement, but the extra effort is usually worth the resulting efficiency."
   ]
  }
 ],
 "metadata": {
  "kernelspec": {
   "display_name": "Python 3",
   "language": "python",
   "name": "python3"
  },
  "language_info": {
   "codemirror_mode": {
    "name": "ipython",
    "version": 3
   },
   "file_extension": ".py",
   "mimetype": "text/x-python",
   "name": "python",
   "nbconvert_exporter": "python",
   "pygments_lexer": "ipython3",
   "version": "3.4.3"
  }
 },
 "nbformat": 4,
 "nbformat_minor": 0
}
