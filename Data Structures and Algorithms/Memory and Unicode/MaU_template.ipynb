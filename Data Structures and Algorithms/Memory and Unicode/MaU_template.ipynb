{
 "cells": [
  {
   "cell_type": "code",
   "execution_count": 1,
   "metadata": {
    "collapsed": true
   },
   "outputs": [],
   "source": [
    "from __future__ import print_function"
   ]
  },
  {
   "cell_type": "markdown",
   "metadata": {},
   "source": [
    "#Data Structures and Algorithms"
   ]
  },
  {
   "cell_type": "markdown",
   "metadata": {},
   "source": [
    "##Memory and Unicode"
   ]
  },
  {
   "cell_type": "markdown",
   "metadata": {},
   "source": [
    "###1: Intro to binary"
   ]
  },
  {
   "cell_type": "markdown",
   "metadata": {},
   "source": [
    "Computers can't directly store values like strings or integers.\n",
    "\n",
    "Instead, they store information in binary -- the only valid numbers in binary are a 0 or a 1.\n",
    "\n",
    "This lets data be stored on devices like hard drives -- we just learned how hard drives store data.\n",
    "\n",
    "We normally count in base 10.\n",
    "\n",
    "It's called base 10 because there are 10 possible digits -- 0 through 9.\n",
    "\n",
    "Binary is base two, because there are only two possible digits - 0 and 1.\n",
    "\n",
    "Let's explore how binary numbers work."
   ]
  },
  {
   "cell_type": "markdown",
   "metadata": {},
   "source": [
    "####Instructions"
   ]
  },
  {
   "cell_type": "markdown",
   "metadata": {},
   "source": [
    "Convert the binary number \"100\" to a base 10 integer. Assign the result to base_10_100."
   ]
  },
  {
   "cell_type": "code",
   "execution_count": 2,
   "metadata": {
    "collapsed": false
   },
   "outputs": [
    {
     "name": "stdout",
     "output_type": "stream",
     "text": [
      "b: 10\n",
      "int(b, 2): 2\n",
      "base_10_100: 4\n",
      "base_10_101: 5\n"
     ]
    }
   ],
   "source": [
    "# Let's say 'a' is a binary number.  In Python, we have to store binary numbers as strings.\n",
    "# Trying to say b = 10 directly will assume base 10, so strings are needed.\n",
    "b = \"10\"\n",
    "print(\"b:\", b)\n",
    "\n",
    "# We can convert 'b' to a binary number from a string using the int function.\n",
    "# The optional second argument base is set to 2 (binary is base two).\n",
    "print(\"int(b, 2):\", int(b, 2))\n",
    "\n",
    "base_10_100 = int(\"100\", 2)\n",
    "print(\"base_10_100:\", base_10_100)\n",
    "\n",
    "base_10_101 = int(\"101\", 2)\n",
    "print(\"base_10_101:\", base_10_101)"
   ]
  },
  {
   "cell_type": "markdown",
   "metadata": {},
   "source": [
    "###2: Binary addition"
   ]
  },
  {
   "cell_type": "markdown",
   "metadata": {},
   "source": [
    "Just like with base 10 numbers, we can add binary numbers together."
   ]
  },
  {
   "cell_type": "markdown",
   "metadata": {},
   "source": [
    "####Instructions"
   ]
  },
  {
   "cell_type": "markdown",
   "metadata": {},
   "source": [
    "Add \"10\" (base 2) to c."
   ]
  },
  {
   "cell_type": "code",
   "execution_count": 3,
   "metadata": {
    "collapsed": false
   },
   "outputs": [],
   "source": [
    "# 'a' is in base 10 -- because we have 10 possible digits, the highest value we can represent with one digit is 9.\n",
    "a = 9\n",
    "#print(\"a:\", a)\n",
    "\n",
    "# When we want to represent a value one higher, we need to add another digit.\n",
    "a += 1\n",
    "\n",
    "# 'a' now has two digits -- we incremented the invisible leading digit, which was 0 and is now 1, and set the last digit back to zero.\n",
    "#print(\"a:\", a)\n",
    "\n",
    "# When we add 1 to 19, we increment the leading 1 by 1, and then set the last digit to 0, giving us 20.\n",
    "a = 19\n",
    "#print(\"a:\", a)\n",
    "\n",
    "a += 1\n",
    "#print(\"a:\", a)\n",
    "\n",
    "# When we add 1 to 99, we increment the last digit by 1, and add 1 to the first digit, but the first digit is now greater than 9, so we have to increment the invisible leading digit.\n",
    "a = 99\n",
    "#print(\"a:\", a)\n",
    "\n",
    "a += 1\n",
    "#print(\"a:\", a)\n",
    "\n",
    "# Binary addition works the exact same way, except the highest value any single digit can represent is 1.\n",
    "b = \"1\"\n",
    "\n",
    "# We'll add binary values using a binary_add function that was made just for this exercise.\n",
    "# It's not extremely important to know how it works right this second.\n",
    "def binary_add(a, b):\n",
    "    return bin(int(a, 2) + int(b, 2))[2:]\n",
    "\n",
    "c = binary_add(b, \"1\")\n",
    "\n",
    "# We now see that 'c' equals \"10\", which is exactly what happens in base 10 when we reach the highest possible digit.\n",
    "#print(\"c:\", c)\n",
    "\n",
    "# c now equals \"11\".\n",
    "c = binary_add(c, \"1\")\n",
    "#print(\"c:\", c)\n",
    "\n",
    "# c now equals \"100\".\n",
    "c = binary_add(c, \"1\")\n",
    "#print(\"c:\", c)\n",
    "\n",
    "# c now equals \"110\".\n",
    "c = binary_add(c, \"10\")\n",
    "#print(\"c:\", c)"
   ]
  },
  {
   "cell_type": "markdown",
   "metadata": {},
   "source": [
    "###3: Converting binary values"
   ]
  },
  {
   "cell_type": "markdown",
   "metadata": {},
   "source": [
    "We saw how we could convert between bases with the int() function.\n",
    "\n",
    "Let's see what values in binary equal what values in base 10."
   ]
  },
  {
   "cell_type": "markdown",
   "metadata": {},
   "source": [
    "####Instructions"
   ]
  },
  {
   "cell_type": "markdown",
   "metadata": {},
   "source": [
    "Convert \"1001\" to base 10. Assign the result to base_10_1001."
   ]
  },
  {
   "cell_type": "code",
   "execution_count": 4,
   "metadata": {
    "collapsed": false
   },
   "outputs": [
    {
     "name": "stdout",
     "output_type": "stream",
     "text": [
      "base_10_1001: 9\n"
     ]
    }
   ],
   "source": [
    "def binary_add(a, b):\n",
    "    return bin(int(a, 2) + int(b, 2))[2:]\n",
    "\n",
    "# Start both at 0.\n",
    "a = 0\n",
    "b = \"0\"\n",
    "\n",
    "# Loop 10 times.\n",
    "for i in range(0, 10):\n",
    "    # Add 1 to each.\n",
    "    a += 1\n",
    "    b = binary_add(b, \"1\")\n",
    "\n",
    "    # Check if they are equal.\n",
    "    #print int(b, 2) == a\n",
    "\n",
    "# The cool thing here is that a and b are always equal if you add the same amount to both.\n",
    "# This is because base 2 and base 10 are just ways to write numbers.\n",
    "# Counting 100 apples in base 2 or base 10 will always give you an equivalent result, you just have to convert between them.\n",
    "# We can represent any number in binary, we just need more digits than we would in base 10.\n",
    "base_10_1001 = int(\"1001\", 2)\n",
    "print(\"base_10_1001:\", base_10_1001)"
   ]
  },
  {
   "cell_type": "markdown",
   "metadata": {},
   "source": [
    "###4: Characters to binary"
   ]
  },
  {
   "cell_type": "markdown",
   "metadata": {},
   "source": [
    "Just like how integers are stored as binary, so are strings.\n",
    "\n",
    "Strings are split into single characters, then converted into integers, which are then converted to binary and stored.\n",
    "\n",
    "We'll look at simple characters first -- the so called ascii characters.\n",
    "\n",
    "These contain all the upper and lowercase english letters, all the digits, and a lot of punctuation symbols."
   ]
  },
  {
   "cell_type": "markdown",
   "metadata": {},
   "source": [
    "####Instructions"
   ]
  },
  {
   "cell_type": "markdown",
   "metadata": {},
   "source": [
    "Convert \"w\" to binary. Assign the result to binary_w.\n",
    "\n",
    "Convert \"}\" to binary. Assign the result to binary_bracket."
   ]
  },
  {
   "cell_type": "code",
   "execution_count": 5,
   "metadata": {
    "collapsed": false
   },
   "outputs": [
    {
     "name": "stdout",
     "output_type": "stream",
     "text": [
      "ord('a'): 97\n",
      "bin(ord('a')): 0b1100001\n"
     ]
    }
   ],
   "source": [
    "# We can use the ord() function to get the integer associated with an ascii character.\n",
    "print(\"ord('a'):\", ord(\"a\"))\n",
    "\n",
    "# Then we use the bin() function to convert to binary.\n",
    "# The bin function adds \"0b\" to the start of strings to indicate that they contain binary values.\n",
    "print(\"bin(ord('a')):\", bin(ord(\"a\")))\n",
    "\n",
    "# ÿ is the \"last\" ascii character -- it has the highest integer value of any ascii character.\n",
    "# This is because 255 is the highest value that can be represented with 8 binary digits.\n",
    "#print(\"ord('ÿ'):\", ord(\"ÿ\"))\n",
    "\n",
    "# As you can see, we get 8 1's, which shows that this is the highest possible 8 digit value.\n",
    "#print(\"bin(ord('ÿ')):\", bin(ord(\"ÿ\")))\n",
    "\n",
    "# Why is this?  It's because a single binary digit is called a bit, and computers store values in sequences of bytes, which are 8 bits together.\n",
    "# You might be more familiar with kilobytes or megabytes -- a kilobyte is 1000 bytes, and a megabyte is 1000 kilobytes.\n",
    "# There are 256 different ascii symbols, because the largest amount of storage any single ascii character can take up is one byte.\n",
    "binary_w = bin(ord(\"w\"))\n",
    "binary_bracket = bin(ord(\"}\"))"
   ]
  },
  {
   "cell_type": "markdown",
   "metadata": {},
   "source": [
    "###5: Intro to unicode"
   ]
  },
  {
   "cell_type": "markdown",
   "metadata": {},
   "source": [
    "You might be wondering right now what happened to all of the other characters and alphabets in the world.\n",
    "\n",
    "Because it only supports 255 characters, ascii can't deal with them, so a new standard was needed, called unicode.\n",
    "\n",
    "Unicode assigns code points to characters. In python, these code points look like this: \"\\u3232\".\n",
    "\n",
    "We can use an encoding to turn these code points into binary integers.\n",
    "\n",
    "The most common encoding for unicode is utf-8. It tells a computer which code points are associated with which integers.\n",
    "\n",
    "utf-8 can encode values that are longer that one byte, enabling it to store all unicode characters.\n",
    "\n",
    "utf-8 encodes characters using a variable length of bytes, which means that it also supports regular ascii characters (which are one byte each)."
   ]
  },
  {
   "cell_type": "markdown",
   "metadata": {},
   "source": [
    "####Instructions"
   ]
  },
  {
   "cell_type": "markdown",
   "metadata": {},
   "source": [
    "Find the binary representation of \"\\u1019\". Assign it to binary_1019."
   ]
  },
  {
   "cell_type": "code",
   "execution_count": 6,
   "metadata": {
    "collapsed": false
   },
   "outputs": [
    {
     "name": "stdout",
     "output_type": "stream",
     "text": [
      "code_point: ⟶\n"
     ]
    }
   ],
   "source": [
    "# We can initialize unicode code points (the value for this code point is \\u27F6, but you see it as a character because it is being automatically converted).\n",
    "code_point = \"⟶\"\n",
    "\n",
    "# This particular code point maps to a right arrow character.\n",
    "print(\"code_point:\", code_point)\n",
    "\n",
    "# We can get the base 10 integer value of the code point with the ord function.\n",
    "#print ord(code_point)\n",
    "\n",
    "# As you can see, this takes up a lot more than 1 byte.\n",
    "#print bin(ord(code_point))\n",
    "\n",
    "code_point = \"မ\"\n",
    "#binary_1019 = bin(ord(code_point))"
   ]
  },
  {
   "cell_type": "markdown",
   "metadata": {},
   "source": [
    "###6: Strings with unicode"
   ]
  },
  {
   "cell_type": "markdown",
   "metadata": {},
   "source": [
    "ascii is a subset of unicode. Unicode implements all of the ascii characters, as well as the additional characters that code points allow.\n",
    "\n",
    "This lets us create unicode strings, that have ascii and unicode characters together.\n",
    "\n",
    "By default in python 3, all strings are unicode, and encoded with utf-8, so we can directly use unicode code points or characters."
   ]
  },
  {
   "cell_type": "markdown",
   "metadata": {},
   "source": [
    "####Instructions"
   ]
  },
  {
   "cell_type": "markdown",
   "metadata": {},
   "source": [
    "Make a string with mixed unicode and ascii, and assign it to s3."
   ]
  },
  {
   "cell_type": "code",
   "execution_count": 7,
   "metadata": {
    "collapsed": false
   },
   "outputs": [
    {
     "name": "stdout",
     "output_type": "stream",
     "text": [
      "s1 == s2: True\n"
     ]
    }
   ],
   "source": [
    "s1 = \"café\"\n",
    "\n",
    "# The \\u prefix means \"the next 4 digits are a unicode code point\".\n",
    "# It doesn't change the value at all (the last character in the string below is \\u00e9).\n",
    "s2 = \"café\"\n",
    "\n",
    "# These strings are the same, because code points are equal to their corresponding unicode character.\n",
    "# \\u00e9 and é are equivalent.\n",
    "print(\"s1 == s2:\", s1 == s2)\n",
    "\n",
    "s3 = \"hello မ\""
   ]
  },
  {
   "cell_type": "markdown",
   "metadata": {},
   "source": [
    "###7: The bytes type"
   ]
  },
  {
   "cell_type": "markdown",
   "metadata": {},
   "source": [
    "In Python, there's a datatype called \"bytes\".\n",
    "\n",
    "It's like a string, except it contains encoded bytes values.\n",
    "\n",
    "When we create an object with a bytes type from a string, we specify an encoding (usually utf-8).\n",
    "\n",
    "We can then use the .encode() method to encode the string into bytes."
   ]
  },
  {
   "cell_type": "markdown",
   "metadata": {},
   "source": [
    "####Instructions"
   ]
  },
  {
   "cell_type": "markdown",
   "metadata": {},
   "source": [
    "Encode batman with the utf-8 encoding, and assign to batman_bytes."
   ]
  },
  {
   "cell_type": "code",
   "execution_count": 8,
   "metadata": {
    "collapsed": false
   },
   "outputs": [
    {
     "name": "stdout",
     "output_type": "stream",
     "text": [
      "superman: Clark Kent␦\n"
     ]
    }
   ],
   "source": [
    "# We can make a string with some unicode values.\n",
    "superman = \"Clark Kent␦\"\n",
    "print(\"superman:\", superman)\n",
    "\n",
    "# This tells python to encode the string superman into unicode using the utf-8 encoding.\n",
    "# We end up with a sequence of bytes instead of a string.\n",
    "#superman_bytes = \"Clark Kent␦\".encode(\"utf-8\")\n",
    "\n",
    "batman = \"Bruce Wayne␦\"\n",
    "#batman_bytes = batman.encode(\"utf-8\")"
   ]
  },
  {
   "cell_type": "markdown",
   "metadata": {},
   "source": [
    "###8: Hexadecimal conversions"
   ]
  },
  {
   "cell_type": "markdown",
   "metadata": {},
   "source": [
    "You might have noticed in the last screen that using .encode() turned code points into something like \\xe2\\x90\\xa6.\n",
    "\n",
    "These are three hexadecimal bytes.\n",
    "\n",
    "The \\x prefix means \"the next two digits are in hexadecimal\".\n",
    "\n",
    "Two hexadecimal digits equal 8 binary digits, because digits can have higher values in hexadecimal (base 16).\n",
    "\n",
    "For instance, \"F\" is 15 in hexadecimal, but 1111 is 15 in binary.\n",
    "\n",
    "Because it's shorter to display, and 4 binary digits always equal 1 hexadecimal digit, programs often use hexadecimal to print out values.\n",
    "\n",
    "This is purely for convenience.\n",
    "\n",
    "Let's experiment a bit with hexadecimal conversions."
   ]
  },
  {
   "cell_type": "markdown",
   "metadata": {},
   "source": [
    "####Instructions"
   ]
  },
  {
   "cell_type": "markdown",
   "metadata": {},
   "source": [
    "Add \"2\" to \"ea\" in hexadecimal. Assign the result to hex_ea.\n",
    "\n",
    "Add \"e\" to \"f\" in hexadecimal. Assign the result to hex_ef."
   ]
  },
  {
   "cell_type": "code",
   "execution_count": 9,
   "metadata": {
    "collapsed": false
   },
   "outputs": [
    {
     "name": "stdout",
     "output_type": "stream",
     "text": [
      "int('F', 16): 15\n",
      "int('A', 16): 10\n",
      "value: a\n",
      "hex_ea: ec\n",
      "hex_ef: 1d\n"
     ]
    }
   ],
   "source": [
    "# F is the highest single digit in hexadecimal (base 16).\n",
    "# Its value is 15 in base 10.\n",
    "print(\"int('F', 16):\", int(\"F\", 16))\n",
    "\n",
    "# A in base 16 has the value 10 in base 10.\n",
    "print(\"int('A', 16):\", int(\"A\", 16))\n",
    "\n",
    "# Just like the earlier binary_add function, this adds two hex numbers.\n",
    "def hexadecimal_add(a, b):\n",
    "    return hex(int(a, 16) + int(b, 16))[2:]\n",
    "\n",
    "# When we add 1 to 9 in hexadecimal, it becomes \"a\".\n",
    "value = \"9\"\n",
    "value = hexadecimal_add(value, \"1\")\n",
    "print(\"value:\", value)\n",
    "\n",
    "hex_ea = hexadecimal_add(\"2\", \"ea\")\n",
    "print(\"hex_ea:\", hex_ea)\n",
    "\n",
    "hex_ef = hexadecimal_add(\"e\", \"f\")\n",
    "print(\"hex_ef:\", hex_ef)"
   ]
  },
  {
   "cell_type": "markdown",
   "metadata": {},
   "source": [
    "###9: Hex to binary"
   ]
  },
  {
   "cell_type": "markdown",
   "metadata": {},
   "source": [
    "We can convert hexadecimal to binary pretty easily.\n",
    "\n",
    "We can even use the ord() and bin() functions that helped us convert code points to binary."
   ]
  },
  {
   "cell_type": "markdown",
   "metadata": {},
   "source": [
    "####Instructions"
   ]
  },
  {
   "cell_type": "markdown",
   "metadata": {},
   "source": [
    "Convert the hexadecimal byte \"\\xaa\" to binary. Assign the result to binary_aa.\n",
    "\n",
    "Convert the hexadecimal byte \"\\xab\" to binary. Assign the result to binary_ab."
   ]
  },
  {
   "cell_type": "code",
   "execution_count": 10,
   "metadata": {
    "collapsed": false
   },
   "outputs": [
    {
     "name": "stdout",
     "output_type": "stream",
     "text": [
      "int('e2', 16): 226\n"
     ]
    }
   ],
   "source": [
    "# One byte (8 bits) in hexadecimal (the value of the byte below is \\xe2).\n",
    "hex_byte = \"â\"\n",
    "\n",
    "# Print the base 10 integer value for the hex byte.\n",
    "#print ord(hex_byte)\n",
    "\n",
    "# This gives the exact same value -- remember than \\x is just a prefix, and doesn't affect the value.\n",
    "print(\"int('e2', 16):\", int(\"e2\", 16))\n",
    "\n",
    "# Convert the base 10 integer to binary.\n",
    "#print(\"bin(ord(\"â\")):\", bin(ord(\"â\")))\n",
    "\n",
    "#binary_aa = bin(ord(\"ª\"))\n",
    "#print(\"binary_aa:\", binary_aa)\n",
    "\n",
    "#binary_ab = bin(ord(\"\\xab\"))\n",
    "#print(\"binary_ab:\", binary_ab)"
   ]
  },
  {
   "cell_type": "markdown",
   "metadata": {},
   "source": [
    "###10: Bytes and strings"
   ]
  },
  {
   "cell_type": "markdown",
   "metadata": {},
   "source": [
    "Once we have an object with datatype bytes, there isn't an encoding associated, so python doesn't know how to display the (encoded) code points in it.\n",
    "\n",
    "Because of this, we can't mix bytes objects and strings together."
   ]
  },
  {
   "cell_type": "markdown",
   "metadata": {},
   "source": [
    "####Instructions"
   ]
  },
  {
   "cell_type": "markdown",
   "metadata": {},
   "source": [
    "Make a bytes object containing \"Thor\", and assign it to thor_bytes."
   ]
  },
  {
   "cell_type": "code",
   "execution_count": 11,
   "metadata": {
    "collapsed": false
   },
   "outputs": [
    {
     "name": "stdout",
     "output_type": "stream",
     "text": [
      "TypeError with replacement\n"
     ]
    }
   ],
   "source": [
    "#hulk_bytes = \"Bruce Banner␦\".encode(\"utf-8\")\n",
    "\n",
    "# We can't mix strings and bytes.\n",
    "# For instance, if we try to replace the unicode ␦ character as a string, it won't work, because that value has been encoded to bytes.\n",
    "try:\n",
    "    hulk_bytes.replace(\"Banner\", \"\")\n",
    "except Exception:\n",
    "    print(\"TypeError with replacement\")\n",
    "\n",
    "# We can create objects of the bytes datatype by putting a b in front of the quotation marks in a string.\n",
    "hulk_bytes = b\"Bruce Banner\"\n",
    "\n",
    "# Now, instead of mixing strings and bytes, we can use the replace method with bytes objects instead.\n",
    "hulk_bytes.replace(b\"Banner\", b\"\")\n",
    "thor_bytes = b\"Thor\""
   ]
  },
  {
   "cell_type": "markdown",
   "metadata": {},
   "source": [
    "###11: Decode bytes to strings"
   ]
  },
  {
   "cell_type": "markdown",
   "metadata": {},
   "source": [
    "Once we have a bytes object, we can decode it into a string using an encoding.\n",
    "\n",
    "We use the .decode() method to do this."
   ]
  },
  {
   "cell_type": "markdown",
   "metadata": {},
   "source": [
    "####Instructions"
   ]
  },
  {
   "cell_type": "markdown",
   "metadata": {},
   "source": [
    "Decode morgan_freeman_bytes using the 'utf-8' encoding. Assign the result to morgan_freeman."
   ]
  },
  {
   "cell_type": "code",
   "execution_count": 12,
   "metadata": {
    "collapsed": false
   },
   "outputs": [
    {
     "name": "stdout",
     "output_type": "stream",
     "text": [
      "aquaman: Who knows?\n",
      "type(aquaman): <class 'str'>\n"
     ]
    }
   ],
   "source": [
    "# Make a bytes object with aquaman's secret identity.\n",
    "aquaman_bytes = b\"Who knows?\"\n",
    "\n",
    "# Now, we can use the decode method, along with the encoding (utf-8) to turn it into a string.\n",
    "aquaman = aquaman_bytes.decode(\"utf-8\")\n",
    "\n",
    "# We can print the value and type out to verify that it is a string.\n",
    "print(\"aquaman:\", aquaman)\n",
    "print(\"type(aquaman):\", type(aquaman))\n",
    "\n",
    "morgan_freeman_bytes = b\"Morgan Freeman\"\n",
    "morgan_freeman = morgan_freeman_bytes.decode(\"utf-8\")"
   ]
  },
  {
   "cell_type": "markdown",
   "metadata": {},
   "source": [
    "###12: Read in file data"
   ]
  },
  {
   "cell_type": "markdown",
   "metadata": {},
   "source": [
    "Now that we understand unicode, we can go ahead and read our data in.\n",
    "\n",
    "The data has a lot of symbols and other unicode characters, so we'll learn how to deal with them as we go along."
   ]
  },
  {
   "cell_type": "markdown",
   "metadata": {},
   "source": [
    "####Instructions"
   ]
  },
  {
   "cell_type": "markdown",
   "metadata": {},
   "source": [
    "Assign the second column of the tenth row in sentences_cia to sentences_ten."
   ]
  },
  {
   "cell_type": "code",
   "execution_count": 13,
   "metadata": {
    "collapsed": false
   },
   "outputs": [
    {
     "name": "stdout",
     "output_type": "stream",
     "text": [
      "sentences_cia[1][1]: The FBI information included that al-Mairi's brother \"traveled to Afghanistan in 1997-1998 to train in Bin - Ladencamps.\"\n"
     ]
    }
   ],
   "source": [
    "# We can read our data in using csvreader.\n",
    "import csv\n",
    "\n",
    "# When we open a file, we can specify the encoding that it's in. In this case, utf-8.\n",
    "#f = open(\"data/sentences_cia.csv\", 'r', encoding=\"utf-8\")\n",
    "f = open(\"data/sentences_cia.csv\", 'r')\n",
    "csvreader = csv.reader(f)\n",
    "sentences_cia = list(csvreader)\n",
    "\n",
    "# The data is two columns.\n",
    "# First column is year, second is a sentence from a CIA report written that year.\n",
    "# Print the first column of the second row.\n",
    "print(\"sentences_cia[1][1]:\", sentences_cia[1][1])\n",
    "sentences_ten = sentences_cia[9][1]"
   ]
  },
  {
   "cell_type": "markdown",
   "metadata": {},
   "source": [
    "###13: Convert to a dataframe"
   ]
  },
  {
   "cell_type": "markdown",
   "metadata": {},
   "source": [
    "In order to make this easier for ourselves, let's convert our sentences to a pandas dataframe.\n",
    "\n",
    "Having a dataframe will make processing and analysis much simpler because we can use the .apply() method."
   ]
  },
  {
   "cell_type": "markdown",
   "metadata": {},
   "source": [
    "####Instructions"
   ]
  },
  {
   "cell_type": "markdown",
   "metadata": {},
   "source": [
    "Convert sentences_cia to a dataframe. Remember to deal with the headers properly. Assign the result to sentences_cia_df."
   ]
  },
  {
   "cell_type": "code",
   "execution_count": 14,
   "metadata": {
    "collapsed": false
   },
   "outputs": [
    {
     "data": {
      "text/html": [
       "<div>\n",
       "<table border=\"1\" class=\"dataframe\">\n",
       "  <thead>\n",
       "    <tr style=\"text-align: right;\">\n",
       "      <th></th>\n",
       "      <th>year</th>\n",
       "      <th>statement</th>\n",
       "    </tr>\n",
       "  </thead>\n",
       "  <tbody>\n",
       "    <tr>\n",
       "      <th>0</th>\n",
       "      <td>1997</td>\n",
       "      <td>The FBI information included that al-Mairi's b...</td>\n",
       "    </tr>\n",
       "    <tr>\n",
       "      <th>1</th>\n",
       "      <td>1997</td>\n",
       "      <td>The FBI information included that al-Mairi's b...</td>\n",
       "    </tr>\n",
       "    <tr>\n",
       "      <th>2</th>\n",
       "      <td>1997</td>\n",
       "      <td>For example, on October 12, 2004, another CIA ...</td>\n",
       "    </tr>\n",
       "    <tr>\n",
       "      <th>3</th>\n",
       "      <td>1997</td>\n",
       "      <td>On October 16, 2001, an email from a CTC offic...</td>\n",
       "    </tr>\n",
       "    <tr>\n",
       "      <th>4</th>\n",
       "      <td>1997</td>\n",
       "      <td>For example, on October 12, 2004, another CIA ...</td>\n",
       "    </tr>\n",
       "  </tbody>\n",
       "</table>\n",
       "</div>"
      ],
      "text/plain": [
       "   year                                          statement\n",
       "0  1997  The FBI information included that al-Mairi's b...\n",
       "1  1997  The FBI information included that al-Mairi's b...\n",
       "2  1997  For example, on October 12, 2004, another CIA ...\n",
       "3  1997  On October 16, 2001, an email from a CTC offic...\n",
       "4  1997  For example, on October 12, 2004, another CIA ..."
      ]
     },
     "execution_count": 14,
     "metadata": {},
     "output_type": "execute_result"
    }
   ],
   "source": [
    "import pandas as pd\n",
    "\n",
    "# The sentences_cia data from last screen is available.\n",
    "sentences_cia = pd.DataFrame(sentences_cia[1:], columns=sentences_cia[0])\n",
    "sentences_cia.head(5)"
   ]
  },
  {
   "cell_type": "markdown",
   "metadata": {},
   "source": [
    "###14: Clean up sentences"
   ]
  },
  {
   "cell_type": "markdown",
   "metadata": {},
   "source": [
    "Now that we have our data in a nice format, we need to process the strings to count up term occurences.\n",
    "\n",
    "First, though, we need to clean up the strings so that extraneous symbols are removed. We only really care about letters, digits, and spaces.\n",
    "\n",
    "Luckily, we can check the integer code of each character using ord() to see if it's a character we want to keep."
   ]
  },
  {
   "cell_type": "markdown",
   "metadata": {},
   "source": [
    "Instructions"
   ]
  },
  {
   "cell_type": "markdown",
   "metadata": {},
   "source": [
    "Make a function that takes a dataframe row, and then returns the cleaned up version of the \"statement\" column.\n",
    "\n",
    "Use the .apply() method on dataframes to apply the function to each row of sentences_cia.\n",
    "\n",
    "Assign the resulting vector to the cleaned_statement column of sentences_cia.\n",
    "\n",
    "You will have to initialize good_characters inside your function."
   ]
  },
  {
   "cell_type": "code",
   "execution_count": 15,
   "metadata": {
    "collapsed": false
   },
   "outputs": [
    {
     "name": "stdout",
     "output_type": "stream",
     "text": [
      "sentence_15: \"^^''^ There was also CIA reporting in 1998 that KSM was \"very close\" to On June 12, 2001, it was reported that \"Khaled\" was actively recruiting people to travel outside Afghanistan, including to the United States where colleagues were reportedly already in the country to meet them, to carry out terrorist-related activities for UBL.\n"
     ]
    }
   ],
   "source": [
    "# The integer codes for all the characters we want to keep.\n",
    "good_characters = [48, 49, 50, 51, 52, 53, 54, 55, 56, 65, 66, 67, 68, 69, 70, 71, 72, 73, 74, 75, 76, 77, 78, 79, 80, 81, 82, 83, 84, 85, 86, 87, 88, 89, 90, 97, 98, 99, 100, 101, 102, 103, 104, 105, 106, 107, 108, 109, 110, 111, 112, 113, 114, 115, 116, 117, 118, 119, 120, 121, 122, 32]\n",
    "\n",
    "sentence_15 = sentences_cia[\"statement\"][14]\n",
    "print(\"sentence_15:\", sentence_15)\n",
    "\n",
    "# Iterate over the characters in the sentence, and only take those whose integer representations are in good_characters.\n",
    "# This will construct a list of single characters.\n",
    "cleaned_sentence_15_list = [s for s in sentence_15 if ord(s) in good_characters]\n",
    "\n",
    "# Join the list together, separated by \"\" (no space), which creates a string again.\n",
    "cleaned_sentence_15 = \"\".join(cleaned_sentence_15_list)\n",
    "\n",
    "def clean_statement(row):\n",
    "    good_characters = [48, 49, 50, 51, 52, 53, 54, 55, 56, 65, 66, 67, 68, 69, 70, 71, 72, 73, 74, 75, 76, 77, 78, 79, 80, 81, 82, 83, 84, 85, 86, 87, 88, 89, 90, 97, 98, 99, 100, 101, 102, 103, 104, 105, 106, 107, 108, 109, 110, 111, 112, 113, 114, 115, 116, 117, 118, 119, 120, 121, 122, 32]\n",
    "    statement = row[\"statement\"]\n",
    "    clean_statement_list = [s for s in statement if ord(s) in good_characters]\n",
    "    return \"\".join(clean_statement_list)\n",
    "\n",
    "sentences_cia[\"cleaned_statement\"] = sentences_cia.apply(clean_statement, axis=1)"
   ]
  },
  {
   "cell_type": "markdown",
   "metadata": {},
   "source": [
    "###15: Tokenize statements"
   ]
  },
  {
   "cell_type": "markdown",
   "metadata": {},
   "source": [
    "Now, we need to combine the sentences and turn them into tokens.\n",
    "\n",
    "The eventual goal is to count up how many times each term occurs."
   ]
  },
  {
   "cell_type": "markdown",
   "metadata": {},
   "source": [
    "####Instructions"
   ]
  },
  {
   "cell_type": "markdown",
   "metadata": {},
   "source": [
    "Tokenize combined_statements by splitting it into words on spaces.\n",
    "\n",
    "You should end up with a list of all the words in combined_statements.\n",
    "\n",
    "Assign the result to statement_tokens."
   ]
  },
  {
   "cell_type": "code",
   "execution_count": 16,
   "metadata": {
    "collapsed": true
   },
   "outputs": [],
   "source": [
    "# We can use the .join() method on strings to join lists together.\n",
    "# The string we use the method on will be used as the separator -- the character(s) between each string when they are joined.\n",
    "combined_statements = \" \".join(sentences_cia[\"cleaned_statement\"])\n",
    "statement_tokens = combined_statements.split(\" \")"
   ]
  },
  {
   "cell_type": "markdown",
   "metadata": {},
   "source": [
    "###16: Filter the tokens"
   ]
  },
  {
   "cell_type": "markdown",
   "metadata": {},
   "source": [
    "We want to count up how many times each term occurs in our data, so we can find the most common items.\n",
    "\n",
    "The problem is that the most common words in the English language are ones that are relatively uninteresting to us right now -- words like \"the\", \"a\", and so on.\n",
    "\n",
    "These words are called stopwords -- words that don't add much information to our analysis.\n",
    "\n",
    "A common way to deal with this by filtering out any words that is in a list of known stopwords.\n",
    "\n",
    "What we'll do for the sake of simplicity here is to filter out any words that are less than 5 characters long.\n",
    "\n",
    "This should remove most of the least interesting words."
   ]
  },
  {
   "cell_type": "markdown",
   "metadata": {},
   "source": [
    "####Instructions"
   ]
  },
  {
   "cell_type": "markdown",
   "metadata": {},
   "source": [
    "Filter the statement_tokens list so that it only contains tokens 5 characters or more in length. Assign the result to filtered_tokens."
   ]
  },
  {
   "cell_type": "code",
   "execution_count": 17,
   "metadata": {
    "collapsed": true
   },
   "outputs": [],
   "source": [
    "# statement_tokens has been loaded in.\n",
    "filtered_tokens = [s for s in statement_tokens if len(s) > 4]"
   ]
  },
  {
   "cell_type": "markdown",
   "metadata": {},
   "source": [
    "###17: Count the tokens"
   ]
  },
  {
   "cell_type": "markdown",
   "metadata": {},
   "source": [
    "Now that we've filtered the tokens, we can count up how many times each one occurs.\n",
    "\n",
    "The Counter object from the collections library will help us with this.\n",
    "\n",
    "Counter takes a list as input, and creates a dictionary where the keys are list items, and the values are how many times those items appear in the list."
   ]
  },
  {
   "cell_type": "markdown",
   "metadata": {},
   "source": [
    "####Instructions"
   ]
  },
  {
   "cell_type": "markdown",
   "metadata": {},
   "source": [
    "Count up the items in filtered_tokens. Assign the result to filtered_token_counts."
   ]
  },
  {
   "cell_type": "code",
   "execution_count": 18,
   "metadata": {
    "collapsed": false
   },
   "outputs": [
    {
     "name": "stdout",
     "output_type": "stream",
     "text": [
      "fruit_count: Counter({'apple': 3, 'orange': 2, 'banana': 1, 'pear': 1, 'grape': 1})\n"
     ]
    }
   ],
   "source": [
    "from collections import Counter\n",
    "\n",
    "fruits = [\"apple\", \"apple\", \"banana\", \"orange\", \"pear\", \"orange\", \"apple\", \"grape\"]\n",
    "fruit_count = Counter(fruits)\n",
    "\n",
    "# Each of the items in the list has been counted up, and given a dictionary key.\n",
    "print(\"fruit_count:\", fruit_count)\n",
    "\n",
    "# filtered_tokens has been loaded in.\n",
    "filtered_token_counts = Counter(filtered_tokens)"
   ]
  },
  {
   "cell_type": "markdown",
   "metadata": {},
   "source": [
    "###18: Most common tokens"
   ]
  },
  {
   "cell_type": "markdown",
   "metadata": {},
   "source": [
    "Now that we have a Counter object created using filtered_tokens as input, let's get the most common tokens out."
   ]
  },
  {
   "cell_type": "markdown",
   "metadata": {},
   "source": [
    "####Instructions"
   ]
  },
  {
   "cell_type": "markdown",
   "metadata": {},
   "source": [
    "Get the 3 most common items in filtered_token_counts. Assign the result to common_tokens."
   ]
  },
  {
   "cell_type": "code",
   "execution_count": 19,
   "metadata": {
    "collapsed": false
   },
   "outputs": [
    {
     "name": "stdout",
     "output_type": "stream",
     "text": [
      "fruit_count.most_common(2): [('apple', 3), ('orange', 2)]\n",
      "fruit_count.most_common(3): [('apple', 3), ('orange', 2), ('banana', 1)]\n"
     ]
    }
   ],
   "source": [
    "from collections import Counter\n",
    "\n",
    "fruits = [\"apple\", \"apple\", \"banana\", \"orange\", \"pear\", \"orange\", \"apple\", \"grape\"]\n",
    "fruit_count = Counter(fruits)\n",
    "\n",
    "# We can use the most_common method of a Counter class to get the most common items.\n",
    "# We pass in a number, which is the number of items we want to get.\n",
    "print(\"fruit_count.most_common(2):\", fruit_count.most_common(2))\n",
    "print(\"fruit_count.most_common(3):\", fruit_count.most_common(3))\n",
    "\n",
    "# Filtered_token_counts has been loaded in.\n",
    "common_tokens = filtered_token_counts.most_common(3)"
   ]
  },
  {
   "cell_type": "markdown",
   "metadata": {},
   "source": [
    "###19: Finding the most common tokens by year"
   ]
  },
  {
   "cell_type": "markdown",
   "metadata": {},
   "source": [
    "Let's write a function to compute the most common terms by year."
   ]
  },
  {
   "cell_type": "markdown",
   "metadata": {},
   "source": [
    "####Instructions"
   ]
  },
  {
   "cell_type": "markdown",
   "metadata": {},
   "source": [
    "Write a function to find the 3 most common terms in sentences_cia in a given year (the \"year\" column).\n",
    "\n",
    "The \"year\" column in sentences_cia stores strings, so you'll need to pass strings into the function.\n",
    "\n",
    "You'll need to select the rows in sentences_cia that match that year, combine the cleaned statements, split into a list based on \" \", filter out the words with a length of less than 5, make a counter object with the results, and finally find the 2 most common items in the counter.\n",
    "\n",
    "Use the function to find the most common terms for \"2000\". Assign to common_2000.\n",
    "\n",
    "Use the function to find the most common terms for \"2002\". Assign to common_2002.\n",
    "\n",
    "Use the function to find the most common terms for \"2013\". Assign to common_2013."
   ]
  },
  {
   "cell_type": "code",
   "execution_count": 20,
   "metadata": {
    "collapsed": false
   },
   "outputs": [
    {
     "name": "stdout",
     "output_type": "stream",
     "text": [
      "common_2000: [('Ahmad', 9), ('terrorist', 9)]\n",
      "common_2002: [('interrogation', 298), ('Zubaydah', 267)]\n",
      "common_2013: [('Response', 196), ('states', 111)]\n"
     ]
    }
   ],
   "source": [
    "# Sentences_cia has been loaded in.\n",
    "# It already has the cleaned_statement column.\n",
    "from collections import Counter\n",
    "\n",
    "def find_most_common_by_year(year, sentences_cia):\n",
    "    data = sentences_cia[sentences_cia[\"year\"] == year]\n",
    "    combined_statement = \" \".join(data[\"cleaned_statement\"])\n",
    "    statement_split = combined_statement.split(\" \")\n",
    "    counter = Counter([s for s in statement_split if len(s) > 4])\n",
    "    return counter.most_common(2)\n",
    "\n",
    "common_2000 = find_most_common_by_year(\"2000\", sentences_cia)\n",
    "print(\"common_2000:\", common_2000)\n",
    "\n",
    "common_2002 = find_most_common_by_year(\"2002\", sentences_cia)\n",
    "print(\"common_2002:\", common_2002)\n",
    "\n",
    "common_2013 = find_most_common_by_year(\"2013\", sentences_cia)\n",
    "print(\"common_2013:\", common_2013)"
   ]
  }
 ],
 "metadata": {
  "kernelspec": {
   "display_name": "Python 3",
   "language": "python",
   "name": "python3"
  },
  "language_info": {
   "codemirror_mode": {
    "name": "ipython",
    "version": 3
   },
   "file_extension": ".py",
   "mimetype": "text/x-python",
   "name": "python",
   "nbconvert_exporter": "python",
   "pygments_lexer": "ipython3",
   "version": "3.4.3"
  }
 },
 "nbformat": 4,
 "nbformat_minor": 0
}
