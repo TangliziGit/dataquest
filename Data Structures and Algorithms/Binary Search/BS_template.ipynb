{
 "cells": [
  {
   "cell_type": "code",
   "execution_count": 1,
   "metadata": {
    "collapsed": true
   },
   "outputs": [],
   "source": [
    "from __future__ import print_function"
   ]
  },
  {
   "cell_type": "markdown",
   "metadata": {},
   "source": [
    "#Data Structures and Algorithms"
   ]
  },
  {
   "cell_type": "markdown",
   "metadata": {},
   "source": [
    "##Binary Search"
   ]
  },
  {
   "cell_type": "markdown",
   "metadata": {},
   "source": [
    "###1: Let's play a game"
   ]
  },
  {
   "cell_type": "markdown",
   "metadata": {},
   "source": [
    "Imagine you and I are playing a game. You have to guess a number between 1 and 100, and after each guess I will tell you whether the answer is higher or lower than your guess.\n",
    "\n",
    "Perhaps your strategy is to start at 1. If 1 is not the answer, you guess 2, then 3, and so on. This strategy resembles the linear search we learned in our last mission. However, since I'm giving you helpful hints, a linear search is a naive approach to this game."
   ]
  },
  {
   "cell_type": "markdown",
   "metadata": {},
   "source": [
    "###2: A better strategy"
   ]
  },
  {
   "cell_type": "markdown",
   "metadata": {},
   "source": [
    "Instead, imagine first guessing 50. I tell you the answer is higher. Suddenly, you've removed half of the original possibilities for consideration. You then guess 75, and I tell you the answer is lower. In only two guesses, you've narrowed down your possibilities to only a fourth of the original size, and you now know that the answer lies between 50 and 75. That's a significant reduction, and your strategy is very efficient.\n",
    "\n",
    "This strategy illustrates a binary search. The idea of a binary search is that we can efficiently find an item in a list if we know the list is ordered. We can check the middle element of the list, compare it to the item we are looking for, and continue narrowing down our search in this manner."
   ]
  },
  {
   "cell_type": "markdown",
   "metadata": {},
   "source": [
    "###3: When can we binary search?"
   ]
  },
  {
   "cell_type": "markdown",
   "metadata": {},
   "source": [
    "So if binary search is more efficient than linear search, why ever bother with linear search at all?\n",
    "\n",
    "The answer is simple. We can only perform a binary search on ordered data. When we think back to our game, the key to our strategy is that we knew exactly how our guess compared to the correct number. To order elements, we must be able to compare two elements and determine which is greater, or if they are equal.\n",
    "\n",
    "We will be using a dataset of nba players from 2012. The dataset is ordered alphabetically by last name, then first name. We can compare two strings the same way we compare integers. For instance, \"A\" is less than \"Z\", and \"A\" < \"Z\" would evaluate to True.\n",
    "\n",
    "We have a small challenge to overcome because the names in the dataset are stored as\n",
    "\n",
    "    \"first_name last_name\"\n",
    "\n",
    "but the dataset is ordered differently. So, we cannot directly compare the names in their raw format. Instead, we will format them as\n",
    "\n",
    "    \"last_name, first_name\"\n",
    "\n",
    "Before moving on, be sure you're convinced why this format is important, and why it will allow us to compare names properly."
   ]
  },
  {
   "cell_type": "markdown",
   "metadata": {},
   "source": [
    "###4: Implementing binary search -- Part 1"
   ]
  },
  {
   "cell_type": "markdown",
   "metadata": {},
   "source": [
    "We'll now begin implementing a binary search on our list of nba players.\n",
    "\n",
    "Some division by 2 will need to be done in order to perform binary search. In order to ensure we get a sensible index, we will cast the result of this division to an integer using the math.floor() function, which rounds down to the nearest integer.\n",
    "\n",
    "This is necessary because if we are splitting an interval with an odd length, we will get an index that has a fraction. Since a fraction is nonsense in the context of indexing a dataset, we will cast it to an integer. The choice to round down rather than up is arbitrary, but we will use it for our implementation.\n",
    "\n",
    "Since this is a pretty involved algorithm, we'll implement it piece by piece. The first important piece is that we understand what step to take after each guess. We have provided the format_name function to you to save you from tedious string manipulation."
   ]
  },
  {
   "cell_type": "markdown",
   "metadata": {},
   "source": [
    "####Instructions"
   ]
  },
  {
   "cell_type": "markdown",
   "metadata": {},
   "source": [
    "Write the function player_age, which takes in name as a parameter. \n",
    "\n",
    "For now, start your guess at the middle of the list, and return \"later\" if the queried name is later in the list, \"earlier\" if the queried name is earlier in the list, and \"found\" if you have found the queried name.\n",
    "\n",
    "Store the result of calling player_age on \"Darius Johnson-Odom\" in johnson_odom_age.\n",
    "\n",
    "Store the result of calling player_age on \"Nick Young\" in young_age.\n",
    "\n",
    "Store the result of calling player_age on \"Jeff Adrien\" in adrien_age.\n",
    "\n",
    "We have loaded the nba dataset for you."
   ]
  },
  {
   "cell_type": "code",
   "execution_count": 2,
   "metadata": {
    "collapsed": false
   },
   "outputs": [
    {
     "name": "stdout",
     "output_type": "stream",
     "text": [
      "johnson_odom_age: found\n",
      "young_age: later\n",
      "adrien_age: earlier\n"
     ]
    }
   ],
   "source": [
    "import csv\n",
    "import math\n",
    "\n",
    "with open(\"data/nba_2013.csv\", \"r\") as f:\n",
    "    reader = csv.reader(f, delimiter=\",\")\n",
    "    nba = list(reader)\n",
    "\n",
    "# A function to extract a player's last name.\n",
    "def format_name(name):\n",
    "    return name.split(\" \")[1] + \", \" + name.split(\" \")[0]\n",
    "\n",
    "# The length of the dataset.\n",
    "length = len(nba)\n",
    "\n",
    "# Implement the player_age function.    \n",
    "def player_age(name):\n",
    "    name = format_name(name)\n",
    "    first_guess_index = math.floor(length/2)\n",
    "    first_guess = format_name(nba[int(first_guess_index)][0])\n",
    "    if name < first_guess:\n",
    "        return \"earlier\"\n",
    "    elif name > first_guess:\n",
    "        return \"later\"\n",
    "    else:\n",
    "        return \"found\"\n",
    "    \n",
    "johnson_odom_age = player_age(\"Darius Johnson-Odom\")\n",
    "print(\"johnson_odom_age:\", johnson_odom_age)\n",
    "\n",
    "young_age = player_age(\"Nick Young\")\n",
    "print(\"young_age:\", young_age)\n",
    "\n",
    "adrien_age = player_age(\"Jeff Adrien\")\n",
    "print(\"adrien_age:\", adrien_age)"
   ]
  },
  {
   "cell_type": "markdown",
   "metadata": {},
   "source": [
    "###5: Implementing binary search -- Part 2"
   ]
  },
  {
   "cell_type": "markdown",
   "metadata": {},
   "source": [
    "We've now found our first guess and determined where to keep looking. The next step is to continue our binary search.\n",
    "\n",
    "Let's imagine a round of our game from before. You guess 50, and I tell you the answer is higher. Now what do you do? Well, you guess 75, but how did you calculate that value? This is the step we will focus on for part 2 of our implementation.\n",
    "\n",
    "There are a number of ways to calculate the index of the next split. Whichever method we use, we must keep track of the upper and lower bounds of our search. At the beginning of our game, the lower bound is 1, and the upper bound is 100. After I tell you the answer is greater than 50, the lower bound becomes 51 while the upper bound remains 100.\n",
    "\n",
    "The bounds will look slightly different in our binary search implementation, but only because the dataset is indexed starting at 0 instead of 1. It's important to note that our bounds are inclusive."
   ]
  },
  {
   "cell_type": "markdown",
   "metadata": {},
   "source": [
    "####Instructions"
   ]
  },
  {
   "cell_type": "markdown",
   "metadata": {},
   "source": [
    "Edit our player_age function to change the bounds and make a second guess when needed. player_age should return the second guess, which will be the name of a player. Format this returned value using our \"last_name, first_name\" format.\n",
    "\n",
    "Store the result of calling player_age on \"Pau Gasol\" in gasol_age.\n",
    "\n",
    "Store the result of calling player_age on \"Paul Pierce\" in pierce_age."
   ]
  },
  {
   "cell_type": "code",
   "execution_count": 3,
   "metadata": {
    "collapsed": false
   },
   "outputs": [
    {
     "name": "stdout",
     "output_type": "stream",
     "text": [
      "gasol_age: De, Nando\n",
      "pierce_age: Prigioni, Pablo\n"
     ]
    }
   ],
   "source": [
    "# A function to extract a player's last name.\n",
    "def format_name(name):\n",
    "    return name.split(\" \")[1] + \", \" + name.split(\" \")[0]\n",
    "\n",
    "# The length of the dataset.\n",
    "length = len(nba)\n",
    "\n",
    "# Implement the player_age function.\n",
    "def player_age(name):\n",
    "    # We need to appropriately format our name for successful comparison.\n",
    "    name = format_name(name)\n",
    "    upper_bound = length - 1\n",
    "    lower_bound = 0\n",
    "    first_guess_index = math.floor(length/2)\n",
    "    first_guess = format_name(nba[int(first_guess_index)][0])\n",
    "    if name < first_guess:\n",
    "        upper_bound = first_guess_index - 1\n",
    "    elif name > first_guess:\n",
    "        lower_bound = first_guess_index + 1\n",
    "    else:\n",
    "        return first_guess\n",
    "    second_guess_index = math.floor((lower_bound + upper_bound) / 2)\n",
    "    second_guess = format_name(nba[int(second_guess_index)][0])\n",
    "    return second_guess\n",
    "    \n",
    "gasol_age = player_age(\"Pau Gasol\")\n",
    "print(\"gasol_age:\", gasol_age)\n",
    "\n",
    "pierce_age = player_age(\"Paul Pierce\")\n",
    "print(\"pierce_age:\", pierce_age)"
   ]
  },
  {
   "cell_type": "markdown",
   "metadata": {},
   "source": [
    "###6: Pseudo-code"
   ]
  },
  {
   "cell_type": "markdown",
   "metadata": {},
   "source": [
    "Writing algorithms is less an exercise in coding, and more an exercise in reasoning. It's important to train your ability to develop and visualize algorithms. A strong tool that is easy to use is pseudo-code. You've already seen plenty of pseudo-code, even in this mission.\n",
    "\n",
    "Pseudo-code comments reflect the code you want to write, but describe it in a high-level human language. In the last screen, we saw the following code snippet:\n",
    "\n",
    "    # If the name comes before our guess\n",
    "        # Adjust the bounds as needed\n",
    "    # Else if the name comes after our guess\n",
    "        # Adjust the bounds as needed\n",
    "    # Else\n",
    "        # Player found, so return first guess\n",
    "\n",
    "The comments in this snippet are easily replaced with code, but serve as placeholders for unwritten code. By writing pseudo-code like this, we can often plan and visualize an algorithm before worrying about syntactic details.\n",
    "\n",
    "Pseudo-code is a good tool in all applications of programming, and we will use it in this mission to indicate where certain code needs to be written."
   ]
  },
  {
   "cell_type": "markdown",
   "metadata": {},
   "source": [
    "###7: Implementing binary search -- Part 3"
   ]
  },
  {
   "cell_type": "markdown",
   "metadata": {},
   "source": [
    "We've implemented a binary search function that runs for two iterations. It guesses twice, but if it doesn't find the answer in those two guesses, it gives up. This isn't robust, and we shouldn't stop until we've found our answer.\n",
    "\n",
    "We've also seen that the guessing code is very repetitive. After each guess, we check if it's correct, adjust our bounds as needed, and then guess again. This is precisely the logic we need, and we can run that logic over and over again. The important step to take now is to translate it into a loop.\n",
    "\n",
    "A while loop is perfect for this algorithm. It executes code as long as a condition is met. \n",
    "\n",
    "    count = 10\n",
    "    while count != 0:\n",
    "        print(count)\n",
    "        count = count - 1\n",
    "    print(\"blastoff!\")\n",
    "\n",
    "\n",
    "The above while loop counts down from 10, and then prints \"blastoff!\". We will use a while loop to keep guessing until we've found the nba player we're searching for."
   ]
  },
  {
   "cell_type": "markdown",
   "metadata": {},
   "source": [
    "####Instructions"
   ]
  },
  {
   "cell_type": "markdown",
   "metadata": {},
   "source": [
    "Edit the player_age function to continue guessing until the desired name is found. Use a while loop with an appropriate condition to do so.\n",
    "\n",
    "When the desired name is found, simply return \"found\".\n",
    "\n",
    "Store the result of calling player_age on \"Carmelo Anthony\" in carmelo_age."
   ]
  },
  {
   "cell_type": "code",
   "execution_count": 4,
   "metadata": {
    "collapsed": false
   },
   "outputs": [
    {
     "name": "stdout",
     "output_type": "stream",
     "text": [
      "carmelo_age: found\n"
     ]
    }
   ],
   "source": [
    "# A function to extract a player's last name\n",
    "def format_name(name):\n",
    "    return name.split(\" \")[1] + \", \" + name.split(\" \")[0]\n",
    "\n",
    "# The length of the dataset\n",
    "length = len(nba)\n",
    "\n",
    "# Implement the player_age function.\n",
    "def player_age(name):\n",
    "    # We need to appropriately format our name for successful comparison.\n",
    "    name = format_name(name)\n",
    "    # Bounds of the search.\n",
    "    upper_bound = length - 1\n",
    "    lower_bound = 0\n",
    "    # Index of first split.\n",
    "    index = math.floor((lower_bound + upper_bound) / 2)\n",
    "    # First guess halfways through the list.\n",
    "    guess = format_name(nba[int(index)][0])\n",
    "    # Search until the name is found\n",
    "    while name != guess:\n",
    "        if name < guess:\n",
    "            upper_bound = index - 1\n",
    "        else:\n",
    "            lower_bound = index + 1\n",
    "        index = math.floor((lower_bound + upper_bound) / 2)\n",
    "        guess = format_name(nba[int(index)][0])\n",
    "    return \"found\"\n",
    "    \n",
    "carmelo_age = player_age(\"Carmelo Anthony\")\n",
    "print(\"carmelo_age:\", carmelo_age)"
   ]
  },
  {
   "cell_type": "markdown",
   "metadata": {},
   "source": [
    "###8: Implementing binary search -- Part 4"
   ]
  },
  {
   "cell_type": "markdown",
   "metadata": {},
   "source": [
    "We're almost finished implementing our binary search. We still have to retrieve the player's age once we find him, and return -1 if he is not found. We can tell that a player is not found by adding a small condition to our search.\n",
    "\n",
    "We should search until we've found the player, or until our list of possible answers is depleted. If we deplete all possible answers, the final step of our search, when upper_bound is equal to lower_bound (and also equal to index), will result in either upper_bound being decremented, or lower_bound being incremented. When this happens, lower_bound will be above upper_bound. We can easily check for this in our loop. It's very important to understand this nuance of our algorithm in order to take advantage of it.\n",
    "\n",
    "Since these additions are short, we've also left it up to you to fill in the missing components of our algorithm.\n",
    "\n",
    "In the code screen, we've provided pseudo-code for our algorithm, but have left it up to you to write the code.\n"
   ]
  },
  {
   "cell_type": "markdown",
   "metadata": {},
   "source": [
    "####Instructions"
   ]
  },
  {
   "cell_type": "markdown",
   "metadata": {},
   "source": [
    "Write the appropriate code that satisfies the tasks required by the pseudo-code.\n",
    "\n",
    "Store the result of calling player_age on \"Stephen Curry\" in curry_age.\n",
    "\n",
    "Store the result of calling player_age on \"Blake Griffin\" in griffin_age.\n",
    "\n",
    "Store the result of calling player_age on \"Michael Jordan\" in jordan_age.\n",
    "\n",
    "Looking back at the previous partial-implementations may help if you get stuck."
   ]
  },
  {
   "cell_type": "code",
   "execution_count": 5,
   "metadata": {
    "collapsed": false
   },
   "outputs": [
    {
     "name": "stdout",
     "output_type": "stream",
     "text": [
      "curry_age: 25\n",
      "griffin_age: 24\n",
      "jordan_age: -1\n"
     ]
    }
   ],
   "source": [
    "# A function to extract a player's last name\n",
    "def format_name(name):\n",
    "    return name.split(\" \")[1] + \", \" + name.split(\" \")[0]\n",
    "\n",
    "# The length of the dataset\n",
    "length = len(nba)\n",
    "\n",
    "# Implement the player_age function.\n",
    "def player_age(name):\n",
    "    name = format_name(name)\n",
    "    upper_bound = length - 1\n",
    "    lower_bound = 0\n",
    "    index = math.floor((lower_bound + upper_bound) / 2)\n",
    "    guess = format_name(nba[int(index)][0])\n",
    "    while name != guess and upper_bound >= lower_bound:\n",
    "        if name < guess:\n",
    "            upper_bound = index - 1\n",
    "        else:\n",
    "            lower_bound = index + 1\n",
    "        index = math.floor((lower_bound + upper_bound) / 2)\n",
    "        guess = format_name(nba[int(index)][0])\n",
    "    if name == guess:\n",
    "        return nba[int(index)][2]\n",
    "    else:\n",
    "        return -1\n",
    "    \n",
    "curry_age = player_age(\"Stephen Curry\")\n",
    "print(\"curry_age:\", curry_age)\n",
    "\n",
    "griffin_age = player_age(\"Blake Griffin\")\n",
    "print(\"griffin_age:\", griffin_age)\n",
    "\n",
    "jordan_age = player_age(\"Michael Jordan\")\n",
    "print(\"jordan_age:\", jordan_age)"
   ]
  },
  {
   "cell_type": "markdown",
   "metadata": {},
   "source": [
    "###9: Binary search time complexity analysis"
   ]
  },
  {
   "cell_type": "markdown",
   "metadata": {},
   "source": [
    "Now let's analyze the complexity of binary search.\n",
    "\n",
    "We've established that the size of our problem is reduced by a factor of 2 with every iteration of the algorithm. The time complexity of the algorithm depends on the size of the input, and so we can conclude that it is not constant time. However, it's more efficient than a linear search, and thus is not linear time.\n",
    "\n",
    "It turns out that binary search runs in logarithmic time, which we denote as O(log(n)). Logarithms are the mathematical counterpart to exponents, and thus it makes sense that an algorithm which cuts its problem size in half, or any fraction, with each iteration will be logarithmic."
   ]
  }
 ],
 "metadata": {
  "kernelspec": {
   "display_name": "Python 3",
   "language": "python",
   "name": "python3"
  },
  "language_info": {
   "codemirror_mode": {
    "name": "ipython",
    "version": 3
   },
   "file_extension": ".py",
   "mimetype": "text/x-python",
   "name": "python",
   "nbconvert_exporter": "python",
   "pygments_lexer": "ipython3",
   "version": "3.4.3"
  }
 },
 "nbformat": 4,
 "nbformat_minor": 0
}
