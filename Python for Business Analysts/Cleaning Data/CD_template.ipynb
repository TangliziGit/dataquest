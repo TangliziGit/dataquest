{
 "cells": [
  {
   "cell_type": "code",
   "execution_count": 1,
   "metadata": {
    "collapsed": true
   },
   "outputs": [],
   "source": [
    "from __future__ import print_function"
   ]
  },
  {
   "cell_type": "markdown",
   "metadata": {},
   "source": [
    "#Python for Business Analysts"
   ]
  },
  {
   "cell_type": "markdown",
   "metadata": {},
   "source": [
    "##Cleaning Data"
   ]
  },
  {
   "cell_type": "markdown",
   "metadata": {},
   "source": [
    "###1: Introduction"
   ]
  },
  {
   "cell_type": "markdown",
   "metadata": {
    "collapsed": true
   },
   "source": [
    "Art is a messy business. Over centuries, artists have created everything from simple paintings to complex sculptures, and art historians have been cataloging everything they can along the way. The Museum of Modern Art, or MoMA for short, is considered one of the most influential museums in the world and recently released a dataset of all the artworks they’ve cataloged in their collection. This dataset contains basic information on metadata for each artwork and is part of MoMA's push to make art more accessible to everyone.\n",
    "\n",
    "The museum has put out a disclaimer however that the dataset is still a work in progress - an evolving artwork in its own right perhaps. Because it's still in progress, the dataset has data quality issues and needs some cleanup before we can analyze it."
   ]
  },
  {
   "cell_type": "markdown",
   "metadata": {},
   "source": [
    "###2: Show me the Data!"
   ]
  },
  {
   "cell_type": "markdown",
   "metadata": {},
   "source": [
    "For this post, we'll be working with just the first 100 rows of the dataset. We will first need to import the Pandas library into our environment and then read in the dataset into a DataFrame called artworks. Then, let's preview the first 5 rows using artworks.head(5)."
   ]
  },
  {
   "cell_type": "code",
   "execution_count": 2,
   "metadata": {
    "collapsed": false
   },
   "outputs": [
    {
     "data": {
      "text/html": [
       "<div>\n",
       "<table border=\"1\" class=\"dataframe\">\n",
       "  <thead>\n",
       "    <tr style=\"text-align: right;\">\n",
       "      <th></th>\n",
       "      <th>﻿Title</th>\n",
       "      <th>Artist</th>\n",
       "      <th>ArtistBio</th>\n",
       "      <th>Date</th>\n",
       "      <th>Medium</th>\n",
       "      <th>Dimensions</th>\n",
       "      <th>CreditLine</th>\n",
       "      <th>MoMANumber</th>\n",
       "      <th>Classification</th>\n",
       "      <th>Department</th>\n",
       "      <th>DateAcquired</th>\n",
       "      <th>CuratorApproved</th>\n",
       "      <th>ObjectID</th>\n",
       "      <th>URL</th>\n",
       "    </tr>\n",
       "  </thead>\n",
       "  <tbody>\n",
       "    <tr>\n",
       "      <th>0</th>\n",
       "      <td>Ferdinandsbrücke Project, Vienna, Austria , El...</td>\n",
       "      <td>Otto Wagner</td>\n",
       "      <td>(Austrian, 1841–1918)</td>\n",
       "      <td>1896</td>\n",
       "      <td>Ink and cut-and-pasted painted pages on paper</td>\n",
       "      <td>19 1/8 x 66 1/2\" (48.6 x 168.9 cm)</td>\n",
       "      <td>Fractional and promised gift of Jo Carole and ...</td>\n",
       "      <td>885.1996</td>\n",
       "      <td>A&amp;D Architectural Drawing</td>\n",
       "      <td>Architecture &amp; Design</td>\n",
       "      <td>1996-04-09</td>\n",
       "      <td>Y</td>\n",
       "      <td>2</td>\n",
       "      <td>http://www.moma.org/collection/works/2</td>\n",
       "    </tr>\n",
       "    <tr>\n",
       "      <th>1</th>\n",
       "      <td>City of Music, National Superior Conservatory ...</td>\n",
       "      <td>Christian de Portzamparc</td>\n",
       "      <td>(French, born 1944)</td>\n",
       "      <td>1987</td>\n",
       "      <td>Paint and colored pencil on print</td>\n",
       "      <td>16 x 11 3/4\" (40.6 x 29.8 cm)</td>\n",
       "      <td>Gift of the architect in honor of Lily Auchinc...</td>\n",
       "      <td>1.1995</td>\n",
       "      <td>A&amp;D Architectural Drawing</td>\n",
       "      <td>Architecture &amp; Design</td>\n",
       "      <td>1995-01-17</td>\n",
       "      <td>Y</td>\n",
       "      <td>3</td>\n",
       "      <td>http://www.moma.org/collection/works/3</td>\n",
       "    </tr>\n",
       "    <tr>\n",
       "      <th>2</th>\n",
       "      <td>Villa near Vienna Project, Outside Vienna, Aus...</td>\n",
       "      <td>Emil Hoppe</td>\n",
       "      <td>(Austrian, 1876–1957)</td>\n",
       "      <td>1903</td>\n",
       "      <td>Graphite, pen, color pencil, ink, and gouache ...</td>\n",
       "      <td>13 1/2 x 12 1/2\" (34.3 x 31.8 cm)</td>\n",
       "      <td>Gift of Jo Carole and Ronald S. Lauder</td>\n",
       "      <td>1.1997</td>\n",
       "      <td>A&amp;D Architectural Drawing</td>\n",
       "      <td>Architecture &amp; Design</td>\n",
       "      <td>1997-01-15</td>\n",
       "      <td>Y</td>\n",
       "      <td>4</td>\n",
       "      <td>http://www.moma.org/collection/works/4</td>\n",
       "    </tr>\n",
       "    <tr>\n",
       "      <th>3</th>\n",
       "      <td>The Manhattan Transcripts Project, New York, N...</td>\n",
       "      <td>Bernard Tschumi</td>\n",
       "      <td>(French and Swiss, born Switzerland 1944)</td>\n",
       "      <td>1980</td>\n",
       "      <td>Photographic reproduction with colored synthet...</td>\n",
       "      <td>20 x 20\" (50.8 x 50.8 cm)</td>\n",
       "      <td>Purchase and partial gift of the architect in ...</td>\n",
       "      <td>2.1995</td>\n",
       "      <td>A&amp;D Architectural Drawing</td>\n",
       "      <td>Architecture &amp; Design</td>\n",
       "      <td>1995-01-17</td>\n",
       "      <td>Y</td>\n",
       "      <td>5</td>\n",
       "      <td>http://www.moma.org/collection/works/5</td>\n",
       "    </tr>\n",
       "    <tr>\n",
       "      <th>4</th>\n",
       "      <td>Villa, project, outside Vienna, Austria, Exter...</td>\n",
       "      <td>Emil Hoppe</td>\n",
       "      <td>(Austrian, 1876–1957)</td>\n",
       "      <td>1903</td>\n",
       "      <td>Graphite, color pencil, ink, and gouache on tr...</td>\n",
       "      <td>15 1/8 x 7 1/2\" (38.4 x 19.1 cm)</td>\n",
       "      <td>Gift of Jo Carole and Ronald S. Lauder</td>\n",
       "      <td>2.1997</td>\n",
       "      <td>A&amp;D Architectural Drawing</td>\n",
       "      <td>Architecture &amp; Design</td>\n",
       "      <td>1997-01-15</td>\n",
       "      <td>Y</td>\n",
       "      <td>6</td>\n",
       "      <td>http://www.moma.org/collection/works/6</td>\n",
       "    </tr>\n",
       "  </tbody>\n",
       "</table>\n",
       "</div>"
      ],
      "text/plain": [
       "                                              ﻿Title  \\\n",
       "0  Ferdinandsbrücke Project, Vienna, Austria , El...   \n",
       "1  City of Music, National Superior Conservatory ...   \n",
       "2  Villa near Vienna Project, Outside Vienna, Aus...   \n",
       "3  The Manhattan Transcripts Project, New York, N...   \n",
       "4  Villa, project, outside Vienna, Austria, Exter...   \n",
       "\n",
       "                     Artist                                  ArtistBio  Date  \\\n",
       "0               Otto Wagner                      (Austrian, 1841–1918)  1896   \n",
       "1  Christian de Portzamparc                        (French, born 1944)  1987   \n",
       "2                Emil Hoppe                      (Austrian, 1876–1957)  1903   \n",
       "3           Bernard Tschumi  (French and Swiss, born Switzerland 1944)  1980   \n",
       "4                Emil Hoppe                      (Austrian, 1876–1957)  1903   \n",
       "\n",
       "                                              Medium  \\\n",
       "0      Ink and cut-and-pasted painted pages on paper   \n",
       "1                  Paint and colored pencil on print   \n",
       "2  Graphite, pen, color pencil, ink, and gouache ...   \n",
       "3  Photographic reproduction with colored synthet...   \n",
       "4  Graphite, color pencil, ink, and gouache on tr...   \n",
       "\n",
       "                           Dimensions  \\\n",
       "0  19 1/8 x 66 1/2\" (48.6 x 168.9 cm)   \n",
       "1       16 x 11 3/4\" (40.6 x 29.8 cm)   \n",
       "2   13 1/2 x 12 1/2\" (34.3 x 31.8 cm)   \n",
       "3           20 x 20\" (50.8 x 50.8 cm)   \n",
       "4    15 1/8 x 7 1/2\" (38.4 x 19.1 cm)   \n",
       "\n",
       "                                          CreditLine MoMANumber  \\\n",
       "0  Fractional and promised gift of Jo Carole and ...   885.1996   \n",
       "1  Gift of the architect in honor of Lily Auchinc...     1.1995   \n",
       "2             Gift of Jo Carole and Ronald S. Lauder     1.1997   \n",
       "3  Purchase and partial gift of the architect in ...     2.1995   \n",
       "4             Gift of Jo Carole and Ronald S. Lauder     2.1997   \n",
       "\n",
       "              Classification             Department DateAcquired  \\\n",
       "0  A&D Architectural Drawing  Architecture & Design   1996-04-09   \n",
       "1  A&D Architectural Drawing  Architecture & Design   1995-01-17   \n",
       "2  A&D Architectural Drawing  Architecture & Design   1997-01-15   \n",
       "3  A&D Architectural Drawing  Architecture & Design   1995-01-17   \n",
       "4  A&D Architectural Drawing  Architecture & Design   1997-01-15   \n",
       "\n",
       "  CuratorApproved  ObjectID                                     URL  \n",
       "0               Y         2  http://www.moma.org/collection/works/2  \n",
       "1               Y         3  http://www.moma.org/collection/works/3  \n",
       "2               Y         4  http://www.moma.org/collection/works/4  \n",
       "3               Y         5  http://www.moma.org/collection/works/5  \n",
       "4               Y         6  http://www.moma.org/collection/works/6  "
      ]
     },
     "execution_count": 2,
     "metadata": {},
     "output_type": "execute_result"
    }
   ],
   "source": [
    "import pandas\n",
    "\n",
    "artworks = pandas.read_csv(\"data/Artworks.csv\")\n",
    "artworks.head(5)"
   ]
  },
  {
   "cell_type": "markdown",
   "metadata": {},
   "source": [
    "###3: Dating Artists"
   ]
  },
  {
   "cell_type": "markdown",
   "metadata": {},
   "source": [
    "As you can see, the dataset comes with details on every artwork ranging from the author, his / her's short bio, the artwork's dimensions, date acquired, and even the URL to the artwork's page. While some columns, like DateAcquired, are formatted in the right way for us to plot as a time series, other columns like Date contain a mix of values that make it hard to explore. We ideally want this column to just have the year the artwork was published so that we can plot them.\n",
    "\n",
    "Let's use a Pandas feature called value_counts(), which returns a list of all the values in that column in addition to their frequency of appearance, similar to a histogram. We want to make sure we have a good sense of all the different formats the values in the Date column take on."
   ]
  },
  {
   "cell_type": "code",
   "execution_count": 3,
   "metadata": {
    "collapsed": false
   },
   "outputs": [
    {
     "data": {
      "text/plain": [
       "1971                                      1713\n",
       "1967                                      1622\n",
       "1966                                      1422\n",
       "1968                                      1410\n",
       "1965                                      1388\n",
       "1973                                      1358\n",
       "1969                                      1275\n",
       "1964                                      1270\n",
       "1970                                      1231\n",
       "1963                                      1129\n",
       "2003                                      1110\n",
       "1972                                      1051\n",
       "1930                                      1031\n",
       "1962                                      1005\n",
       "1976                                       954\n",
       "1928                                       940\n",
       "1980                                       915\n",
       "2001                                       913\n",
       "2002                                       908\n",
       "1931                                       888\n",
       "1974                                       842\n",
       "1961                                       829\n",
       "1984                                       821\n",
       "1960                                       808\n",
       "1994                                       802\n",
       "1977                                       799\n",
       "1991                                       798\n",
       "1983                                       798\n",
       "1959                                       779\n",
       "1975                                       778\n",
       "                                          ... \n",
       "(September 18-21) 1961                       1\n",
       "Montroig, late summer-fall 1925              1\n",
       "1930-1939                                    1\n",
       "(newspaper published March 1, 2000)          1\n",
       "(June 27-28, 1961)                           1\n",
       "1952-1962                                    1\n",
       "(November 11-13, 1968)                       1\n",
       "(c. 1865-68)                                 1\n",
       "2010-ongoing                                 1\n",
       "(1955).  (Prints executed 1905-1955).        1\n",
       "1964–66                                      1\n",
       "December 12, 1966, published 1968            1\n",
       "(January 4-7, 1963)                          1\n",
       "1970/2001                                    1\n",
       "March 5, 1986                                1\n",
       "December 18, 1961-January 12, 1962           1\n",
       "(August 12-25) 1969                          1\n",
       "May 23, 1977                                 1\n",
       "1962 (Prints executed 1959-1961).            1\n",
       "c. 1880?                                     1\n",
       "1984-1986                                    1\n",
       "(1903-1904)                                  1\n",
       "(November 7, 1945)                           1\n",
       "(February 7-8) 1963                          1\n",
       "(newspaper published June 12/13, 2004)       1\n",
       "February 21, 1972, published 1972            1\n",
       "October 31, 1964                             1\n",
       "1925-36                                      1\n",
       "(July 24-27, 1962)                           1\n",
       "May 26, 1962.                                1\n",
       "dtype: int64"
      ]
     },
     "execution_count": 3,
     "metadata": {},
     "output_type": "execute_result"
    }
   ],
   "source": [
    "# Returns list of all values in 'Date' column, and their frequency\n",
    "artworks['Date'].value_counts()"
   ]
  },
  {
   "cell_type": "markdown",
   "metadata": {},
   "source": [
    "###4: Patterns"
   ]
  },
  {
   "cell_type": "markdown",
   "metadata": {},
   "source": [
    "Looks like there are a few patterns in the Date column that we need to account for:\n",
    "- Pattern 1: \"1976-77\" (year ranges)\n",
    "- Pattern 2: \"c. 1917\"\n",
    "- Pattern 3: \"Unknown\"\n",
    "- Pattern 4: \"n.d.\"\n",
    "\n",
    "Now we need to come up Python logic to specify how we want these values to be handled.\n",
    "\n",
    "For the first one, let's go ahead and just pick the lower of the 2 years provided in the range (e.g. \"1976-77\" becomes \"1976\"). For the second pattern, let's just get rid of the \"c. \" in front of \"c. 1917\". Finally, let's leave the third pattern alone, \"Unknown\", and actually convert the values where we see the fourth pattern, \"n.d.\", into the same value as the third pattern, \"Unknown\". This way, when we are calculating or plotting using the Date column, we can just filter out all of the artworks that have \"Unknown\" as their value and proceed without any issues.\n",
    "\n",
    "Let's step through how we can write a function for dealing with each pattern and transforming the values based on the rules we described above."
   ]
  },
  {
   "cell_type": "markdown",
   "metadata": {},
   "source": [
    "###5: Pattern 1"
   ]
  },
  {
   "cell_type": "markdown",
   "metadata": {},
   "source": [
    "Since all of the rows with pattern 1 are year ranges spanning only two years (e.g. 1980-81), we can select a year and have it replace the range. To keep things simple, let's select the first year in the range since it contains all four digits of the year (1980) while the second year in the range has only the last two digits (81).\n",
    "\n",
    "We also need a reliable way to identify which rows actually exhibit pattern 1 so we only update those rows and leave the others intact. We need to leave the others intact either because they are already in the proper date format or because they will need to be modified later using the logic we write for handling the other patterns.\n",
    "\n",
    "Since year ranges contain a hyphen - separating the two years, we can look for the - in each row's Date value and split it into two separate years. The core Python library contains a function named .split() which in this situation will return a list of the two years if a hyphen is found or the original value if it isn't. Since we are looking for just the first year, we can call .split(\"-\") on every row's Date, check to see if the resulting list contains two elements, and if it does, return the first element. Let's write a function clean_split_dates(row) which will do exactly that:"
   ]
  },
  {
   "cell_type": "code",
   "execution_count": 4,
   "metadata": {
    "collapsed": false
   },
   "outputs": [
    {
     "data": {
      "text/plain": [
       "nan                                               2484\n",
       "1971                                              1839\n",
       "1967                                              1777\n",
       "1969                                              1661\n",
       "1968                                              1626\n",
       "1966                                              1617\n",
       "1965                                              1587\n",
       "1964                                              1536\n",
       "1973                                              1495\n",
       "1970                                              1465\n",
       "1900                                              1305\n",
       "1972                                              1292\n",
       "1930                                              1274\n",
       "1963                                              1218\n",
       "1931                                              1213\n",
       "1928                                              1211\n",
       "2003                                              1168\n",
       "1962                                              1164\n",
       "1926                                              1108\n",
       "1976                                              1066\n",
       "1980                                              1051\n",
       "1948                                              1050\n",
       "1925                                              1018\n",
       "2002                                              1013\n",
       "2001                                               999\n",
       "1975                                               994\n",
       "1991                                               990\n",
       "1974                                               980\n",
       "1927                                               956\n",
       "1934                                               949\n",
       "                                                  ... \n",
       "November 30, 1918                                    1\n",
       "(May 29) 1970                                        1\n",
       "1961, realized 1963                                  1\n",
       "(1968, published 1970)                               1\n",
       "(February 4                                          1\n",
       "Tangier, winter                                      1\n",
       "March 5, 1921                                        1\n",
       "January 16, 1945                                     1\n",
       "1994.  (Prints executed 1989                         1\n",
       "September 2, 1996.                                   1\n",
       "(late 1980s)                                         1\n",
       "(before 1930)                                        1\n",
       "February 1, 1977                                     1\n",
       "(newspaper published February 28, 1995)              1\n",
       "(2012)                                               1\n",
       "Waterbury, Connecticut, 1959                         1\n",
       "March 13, 1915                                       1\n",
       "1976–79                                              1\n",
       "1998–1999                                            1\n",
       "(October 5, 1945)                                    1\n",
       "May 28, 1939                                         1\n",
       "(newspapers published May 14 through 28, 2005)       1\n",
       "May 2, 1977                                          1\n",
       "January 1932                                         1\n",
       "1974/1981                                            1\n",
       "1964  (Prints executed 1963                          1\n",
       "May 24                                               1\n",
       ".a (1922), signed 1924 .b (1922)                     1\n",
       "(January 31, 1933, printed 1939)                     1\n",
       "2008/11                                              1\n",
       "dtype: int64"
      ]
     },
     "execution_count": 4,
     "metadata": {},
     "output_type": "execute_result"
    }
   ],
   "source": [
    "def clean_split_dates(row):\n",
    "    # Return current value for the 'Date' column for that row.\n",
    "    initial_date = str(row['Date'])\n",
    "    final_date = initial_date\n",
    "    \n",
    "    # Split string by the dash and create a list with the values surrounding the dash, called `split_date`.\n",
    "    split_date = initial_date.split('-') \n",
    "\n",
    "    # If no dash found, 'split_date' will just contain one item, the initial_date.\n",
    "    # If dash is found, 'split_date' will contain a list of at least 2 elements, return first element.\n",
    "    if len(split_date) > 1:\n",
    "        final_date = split_date[0]\n",
    "    \n",
    "    return final_date\n",
    "\n",
    "# Assign the results of 'clean_split_dates' to the 'Date' column. Since we want Pandas to go\n",
    "# row by row, we set \"axis=1\". If we wanted to go by columns, we would use \"axis=0\".\n",
    "artworks['Date'] = artworks.apply(lambda row: clean_split_dates(row), axis=1)\n",
    "artworks['Date'].value_counts()"
   ]
  },
  {
   "cell_type": "markdown",
   "metadata": {},
   "source": [
    "###6: Pattern 2"
   ]
  },
  {
   "cell_type": "markdown",
   "metadata": {},
   "source": [
    "As you can see, there are no values in Date that are year ranges and contain a \"-\" separator. Let's now write a function to handle Pattern 2, called clean_c_dates.\n",
    "\n",
    "This function needs to look for the characters, \"c. \", at the beginning of each date and chop that sequence off if it finds it. Let's take advantage of another function that Strings have, called lstrip(chars). The lstrip(chars) function starts from the left side of the String and compares each letter of the String with the chars we passed in. If it finds the full chars phrase, it will remove it from the String. If it doesn't, it keeps it the same!"
   ]
  },
  {
   "cell_type": "markdown",
   "metadata": {},
   "source": [
    "####Instructions"
   ]
  },
  {
   "cell_type": "markdown",
   "metadata": {},
   "source": [
    "While the logic for clean_c_dates is written out, we are going to ask you to apply the function to the artworks DataFrame and assign the results to the Date column."
   ]
  },
  {
   "cell_type": "code",
   "execution_count": 5,
   "metadata": {
    "collapsed": false
   },
   "outputs": [],
   "source": [
    "def clean_c_dates(row):\n",
    "    # Return current value for the 'Date' column for that row.\n",
    "    initial_date = row['Date']\n",
    "    # Use .lstrip() to strip from the left side of \"c. \".\n",
    "    final_date = initial_date.lstrip(\"c. \")\n",
    "    return final_date\n",
    "\n",
    "# Assign the results of 'clean_c_dates' to the 'Date' column. Since we want Pandas to go\n",
    "# row by row, we set \"axis=1\". If we wanted to go by columns, we would use \"axis=0\".\n",
    "artworks['Date'] = artworks.apply(lambda row: clean_c_dates(row), axis=1)"
   ]
  },
  {
   "cell_type": "markdown",
   "metadata": {},
   "source": [
    "###7: Verifying Pattern 2"
   ]
  },
  {
   "cell_type": "markdown",
   "metadata": {},
   "source": [
    "Let's run value_counts() on the Date column to verify that our logic worked as we expected. Look to make sure the row with Pattern 2 no longer exhibits that pattern."
   ]
  },
  {
   "cell_type": "code",
   "execution_count": 6,
   "metadata": {
    "collapsed": false
   },
   "outputs": [
    {
     "data": {
      "text/plain": [
       "nan                                         2484\n",
       "1967                                        1889\n",
       "1971                                        1864\n",
       "1969                                        1779\n",
       "1966                                        1702\n",
       "1965                                        1699\n",
       "1968                                        1696\n",
       "1964                                        1618\n",
       "1970                                        1523\n",
       "1973                                        1523\n",
       "1900                                        1469\n",
       "1930                                        1433\n",
       "1972                                        1333\n",
       "1931                                        1315\n",
       "1928                                        1272\n",
       "1963                                        1268\n",
       "1962                                        1220\n",
       "2003                                        1188\n",
       "1926                                        1156\n",
       "1948                                        1126\n",
       "1925                                        1100\n",
       "1976                                        1088\n",
       "1980                                        1074\n",
       "1975                                        1054\n",
       "1927                                        1022\n",
       "2002                                        1017\n",
       "1934                                        1010\n",
       "2001                                        1004\n",
       "1991                                         992\n",
       "1974                                         989\n",
       "                                            ... \n",
       "(1926).  (Prints executed 1924                 1\n",
       "September 1929                                 1\n",
       "(1921), dated 1933                             1\n",
       "November 18, 1965.                             1\n",
       "January 11                                     1\n",
       "1994–2014                                      1\n",
       "October 1992                                   1\n",
       "March 1936                                     1\n",
       "January 8, 1986                                1\n",
       "January 10, 1914                               1\n",
       "(c. 1980/81 )                                  1\n",
       "1981.  (Prints executed 1980).                 1\n",
       "February 1943                                  1\n",
       "(c. 1910, published 1918)                      1\n",
       "June 12, 1936, printed 1939                    1\n",
       "March 17, 1969                                 1\n",
       "(newspaper published August 28/29, 2004)       1\n",
       "June 3, 1906                                   1\n",
       "November 6, 1998                               1\n",
       "(c. 1951)                                      1\n",
       "September 1, 1966                              1\n",
       "Mars                                           1\n",
       "December 10, 1933                              1\n",
       "October 18                                     1\n",
       "January 10, 1946                               1\n",
       "(newspaper published March 21, 2000)           1\n",
       "June, 1978                                     1\n",
       "1856–57                                        1\n",
       "(October 7) 1906                               1\n",
       "May 26, 1962.                                  1\n",
       "dtype: int64"
      ]
     },
     "execution_count": 6,
     "metadata": {},
     "output_type": "execute_result"
    }
   ],
   "source": [
    "artworks['Date'].value_counts()"
   ]
  },
  {
   "cell_type": "markdown",
   "metadata": {},
   "source": [
    "###8: Pattern 3"
   ]
  },
  {
   "cell_type": "markdown",
   "metadata": {},
   "source": [
    "The row with \"c. 1917\" is now just \"1917\", as expected! We don't have to write any specific code to handle Pattern 3 since we want those values to remain the same as the original. In the functions we use to clean the other 3 patterns, if a match wasn't found, the original Date value was returned. Since \"Unknown\" doesn't overlap in logic with our other patterns, all rows that had the initial value \"Unknown\" remained the same!"
   ]
  },
  {
   "cell_type": "markdown",
   "metadata": {},
   "source": [
    "###9: Pattern 4"
   ]
  },
  {
   "cell_type": "markdown",
   "metadata": {},
   "source": [
    "For pattern 4, we just need to check if initial_date is equal to n.d., and modify that row's Date value to Unknown if it is. Let's call this function clean_nd_dates then run .value_counts() on the updated Date column as before."
   ]
  },
  {
   "cell_type": "code",
   "execution_count": 7,
   "metadata": {
    "collapsed": false
   },
   "outputs": [
    {
     "data": {
      "text/plain": [
       "nan                                                                              2484\n",
       "1967                                                                             1889\n",
       "1971                                                                             1864\n",
       "1969                                                                             1779\n",
       "1966                                                                             1702\n",
       "1965                                                                             1699\n",
       "1968                                                                             1696\n",
       "1964                                                                             1618\n",
       "1973                                                                             1523\n",
       "1970                                                                             1523\n",
       "1900                                                                             1469\n",
       "1930                                                                             1433\n",
       "1972                                                                             1333\n",
       "1931                                                                             1315\n",
       "1928                                                                             1272\n",
       "1963                                                                             1268\n",
       "1962                                                                             1220\n",
       "2003                                                                             1188\n",
       "1926                                                                             1156\n",
       "1948                                                                             1126\n",
       "1925                                                                             1100\n",
       "1976                                                                             1088\n",
       "1980                                                                             1074\n",
       "1975                                                                             1054\n",
       "1927                                                                             1022\n",
       "2002                                                                             1017\n",
       "1934                                                                             1010\n",
       "2001                                                                             1004\n",
       "1991                                                                              992\n",
       "1974                                                                              989\n",
       "                                                                                 ... \n",
       "(Commissioned by Vollard; prints  executed 1930)                                    1\n",
       "August 19, 1934                                                                     1\n",
       "(January 31, 1933, printed 1939)                                                    1\n",
       "published c. 1924                                                                   1\n",
       "June 29, 1979                                                                       1\n",
       "before 1971                                                                         1\n",
       "(Prints commissioned for various projects  by Vollard;  prints executed  1919       1\n",
       "(after 1890)                                                                        1\n",
       "August 16, 1913                                                                     1\n",
       "November, 1862                                                                      1\n",
       "January 16, 1945                                                                    1\n",
       "March 5, 1921                                                                       1\n",
       "Tangier, winter                                                                     1\n",
       "(February 4                                                                         1\n",
       "(newspapers published May 14 through 28, 2005)                                      1\n",
       "(late 1980s)                                                                        1\n",
       "(May 29) 1970                                                                       1\n",
       "September 2, 1996.                                                                  1\n",
       "November 1946                                                                       1\n",
       "July 1952                                                                           1\n",
       "1963–77                                                                             1\n",
       "October 18, 1940                                                                    1\n",
       "1914, published 1919                                                                1\n",
       "October 6, 1893                                                                     1\n",
       "July 1941                                                                           1\n",
       "(newspaper published April 1/2, 2000)                                               1\n",
       "November 30, 1918                                                                   1\n",
       "1961, realized 1963                                                                 1\n",
       "(1968, published 1970)                                                              1\n",
       "196?                                                                                1\n",
       "dtype: int64"
      ]
     },
     "execution_count": 7,
     "metadata": {},
     "output_type": "execute_result"
    }
   ],
   "source": [
    "def clean_nd_dates(row):\n",
    "    # Return current value for the 'Date' column for that row.\n",
    "    initial_date = row['Date']\n",
    "    final_date = initial_date\n",
    "    \n",
    "    # If equal to \"n.d.\", replace with \"Unknown\".\n",
    "    if initial_date == \"n.d.\":\n",
    "        final_date = \"Unknown\"\n",
    "\n",
    "    return final_date\n",
    "\n",
    "# Assign the results of 'clean_nd_dates' to the 'Date' column. Since we want Pandas to go\n",
    "# row by row, we set \"axis=1\". If we wanted to go by columns, we would use \"axis=0\".\n",
    "artworks['Date'] = artworks.apply(lambda row: clean_nd_dates(row), axis=1)\n",
    "artworks['Date'].value_counts()"
   ]
  },
  {
   "cell_type": "markdown",
   "metadata": {},
   "source": [
    "###10: Packaging Logic Into One Function"
   ]
  },
  {
   "cell_type": "markdown",
   "metadata": {},
   "source": [
    "We now only have specific year values or the value \"Unknown\" in our Date column. For the purposes of this lesson, we split up the pattern transformations into 3 different functions: clean_split_dates, clean_c_dates, and clean_nd_dates. As you become more familiar with Python and Pandas, you will become more comfortable reducing complexity by writing just one function to handle the patterns. Let's now see what that function could look like, by borrowing from the logic of the 3 functions we wrote above."
   ]
  },
  {
   "cell_type": "code",
   "execution_count": 8,
   "metadata": {
    "collapsed": false
   },
   "outputs": [
    {
     "data": {
      "text/plain": [
       "nan                                      2484\n",
       "1971                                     1863\n",
       "1967                                     1862\n",
       "1969                                     1762\n",
       "1965                                     1698\n",
       "1966                                     1695\n",
       "1968                                     1694\n",
       "1964                                     1613\n",
       "1973                                     1523\n",
       "1970                                     1517\n",
       "1900                                     1466\n",
       "1930                                     1425\n",
       "1972                                     1333\n",
       "1931                                     1310\n",
       "1963                                     1261\n",
       "1928                                     1255\n",
       "1962                                     1203\n",
       "2003                                     1188\n",
       "1926                                     1153\n",
       "1948                                     1108\n",
       "1925                                     1091\n",
       "1976                                     1088\n",
       "1980                                     1067\n",
       "1975                                     1052\n",
       "2002                                     1017\n",
       "2001                                     1004\n",
       "1934                                     1000\n",
       "1991                                      992\n",
       "1974                                      988\n",
       "1927                                      986\n",
       "                                         ... \n",
       "September 1, 1966                           1\n",
       "Mars                                        1\n",
       "Published March 1945 (original ready        1\n",
       "October 18                                  1\n",
       "January 10, 1946                            1\n",
       "(newspaper published March 2, 2005)         1\n",
       "June, 1978                                  1\n",
       "1856–57                                     1\n",
       "(October 7) 1906                            1\n",
       "June 12, 1936, printed 1939                 1\n",
       "1969 (fabricated 1986)                      1\n",
       "June 5, 1977                                1\n",
       "(1911, dated 1912, published c. 1917)       1\n",
       "September 20, 1919                          1\n",
       "September 26, 1918                          1\n",
       "September 10, 1973                          1\n",
       "1953, printed 1980s                         1\n",
       "May 1865                                    1\n",
       "June 7, 1907                                1\n",
       "June 21, 1919                               1\n",
       "1917–18                                     1\n",
       "(December 29) 1960                          1\n",
       "1952/1953                                   1\n",
       "January 17, 1995                            1\n",
       "(newspaper published: May 27, 1999)         1\n",
       "October 16, 1927                            1\n",
       "April 1966                                  1\n",
       "June 1891                                   1\n",
       "2000–2001                                   1\n",
       "May 26, 1962.                               1\n",
       "dtype: int64"
      ]
     },
     "execution_count": 8,
     "metadata": {},
     "output_type": "execute_result"
    }
   ],
   "source": [
    "# Single transformation function.\n",
    "def clean_dates(row):\n",
    "    initial_date = str(row['Date'])\n",
    "    final_date = initial_date\n",
    "\n",
    "    # Pattern 1\n",
    "    split_date = initial_date.split(\"-\")\n",
    "    \n",
    "    if len(split_date) > 1:\n",
    "        final_date = split_date[0]\n",
    "        return final_date\n",
    "    \n",
    "    # Pattern 4\n",
    "    elif initial_date == \"n.d.\":\n",
    "        final_date = \"Unknown\"\n",
    "        return final_date\n",
    "    \n",
    "    # Pattern 2\n",
    "    else:\n",
    "        final_date = initial_date.lstrip(\"c. \")\n",
    "    return final_date\n",
    "\n",
    "# Assign the results of 'clean_dates' to the 'Date' column. Since we want Pandas to go\n",
    "# row by row, we set \"axis=1\". If we wanted to go by columns, we would use \"axis=0\".\n",
    "artworks = pandas.read_csv(\"data/Artworks.csv\")\n",
    "artworks['Date'] = artworks.apply(lambda row: clean_dates(row), axis=1)\n",
    "artworks['Date'].value_counts()"
   ]
  },
  {
   "cell_type": "markdown",
   "metadata": {},
   "source": [
    "###11: Challenge, Introduction"
   ]
  },
  {
   "cell_type": "markdown",
   "metadata": {},
   "source": [
    "We've left this next problem up to you as a challenge. If you run .value_counts() on the the ArtistBio column, you'll notice that every value is surrounded by parentheses."
   ]
  },
  {
   "cell_type": "code",
   "execution_count": 9,
   "metadata": {
    "collapsed": false
   },
   "outputs": [
    {
     "data": {
      "text/plain": [
       "(French, 1857–1927)                      5050\n",
       "(American, born France. 1911–2010)       3229\n",
       "(American, born Germany. 1886–1969)      2497\n",
       "(American, born 1934)                    1657\n",
       "(French, 1901–1985)                      1426\n",
       "(Spanish, 1881–1973)                     1311\n",
       "(French, born Belarus. 1887–1985)        1151\n",
       "(French, 1869–1954)                      1064\n",
       "(French, 1867–1947)                       940\n",
       "(American, born Lithuania. 1931–1978)     937\n",
       "dtype: int64"
      ]
     },
     "execution_count": 9,
     "metadata": {},
     "output_type": "execute_result"
    }
   ],
   "source": [
    "artworks['ArtistBio'].value_counts()[:10]"
   ]
  },
  {
   "cell_type": "markdown",
   "metadata": {},
   "source": [
    "##12: Challenge, Go!"
   ]
  },
  {
   "cell_type": "markdown",
   "metadata": {},
   "source": [
    "####Instructions"
   ]
  },
  {
   "cell_type": "markdown",
   "metadata": {},
   "source": [
    "Write a function clean_parentheses(row) that removes the trailing parentheses from both sides. Just like we used .lstrip() on each value to remove \"c. \" from values in the Date column, use the function .rstrip() to remove trailing characters from the right side."
   ]
  },
  {
   "cell_type": "code",
   "execution_count": 10,
   "metadata": {
    "collapsed": false
   },
   "outputs": [
    {
     "data": {
      "text/plain": [
       "French, 1857–1927                    5050\n",
       "nan                                  4495\n",
       "American, born France. 1911–2010     3229\n",
       "American, born Germany. 1886–1969    2497\n",
       "American, born 1934                  1657\n",
       "French, 1901–1985                    1426\n",
       "Spanish, 1881–1973                   1311\n",
       "French, born Belarus. 1887–1985      1151\n",
       "French, 1869–1954                    1064\n",
       "French, 1867–1947                     940\n",
       "dtype: int64"
      ]
     },
     "execution_count": 10,
     "metadata": {},
     "output_type": "execute_result"
    }
   ],
   "source": [
    "def clean_parentheses(row):\n",
    "    initial_bio = str(row['ArtistBio'])\n",
    "    left_stripped = initial_bio.lstrip(\"(\")\n",
    "    final_stripped = left_stripped.rstrip(\")\")\n",
    "    final_bio = final_stripped\n",
    "    return final_bio\n",
    "\n",
    "artworks['ArtistBio'] = artworks.apply(lambda row: clean_parentheses(row), axis=1)\n",
    "artworks['ArtistBio'].value_counts()[:10]"
   ]
  },
  {
   "cell_type": "markdown",
   "metadata": {},
   "source": [
    "##13: Conclusion"
   ]
  },
  {
   "cell_type": "markdown",
   "metadata": {},
   "source": [
    "The ArtistBio column is now much cleaner without the starting and ending parentheses. You may have noticed that some of the values have parentheses in the middle of the String, instead of just at the edges. Usually in these kinds of situations, you go from exploring the values, coming up with patterns, writing code to deal with them, and then revising and repeating until the data is ready to go. Because our code persists even after we run it, it's easy to iterate through ideas."
   ]
  }
 ],
 "metadata": {
  "kernelspec": {
   "display_name": "Python 3",
   "language": "python",
   "name": "python3"
  },
  "language_info": {
   "codemirror_mode": {
    "name": "ipython",
    "version": 3
   },
   "file_extension": ".py",
   "mimetype": "text/x-python",
   "name": "python",
   "nbconvert_exporter": "python",
   "pygments_lexer": "ipython3",
   "version": "3.4.3"
  }
 },
 "nbformat": 4,
 "nbformat_minor": 0
}
