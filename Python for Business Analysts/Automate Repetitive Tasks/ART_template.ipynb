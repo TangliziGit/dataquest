{
 "cells": [
  {
   "cell_type": "code",
   "execution_count": 1,
   "metadata": {
    "collapsed": true
   },
   "outputs": [],
   "source": [
    "from __future__ import print_function"
   ]
  },
  {
   "cell_type": "markdown",
   "metadata": {},
   "source": [
    "#Python for Business Analysts"
   ]
  },
  {
   "cell_type": "markdown",
   "metadata": {},
   "source": [
    "##Automate Repetitive Tasks"
   ]
  },
  {
   "cell_type": "markdown",
   "metadata": {},
   "source": [
    "###1: Introduction"
   ]
  },
  {
   "cell_type": "markdown",
   "metadata": {
    "collapsed": true
   },
   "source": [
    "In this mission, we will explore how we can use Python to automate tasks for us."
   ]
  },
  {
   "cell_type": "markdown",
   "metadata": {},
   "source": [
    "####Instructions"
   ]
  },
  {
   "cell_type": "markdown",
   "metadata": {},
   "source": [
    "Create 2 variables, housing_2007 and housing_2005, that contain the DataFrame objects associated with Hud_2007.csv and Hud_2005.csv, respectively."
   ]
  },
  {
   "cell_type": "code",
   "execution_count": 2,
   "metadata": {
    "collapsed": false
   },
   "outputs": [
    {
     "name": "stdout",
     "output_type": "stream",
     "text": [
      "housing_2007:\n",
      "           CONTROL  AGE1  BEDRMS  PER REGION   LMED   FMR    L30    L50    L80  \\\n",
      "0  '100003130103'    -9       3   -6    '1'  66440  1048  14344  23890  37385   \n",
      "1  '100003130203'    69       3    1    '1'  66440  1048  14344  23890  37385   \n",
      "2  '100006110249'    45       3    1    '3'  49575   757  10893  18140  29019   \n",
      "\n",
      "     ...          FMTINCRELFMRCAT  FMTCOST06RELAMICAT FMTCOST08RELAMICAT  \\\n",
      "0    ...                      '.'    '3 50 - 60% AMI'   '4 60 - 80% AMI'   \n",
      "1    ...               '3 GT FMR'     '1 LTE 30% AMI'    '1 LTE 30% AMI'   \n",
      "2    ...      '2 50.1 - 100% FMR'    '4 60 - 80% AMI'  '5 80 - 100% AMI'   \n",
      "\n",
      "   FMTCOST12RELAMICAT  FMTCOSTMEDRELAMICAT     FMTINCRELAMICAT FMTASSISTED  \\\n",
      "0   '5 80 - 100% AMI'     '3 50 - 60% AMI'                 '.'         '.'   \n",
      "1     '1 LTE 30% AMI'      '1 LTE 30% AMI'  '6 100 - 120% AMI'         '.'   \n",
      "2  '6 100 - 120% AMI'     '4 60 - 80% AMI'    '4 60 - 80% AMI'         '.'   \n",
      "\n",
      "           FMTBURDEN  FMTREGION  FMTSTATUS  \n",
      "0                '.'       '-5'       '-5'  \n",
      "1  '1 Less than 30%'       '-5'       '-5'  \n",
      "2     '2 30% to 50%'       '-5'       '-5'  \n",
      "\n",
      "[3 rows x 99 columns]\n",
      "housing_2005:\n",
      "           CONTROL  AGE1  BEDRMS  PER REGION   LMED  FMR    L30    L50    L80  \\\n",
      "0  '100006110249'    43       3    1    '3'  47954  680  10359  17263  27615   \n",
      "1  '100006370140'    44       4    5    '3'  47954  760  15988  26630  42607   \n",
      "2  '100006520140'    58       3    3    '3'  47954  680  13321  22194  35506   \n",
      "\n",
      "     ...          FMTINCRELFMRCAT  FMTCOST06RELAMICAT FMTCOST08RELAMICAT  \\\n",
      "0    ...      '2 50.1 - 100% FMR'    '4 60 - 80% AMI'   '4 60 - 80% AMI'   \n",
      "1    ...               '3 GT FMR'   '5 80 - 100% AMI'  '5 80 - 100% AMI'   \n",
      "2    ...               '3 GT FMR'  '6 100 - 120% AMI'     '7 120% AMI +'   \n",
      "\n",
      "   FMTCOST12RELAMICAT FMTCOSTMEDRELAMICAT   FMTINCRELAMICAT  FMTASSISTED  \\\n",
      "0   '5 80 - 100% AMI'    '4 60 - 80% AMI'  '3 50 - 60% AMI'          '.'   \n",
      "1      '7 120% AMI +'   '5 80 - 100% AMI'    '7 120% AMI +'          '.'   \n",
      "2      '7 120% AMI +'  '6 100 - 120% AMI'    '7 120% AMI +'          '.'   \n",
      "\n",
      "              FMTBURDEN  FMTREGION  FMTSTATUS  \n",
      "0  '3 Greater than 50%'       '-5'       '-5'  \n",
      "1     '1 Less than 30%'       '-5'       '-5'  \n",
      "2     '1 Less than 30%'       '-5'       '-5'  \n",
      "\n",
      "[3 rows x 99 columns]\n"
     ]
    }
   ],
   "source": [
    "import pandas\n",
    "\n",
    "housing_2007 = pandas.read_csv(\"data/Hud_2007.csv\")\n",
    "print(\"housing_2007:\\n\", housing_2007.head(3))\n",
    "\n",
    "housing_2005 = pandas.read_csv(\"data/Hud_2005.csv\")\n",
    "print(\"housing_2005:\\n\", housing_2005.head(3))"
   ]
  },
  {
   "cell_type": "markdown",
   "metadata": {},
   "source": [
    "###2: Lists"
   ]
  },
  {
   "cell_type": "markdown",
   "metadata": {},
   "source": [
    "Now that we have read in both datasets into DataFrame objects, let's add them to a List. A List is type of object (just like a DataFrame, Integer, or String) that contains an ordered group of objects. Just like how a grocery list contains a group of \"ingredient\" objects to buy, is a List object in Python houses a group of the objects we add to it. Instead of writing code to manipulate each object separately (in our case the objects are DataFrames), we can group a few objects into a List object, write the logic once, and apply it to every object in that List. This saves us a lot of time and energy, and will be important when we deal with much larger datasets with tens, hundreds or even thousands of DataFrames.\n",
    "\n",
    "In the following code block, we will create an empty List called data_frames_list by assigning it empty brackets: []\n",
    "\n",
    "Then, we will add a year column for each DataFrame to keep track of which DataFrame is which:\n",
    "\n",
    "    housing_2005['year'] = '2005'\n",
    "    housing_2007['year'] = '2007'\n",
    "\n",
    "Each row now has a value for year, either 2005 or 2007, identifying which dataset that row originated from. Finally, we will use .append() to first add housing_2005 then housing_2007 to the end of data_frames_list. The List object preserves the order by which the DataFrames were added:\n",
    "\n",
    "    data_frames_list.append(housing_2005)\n",
    "    data_frames_list.append(housing_2007)\n",
    "\n",
    "The list now contains these two DataFrames in the order we added them."
   ]
  },
  {
   "cell_type": "code",
   "execution_count": 3,
   "metadata": {
    "collapsed": false
   },
   "outputs": [
    {
     "name": "stdout",
     "output_type": "stream",
     "text": [
      "data_frames_list: 2\n"
     ]
    }
   ],
   "source": [
    "# Create list.\n",
    "data_frames_list = []\n",
    "\n",
    "# Add a year column to each dataframe.\n",
    "housing_2005['year'] = '2005'\n",
    "housing_2007['year'] = '2007'\n",
    "\n",
    "# .append() adds the specified object to the end of the list.\n",
    "data_frames_list.append(housing_2005)\n",
    "data_frames_list.append(housing_2007)\n",
    "\n",
    "# List now contains 2 objects, the respective dataframes for 2005 and 2007.\n",
    "print(\"data_frames_list:\", len(data_frames_list))"
   ]
  },
  {
   "cell_type": "markdown",
   "metadata": {},
   "source": [
    "###3: Column Filtering"
   ]
  },
  {
   "cell_type": "markdown",
   "metadata": {},
   "source": [
    "After appending both DataFrames, we ran print() on len(data_frames_list) to display the number of elements, or length, of the list to verify that we added two DataFrame objects to the list.\n",
    "\n",
    "Let's now practice Pandas' column filtering feature that we learned in the previous lesson. Create a new DataFrame, filtered_housing_2007, that contains the column filtered version of housing_2007, with just the columns we are interested in. The columns we want are: ['AGE1', 'FMR', 'TOTSAL', 'year']."
   ]
  },
  {
   "cell_type": "markdown",
   "metadata": {},
   "source": [
    "####Instructions"
   ]
  },
  {
   "cell_type": "markdown",
   "metadata": {},
   "source": [
    "First, create a List variable, columns, that contains the names of all of the columns we are interested in. When specifying the elements we want in the list, we need to surround each column name we want with quotes (either single or double quotes), add a comma between each column name, and then surround the whole thing with a starting [ and closing bracket ]. Then, we use bracket notation on the DataFrame object to specify a filter. We want the filter to just contain the columns list."
   ]
  },
  {
   "cell_type": "code",
   "execution_count": 4,
   "metadata": {
    "collapsed": false
   },
   "outputs": [
    {
     "name": "stdout",
     "output_type": "stream",
     "text": [
      "filtered_housing_2007:\n",
      "    AGE1   FMR  TOTSAL  year\n",
      "0    -9  1048      -9  2007\n",
      "1    69  1048       0  2007\n",
      "2    45   757   26000  2007\n",
      "3    47   847  126000  2007\n",
      "4    30   616   42000  2007\n"
     ]
    }
   ],
   "source": [
    "columns = []\n",
    "filtered_housing_2007 = []\n",
    "\n",
    "# Create list of column names to filter by.\n",
    "columns = ['AGE1', 'FMR', 'TOTSAL', 'year']\n",
    "\n",
    "# Filter dataframe.\n",
    "filtered_housing_2007 = housing_2007[columns]\n",
    "\n",
    "print(\"filtered_housing_2007:\\n\", filtered_housing_2007[:5])"
   ]
  },
  {
   "cell_type": "markdown",
   "metadata": {},
   "source": [
    "###4: Functions"
   ]
  },
  {
   "cell_type": "markdown",
   "metadata": {},
   "source": [
    "Now, we will learn how to write our own functions. Functions are core to every programming language and are a powerful way to package logic and apply it wherever we see fit. They can take an object as an input, apply pre-written logic on the input, and then return a modified object. Functions are like factories that take in raw materials, add other materials and processes to them, and then crank out finished products. In the next code block, we define a function filter_columns, that takes in an input, data_frames_list, and returns a new list new_df_list.\n",
    "\n",
    "We want the function to filter each DataFrame down to only the columns we want. Let's use the same columns from the last code block: * 'AGE1', 'FMR', 'TOTSAL', year"
   ]
  },
  {
   "cell_type": "code",
   "execution_count": 5,
   "metadata": {
    "collapsed": false
   },
   "outputs": [],
   "source": [
    "def filter_columns(data_frames_list):\n",
    "    # Create list.\n",
    "    new_df_list = list()\n",
    "    \n",
    "    # Look through each dataframe.\n",
    "    for df in data_frames_list:\n",
    "        # Create list of column names to filter by.\n",
    "        columns = ['AGE1', 'FMR', 'TOTSAL', 'year']\n",
    "        # Filter dataframe.\n",
    "        filtered_df = df[columns]\n",
    "        # Append filtered dataframe to 'new_df_list'.\n",
    "        new_df_list.append(filtered_df)\n",
    "\n",
    "    return new_df_list\n",
    "\n",
    "filtered_data_frames_list = filter_columns(data_frames_list)"
   ]
  },
  {
   "cell_type": "markdown",
   "metadata": {},
   "source": [
    "###5: Explanation"
   ]
  },
  {
   "cell_type": "markdown",
   "metadata": {},
   "source": [
    "Let's walk through what we wrote, step by step.\n",
    "\n",
    "In the function above, we used a for loop:\n",
    "\n",
    "for df in data_frames_list:\n",
    "\n",
    "to iterate over all of the object in data_frames_list (which contained our twp DataFrames we added earlier) and applied our column filtering logic. We iterated over a list object by object, referring to the current object we were applying the logic to as df.\n",
    "\n",
    "Instead of hard coding the columns we want at the filter level like we did in the last lesson:\n",
    "\n",
    "    filtered_housing_2013 = housing_2013[[ 'AGE1', 'FMR',  'TOTSAL', 'year' ]]\n",
    "\n",
    "we assigned the column names to a list object, called columns:\n",
    "\n",
    "    columns = ['AGE1', 'FMR', 'TOTSAL', 'year']\n",
    "\n",
    "and passed it into the filter criteria:\n",
    "\n",
    "    filtered_df = df[columns]\n",
    "\n",
    "Instead of creating two different DataFrame objects (like filtered_housing_2005, filtered_housing_2007, etc), we created an empty list called new_df_list:\n",
    "\n",
    "    new_df_list = list()\n",
    "\n",
    "and appended each of the filtered_df objects to it:\n",
    "\n",
    "    new_df_list.append(filtered_df)\n",
    "\n",
    "As you can see, we placed a heavy emphasis on abstracting, or generalizing, our logic so we can detail the logic once, and apply it in many cases. The filter_columns function that we wrote is essentially a piece of software that will filter any list of DataFrame objects into the 4 columns we want. Whether the list of DataFrame objects has 1 DataFrame object or 25, the same function can be applied to get the result we want. Another abstraction we could implement would be to modify the function and specify the columns we want filtered every time by adding it as an input to the function (alongside data_frames_list). This way, instead of always using a specific set of columns within the function, the user can now specify in the input which columns they prefer to filter their DataFrames.\n",
    "\n",
    "This is the power of abstraction. It allows us to automate repetitive work incredibly easily."
   ]
  },
  {
   "cell_type": "markdown",
   "metadata": {},
   "source": [
    "###6: Column Filtering Verification"
   ]
  },
  {
   "cell_type": "markdown",
   "metadata": {},
   "source": [
    "Let's quickly verify that each of the DataFrame objects in filtered_data_frames_list only contains the 4 columns we specified in columns. Here we will write a print() statement within a for loop to print all of the columns in each DataFrame housed in filtered_data_frames_list."
   ]
  },
  {
   "cell_type": "code",
   "execution_count": 6,
   "metadata": {
    "collapsed": false
   },
   "outputs": [
    {
     "name": "stdout",
     "output_type": "stream",
     "text": [
      "df.columns: Index(['AGE1', 'FMR', 'TOTSAL', 'year'], dtype='object')\n",
      "df.columns: Index(['AGE1', 'FMR', 'TOTSAL', 'year'], dtype='object')\n"
     ]
    }
   ],
   "source": [
    "# For every dataframe in the list 'filtered_data_frames_list'.\n",
    "for df in filtered_data_frames_list:\n",
    "    # Print dataframe columns.\n",
    "    print(\"df.columns:\", df.columns)"
   ]
  },
  {
   "cell_type": "markdown",
   "metadata": {},
   "source": [
    "###7: Summary"
   ]
  },
  {
   "cell_type": "markdown",
   "metadata": {},
   "source": [
    "As you can see, our column filter was applied to every DataFrame in the list, filtered_data_frames_list, and each DataFrame now contains only the 4 columns we are interested in."
   ]
  },
  {
   "cell_type": "markdown",
   "metadata": {},
   "source": [
    "###8: Multiple Dataset Analysis"
   ]
  },
  {
   "cell_type": "markdown",
   "metadata": {},
   "source": [
    "Now let's write a function that counts the number of rows in each DataFrame that have negative values for the AGE1 column. We will also use Python's ability to custom print values.\n",
    "\n",
    "In the following code block:\n",
    "\n",
    "    print( str(year) + \" - \" + str(len( negative_age_count ) ) + \" rows\")\n",
    "\n",
    "we use the function str() to convert Integer objects, like year and len(negative_age_count), into String objects. The print function can only print String objects, so we must convert other objects to String objects. While not all objects can be converted to String objects for displaying, most can and we will cover in a later lesson how we can tell."
   ]
  },
  {
   "cell_type": "code",
   "execution_count": 7,
   "metadata": {
    "collapsed": false
   },
   "outputs": [
    {
     "name": "stdout",
     "output_type": "stream",
     "text": [
      "2005 - 3493 rows\n",
      "2007 - 3622 rows\n"
     ]
    }
   ],
   "source": [
    "# For every dataframe in the list 'filtered_data_frames_list'.\n",
    "for df in filtered_data_frames_list:\n",
    "    # Get the dataframe year.\n",
    "    year = df['year'][0]\n",
    "    # Return rows with negative age values.\n",
    "    negative_age_count = df[df['AGE1']<0]\n",
    "    # Print row count.\n",
    "    print(str(year) + \" - \" + str(len( negative_age_count ) ) + \" rows\")"
   ]
  },
  {
   "cell_type": "markdown",
   "metadata": {},
   "source": [
    "###9: Explanation"
   ]
  },
  {
   "cell_type": "markdown",
   "metadata": {},
   "source": [
    "As we loop through filtered_data_frames_list, we print that DataFrame's year, add (using +) a \"-\", add the len(negative_age_count) , and then finally add the text \"rows\".\n",
    "\n",
    "Looks like both 2005 and 2007 have several thousand rows with negative ages. Its our job to clean this up now."
   ]
  },
  {
   "cell_type": "markdown",
   "metadata": {},
   "source": [
    "###10: Multiple Dataset Cleanup"
   ]
  },
  {
   "cell_type": "markdown",
   "metadata": {},
   "source": [
    "If you recall from the previous mission, the 2013 dataset had 4438 rows with negative ages. The 2005 and 2007 datasets are not as bad, but now we have to clean up two years’ data at the same time. Let's write a function that automates the clean up we did in the last mission so that we are left only with the rows that contain positive values for the AGE1 column.\n",
    "\n",
    "Now let's write a function clean_rows() that takes a List of DataFrames and returns a List of cleaned DataFrames with just rows containing positive AGE1 values.\n",
    "\n",
    "Inside the function, we will first instantiate, or create, an empty list with no elements:\n",
    "\n",
    "    cleaned_list = list()\n",
    "\n",
    "Then, we will iterate through each DataFrame in filtered_data_frames_list, create a temporary DataFrame cleaned_df containing just the positive AGE1 rows for each DataFrame:\n",
    "\n",
    "    cleaned_df = df[ df ['AGE1'] > 0 ]\n",
    "\n",
    "And then we will append cleaned_df to cleaned_list for each iteration:\n",
    "\n",
    "    cleaned_list.append(cleaned_df)\n",
    "\n",
    "Let's run this function clean_rows on data_frames_list and assign the results to cleaned_data_frames_list."
   ]
  },
  {
   "cell_type": "code",
   "execution_count": 8,
   "metadata": {
    "collapsed": false
   },
   "outputs": [
    {
     "name": "stdout",
     "output_type": "stream",
     "text": [
      "cleaned_data_frames_list[0]:\n",
      "    AGE1  FMR  TOTSAL  year\n",
      "0    43  680   20000  2005\n",
      "1    44  760   71000  2005\n",
      "2    58  680   63000  2005\n",
      "3    22  519   27040  2005\n",
      "4    48  600   14000  2005\n",
      "cleaned_data_frames_list[1]:\n",
      "    AGE1   FMR  TOTSAL  year\n",
      "1    69  1048       0  2007\n",
      "2    45   757   26000  2007\n",
      "3    47   847  126000  2007\n",
      "4    30   616   42000  2007\n",
      "5    50   605   15000  2007\n"
     ]
    }
   ],
   "source": [
    "def clean_rows(filtered_data_frames_list):\n",
    "    # Create list.\n",
    "    cleaned_list = list()\n",
    "    \n",
    "    # For every dataframe in the list 'filtered_data_frames_list'.\n",
    "    for df in filtered_data_frames_list:\n",
    "        # Return rows with positive age values.\n",
    "        cleaned_df = df[df['AGE1']>0] \n",
    "        # Append filtered dataframe to 'cleaned_list'.\n",
    "        cleaned_list.append(cleaned_df)\n",
    "    return cleaned_list\n",
    "\n",
    "cleaned_data_frames_list = clean_rows(filtered_data_frames_list)\n",
    "\n",
    "print(\"cleaned_data_frames_list[0]:\\n\", cleaned_data_frames_list[0][:5])\n",
    "print(\"cleaned_data_frames_list[1]:\\n\", cleaned_data_frames_list[1][:5])"
   ]
  },
  {
   "cell_type": "markdown",
   "metadata": {},
   "source": [
    "###11: Verify Cleanup"
   ]
  },
  {
   "cell_type": "markdown",
   "metadata": {},
   "source": [
    "Let's write a quick function to verify that cleaned_data_frames_list doesn't contain any DataFrame objects that have negative values for the AGE1 column."
   ]
  },
  {
   "cell_type": "markdown",
   "metadata": {},
   "source": [
    "####Instructions"
   ]
  },
  {
   "cell_type": "markdown",
   "metadata": {},
   "source": [
    "Run the function verify_cleanup on cleaned_data_frames_list and assign the result to a new variable, verification_count."
   ]
  },
  {
   "cell_type": "code",
   "execution_count": 9,
   "metadata": {
    "collapsed": false
   },
   "outputs": [
    {
     "name": "stdout",
     "output_type": "stream",
     "text": [
      "verification_count: 0\n"
     ]
    }
   ],
   "source": [
    "def verify_cleanup(data_frames_list):\n",
    "    # Create count.\n",
    "    negative_rows_count = 0\n",
    "    \n",
    "    # For every dataframe in the list 'data_frames_list'.\n",
    "    for df in data_frames_list:\n",
    "        # Add the number of negative rows to 'negative_rows_count'.\n",
    "        negative_rows_count += len(df[df['AGE1']<0])\n",
    "    return negative_rows_count\n",
    "\n",
    "verification_count = -1\n",
    "verification_count = verify_cleanup(cleaned_data_frames_list)\n",
    "\n",
    "print(\"verification_count:\", verification_count)"
   ]
  },
  {
   "cell_type": "markdown",
   "metadata": {},
   "source": [
    "###12: Summary"
   ]
  },
  {
   "cell_type": "markdown",
   "metadata": {},
   "source": [
    "There are zero 0 rows in all of the DataFrame objects in data_frames_list with negative values for the AGE1 column. Just like with the filter_columns function that we wrote before, clean_rows can now be applied to any future HUD datasets that we want without having to rewrite all of the logic we just wrote."
   ]
  },
  {
   "cell_type": "markdown",
   "metadata": {},
   "source": [
    "###13: Conclusion"
   ]
  },
  {
   "cell_type": "markdown",
   "metadata": {
    "collapsed": false
   },
   "source": [
    "In this mission, you learned the power of automation by using lists, functions, filters and for loops. The process of writing code once that you can then apply in many situations is an underlying concept and principle in programming called Don’t Repeat Yourself, or DRY. By writing abstracted, or generalized, code that is versatile, you not only save yourself precious time, but ensure that your programs run efficiently and without bugs."
   ]
  }
 ],
 "metadata": {
  "kernelspec": {
   "display_name": "Python 3",
   "language": "python",
   "name": "python3"
  },
  "language_info": {
   "codemirror_mode": {
    "name": "ipython",
    "version": 3
   },
   "file_extension": ".py",
   "mimetype": "text/x-python",
   "name": "python",
   "nbconvert_exporter": "python",
   "pygments_lexer": "ipython3",
   "version": "3.4.3"
  }
 },
 "nbformat": 4,
 "nbformat_minor": 0
}
